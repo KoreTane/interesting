{
  "nbformat": 4,
  "nbformat_minor": 0,
  "metadata": {
    "colab": {
      "provenance": [],
      "authorship_tag": "ABX9TyN9KP5FmHrdWff8vnGxFRT1",
      "include_colab_link": true
    },
    "kernelspec": {
      "name": "python3",
      "display_name": "Python 3"
    },
    "language_info": {
      "name": "python"
    }
  },
  "cells": [
    {
      "cell_type": "markdown",
      "metadata": {
        "id": "view-in-github",
        "colab_type": "text"
      },
      "source": [
        "<a href=\"https://colab.research.google.com/github/KoreTane/interesting/blob/main/AnalyserPowerBI.ipynb\" target=\"_parent\"><img src=\"https://colab.research.google.com/assets/colab-badge.svg\" alt=\"Open In Colab\"/></a>"
      ]
    },
    {
      "cell_type": "code",
      "source": [
        "!pip install xlsxwriter"
      ],
      "metadata": {
        "id": "6G2HAF9OatFU"
      },
      "execution_count": null,
      "outputs": []
    },
    {
      "cell_type": "code",
      "source": [
        "import pandas as pd\n",
        "import json\n",
        "\n",
        "## Carregar o arquivo JSON\n",
        "with open('PowerBIPerformanceDataANTES.json', 'r', encoding='utf-8-sig') as file:\n",
        "    dados_json = json.load(file)\n",
        "\n",
        "# Converter os dados em um DataFrame\n",
        "df = pd.DataFrame(dados_json)\n",
        "\n",
        "# Normalizar a coluna 'events'\n",
        "events_df = pd.json_normalize(df['events'])\n",
        "df_final = pd.concat([df.drop(columns=['events']), events_df], axis=1)\n",
        "\n",
        "## Imprimir os nomes das colunas para verificar\n",
        "print(\"Nomes das colunas:\", df_final.columns.tolist())\n",
        "\n",
        "# Selecionar as colunas desejadas (ajustando para os nomes corretos)\n",
        "colunas_desejadas = ['version', 'name', 'component', 'metrics.sourceLabel',\n",
        "                     'metrics.visualType', 'start', 'end']\n",
        "\n",
        "# Verificar se todas as colunas desejadas estão presentes\n",
        "for coluna in colunas_desejadas:\n",
        "    if coluna not in df_final.columns:\n",
        "        print(f\"A coluna '{coluna}' não está presente no DataFrame.\")\n",
        "\n",
        "# Tentar selecionar as colunas desejadas\n",
        "df_selected = df_final.loc[:, colunas_desejadas]\n",
        "\n",
        "## Converter colunas de data (removendo timezone)\n",
        "df_selected['start'] = pd.to_datetime(df_selected['start'], errors='coerce').dt.tz_localize(None)\n",
        "df_selected['end'] = pd.to_datetime(df_selected['end'], errors='coerce').dt.tz_localize(None)\n",
        "\n",
        "# Preencher valores nulos (opcional)\n",
        "df_selected.fillna('Não Especificado', inplace=True)\n",
        "\n",
        "# Renomear colunas para melhor legibilidade\n",
        "df_selected.columns = ['Versão', 'Nome', 'Componente', 'Fonte de Métricas',\n",
        "                       'Tipo Visual', 'Início', 'Fim']\n",
        "\n",
        "# Exportar para um arquivo Excel\n",
        "output_file = 'PowerBIPerformanceData.xlsx'\n",
        "with pd.ExcelWriter(output_file, engine='xlsxwriter') as writer:\n",
        "    df_selected.to_excel(writer, index=False, sheet_name='Dados')\n",
        "\n",
        "    # Acessar o workbook e a worksheet\n",
        "    workbook  = writer.book\n",
        "    worksheet = writer.sheets['Dados']\n",
        "\n",
        "    # Definir formato de cabeçalho\n",
        "    header_format = workbook.add_format({\n",
        "        'bold': True,\n",
        "        'font_color': 'white',\n",
        "        'bg_color': '#4F81BD',\n",
        "        'border': 1,\n",
        "        'align': 'center',\n",
        "        'valign': 'vcenter'\n",
        "    })\n",
        "\n",
        "    # Aplicar o formato ao cabeçalho\n",
        "    for col_num, value in enumerate(df_selected.columns.values):\n",
        "        worksheet.write(0, col_num, value, header_format)\n",
        "\n",
        "    # Ajustar largura das colunas\n",
        "    for i in range(len(df_selected.columns)):\n",
        "        worksheet.set_column(i, i, 20)  # Ajusta a largura para 20 unidades\n",
        "\n",
        "print(f\"Arquivo exportado com sucesso: {output_file}\")"
      ],
      "metadata": {
        "id": "P5cugA05WXLV"
      },
      "execution_count": null,
      "outputs": []
    },
    {
      "cell_type": "code",
      "source": [],
      "metadata": {
        "id": "Dvoqoplqacuj"
      },
      "execution_count": null,
      "outputs": []
    }
  ]
}