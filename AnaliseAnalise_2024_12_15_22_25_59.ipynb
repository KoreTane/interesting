{
  "cells": [
    {
      "cell_type": "markdown",
      "metadata": {
        "id": "view-in-github",
        "colab_type": "text"
      },
      "source": [
        "<a href=\"https://colab.research.google.com/github/KoreTane/interesting/blob/main/AnaliseAnalise_2024_12_15_22_25_59.ipynb\" target=\"_parent\"><img src=\"https://colab.research.google.com/assets/colab-badge.svg\" alt=\"Open In Colab\"/></a>"
      ]
    },
    {
      "cell_type": "code",
      "execution_count": null,
      "metadata": {
        "application/vnd.databricks.v1+cell": {
          "cellMetadata": {
            "byteLimit": 2048000,
            "rowLimit": 10000
          },
          "inputWidgets": {},
          "nuid": "f2bba273-bc53-4e42-a2d8-1ecf3193bc3e",
          "showTitle": false,
          "tableResultSettingsMap": {},
          "title": ""
        },
        "id": "2vygbAazEd4k"
      },
      "outputs": [],
      "source": [
        "from pyspark.sql.functions import *\n",
        "from pyspark.sql.types import *\n",
        "import matplotlib.pyplot as plt\n",
        "from pyspark.sql import functions as F\n",
        "import seaborn as sns\n",
        "import pyspark.pandas as pd\n",
        "import os\n",
        "from pyspark.sql import SparkSession\n",
        "from pyspark.ml.feature import OneHotEncoder, StringIndexer\n",
        "from pyspark.ml import Pipeline\n",
        "from pyspark.ml.feature import StringIndexer, VectorAssembler, MinMaxScaler, StandardScaler\n",
        "from pyspark.ml.stat import Correlation\n",
        "from pyspark.ml.regression import LinearRegression, DecisionTreeRegressor, RandomForestRegressor, GBTRegressor\n",
        "from pyspark.ml.evaluation import RegressionEvaluator\n",
        "from pyspark.ml.tuning import ParamGridBuilder, CrossValidator\n",
        "\n",
        "files = {\n",
        "    \"order_reviews\": \"dbfs:/FileStore/tables/ecommerce/order_reviews.csv\",\n",
        "    \"product_category_name_translation\": \"dbfs:/FileStore/tables/ecommerce/product_category_name_translation.csv\",\n",
        "    \"orders\": \"dbfs:/FileStore/tables/ecommerce/orders.csv\",\n",
        "    \"sellers\": \"dbfs:/FileStore/tables/ecommerce/sellers.csv\",\n",
        "    \"products\": \"dbfs:/FileStore/tables/ecommerce/products.csv\",\n",
        "    \"customers\": \"dbfs:/FileStore/tables/ecommerce/customers.csv\",\n",
        "    \"order_items\": \"dbfs:/FileStore/tables/ecommerce/order_items.csv\",\n",
        "    \"order_payments\": \"dbfs:/FileStore/tables/ecommerce/order_payments.csv\",\n",
        "    \"geolocation\": \"dbfs:/FileStore/tables/ecommerce/geolocation.csv\"\n",
        "}\n",
        "\n",
        "order_reviews = spark.read.csv(files[\"order_reviews\"], inferSchema=True, header=True)\n",
        "product_category_name_translation = spark.read.csv(files[\"product_category_name_translation\"], inferSchema=True, header=True)\n",
        "orders = spark.read.csv(files[\"orders\"], inferSchema=True, header=True)\n",
        "sellers = spark.read.csv(files[\"sellers\"], inferSchema=True, header=True)\n",
        "products = spark.read.csv(files[\"products\"], inferSchema=True, header=True)\n",
        "customers = spark.read.csv(files[\"customers\"], inferSchema=True, header=True)\n",
        "order_items = spark.read.csv(files[\"order_items\"], inferSchema=True, header=True)\n",
        "order_payments = spark.read.csv(files[\"order_payments\"], inferSchema=True, header=True)\n",
        "geolocation = spark.read.csv(files[\"geolocation\"], inferSchema=True, header=True)\n",
        "\n",
        "#display(order_reviews)\n",
        "#display(product_category_name_translation)\n",
        "#display(orders)\n",
        "#display(sellers)\n",
        "#display(products)\n",
        "#display(customers)\n",
        "#display(order_items)\n",
        "#display(order_payments)\n",
        "#display(geolocation)\n",
        "# Definir o esquema do DataFrame para orders"
      ]
    },
    {
      "cell_type": "code",
      "execution_count": null,
      "metadata": {
        "application/vnd.databricks.v1+cell": {
          "cellMetadata": {
            "byteLimit": 2048000,
            "rowLimit": 10000
          },
          "inputWidgets": {},
          "nuid": "a92b1d9f-9169-4978-a7b0-4ce5536381db",
          "showTitle": false,
          "tableResultSettingsMap": {},
          "title": ""
        },
        "id": "MldHZhrGEd4o"
      },
      "outputs": [],
      "source": [
        "#display(order_items)"
      ]
    },
    {
      "cell_type": "code",
      "execution_count": null,
      "metadata": {
        "application/vnd.databricks.v1+cell": {
          "cellMetadata": {
            "byteLimit": 2048000,
            "rowLimit": 10000
          },
          "inputWidgets": {},
          "nuid": "399061fd-ae4a-4375-9df6-b627946fa55a",
          "showTitle": false,
          "tableResultSettingsMap": {},
          "title": ""
        },
        "id": "DzZDjIvhEd4o",
        "outputId": "49f58870-bd5c-4f9b-bdcd-8c143362ac95"
      },
      "outputs": [
        {
          "output_type": "stream",
          "name": "stdout",
          "text": [
            "root\n |-- review_id: string (nullable = true)\n |-- order_id: string (nullable = true)\n |-- review_score: string (nullable = true)\n |-- review_comment_title: string (nullable = true)\n |-- review_comment_message: string (nullable = true)\n |-- review_creation_date: string (nullable = true)\n |-- review_answer_timestamp: string (nullable = true)\n\nroot\n |-- product_category_name: string (nullable = true)\n |-- product_category_name_english: string (nullable = true)\n\nroot\n |-- order_id: string (nullable = true)\n |-- customer_id: string (nullable = true)\n |-- order_status: string (nullable = true)\n |-- order_purchase_timestamp: timestamp (nullable = true)\n |-- order_approved_at: timestamp (nullable = true)\n |-- order_delivered_carrier_date: timestamp (nullable = true)\n |-- order_delivered_customer_date: timestamp (nullable = true)\n |-- order_estimated_delivery_date: timestamp (nullable = true)\n\nroot\n |-- seller_id: string (nullable = true)\n |-- seller_zip_code_prefix: integer (nullable = true)\n |-- seller_city: string (nullable = true)\n |-- seller_state: string (nullable = true)\n\nroot\n |-- product_id: string (nullable = true)\n |-- product_category_name: string (nullable = true)\n |-- product_name_lenght: integer (nullable = true)\n |-- product_description_lenght: integer (nullable = true)\n |-- product_photos_qty: integer (nullable = true)\n |-- product_weight_g: integer (nullable = true)\n |-- product_length_cm: integer (nullable = true)\n |-- product_height_cm: integer (nullable = true)\n |-- product_width_cm: integer (nullable = true)\n\nroot\n |-- customer_id: string (nullable = true)\n |-- customer_unique_id: string (nullable = true)\n |-- customer_zip_code_prefix: integer (nullable = true)\n |-- customer_city: string (nullable = true)\n |-- customer_state: string (nullable = true)\n\nroot\n |-- order_id: string (nullable = true)\n |-- order_item_id: integer (nullable = true)\n |-- product_id: string (nullable = true)\n |-- seller_id: string (nullable = true)\n |-- shipping_limit_date: timestamp (nullable = true)\n |-- price: double (nullable = true)\n |-- freight_value: double (nullable = true)\n\nroot\n |-- order_id: string (nullable = true)\n |-- payment_sequential: integer (nullable = true)\n |-- payment_type: string (nullable = true)\n |-- payment_installments: integer (nullable = true)\n |-- payment_value: double (nullable = true)\n\nroot\n |-- geolocation_zip_code_prefix: integer (nullable = true)\n |-- geolocation_lat: double (nullable = true)\n |-- geolocation_lng: double (nullable = true)\n |-- geolocation_city: string (nullable = true)\n |-- geolocation_state: string (nullable = true)\n\n"
          ]
        }
      ],
      "source": [
        "order_reviews.printSchema()\n",
        "product_category_name_translation.printSchema()\n",
        "orders.printSchema()\n",
        "sellers.printSchema()\n",
        "products.printSchema()\n",
        "customers.printSchema()\n",
        "order_items.printSchema()\n",
        "order_payments.printSchema()\n",
        "geolocation.printSchema()"
      ]
    },
    {
      "cell_type": "code",
      "execution_count": null,
      "metadata": {
        "application/vnd.databricks.v1+cell": {
          "cellMetadata": {
            "byteLimit": 2048000,
            "rowLimit": 10000
          },
          "inputWidgets": {},
          "nuid": "f82df5d4-c39e-4cbe-97f6-fe6ad2233132",
          "showTitle": false,
          "tableResultSettingsMap": {},
          "title": ""
        },
        "id": "2621VThUEd4p",
        "outputId": "2a8737b8-8746-4cc3-e4a6-70f1334ea279"
      },
      "outputs": [
        {
          "output_type": "stream",
          "name": "stdout",
          "text": [
            "Descriptive Statistics for Order Reviews:\n+-------+------------------+-----------------------------------------+---------------------+--------------------+----------------------+------------------------------------------------------------------+-----------------------------------------------+\n|summary|review_id         |order_id                                 |review_score         |review_comment_title|review_comment_message|review_creation_date                                              |review_answer_timestamp                        |\n+-------+------------------+-----------------------------------------+---------------------+--------------------+----------------------+------------------------------------------------------------------+-----------------------------------------------+\n|count  |104161            |101926                                   |101782               |12005               |41083                 |95398                                                             |95377                                          |\n|mean   |4.5               |0.0                                      |4.087204087597126    |3.165434995880696E10|8.172413793103448     |null                                                              |null                                           |\n|stddev |0.7071067811865476|0.0                                      |1.3750046423971858   |5.625434750908947E11|3.1175650470615843    |null                                                              |null                                           |\n|min    | \"                |                                         | \"                   |                    |\\n                    | FOI A MINHA PRIMEIRA COMPRA E NÃO RECOMENDO                      | POIS NÃO CUMPREM PARA DE ENTREGA ESTABELECIDO.|\n|max    |🤙🏼👏🏼👏🏼\"     |visando sempre o melhor para os clientes!|seria mais coerente.\"|🔟                  |😡😡😡😡😡👎👎👎👎👎\\n|veio bem embalada oque indica que foi embalada ja quebrada.triste\"|70 + R$15                                      |\n+-------+------------------+-----------------------------------------+---------------------+--------------------+----------------------+------------------------------------------------------------------+-----------------------------------------------+\n\nDescriptive Statistics for Product Category Name Translation:\n+-------+-------------------------+-----------------------------+\n|summary|product_category_name    |product_category_name_english|\n+-------+-------------------------+-----------------------------+\n|count  |71                       |71                           |\n|mean   |null                     |null                         |\n|stddev |null                     |null                         |\n|min    |agro_industria_e_comercio|agro_industry_and_commerce   |\n|max    |utilidades_domesticas    |watches_gifts                |\n+-------+-------------------------+-----------------------------+\n\nDescriptive Statistics for Orders:\n+-------+--------------------------------+--------------------------------+------------+\n|summary|order_id                        |customer_id                     |order_status|\n+-------+--------------------------------+--------------------------------+------------+\n|count  |99441                           |99441                           |99441       |\n|mean   |null                            |null                            |null        |\n|stddev |null                            |null                            |null        |\n|min    |00010242fe8c5a6d1ba2dd792cb16214|00012a2ce6f8dcda20d059ce98491703|approved    |\n|max    |fffe41c64501cc87c801fd61db3f6244|ffffe8b65bbe3087b653a978c870db99|unavailable |\n+-------+--------------------------------+--------------------------------+------------+\n\nDescriptive Statistics for Sellers:\n+-------+--------------------------------+----------------------+-----------+------------+\n|summary|seller_id                       |seller_zip_code_prefix|seller_city|seller_state|\n+-------+--------------------------------+----------------------+-----------+------------+\n|count  |3095                            |3095                  |3095       |3095        |\n|mean   |null                            |32291.059450726978    |4482255.0  |null        |\n|stddev |null                            |32713.45382950901     |null       |null        |\n|min    |0015a82c2db000af6aaaf3ae2ecb0532|1001                  |04482255   |AC          |\n|max    |ffff564a4f9085cd26170f4732393726|99730                 |xaxim      |SP          |\n+-------+--------------------------------+----------------------+-----------+------------+\n\nDescriptive Statistics for Products:\n+-------+--------------------------------+-------------------------+-------------------+--------------------------+------------------+------------------+------------------+------------------+------------------+\n|summary|product_id                      |product_category_name    |product_name_lenght|product_description_lenght|product_photos_qty|product_weight_g  |product_length_cm |product_height_cm |product_width_cm  |\n+-------+--------------------------------+-------------------------+-------------------+--------------------------+------------------+------------------+------------------+------------------+------------------+\n|count  |32951                           |32341                    |32341              |32341                     |32341             |32949             |32949             |32949             |32949             |\n|mean   |null                            |null                     |48.47694876472589  |771.4952846232337         |2.1889861166939797|2276.4724877841513|30.81507784758263 |16.937661234028347|23.196728277034204|\n|stddev |null                            |null                     |10.245740725237287 |635.1152246349538         |1.7367656379315435|4282.038730977024 |16.914458054065953|13.637554061749569|12.079047453227794|\n|min    |00066f42aeeb9f3007548bb9d3f33c38|agro_industria_e_comercio|5                  |4                         |1                 |0                 |7                 |2                 |6                 |\n|max    |fffe9eeff12fcbd74a2f2b007dde0c58|utilidades_domesticas    |76                 |3992                      |20                |40425             |105               |105               |118               |\n+-------+--------------------------------+-------------------------+-------------------+--------------------------+------------------+------------------+------------------+------------------+------------------+\n\nDescriptive Statistics for Customers:\n+-------+--------------------------------+--------------------------------+------------------------+-------------------+--------------+\n|summary|customer_id                     |customer_unique_id              |customer_zip_code_prefix|customer_city      |customer_state|\n+-------+--------------------------------+--------------------------------+------------------------+-------------------+--------------+\n|count  |99441                           |99441                           |99441                   |99441              |99441         |\n|mean   |null                            |null                            |35137.47458291851       |null               |null          |\n|stddev |null                            |null                            |29797.93899620613       |null               |null          |\n|min    |00012a2ce6f8dcda20d059ce98491703|0000366f3b9a7992bf8c76cfdf3221e2|1003                    |abadia dos dourados|AC            |\n|max    |ffffe8b65bbe3087b653a978c870db99|ffffd2657e2aad2907e67c3e9daecbeb|99990                   |zortea             |TO            |\n+-------+--------------------------------+--------------------------------+------------------------+-------------------+--------------+\n\nDescriptive Statistics for Order Items:\n+-------+--------------------------------+------------------+--------------------------------+--------------------------------+------------------+------------------+\n|summary|order_id                        |order_item_id     |product_id                      |seller_id                       |price             |freight_value     |\n+-------+--------------------------------+------------------+--------------------------------+--------------------------------+------------------+------------------+\n|count  |112650                          |112650            |112650                          |112650                          |112650            |112650            |\n|mean   |null                            |1.1978339991122948|null                            |null                            |120.65373901464174|19.990319928982977|\n|stddev |null                            |0.7051240313951721|null                            |null                            |183.6339280502595 |15.806405412297098|\n|min    |00010242fe8c5a6d1ba2dd792cb16214|1                 |00066f42aeeb9f3007548bb9d3f33c38|0015a82c2db000af6aaaf3ae2ecb0532|0.85              |0.0               |\n|max    |fffe41c64501cc87c801fd61db3f6244|21                |fffe9eeff12fcbd74a2f2b007dde0c58|ffff564a4f9085cd26170f4732393726|6735.0            |409.68            |\n+-------+--------------------------------+------------------+--------------------------------+--------------------------------+------------------+------------------+\n\nDescriptive Statistics for Order Payments:\n+-------+--------------------------------+------------------+------------+--------------------+------------------+\n|summary|order_id                        |payment_sequential|payment_type|payment_installments|payment_value     |\n+-------+--------------------------------+------------------+------------+--------------------+------------------+\n|count  |103886                          |103886            |103886      |103886              |103886            |\n|mean   |null                            |1.0926785129853878|null        |2.853348863176944   |154.10038041698792|\n|stddev |null                            |0.7065837791949958|null        |2.687050673856492   |217.494063864724  |\n|min    |00010242fe8c5a6d1ba2dd792cb16214|1                 |boleto      |0                   |0.0               |\n|max    |fffe41c64501cc87c801fd61db3f6244|29                |voucher     |24                  |13664.08          |\n+-------+--------------------------------+------------------+------------+--------------------+------------------+\n\nDescriptive Statistics for Geolocation:\n+-------+---------------------------+-------------------+-------------------+----------------+-----------------+\n|summary|geolocation_zip_code_prefix|geolocation_lat    |geolocation_lng    |geolocation_city|geolocation_state|\n+-------+---------------------------+-------------------+-------------------+----------------+-----------------+\n|count  |1000163                    |1000163            |1000163            |1000163         |1000163          |\n|mean   |36574.16646586607          |-21.176152910383912|-46.39054132093581 |null            |null             |\n|stddev |30549.335710319807         |5.715866308822884  |4.269748306619736  |null            |null             |\n|min    |1001                       |-36.6053744107061  |-101.46676644931476|* cidade        |AC               |\n|max    |99990                      |45.06593318269697  |121.10539381057764 |óleo            |TO               |\n+-------+---------------------------+-------------------+-------------------+----------------+-----------------+\n\n"
          ]
        }
      ],
      "source": [
        "dataframes = {\n",
        "    \"Order Reviews\": order_reviews,\n",
        "    \"Product Category Name Translation\": product_category_name_translation,\n",
        "    \"Orders\": orders,\n",
        "    \"Sellers\": sellers,\n",
        "    \"Products\": products,\n",
        "    \"Customers\": customers,\n",
        "    \"Order Items\": order_items,\n",
        "    \"Order Payments\": order_payments,\n",
        "    \"Geolocation\": geolocation\n",
        "}\n",
        "\n",
        "for name, df3 in dataframes.items():\n",
        "    print(f\"Descriptive Statistics for {name}:\")\n",
        "    df3.describe().show(truncate=False)"
      ]
    },
    {
      "cell_type": "code",
      "execution_count": null,
      "metadata": {
        "application/vnd.databricks.v1+cell": {
          "cellMetadata": {
            "byteLimit": 2048000,
            "rowLimit": 10000
          },
          "inputWidgets": {},
          "nuid": "d1d966ee-23c2-4a31-9223-7b68b23ed7a4",
          "showTitle": false,
          "tableResultSettingsMap": {},
          "title": ""
        },
        "id": "KSy3riyaEd4q"
      },
      "outputs": [],
      "source": [
        "# engenharia de recursos em orders\n",
        "\n",
        "orders = orders.withColumn('order_purchase_timestamp', col('order_purchase_timestamp').cast('timestamp'))\n",
        "orders = orders.withColumn('order_approved_at', col('order_approved_at').cast('timestamp'))\n",
        "orders = orders.withColumn('order_delivered_carrier_date', col('order_delivered_carrier_date').cast('timestamp'))\n",
        "orders = orders.withColumn('order_delivered_customer_date', col('order_delivered_customer_date').cast('timestamp'))\n",
        "orders = orders.withColumn('order_estimated_delivery_date', col('order_estimated_delivery_date').cast('timestamp'))\n",
        "\n",
        "# Calcular durações e criar novas colunas\n",
        "orders = orders.withColumn('days_to_approval', datediff(col('order_approved_at'), col('order_purchase_timestamp')))\n",
        "orders = orders.withColumn('days_to_carrier', datediff(col('order_delivered_carrier_date'), col('order_purchase_timestamp')))\n",
        "orders = orders.withColumn('days_to_delivery', datediff(col('order_delivered_customer_date'), col('order_purchase_timestamp')))\n",
        "orders = orders.withColumn('days_estimated_vs_actual_delivery', datediff(col('order_delivered_customer_date'), col('order_estimated_delivery_date')))\n",
        "\n",
        "orders = orders.withColumn('order_approved_at', col('order_approved_at').cast('timestamp'))\n",
        "order_items = order_items.withColumn('shipping_limit_date', col('shipping_limit_date').cast('timestamp'))\n",
        "\n",
        "joined_df2 = order_items.join(orders, on='order_id')\n",
        "\n",
        "# Calcular a diferença em dias entre shipping_limit_date e order_approved_at\n",
        "joined_df2 = joined_df2.withColumn('days_to_shipping_limit', datediff(col('shipping_limit_date'), col('order_approved_at')))\n",
        "\n",
        "order_items = joined_df2.select('order_id', 'order_item_id', 'product_id', 'seller_id',\n",
        "                                        'shipping_limit_date', 'price', 'freight_value',\n",
        "                                        'days_to_shipping_limit')\n"
      ]
    },
    {
      "cell_type": "code",
      "execution_count": null,
      "metadata": {
        "application/vnd.databricks.v1+cell": {
          "cellMetadata": {
            "byteLimit": 2048000,
            "rowLimit": 10000
          },
          "inputWidgets": {},
          "nuid": "5796d666-5bd2-411e-8cb5-0e9b67c2d6a5",
          "showTitle": false,
          "tableResultSettingsMap": {},
          "title": ""
        },
        "id": "TZb8S7C9Ed4r",
        "outputId": "def0b3d6-66a2-4526-847a-bd8e51318a97"
      },
      "outputs": [
        {
          "output_type": "stream",
          "name": "stdout",
          "text": [
            "Out[6]: DataFrame[summary: string, product_id: string, product_category_name: string, product_name_lenght: string, product_description_lenght: string, product_photos_qty: string, product_weight_g: string, product_length_cm: string, product_height_cm: string, product_width_cm: string]"
          ]
        }
      ],
      "source": [
        "products.describe()"
      ]
    },
    {
      "cell_type": "code",
      "execution_count": null,
      "metadata": {
        "application/vnd.databricks.v1+cell": {
          "cellMetadata": {
            "byteLimit": 2048000,
            "rowLimit": 10000
          },
          "inputWidgets": {},
          "nuid": "719fdf94-fb86-45ae-bbbd-37484e3cdf33",
          "showTitle": false,
          "tableResultSettingsMap": {},
          "title": ""
        },
        "id": "aIt6xC9IEd4r",
        "outputId": "4f1332f6-ab3b-4beb-e640-1d7770553a4b"
      },
      "outputs": [
        {
          "output_type": "stream",
          "name": "stdout",
          "text": [
            "Análise da tabela: Order Reviews\nAnálise da tabela: Product Category Name Translation\nAnálise da tabela: Orders\nAnálise da tabela: Sellers\nAnálise da tabela: Products\nAnálise da tabela: Customers\nAnálise da tabela: Order Items\nAnálise da tabela: Order Payments\nAnálise da tabela: Geolocation\n"
          ]
        }
      ],
      "source": [
        "for table_name, df in dataframes.items():\n",
        "    print(f\"Análise da tabela: {table_name}\")\n",
        "\n",
        "\n",
        "    null_counts = {column: df.filter(col(column).isNull()).count() for column in df.columns}\n",
        "\n",
        "\n",
        "    duplicate_count = df.count() - df.distinct().count()"
      ]
    },
    {
      "cell_type": "code",
      "execution_count": null,
      "metadata": {
        "application/vnd.databricks.v1+cell": {
          "cellMetadata": {
            "byteLimit": 2048000,
            "implicitDf": true,
            "rowLimit": 10000
          },
          "inputWidgets": {},
          "nuid": "89f35aed-c7b0-47eb-bdc9-e703c41fd35f",
          "showTitle": false,
          "tableResultSettingsMap": {},
          "title": ""
        },
        "id": "LZh5Ue-uEd4s",
        "outputId": "48a9ada8-c8c8-4c61-f3c5-d9f46e0ed91e"
      },
      "outputs": [
        {
          "output_type": "stream",
          "name": "stdout",
          "text": [
            "+------------+-------------+--------------+--------------------+\n|review_score|total_reviews|total_comments|total_comment_titles|\n+------------+-------------+--------------+--------------------+\n|           1|        11424|          8745|                1873|\n|           2|         3151|          2145|                 478|\n|           3|         8179|          3557|                 824|\n|           4|        19142|          5976|                1735|\n|           5|        57328|         20554|                6658|\n+------------+-------------+--------------+--------------------+\n\n"
          ]
        }
      ],
      "source": [
        "# Aqui podemos ver que o cliente insatisfeito, também faz questão de expressar insatisfação e que precisamos o dobro de clientes extremamente satisfeitos para preencher as lacunas das insatisfações. Também percebemos que o cliente bem atendido faz questão de expressar o seu contentamento, enquanto o consumidor neutro se mostra tambem menos engajado, o que faz total sentido.\n",
        "result_df = order_reviews.alias(\"r\").join(\n",
        "    orders.alias(\"o\"),\n",
        "    on=\"order_id\",\n",
        "    how=\"inner\"\n",
        ").groupBy(\n",
        "    \"r.review_score\"\n",
        ").agg(\n",
        "    F.count(\"r.review_id\").alias(\"total_reviews\"),\n",
        "    F.count(\"r.review_comment_message\").alias(\"total_comments\"),\n",
        "    F.count(\"r.review_comment_title\").alias(\"total_comment_titles\")\n",
        ").orderBy(\n",
        "    \"r.review_score\"\n",
        ")\n",
        "\n",
        "result_df.show()"
      ]
    },
    {
      "cell_type": "code",
      "execution_count": null,
      "metadata": {
        "application/vnd.databricks.v1+cell": {
          "cellMetadata": {
            "byteLimit": 2048000,
            "rowLimit": 10000
          },
          "inputWidgets": {},
          "nuid": "4b8fc058-0535-4c15-a9c9-ef16c39a8a28",
          "showTitle": false,
          "tableResultSettingsMap": {},
          "title": ""
        },
        "id": "8GcujD40Ed4s",
        "outputId": "71112579-1a54-4952-c8e5-bbf5fe7e2f9a"
      },
      "outputs": [
        {
          "output_type": "stream",
          "name": "stdout",
          "text": [
            "+------------+------------+------------------+\n|order_status|review_count|  avg_review_score|\n+------------+------------+------------------+\n|     shipped|        1043|  2.00862895493768|\n|    canceled|         609|1.8111658456486042|\n|    invoiced|         313|1.6613418530351438|\n|     created|           3|2.3333333333333335|\n|   delivered|       96361| 4.155716524320005|\n| unavailable|         597|1.5309882747068677|\n|  processing|         296| 1.277027027027027|\n|    approved|           2|               2.5|\n+------------+------------+------------------+\n\n"
          ]
        }
      ],
      "source": [
        "# crie estratégias de mkt e vendas para melhorar a eficiência do envio e reduzir cancelamentos, indisponibilidades e atrasos.\n",
        "\n",
        "order_reviews = order_reviews.withColumn('days_to_response', datediff(col('review_answer_timestamp'), col('review_creation_date')))\n",
        "\n",
        "\n",
        "reviews_by_status = order_reviews.join(orders, 'order_id').groupBy('order_status').agg(\n",
        "    count('review_id').alias('review_count'),\n",
        "    avg('review_score').alias('avg_review_score')\n",
        ")\n",
        "\n",
        "reviews_by_status.show()"
      ]
    },
    {
      "cell_type": "code",
      "execution_count": null,
      "metadata": {
        "application/vnd.databricks.v1+cell": {
          "cellMetadata": {
            "byteLimit": 2048000,
            "rowLimit": 10000
          },
          "inputWidgets": {},
          "nuid": "6f2cf577-ed58-4878-b4fc-c000748effb3",
          "showTitle": false,
          "tableResultSettingsMap": {},
          "title": ""
        },
        "id": "7be37g5LEd4t"
      },
      "outputs": [],
      "source": [
        "\n"
      ]
    },
    {
      "cell_type": "code",
      "execution_count": null,
      "metadata": {
        "application/vnd.databricks.v1+cell": {
          "cellMetadata": {
            "byteLimit": 2048000,
            "rowLimit": 10000
          },
          "inputWidgets": {},
          "nuid": "7e250ad1-912f-4e08-934c-d4586a268d6d",
          "showTitle": false,
          "tableResultSettingsMap": {},
          "title": ""
        },
        "id": "qiXE83tvEd4t",
        "outputId": "3f2c6ef3-76a4-4446-9e8a-e6291387f04b"
      },
      "outputs": [
        {
          "output_type": "stream",
          "name": "stdout",
          "text": [
            "+------------+-----------+------------------+-------------------+-----------------+\n|seller_state|order_count|  avg_review_score|stddev_review_score|has_comment_count|\n+------------+-----------+------------------+-------------------+-----------------+\n|          PA|          8|               4.5| 0.9258200997725514|                1|\n|          MS|         49| 4.469387755102041| 1.1565401134476943|               21|\n|          RN|         56| 4.267857142857143| 1.3002247557958646|               19|\n|          GO|        518| 4.254826254826255| 1.2504257954583504|              230|\n|          RS|       2188| 4.214351005484461| 1.2701902795769873|              898|\n|          MT|        145| 4.165517241379311| 1.1785925758166451|               66|\n|          CE|         94| 4.138297872340425|  1.403536729543698|               47|\n|          PE|        445| 4.132584269662921| 1.3230267714752741|              195|\n|          MG|       8794| 4.105867637025244| 1.3306197749728046|             3697|\n|          RJ|       4790| 4.101670146137787| 1.3837259717912298|             2071|\n|          SC|       4059| 4.093865484109386| 1.3452027876165429|             1655|\n|          BA|        643| 4.090202177293935|  1.280556898978617|              306|\n|          PI|         12| 4.083333333333333| 1.5050420310248864|                6|\n|          PR|       8687|4.0722919304708185| 1.3718411129226311|             3638|\n|          DF|        900| 4.033333333333333| 1.3987917875656362|              404|\n|          ES|        367| 4.005449591280654| 1.3849198560559088|              166|\n|          SP|      80153| 4.005077788729055|   1.40207048454311|            35863|\n|          MA|        399|  4.00250626566416| 1.4008230654294047|              225|\n|          SE|         10|               3.9|   1.66332999331662|                1|\n|          PB|         37| 3.864864864864865| 1.6526437097061275|               24|\n+------------+-----------+------------------+-------------------+-----------------+\nonly showing top 20 rows\n\n"
          ]
        }
      ],
      "source": [
        "# VENDEDOR\n",
        "# Os vendedores se concentram em SP e apresentam uma média de avaliações moderada com alta variabilidade indicando inconsistência na satisfação dos clientes. Vendedores do estado de Goiás e RS, demonstram maior consistência e satisfação.\n",
        "\n",
        "# caberia segmentar esses estados para uma analise aprofundada, nessa oportunidade não o faremos\n",
        "\n",
        "order_reviews = order_reviews.withColumn('has_review_comment', when((col('review_comment_message').isNotNull()) | (col('review_comment_title').isNotNull()), 1).otherwise(0))\n",
        "\n",
        "joined_reviews_sellers = order_reviews.join(order_items, 'order_id').join(sellers, 'seller_id')\n",
        "\n",
        "seller_state_analysis = joined_reviews_sellers.groupBy('seller_state').agg(\n",
        "    count('order_id').alias('order_count'),\n",
        "    avg('review_score').alias('avg_review_score'),\n",
        "    stddev('review_score').alias('stddev_review_score'),\n",
        "    sum('has_review_comment').alias('has_comment_count')\n",
        ").orderBy('avg_review_score', ascending=False)\n",
        "\n",
        "seller_state_analysis.show()\n"
      ]
    },
    {
      "cell_type": "code",
      "execution_count": null,
      "metadata": {
        "application/vnd.databricks.v1+cell": {
          "cellMetadata": {
            "byteLimit": 2048000,
            "rowLimit": 10000
          },
          "inputWidgets": {},
          "nuid": "7fc9414c-5126-4c1f-9836-f505e94c8c89",
          "showTitle": false,
          "tableResultSettingsMap": {},
          "title": ""
        },
        "id": "bwR-YcGbEd4u",
        "outputId": "faa2cff0-89a5-44c0-e82d-1e891174e92f"
      },
      "outputs": [
        {
          "output_type": "stream",
          "name": "stdout",
          "text": [
            "+--------------+-----------+------------------+-------------------+--------------------+\n|customer_state|order_count|  avg_review_score|stddev_review_score|review_comment_count|\n+--------------+-----------+------------------+-------------------+--------------------+\n|            SP|      41690| 4.173950587670904|  1.281865634106384|               17312|\n|            RJ|      12765|3.8749706227967096|  1.514694893377469|                5932|\n|            MG|      11625|4.1361720430107525| 1.3059053645086525|                4920|\n|            RS|       5483|4.1333211745394856| 1.3013297034087985|                2110|\n|            PR|       5038| 4.180031758634379| 1.2694944972400062|                1977|\n|            SC|       3623| 4.071763731714049| 1.3451080589151831|                1413|\n|            BA|       3357|3.8608876973488235|  1.441141051801142|                1723|\n|            DF|       2148| 4.064711359404097| 1.3543225698536907|                 876|\n|            GO|       2024| 4.042490118577075| 1.3454939076644754|                 888|\n|            ES|       2016| 4.041666666666667| 1.3555327301951337|                 897|\n|            PE|       1646| 4.011543134872418| 1.4057590363753731|                 850|\n|            CE|       1329| 3.851015801354402| 1.4722588191699253|                 690|\n|            PA|        968|3.8491735537190084| 1.4715430064730233|                 487|\n|            MT|        903| 4.102990033222591|   1.30724652947104|                 426|\n|            MA|        746|3.7640750670241285| 1.5054608479888067|                 367|\n|            MS|        724|4.1187845303867405|  1.337709552559127|                 315|\n|            PB|        531| 4.018832391713747|  1.389863354273567|                 261|\n|            PI|        491| 3.920570264765784|  1.438467325163485|                 236|\n|            RN|        482| 4.105809128630705| 1.3337173398821647|                 221|\n|            AL|        414| 3.751207729468599| 1.5257073905207865|                 208|\n+--------------+-----------+------------------+-------------------+--------------------+\nonly showing top 20 rows\n\n"
          ]
        }
      ],
      "source": [
        "#CONSUMIDOR\n",
        "# o consumidor de SP se mostra mais satisfeito possivelmente também por causa de uma logística eficiente. RS e Paraná também demonstram alta satisfação e consistência, enquanto o Rio de Janeiro pode estar enfrentando desafios que impactam a experiência do cliente ** novamente observamos que o cliente insatisfeito tende a se expressar de alguma forma\n",
        "# também caberia uma investigação no RJ, entender po motivo da inquietude do cliente\n",
        "\n",
        "orders_customers = orders.join(customers, 'customer_id')\n",
        "\n",
        "joined_reviews_customers = orders_customers.join(order_reviews, 'order_id')\n",
        "\n",
        "joined_reviews_customers = joined_reviews_customers.dropDuplicates(['order_id', 'customer_id', 'review_id'])\n",
        "\n",
        "customer_state_analysis = joined_reviews_customers.groupBy('customer_state').agg(\n",
        "    count('order_id').alias('order_count'),\n",
        "    avg('review_score').alias('avg_review_score'),\n",
        "    stddev('review_score').alias('stddev_review_score'),\n",
        "    sum('has_review_comment').alias('review_comment_count')\n",
        ").orderBy('order_count', ascending=False)\n",
        "\n",
        "customer_state_analysis.show()"
      ]
    },
    {
      "cell_type": "code",
      "execution_count": null,
      "metadata": {
        "application/vnd.databricks.v1+cell": {
          "cellMetadata": {
            "byteLimit": 2048000,
            "rowLimit": 10000
          },
          "inputWidgets": {},
          "nuid": "21013a31-e1e1-43e9-a1e5-c2d979aa9196",
          "showTitle": false,
          "tableResultSettingsMap": {},
          "title": ""
        },
        "id": "s0bcv8jiEd4v",
        "outputId": "c0e77eb9-394e-477c-a516-3607aaf87dfc"
      },
      "outputs": [
        {
          "output_type": "stream",
          "name": "stdout",
          "text": [
            "+-------------------+-----------+-----------------+-------------------+--------------------+\n|     Segmento Preço|order_count| avg_review_score|stddev_review_score|review_comment_count|\n+-------------------+-----------+-----------------+-------------------+--------------------+\n|           Na média|      76473|4.110483438599244| 1.3250955818019767|               32767|\n| 80% acima da média|      10784|4.061758160237389| 1.3929003839722456|                4964|\n|80% abaixo da média|      11208| 4.10581727337616| 1.3156470510074691|                4445|\n+-------------------+-----------+-----------------+-------------------+--------------------+\n\n"
          ]
        }
      ],
      "source": [
        "# clientes que pagam acima dos valores médios do mercado tendem a criar maiores expectativas e se não antedidas resultam em avaliações um pouco menores\n",
        "\n",
        "order_price_avg = order_items.groupBy('order_id').agg(F.mean('price').alias('avg_price'))\n",
        "\n",
        "overall_avg_price = order_price_avg.agg(F.mean('avg_price')).collect()[0][0]\n",
        "\n",
        "order_price_avg = order_price_avg.withColumn(\n",
        "    'Segmento Preço',\n",
        "    F.when(order_price_avg['avg_price'] >= overall_avg_price * 1.80, '80% acima da média')\n",
        "     .when(order_price_avg['avg_price'] <= overall_avg_price * 0.20, '80% abaixo da média')\n",
        "     .otherwise('Na média')\n",
        ")\n",
        "\n",
        "order_price_reviews = order_price_avg.join(order_reviews, 'order_id').groupBy('Segmento Preço').agg(\n",
        "    F.count('order_id').alias('order_count'),\n",
        "    F.mean('review_score').alias('avg_review_score'),\n",
        "    stddev('review_score').alias('stddev_review_score'),\n",
        "    sum('has_review_comment').alias('review_comment_count')\n",
        ")\n",
        "\n",
        "order_price_reviews.show()"
      ]
    },
    {
      "cell_type": "code",
      "execution_count": null,
      "metadata": {
        "application/vnd.databricks.v1+cell": {
          "cellMetadata": {
            "byteLimit": 2048000,
            "rowLimit": 10000
          },
          "inputWidgets": {},
          "nuid": "ac20248d-95c8-48ad-a7d7-f5510d8ecaef",
          "showTitle": false,
          "tableResultSettingsMap": {},
          "title": ""
        },
        "id": "xjOg08ufEd4v",
        "outputId": "4c1ddfa9-6458-48d8-fec2-41d2d1ceea8e"
      },
      "outputs": [
        {
          "output_type": "stream",
          "name": "stdout",
          "text": [
            "+-------------------+-----------+-----------------+--------------------+--------------------------+\n|name_length_segment|order_count| avg_review_score|review_comment_count|review_comment_title_count|\n+-------------------+-----------+-----------------+--------------------+--------------------------+\n|           Na média|      66214|4.028456038135594|               32110|                      9064|\n|20% abaixo da média|      16789|4.040808823529412|                7861|                      2132|\n| 20% acima da média|      16083| 4.04059061306984|                7671|                      2238|\n+-------------------+-----------+-----------------+--------------------+--------------------------+\n\n"
          ]
        }
      ],
      "source": [
        "# sem relação com o comprimento da descrição dos produtos testamos 10, 20 e 50\n",
        "# Calcular a média de product_name_length\n",
        "overall_avg_name_length = products.agg(F.mean('product_name_lenght')).collect()[0][0]\n",
        "\n",
        "\n",
        "products_name_length = products.withColumn(\n",
        "    'name_length_segment',\n",
        "    F.when(products['product_name_lenght'] >= overall_avg_name_length * 1.20, '20% acima da média')\n",
        "     .when(products['product_name_lenght'] <= overall_avg_name_length * 0.80, '20% abaixo da média')\n",
        "     .otherwise('Na média')\n",
        ")\n",
        "\n",
        "name_length_analysis = products_name_length.join(order_items, 'product_id').join(order_reviews, 'order_id')\n",
        "\n",
        "name_length_results = name_length_analysis.groupBy('name_length_segment').agg(\n",
        "    F.countDistinct('order_id').alias('order_count'),\n",
        "    F.mean('review_score').alias('avg_review_score'),\n",
        "    F.count('review_comment_message').alias('review_comment_count'),\n",
        "    F.count('review_comment_title').alias('review_comment_title_count')\n",
        ")\n",
        "\n",
        "name_length_results.show()\n"
      ]
    },
    {
      "cell_type": "code",
      "execution_count": null,
      "metadata": {
        "application/vnd.databricks.v1+cell": {
          "cellMetadata": {
            "byteLimit": 2048000,
            "rowLimit": 10000
          },
          "inputWidgets": {},
          "nuid": "0471d160-451c-4548-a2c1-c2224f037c71",
          "showTitle": false,
          "tableResultSettingsMap": {},
          "title": ""
        },
        "id": "gnTFPbmpEd4v",
        "outputId": "3ab1411d-b35c-4f92-c985-8a271731ae49"
      },
      "outputs": [
        {
          "output_type": "stream",
          "name": "stdout",
          "text": [
            "+-------------------+-----------+-----------------+--------------------+--------------------------+\n|     volume_segment|order_count| avg_review_score|review_comment_count|review_comment_title_count|\n+-------------------+-----------+-----------------+--------------------+--------------------------+\n|           Na média|      54552|4.040088802287138|               26520|                      7516|\n| 80% acima da média|      14642|3.969311785000908|                7383|                      1677|\n|80% abaixo da média|      29574|4.049518652226234|               13739|                      4241|\n+-------------------+-----------+-----------------+--------------------+--------------------------+\n\n"
          ]
        }
      ],
      "source": [
        "# sem relação com o volume do produto, testamos 20, 50, 80\n",
        "# Calcular o volume do produto\n",
        "products = products.withColumn('product_volume',\n",
        "    products['product_length_cm'] * products['product_height_cm'] * products['product_width_cm']\n",
        ")\n",
        "\n",
        "overall_avg_volume = products.agg(F.mean('product_volume')).collect()[0][0]\n",
        "\n",
        "products_volume = products.withColumn(\n",
        "    'volume_segment',\n",
        "    F.when(products['product_volume'] >= overall_avg_volume * 1.80, '80% acima da média')\n",
        "     .when(products['product_volume'] <= overall_avg_volume * 0.20, '80% abaixo da média')\n",
        "     .otherwise('Na média')\n",
        ")\n",
        "\n",
        "volume_analysis = products_volume.join(order_items, 'product_id').join(order_reviews, 'order_id')\n",
        "\n",
        "volume_results = volume_analysis.groupBy('volume_segment').agg(\n",
        "    F.countDistinct('order_id').alias('order_count'),\n",
        "    F.mean('review_score').alias('avg_review_score'),\n",
        "    F.count('review_comment_message').alias('review_comment_count'),\n",
        "    F.count('review_comment_title').alias('review_comment_title_count')\n",
        ")\n",
        "\n",
        "volume_results.show()\n"
      ]
    },
    {
      "cell_type": "code",
      "execution_count": null,
      "metadata": {
        "application/vnd.databricks.v1+cell": {
          "cellMetadata": {
            "byteLimit": 2048000,
            "rowLimit": 10000
          },
          "inputWidgets": {},
          "nuid": "bf61afcd-52a4-4173-bd00-b542d7e87681",
          "showTitle": false,
          "tableResultSettingsMap": {},
          "title": ""
        },
        "id": "-Dx9gDNvEd4w",
        "outputId": "b0a7c634-cd73-4969-fb65-72046ae0e0ae"
      },
      "outputs": [
        {
          "output_type": "stream",
          "name": "stdout",
          "text": [
            "+------------------+-----------+------------------+--------------------+--------------------------+\n|   item_id_segment|order_count|  avg_review_score|review_comment_count|review_comment_title_count|\n+------------------+-----------+------------------+--------------------+--------------------------+\n|          Na média|      88699| 4.160001803853482|               35489|                     10119|\n|20% acima da média|       9766|3.6015768994470614|                4964|                      1360|\n+------------------+-----------+------------------+--------------------+--------------------------+\n\n"
          ]
        }
      ],
      "source": [
        "# comprar mais de um produto aumenta as chances de eventuais frustrações do cliente\n",
        "# Calcular a média de order_item_id por order_id\n",
        "order_items_avg_item = order_items.groupBy('order_id').agg(F.mean('order_item_id').alias('avg_order_item_id'))\n",
        "\n",
        "overall_avg_item_id = order_items_avg_item.agg(F.mean('avg_order_item_id')).collect()[0][0]\n",
        "\n",
        "order_items_avg_item = order_items_avg_item.withColumn(\n",
        "    'item_id_segment',\n",
        "    F.when(order_items_avg_item['avg_order_item_id'] >= overall_avg_item_id * 1.20, '20% acima da média')\n",
        "     .when(order_items_avg_item['avg_order_item_id'] <= overall_avg_item_id * 0.80, '20% abaixo da média')\n",
        "     .otherwise('Na média')\n",
        ")\n",
        "\n",
        "order_items_reviews_avg_item = order_items_avg_item.join(order_reviews, 'order_id').groupBy('item_id_segment').agg(\n",
        "    F.count('order_id').alias('order_count'),\n",
        "    F.mean('review_score').alias('avg_review_score'),\n",
        "    F.count('review_comment_message').alias('review_comment_count'),\n",
        "    F.count('review_comment_title').alias('review_comment_title_count')\n",
        ")\n",
        "\n",
        "order_items_reviews_avg_item.show()\n"
      ]
    },
    {
      "cell_type": "code",
      "execution_count": null,
      "metadata": {
        "application/vnd.databricks.v1+cell": {
          "cellMetadata": {
            "byteLimit": 2048000,
            "rowLimit": 10000
          },
          "inputWidgets": {},
          "nuid": "a3aace6b-fdb7-4f55-b6f1-c7372f4b6979",
          "showTitle": false,
          "tableResultSettingsMap": {},
          "title": ""
        },
        "id": "Vlb_UFY0Ed4w",
        "outputId": "af0c7d04-aebd-4dad-d500-cd4e5c5b5a72"
      },
      "outputs": [
        {
          "output_type": "stream",
          "name": "stdout",
          "text": [
            "+--------------+-----------+-----------------+--------------------+--------------------------+\n|shipping_group|order_count| avg_review_score|review_comment_count|review_comment_title_count|\n+--------------+-----------+-----------------+--------------------+--------------------------+\n|    até 1 dias|     112372|4.032472502046773|               47642|                     13434|\n+--------------+-----------+-----------------+--------------------+--------------------------+\n\n"
          ]
        }
      ],
      "source": [
        "# Separar shipping_limit_date em grupos de até 3 dias, até 5 dias e até 7 dias\n",
        "order_items = order_items.withColumn(\n",
        "    'shipping_group',\n",
        "    F.when(F.datediff(order_items['shipping_limit_date'], order_items['shipping_limit_date'].cast('date')) <= 1, 'até 1 dias')\n",
        "     .when(F.datediff(order_items['shipping_limit_date'], order_items['shipping_limit_date'].cast('date')) <= 2, 'até 2 dias')\n",
        "     .when(F.datediff(order_items['shipping_limit_date'], order_items['shipping_limit_date'].cast('date')) <= 3, 'até 3 dias')\n",
        "     .otherwise('mais de 7 dias')\n",
        ")\n",
        "\n",
        "# Join com reviews para calcular a média de review_score em cada grupo\n",
        "shipping_reviews = order_items.join(order_reviews, 'order_id').groupBy('shipping_group').agg(\n",
        "    F.count('order_id').alias('order_count'),\n",
        "    F.mean('review_score').alias('avg_review_score'),\n",
        "    F.count('review_comment_message').alias('review_comment_count'),\n",
        "    F.count('review_comment_title').alias('review_comment_title_count')\n",
        ")\n",
        "\n",
        "shipping_reviews.show()\n"
      ]
    },
    {
      "cell_type": "code",
      "execution_count": null,
      "metadata": {
        "application/vnd.databricks.v1+cell": {
          "cellMetadata": {
            "byteLimit": 2048000,
            "rowLimit": 10000
          },
          "inputWidgets": {},
          "nuid": "031a4e64-6cde-448a-ad85-cbe166918945",
          "showTitle": false,
          "tableResultSettingsMap": {},
          "title": ""
        },
        "id": "evNjWqDoEd4w",
        "outputId": "125b4c53-3589-4f7b-e684-5f2596f4b92b"
      },
      "outputs": [
        {
          "output_type": "stream",
          "name": "stdout",
          "text": [
            "+--------------+-----------+------------------+--------------------+--------------------------+\n|approval_group|order_count|  avg_review_score|review_comment_count|review_comment_title_count|\n+--------------+-----------+------------------+--------------------+--------------------------+\n|    5 a 7 dias|         88|3.9545454545454546|                  38|                        12|\n|    até 3 dias|      97153|4.0907125873622014|               40081|                     11298|\n|    3 a 5 dias|       1757|4.0085372794536145|                 713|                       208|\n|mais de 7 dias|        226| 2.898230088495575|                 145|                        50|\n+--------------+-----------+------------------+--------------------+--------------------------+\n\n+--------------+-----------+------------------+--------------------+--------------------------+\n| carrier_group|order_count|  avg_review_score|review_comment_count|review_comment_title_count|\n+--------------+-----------+------------------+--------------------+--------------------------+\n|    5 a 7 dias|       7159| 3.973879033384551|                3014|                       656|\n|    até 3 dias|      66930| 4.218930225608845|               26788|                      8432|\n|    3 a 5 dias|      16596| 4.078753916606411|                6811|                      1517|\n|mais de 7 dias|       8539|3.1570441503688955|                4364|                       963|\n+--------------+-----------+------------------+--------------------+--------------------------+\n\n+--------------+-----------+------------------+--------------------+--------------------------+\n|delivery_group|order_count|  avg_review_score|review_comment_count|review_comment_title_count|\n+--------------+-----------+------------------+--------------------+--------------------------+\n|    5 a 7 dias|      13976|4.3785060103033775|                5390|                      2124|\n|    até 3 dias|       6951| 4.463530427276651|                2688|                      1178|\n|    3 a 5 dias|       9754|4.4233135124051675|                3705|                      1573|\n|mais de 7 dias|      68543|3.9406795734064746|               29194|                      6693|\n+--------------+-----------+------------------+--------------------+--------------------------+\n\n+-------------------------+-----------+------------------+--------------------+--------------------------+\n|estimated_vs_actual_group|order_count|  avg_review_score|review_comment_count|review_comment_title_count|\n+-------------------------+-----------+------------------+--------------------+--------------------------+\n|               5 a 7 dias|        883|1.8663646659116648|                 552|                       109|\n|               até 3 dias|      91805|4.2696258373726925|               36223|                     10721|\n|               3 a 5 dias|        873|2.3447880870561284|                 495|                       100|\n|           mais de 7 dias|       5663|  1.73106127494261|                3707|                       638|\n+-------------------------+-----------+------------------+--------------------+--------------------------+\n\n"
          ]
        }
      ],
      "source": [
        "# Existe relação da avaliação do consumidor com a esteira de envio dos pedidos, principalmente nos dias para envio\n",
        "orders = orders.withColumn(\n",
        "    'approval_group',\n",
        "    F.when(orders['days_to_approval'] <= 3, 'até 3 dias')\n",
        "     .when(orders['days_to_approval'] <= 5, '3 a 5 dias')\n",
        "     .when(orders['days_to_approval'] <= 7, '5 a 7 dias')\n",
        "     .otherwise('mais de 7 dias')\n",
        ")\n",
        "\n",
        "orders = orders.withColumn(\n",
        "    'carrier_group',\n",
        "    F.when(orders['days_to_carrier'] <= 3, 'até 3 dias')\n",
        "     .when(orders['days_to_carrier'] <= 5, '3 a 5 dias')\n",
        "     .when(orders['days_to_carrier'] <= 7, '5 a 7 dias')\n",
        "     .otherwise('mais de 7 dias')\n",
        ")\n",
        "\n",
        "orders = orders.withColumn(\n",
        "    'delivery_group',\n",
        "    F.when(orders['days_to_delivery'] <= 3, 'até 3 dias')\n",
        "     .when(orders['days_to_delivery'] <= 5, '3 a 5 dias')\n",
        "     .when(orders['days_to_delivery'] <= 7, '5 a 7 dias')\n",
        "     .otherwise('mais de 7 dias')\n",
        ")\n",
        "\n",
        "orders = orders.withColumn(\n",
        "    'estimated_vs_actual_group',\n",
        "    F.when(orders['days_estimated_vs_actual_delivery'] <= 3, 'até 3 dias')\n",
        "     .when(orders['days_estimated_vs_actual_delivery'] <= 5, '3 a 5 dias')\n",
        "     .when(orders['days_estimated_vs_actual_delivery'] <= 7, '5 a 7 dias')\n",
        "     .otherwise('mais de 7 dias')\n",
        ")\n",
        "\n",
        "order_analysis = orders.join(order_reviews, 'order_id')\n",
        "\n",
        "approval_reviews = order_analysis.groupBy('approval_group').agg(\n",
        "    F.count('order_id').alias('order_count'),\n",
        "    F.mean('review_score').alias('avg_review_score'),\n",
        "    F.count('review_comment_message').alias('review_comment_count'),\n",
        "    F.count('review_comment_title').alias('review_comment_title_count')\n",
        ")\n",
        "\n",
        "carrier_reviews = order_analysis.groupBy('carrier_group').agg(\n",
        "    F.count('order_id').alias('order_count'),\n",
        "    F.mean('review_score').alias('avg_review_score'),\n",
        "    F.count('review_comment_message').alias('review_comment_count'),\n",
        "    F.count('review_comment_title').alias('review_comment_title_count')\n",
        ")\n",
        "\n",
        "delivery_reviews = order_analysis.groupBy('delivery_group').agg(\n",
        "    F.count('order_id').alias('order_count'),\n",
        "    F.mean('review_score').alias('avg_review_score'),\n",
        "    F.count('review_comment_message').alias('review_comment_count'),\n",
        "    F.count('review_comment_title').alias('review_comment_title_count')\n",
        ")\n",
        "\n",
        "estimated_vs_actual_reviews = order_analysis.groupBy('estimated_vs_actual_group').agg(\n",
        "    F.count('order_id').alias('order_count'),\n",
        "    F.mean('review_score').alias('avg_review_score'),\n",
        "    F.count('review_comment_message').alias('review_comment_count'),\n",
        "    F.count('review_comment_title').alias('review_comment_title_count')\n",
        ")\n",
        "\n",
        "approval_reviews.show()\n",
        "carrier_reviews.show()\n",
        "delivery_reviews.show()\n",
        "estimated_vs_actual_reviews.show()\n",
        "\n"
      ]
    },
    {
      "cell_type": "code",
      "execution_count": null,
      "metadata": {
        "application/vnd.databricks.v1+cell": {
          "cellMetadata": {
            "byteLimit": 2048000,
            "rowLimit": 10000
          },
          "inputWidgets": {},
          "nuid": "2de9b1c8-1f98-4024-9cec-f8d251dbe4f5",
          "showTitle": false,
          "tableResultSettingsMap": {},
          "title": ""
        },
        "id": "IC2eh5iqEd4w",
        "outputId": "3bf4c881-49d3-4bb9-e3d6-d72770259796"
      },
      "outputs": [
        {
          "output_type": "stream",
          "name": "stdout",
          "text": [
            "Perfil do Consumidor com > 3 Parcelas:\n+-----------+-----------------+\n|order_count| avg_review_score|\n+-----------+-----------------+\n|      28429|4.034366316085687|\n+-----------+-----------------+\n\nPerfil do Consumidor com > 6 Parcelas:\n+-----------+-----------------+\n|order_count| avg_review_score|\n+-----------+-----------------+\n|      12190|3.996800656275636|\n+-----------+-----------------+\n\nPerfil do Consumidor com > 9 Parcelas:\n+-----------+-----------------+\n|order_count| avg_review_score|\n+-----------+-----------------+\n|       5663|3.957443051386191|\n+-----------+-----------------+\n\nPerfil do Consumidor com > 12 Parcelas:\n+-----------+------------------+\n|order_count|  avg_review_score|\n+-----------+------------------+\n|        185|3.8702702702702703|\n+-----------+------------------+\n\nPerfil do Consumidor com > 15 Parcelas:\n+-----------+----------------+\n|order_count|avg_review_score|\n+-----------+----------------+\n|         80|           3.675|\n+-----------+----------------+\n\nPerfil do Consumidor com > 18 Parcelas:\n+-----------+----------------+\n|order_count|avg_review_score|\n+-----------+----------------+\n|         40|             3.6|\n+-----------+----------------+\n\nPerfil do Consumidor com > 21 Parcelas:\n+-----------+----------------+\n|order_count|avg_review_score|\n+-----------+----------------+\n|         20|             3.2|\n+-----------+----------------+\n\n"
          ]
        }
      ],
      "source": [
        "# O maior endividamento pode causar também maior insatisfação do cliente ou seja, também tem relação com o nosso target\n",
        "def calculate_installments_group(order_payments, threshold):\n",
        "    return order_payments.filter(order_payments['payment_installments'] > threshold).join(order_reviews, 'order_id').agg(\n",
        "        F.count('order_id').alias('order_count'),\n",
        "        F.mean('review_score').alias('avg_review_score')\n",
        "    )\n",
        "\n",
        "installment_groups = [3, 6, 9, 12, 15, 18, 21]\n",
        "installment_results = {}\n",
        "\n",
        "for threshold in installment_groups:\n",
        "    group = calculate_installments_group(order_payments, threshold)\n",
        "    installment_results[threshold] = group\n",
        "    print(f'Perfil do Consumidor com > {threshold} Parcelas:')\n",
        "    group.show()\n"
      ]
    },
    {
      "cell_type": "code",
      "execution_count": null,
      "metadata": {
        "application/vnd.databricks.v1+cell": {
          "cellMetadata": {
            "byteLimit": 2048000,
            "rowLimit": 10000
          },
          "inputWidgets": {},
          "nuid": "71dd59c2-c7bf-4a64-b32e-49b8a584fd1e",
          "showTitle": false,
          "tableResultSettingsMap": {},
          "title": ""
        },
        "id": "3tKc6tJ-Ed4x"
      },
      "outputs": [],
      "source": [
        "# Definição da segmentação por Necessidade do Consumidor\n",
        "segmentacoes_necessidade = { \"beleza_saude\": \"Higiene Pessoal\", \"informatica_acessorios\": \"Tecnologia e Acessórios\", \"automotivo\": \"Automóveis e Ferramentas\", \"cama_mesa_banho\": \"Casa e Decoração\", \"moveis_decoracao\": \"Casa e Decoração\", \"esporte_lazer\": \"Esporte e Lazer\", \"perfumaria\": \"Higiene Pessoal\", \"utilidades_domesticas\": \"Casa e Decoração\", \"telefonia\": \"Tecnologia e Acessórios\", \"relogios_presentes\": \"Moda e Acessórios\", \"alimentos_bebidas\": \"Alimentação e Bebidas\", \"bebes\": \"Infantil\", \"papelaria\": \"Trabalho e Estudo\", \"tablets_impressao_imagem\": \"Tecnologia e Acessórios\", \"brinquedos\": \"Infantil\", \"telefonia_fixa\": \"Tecnologia e Acessórios\", \"ferramentas_jardim\": \"Automóveis e Ferramentas\", \"fashion_bolsas_e_acessorios\": \"Moda e Acessórios\", \"eletroportateis\": \"Casa e Decoração\", \"consoles_games\": \"Entretenimento\", \"audio\": \"Entretenimento\", \"fashion_calcados\": \"Moda e Acessórios\", \"cool_stuff\": \"Entretenimento\", \"malas_acessorios\": \"Moda e Acessórios\", \"climatizacao\": \"Casa e Decoração\", \"construcao_ferramentas_construcao\": \"Automóveis e Ferramentas\", \"moveis_cozinha_area_de_servico_jantar_e_jardim\": \"Casa e Decoração\", \"construcao_ferramentas_jardim\": \"Automóveis e Ferramentas\", \"fashion_roupa_masculina\": \"Moda e Acessórios\", \"pet_shop\": \"Animais de Estimação\", \"moveis_escritorio\": \"Casa e Decoração\", \"market_place\": \"Serviços e Outros\", \"eletronicos\": \"Tecnologia e Acessórios\", \"eletrodomesticos\": \"Casa e Decoração\", \"artigos_de_festas\": \"Entretenimento\", \"casa_conforto\": \"Casa e Decoração\", \"construcao_ferramentas_ferramentas\": \"Automóveis e Ferramentas\", \"agro_industria_e_comercio\": \"Automóveis e Ferramentas\", \"moveis_colchao_e_estofado\": \"Casa e Decoração\", \"livros_tecnicos\": \"Trabalho e Estudo\", \"casa_construcao\": \"Automóveis e Ferramentas\", \"instrumentos_musicais\": \"Entretenimento\", \"moveis_sala\": \"Casa e Decoração\", \"construcao_ferramentas_iluminacao\": \"Automóveis e Ferramentas\", \"industria_comercio_e_negocios\": \"Trabalho e Estudo\", \"alimentos\": \"Alimentação e Bebidas\", \"artes\": \"Entretenimento\", \"moveis_quarto\": \"Casa e Decoração\", \"livros_interesse_geral\": \"Entretenimento\", \"construcao_ferramentas_seguranca\": \"Automóveis e Ferramentas\", \"fashion_underwear_e_moda_praia\": \"Moda e Acessórios\", \"fashion_esporte\": \"Moda e Acessórios\", \"sinalizacao_e_seguranca\": \"Automóveis e Ferramentas\", \"pcs\": \"Tecnologia e Acessórios\", \"artigos_de_natal\": \"Entretenimento\", \"fashion_roupa_feminina\": \"Moda e Acessórios\", \"eletrodomesticos_2\": \"Casa e Decoração\", \"livros_importados\": \"Entretenimento\", \"bebidas\": \"Alimentação e Bebidas\", \"cine_foto\": \"Entretenimento\", \"la_cuisine\": \"Casa e Decoração\", \"musica\": \"Entretenimento\", \"casa_conforto_2\": \"Casa e Decoração\", \"portateis_casa_forno_e_cafe\": \"Casa e Decoração\", \"cds_dvds_musicais\": \"Entretenimento\", \"dvds_blu_ray\": \"Entretenimento\", \"flores\": \"Moda e Acessórios\", \"artes_e_artesanato\": \"Entretenimento\", \"fraldas_higiene\": \"Infantil\", \"fashion_roupa_infanto_juvenil\": \"Infantil\", \"seguros_e_servicos\": \"Serviços e Outros\" }\n",
        "\n",
        "# Criação de uma função UDF para mapear as segmentações\n",
        "def segmentacoe_necessidade(categoria):\n",
        "    return segmentacoes_necessidade.get(categoria, \"Necessidades\")\n",
        "\n",
        "segmentacoe_necessidade_udf = udf(segmentacoe_necessidade, StringType())\n",
        "\n",
        "# Adição da coluna de segmentação de sentimento ao DataFrame\n",
        "products = products.withColumn(\n",
        "    \"segmentacao_necessidade\",\n",
        "    segmentacoe_necessidade_udf(col(\"product_category_name\"))\n",
        ")"
      ]
    },
    {
      "cell_type": "code",
      "execution_count": null,
      "metadata": {
        "application/vnd.databricks.v1+cell": {
          "cellMetadata": {
            "byteLimit": 2048000,
            "rowLimit": 10000
          },
          "inputWidgets": {},
          "nuid": "3a12caf0-1ac7-47cb-a407-4bf57d78d8f1",
          "showTitle": false,
          "tableResultSettingsMap": {},
          "title": ""
        },
        "id": "TZ4L1OF8Ed4x"
      },
      "outputs": [],
      "source": [
        "# Definição da segmentação de sentimento\n",
        "segmentacoes = {\n",
        "    \"beleza_saude\": \"Satisfação Alta\",\n",
        "    \"informatica_acessorios\": \"Misto\",\n",
        "    \"automotivo\": \"Satisfação Alta\",\n",
        "    \"cama_mesa_banho\": \"Neutro\",\n",
        "    \"moveis_decoracao\": \"Satisfação Alta\",\n",
        "    \"esporte_lazer\": \"Satisfação Alta\",\n",
        "    \"perfumaria\": \"Satisfação Alta\",\n",
        "    \"utilidades_domesticas\": \"Neutro\",\n",
        "    \"telefonia\": \"Misto\",\n",
        "    \"relogios_presentes\": \"Satisfação Alta\",\n",
        "    \"alimentos_bebidas\": \"Satisfação Alta\",\n",
        "    \"bebes\": \"Satisfação Alta\",\n",
        "    \"papelaria\": \"Neutro\",\n",
        "    \"tablets_impressao_imagem\": \"Misto\",\n",
        "    \"brinquedos\": \"Satisfação Alta\",\n",
        "    \"telefonia_fixa\": \"Neutro\",\n",
        "    \"ferramentas_jardim\": \"Satisfação Alta\",\n",
        "    \"fashion_bolsas_e_acessorios\": \"Satisfação Alta\",\n",
        "    \"eletroportateis\": \"Neutro\",\n",
        "    \"consoles_games\": \"Satisfação Alta\",\n",
        "    \"audio\": \"Satisfação Alta\",\n",
        "    \"fashion_calcados\": \"Misto\",\n",
        "    \"cool_stuff\": \"Satisfação Alta\",\n",
        "    \"malas_acessorios\": \"Satisfação Alta\",\n",
        "    \"climatizacao\": \"Neutro\",\n",
        "    \"construcao_ferramentas_construcao\": \"Satisfação Alta\",\n",
        "    \"moveis_cozinha_area_de_servico_jantar_e_jardim\": \"Satisfação Alta\",\n",
        "    \"construcao_ferramentas_jardim\": \"Satisfação Alta\",\n",
        "    \"fashion_roupa_masculina\": \"Misto\",\n",
        "    \"pet_shop\": \"Satisfação Alta\",\n",
        "    \"moveis_escritorio\": \"Satisfação Alta\",\n",
        "    \"market_place\": \"Neutro\",\n",
        "    \"eletronicos\": \"Misto\",\n",
        "    \"eletrodomesticos\": \"Neutro\",\n",
        "    \"artigos_de_festas\": \"Satisfação Alta\",\n",
        "    \"casa_conforto\": \"Satisfação Alta\",\n",
        "    \"construcao_ferramentas_ferramentas\": \"Satisfação Alta\",\n",
        "    \"agro_industria_e_comercio\": \"Satisfação Alta\",\n",
        "    \"moveis_colchao_e_estofado\": \"Satisfação Alta\",\n",
        "    \"livros_tecnicos\": \"Misto\",\n",
        "    \"casa_construcao\": \"Satisfação Alta\",\n",
        "    \"instrumentos_musicais\": \"Satisfação Alta\",\n",
        "    \"moveis_sala\": \"Satisfação Alta\",\n",
        "    \"construcao_ferramentas_iluminacao\": \"Satisfação Alta\",\n",
        "    \"industria_comercio_e_negocios\": \"Satisfação Alta\",\n",
        "    \"alimentos\": \"Satisfação Alta\",\n",
        "    \"artes\": \"Satisfação Alta\",\n",
        "    \"moveis_quarto\": \"Satisfação Alta\",\n",
        "    \"livros_interesse_geral\": \"Misto\",\n",
        "    \"construcao_ferramentas_seguranca\": \"Satisfação Alta\",\n",
        "    \"fashion_underwear_e_moda_praia\": \"Satisfação Alta\",\n",
        "    \"fashion_esporte\": \"Satisfação Alta\",\n",
        "    \"sinalizacao_e_seguranca\": \"Neutro\",\n",
        "    \"pcs\": \"Neutro\",\n",
        "    \"artigos_de_natal\": \"Satisfação Alta\",\n",
        "    \"fashion_roupa_feminina\": \"Misto\",\n",
        "    \"eletrodomesticos_2\": \"Neutro\",\n",
        "    \"livros_importados\": \"Misto\",\n",
        "    \"bebidas\": \"Satisfação Alta\",\n",
        "    \"cine_foto\": \"Satisfação Alta\",\n",
        "    \"la_cuisine\": \"Satisfação Alta\",\n",
        "    \"musica\": \"Satisfação Alta\",\n",
        "    \"casa_conforto_2\": \"Satisfação Alta\",\n",
        "    \"portateis_casa_forno_e_cafe\": \"Satisfação Alta\",\n",
        "    \"cds_dvds_musicais\": \"Satisfação Alta\",\n",
        "    \"dvds_blu_ray\": \"Satisfação Alta\",\n",
        "    \"flores\": \"Satisfação Alta\",\n",
        "    \"artes_e_artesanato\": \"Satisfação Alta\",\n",
        "    \"fraldas_higiene\": \"Satisfação Alta\",\n",
        "    \"fashion_roupa_infanto_juvenil\": \"Satisfação Alta\",\n",
        "    \"seguros_e_servicos\": \"Neutro\"\n",
        "}\n",
        "\n",
        "# Criação de uma função UDF para mapear as segmentações\n",
        "def segmentacao_sentimento(categoria):\n",
        "    return segmentacoes.get(categoria, \"Neutro\")\n",
        "\n",
        "segmentacao_udf = udf(segmentacao_sentimento, StringType())\n",
        "\n",
        "# Adição da coluna de segmentação de sentimento ao DataFrame\n",
        "products = products.withColumn(\n",
        "    \"segmentacao_sentimento\",\n",
        "    segmentacao_udf(col(\"product_category_name\"))\n",
        ")\n"
      ]
    },
    {
      "cell_type": "code",
      "execution_count": null,
      "metadata": {
        "application/vnd.databricks.v1+cell": {
          "cellMetadata": {
            "byteLimit": 2048000,
            "rowLimit": 10000
          },
          "inputWidgets": {},
          "nuid": "3cb8af6b-9000-4803-b211-0aac3953997a",
          "showTitle": false,
          "tableResultSettingsMap": {},
          "title": ""
        },
        "id": "WNhz5qXMEd4x"
      },
      "outputs": [],
      "source": [
        "# Definição da segmentação por tipo\n",
        "# Definição da segmentação por tipo\n",
        "segmentacoes_tipo = { \"beleza_saude\": \"Uso Pessoal\",\n",
        "                     \"informatica_acessorios\": \"Reposição\",\n",
        "                     \"automotivo\": \"Reposição\",\n",
        "                     \"cama_mesa_banho\": \"Uso Pessoal\",\n",
        "                     \"moveis_decoracao\": \"Decorativo\",\n",
        "                     \"esporte_lazer\": \"Esportivo\",\n",
        "                     \"perfumaria\": \"Uso Pessoal\",\n",
        "                     \"utilidades_domesticas\": \"Reposição\",\n",
        "                     \"telefonia\": \"Reposição\",\n",
        "                     \"relogios_presentes\": \"Presente\",\n",
        "                     \"alimentos_bebidas\": \"Reposição\",\n",
        "                     \"bebes\": \"Uso Pessoal\",\n",
        "                     \"papelaria\": \"Educacional\",\n",
        "                     \"tablets_impressao_imagem\": \"Reposição\",\n",
        "                     \"brinquedos\": \"Presente\",\n",
        "                     \"telefonia_fixa\": \"Reposição\",\n",
        "                     \"ferramentas_jardim\": \"Reposição\",\n",
        "                     \"fashion_bolsas_e_acessorios\": \"Presente\",\n",
        "                     \"eletroportateis\": \"Reposição\",\n",
        "                     \"consoles_games\": \"Presente\",\n",
        "                     \"audio\": \"Uso Pessoal\",\n",
        "                     \"fashion_calcados\": \"Uso Pessoal\",\n",
        "                     \"cool_stuff\": \"Presente\",\n",
        "                     \"malas_acessorios\": \"Presente\",\n",
        "                     \"climatizacao\": \"Reposição\",\n",
        "                     \"construcao_ferramentas_construcao\": \"Reposição\",\n",
        "                     \"moveis_cozinha_area_de_servico_jantar_e_jardim\": \"Decorativo\",\n",
        "                     \"construcao_ferramentas_jardim\": \"Reposição\",\n",
        "                     \"fashion_roupa_masculina\": \"Uso Pessoal\",\n",
        "                     \"pet_shop\": \"Reposição\",\n",
        "                     \"moveis_escritorio\": \"Reposição\",\n",
        "                     \"market_place\": \"Uso Pessoal\",\n",
        "                     \"eletronicos\": \"Reposição\",\n",
        "                     \"eletrodomesticos\": \"Reposição\",\n",
        "                     \"artigos_de_festas\": \"Presente\",\n",
        "                     \"casa_conforto\": \"Decorativo\",\n",
        "                     \"construcao_ferramentas_ferramentas\": \"Reposição\",\n",
        "                     \"agro_industria_e_comercio\": \"Reposição\",\n",
        "                     \"moveis_colchao_e_estofado\": \"Decorativo\",\n",
        "                     \"livros_tecnicos\": \"Educacional\",\n",
        "                     \"casa_construcao\": \"Reposição\",\n",
        "                     \"instrumentos_musicais\": \"Uso Pessoal\",\n",
        "                     \"moveis_sala\": \"Decorativo\",\n",
        "                     \"construcao_ferramentas_iluminacao\": \"Reposição\",\n",
        "                     \"industria_comercio_e_negocios\": \"Reposição\",\n",
        "                     \"alimentos\": \"Reposição\",\n",
        "                     \"artes\": \"Uso Pessoal\",\n",
        "                     \"moveis_quarto\": \"Decorativo\",\n",
        "                     \"livros_interesse_geral\": \"Educacional\",\n",
        "                     \"construcao_ferramentas_seguranca\": \"Reposição\",\n",
        "                     \"fashion_underwear_e_moda_praia\": \"Uso Pessoal\",\n",
        "                     \"fashion_esporte\": \"Uso Pessoal\",\n",
        "                     \"sinalizacao_e_seguranca\": \"Reposição\",\n",
        "                     \"pcs\": \"Reposição\",\n",
        "                     \"artigos_de_natal\": \"Presente\",\n",
        "                     \"fashion_roupa_feminina\": \"Uso Pessoal\",\n",
        "                     \"eletrodomesticos_2\": \"Reposição\",\n",
        "                     \"livros_importados\": \"Educacional\",\n",
        "                     \"bebidas\": \"Reposição\",\n",
        "                     \"cine_foto\": \"Uso Pessoal\",\n",
        "                     \"la_cuisine\": \"Decorativo\",\n",
        "                     \"musica\": \"Uso Pessoal\",\n",
        "                     \"casa_conforto_2\": \"Decorativo\",\n",
        "                     \"portateis_casa_forno_e_cafe\": \"Reposição\",\n",
        "                     \"cds_dvds_musicais\": \"Uso Pessoal\",\n",
        "                     \"dvds_blu_ray\": \"Uso Pessoal\",\n",
        "                     \"flores\": \"Presente\",\n",
        "                     \"artes_e_artesanato\": \"Uso Pessoal\",\n",
        "                     \"fraldas_higiene\": \"Reposição\",\n",
        "                     \"fashion_roupa_infanto_juvenil\": \"Uso Pessoal\",\n",
        "                     \"seguros_e_servicos\": \"Uso Pessoal\" }\n",
        "\n",
        "# Criação de uma função UDF para mapear as segmentações de tipo\n",
        "def segmentacao_tipo(categoria):\n",
        "    return segmentacoes_tipo.get(categoria, \"Uso Pessoal\")\n",
        "\n",
        "segmentacao_tipo_udf = udf(segmentacao_tipo, StringType())\n",
        "\n",
        "# Adição da coluna de segmentação de tipo ao DataFrame\n",
        "products = products.withColumn(\n",
        "    \"segmentacao_tipo\",\n",
        "    segmentacao_tipo_udf(col(\"product_category_name\"))\n",
        ")"
      ]
    },
    {
      "cell_type": "code",
      "execution_count": null,
      "metadata": {
        "application/vnd.databricks.v1+cell": {
          "cellMetadata": {
            "byteLimit": 2048000,
            "rowLimit": 10000
          },
          "inputWidgets": {},
          "nuid": "09de410d-43c3-4c2d-b060-fb3e7332a78a",
          "showTitle": false,
          "tableResultSettingsMap": {},
          "title": ""
        },
        "id": "Lh_ytfZWEd4y"
      },
      "outputs": [],
      "source": [
        "# Definição da segmentação por validade\n",
        "segmentacoes_validade = {\n",
        "    \"beleza_saude\": \"Média Duração\",\n",
        "    \"informatica_acessorios\": \"Longa Duração\",\n",
        "    \"automotivo\": \"Longa Duração\",\n",
        "    \"cama_mesa_banho\": \"Média Duração\",\n",
        "    \"moveis_decoracao\": \"Longa Duração\",\n",
        "    \"esporte_lazer\": \"Média Duração\",\n",
        "    \"perfumaria\": \"Longa Duração\",\n",
        "    \"utilidades_domesticas\": \"Longa Duração\",\n",
        "    \"telefonia\": \"Longa Duração\",\n",
        "    \"relogios_presentes\": \"Longa Duração\",\n",
        "    \"alimentos_bebidas\": \"Curta Duração\",\n",
        "    \"bebes\": \"Curta Duração\",\n",
        "    \"papelaria\": \"Média Duração\",\n",
        "    \"tablets_impressao_imagem\": \"Longa Duração\",\n",
        "    \"brinquedos\": \"Média Duração\",\n",
        "    \"telefonia_fixa\": \"Longa Duração\",\n",
        "    \"ferramentas_jardim\": \"Longa Duração\",\n",
        "    \"fashion_bolsas_e_acessorios\": \"Longa Duração\",\n",
        "    \"eletroportateis\": \"Média Duração\",\n",
        "    \"consoles_games\": \"Longa Duração\",\n",
        "    \"audio\": \"Longa Duração\",\n",
        "    \"fashion_calcados\": \"Média Duração\",\n",
        "    \"cool_stuff\": \"Longa Duração\",\n",
        "    \"malas_acessorios\": \"Longa Duração\",\n",
        "    \"climatizacao\": \"Longa Duração\",\n",
        "    \"construcao_ferramentas_construcao\": \"Longa Duração\",\n",
        "    \"moveis_cozinha_area_de_servico_jantar_e_jardim\": \"Longa Duração\",\n",
        "    \"construcao_ferramentas_jardim\": \"Longa Duração\",\n",
        "    \"fashion_roupa_masculina\": \"Média Duração\",\n",
        "    \"pet_shop\": \"Média Duração\",\n",
        "    \"moveis_escritorio\": \"Longa Duração\",\n",
        "    \"market_place\": \"Não Perecíveis\",\n",
        "    \"eletronicos\": \"Longa Duração\",\n",
        "    \"eletrodomesticos\": \"Longa Duração\",\n",
        "    \"artigos_de_festas\": \"Média Duração\",\n",
        "    \"casa_conforto\": \"Longa Duração\",\n",
        "    \"construcao_ferramentas_ferramentas\": \"Longa Duração\",\n",
        "    \"agro_industria_e_comercio\": \"Longa Duração\",\n",
        "    \"moveis_colchao_e_estofado\": \"Longa Duração\",\n",
        "    \"livros_tecnicos\": \"Não Perecíveis\",\n",
        "    \"casa_construcao\": \"Longa Duração\",\n",
        "    \"instrumentos_musicais\": \"Não Perecíveis\",\n",
        "    \"moveis_sala\": \"Longa Duração\",\n",
        "    \"construcao_ferramentas_iluminacao\": \"Longa Duração\",\n",
        "    \"industria_comercio_e_negocios\": \"Longa Duração\",\n",
        "    \"alimentos\": \"Curta Duração\",\n",
        "    \"artes\": \"Não Perecíveis\",\n",
        "    \"moveis_quarto\": \"Longa Duração\",\n",
        "    \"livros_interesse_geral\": \"Não Perecíveis\",\n",
        "    \"construcao_ferramentas_seguranca\": \"Longa Duração\",\n",
        "    \"fashion_underwear_e_moda_praia\": \"Média Duração\",\n",
        "    \"fashion_esporte\": \"Média Duração\",\n",
        "    \"sinalizacao_e_seguranca\": \"Longa Duração\",\n",
        "    \"pcs\": \"Longa Duração\",\n",
        "    \"artigos_de_natal\": \"Média Duração\",\n",
        "    \"fashion_roupa_feminina\": \"Média Duração\",\n",
        "    \"eletrodomesticos_2\": \"Longa Duração\",\n",
        "    \"livros_importados\": \"Não Perecíveis\",\n",
        "    \"bebidas\": \"Curta Duração\",\n",
        "    \"cine_foto\": \"Longa Duração\",\n",
        "    \"la_cuisine\": \"Longa Duração\",\n",
        "    \"musica\": \"Longa Duração\",\n",
        "    \"casa_conforto_2\": \"Longa Duração\",\n",
        "    \"portateis_casa_forno_e_cafe\": \"Longa Duração\",\n",
        "    \"cds_dvds_musicais\": \"Longa Duração\",\n",
        "    \"dvds_blu_ray\": \"Longa Duração\",\n",
        "    \"flores\": \"Curta Duração\",\n",
        "    \"artes_e_artesanato\": \"Não Perecíveis\",\n",
        "    \"fraldas_higiene\": \"Curta Duração\",\n",
        "    \"fashion_roupa_infanto_juvenil\": \"Média Duração\",\n",
        "    \"seguros_e_servicos\": \"Não Perecíveis\"\n",
        "}\n",
        "\n",
        "# Criação de uma função UDF para mapear as segmentações de validade\n",
        "def segmentacao_validade(categoria):\n",
        "    return segmentacoes_validade.get(categoria, \"Não Perecíveis\")\n",
        "\n",
        "segmentacao_validade_udf = udf(segmentacao_validade, StringType())\n",
        "\n",
        "# Adição da coluna de segmentação de validade ao DataFrame\n",
        "products = products.withColumn(\n",
        "    \"segmentacao_validade\",\n",
        "    segmentacao_validade_udf(col(\"product_category_name\"))\n",
        ")\n"
      ]
    },
    {
      "cell_type": "code",
      "execution_count": null,
      "metadata": {
        "application/vnd.databricks.v1+cell": {
          "cellMetadata": {
            "byteLimit": 2048000,
            "rowLimit": 10000
          },
          "inputWidgets": {},
          "nuid": "9df7e5e4-6c9c-462b-a01a-e0a4cc019c02",
          "showTitle": false,
          "tableResultSettingsMap": {},
          "title": ""
        },
        "id": "wNs8MSPwEd4y"
      },
      "outputs": [],
      "source": [
        "# Definição da segmentação por Utilização Principal\n",
        "segmentacoes_utilizacao = {\n",
        "    \"beleza_saude\": \"Uso Diário\",\n",
        "    \"informatica_acessorios\": \"Trabalho\",\n",
        "    \"automotivo\": \"Trabalho\",\n",
        "    \"cama_mesa_banho\": \"Uso Diário\",\n",
        "    \"moveis_decoracao\": \"Lazer\",\n",
        "    \"esporte_lazer\": \"Lazer\",\n",
        "    \"perfumaria\": \"Uso Diário\",\n",
        "    \"utilidades_domesticas\": \"Uso Diário\",\n",
        "    \"telefonia\": \"Trabalho\",\n",
        "    \"relogios_presentes\": \"Presente\",\n",
        "    \"alimentos_bebidas\": \"Uso Diário\",\n",
        "    \"bebes\": \"Uso Diário\",\n",
        "    \"papelaria\": \"Trabalho\",\n",
        "    \"tablets_impressao_imagem\": \"Trabalho\",\n",
        "    \"brinquedos\": \"Lazer\",\n",
        "    \"telefonia_fixa\": \"Trabalho\",\n",
        "    \"ferramentas_jardim\": \"Trabalho\",\n",
        "    \"fashion_bolsas_e_acessorios\": \"Uso Diário\",\n",
        "    \"eletroportateis\": \"Uso Diário\",\n",
        "    \"consoles_games\": \"Lazer\",\n",
        "    \"audio\": \"Lazer\",\n",
        "    \"fashion_calcados\": \"Uso Diário\",\n",
        "    \"cool_stuff\": \"Lazer\",\n",
        "    \"malas_acessorios\": \"Viagem\",\n",
        "    \"climatizacao\": \"Uso Diário\",\n",
        "    \"construcao_ferramentas_construcao\": \"Trabalho\",\n",
        "    \"moveis_cozinha_area_de_servico_jantar_e_jardim\": \"Uso Diário\",\n",
        "    \"construcao_ferramentas_jardim\": \"Trabalho\",\n",
        "    \"fashion_roupa_masculina\": \"Uso Diário\",\n",
        "    \"pet_shop\": \"Uso Diário\",\n",
        "    \"moveis_escritorio\": \"Trabalho\",\n",
        "    \"market_place\": \"Trabalho\",\n",
        "    \"eletronicos\": \"Trabalho\",\n",
        "    \"eletrodomesticos\": \"Uso Diário\",\n",
        "    \"artigos_de_festas\": \"Lazer\",\n",
        "    \"casa_conforto\": \"Uso Diário\",\n",
        "    \"construcao_ferramentas_ferramentas\": \"Trabalho\",\n",
        "    \"agro_industria_e_comercio\": \"Trabalho\",\n",
        "    \"moveis_colchao_e_estofado\": \"Uso Diário\",\n",
        "    \"livros_tecnicos\": \"Educação\",\n",
        "    \"casa_construcao\": \"Trabalho\",\n",
        "    \"instrumentos_musicais\": \"Lazer\",\n",
        "    \"moveis_sala\": \"Uso Diário\",\n",
        "    \"construcao_ferramentas_iluminacao\": \"Trabalho\",\n",
        "    \"industria_comercio_e_negocios\": \"Trabalho\",\n",
        "    \"alimentos\": \"Uso Diário\",\n",
        "    \"artes\": \"Lazer\",\n",
        "    \"moveis_quarto\": \"Uso Diário\",\n",
        "    \"livros_interesse_geral\": \"Educação\",\n",
        "    \"construcao_ferramentas_seguranca\": \"Trabalho\",\n",
        "    \"fashion_underwear_e_moda_praia\": \"Uso Diário\",\n",
        "    \"fashion_esporte\": \"Lazer\",\n",
        "    \"sinalizacao_e_seguranca\": \"Trabalho\",\n",
        "    \"pcs\": \"Trabalho\",\n",
        "    \"artigos_de_natal\": \"Lazer\",\n",
        "    \"fashion_roupa_feminina\": \"Uso Diário\",\n",
        "    \"eletrodomesticos_2\": \"Uso Diário\",\n",
        "    \"livros_importados\": \"Educação\",\n",
        "    \"bebidas\": \"Uso Diário\",\n",
        "    \"cine_foto\": \"Lazer\",\n",
        "    \"la_cuisine\": \"Uso Diário\",\n",
        "    \"musica\": \"Lazer\",\n",
        "    \"casa_conforto_2\": \"Uso Diário\",\n",
        "    \"portateis_casa_forno_e_cafe\": \"Uso Diário\",\n",
        "    \"cds_dvds_musicais\": \"Lazer\",\n",
        "    \"dvds_blu_ray\": \"Lazer\",\n",
        "    \"flores\": \"Presente\",\n",
        "    \"artes_e_artesanato\": \"Lazer\",\n",
        "    \"fraldas_higiene\": \"Uso Diário\",\n",
        "    \"fashion_roupa_infanto_juvenil\": \"Uso Diário\",\n",
        "    \"seguros_e_servicos\": \"Trabalho\"\n",
        "}\n",
        "\n",
        "# Criação de uma função UDF para mapear as segmentações de utilização principal\n",
        "def segmentacao_utilizacao(categoria):\n",
        "    return segmentacoes_utilizacao.get(categoria, \"Uso Diário\")\n",
        "\n",
        "segmentacao_utilizacao_udf = udf(segmentacao_utilizacao, StringType())\n",
        "\n",
        "# Adição da coluna de segmentação de utilização principal ao DataFrame\n",
        "products = products.withColumn(\n",
        "    \"segmentacao_utilizacao\",\n",
        "    segmentacao_utilizacao_udf(col(\"product_category_name\"))\n",
        ")\n"
      ]
    },
    {
      "cell_type": "code",
      "execution_count": null,
      "metadata": {
        "application/vnd.databricks.v1+cell": {
          "cellMetadata": {
            "byteLimit": 2048000,
            "rowLimit": 10000
          },
          "inputWidgets": {},
          "nuid": "e952f34e-49a0-42e0-bdbc-c8629a917a52",
          "showTitle": false,
          "tableResultSettingsMap": {},
          "title": ""
        },
        "id": "GNZtCwWuEd4y"
      },
      "outputs": [],
      "source": [
        "# Definição da segmentação por Funcionalidade Principal\n",
        "segmentacoes_funcionalidade = {\n",
        "    \"beleza_saude\": \"Conforto\",\n",
        "    \"informatica_acessorios\": \"Trabalho\",\n",
        "    \"automotivo\": \"Especializado\",\n",
        "    \"cama_mesa_banho\": \"Essencial\",\n",
        "    \"moveis_decoracao\": \"Conforto\",\n",
        "    \"esporte_lazer\": \"Entretenimento\",\n",
        "    \"perfumaria\": \"Conforto\",\n",
        "    \"utilidades_domesticas\": \"Essencial\",\n",
        "    \"telefonia\": \"Trabalho\",\n",
        "    \"relogios_presentes\": \"Conforto\",\n",
        "    \"alimentos_bebidas\": \"Essencial\",\n",
        "    \"bebes\": \"Essencial\",\n",
        "    \"papelaria\": \"Trabalho\",\n",
        "    \"tablets_impressao_imagem\": \"Trabalho\",\n",
        "    \"brinquedos\": \"Entretenimento\",\n",
        "    \"telefonia_fixa\": \"Trabalho\",\n",
        "    \"ferramentas_jardim\": \"Especializado\",\n",
        "    \"fashion_bolsas_e_acessorios\": \"Conforto\",\n",
        "    \"eletroportateis\": \"Essencial\",\n",
        "    \"consoles_games\": \"Entretenimento\",\n",
        "    \"audio\": \"Entretenimento\",\n",
        "    \"fashion_calcados\": \"Conforto\",\n",
        "    \"cool_stuff\": \"Entretenimento\",\n",
        "    \"malas_acessorios\": \"Conforto\",\n",
        "    \"climatizacao\": \"Essencial\",\n",
        "    \"construcao_ferramentas_construcao\": \"Especializado\",\n",
        "    \"moveis_cozinha_area_de_servico_jantar_e_jardim\": \"Essencial\",\n",
        "    \"construcao_ferramentas_jardim\": \"Especializado\",\n",
        "    \"fashion_roupa_masculina\": \"Conforto\",\n",
        "    \"pet_shop\": \"Essencial\",\n",
        "    \"moveis_escritorio\": \"Trabalho\",\n",
        "    \"market_place\": \"Trabalho\",\n",
        "    \"eletronicos\": \"Trabalho\",\n",
        "    \"eletrodomesticos\": \"Essencial\",\n",
        "    \"artigos_de_festas\": \"Entretenimento\",\n",
        "    \"casa_conforto\": \"Conforto\",\n",
        "    \"construcao_ferramentas_ferramentas\": \"Especializado\",\n",
        "    \"agro_industria_e_comercio\": \"Especializado\",\n",
        "    \"moveis_colchao_e_estofado\": \"Conforto\",\n",
        "    \"livros_tecnicos\": \"Trabalho\",\n",
        "    \"casa_construcao\": \"Especializado\",\n",
        "    \"instrumentos_musicais\": \"Entretenimento\",\n",
        "    \"moveis_sala\": \"Conforto\",\n",
        "    \"construcao_ferramentas_iluminacao\": \"Especializado\",\n",
        "    \"industria_comercio_e_negocios\": \"Especializado\",\n",
        "    \"alimentos\": \"Essencial\",\n",
        "    \"artes\": \"Entretenimento\",\n",
        "    \"moveis_quarto\": \"Conforto\",\n",
        "    \"livros_interesse_geral\": \"Entretenimento\",\n",
        "    \"construcao_ferramentas_seguranca\": \"Especializado\",\n",
        "    \"fashion_underwear_e_moda_praia\": \"Conforto\",\n",
        "    \"fashion_esporte\": \"Conforto\",\n",
        "    \"sinalizacao_e_seguranca\": \"Especializado\",\n",
        "    \"pcs\": \"Trabalho\",\n",
        "    \"artigos_de_natal\": \"Entretenimento\",\n",
        "    \"fashion_roupa_feminina\": \"Conforto\",\n",
        "    \"eletrodomesticos_2\": \"Essencial\",\n",
        "    \"livros_importados\": \"Entretenimento\",\n",
        "    \"bebidas\": \"Essencial\",\n",
        "    \"cine_foto\": \"Entretenimento\",\n",
        "    \"la_cuisine\": \"Essencial\",\n",
        "    \"musica\": \"Entretenimento\",\n",
        "    \"casa_conforto_2\": \"Conforto\",\n",
        "    \"portateis_casa_forno_e_cafe\": \"Essencial\",\n",
        "    \"cds_dvds_musicais\": \"Entretenimento\",\n",
        "    \"dvds_blu_ray\": \"Entretenimento\",\n",
        "    \"flores\": \"Conforto\",\n",
        "    \"artes_e_artesanato\": \"Entretenimento\",\n",
        "    \"fraldas_higiene\": \"Essencial\",\n",
        "    \"fashion_roupa_infanto_juvenil\": \"Conforto\",\n",
        "    \"seguros_e_servicos\": \"Especializado\"\n",
        "}\n",
        "\n",
        "# Criação de uma função UDF para mapear as segmentações de funcionalidade principal\n",
        "def segmentacao_funcionalidade(categoria):\n",
        "    return segmentacoes_funcionalidade.get(categoria, \"Essencial\")\n",
        "\n",
        "# Registro da UDF\n",
        "segmentacao_funcionalidade_udf = udf(segmentacao_funcionalidade, StringType())\n",
        "\n",
        "# Adição da coluna de segmentação de validade ao DataFrame\n",
        "products = products.withColumn(\n",
        "    \"segmentacoes_funcionalidade\",\n",
        "    segmentacao_funcionalidade_udf(col(\"product_category_name\"))\n",
        ")"
      ]
    },
    {
      "cell_type": "code",
      "execution_count": null,
      "metadata": {
        "application/vnd.databricks.v1+cell": {
          "cellMetadata": {
            "byteLimit": 2048000,
            "rowLimit": 10000
          },
          "inputWidgets": {},
          "nuid": "5d6dba09-feb4-4e81-b2b5-9d6cdb08c0f1",
          "showTitle": false,
          "tableResultSettingsMap": {},
          "title": ""
        },
        "id": "0tp4dtFZEd4y"
      },
      "outputs": [],
      "source": [
        "# Definição da segmentação por Nível de Interatividade\n",
        "segmentacoes_interatividade = {\n",
        "    \"beleza_saude\": \"Média Interatividade\",\n",
        "    \"informatica_acessorios\": \"Alta Interatividade\",\n",
        "    \"automotivo\": \"Média Interatividade\",\n",
        "    \"cama_mesa_banho\": \"Baixa Interatividade\",\n",
        "    \"moveis_decoracao\": \"Baixa Interatividade\",\n",
        "    \"esporte_lazer\": \"Alta Interatividade\",\n",
        "    \"perfumaria\": \"Média Interatividade\",\n",
        "    \"utilidades_domesticas\": \"Média Interatividade\",\n",
        "    \"telefonia\": \"Alta Interatividade\",\n",
        "    \"relogios_presentes\": \"Baixa Interatividade\",\n",
        "    \"alimentos_bebidas\": \"Baixa Interatividade\",\n",
        "    \"bebes\": \"Média Interatividade\",\n",
        "    \"papelaria\": \"Média Interatividade\",\n",
        "    \"tablets_impressao_imagem\": \"Alta Interatividade\",\n",
        "    \"brinquedos\": \"Alta Interatividade\",\n",
        "    \"telefonia_fixa\": \"Alta Interatividade\",\n",
        "    \"ferramentas_jardim\": \"Média Interatividade\",\n",
        "    \"fashion_bolsas_e_acessorios\": \"Baixa Interatividade\",\n",
        "    \"eletroportateis\": \"Média Interatividade\",\n",
        "    \"consoles_games\": \"Alta Interatividade\",\n",
        "    \"audio\": \"Alta Interatividade\",\n",
        "    \"fashion_calcados\": \"Baixa Interatividade\",\n",
        "    \"cool_stuff\": \"Alta Interatividade\",\n",
        "    \"malas_acessorios\": \"Baixa Interatividade\",\n",
        "    \"climatizacao\": \"Média Interatividade\",\n",
        "    \"construcao_ferramentas_construcao\": \"Média Interatividade\",\n",
        "    \"moveis_cozinha_area_de_servico_jantar_e_jardim\": \"Baixa Interatividade\",\n",
        "    \"construcao_ferramentas_jardim\": \"Média Interatividade\",\n",
        "    \"fashion_roupa_masculina\": \"Baixa Interatividade\",\n",
        "    \"pet_shop\": \"Média Interatividade\",\n",
        "    \"moveis_escritorio\": \"Baixa Interatividade\",\n",
        "    \"market_place\": \"Média Interatividade\",\n",
        "    \"eletronicos\": \"Alta Interatividade\",\n",
        "    \"eletrodomesticos\": \"Média Interatividade\",\n",
        "    \"artigos_de_festas\": \"Média Interatividade\",\n",
        "    \"casa_conforto\": \"Baixa Interatividade\",\n",
        "    \"construcao_ferramentas_ferramentas\": \"Média Interatividade\",\n",
        "    \"agro_industria_e_comercio\": \"Média Interatividade\",\n",
        "    \"moveis_colchao_e_estofado\": \"Baixa Interatividade\",\n",
        "    \"livros_tecnicos\": \"Média Interatividade\",\n",
        "    \"casa_construcao\": \"Média Interatividade\",\n",
        "    \"instrumentos_musicais\": \"Alta Interatividade\",\n",
        "    \"moveis_sala\": \"Baixa Interatividade\",\n",
        "    \"construcao_ferramentas_iluminacao\": \"Média Interatividade\",\n",
        "    \"industria_comercio_e_negocios\": \"Média Interatividade\",\n",
        "    \"alimentos\": \"Baixa Interatividade\",\n",
        "    \"artes\": \"Alta Interatividade\",\n",
        "    \"moveis_quarto\": \"Baixa Interatividade\",\n",
        "    \"livros_interesse_geral\": \"Baixa Interatividade\",\n",
        "    \"construcao_ferramentas_seguranca\": \"Média Interatividade\",\n",
        "    \"fashion_underwear_e_moda_praia\": \"Baixa Interatividade\",\n",
        "    \"fashion_esporte\": \"Alta Interatividade\",\n",
        "    \"sinalizacao_e_seguranca\": \"Média Interatividade\",\n",
        "    \"pcs\": \"Alta Interatividade\",\n",
        "    \"artigos_de_natal\": \"Média Interatividade\",\n",
        "    \"fashion_roupa_feminina\": \"Baixa Interatividade\",\n",
        "    \"eletrodomesticos_2\": \"Média Interatividade\",\n",
        "    \"livros_importados\": \"Baixa Interatividade\",\n",
        "    \"bebidas\": \"Baixa Interatividade\",\n",
        "    \"cine_foto\": \"Alta Interatividade\",\n",
        "    \"la_cuisine\": \"Média Interatividade\",\n",
        "    \"musica\": \"Alta Interatividade\",\n",
        "    \"casa_conforto_2\": \"Baixa Interatividade\",\n",
        "    \"portateis_casa_forno_e_cafe\": \"Média Interatividade\",\n",
        "    \"cds_dvds_musicais\": \"Alta Interatividade\",\n",
        "    \"dvds_blu_ray\": \"Alta Interatividade\",\n",
        "    \"flores\": \"Baixa Interatividade\",\n",
        "    \"artes_e_artesanato\": \"Alta Interatividade\",\n",
        "    \"fraldas_higiene\": \"Média Interatividade\",\n",
        "    \"fashion_roupa_infanto_juvenil\": \"Baixa Interatividade\",\n",
        "    \"seguros_e_servicos\": \"Média Interatividade\"\n",
        "}\n",
        "# Criação de uma função UDF para mapear as segmentações de funcionalidade principal\n",
        "def segmentacao_interatividade(categoria):\n",
        "    return segmentacoes_interatividade.get(categoria, \"Média Interatividade\")\n",
        "\n",
        "# Registro da UDF\n",
        "segmentacao_interatividade_udf = udf(segmentacao_interatividade, StringType())\n",
        "\n",
        "# Adição da coluna de segmentação de validade ao DataFrame\n",
        "products = products.withColumn(\n",
        "    \"segmentacao_interatividade\",\n",
        "    segmentacao_interatividade_udf(col(\"product_category_name\"))\n",
        ")\n"
      ]
    },
    {
      "cell_type": "code",
      "execution_count": null,
      "metadata": {
        "application/vnd.databricks.v1+cell": {
          "cellMetadata": {
            "byteLimit": 2048000,
            "rowLimit": 10000
          },
          "inputWidgets": {},
          "nuid": "ea8abebb-6583-4cd3-ab70-3a90cf908ce4",
          "showTitle": false,
          "tableResultSettingsMap": {},
          "title": ""
        },
        "id": "8rdPuXe4Ed4z"
      },
      "outputs": [],
      "source": [
        "# Definição da segmentação por Impacto Ambiental\n",
        "segmentacoes_impacto_ambiental = {\n",
        "    \"beleza_saude\": \"Médio\",\n",
        "    \"informatica_acessorios\": \"Alto\",\n",
        "    \"automotivo\": \"Alto\",\n",
        "    \"cama_mesa_banho\": \"Baixo\",\n",
        "    \"moveis_decoracao\": \"Médio\",\n",
        "    \"esporte_lazer\": \"Médio\",\n",
        "    \"perfumaria\": \"Médio\",\n",
        "    \"utilidades_domesticas\": \"Médio\",\n",
        "    \"telefonia\": \"Alto\",\n",
        "    \"relogios_presentes\": \"Baixo\",\n",
        "    \"alimentos_bebidas\": \"Baixo\",\n",
        "    \"bebes\": \"Baixo\",\n",
        "    \"papelaria\": \"Baixo\",\n",
        "    \"tablets_impressao_imagem\": \"Alto\",\n",
        "    \"brinquedos\": \"Médio\",\n",
        "    \"telefonia_fixa\": \"Alto\",\n",
        "    \"ferramentas_jardim\": \"Médio\",\n",
        "    \"fashion_bolsas_e_acessorios\": \"Médio\",\n",
        "    \"eletroportateis\": \"Alto\",\n",
        "    \"consoles_games\": \"Alto\",\n",
        "    \"audio\": \"Alto\",\n",
        "    \"fashion_calcados\": \"Médio\",\n",
        "    \"cool_stuff\": \"Alto\",\n",
        "    \"malas_acessorios\": \"Médio\",\n",
        "    \"climatizacao\": \"Alto\",\n",
        "    \"construcao_ferramentas_construcao\": \"Alto\",\n",
        "    \"moveis_cozinha_area_de_servico_jantar_e_jardim\": \"Baixo\",\n",
        "    \"construcao_ferramentas_jardim\": \"Alto\",\n",
        "    \"fashion_roupa_masculina\": \"Baixo\",\n",
        "    \"pet_shop\": \"Baixo\",\n",
        "    \"moveis_escritorio\": \"Médio\",\n",
        "    \"market_place\": \"Médio\",\n",
        "    \"eletronicos\": \"Alto\",\n",
        "    \"eletrodomesticos\": \"Alto\",\n",
        "    \"artigos_de_festas\": \"Baixo\",\n",
        "    \"casa_conforto\": \"Baixo\",\n",
        "    \"construcao_ferramentas_ferramentas\": \"Alto\",\n",
        "    \"agro_industria_e_comercio\": \"Alto\",\n",
        "    \"moveis_colchao_e_estofado\": \"Médio\",\n",
        "    \"livros_tecnicos\": \"Baixo\",\n",
        "    \"casa_construcao\": \"Alto\",\n",
        "    \"instrumentos_musicais\": \"Médio\",\n",
        "    \"moveis_sala\": \"Médio\",\n",
        "    \"construcao_ferramentas_iluminacao\": \"Alto\",\n",
        "    \"industria_comercio_e_negocios\": \"Alto\",\n",
        "    \"alimentos\": \"Baixo\",\n",
        "    \"artes\": \"Baixo\",\n",
        "    \"moveis_quarto\": \"Médio\",\n",
        "    \"livros_interesse_geral\": \"Baixo\",\n",
        "    \"construcao_ferramentas_seguranca\": \"Alto\",\n",
        "    \"fashion_underwear_e_moda_praia\": \"Baixo\",\n",
        "    \"fashion_esporte\": \"Baixo\",\n",
        "    \"sinalizacao_e_seguranca\": \"Alto\",\n",
        "    \"pcs\": \"Alto\",\n",
        "    \"artigos_de_natal\": \"Baixo\",\n",
        "    \"fashion_roupa_feminina\": \"Baixo\",\n",
        "    \"eletrodomesticos_2\": \"Alto\",\n",
        "    \"livros_importados\": \"Baixo\",\n",
        "    \"bebidas\": \"Baixo\",\n",
        "    \"cine_foto\": \"Alto\",\n",
        "    \"la_cuisine\": \"Baixo\",\n",
        "    \"musica\": \"Baixo\",\n",
        "    \"casa_conforto_2\": \"Baixo\",\n",
        "    \"portateis_casa_forno_e_cafe\": \"Baixo\",\n",
        "    \"cds_dvds_musicais\": \"Baixo\",\n",
        "    \"dvds_blu_ray\": \"Baixo\",\n",
        "    \"flores\": \"Baixo\",\n",
        "    \"artes_e_artesanato\": \"Baixo\",\n",
        "    \"fraldas_higiene\": \"Baixo\",\n",
        "    \"fashion_roupa_infanto_juvenil\": \"Baixo\",\n",
        "    \"seguros_e_servicos\": \"Baixo\"\n",
        "}\n",
        "\n",
        "# Criação de uma função UDF para mapear as segmentações de funcionalidade principal\n",
        "def segmentacoe_impacto_ambiental(categoria):\n",
        "    return segmentacoes_impacto_ambiental.get(categoria, \"Média Ambiental\")\n",
        "\n",
        "# Registro da UDF\n",
        "segmentacoe_impacto_ambiental_udf = udf(segmentacoe_impacto_ambiental, StringType())\n",
        "\n",
        "# Adição da coluna de segmentação de validade ao DataFrame\n",
        "products = products.withColumn(\n",
        "    \"segmentacoes_impacto_ambiental\",\n",
        "    segmentacoe_impacto_ambiental_udf(col(\"product_category_name\"))\n",
        ")\n"
      ]
    },
    {
      "cell_type": "code",
      "execution_count": null,
      "metadata": {
        "application/vnd.databricks.v1+cell": {
          "cellMetadata": {
            "byteLimit": 2048000,
            "rowLimit": 10000
          },
          "inputWidgets": {},
          "nuid": "e70ca0ab-ed4f-45d9-95ad-24d72ca3fdf9",
          "showTitle": false,
          "tableResultSettingsMap": {},
          "title": ""
        },
        "id": "_sUzcUM2Ed4z"
      },
      "outputs": [],
      "source": [
        "# Definição da segmentação por Interação Humana Necessária\n",
        "segmentacoes_interacao_humana = {\n",
        "    \"beleza_saude\": \"Manual\",\n",
        "    \"informatica_acessorios\": \"Assistido\",\n",
        "    \"automotivo\": \"Assistido\",\n",
        "    \"cama_mesa_banho\": \"Manual\",\n",
        "    \"moveis_decoracao\": \"Manual\",\n",
        "    \"esporte_lazer\": \"Manual\",\n",
        "    \"perfumaria\": \"Manual\",\n",
        "    \"utilidades_domesticas\": \"Assistido\",\n",
        "    \"telefonia\": \"Assistido\",\n",
        "    \"relogios_presentes\": \"Manual\",\n",
        "    \"alimentos_bebidas\": \"Manual\",\n",
        "    \"bebes\": \"Manual\",\n",
        "    \"papelaria\": \"Manual\",\n",
        "    \"tablets_impressao_imagem\": \"Assistido\",\n",
        "    \"brinquedos\": \"Manual\",\n",
        "    \"telefonia_fixa\": \"Assistido\",\n",
        "    \"ferramentas_jardim\": \"Manual\",\n",
        "    \"fashion_bolsas_e_acessorios\": \"Manual\",\n",
        "    \"eletroportateis\": \"Assistido\",\n",
        "    \"consoles_games\": \"Assistido\",\n",
        "    \"audio\": \"Assistido\",\n",
        "    \"fashion_calcados\": \"Manual\",\n",
        "    \"cool_stuff\": \"Assistido\",\n",
        "    \"malas_acessorios\": \"Manual\",\n",
        "    \"climatizacao\": \"Assistido\",\n",
        "    \"construcao_ferramentas_construcao\": \"Manual\",\n",
        "    \"moveis_cozinha_area_de_servico_jantar_e_jardim\": \"Manual\",\n",
        "    \"construcao_ferramentas_jardim\": \"Manual\",\n",
        "    \"fashion_roupa_masculina\": \"Manual\",\n",
        "    \"pet_shop\": \"Manual\",\n",
        "    \"moveis_escritorio\": \"Manual\",\n",
        "    \"market_place\": \"Assistido\",\n",
        "    \"eletronicos\": \"Assistido\",\n",
        "    \"eletrodomesticos\": \"Assistido\",\n",
        "    \"artigos_de_festas\": \"Manual\",\n",
        "    \"casa_conforto\": \"Manual\",\n",
        "    \"construcao_ferramentas_ferramentas\": \"Manual\",\n",
        "    \"agro_industria_e_comercio\": \"Assistido\",\n",
        "    \"moveis_colchao_e_estofado\": \"Manual\",\n",
        "    \"livros_tecnicos\": \"Manual\",\n",
        "    \"casa_construcao\": \"Manual\",\n",
        "    \"instrumentos_musicais\": \"Manual\",\n",
        "    \"moveis_sala\": \"Manual\",\n",
        "    \"construcao_ferramentas_iluminacao\": \"Manual\",\n",
        "    \"industria_comercio_e_negocios\": \"Assistido\",\n",
        "    \"alimentos\": \"Manual\",\n",
        "    \"artes\": \"Manual\",\n",
        "    \"moveis_quarto\": \"Manual\",\n",
        "    \"livros_interesse_geral\": \"Manual\",\n",
        "    \"construcao_ferramentas_seguranca\": \"Assistido\",\n",
        "    \"fashion_underwear_e_moda_praia\": \"Manual\",\n",
        "    \"fashion_esporte\": \"Manual\",\n",
        "    \"sinalizacao_e_seguranca\": \"Assistido\",\n",
        "    \"pcs\": \"Assistido\",\n",
        "    \"artigos_de_natal\": \"Manual\",\n",
        "    \"fashion_roupa_feminina\": \"Manual\",\n",
        "    \"eletrodomesticos_2\": \"Assistido\",\n",
        "    \"livros_importados\": \"Manual\",\n",
        "    \"bebidas\": \"Manual\",\n",
        "    \"cine_foto\": \"Assistido\",\n",
        "    \"la_cuisine\": \"Manual\",\n",
        "    \"musica\": \"Manual\",\n",
        "    \"casa_conforto_2\": \"Manual\",\n",
        "    \"portateis_casa_forno_e_cafe\": \"Assistido\",\n",
        "    \"cds_dvds_musicais\": \"Manual\",\n",
        "    \"dvds_blu_ray\": \"Manual\",\n",
        "    \"flores\": \"Manual\",\n",
        "    \"artes_e_artesanato\": \"Manual\",\n",
        "    \"fraldas_higiene\": \"Manual\",\n",
        "    \"fashion_roupa_infanto_juvenil\": \"Manual\",\n",
        "    \"seguros_e_servicos\": \"Assistido\"\n",
        "}\n",
        "\n",
        "# Criação de uma função UDF para mapear as segmentações de funcionalidade principal\n",
        "def segmentacoe_interacao_humana(categoria):\n",
        "    return segmentacoes_interacao_humana.get(categoria, \"Interação Humana\")\n",
        "\n",
        "# Registro da UDF\n",
        "segmentacoe_interacao_humana_udf = udf(segmentacoe_interacao_humana, StringType())\n",
        "\n",
        "# Adição da coluna de segmentação de validade ao DataFrame\n",
        "products = products.withColumn(\n",
        "    \"segmentacoes_interacao_humana\",\n",
        "    segmentacoe_interacao_humana_udf(col(\"product_category_name\"))\n",
        ")"
      ]
    },
    {
      "cell_type": "code",
      "execution_count": null,
      "metadata": {
        "application/vnd.databricks.v1+cell": {
          "cellMetadata": {
            "byteLimit": 2048000,
            "rowLimit": 10000
          },
          "inputWidgets": {},
          "nuid": "a7ae27cb-b14f-43c5-bc9c-6b1a87187a82",
          "showTitle": false,
          "tableResultSettingsMap": {},
          "title": ""
        },
        "id": "8o2Gn6__Ed4z",
        "outputId": "4842fe1a-781d-46ae-848f-c9d3aed719c2"
      },
      "outputs": [
        {
          "output_type": "stream",
          "name": "stdout",
          "text": [
            "Out[28]: DataFrame[summary: string, product_category_name: string, product_category_name_english: string]"
          ]
        }
      ],
      "source": [
        "product_category_name_translation.describe()"
      ]
    },
    {
      "cell_type": "code",
      "execution_count": null,
      "metadata": {
        "application/vnd.databricks.v1+cell": {
          "cellMetadata": {
            "byteLimit": 2048000,
            "rowLimit": 10000
          },
          "inputWidgets": {},
          "nuid": "cca727c0-a751-47d6-b895-aece4d65089a",
          "showTitle": false,
          "tableResultSettingsMap": {},
          "title": ""
        },
        "id": "eiB5GnUNEd4z",
        "outputId": "c8c60896-72fa-43fb-8e6e-b4307620d0eb"
      },
      "outputs": [
        {
          "output_type": "stream",
          "name": "stdout",
          "text": [
            "Número de pedidos removidos: 2595\nNúmero de pagamentos removidos: 2742\n"
          ]
        }
      ],
      "source": [
        "# Aplicaremos analise de quartis para eliminar os outliers\n",
        "merged_data = orders.join(order_payments, on='order_id', how='inner')\n",
        "\n",
        "# Calcular o valor total por consumidor\n",
        "total_per_consumer = merged_data.groupBy('customer_id').agg(F.sum('payment_value').alias('total_value'))\n",
        "\n",
        "# Calcular Q1, Q3 e IQR\n",
        "Q1 = total_per_consumer.approxQuantile('total_value', [0.10], 0.01)[0]\n",
        "Q3 = total_per_consumer.approxQuantile('total_value', [0.90], 0.01)[0]\n",
        "IQR = Q3 - Q1\n",
        "\n",
        "# Definir limites inferior e superior\n",
        "lower_bound = Q1 - 1.5 * IQR\n",
        "upper_bound = Q3 + 1.5 * IQR\n",
        "\n",
        "# Filtrar os consumidores que estão dentro dos limites\n",
        "valid_customers = total_per_consumer.filter((F.col('total_value') >= lower_bound) & (F.col('total_value') <= upper_bound)).select('customer_id')\n",
        "\n",
        "# Filtrar as tabelas orders e order_payments para remover os outliers\n",
        "filtered_orders = orders.join(valid_customers, on='customer_id', how='inner')\n",
        "filtered_order_payments = order_payments.join(filtered_orders.select('order_id'), on='order_id', how='inner')\n",
        "\n",
        "# Exibir o número de registros removidos\n",
        "removed_orders_count = orders.count() - filtered_orders.count()\n",
        "removed_payments_count = order_payments.count() - filtered_order_payments.count()\n",
        "\n",
        "print(f\"Número de pedidos removidos: {removed_orders_count}\")\n",
        "print(f\"Número de pagamentos removidos: {removed_payments_count}\")\n",
        "\n",
        "orders = filtered_orders\n",
        "order_payments = filtered_order_payments"
      ]
    },
    {
      "cell_type": "code",
      "execution_count": null,
      "metadata": {
        "application/vnd.databricks.v1+cell": {
          "cellMetadata": {
            "byteLimit": 2048000,
            "rowLimit": 10000
          },
          "inputWidgets": {},
          "nuid": "ed62a65f-5a97-4dfd-8a09-26b58dcba49a",
          "showTitle": false,
          "tableResultSettingsMap": {},
          "title": ""
        },
        "id": "jlKturFWEd40",
        "outputId": "9b8ef6f3-6fe4-4c89-e029-e2d106f9e659"
      },
      "outputs": [
        {
          "output_type": "stream",
          "name": "stdout",
          "text": [
            "Número de consumidores que compraram mais de um product_id: 3114\n"
          ]
        }
      ],
      "source": [
        "# Unir as tabelas orders e order_items com base no order_id\n",
        "merged_data = orders.join(order_items, on='order_id', how='inner')\n",
        "\n",
        "# Agrupar por customer_id e contar o número de produtos distintos (product_id) comprados por cada consumidor\n",
        "product_count_per_customer = merged_data.groupBy('customer_id').agg(\n",
        "    F.countDistinct('product_id').alias('distinct_product_count')  # Contar produtos distintos\n",
        ")\n",
        "\n",
        "# Filtrar consumidores que compraram mais de um produto\n",
        "customers_with_multiple_products = product_count_per_customer.filter(\n",
        "    F.col('distinct_product_count') > 1\n",
        ")\n",
        "\n",
        "# Contar quantos consumidores compraram mais de um produto\n",
        "number_of_customers = customers_with_multiple_products.count()\n",
        "\n",
        "print(f\"Número de consumidores que compraram mais de um product_id: {number_of_customers}\")"
      ]
    },
    {
      "cell_type": "code",
      "execution_count": null,
      "metadata": {
        "application/vnd.databricks.v1+cell": {
          "cellMetadata": {
            "byteLimit": 2048000,
            "rowLimit": 10000
          },
          "inputWidgets": {},
          "nuid": "e9ec69d2-8cb6-48bb-9a45-69a8a73b63a6",
          "showTitle": false,
          "tableResultSettingsMap": {},
          "title": ""
        },
        "id": "jZJGdiFZEd40",
        "outputId": "9c10fcd3-75a4-491c-c4de-d93ba9ff8809"
      },
      "outputs": [
        {
          "output_type": "stream",
          "name": "stdout",
          "text": [
            "Columns in final_order_items after join: ['product_id', 'order_id', 'order_item_id', 'seller_id', 'shipping_limit_date', 'price', 'freight_value', 'days_to_shipping_limit', 'shipping_group', 'product_category_name', 'product_name_lenght', 'product_description_lenght', 'product_photos_qty', 'product_weight_g', 'product_length_cm', 'product_height_cm', 'product_width_cm', 'product_volume', 'segmentacao_necessidade', 'segmentacao_sentimento', 'segmentacao_tipo', 'segmentacao_validade', 'segmentacao_utilizacao', 'segmentacoes_funcionalidade', 'segmentacao_interatividade', 'segmentacoes_impacto_ambiental', 'segmentacoes_interacao_humana']\n"
          ]
        }
      ],
      "source": [
        "# Join entre order_items e products para obter todas as informações necessárias\n",
        "final_order_items = order_items.join(products, on='product_id')\n",
        "\n",
        "# Aplicar StringIndexer nas colunas de segmentação\n",
        "categorical_cols = [\n",
        "    'segmentacao_necessidade', 'segmentacao_sentimento',\n",
        "    'segmentacao_tipo', 'segmentacao_validade',\n",
        "    'segmentacao_utilizacao', 'segmentacoes_funcionalidade',\n",
        "    'segmentacao_interatividade', 'segmentacoes_impacto_ambiental',\n",
        "    'segmentacoes_interacao_humana'\n",
        "]\n",
        "\n",
        "final_order_items_cols = final_order_items.columns\n",
        "print(\"Columns in final_order_items after join:\", final_order_items_cols)\n",
        "\n",
        "categorical_cols = [col for col in categorical_cols if col in final_order_items_cols]\n",
        "\n",
        "indexers = [StringIndexer(inputCol=col, outputCol=col + \"_index\") for col in categorical_cols]\n",
        "\n",
        "pipeline = Pipeline(stages=indexers)\n",
        "\n"
      ]
    },
    {
      "cell_type": "code",
      "execution_count": null,
      "metadata": {
        "application/vnd.databricks.v1+cell": {
          "cellMetadata": {
            "byteLimit": 2048000,
            "rowLimit": 10000
          },
          "inputWidgets": {},
          "nuid": "52ea6813-35dd-42f5-a35b-45cabeca37bc",
          "showTitle": false,
          "tableResultSettingsMap": {},
          "title": ""
        },
        "id": "-l4Qg0ePEd40",
        "outputId": "d743ed19-b4e7-4c21-b670-9a7e599afaa4"
      },
      "outputs": [
        {
          "output_type": "stream",
          "name": "stdout",
          "text": [
            "+--------------------+-------------+--------------------+--------------------+-------------------+------+-------------+----------------------+-----------------------------+----------------------------+----------------------+--------------------------+----------------------------+---------------------------------+--------------------------------+------------------------------------+-----------------------------------+\n|            order_id|order_item_id|          product_id|           seller_id|shipping_limit_date| price|freight_value|days_to_shipping_limit|segmentacao_necessidade_index|segmentacao_sentimento_index|segmentacao_tipo_index|segmentacao_validade_index|segmentacao_utilizacao_index|segmentacoes_funcionalidade_index|segmentacao_interatividade_index|segmentacoes_impacto_ambiental_index|segmentacoes_interacao_humana_index|\n+--------------------+-------------+--------------------+--------------------+-------------------+------+-------------+----------------------+-----------------------------+----------------------------+----------------------+--------------------------+----------------------------+---------------------------------+--------------------------------+------------------------------------+-----------------------------------+\n|00010242fe8c5a6d1...|            1|4244733e06e7ecb49...|48436dade18ac8b2b...|2017-09-19 09:45:35|  58.9|        13.29|                     6|                          7.0|                         0.0|                   2.0|                       0.0|                         2.0|                              3.0|                             1.0|                                 1.0|                                1.0|\n|00018f77f2f0320c5...|            1|e5f2d52b802189ee6...|dd7ddc04e1b6c2c61...|2017-05-03 11:05:13| 239.9|        19.93|                     7|                          9.0|                         0.0|                   0.0|                       1.0|                         0.0|                              1.0|                             0.0|                                 2.0|                                0.0|\n|000229ec398224ef6...|            1|c777355d18b72b67a...|5b51032eddd242adc...|2018-01-18 14:48:30| 199.0|        17.87|                     4|                          0.0|                         0.0|                   3.0|                       0.0|                         2.0|                              0.0|                             2.0|                                 0.0|                                0.0|\n|00024acbcdf0a6daa...|            1|7634da152a4610f15...|9d7a1d34a50524090...|2018-08-15 10:10:18| 12.99|        12.79|                     7|                          2.0|                         0.0|                   1.0|                       0.0|                         0.0|                              0.0|                             0.0|                                 0.0|                                0.0|\n|00042b26cf59d7ce6...|            1|ac6c3623068f30de0...|df560393f3a51e745...|2017-02-13 13:57:51| 199.9|        18.14|                     9|                          3.0|                         0.0|                   0.0|                       0.0|                         1.0|                              4.0|                             0.0|                                 0.0|                                0.0|\n|00048cc3ae777c65d...|            1|ef92defde845ab845...|6426d21aca402a131...|2017-05-23 03:55:27|  21.9|        12.69|                     6|                          0.0|                         1.0|                   0.0|                       0.0|                         0.0|                              1.0|                             0.0|                                 0.0|                                1.0|\n|00054e8431b9d7675...|            1|8d4f2bb7e93e6710a...|7040e82f899a04d1b...|2017-12-14 12:10:31|  19.9|        11.85|                     4|                          1.0|                         2.0|                   0.0|                       0.0|                         1.0|                              2.0|                             1.0|                                 1.0|                                1.0|\n|000576fe39319847c...|            1|557d850972a7d6f79...|5996cddab893a4652...|2018-07-10 12:30:45| 810.0|        70.75|                     5|                          3.0|                         0.0|                   0.0|                       0.0|                         1.0|                              4.0|                             0.0|                                 0.0|                                0.0|\n|0005a1a1728c9d785...|            1|310ae3c140ff94b03...|a416b6a846a117243...|2018-03-26 18:31:29|145.95|        11.65|                     6|                          2.0|                         0.0|                   1.0|                       1.0|                         0.0|                              0.0|                             0.0|                                 0.0|                                0.0|\n|0005f50442cb953dc...|            1|4535b0e1091c278df...|ba143b05f0110f0dc...|2018-07-06 14:10:56| 53.99|         11.4|                     4|                          8.0|                         2.0|                   5.0|                       3.0|                         5.0|                              2.0|                             0.0|                                 2.0|                                0.0|\n|00061f2a7bc09da83...|            1|d63c1011f49d98b97...|cc419e0650a3c5ba7...|2018-03-29 22:28:09| 59.99|         8.88|                     5|                          2.0|                         0.0|                   1.0|                       1.0|                         0.0|                              0.0|                             0.0|                                 0.0|                                0.0|\n|00063b381e2406b52...|            1|f177554ea93259a5b...|8602a61d680a10a82...|2018-07-31 17:30:39|  45.0|        12.98|                     4|                          4.0|                         0.0|                   2.0|                       0.0|                         0.0|                              0.0|                             2.0|                                 0.0|                                0.0|\n|0006ec9db01a64e59...|            1|99a4788cb24856965...|4a3ca9315b744ce9f...|2018-07-26 17:24:20|  74.0|        23.32|                     2|                          0.0|                         1.0|                   1.0|                       1.0|                         0.0|                              1.0|                             2.0|                                 2.0|                                0.0|\n|0008288aa423d2a3f...|            1|368c6c730842d7801...|1f50f920176fa81da...|2018-02-21 02:55:52|  49.9|        13.37|                     6|                          3.0|                         0.0|                   0.0|                       0.0|                         1.0|                              4.0|                             0.0|                                 0.0|                                0.0|\n|0008288aa423d2a3f...|            2|368c6c730842d7801...|1f50f920176fa81da...|2018-02-21 02:55:52|  49.9|        13.37|                     6|                          3.0|                         0.0|                   0.0|                       0.0|                         1.0|                              4.0|                             0.0|                                 0.0|                                0.0|\n|0009792311464db53...|            1|8cab8abac59158715...|530ec6109d11eaaf8...|2018-08-17 12:15:10|  99.9|        27.65|                     2|                          5.0|                         0.0|                   4.0|                       1.0|                         2.0|                              3.0|                             1.0|                                 0.0|                                0.0|\n|0009c9a17f916a706...|            1|3f27ac8e699df3d30...|fcb5ace8bcc92f757...|2018-05-02 09:31:53| 639.0|        11.34|                     7|                          7.0|                         0.0|                   2.0|                       0.0|                         2.0|                              3.0|                             1.0|                                 1.0|                                1.0|\n|000aed2e25dbad2f9...|            1|4fa33915031a8cde0...|fe2032dab1a61af87...|2018-05-16 20:57:03| 144.0|         8.77|                     5|                          2.0|                         0.0|                   1.0|                       0.0|                         0.0|                              0.0|                             0.0|                                 0.0|                                0.0|\n|000c3e6612759851c...|            1|b50c950aba0dcead2...|218d46b86c1881d02...|2017-08-21 03:33:13|  99.0|        13.71|                     6|                          5.0|                         0.0|                   4.0|                       1.0|                         2.0|                              3.0|                             1.0|                                 0.0|                                0.0|\n|000e562887b1f2006...|            1|5ed9eaf534f6936b5...|8cbac7e12637ed9cf...|2018-02-28 12:08:37|  25.0|        16.11|                     6|                          7.0|                         0.0|                   2.0|                       0.0|                         2.0|                              3.0|                             1.0|                                 1.0|                                1.0|\n+--------------------+-------------+--------------------+--------------------+-------------------+------+-------------+----------------------+-----------------------------+----------------------------+----------------------+--------------------------+----------------------------+---------------------------------+--------------------------------+------------------------------------+-----------------------------------+\nonly showing top 20 rows\n\n"
          ]
        }
      ],
      "source": [
        "# Ajustar e transformar os dados\n",
        "try:\n",
        "    final_order_items = pipeline.fit(final_order_items).transform(final_order_items)\n",
        "except Exception as e:\n",
        "    print(f\"Ocorreu um erro ao aplicar o pipeline: {e}\")\n",
        "\n",
        "# Selecionar as colunas finais\n",
        "selected_cols = ['order_id', 'order_item_id', 'product_id', 'seller_id', 'shipping_limit_date',\n",
        "                 'price', 'freight_value', 'days_to_shipping_limit'] + [col + \"_index\" for col in categorical_cols]\n",
        "\n",
        "final_order_items = final_order_items.select(selected_cols)\n",
        "\n",
        "final_order_items.show()"
      ]
    },
    {
      "cell_type": "code",
      "execution_count": null,
      "metadata": {
        "application/vnd.databricks.v1+cell": {
          "cellMetadata": {
            "byteLimit": 2048000,
            "rowLimit": 10000
          },
          "inputWidgets": {},
          "nuid": "33bf7867-3f59-44ad-b63b-b74e0a060172",
          "showTitle": false,
          "tableResultSettingsMap": {},
          "title": ""
        },
        "id": "GeSmw1TBEd41",
        "outputId": "11cc8c31-6d6b-4471-b9c1-16aea5a1a8be"
      },
      "outputs": [
        {
          "output_type": "stream",
          "name": "stdout",
          "text": [
            "Out[33]: DataFrame[summary: string, order_id: string, customer_id: string, order_status: string, days_to_approval: string, days_to_carrier: string, days_to_delivery: string, days_estimated_vs_actual_delivery: string, approval_group: string, carrier_group: string, delivery_group: string, estimated_vs_actual_group: string, order_item_id: string, product_id: string, seller_id: string, price: string, freight_value: string, days_to_shipping_limit: string, shipping_group: string]"
          ]
        }
      ],
      "source": [
        "merged_data.describe()"
      ]
    },
    {
      "cell_type": "code",
      "execution_count": null,
      "metadata": {
        "application/vnd.databricks.v1+cell": {
          "cellMetadata": {
            "byteLimit": 2048000,
            "rowLimit": 10000
          },
          "inputWidgets": {},
          "nuid": "88d48e2a-b000-446c-a5d1-e4a935f219ab",
          "showTitle": false,
          "tableResultSettingsMap": {},
          "title": ""
        },
        "id": "Gwqp72g2Ed41"
      },
      "outputs": [],
      "source": [
        "\n",
        "# Definir os indexers para os DataFrames corretos\n",
        "indexers_orders = [\n",
        "    StringIndexer(inputCol=\"order_status\", outputCol=\"order_status_index\"),\n",
        "]\n",
        "\n",
        "indexers_sellers = [\n",
        "    StringIndexer(inputCol=\"seller_city\", outputCol=\"seller_city_index\"),\n",
        "    StringIndexer(inputCol=\"seller_state\", outputCol=\"seller_state_index\"),\n",
        "]\n",
        "\n",
        "indexers_customers = [\n",
        "    StringIndexer(inputCol=\"customer_state\", outputCol=\"customer_state_index\"),\n",
        "]\n",
        "\n",
        "indexers_payments = [\n",
        "    StringIndexer(inputCol=\"payment_type\", outputCol=\"payment_type_index\"),\n",
        "]\n",
        "\n",
        "# Aplicar os indexers para orders\n",
        "for indexer in indexers_orders:\n",
        "    output_col = indexer.getOutputCol()\n",
        "    if output_col in orders.columns:\n",
        "        orders = orders.drop(output_col)\n",
        "    orders = indexer.fit(orders).transform(orders)\n",
        "\n",
        "# Aplicar os indexers para sellers\n",
        "for indexer in indexers_sellers:\n",
        "    output_col = indexer.getOutputCol()\n",
        "    if output_col in sellers.columns:\n",
        "        sellers = sellers.drop(output_col)\n",
        "    sellers = indexer.fit(sellers).transform(sellers)\n",
        "\n",
        "# Aplicar os indexers para customers\n",
        "for indexer in indexers_customers:\n",
        "    output_col = indexer.getOutputCol()\n",
        "    if output_col in customers.columns:\n",
        "        customers = customers.drop(output_col)\n",
        "    customers = indexer.fit(customers).transform(customers)\n",
        "\n",
        "# Aplicar os indexers para order_payments\n",
        "for indexer in indexers_payments:\n",
        "    output_col = indexer.getOutputCol()\n",
        "    if output_col in order_payments.columns:\n",
        "        order_payments = order_payments.drop(output_col)\n",
        "    order_payments = indexer.fit(order_payments).transform(order_payments)\n",
        "\n",
        "# Selecionar mês da order_purchase_timestamp\n",
        "orders = orders.withColumn('order_purchase_month', month(col('order_purchase_timestamp')))\n",
        "\n",
        "# Join entre order_items e products para obter as categorias dos produtos\n",
        "order_items = order_items.join(products, on='product_id', how='inner')\n",
        "\n",
        "# Transformar colunas categóricas de produtos\n",
        "categorical_cols_products = [\n",
        "    'segmentacao_necessidade', 'segmentacao_sentimento',\n",
        "    'segmentacao_tipo', 'segmentacao_validade',\n",
        "    'segmentacao_utilizacao', 'segmentacoes_funcionalidade',\n",
        "    'segmentacao_interatividade', 'segmentacoes_impacto_ambiental',\n",
        "    'segmentacoes_interacao_humana'\n",
        "]\n",
        "\n",
        "indexers_products = [StringIndexer(inputCol=col, outputCol=col + \"_index\") for col in categorical_cols_products]\n",
        "pipeline_products = Pipeline(stages=indexers_products)\n",
        "products = pipeline_products.fit(products).transform(products)\n",
        "\n",
        "# Join entre order_items e products com colunas transformadas\n",
        "order_items = order_items.join(products, on='product_id', how='inner')\n",
        "\n",
        "# Consolidar todas as features selecionadas com inner joins\n",
        "df = order_reviews.select('order_id', col('review_score').cast('int').alias('target')) \\\n",
        "    .join(orders.select('order_id', 'customer_id', 'order_status_index', 'order_purchase_month',\n",
        "                        'order_approved_at', 'order_delivered_carrier_date', 'order_delivered_customer_date',\n",
        "                        'order_estimated_delivery_date', 'days_to_approval', 'days_to_carrier',\n",
        "                        'days_to_delivery', 'days_estimated_vs_actual_delivery'),\n",
        "          on='order_id', how='inner') \\\n",
        "    .join(order_items.select('order_id', 'product_id', 'price', 'freight_value', 'seller_id',\n",
        "                             *[col + \"_index\" for col in categorical_cols_products]), on='order_id', how='inner') \\\n",
        "    .join(sellers.select('seller_id', 'seller_city_index', 'seller_state_index'), on='seller_id', how='inner') \\\n",
        "    .join(customers.select('customer_id', 'customer_state_index'), on='customer_id', how='inner') \\\n",
        "    .join(order_payments.select('order_id', 'payment_sequential', 'payment_type_index',\n",
        "                                 'payment_installments', 'payment_value'), on='order_id', how='inner')\n",
        "\n",
        "# Selecionar apenas as colunas necessárias para o modelo, incluindo novas colunas de duração\n",
        "df = df.select('target', 'order_status_index', 'order_purchase_month',\n",
        "               'order_approved_at', 'order_delivered_carrier_date', 'order_delivered_customer_date',\n",
        "               'order_estimated_delivery_date', 'days_to_approval', 'days_to_carrier',\n",
        "               'days_to_delivery', 'days_estimated_vs_actual_delivery',\n",
        "               'price', 'freight_value',\n",
        "               'segmentacao_necessidade_index',\n",
        "               'segmentacao_sentimento_index',\n",
        "               'segmentacao_tipo_index',\n",
        "               'segmentacao_validade_index',\n",
        "               'segmentacao_utilizacao_index',\n",
        "               'segmentacoes_funcionalidade_index',\n",
        "               'segmentacao_interatividade_index',\n",
        "               'segmentacoes_impacto_ambiental_index',\n",
        "               'segmentacoes_interacao_humana_index',\n",
        "               'seller_city_index',\n",
        "               'seller_state_index',\n",
        "               'customer_state_index',\n",
        "               'payment_sequential',\n",
        "               'payment_type_index',\n",
        "               'payment_installments',\n",
        "               'payment_value')\n",
        "\n",
        "# Filtrar apenas linhas onde a coluna target (review_score) não é nula\n",
        "df = df.filter(df.target.isNotNull())\n",
        "\n",
        "# Tratar valores nulos (se necessário)\n",
        "df = df.na.drop()  # Remove linhas com qualquer valor nulo (se ainda houver)\n",
        "\n",
        "# Visualizar o DataFrame consolidado\n",
        "#df.show()\n",
        "\n",
        "# Contar o número de linhas no DataFrame filtrado\n",
        "#num_linhas_df = df.count()\n",
        "#print(f\"Número de linhas no DataFrame filtrado: {num_linhas_df}\")\n"
      ]
    },
    {
      "cell_type": "code",
      "execution_count": null,
      "metadata": {
        "application/vnd.databricks.v1+cell": {
          "cellMetadata": {
            "byteLimit": 2048000,
            "rowLimit": 10000
          },
          "inputWidgets": {},
          "nuid": "de24d721-9d25-4da1-a2a6-3689bbe08816",
          "showTitle": false,
          "tableResultSettingsMap": {},
          "title": ""
        },
        "id": "oVRYESd9Ed42",
        "outputId": "383c8251-249b-4af0-a1d9-18b549f12d77"
      },
      "outputs": [
        {
          "output_type": "stream",
          "name": "stdout",
          "text": [
            "+------+--------------------+\n|target|     scaled_features|\n+------+--------------------+\n|     5|[-0.0079415832780...|\n|     5|[-0.0079415832780...|\n|     4|[-0.0079415832780...|\n|     5|[-0.0079415832780...|\n|     5|[-0.0079415832780...|\n|     5|[-0.0079415832780...|\n|     5|[-0.0079415832780...|\n|     5|[-0.0079415832780...|\n|     5|[-0.0079415832780...|\n|     5|[-0.0079415832780...|\n|     4|[-0.0079415832780...|\n|     4|[-0.0079415832780...|\n|     4|[-0.0079415832780...|\n|     5|[-0.0079415832780...|\n|     5|[-0.0079415832780...|\n|     5|[-0.0079415832780...|\n|     4|[-0.0079415832780...|\n|     5|[-0.0079415832780...|\n|     5|[-0.0079415832780...|\n|     5|[-0.0079415832780...|\n+------+--------------------+\nonly showing top 20 rows\n\n"
          ]
        }
      ],
      "source": [
        "# Converter colunas para os tipos adequados\n",
        "df = df.withColumn(\"order_status_index\", col(\"order_status_index\").cast(\"double\"))\n",
        "df = df.withColumn(\"order_purchase_month\", col(\"order_purchase_month\").cast(\"double\"))\n",
        "df = df.withColumn(\"days_to_approval\", col(\"days_to_approval\").cast(\"double\"))\n",
        "df = df.withColumn(\"days_to_carrier\", col(\"days_to_carrier\").cast(\"double\"))\n",
        "df = df.withColumn(\"days_to_delivery\", col(\"days_to_delivery\").cast(\"double\"))\n",
        "df = df.withColumn(\"days_estimated_vs_actual_delivery\", col(\"days_estimated_vs_actual_delivery\").cast(\"double\"))\n",
        "df = df.withColumn(\"price\", col(\"price\").cast(\"double\"))\n",
        "df = df.withColumn(\"freight_value\", col(\"freight_value\").cast(\"double\"))\n",
        "df = df.withColumn(\"segmentacao_necessidade_index\", col(\"segmentacao_necessidade_index\").cast(\"double\"))\n",
        "df = df.withColumn(\"seller_city_index\", col(\"seller_city_index\").cast(\"double\"))\n",
        "df = df.withColumn(\"seller_state_index\", col(\"seller_state_index\").cast(\"double\"))\n",
        "df = df.withColumn(\"customer_state_index\", col(\"customer_state_index\").cast(\"double\"))\n",
        "df = df.withColumn(\"payment_sequential\", col(\"payment_sequential\").cast(\"double\"))\n",
        "df = df.withColumn(\"payment_type_index\", col(\"payment_type_index\").cast(\"double\"))\n",
        "df = df.withColumn(\"payment_installments\", col(\"payment_installments\").cast(\"double\"))\n",
        "df = df.withColumn(\"payment_value\", col(\"payment_value\").cast(\"double\"))\n",
        "df = df.withColumn('seller_city_index', col('seller_city_index').cast(\"double\"))\n",
        "df = df.withColumn('seller_state_index', col('seller_state_index').cast(\"double\"))\n",
        "df = df.withColumn('customer_state_index', col('customer_state_index').cast(\"double\"))\n",
        "\n",
        "#### Selecionar as colunas que queremos normalizar\n",
        "numeric_cols = ['order_status_index', 'order_purchase_month', 'days_to_approval', 'days_to_carrier',\n",
        "                'days_to_delivery', 'days_estimated_vs_actual_delivery', 'price', 'freight_value',\n",
        "                'segmentacao_necessidade_index', 'segmentacao_sentimento_index', 'segmentacao_tipo_index',\n",
        "                'segmentacao_validade_index', 'segmentacao_utilizacao_index', 'segmentacoes_funcionalidade_index',\n",
        "                'segmentacao_interatividade_index', 'segmentacoes_impacto_ambiental_index','customer_state_index','seller_state_index', 'seller_state_index','segmentacoes_interacao_humana_index', 'payment_sequential', 'payment_type_index', 'payment_installments',\n",
        "                'payment_value']\n",
        "\n",
        "assembler = VectorAssembler(inputCols=numeric_cols, outputCol=\"features\")\n",
        "\n",
        "df_assembled = assembler.transform(df)\n",
        "\n",
        "scaler = StandardScaler(inputCol=\"features\", outputCol=\"scaled_features\", withMean=True, withStd=True)\n",
        "\n",
        "scaler_model = scaler.fit(df_assembled)\n",
        "df_scaled = scaler_model.transform(df_assembled)\n",
        "\n",
        "# Visualizar o DataFrame final\n",
        "df_scaled.select(\"target\", \"scaled_features\").show()\n"
      ]
    },
    {
      "cell_type": "code",
      "execution_count": null,
      "metadata": {
        "application/vnd.databricks.v1+cell": {
          "cellMetadata": {
            "byteLimit": 2048000,
            "rowLimit": 10000
          },
          "inputWidgets": {},
          "nuid": "8b643cf9-a8ab-4af0-b0f6-0699d070bd4e",
          "showTitle": false,
          "tableResultSettingsMap": {},
          "title": ""
        },
        "id": "WCXHus9cEd42",
        "outputId": "096d2e62-f15b-40d8-edf8-5276f7279a0b"
      },
      "outputs": [
        {
          "output_type": "stream",
          "name": "stdout",
          "text": [
            "Regressão Linear - RMSE: 1.2402730066875975\nÁrvore de Decisão - RMSE: 1.2048732123031878\nRandom Forest - RMSE: 1.2097677861452782\nGradient Boosting - RMSE: 1.1804236027604875\n              Modelo      RMSE\n0   Regressão Linear  1.240273\n1  Árvore de Decisão  1.204873\n2      Random Forest  1.209768\n3  Gradient Boosting  1.180424\nMelhor modelo: Gradient Boosting\n+--------------------+------+------------------+\n|     scaled_features|target|        prediction|\n+--------------------+------+------------------+\n|[-0.0079415832780...|     1| 3.982380336958399|\n|[-0.0079415832780...|     1|1.6145728501172114|\n|[-0.0079415832780...|     1|4.3975823277449315|\n|[-0.0079415832780...|     1|3.9247299994899176|\n|[-0.0079415832780...|     1| 3.435528799584323|\n+--------------------+------+------------------+\nonly showing top 5 rows\n\n"
          ]
        }
      ],
      "source": [
        "train_df, test_df = df_scaled.randomSplit([0.8, 0.2], seed=42)\n",
        "\n",
        "label_col = 'target'\n",
        "\n",
        "modelos = {\n",
        "    'Regressão Linear': LinearRegression(featuresCol='scaled_features', labelCol=label_col),\n",
        "    'Árvore de Decisão': DecisionTreeRegressor(featuresCol='scaled_features', labelCol=label_col),\n",
        "    'Random Forest': RandomForestRegressor(featuresCol='scaled_features', labelCol=label_col),\n",
        "    'Gradient Boosting': GBTRegressor(featuresCol='scaled_features', labelCol=label_col)\n",
        "}\n",
        "\n",
        "# Avaliador\n",
        "avaliador = RegressionEvaluator(labelCol=label_col, predictionCol='prediction', metricName='rmse')\n",
        "\n",
        "# Treinamento e avaliação dos modelos\n",
        "resultados = []\n",
        "\n",
        "for nome, modelo in modelos.items():\n",
        "    # Treinar o modelo\n",
        "    modelo_treinado = modelo.fit(train_df)\n",
        "\n",
        "    # Fazer previsões no conjunto de teste\n",
        "    previsoes = modelo_treinado.transform(test_df)\n",
        "\n",
        "    # Avaliar o modelo\n",
        "    rmse = avaliador.evaluate(previsoes)\n",
        "\n",
        "    # Armazenar os resultados\n",
        "    resultados.append((nome, rmse))\n",
        "    print(f'{nome} - RMSE: {rmse}')\n",
        "\n",
        "### Converter os resultados para DataFrame Pandas para visualização\n",
        "resultados_df = pd.DataFrame(resultados, columns=['Modelo', 'RMSE'])\n",
        "print(resultados_df)\n",
        "\n",
        "# Escolher o melhor modelo baseado no RMSE\n",
        "melhor_modelo_nome = resultados_df.loc[resultados_df['RMSE'].idxmin(), 'Modelo']\n",
        "print(f'Melhor modelo: {melhor_modelo_nome}')\n",
        "\n",
        "# Treinar o melhor modelo com todo o dataset\n",
        "melhor_modelo = modelos[melhor_modelo_nome].fit(df_scaled)\n",
        "\n",
        "# Fazer previsões com o melhor modelo (por exemplo, no conjunto de teste)\n",
        "previsoes_finais = melhor_modelo.transform(test_df)\n",
        "previsoes_finais.select('scaled_features', 'target', 'prediction').show(5)\n",
        "\n",
        "\n"
      ]
    },
    {
      "cell_type": "code",
      "execution_count": null,
      "metadata": {
        "application/vnd.databricks.v1+cell": {
          "cellMetadata": {
            "byteLimit": 2048000,
            "rowLimit": 10000
          },
          "inputWidgets": {},
          "nuid": "e4d68fad-4b17-4796-a257-69b03d8619f6",
          "showTitle": false,
          "tableResultSettingsMap": {},
          "title": ""
        },
        "id": "nC2NUObHEd42",
        "outputId": "27df3f01-f71e-47e1-96dc-857b8421e4cb"
      },
      "outputs": [
        {
          "output_type": "stream",
          "name": "stdout",
          "text": [
            "Feature: days_estimated_vs_actual_delivery, Importance: 0.2606691263040013\nFeature: price, Importance: 0.18910741458143104\nFeature: payment_value, Importance: 0.15482990198611774\nFeature: days_to_delivery, Importance: 0.06787719348674429\nFeature: freight_value, Importance: 0.0533986774575725\nFeature: days_to_carrier, Importance: 0.04250559543927698\nFeature: order_purchase_month, Importance: 0.03491226862731803\nFeature: customer_state_index, Importance: 0.030872693535132043\nFeature: segmentacao_tipo_index, Importance: 0.022051237209374144\nFeature: segmentacao_necessidade_index, Importance: 0.019195786222968088\nFeature: payment_sequential, Importance: 0.01693842310391421\nFeature: segmentacoes_impacto_ambiental_index, Importance: 0.016549657246755084\nFeature: segmentacao_utilizacao_index, Importance: 0.01589469701943755\nFeature: seller_state_index, Importance: 0.014408802714940955\nFeature: payment_installments, Importance: 0.014176501348255972\nFeature: days_to_approval, Importance: 0.011097971634228666\nFeature: segmentacao_interatividade_index, Importance: 0.01042161490222965\nFeature: payment_type_index, Importance: 0.009604319140958464\nFeature: segmentacoes_funcionalidade_index, Importance: 0.005410397686889854\nFeature: segmentacao_sentimento_index, Importance: 0.004447053896364041\nFeature: segmentacao_validade_index, Importance: 0.003491377849175453\nFeature: order_status_index, Importance: 0.0013324779867267603\nFeature: segmentacoes_interacao_humana_index, Importance: 0.0008068106201872685\nFeature: seller_state_index, Importance: 0.0\n"
          ]
        }
      ],
      "source": [
        "importances = melhor_modelo.featureImportances\n",
        "\n",
        "feature_importances = [(feature, importance) for feature, importance in zip(numeric_cols, importances)]\n",
        "\n",
        "sorted_feature_importances = sorted(feature_importances, key=lambda x: x[1], reverse=True)\n",
        "\n",
        "for feature, importance in sorted_feature_importances:\n",
        "    print(f'Feature: {feature}, Importance: {importance}')\n"
      ]
    },
    {
      "cell_type": "code",
      "execution_count": null,
      "metadata": {
        "application/vnd.databricks.v1+cell": {
          "cellMetadata": {
            "byteLimit": 2048000,
            "rowLimit": 10000
          },
          "inputWidgets": {},
          "nuid": "91251b50-a7c9-4c15-bad7-1756b56eec7a",
          "showTitle": false,
          "tableResultSettingsMap": {},
          "title": ""
        },
        "id": "LUpgaktvEd43",
        "outputId": "4e52f665-e2aa-4439-b461-c548ef306f42"
      },
      "outputs": [
        {
          "output_type": "stream",
          "name": "stdout",
          "text": [
            "A posição de price na lista de features é: 16\n"
          ]
        },
        {
          "output_type": "display_data",
          "data": {
            "text/plain": [
              "\u001b[0;31m---------------------------------------------------------------------------\u001b[0m\n",
              "\u001b[0;31mNameError\u001b[0m                                 Traceback (most recent call last)\n",
              "File \u001b[0;32m<command-484980050241627>:16\u001b[0m\n",
              "\u001b[1;32m     13\u001b[0m extract_price_udf \u001b[38;5;241m=\u001b[39m udf(extract_price, DoubleType())\n",
              "\u001b[1;32m     15\u001b[0m \u001b[38;5;66;03m# Selecionar e exibir apenas os valores escalonados de 'price'\u001b[39;00m\n",
              "\u001b[0;32m---> 16\u001b[0m scaled_price \u001b[38;5;241m=\u001b[39m test_df_modificado\u001b[38;5;241m.\u001b[39mwithColumn(\u001b[38;5;124m'\u001b[39m\u001b[38;5;124mscaled_price\u001b[39m\u001b[38;5;124m'\u001b[39m, extract_price_udf(col(\u001b[38;5;124m'\u001b[39m\u001b[38;5;124mscaled_features\u001b[39m\u001b[38;5;124m'\u001b[39m)))\n",
              "\u001b[1;32m     17\u001b[0m scaled_price\u001b[38;5;241m.\u001b[39mselect(\u001b[38;5;124m'\u001b[39m\u001b[38;5;124mscaled_price\u001b[39m\u001b[38;5;124m'\u001b[39m)\u001b[38;5;241m.\u001b[39mshow()\n",
              "\n",
              "\u001b[0;31mNameError\u001b[0m: name 'test_df_modificado' is not defined"
            ]
          },
          "metadata": {
            "application/vnd.databricks.v1+output": {
              "arguments": {},
              "data": "\u001b[0;31m---------------------------------------------------------------------------\u001b[0m\n\u001b[0;31mNameError\u001b[0m                                 Traceback (most recent call last)\nFile \u001b[0;32m<command-484980050241627>:16\u001b[0m\n\u001b[1;32m     13\u001b[0m extract_price_udf \u001b[38;5;241m=\u001b[39m udf(extract_price, DoubleType())\n\u001b[1;32m     15\u001b[0m \u001b[38;5;66;03m# Selecionar e exibir apenas os valores escalonados de 'price'\u001b[39;00m\n\u001b[0;32m---> 16\u001b[0m scaled_price \u001b[38;5;241m=\u001b[39m test_df_modificado\u001b[38;5;241m.\u001b[39mwithColumn(\u001b[38;5;124m'\u001b[39m\u001b[38;5;124mscaled_price\u001b[39m\u001b[38;5;124m'\u001b[39m, extract_price_udf(col(\u001b[38;5;124m'\u001b[39m\u001b[38;5;124mscaled_features\u001b[39m\u001b[38;5;124m'\u001b[39m)))\n\u001b[1;32m     17\u001b[0m scaled_price\u001b[38;5;241m.\u001b[39mselect(\u001b[38;5;124m'\u001b[39m\u001b[38;5;124mscaled_price\u001b[39m\u001b[38;5;124m'\u001b[39m)\u001b[38;5;241m.\u001b[39mshow()\n\n\u001b[0;31mNameError\u001b[0m: name 'test_df_modificado' is not defined",
              "errorSummary": "<span class='ansi-red-fg'>NameError</span>: name 'test_df_modificado' is not defined",
              "errorTraceType": "ansi",
              "metadata": {},
              "type": "ipynbError"
            }
          }
        }
      ],
      "source": [
        "from pyspark.sql.functions import col, udf\n",
        "from pyspark.sql.types import DoubleType\n",
        "\n",
        "# Identificar a posição da variável 'price'\n",
        "price_position = numeric_cols.index('customer_state_index')\n",
        "print(f'A posição de price na lista de features é: {price_position}')\n",
        "\n",
        "# Definir uma UDF para extrair o valor de 'price' da coluna 'scaled_features'\n",
        "def extract_price(scaled_features):\n",
        "    return float(scaled_features[price_position])\n",
        "\n",
        "# Registrar a UDF\n",
        "extract_price_udf = udf(extract_price, DoubleType())\n",
        "\n",
        "# Selecionar e exibir apenas os valores escalonados de 'price'\n",
        "scaled_price = test_df_modificado.withColumn('scaled_price', extract_price_udf(col('scaled_features')))\n",
        "scaled_price.select('scaled_price').show()\n",
        "\n",
        "\n"
      ]
    },
    {
      "cell_type": "code",
      "execution_count": null,
      "metadata": {
        "application/vnd.databricks.v1+cell": {
          "cellMetadata": {
            "byteLimit": 2048000,
            "rowLimit": 10000
          },
          "inputWidgets": {},
          "nuid": "2ea277d1-30ee-4857-8bc8-2ff1f509ca8e",
          "showTitle": false,
          "tableResultSettingsMap": {},
          "title": ""
        },
        "id": "fSLN6fwOEd44",
        "outputId": "6e2812b4-a477-4471-cd1a-8ca86398a07e"
      },
      "outputs": [
        {
          "output_type": "stream",
          "name": "stdout",
          "text": [
            "Média dos review_scores antes das modificações: 4.105435524221059\n+----------------------------------------------------------------------------------------------------------+\n|features                                                                                                  |\n+----------------------------------------------------------------------------------------------------------+\n|[0.0,1.0,0.0,3.0,5.0,-34.0,229.9,18.97,1.0,0.0,0.0,0.0,2.0,4.0,0.0,1.0,4.0,1.0,1.0,1.0,1.0,0.0,5.0,497.74]|\n+----------------------------------------------------------------------------------------------------------+\nonly showing top 1 row\n\n+---------------------------------------------------------------------------------------------------------------------------------------------------------------------------------------------------------------------------------------------------------------------------------------------------------------------------------------------------------------------------------------------------------------------------------------------------------------------------------------------+\n|scaled_features                                                                                                                                                                                                                                                                                                                                                                                                                                                                              |\n+---------------------------------------------------------------------------------------------------------------------------------------------------------------------------------------------------------------------------------------------------------------------------------------------------------------------------------------------------------------------------------------------------------------------------------------------------------------------------------------------+\n|[-0.007941583278080814,-1.5570679523910835,-0.5249591195055486,-0.060589708135071293,-0.7833873140725628,-2.175143207110726,1.4365541432922426,-0.008477157776319475,-0.6884276366530437,-0.7054873929085054,-0.9558828004574331,-0.7275951126557508,0.9109297549049787,1.833180225046587,-1.109447710292509,0.21024451384634793,0.24641613773899754,0.03756196870726127,0.03756196870726127,1.3139860356328752,-0.1325320423202961,-0.5322297106363327,0.8080717221174705,3.145207825452901]|\n+---------------------------------------------------------------------------------------------------------------------------------------------------------------------------------------------------------------------------------------------------------------------------------------------------------------------------------------------------------------------------------------------------------------------------------------------------------------------------------------------+\nonly showing top 1 row\n\n+------+--------------------+--------------------+\n|target|            features|     scaled_features|\n+------+--------------------+--------------------+\n|     1|[0.0,1.0,0.0,3.0,...|[-0.0079415832780...|\n|     1|[0.0,1.0,0.0,1.0,...|[-0.0079415832780...|\n|     1|[0.0,1.0,2.0,4.0,...|[-0.0079415832780...|\n|     1|[0.0,1.0,0.0,3.0,...|[-0.0079415832780...|\n|     1|[0.0,1.0,0.0,35.0...|[-0.0079415832780...|\n|     1|[0.0,1.0,0.0,2.0,...|[-0.0079415832780...|\n|     1|(24,[1,2,3,4,5,6,...|[-0.0079415832780...|\n|     1|[0.0,2.0,0.0,7.0,...|[-0.0079415832780...|\n|     1|[0.0,2.0,0.0,3.0,...|[-0.0079415832780...|\n|     1|[0.0,2.0,0.0,2.0,...|[-0.0079415832780...|\n|     1|[0.0,2.0,1.0,2.0,...|[-0.0079415832780...|\n|     1|(24,[1,3,4,5,6,7,...|[-0.0079415832780...|\n|     1|(24,[1,3,4,5,6,7,...|[-0.0079415832780...|\n|     1|[0.0,3.0,0.0,1.0,...|[-0.0079415832780...|\n|     1|[0.0,3.0,2.0,8.0,...|[-0.0079415832780...|\n|     1|[0.0,3.0,2.0,8.0,...|[-0.0079415832780...|\n|     1|(24,[1,3,4,5,6,7,...|[-0.0079415832780...|\n|     1|(24,[1,3,4,5,6,7,...|[-0.0079415832780...|\n|     1|[0.0,3.0,0.0,3.0,...|[-0.0079415832780...|\n|     1|[0.0,3.0,0.0,2.0,...|[-0.0079415832780...|\n+------+--------------------+--------------------+\nonly showing top 20 rows\n\n"
          ]
        },
        {
          "output_type": "display_data",
          "data": {
            "text/plain": [
              "\u001b[0;31m---------------------------------------------------------------------------\u001b[0m\n",
              "\u001b[0;31mAnalysisException\u001b[0m                         Traceback (most recent call last)\n",
              "File \u001b[0;32m<command-836461528973386>:71\u001b[0m\n",
              "\u001b[1;32m     61\u001b[0m clientes_insatisfeitos\u001b[38;5;241m.\u001b[39mshow()\n",
              "\u001b[1;32m     63\u001b[0m \u001b[38;5;66;03m# Analisar a quantidade de clientes insatisfeitos em cada estado\u001b[39;00m\n",
              "\u001b[1;32m     64\u001b[0m \u001b[38;5;66;03m#clientes_insatisfeitos.groupBy('customer_state_index').count().show()\u001b[39;00m\n",
              "\u001b[1;32m     65\u001b[0m \n",
              "\u001b[0;32m   (...)\u001b[0m\n",
              "\u001b[1;32m     69\u001b[0m \n",
              "\u001b[1;32m     70\u001b[0m \u001b[38;5;66;03m# Ajustar o preço baseado na sazonalidade (manter preço inalterado nos meses 5 e 6)\u001b[39;00m\n",
              "\u001b[0;32m---> 71\u001b[0m test_df_modificado \u001b[38;5;241m=\u001b[39m test_df_modificado\u001b[38;5;241m.\u001b[39mwithColumn(\u001b[38;5;124m'\u001b[39m\u001b[38;5;124mprice\u001b[39m\u001b[38;5;124m'\u001b[39m, when(col(\u001b[38;5;124m'\u001b[39m\u001b[38;5;124morder_purchase_month\u001b[39m\u001b[38;5;124m'\u001b[39m)\u001b[38;5;241m.\u001b[39misin([\u001b[38;5;241m5\u001b[39m, \u001b[38;5;241m6\u001b[39m]), col(\u001b[38;5;124m'\u001b[39m\u001b[38;5;124mprice\u001b[39m\u001b[38;5;124m'\u001b[39m) \u001b[38;5;241m*\u001b[39m \u001b[38;5;241m1.0\u001b[39m)\u001b[38;5;241m.\u001b[39motherwise(col(\u001b[38;5;124m'\u001b[39m\u001b[38;5;124mprice\u001b[39m\u001b[38;5;124m'\u001b[39m)))\n",
              "\u001b[1;32m     73\u001b[0m \u001b[38;5;66;03m# Adicionar informação de rastreamento disponível para aumentar a transparência\u001b[39;00m\n",
              "\u001b[1;32m     74\u001b[0m \u001b[38;5;66;03m#test_df_modificado = test_df_modificado.withColumn('tracking_info_available', lit(1))\u001b[39;00m\n",
              "\u001b[1;32m     75\u001b[0m \n",
              "\u001b[0;32m   (...)\u001b[0m\n",
              "\u001b[1;32m     81\u001b[0m \n",
              "\u001b[1;32m     82\u001b[0m \u001b[38;5;66;03m# Ajustar o número de parcelas com base nas observações (reduzir parcelas se maior que 6)\u001b[39;00m\n",
              "\u001b[1;32m     83\u001b[0m test_df_modificado \u001b[38;5;241m=\u001b[39m test_df_modificado\u001b[38;5;241m.\u001b[39mwithColumn(\u001b[38;5;124m'\u001b[39m\u001b[38;5;124mpayment_installments\u001b[39m\u001b[38;5;124m'\u001b[39m, when(col(\u001b[38;5;124m'\u001b[39m\u001b[38;5;124mpayment_installments\u001b[39m\u001b[38;5;124m'\u001b[39m) \u001b[38;5;241m>\u001b[39m \u001b[38;5;241m6\u001b[39m, col(\u001b[38;5;124m'\u001b[39m\u001b[38;5;124mpayment_installments\u001b[39m\u001b[38;5;124m'\u001b[39m) \u001b[38;5;241m-\u001b[39m \u001b[38;5;241m3\u001b[39m)\u001b[38;5;241m.\u001b[39motherwise(col(\u001b[38;5;124m'\u001b[39m\u001b[38;5;124mpayment_installments\u001b[39m\u001b[38;5;124m'\u001b[39m)))\n",
              "\n",
              "File \u001b[0;32m/databricks/spark/python/pyspark/instrumentation_utils.py:48\u001b[0m, in \u001b[0;36m_wrap_function.<locals>.wrapper\u001b[0;34m(*args, **kwargs)\u001b[0m\n",
              "\u001b[1;32m     46\u001b[0m start \u001b[38;5;241m=\u001b[39m time\u001b[38;5;241m.\u001b[39mperf_counter()\n",
              "\u001b[1;32m     47\u001b[0m \u001b[38;5;28;01mtry\u001b[39;00m:\n",
              "\u001b[0;32m---> 48\u001b[0m     res \u001b[38;5;241m=\u001b[39m \u001b[43mfunc\u001b[49m\u001b[43m(\u001b[49m\u001b[38;5;241;43m*\u001b[39;49m\u001b[43margs\u001b[49m\u001b[43m,\u001b[49m\u001b[43m \u001b[49m\u001b[38;5;241;43m*\u001b[39;49m\u001b[38;5;241;43m*\u001b[39;49m\u001b[43mkwargs\u001b[49m\u001b[43m)\u001b[49m\n",
              "\u001b[1;32m     49\u001b[0m     logger\u001b[38;5;241m.\u001b[39mlog_success(\n",
              "\u001b[1;32m     50\u001b[0m         module_name, class_name, function_name, time\u001b[38;5;241m.\u001b[39mperf_counter() \u001b[38;5;241m-\u001b[39m start, signature\n",
              "\u001b[1;32m     51\u001b[0m     )\n",
              "\u001b[1;32m     52\u001b[0m     \u001b[38;5;28;01mreturn\u001b[39;00m res\n",
              "\n",
              "File \u001b[0;32m/databricks/spark/python/pyspark/sql/dataframe.py:4758\u001b[0m, in \u001b[0;36mDataFrame.withColumn\u001b[0;34m(self, colName, col)\u001b[0m\n",
              "\u001b[1;32m   4753\u001b[0m \u001b[38;5;28;01mif\u001b[39;00m \u001b[38;5;129;01mnot\u001b[39;00m \u001b[38;5;28misinstance\u001b[39m(col, Column):\n",
              "\u001b[1;32m   4754\u001b[0m     \u001b[38;5;28;01mraise\u001b[39;00m PySparkTypeError(\n",
              "\u001b[1;32m   4755\u001b[0m         error_class\u001b[38;5;241m=\u001b[39m\u001b[38;5;124m\"\u001b[39m\u001b[38;5;124mNOT_A_COLUMN\u001b[39m\u001b[38;5;124m\"\u001b[39m,\n",
              "\u001b[1;32m   4756\u001b[0m         message_parameters\u001b[38;5;241m=\u001b[39m{\u001b[38;5;124m\"\u001b[39m\u001b[38;5;124marg_name\u001b[39m\u001b[38;5;124m\"\u001b[39m: \u001b[38;5;124m\"\u001b[39m\u001b[38;5;124mcol\u001b[39m\u001b[38;5;124m\"\u001b[39m, \u001b[38;5;124m\"\u001b[39m\u001b[38;5;124marg_type\u001b[39m\u001b[38;5;124m\"\u001b[39m: \u001b[38;5;28mtype\u001b[39m(col)\u001b[38;5;241m.\u001b[39m\u001b[38;5;18m__name__\u001b[39m},\n",
              "\u001b[1;32m   4757\u001b[0m     )\n",
              "\u001b[0;32m-> 4758\u001b[0m \u001b[38;5;28;01mreturn\u001b[39;00m DataFrame(\u001b[38;5;28;43mself\u001b[39;49m\u001b[38;5;241;43m.\u001b[39;49m\u001b[43m_jdf\u001b[49m\u001b[38;5;241;43m.\u001b[39;49m\u001b[43mwithColumn\u001b[49m\u001b[43m(\u001b[49m\u001b[43mcolName\u001b[49m\u001b[43m,\u001b[49m\u001b[43m \u001b[49m\u001b[43mcol\u001b[49m\u001b[38;5;241;43m.\u001b[39;49m\u001b[43m_jc\u001b[49m\u001b[43m)\u001b[49m, \u001b[38;5;28mself\u001b[39m\u001b[38;5;241m.\u001b[39msparkSession)\n",
              "\n",
              "File \u001b[0;32m/databricks/spark/python/lib/py4j-0.10.9.5-src.zip/py4j/java_gateway.py:1321\u001b[0m, in \u001b[0;36mJavaMember.__call__\u001b[0;34m(self, *args)\u001b[0m\n",
              "\u001b[1;32m   1315\u001b[0m command \u001b[38;5;241m=\u001b[39m proto\u001b[38;5;241m.\u001b[39mCALL_COMMAND_NAME \u001b[38;5;241m+\u001b[39m\\\n",
              "\u001b[1;32m   1316\u001b[0m     \u001b[38;5;28mself\u001b[39m\u001b[38;5;241m.\u001b[39mcommand_header \u001b[38;5;241m+\u001b[39m\\\n",
              "\u001b[1;32m   1317\u001b[0m     args_command \u001b[38;5;241m+\u001b[39m\\\n",
              "\u001b[1;32m   1318\u001b[0m     proto\u001b[38;5;241m.\u001b[39mEND_COMMAND_PART\n",
              "\u001b[1;32m   1320\u001b[0m answer \u001b[38;5;241m=\u001b[39m \u001b[38;5;28mself\u001b[39m\u001b[38;5;241m.\u001b[39mgateway_client\u001b[38;5;241m.\u001b[39msend_command(command)\n",
              "\u001b[0;32m-> 1321\u001b[0m return_value \u001b[38;5;241m=\u001b[39m \u001b[43mget_return_value\u001b[49m\u001b[43m(\u001b[49m\n",
              "\u001b[1;32m   1322\u001b[0m \u001b[43m    \u001b[49m\u001b[43manswer\u001b[49m\u001b[43m,\u001b[49m\u001b[43m \u001b[49m\u001b[38;5;28;43mself\u001b[39;49m\u001b[38;5;241;43m.\u001b[39;49m\u001b[43mgateway_client\u001b[49m\u001b[43m,\u001b[49m\u001b[43m \u001b[49m\u001b[38;5;28;43mself\u001b[39;49m\u001b[38;5;241;43m.\u001b[39;49m\u001b[43mtarget_id\u001b[49m\u001b[43m,\u001b[49m\u001b[43m \u001b[49m\u001b[38;5;28;43mself\u001b[39;49m\u001b[38;5;241;43m.\u001b[39;49m\u001b[43mname\u001b[49m\u001b[43m)\u001b[49m\n",
              "\u001b[1;32m   1324\u001b[0m \u001b[38;5;28;01mfor\u001b[39;00m temp_arg \u001b[38;5;129;01min\u001b[39;00m temp_args:\n",
              "\u001b[1;32m   1325\u001b[0m     temp_arg\u001b[38;5;241m.\u001b[39m_detach()\n",
              "\n",
              "File \u001b[0;32m/databricks/spark/python/pyspark/errors/exceptions.py:234\u001b[0m, in \u001b[0;36mcapture_sql_exception.<locals>.deco\u001b[0;34m(*a, **kw)\u001b[0m\n",
              "\u001b[1;32m    230\u001b[0m converted \u001b[38;5;241m=\u001b[39m convert_exception(e\u001b[38;5;241m.\u001b[39mjava_exception)\n",
              "\u001b[1;32m    231\u001b[0m \u001b[38;5;28;01mif\u001b[39;00m \u001b[38;5;129;01mnot\u001b[39;00m \u001b[38;5;28misinstance\u001b[39m(converted, UnknownException):\n",
              "\u001b[1;32m    232\u001b[0m     \u001b[38;5;66;03m# Hide where the exception came from that shows a non-Pythonic\u001b[39;00m\n",
              "\u001b[1;32m    233\u001b[0m     \u001b[38;5;66;03m# JVM exception message.\u001b[39;00m\n",
              "\u001b[0;32m--> 234\u001b[0m     \u001b[38;5;28;01mraise\u001b[39;00m converted \u001b[38;5;28;01mfrom\u001b[39;00m \u001b[38;5;28mNone\u001b[39m\n",
              "\u001b[1;32m    235\u001b[0m \u001b[38;5;28;01melse\u001b[39;00m:\n",
              "\u001b[1;32m    236\u001b[0m     \u001b[38;5;28;01mraise\u001b[39;00m\n",
              "\n",
              "\u001b[0;31mAnalysisException\u001b[0m: [UNRESOLVED_COLUMN.WITH_SUGGESTION] A column or function parameter with name `order_purchase_month` cannot be resolved. Did you mean one of the following? [`features`, `target`, `scaled_features`].;\n",
              "'Project [target#17544, features#18377, scaled_features#18682, CASE WHEN 'order_purchase_month IN (5,6) THEN ('price * 1.0) ELSE 'price END AS price#34342]\n",
              "+- Project [target#17544, features#18377, scaled_features#18682]\n",
              "   +- Project [target#17544, order_approved_at#6025, order_delivered_carrier_date#5952, order_delivered_customer_date#5961, order_estimated_delivery_date#5970, features#18377, scaled_features#18682]\n",
              "      +- Project [target#17544, order_status_index#17806, order_purchase_month#17836, order_approved_at#6025, order_delivered_carrier_date#5952, order_delivered_customer_date#5961, order_estimated_delivery_date#5970, days_to_approval#17866, days_to_carrier#17896, days_to_delivery#17926, days_estimated_vs_actual_delivery#17956, price#17986, freight_value#18016, segmentacao_necessidade_index#18046, segmentacao_sentimento_index#16858, segmentacao_tipo_index#16928, segmentacao_validade_index#17001, segmentacao_utilizacao_index#17077, segmentacoes_funcionalidade_index#17156, segmentacao_interatividade_index#17238, segmentacoes_impacto_ambiental_index#17323, segmentacoes_interacao_humana_index#17411, seller_city_index#18286, seller_state_index#18316, ... 7 more fields]\n",
              "         +- Sample 0.8, 1.0, false, 42\n",
              "            +- Sort [target#17544 ASC NULLS FIRST, order_status_index#17806 ASC NULLS FIRST, order_purchase_month#17836 ASC NULLS FIRST, order_approved_at#6025 ASC NULLS FIRST, order_delivered_carrier_date#5952 ASC NULLS FIRST, order_delivered_customer_date#5961 ASC NULLS FIRST, order_estimated_delivery_date#5970 ASC NULLS FIRST, days_to_approval#17866 ASC NULLS FIRST, days_to_carrier#17896 ASC NULLS FIRST, days_to_delivery#17926 ASC NULLS FIRST, days_estimated_vs_actual_delivery#17956 ASC NULLS FIRST, price#17986 ASC NULLS FIRST, freight_value#18016 ASC NULLS FIRST, segmentacao_necessidade_index#18046 ASC NULLS FIRST, segmentacao_sentimento_index#16858 ASC NULLS FIRST, segmentacao_tipo_index#16928 ASC NULLS FIRST, segmentacao_validade_index#17001 ASC NULLS FIRST, segmentacao_utilizacao_index#17077 ASC NULLS FIRST, segmentacoes_funcionalidade_index#17156 ASC NULLS FIRST, segmentacao_interatividade_index#17238 ASC NULLS FIRST, segmentacoes_impacto_ambiental_index#17323 ASC NULLS FIRST, segmentacoes_interacao_humana_index#17411 ASC NULLS FIRST, seller_city_index#18286 ASC NULLS FIRST, seller_state_index#18316 ASC NULLS FIRST, ... 7 more fields], false\n",
              "               +- Project [target#17544, order_status_index#17806, order_purchase_month#17836, order_approved_at#6025, order_delivered_carrier_date#5952, order_delivered_customer_date#5961, order_estimated_delivery_date#5970, days_to_approval#17866, days_to_carrier#17896, days_to_delivery#17926, days_estimated_vs_actual_delivery#17956, price#17986, freight_value#18016, segmentacao_necessidade_index#18046, segmentacao_sentimento_index#16858, segmentacao_tipo_index#16928, segmentacao_validade_index#17001, segmentacao_utilizacao_index#17077, segmentacoes_funcionalidade_index#17156, segmentacao_interatividade_index#17238, segmentacoes_impacto_ambiental_index#17323, segmentacoes_interacao_humana_index#17411, seller_city_index#18286, seller_state_index#18316, ... 7 more fields]\n",
              "                  +- Project [target#17544, order_status_index#17806, order_purchase_month#17836, order_approved_at#6025, order_delivered_carrier_date#5952, order_delivered_customer_date#5961, order_estimated_delivery_date#5970, days_to_approval#17866, days_to_carrier#17896, days_to_delivery#17926, days_estimated_vs_actual_delivery#17956, price#17986, freight_value#18016, segmentacao_necessidade_index#18046, segmentacao_sentimento_index#16858, segmentacao_tipo_index#16928, segmentacao_validade_index#17001, segmentacao_utilizacao_index#17077, segmentacoes_funcionalidade_index#17156, segmentacao_interatividade_index#17238, segmentacoes_impacto_ambiental_index#17323, segmentacoes_interacao_humana_index#17411, seller_city_index#18286, seller_state_index#18316, ... 6 more fields]\n",
              "                     +- Project [target#17544, order_status_index#17806, order_purchase_month#17836, order_approved_at#6025, order_delivered_carrier_date#5952, order_delivered_customer_date#5961, order_estimated_delivery_date#5970, days_to_approval#17866, days_to_carrier#17896, days_to_delivery#17926, days_estimated_vs_actual_delivery#17956, price#17986, freight_value#18016, segmentacao_necessidade_index#18046, segmentacao_sentimento_index#16858, segmentacao_tipo_index#16928, segmentacao_validade_index#17001, segmentacao_utilizacao_index#17077, segmentacoes_funcionalidade_index#17156, segmentacao_interatividade_index#17238, segmentacoes_impacto_ambiental_index#17323, segmentacoes_interacao_humana_index#17411, seller_city_index#18286, seller_state_index#18316, ... 5 more fields]\n",
              "                        +- Project [target#17544, order_status_index#17806, order_purchase_month#17836, order_approved_at#6025, order_delivered_carrier_date#5952, order_delivered_customer_date#5961, order_estimated_delivery_date#5970, days_to_approval#17866, days_to_carrier#17896, days_to_delivery#17926, days_estimated_vs_actual_delivery#17956, price#17986, freight_value#18016, segmentacao_necessidade_index#18046, segmentacao_sentimento_index#16858, segmentacao_tipo_index#16928, segmentacao_validade_index#17001, segmentacao_utilizacao_index#17077, segmentacoes_funcionalidade_index#17156, segmentacao_interatividade_index#17238, segmentacoes_impacto_ambiental_index#17323, segmentacoes_interacao_humana_index#17411, seller_city_index#18286, cast(seller_state_index#18106 as double) AS seller_state_index#18316, ... 5 more fields]\n",
              "                           +- Project [target#17544, order_status_index#17806, order_purchase_month#17836, order_approved_at#6025, order_delivered_carrier_date#5952, order_delivered_customer_date#5961, order_estimated_delivery_date#5970, days_to_approval#17866, days_to_carrier#17896, days_to_delivery#17926, days_estimated_vs_actual_delivery#17956, price#17986, freight_value#18016, segmentacao_necessidade_index#18046, segmentacao_sentimento_index#16858, segmentacao_tipo_index#16928, segmentacao_validade_index#17001, segmentacao_utilizacao_index#17077, segmentacoes_funcionalidade_index#17156, segmentacao_interatividade_index#17238, segmentacoes_impacto_ambiental_index#17323, segmentacoes_interacao_humana_index#17411, cast(seller_city_index#18076 as double) AS seller_city_index#18286, seller_state_index#18106, ... 5 more fields]\n",
              "                              +- Project [target#17544, order_status_index#17806, order_purchase_month#17836, order_approved_at#6025, order_delivered_carrier_date#5952, order_delivered_customer_date#5961, order_estimated_delivery_date#5970, days_to_approval#17866, days_to_carrier#17896, days_to_delivery#17926, days_estimated_vs_actual_delivery#17956, price#17986, freight_value#18016, segmentacao_necessidade_index#18046, segmentacao_sentimento_index#16858, segmentacao_tipo_index#16928, segmentacao_validade_index#17001, segmentacao_utilizacao_index#17077, segmentacoes_funcionalidade_index#17156, segmentacao_interatividade_index#17238, segmentacoes_impacto_ambiental_index#17323, segmentacoes_interacao_humana_index#17411, seller_city_index#18076, seller_state_index#18106, ... 5 more fields]\n",
              "                                 +- Project [target#17544, order_status_index#17806, order_purchase_month#17836, order_approved_at#6025, order_delivered_carrier_date#5952, order_delivered_customer_date#5961, order_estimated_delivery_date#5970, days_to_approval#17866, days_to_carrier#17896, days_to_delivery#17926, days_estimated_vs_actual_delivery#17956, price#17986, freight_value#18016, segmentacao_necessidade_index#18046, segmentacao_sentimento_index#16858, segmentacao_tipo_index#16928, segmentacao_validade_index#17001, segmentacao_utilizacao_index#17077, segmentacoes_funcionalidade_index#17156, segmentacao_interatividade_index#17238, segmentacoes_impacto_ambiental_index#17323, segmentacoes_interacao_humana_index#17411, seller_city_index#18076, seller_state_index#18106, ... 5 more fields]\n",
              "                                    +- Project [target#17544, order_status_index#17806, order_purchase_month#17836, order_approved_at#6025, order_delivered_carrier_date#5952, order_delivered_customer_date#5961, order_estimated_delivery_date#5970, days_to_approval#17866, days_to_carrier#17896, days_to_delivery#17926, days_estimated_vs_actual_delivery#17956, price#17986, freight_value#18016, segmentacao_necessidade_index#18046, segmentacao_sentimento_index#16858, segmentacao_tipo_index#16928, segmentacao_validade_index#17001, segmentacao_utilizacao_index#17077, segmentacoes_funcionalidade_index#17156, segmentacao_interatividade_index#17238, segmentacoes_impacto_ambiental_index#17323, segmentacoes_interacao_humana_index#17411, seller_city_index#18076, seller_state_index#18106, ... 5 more fields]\n",
              "                                       +- Project [target#17544, order_status_index#17806, order_purchase_month#17836, order_approved_at#6025, order_delivered_carrier_date#5952, order_delivered_customer_date#5961, order_estimated_delivery_date#5970, days_to_approval#17866, days_to_carrier#17896, days_to_delivery#17926, days_estimated_vs_actual_delivery#17956, price#17986, freight_value#18016, segmentacao_necessidade_index#18046, segmentacao_sentimento_index#16858, segmentacao_tipo_index#16928, segmentacao_validade_index#17001, segmentacao_utilizacao_index#17077, segmentacoes_funcionalidade_index#17156, segmentacao_interatividade_index#17238, segmentacoes_impacto_ambiental_index#17323, segmentacoes_interacao_humana_index#17411, seller_city_index#18076, seller_state_index#18106, ... 5 more fields]\n",
              "                                          +- Project [target#17544, order_status_index#17806, order_purchase_month#17836, order_approved_at#6025, order_delivered_carrier_date#5952, order_delivered_customer_date#5961, order_estimated_delivery_date#5970, days_to_approval#17866, days_to_carrier#17896, days_to_delivery#17926, days_estimated_vs_actual_delivery#17956, price#17986, freight_value#18016, segmentacao_necessidade_index#18046, segmentacao_sentimento_index#16858, segmentacao_tipo_index#16928, segmentacao_validade_index#17001, segmentacao_utilizacao_index#17077, segmentacoes_funcionalidade_index#17156, segmentacao_interatividade_index#17238, segmentacoes_impacto_ambiental_index#17323, segmentacoes_interacao_humana_index#17411, seller_city_index#18076, seller_state_index#18106, ... 5 more fields]\n",
              "                                             +- Project [target#17544, order_status_index#17806, order_purchase_month#17836, order_approved_at#6025, order_delivered_carrier_date#5952, order_delivered_customer_date#5961, order_estimated_delivery_date#5970, days_to_approval#17866, days_to_carrier#17896, days_to_delivery#17926, days_estimated_vs_actual_delivery#17956, price#17986, freight_value#18016, segmentacao_necessidade_index#18046, segmentacao_sentimento_index#16858, segmentacao_tipo_index#16928, segmentacao_validade_index#17001, segmentacao_utilizacao_index#17077, segmentacoes_funcionalidade_index#17156, segmentacao_interatividade_index#17238, segmentacoes_impacto_ambiental_index#17323, segmentacoes_interacao_humana_index#17411, seller_city_index#18076, cast(seller_state_index#15200 as double) AS seller_state_index#18106, ... 5 more fields]\n",
              "                                                +- Project [target#17544, order_status_index#17806, order_purchase_month#17836, order_approved_at#6025, order_delivered_carrier_date#5952, order_delivered_customer_date#5961, order_estimated_delivery_date#5970, days_to_approval#17866, days_to_carrier#17896, days_to_delivery#17926, days_estimated_vs_actual_delivery#17956, price#17986, freight_value#18016, segmentacao_necessidade_index#18046, segmentacao_sentimento_index#16858, segmentacao_tipo_index#16928, segmentacao_validade_index#17001, segmentacao_utilizacao_index#17077, segmentacoes_funcionalidade_index#17156, segmentacao_interatividade_index#17238, segmentacoes_impacto_ambiental_index#17323, segmentacoes_interacao_humana_index#17411, cast(seller_city_index#15139 as double) AS seller_city_index#18076, seller_state_index#15200, ... 5 more fields]\n",
              "                                                   +- Project [target#17544, order_status_index#17806, order_purchase_month#17836, order_approved_at#6025, order_delivered_carrier_date#5952, order_delivered_customer_date#5961, order_estimated_delivery_date#5970, days_to_approval#17866, days_to_carrier#17896, days_to_delivery#17926, days_estimated_vs_actual_delivery#17956, price#17986, freight_value#18016, cast(segmentacao_necessidade_index#16791 as double) AS segmentacao_necessidade_index#18046, segmentacao_sentimento_index#16858, segmentacao_tipo_index#16928, segmentacao_validade_index#17001, segmentacao_utilizacao_index#17077, segmentacoes_funcionalidade_index#17156, segmentacao_interatividade_index#17238, segmentacoes_impacto_ambiental_index#17323, segmentacoes_interacao_humana_index#17411, seller_city_index#15139, seller_state_index#15200, ... 5 more fields]\n",
              "                                                      +- Project [target#17544, order_status_index#17806, order_purchase_month#17836, order_approved_at#6025, order_delivered_carrier_date#5952, order_delivered_customer_date#5961, order_estimated_delivery_date#5970, days_to_approval#17866, days_to_carrier#17896, days_to_delivery#17926, days_estimated_vs_actual_delivery#17956, price#17986, cast(freight_value#198 as double) AS freight_value#18016, segmentacao_necessidade_index#16791, segmentacao_sentimento_index#16858, segmentacao_tipo_index#16928, segmentacao_validade_index#17001, segmentacao_utilizacao_index#17077, segmentacoes_funcionalidade_index#17156, segmentacao_interatividade_index#17238, segmentacoes_impacto_ambiental_index#17323, segmentacoes_interacao_humana_index#17411, seller_city_index#15139, seller_state_index#15200, ... 5 more fields]\n",
              "                                                         +- Project [target#17544, order_status_index#17806, order_purchase_month#17836, order_approved_at#6025, order_delivered_carrier_date#5952, order_delivered_customer_date#5961, order_estimated_delivery_date#5970, days_to_approval#17866, days_to_carrier#17896, days_to_delivery#17926, days_estimated_vs_actual_delivery#17956, cast(price#197 as double) AS price#17986, freight_value#198, segmentacao_necessidade_index#16791, segmentacao_sentimento_index#16858, segmentacao_tipo_index#16928, segmentacao_validade_index#17001, segmentacao_utilizacao_index#17077, segmentacoes_funcionalidade_index#17156, segmentacao_interatividade_index#17238, segmentacoes_impacto_ambiental_index#17323, segmentacoes_interacao_humana_index#17411, seller_city_index#15139, seller_state_index#15200, ... 5 more fields]\n",
              "                                                            +- Project [target#17544, order_status_index#17806, order_purchase_month#17836, order_approved_at#6025, order_delivered_carrier_date#5952, order_delivered_customer_date#5961, order_estimated_delivery_date#5970, days_to_approval#17866, days_to_carrier#17896, days_to_delivery#17926, cast(days_estimated_vs_actual_delivery#6012 as double) AS days_estimated_vs_actual_delivery#17956, price#197, freight_value#198, segmentacao_necessidade_index#16791, segmentacao_sentimento_index#16858, segmentacao_tipo_index#16928, segmentacao_validade_index#17001, segmentacao_utilizacao_index#17077, segmentacoes_funcionalidade_index#17156, segmentacao_interatividade_index#17238, segmentacoes_impacto_ambiental_index#17323, segmentacoes_interacao_humana_index#17411, seller_city_index#15139, seller_state_index#15200, ... 5 more fields]\n",
              "                                                               +- Project [target#17544, order_status_index#17806, order_purchase_month#17836, order_approved_at#6025, order_delivered_carrier_date#5952, order_delivered_customer_date#5961, order_estimated_delivery_date#5970, days_to_approval#17866, days_to_carrier#17896, cast(days_to_delivery#6000 as double) AS days_to_delivery#17926, days_estimated_vs_actual_delivery#6012, price#197, freight_value#198, segmentacao_necessidade_index#16791, segmentacao_sentimento_index#16858, segmentacao_tipo_index#16928, segmentacao_validade_index#17001, segmentacao_utilizacao_index#17077, segmentacoes_funcionalidade_index#17156, segmentacao_interatividade_index#17238, segmentacoes_impacto_ambiental_index#17323, segmentacoes_interacao_humana_index#17411, seller_city_index#15139, seller_state_index#15200, ... 5 more fields]\n",
              "                                                                  +- Project [target#17544, order_status_index#17806, order_purchase_month#17836, order_approved_at#6025, order_delivered_carrier_date#5952, order_delivered_customer_date#5961, order_estimated_delivery_date#5970, days_to_approval#17866, cast(days_to_carrier#5989 as double) AS days_to_carrier#17896, days_to_delivery#6000, days_estimated_vs_actual_delivery#6012, price#197, freight_value#198, segmentacao_necessidade_index#16791, segmentacao_sentimento_index#16858, segmentacao_tipo_index#16928, segmentacao_validade_index#17001, segmentacao_utilizacao_index#17077, segmentacoes_funcionalidade_index#17156, segmentacao_interatividade_index#17238, segmentacoes_impacto_ambiental_index#17323, segmentacoes_interacao_humana_index#17411, seller_city_index#15139, seller_state_index#15200, ... 5 more fields]\n",
              "                                                                     +- Project [target#17544, order_status_index#17806, order_purchase_month#17836, order_approved_at#6025, order_delivered_carrier_date#5952, order_delivered_customer_date#5961, order_estimated_delivery_date#5970, cast(days_to_approval#5979 as double) AS days_to_approval#17866, days_to_carrier#5989, days_to_delivery#6000, days_estimated_vs_actual_delivery#6012, price#197, freight_value#198, segmentacao_necessidade_index#16791, segmentacao_sentimento_index#16858, segmentacao_tipo_index#16928, segmentacao_validade_index#17001, segmentacao_utilizacao_index#17077, segmentacoes_funcionalidade_index#17156, segmentacao_interatividade_index#17238, segmentacoes_impacto_ambiental_index#17323, segmentacoes_interacao_humana_index#17411, seller_city_index#15139, seller_state_index#15200, ... 5 more fields]\n",
              "                                                                        +- Project [target#17544, order_status_index#17806, cast(order_purchase_month#15407 as double) AS order_purchase_month#17836, order_approved_at#6025, order_delivered_carrier_date#5952, order_delivered_customer_date#5961, order_estimated_delivery_date#5970, days_to_approval#5979, days_to_carrier#5989, days_to_delivery#6000, days_estimated_vs_actual_delivery#6012, price#197, freight_value#198, segmentacao_necessidade_index#16791, segmentacao_sentimento_index#16858, segmentacao_tipo_index#16928, segmentacao_validade_index#17001, segmentacao_utilizacao_index#17077, segmentacoes_funcionalidade_index#17156, segmentacao_interatividade_index#17238, segmentacoes_impacto_ambiental_index#17323, segmentacoes_interacao_humana_index#17411, seller_city_index#15139, seller_state_index#15200, ... 5 more fields]\n",
              "                                                                           +- Project [target#17544, cast(order_status_index#15070 as double) AS order_status_index#17806, order_purchase_month#15407, order_approved_at#6025, order_delivered_carrier_date#5952, order_delivered_customer_date#5961, order_estimated_delivery_date#5970, days_to_approval#5979, days_to_carrier#5989, days_to_delivery#6000, days_estimated_vs_actual_delivery#6012, price#197, freight_value#198, segmentacao_necessidade_index#16791, segmentacao_sentimento_index#16858, segmentacao_tipo_index#16928, segmentacao_validade_index#17001, segmentacao_utilizacao_index#17077, segmentacoes_funcionalidade_index#17156, segmentacao_interatividade_index#17238, segmentacoes_impacto_ambiental_index#17323, segmentacoes_interacao_humana_index#17411, seller_city_index#15139, seller_state_index#15200, ... 5 more fields]\n",
              "                                                                              +- Filter atleastnnonnulls(29, target#17544, order_status_index#15070, order_purchase_month#15407, order_approved_at#6025, order_delivered_carrier_date#5952, order_delivered_customer_date#5961, order_estimated_delivery_date#5970, days_to_approval#5979, days_to_carrier#5989, days_to_delivery#6000, days_estimated_vs_actual_delivery#6012, price#197, freight_value#198, segmentacao_necessidade_index#16791, segmentacao_sentimento_index#16858, segmentacao_tipo_index#16928, segmentacao_validade_index#17001, segmentacao_utilizacao_index#17077, segmentacoes_funcionalidade_index#17156, segmentacao_interatividade_index#17238, segmentacoes_impacto_ambiental_index#17323, segmentacoes_interacao_humana_index#17411, seller_city_index#15139, ... 6 more fields)\n",
              "                                                                                 +- Filter isnotnull(target#17544)\n",
              "                                                                                    +- Project [target#17544, order_status_index#15070, order_purchase_month#15407, order_approved_at#6025, order_delivered_carrier_date#5952, order_delivered_customer_date#5961, order_estimated_delivery_date#5970, days_to_approval#5979, days_to_carrier#5989, days_to_delivery#6000, days_estimated_vs_actual_delivery#6012, price#197, freight_value#198, segmentacao_necessidade_index#16791, segmentacao_sentimento_index#16858, segmentacao_tipo_index#16928, segmentacao_validade_index#17001, segmentacao_utilizacao_index#17077, segmentacoes_funcionalidade_index#17156, segmentacao_interatividade_index#17238, segmentacoes_impacto_ambiental_index#17323, segmentacoes_interacao_humana_index#17411, seller_city_index#15139, seller_state_index#15200, ... 5 more fields]\n",
              "                                                                                       +- Project [order_id#21, customer_id#73, seller_id#195, target#17544, order_status_index#15070, order_purchase_month#15407, order_approved_at#6025, order_delivered_carrier_date#5952, order_delivered_customer_date#5961, order_estimated_delivery_date#5970, days_to_approval#5979, days_to_carrier#5989, days_to_delivery#6000, days_estimated_vs_actual_delivery#6012, product_id#194, price#197, freight_value#198, segmentacao_necessidade_index#16791, segmentacao_sentimento_index#16858, segmentacao_tipo_index#16928, segmentacao_validade_index#17001, segmentacao_utilizacao_index#17077, segmentacoes_funcionalidade_index#17156, segmentacao_interatividade_index#17238, ... 9 more fields]\n",
              "                                                                                          +- Join Inner, (order_id#21 = order_id#17688)\n",
              "                                                                                             :- Project [customer_id#73, seller_id#195, order_id#21, target#17544, order_status_index#15070, order_purchase_month#15407, order_approved_at#6025, order_delivered_carrier_date#5952, order_delivered_customer_date#5961, order_estimated_delivery_date#5970, days_to_approval#5979, days_to_carrier#5989, days_to_delivery#6000, days_estimated_vs_actual_delivery#6012, product_id#194, price#197, freight_value#198, segmentacao_necessidade_index#16791, segmentacao_sentimento_index#16858, segmentacao_tipo_index#16928, segmentacao_validade_index#17001, segmentacao_utilizacao_index#17077, segmentacoes_funcionalidade_index#17156, segmentacao_interatividade_index#17238, ... 5 more fields]\n",
              "                                                                                             :  +- Join Inner, (customer_id#73 = customer_id#165)\n",
              "                                                                                             :     :- Project [seller_id#195, order_id#21, target#17544, customer_id#73, order_status_index#15070, order_purchase_month#15407, order_approved_at#6025, order_delivered_carrier_date#5952, order_delivered_customer_date#5961, order_estimated_delivery_date#5970, days_to_approval#5979, days_to_carrier#5989, days_to_delivery#6000, days_estimated_vs_actual_delivery#6012, product_id#194, price#197, freight_value#198, segmentacao_necessidade_index#16791, segmentacao_sentimento_index#16858, segmentacao_tipo_index#16928, segmentacao_validade_index#17001, segmentacao_utilizacao_index#17077, segmentacoes_funcionalidade_index#17156, segmentacao_interatividade_index#17238, ... 4 more fields]\n",
              "                                                                                             :     :  +- Join Inner, (seller_id#195 = seller_id#105)\n",
              "                                                                                             :     :     :- Project [order_id#21, target#17544, customer_id#73, order_status_index#15070, order_purchase_month#15407, order_approved_at#6025, order_delivered_carrier_date#5952, order_delivered_customer_date#5961, order_estimated_delivery_date#5970, days_to_approval#5979, days_to_carrier#5989, days_to_delivery#6000, days_estimated_vs_actual_delivery#6012, product_id#194, price#197, freight_value#198, seller_id#195, segmentacao_necessidade_index#16791, segmentacao_sentimento_index#16858, segmentacao_tipo_index#16928, segmentacao_validade_index#17001, segmentacao_utilizacao_index#17077, segmentacoes_funcionalidade_index#17156, segmentacao_interatividade_index#17238, ... 2 more fields]\n",
              "                                                                                             :     :     :  +- Join Inner, (order_id#21 = order_id#192)\n",
              "                                                                                             :     :     :     :- Project [order_id#21, target#17544, customer_id#73, order_status_index#15070, order_purchase_month#15407, order_approved_at#6025, order_delivered_carrier_date#5952, order_delivered_customer_date#5961, order_estimated_delivery_date#5970, days_to_approval#5979, days_to_carrier#5989, days_to_delivery#6000, days_estimated_vs_actual_delivery#6012]\n",
              "                                                                                             :     :     :     :  +- Join Inner, (order_id#21 = order_id#72)\n",
              "                                                                                             :     :     :     :     :- Project [order_id#21, cast(review_score#22 as int) AS target#17544]\n",
              "                                                                                             :     :     :     :     :  +- Project [review_id#20, order_id#21, review_score#22, review_comment_title#23, review_comment_message#24, review_creation_date#25, review_answer_timestamp#26, days_to_response#7533, CASE WHEN (isnotnull(review_comment_message#24) OR isnotnull(review_comment_title#23)) THEN 1 ELSE 0 END AS has_review_comment#7634]\n",
              "                                                                                             :     :     :     :     :     +- Project [review_id#20, order_id#21, review_score#22, review_comment_title#23, review_comment_message#24, review_creation_date#25, review_answer_timestamp#26, datediff(cast(review_answer_timestamp#26 as date), cast(review_creation_date#25 as date)) AS days_to_response#7533]\n",
              "                                                                                             :     :     :     :     :        +- Relation [review_id#20,order_id#21,review_score#22,review_comment_title#23,review_comment_message#24,review_creation_date#25,review_answer_timestamp#26] csv\n",
              "                                                                                             :     :     :     :     +- Project [order_id#72, customer_id#73, order_status_index#15070, order_purchase_month#15407, order_approved_at#6025, order_delivered_carrier_date#5952, order_delivered_customer_date#5961, order_estimated_delivery_date#5970, days_to_approval#5979, days_to_carrier#5989, days_to_delivery#6000, days_estimated_vs_actual_delivery#6012]\n",
              "                                                                                             :     :     :     :        +- Project [customer_id#73, order_id#72, order_status#74, order_purchase_timestamp#5934, order_approved_at#6025, order_delivered_carrier_date#5952, order_delivered_customer_date#5961, order_estimated_delivery_date#5970, days_to_approval#5979, days_to_carrier#5989, days_to_delivery#6000, days_estimated_vs_actual_delivery#6012, approval_group#9868, carrier_group#9882, delivery_group#9897, estimated_vs_actual_group#9913, order_status_index#15070, month(cast(order_purchase_timestamp#5934 as date)) AS order_purchase_month#15407]\n",
              "                                                                                             :     :     :     :           +- Project [customer_id#73, order_id#72, order_status#74, order_purchase_timestamp#5934, order_approved_at#6025, order_delivered_carrier_date#5952, order_delivered_customer_date#5961, order_estimated_delivery_date#5970, days_to_approval#5979, days_to_carrier#5989, days_to_delivery#6000, days_estimated_vs_actual_delivery#6012, approval_group#9868, carrier_group#9882, delivery_group#9897, estimated_vs_actual_group#9913, UDF(cast(order_status#74 as string)) AS order_status_index#15070]\n",
              "                                                                                             :     :     :     :              +- Project [customer_id#73, order_id#72, order_status#74, order_purchase_timestamp#5934, order_approved_at#6025, order_delivered_carrier_date#5952, order_delivered_customer_date#5961, order_estimated_delivery_date#5970, days_to_approval#5979, days_to_carrier#5989, days_to_delivery#6000, days_estimated_vs_actual_delivery#6012, approval_group#9868, carrier_group#9882, delivery_group#9897, estimated_vs_actual_group#9913]\n",
              "                                                                                             :     :     :     :                 +- Join Inner, (customer_id#73 = customer_id#11120)\n",
              "                                                                                             :     :     :     :                    :- Project [order_id#72, customer_id#73, order_status#74, order_purchase_timestamp#5934, order_approved_at#6025, order_delivered_carrier_date#5952, order_delivered_customer_date#5961, order_estimated_delivery_date#5970, days_to_approval#5979, days_to_carrier#5989, days_to_delivery#6000, days_estimated_vs_actual_delivery#6012, approval_group#9868, carrier_group#9882, delivery_group#9897, CASE WHEN (days_estimated_vs_actual_delivery#6012 <= 3) THEN até 3 dias WHEN (days_estimated_vs_actual_delivery#6012 <= 5) THEN 3 a 5 dias WHEN (days_estimated_vs_actual_delivery#6012 <= 7) THEN 5 a 7 dias ELSE mais de 7 dias END AS estimated_vs_actual_group#9913]\n",
              "                                                                                             :     :     :     :                    :  +- Project [order_id#72, customer_id#73, order_status#74, order_purchase_timestamp#5934, order_approved_at#6025, order_delivered_carrier_date#5952, order_delivered_customer_date#5961, order_estimated_delivery_date#5970, days_to_approval#5979, days_to_carrier#5989, days_to_delivery#6000, days_estimated_vs_actual_delivery#6012, approval_group#9868, carrier_group#9882, CASE WHEN (days_to_delivery#6000 <= 3) THEN até 3 dias WHEN (days_to_delivery#6000 <= 5) THEN 3 a 5 dias WHEN (days_to_delivery#6000 <= 7) THEN 5 a 7 dias ELSE mais de 7 dias END AS delivery_group#9897]\n",
              "                                                                                             :     :     :     :                    :     +- Project [order_id#72, customer_id#73, order_status#74, order_purchase_timestamp#5934, order_approved_at#6025, order_delivered_carrier_date#5952, order_delivered_customer_date#5961, order_estimated_delivery_date#5970, days_to_approval#5979, days_to_carrier#5989, days_to_delivery#6000, days_estimated_vs_actual_delivery#6012, approval_group#9868, CASE WHEN (days_to_carrier#5989 <= 3) THEN até 3 dias WHEN (days_to_carrier#5989 <= 5) THEN 3 a 5 dias WHEN (days_to_carrier#5989 <= 7) THEN 5 a 7 dias ELSE mais de 7 dias END AS carrier_group#9882]\n",
              "                                                                                             :     :     :     :                    :        +- Project [order_id#72, customer_id#73, order_status#74, order_purchase_timestamp#5934, order_approved_at#6025, order_delivered_carrier_date#5952, order_delivered_customer_date#5961, order_estimated_delivery_date#5970, days_to_approval#5979, days_to_carrier#5989, days_to_delivery#6000, days_estimated_vs_actual_delivery#6012, CASE WHEN (days_to_approval#5979 <= 3) THEN até 3 dias WHEN (days_to_approval#5979 <= 5) THEN 3 a 5 dias WHEN (days_to_approval#5979 <= 7) THEN 5 a 7 dias ELSE mais de 7 dias END AS approval_group#9868]\n",
              "                                                                                             :     :     :     :                    :           +- Project [order_id#72, customer_id#73, order_status#74, order_purchase_timestamp#5934, cast(order_approved_at#5943 as timestamp) AS order_approved_at#6025, order_delivered_carrier_date#5952, order_delivered_customer_date#5961, order_estimated_delivery_date#5970, days_to_approval#5979, days_to_carrier#5989, days_to_delivery#6000, days_estimated_vs_actual_delivery#6012]\n",
              "                                                                                             :     :     :     :                    :              +- Project [order_id#72, customer_id#73, order_status#74, order_purchase_timestamp#5934, order_approved_at#5943, order_delivered_carrier_date#5952, order_delivered_customer_date#5961, order_estimated_delivery_date#5970, days_to_approval#5979, days_to_carrier#5989, days_to_delivery#6000, datediff(cast(order_delivered_customer_date#5961 as date), cast(order_estimated_delivery_date#5970 as date)) AS days_estimated_vs_actual_delivery#6012]\n",
              "                                                                                             :     :     :     :                    :                 +- Project [order_id#72, customer_id#73, order_status#74, order_purchase_timestamp#5934, order_approved_at#5943, order_delivered_carrier_date#5952, order_delivered_customer_date#5961, order_estimated_delivery_date#5970, days_to_approval#5979, days_to_carrier#5989, datediff(cast(order_delivered_customer_date#5961 as date), cast(order_purchase_timestamp#5934 as date)) AS days_to_delivery#6000]\n",
              "                                                                                             :     :     :     :                    :                    +- Project [order_id#72, customer_id#73, order_status#74, order_purchase_timestamp#5934, order_approved_at#5943, order_delivered_carrier_date#5952, order_delivered_customer_date#5961, order_estimated_delivery_date#5970, days_to_approval#5979, datediff(cast(order_delivered_carrier_date#5952 as date), cast(order_purchase_timestamp#5934 as date)) AS days_to_carrier#5989]\n",
              "                                                                                             :     :     :     :                    :                       +- Project [order_id#72, customer_id#73, order_status#74, order_purchase_timestamp#5934, order_approved_at#5943, order_delivered_carrier_date#5952, order_delivered_customer_date#5961, order_estimated_delivery_date#5970, datediff(cast(order_approved_at#5943 as date), cast(order_purchase_timestamp#5934 as date)) AS days_to_approval#5979]\n",
              "                                                                                             :     :     :     :                    :                          +- Project [order_id#72, customer_id#73, order_status#74, order_purchase_timestamp#5934, order_approved_at#5943, order_delivered_carrier_date#5952, order_delivered_customer_date#5961, cast(order_estimated_delivery_date#79 as timestamp) AS order_estimated_delivery_date#5970]\n",
              "                                                                                             :     :     :     :                    :                             +- Project [order_id#72, customer_id#73, order_status#74, order_purchase_timestamp#5934, order_approved_at#5943, order_delivered_carrier_date#5952, cast(order_delivered_customer_date#78 as timestamp) AS order_delivered_customer_date#5961, order_estimated_delivery_date#79]\n",
              "                                                                                             :     :     :     :                    :                                +- Project [order_id#72, customer_id#73, order_status#74, order_purchase_timestamp#5934, order_approved_at#5943, cast(order_delivered_carrier_date#77 as timestamp) AS order_delivered_carrier_date#5952, order_delivered_customer_date#78, order_estimated_delivery_date#79]\n",
              "                                                                                             :     :     :     :                    :                                   +- Project [order_id#72, customer_id#73, order_status#74, order_purchase_timestamp#5934, cast(order_approved_at#76 as timestamp) AS order_approved_at#5943, order_delivered_carrier_date#77, order_delivered_customer_date#78, order_estimated_delivery_date#79]\n",
              "                                                                                             :     :     :     :                    :                                      +- Project [order_id#72, customer_id#73, order_status#74, cast(order_purchase_timestamp#75 as timestamp) AS order_purchase_timestamp#5934, order_approved_at#76, order_delivered_carrier_date#77, order_delivered_customer_date#78, order_estimated_delivery_date#79]\n",
              "                                                                                             :     :     :     :                    :                                         +- Relation [order_id#72,customer_id#73,order_status#74,order_purchase_timestamp#75,order_approved_at#76,order_delivered_carrier_date#77,order_delivered_customer_date#78,order_estimated_delivery_date#79] csv\n",
              "                                                                                             :     :     :     :                    +- Project [customer_id#11120]\n",
              "                                                                                             :     :     :     :                       +- Filter ((total_value#11081 >= -339.855) AND (total_value#11081 <= 670.6650000000001))\n",
              "                                                                                             :     :     :     :                          +- Aggregate [customer_id#11120], [customer_id#11120, sum(payment_value#227) AS total_value#11081]\n",
              "                                                                                             :     :     :     :                             +- Project [order_id#11119, customer_id#11120, order_status#11121, order_purchase_timestamp#5934, order_approved_at#6025, order_delivered_carrier_date#5952, order_delivered_customer_date#5961, order_estimated_delivery_date#5970, days_to_approval#5979, days_to_carrier#5989, days_to_delivery#6000, days_estimated_vs_actual_delivery#6012, approval_group#9868, carrier_group#9882, delivery_group#9897, estimated_vs_actual_group#9913, payment_sequential#224, payment_type#225, payment_installments#226, payment_value#227]\n",
              "                                                                                             :     :     :     :                                +- Join Inner, (order_id#11119 = order_id#223)\n",
              "                                                                                             :     :     :     :                                   :- Project [order_id#11119, customer_id#11120, order_status#11121, order_purchase_timestamp#5934, order_approved_at#6025, order_delivered_carrier_date#5952, order_delivered_customer_date#5961, order_estimated_delivery_date#5970, days_to_approval#5979, days_to_carrier#5989, days_to_delivery#6000, days_estimated_vs_actual_delivery#6012, approval_group#9868, carrier_group#9882, delivery_group#9897, CASE WHEN (days_estimated_vs_actual_delivery#6012 <= 3) THEN até 3 dias WHEN (days_estimated_vs_actual_delivery#6012 <= 5) THEN 3 a 5 dias WHEN (days_estimated_vs_actual_delivery#6012 <= 7) THEN 5 a 7 dias ELSE mais de 7 dias END AS estimated_vs_actual_group#9913]\n",
              "                                                                                             :     :     :     :                                   :  +- Project [order_id#11119, customer_id#11120, order_status#11121, order_purchase_timestamp#5934, order_approved_at#6025, order_delivered_carrier_date#5952, order_delivered_customer_date#5961, order_estimated_delivery_date#5970, days_to_approval#5979, days_to_carrier#5989, days_to_delivery#6000, days_estimated_vs_actual_delivery#6012, approval_group#9868, carrier_group#9882, CASE WHEN (days_to_delivery#6000 <= 3) THEN até 3 dias WHEN (days_to_delivery#6000 <= 5) THEN 3 a 5 dias WHEN (days_to_delivery#6000 <= 7) THEN 5 a 7 dias ELSE mais de 7 dias END AS delivery_group#9897]\n",
              "                                                                                             :     :     :     :                                   :     +- Project [order_id#11119, customer_id#11120, order_status#11121, order_purchase_timestamp#5934, order_approved_at#6025, order_delivered_carrier_date#5952, order_delivered_customer_date#5961, order_estimated_delivery_date#5970, days_to_approval#5979, days_to_carrier#5989, days_to_delivery#6000, days_estimated_vs_actual_delivery#6012, approval_group#9868, CASE WHEN (days_to_carrier#5989 <= 3) THEN até 3 dias WHEN (days_to_carrier#5989 <= 5) THEN 3 a 5 dias WHEN (days_to_carrier#5989 <= 7) THEN 5 a 7 dias ELSE mais de 7 dias END AS carrier_group#9882]\n",
              "                                                                                             :     :     :     :                                   :        +- Project [order_id#11119, customer_id#11120, order_status#11121, order_purchase_timestamp#5934, order_approved_at#6025, order_delivered_carrier_date#5952, order_delivered_customer_date#5961, order_estimated_delivery_date#5970, days_to_approval#5979, days_to_carrier#5989, days_to_delivery#6000, days_estimated_vs_actual_delivery#6012, CASE WHEN (days_to_approval#5979 <= 3) THEN até 3 dias WHEN (days_to_approval#5979 <= 5) THEN 3 a 5 dias WHEN (days_to_approval#5979 <= 7) THEN 5 a 7 dias ELSE mais de 7 dias END AS approval_group#9868]\n",
              "                                                                                             :     :     :     :                                   :           +- Project [order_id#11119, customer_id#11120, order_status#11121, order_purchase_timestamp#5934, cast(order_approved_at#5943 as timestamp) AS order_approved_at#6025, order_delivered_carrier_date#5952, order_delivered_customer_date#5961, order_estimated_delivery_date#5970, days_to_approval#5979, days_to_carrier#5989, days_to_delivery#6000, days_estimated_vs_actual_delivery#6012]\n",
              "                                                                                             :     :     :     :                                   :              +- Project [order_id#11119, customer_id#11120, order_status#11121, order_purchase_timestamp#5934, order_approved_at#5943, order_delivered_carrier_date#5952, order_delivered_customer_date#5961, order_estimated_delivery_date#5970, days_to_approval#5979, days_to_carrier#5989, days_to_delivery#6000, datediff(cast(order_delivered_customer_date#5961 as date), cast(order_estimated_delivery_date#5970 as date)) AS days_estimated_vs_actual_delivery#6012]\n",
              "                                                                                             :     :     :     :                                   :                 +- Project [order_id#11119, customer_id#11120, order_status#11121, order_purchase_timestamp#5934, order_approved_at#5943, order_delivered_carrier_date#5952, order_delivered_customer_date#5961, order_estimated_delivery_date#5970, days_to_approval#5979, days_to_carrier#5989, datediff(cast(order_delivered_customer_date#5961 as date), cast(order_purchase_timestamp#5934 as date)) AS days_to_delivery#6000]\n",
              "                                                                                             :     :     :     :                                   :                    +- Project [order_id#11119, customer_id#11120, order_status#11121, order_purchase_timestamp#5934, order_approved_at#5943, order_delivered_carrier_date#5952, order_delivered_customer_date#5961, order_estimated_delivery_date#5970, days_to_approval#5979, datediff(cast(order_delivered_carrier_date#5952 as date), cast(order_purchase_timestamp#5934 as date)) AS days_to_carrier#5989]\n",
              "                                                                                             :     :     :     :                                   :                       +- Project [order_id#11119, customer_id#11120, order_status#11121, order_purchase_timestamp#5934, order_approved_at#5943, order_delivered_carrier_date#5952, order_delivered_customer_date#5961, order_estimated_delivery_date#5970, datediff(cast(order_approved_at#5943 as date), cast(order_purchase_timestamp#5934 as date)) AS days_to_approval#5979]\n",
              "                                                                                             :     :     :     :                                   :                          +- Project [order_id#11119, customer_id#11120, order_status#11121, order_purchase_timestamp#5934, order_approved_at#5943, order_delivered_carrier_date#5952, order_delivered_customer_date#5961, cast(order_estimated_delivery_date#11126 as timestamp) AS order_estimated_delivery_date#5970]\n",
              "                                                                                             :     :     :     :                                   :                             +- Project [order_id#11119, customer_id#11120, order_status#11121, order_purchase_timestamp#5934, order_approved_at#5943, order_delivered_carrier_date#5952, cast(order_delivered_customer_date#11125 as timestamp) AS order_delivered_customer_date#5961, order_estimated_delivery_date#11126]\n",
              "                                                                                             :     :     :     :                                   :                                +- Project [order_id#11119, customer_id#11120, order_status#11121, order_purchase_timestamp#5934, order_approved_at#5943, cast(order_delivered_carrier_date#11124 as timestamp) AS order_delivered_carrier_date#5952, order_delivered_customer_date#11125, order_estimated_delivery_date#11126]\n",
              "                                                                                             :     :     :     :                                   :                                   +- Project [order_id#11119, customer_id#11120, order_status#11121, order_purchase_timestamp#5934, cast(order_approved_at#11123 as timestamp) AS order_approved_at#5943, order_delivered_carrier_date#11124, order_delivered_customer_date#11125, order_estimated_delivery_date#11126]\n",
              "                                                                                             :     :     :     :                                   :                                      +- Project [order_id#11119, customer_id#11120, order_status#11121, cast(order_purchase_timestamp#11122 as timestamp) AS order_purchase_timestamp#5934, order_approved_at#11123, order_delivered_carrier_date#11124, order_delivered_customer_date#11125, order_estimated_delivery_date#11126]\n",
              "                                                                                             :     :     :     :                                   :                                         +- Relation [order_id#11119,customer_id#11120,order_status#11121,order_purchase_timestamp#11122,order_approved_at#11123,order_delivered_carrier_date#11124,order_delivered_customer_date#11125,order_estimated_delivery_date#11126] csv\n",
              "                                                                                             :     :     :     :                                   +- Relation [order_id#223,payment_sequential#224,payment_type#225,payment_installments#226,payment_value#227] csv\n",
              "                                                                                             :     :     :     +- Project [order_id#192, product_id#194, price#197, freight_value#198, seller_id#195, segmentacao_necessidade_index#16791, segmentacao_sentimento_index#16858, segmentacao_tipo_index#16928, segmentacao_validade_index#17001, segmentacao_utilizacao_index#17077, segmentacoes_funcionalidade_index#17156, segmentacao_interatividade_index#17238, segmentacoes_impacto_ambiental_index#17323, segmentacoes_interacao_humana_index#17411]\n",
              "                                                                                             :     :     :        +- Project [product_id#194, order_id#192, order_item_id#193, seller_id#195, shipping_limit_date#6038, price#197, freight_value#198, days_to_shipping_limit#6064, shipping_group#9732, product_category_name#131, product_name_lenght#132, product_description_lenght#133, product_photos_qty#134, product_weight_g#135, product_length_cm#136, product_height_cm#137, product_width_cm#138, product_volume#9130, segmentacao_necessidade#10816, segmentacao_sentimento#10829, segmentacao_tipo#10843, segmentacao_validade#10858, segmentacao_utilizacao#10874, segmentacoes_funcionalidade#10891, ... 30 more fields]\n",
              "                                                                                             :     :     :           +- Join Inner, (product_id#194 = product_id#17443)\n",
              "                                                                                             :     :     :              :- Project [product_id#194, order_id#192, order_item_id#193, seller_id#195, shipping_limit_date#6038, price#197, freight_value#198, days_to_shipping_limit#6064, shipping_group#9732, product_category_name#131, product_name_lenght#132, product_description_lenght#133, product_photos_qty#134, product_weight_g#135, product_length_cm#136, product_height_cm#137, product_width_cm#138, product_volume#9130, segmentacao_necessidade#10816, segmentacao_sentimento#10829, segmentacao_tipo#10843, segmentacao_validade#10858, segmentacao_utilizacao#10874, segmentacoes_funcionalidade#10891, ... 3 more fields]\n",
              "                                                                                             :     :     :              :  +- Join Inner, (product_id#194 = product_id#130)\n",
              "                                                                                             :     :     :              :     :- Project [order_id#192, order_item_id#193, product_id#194, seller_id#195, shipping_limit_date#6038, price#197, freight_value#198, days_to_shipping_limit#6064, CASE WHEN (datediff(cast(shipping_limit_date#6038 as date), cast(shipping_limit_date#6038 as date)) <= 1) THEN até 1 dias WHEN (datediff(cast(shipping_limit_date#6038 as date), cast(shipping_limit_date#6038 as date)) <= 2) THEN até 2 dias WHEN (datediff(cast(shipping_limit_date#6038 as date), cast(shipping_limit_date#6038 as date)) <= 3) THEN até 3 dias ELSE mais de 7 dias END AS shipping_group#9732]\n",
              "                                                                                             :     :     :              :     :  +- Project [order_id#192, order_item_id#193, product_id#194, seller_id#195, shipping_limit_date#6038, price#197, freight_value#198, days_to_shipping_limit#6064]\n",
              "                                                                                             :     :     :              :     :     +- Project [order_id#192, order_item_id#193, product_id#194, seller_id#195, shipping_limit_date#6038, price#197, freight_value#198, customer_id#17587, order_status#17588, order_purchase_timestamp#5934, order_approved_at#6025, order_delivered_carrier_date#5952, order_delivered_customer_date#5961, order_estimated_delivery_date#5970, days_to_approval#5979, days_to_carrier#5989, days_to_delivery#6000, days_estimated_vs_actual_delivery#6012, datediff(cast(shipping_limit_date#6038 as date), cast(order_approved_at#6025 as date)) AS days_to_shipping_limit#6064]\n",
              "                                                                                             :     :     :              :     :        +- Project [order_id#192, order_item_id#193, product_id#194, seller_id#195, shipping_limit_date#6038, price#197, freight_value#198, customer_id#17587, order_status#17588, order_purchase_timestamp#5934, order_approved_at#6025, order_delivered_carrier_date#5952, order_delivered_customer_date#5961, order_estimated_delivery_date#5970, days_to_approval#5979, days_to_carrier#5989, days_to_delivery#6000, days_estimated_vs_actual_delivery#6012]\n",
              "                                                                                             :     :     :              :     :           +- Join Inner, (order_id#192 = order_id#17586)\n",
              "                                                                                             :     :     :              :     :              :- Project [order_id#192, order_item_id#193, product_id#194, seller_id#195, cast(shipping_limit_date#196 as timestamp) AS shipping_limit_date#6038, price#197, freight_value#198]\n",
              "                                                                                             :     :     :              :     :              :  +- Relation [order_id#192,order_item_id#193,product_id#194,seller_id#195,shipping_limit_date#196,price#197,freight_value#198] csv\n",
              "                                                                                             :     :     :              :     :              +- Project [order_id#17586, customer_id#17587, order_status#17588, order_purchase_timestamp#5934, cast(order_approved_at#5943 as timestamp) AS order_approved_at#6025, order_delivered_carrier_date#5952, order_delivered_customer_date#5961, order_estimated_delivery_date#5970, days_to_approval#5979, days_to_carrier#5989, days_to_delivery#6000, days_estimated_vs_actual_delivery#6012]\n",
              "                                                                                             :     :     :              :     :                 +- Project [order_id#17586, customer_id#17587, order_status#17588, order_purchase_timestamp#5934, order_approved_at#5943, order_delivered_carrier_date#5952, order_delivered_customer_date#5961, order_estimated_delivery_date#5970, days_to_approval#5979, days_to_carrier#5989, days_to_delivery#6000, datediff(cast(order_delivered_customer_date#5961 as date), cast(order_estimated_delivery_date#5970 as date)) AS days_estimated_vs_actual_delivery#6012]\n",
              "                                                                                             :     :     :              :     :                    +- Project [order_id#17586, customer_id#17587, order_status#17588, order_purchase_timestamp#5934, order_approved_at#5943, order_delivered_carrier_date#5952, order_delivered_customer_date#5961, order_estimated_delivery_date#5970, days_to_approval#5979, days_to_carrier#5989, datediff(cast(order_delivered_customer_date#5961 as date), cast(order_purchase_timestamp#5934 as date)) AS days_to_delivery#6000]\n",
              "                                                                                             :     :     :              :     :                       +- Project [order_id#17586, customer_id#17587, order_status#17588, order_purchase_timestamp#5934, order_approved_at#5943, order_delivered_carrier_date#5952, order_delivered_customer_date#5961, order_estimated_delivery_date#5970, days_to_approval#5979, datediff(cast(order_delivered_carrier_date#5952 as date), cast(order_purchase_timestamp#5934 as date)) AS days_to_carrier#5989]\n",
              "                                                                                             :     :     :              :     :                          +- Project [order_id#17586, customer_id#17587, order_status#17588, order_purchase_timestamp#5934, order_approved_at#5943, order_delivered_carrier_date#5952, order_delivered_customer_date#5961, order_estimated_delivery_date#5970, datediff(cast(order_approved_at#5943 as date), cast(order_purchase_timestamp#5934 as date)) AS days_to_approval#5979]\n",
              "                                                                                             :     :     :              :     :                             +- Project [order_id#17586, customer_id#17587, order_status#17588, order_purchase_timestamp#5934, order_approved_at#5943, order_delivered_carrier_date#5952, order_delivered_customer_date#5961, cast(order_estimated_delivery_date#17593 as timestamp) AS order_estimated_delivery_date#5970]\n",
              "                                                                                             :     :     :              :     :                                +- Project [order_id#17586, customer_id#17587, order_status#17588, order_purchase_timestamp#5934, order_approved_at#5943, order_delivered_carrier_date#5952, cast(order_delivered_customer_date#17592 as timestamp) AS order_delivered_customer_date#5961, order_estimated_delivery_date#17593]\n",
              "                                                                                             :     :     :              :     :                                   +- Project [order_id#17586, customer_id#17587, order_status#17588, order_purchase_timestamp#5934, order_approved_at#5943, cast(order_delivered_carrier_date#17591 as timestamp) AS order_delivered_carrier_date#5952, order_delivered_customer_date#17592, order_estimated_delivery_date#17593]\n",
              "                                                                                             :     :     :              :     :                                      +- Project [order_id#17586, customer_id#17587, order_status#17588, order_purchase_timestamp#5934, cast(order_approved_at#17590 as timestamp) AS order_approved_at#5943, order_delivered_carrier_date#17591, order_delivered_customer_date#17592, order_estimated_delivery_date#17593]\n",
              "                                                                                             :     :     :              :     :                                         +- Project [order_id#17586, customer_id#17587, order_status#17588, cast(order_purchase_timestamp#17589 as timestamp) AS order_purchase_timestamp#5934, order_approved_at#17590, order_delivered_carrier_date#17591, order_delivered_customer_date#17592, order_estimated_delivery_date#17593]\n",
              "                                                                                             :     :     :              :     :                                            +- Relation [order_id#17586,customer_id#17587,order_status#17588,order_purchase_timestamp#17589,order_approved_at#17590,order_delivered_carrier_date#17591,order_delivered_customer_date#17592,order_estimated_delivery_date#17593] csv\n",
              "                                                                                             :     :     :              :     +- Project [product_id#130, product_category_name#131, product_name_lenght#132, product_description_lenght#133, product_photos_qty#134, product_weight_g#135, product_length_cm#136, product_height_cm#137, product_width_cm#138, product_volume#9130, segmentacao_necessidade#10816, segmentacao_sentimento#10829, segmentacao_tipo#10843, segmentacao_validade#10858, segmentacao_utilizacao#10874, segmentacoes_funcionalidade#10891, segmentacao_interatividade#10909, segmentacoes_impacto_ambiental#10928, segmentacoe_interacao_humana(product_category_name#131)#10947 AS segmentacoes_interacao_humana#10948]\n",
              "                                                                                             :     :     :              :        +- Project [product_id#130, product_category_name#131, product_name_lenght#132, product_description_lenght#133, product_photos_qty#134, product_weight_g#135, product_length_cm#136, product_height_cm#137, product_width_cm#138, product_volume#9130, segmentacao_necessidade#10816, segmentacao_sentimento#10829, segmentacao_tipo#10843, segmentacao_validade#10858, segmentacao_utilizacao#10874, segmentacoes_funcionalidade#10891, segmentacao_interatividade#10909, segmentacoe_impacto_ambiental(product_category_name#131)#10927 AS segmentacoes_impacto_ambiental#10928]\n",
              "                                                                                             :     :     :              :           +- Project [product_id#130, product_category_name#131, product_name_lenght#132, product_description_lenght#133, product_photos_qty#134, product_weight_g#135, product_length_cm#136, product_height_cm#137, product_width_cm#138, product_volume#9130, segmentacao_necessidade#10816, segmentacao_sentimento#10829, segmentacao_tipo#10843, segmentacao_validade#10858, segmentacao_utilizacao#10874, segmentacoes_funcionalidade#10891, segmentacao_interatividade(product_category_name#131)#10908 AS segmentacao_interatividade#10909]\n",
              "                                                                                             :     :     :              :              +- Project [product_id#130, product_category_name#131, product_name_lenght#132, product_description_lenght#133, product_photos_qty#134, product_weight_g#135, product_length_cm#136, product_height_cm#137, product_width_cm#138, product_volume#9130, segmentacao_necessidade#10816, segmentacao_sentimento#10829, segmentacao_tipo#10843, segmentacao_validade#10858, segmentacao_utilizacao#10874, segmentacao_funcionalidade(product_category_name#131)#10890 AS segmentacoes_funcionalidade#10891]\n",
              "                                                                                             :     :     :              :                 +- Project [product_id#130, product_category_name#131, product_name_lenght#132, product_description_lenght#133, product_photos_qty#134, product_weight_g#135, product_length_cm#136, product_height_cm#137, product_width_cm#138, product_volume#9130, segmentacao_necessidade#10816, segmentacao_sentimento#10829, segmentacao_tipo#10843, segmentacao_validade#10858, segmentacao_utilizacao(product_category_name#131)#10873 AS segmentacao_utilizacao#10874]\n",
              "                                                                                             :     :     :              :                    +- Project [product_id#130, product_category_name#131, product_name_lenght#132, product_description_lenght#133, product_photos_qty#134, product_weight_g#135, product_length_cm#136, product_height_cm#137, product_width_cm#138, product_volume#9130, segmentacao_necessidade#10816, segmentacao_sentimento#10829, segmentacao_tipo#10843, segmentacao_validade(product_category_name#131)#10857 AS segmentacao_validade#10858]\n",
              "                                                                                             :     :     :              :                       +- Project [product_id#130, product_category_name#131, product_name_lenght#132, product_description_lenght#133, product_photos_qty#134, product_weight_g#135, product_length_cm#136, product_height_cm#137, product_width_cm#138, product_volume#9130, segmentacao_necessidade#10816, segmentacao_sentimento#10829, segmentacao_tipo(product_category_name#131)#10842 AS segmentacao_tipo#10843]\n",
              "                                                                                             :     :     :              :                          +- Project [product_id#130, product_category_name#131, product_name_lenght#132, product_description_lenght#133, product_photos_qty#134, product_weight_g#135, product_length_cm#136, product_height_cm#137, product_width_cm#138, product_volume#9130, segmentacao_necessidade#10816, segmentacao_sentimento(product_category_name#131)#10828 AS segmentacao_sentimento#10829]\n",
              "                                                                                             :     :     :              :                             +- Project [product_id#130, product_category_name#131, product_name_lenght#132, product_description_lenght#133, product_photos_qty#134, product_weight_g#135, product_length_cm#136, product_height_cm#137, product_width_cm#138, product_volume#9130, segmentacoe_necessidade(product_category_name#131)#10815 AS segmentacao_necessidade#10816]\n",
              "                                                                                             :     :     :              :                                +- Project [product_id#130, product_category_name#131, product_name_lenght#132, product_description_lenght#133, product_photos_qty#134, product_weight_g#135, product_length_cm#136, product_height_cm#137, product_width_cm#138, ((product_length_cm#136 * product_height_cm#137) * product_width_cm#138) AS product_volume#9130]\n",
              "                                                                                             :     :     :              :                                   +- Relation [product_id#130,product_category_name#131,product_name_lenght#132,product_description_lenght#133,product_photos_qty#134,product_weight_g#135,product_length_cm#136,product_height_cm#137,product_width_cm#138] csv\n",
              "                                                                                             :     :     :              +- Project [product_id#17443, product_category_name#17444, product_name_lenght#17445, product_description_lenght#17446, product_photos_qty#17447, product_weight_g#17448, product_length_cm#17449, product_height_cm#17450, product_width_cm#17451, product_volume#17462, segmentacao_necessidade#17461, segmentacao_sentimento#17460, segmentacao_tipo#17459, segmentacao_validade#17458, segmentacao_utilizacao#17457, segmentacoes_funcionalidade#17456, segmentacao_interatividade#17455, segmentacoes_impacto_ambiental#17454, segmentacoes_interacao_humana#17452, segmentacao_necessidade_index#16791, segmentacao_sentimento_index#16858, segmentacao_tipo_index#16928, segmentacao_validade_index#17001, segmentacao_utilizacao_index#17077, ... 4 more fields]\n",
              "                                                                                             :     :     :                 +- Project [product_id#17443, product_category_name#17444, product_name_lenght#17445, product_description_lenght#17446, product_photos_qty#17447, product_weight_g#17448, product_length_cm#17449, product_height_cm#17450, product_width_cm#17451, product_volume#17462, segmentacao_necessidade#17461, segmentacao_sentimento#17460, segmentacao_tipo#17459, segmentacao_validade#17458, segmentacao_utilizacao#17457, segmentacoes_funcionalidade#17456, segmentacao_interatividade#17455, segmentacoes_impacto_ambiental#17454, segmentacoes_interacao_humana#17452, segmentacao_necessidade_index#16791, segmentacao_sentimento_index#16858, segmentacao_tipo_index#16928, segmentacao_validade_index#17001, segmentacao_utilizacao_index#17077, ... 3 more fields]\n",
              "                                                                                             :     :     :                    +- Project [product_id#17443, product_category_name#17444, product_name_lenght#17445, product_description_lenght#17446, product_photos_qty#17447, product_weight_g#17448, product_length_cm#17449, product_height_cm#17450, product_width_cm#17451, product_volume#17462, segmentacao_necessidade#17461, segmentacao_sentimento#17460, segmentacao_tipo#17459, segmentacao_validade#17458, segmentacao_utilizacao#17457, segmentacoes_funcionalidade#17456, segmentacao_interatividade#17455, segmentacoes_impacto_ambiental#17454, segmentacoes_interacao_humana#17452, segmentacao_necessidade_index#16791, segmentacao_sentimento_index#16858, segmentacao_tipo_index#16928, segmentacao_validade_index#17001, segmentacao_utilizacao_index#17077, ... 2 more fields]\n",
              "                                                                                             :     :     :                       +- Project [product_id#17443, product_category_name#17444, product_name_lenght#17445, product_description_lenght#17446, product_photos_qty#17447, product_weight_g#17448, product_length_cm#17449, product_height_cm#17450, product_width_cm#17451, product_volume#17462, segmentacao_necessidade#17461, segmentacao_sentimento#17460, segmentacao_tipo#17459, segmentacao_validade#17458, segmentacao_utilizacao#17457, segmentacoes_funcionalidade#17456, segmentacao_interatividade#17455, segmentacoes_impacto_ambiental#17454, segmentacoes_interacao_humana#17452, segmentacao_necessidade_index#16791, segmentacao_sentimento_index#16858, segmentacao_tipo_index#16928, segmentacao_validade_index#17001, segmentacao_utilizacao_index#17077, UDF(cast(segmentacoes_funcionalidade#17456 as string)) AS segmentacoes_funcionalidade_index#17156]\n",
              "                                                                                             :     :     :                          +- Project [product_id#17443, product_category_name#17444, product_name_lenght#17445, product_description_lenght#17446, product_photos_qty#17447, product_weight_g#17448, product_length_cm#17449, product_height_cm#17450, product_width_cm#17451, product_volume#17462, segmentacao_necessidade#17461, segmentacao_sentimento#17460, segmentacao_tipo#17459, segmentacao_validade#17458, segmentacao_utilizacao#17457, segmentacoes_funcionalidade#17456, segmentacao_interatividade#17455, segmentacoes_impacto_ambiental#17454, segmentacoes_interacao_humana#17452, segmentacao_necessidade_index#16791, segmentacao_sentimento_index#16858, segmentacao_tipo_index#16928, segmentacao_validade_index#17001, UDF(cast(segmentacao_utilizacao#17457 as string)) AS segmentacao_utilizacao_index#17077]\n",
              "                                                                                             :     :     :                             +- Project [product_id#17443, product_category_name#17444, product_name_lenght#17445, product_description_lenght#17446, product_photos_qty#17447, product_weight_g#17448, product_length_cm#17449, product_height_cm#17450, product_width_cm#17451, product_volume#17462, segmentacao_necessidade#17461, segmentacao_sentimento#17460, segmentacao_tipo#17459, segmentacao_validade#17458, segmentacao_utilizacao#17457, segmentacoes_funcionalidade#17456, segmentacao_interatividade#17455, segmentacoes_impacto_ambiental#17454, segmentacoes_interacao_humana#17452, segmentacao_necessidade_index#16791, segmentacao_sentimento_index#16858, segmentacao_tipo_index#16928, UDF(cast(segmentacao_validade#17458 as string)) AS segmentacao_validade_index#17001]\n",
              "                                                                                             :     :     :                                +- Project [product_id#17443, product_category_name#17444, product_name_lenght#17445, product_description_lenght#17446, product_photos_qty#17447, product_weight_g#17448, product_length_cm#17449, product_height_cm#17450, product_width_cm#17451, product_volume#17462, segmentacao_necessidade#17461, segmentacao_sentimento#17460, segmentacao_tipo#17459, segmentacao_validade#17458, segmentacao_utilizacao#17457, segmentacoes_funcionalidade#17456, segmentacao_interatividade#17455, segmentacoes_impacto_ambiental#17454, segmentacoes_interacao_humana#17452, segmentacao_necessidade_index#16791, segmentacao_sentimento_index#16858, UDF(cast(segmentacao_tipo#17459 as string)) AS segmentacao_tipo_index#16928]\n",
              "                                                                                             :     :     :                                   +- Project [product_id#17443, product_category_name#17444, product_name_lenght#17445, product_description_lenght#17446, product_photos_qty#17447, product_weight_g#17448, product_length_cm#17449, product_height_cm#17450, product_width_cm#17451, product_volume#17462, segmentacao_necessidade#17461, segmentacao_sentimento#17460, segmentacao_tipo#17459, segmentacao_validade#17458, segmentacao_utilizacao#17457, segmentacoes_funcionalidade#17456, segmentacao_interatividade#17455, segmentacoes_impacto_ambiental#17454, segmentacoes_interacao_humana#17452, segmentacao_necessidade_index#16791, UDF(cast(segmentacao_sentimento#17460 as string)) AS segmentacao_sentimento_index#16858]\n",
              "                                                                                             :     :     :                                      +- Project [product_id#17443, product_category_name#17444, product_name_lenght#17445, product_description_lenght#17446, product_photos_qty#17447, product_weight_g#17448, product_length_cm#17449, product_height_cm#17450, product_width_cm#17451, product_volume#17462, segmentacao_necessidade#17461, segmentacao_sentimento#17460, segmentacao_tipo#17459, segmentacao_validade#17458, segmentacao_utilizacao#17457, segmentacoes_funcionalidade#17456, segmentacao_interatividade#17455, segmentacoes_impacto_ambiental#17454, segmentacoes_interacao_humana#17452, UDF(cast(segmentacao_necessidade#17461 as string)) AS segmentacao_necessidade_index#16791]\n",
              "                                                                                             :     :     :                                         +- Project [product_id#17443, product_category_name#17444, product_name_lenght#17445, product_description_lenght#17446, product_photos_qty#17447, product_weight_g#17448, product_length_cm#17449, product_height_cm#17450, product_width_cm#17451, product_volume#17462, segmentacao_necessidade#17461, segmentacao_sentimento#17460, segmentacao_tipo#17459, segmentacao_validade#17458, segmentacao_utilizacao#17457, segmentacoes_funcionalidade#17456, segmentacao_interatividade#17455, segmentacoes_impacto_ambiental#17454, segmentacoe_interacao_humana(product_category_name#17444)#10947 AS segmentacoes_interacao_humana#17452]\n",
              "                                                                                             :     :     :                                            +- Project [product_id#17443, product_category_name#17444, product_name_lenght#17445, product_description_lenght#17446, product_photos_qty#17447, product_weight_g#17448, product_length_cm#17449, product_height_cm#17450, product_width_cm#17451, product_volume#17462, segmentacao_necessidade#17461, segmentacao_sentimento#17460, segmentacao_tipo#17459, segmentacao_validade#17458, segmentacao_utilizacao#17457, segmentacoes_funcionalidade#17456, segmentacao_interatividade#17455, segmentacoe_impacto_ambiental(product_category_name#17444)#10927 AS segmentacoes_impacto_ambiental#17454]\n",
              "                                                                                             :     :     :                                               +- Project [product_id#17443, product_category_name#17444, product_name_lenght#17445, product_description_lenght#17446, product_photos_qty#17447, product_weight_g#17448, product_length_cm#17449, product_height_cm#17450, product_width_cm#17451, product_volume#17462, segmentacao_necessidade#17461, segmentacao_sentimento#17460, segmentacao_tipo#17459, segmentacao_validade#17458, segmentacao_utilizacao#17457, segmentacoes_funcionalidade#17456, segmentacao_interatividade(product_category_name#17444)#10908 AS segmentacao_interatividade#17455]\n",
              "                                                                                             :     :     :                                                  +- Project [product_id#17443, product_category_name#17444, product_name_lenght#17445, product_description_lenght#17446, product_photos_qty#17447, product_weight_g#17448, product_length_cm#17449, product_height_cm#17450, product_width_cm#17451, product_volume#17462, segmentacao_necessidade#17461, segmentacao_sentimento#17460, segmentacao_tipo#17459, segmentacao_validade#17458, segmentacao_utilizacao#17457, segmentacao_funcionalidade(product_category_name#17444)#10890 AS segmentacoes_funcionalidade#17456]\n",
              "                                                                                             :     :     :                                                     +- Project [product_id#17443, product_category_name#17444, product_name_lenght#17445, product_description_lenght#17446, product_photos_qty#17447, product_weight_g#17448, product_length_cm#17449, product_height_cm#17450, product_width_cm#17451, product_volume#17462, segmentacao_necessidade#17461, segmentacao_sentimento#17460, segmentacao_tipo#17459, segmentacao_validade#17458, segmentacao_utilizacao(product_category_name#17444)#10873 AS segmentacao_utilizacao#17457]\n",
              "                                                                                             :     :     :                                                        +- Project [product_id#17443, product_category_name#17444, product_name_lenght#17445, product_description_lenght#17446, product_photos_qty#17447, product_weight_g#17448, product_length_cm#17449, product_height_cm#17450, product_width_cm#17451, product_volume#17462, segmentacao_necessidade#17461, segmentacao_sentimento#17460, segmentacao_tipo#17459, segmentacao_validade(product_category_name#17444)#10857 AS segmentacao_validade#17458]\n",
              "                                                                                             :     :     :                                                           +- Project [product_id#17443, product_category_name#17444, product_name_lenght#17445, product_description_lenght#17446, product_photos_qty#17447, product_weight_g#17448, product_length_cm#17449, product_height_cm#17450, product_width_cm#17451, product_volume#17462, segmentacao_necessidade#17461, segmentacao_sentimento#17460, segmentacao_tipo(product_category_name#17444)#10842 AS segmentacao_tipo#17459]\n",
              "                                                                                             :     :     :                                                              +- Project [product_id#17443, product_category_name#17444, product_name_lenght#17445, product_description_lenght#17446, product_photos_qty#17447, product_weight_g#17448, product_length_cm#17449, product_height_cm#17450, product_width_cm#17451, product_volume#17462, segmentacao_necessidade#17461, segmentacao_sentimento(product_category_name#17444)#10828 AS segmentacao_sentimento#17460]\n",
              "                                                                                             :     :     :                                                                 +- Project [product_id#17443, product_category_name#17444, product_name_lenght#17445, product_description_lenght#17446, product_photos_qty#17447, product_weight_g#17448, product_length_cm#17449, product_height_cm#17450, product_width_cm#17451, product_volume#17462, segmentacoe_necessidade(product_category_name#17444)#10815 AS segmentacao_necessidade#17461]\n",
              "                                                                                             :     :     :                                                                    +- Project [product_id#17443, product_category_name#17444, product_name_lenght#17445, product_description_lenght#17446, product_photos_qty#17447, product_weight_g#17448, product_length_cm#17449, product_height_cm#17450, product_width_cm#17451, ((product_length_cm#17449 * product_height_cm#17450) * product_width_cm#17451) AS product_volume#17462]\n",
              "                                                                                             :     :     :                                                                       +- Relation [product_id#17443,product_category_name#17444,product_name_lenght#17445,product_description_lenght#17446,product_photos_qty#17447,product_weight_g#17448,product_length_cm#17449,product_height_cm#17450,product_width_cm#17451] csv\n",
              "                                                                                             :     :     +- Project [seller_id#105, seller_city_index#15139, seller_state_index#15200]\n",
              "                                                                                             :     :        +- Project [seller_id#105, seller_zip_code_prefix#106, seller_city#107, seller_state#108, seller_city_index#15139, UDF(cast(seller_state#108 as string)) AS seller_state_index#15200]\n",
              "                                                                                             :     :           +- Project [seller_id#105, seller_zip_code_prefix#106, seller_city#107, seller_state#108, UDF(cast(seller_city#107 as string)) AS seller_city_index#15139]\n",
              "                                                                                             :     :              +- Relation [seller_id#105,seller_zip_code_prefix#106,seller_city#107,seller_state#108] csv\n",
              "                                                                                             :     +- Project [customer_id#165, customer_state_index#15270]\n",
              "                                                                                             :        +- Project [customer_id#165, customer_unique_id#166, customer_zip_code_prefix#167, customer_city#168, customer_state#169, UDF(cast(customer_state#169 as string)) AS customer_state_index#15270]\n",
              "                                                                                             :           +- Relation [customer_id#165,customer_unique_id#166,customer_zip_code_prefix#167,customer_city#168,customer_state#169] csv\n",
              "                                                                                             +- Project [order_id#17688, payment_sequential#17689, payment_type_index#15397, payment_installments#17691, payment_value#17692]\n",
              "                                                                                                +- Project [order_id#17688, payment_sequential#17689, payment_type#17690, payment_installments#17691, payment_value#17692, UDF(cast(payment_type#17690 as string)) AS payment_type_index#15397]\n",
              "                                                                                                   +- Project [order_id#17688, payment_sequential#17689, payment_type#17690, payment_installments#17691, payment_value#17692]\n",
              "                                                                                                      +- Join Inner, (order_id#17688 = order_id#17693)\n",
              "                                                                                                         :- Relation [order_id#17688,payment_sequential#17689,payment_type#17690,payment_installments#17691,payment_value#17692] csv\n",
              "                                                                                                         +- Project [order_id#17693]\n",
              "                                                                                                            +- Project [customer_id#17694, order_id#17693, order_status#17695, order_purchase_timestamp#5934, order_approved_at#6025, order_delivered_carrier_date#5952, order_delivered_customer_date#5961, order_estimated_delivery_date#5970, days_to_approval#5979, days_to_carrier#5989, days_to_delivery#6000, days_estimated_vs_actual_delivery#6012, approval_group#9868, carrier_group#9882, delivery_group#9897, estimated_vs_actual_group#9913]\n",
              "                                                                                                               +- Join Inner, (customer_id#17694 = customer_id#17702)\n",
              "                                                                                                                  :- Project [order_id#17693, customer_id#17694, order_status#17695, order_purchase_timestamp#5934, order_approved_at#6025, order_delivered_carrier_date#5952, order_delivered_customer_date#5961, order_estimated_delivery_date#5970, days_to_approval#5979, days_to_carrier#5989, days_to_delivery#6000, days_estimated_vs_actual_delivery#6012, approval_group#9868, carrier_group#9882, delivery_group#9897, CASE WHEN (days_estimated_vs_actual_delivery#6012 <= 3) THEN até 3 dias WHEN (days_estimated_vs_actual_delivery#6012 <= 5) THEN 3 a 5 dias WHEN (days_estimated_vs_actual_delivery#6012 <= 7) THEN 5 a 7 dias ELSE mais de 7 dias END AS estimated_vs_actual_group#9913]\n",
              "                                                                                                                  :  +- Project [order_id#17693, customer_id#17694, order_status#17695, order_purchase_timestamp#5934, order_approved_at#6025, order_delivered_carrier_date#5952, order_delivered_customer_date#5961, order_estimated_delivery_date#5970, days_to_approval#5979, days_to_carrier#5989, days_to_delivery#6000, days_estimated_vs_actual_delivery#6012, approval_group#9868, carrier_group#9882, CASE WHEN (days_to_delivery#6000 <= 3) THEN até 3 dias WHEN (days_to_delivery#6000 <= 5) THEN 3 a 5 dias WHEN (days_to_delivery#6000 <= 7) THEN 5 a 7 dias ELSE mais de 7 dias END AS delivery_group#9897]\n",
              "                                                                                                                  :     +- Project [order_id#17693, customer_id#17694, order_status#17695, order_purchase_timestamp#5934, order_approved_at#6025, order_delivered_carrier_date#5952, order_delivered_customer_date#5961, order_estimated_delivery_date#5970, days_to_approval#5979, days_to_carrier#5989, days_to_delivery#6000, days_estimated_vs_actual_delivery#6012, approval_group#9868, CASE WHEN (days_to_carrier#5989 <= 3) THEN até 3 dias WHEN (days_to_carrier#5989 <= 5) THEN 3 a 5 dias WHEN (days_to_carrier#5989 <= 7) THEN 5 a 7 dias ELSE mais de 7 dias END AS carrier_group#9882]\n",
              "                                                                                                                  :        +- Project [order_id#17693, customer_id#17694, order_status#17695, order_purchase_timestamp#5934, order_approved_at#6025, order_delivered_carrier_date#5952, order_delivered_customer_date#5961, order_estimated_delivery_date#5970, days_to_approval#5979, days_to_carrier#5989, days_to_delivery#6000, days_estimated_vs_actual_delivery#6012, CASE WHEN (days_to_approval#5979 <= 3) THEN até 3 dias WHEN (days_to_approval#5979 <= 5) THEN 3 a 5 dias WHEN (days_to_approval#5979 <= 7) THEN 5 a 7 dias ELSE mais de 7 dias END AS approval_group#9868]\n",
              "                                                                                                                  :           +- Project [order_id#17693, customer_id#17694, order_status#17695, order_purchase_timestamp#5934, cast(order_approved_at#5943 as timestamp) AS order_approved_at#6025, order_delivered_carrier_date#5952, order_delivered_customer_date#5961, order_estimated_delivery_date#5970, days_to_approval#5979, days_to_carrier#5989, days_to_delivery#6000, days_estimated_vs_actual_delivery#6012]\n",
              "                                                                                                                  :              +- Project [order_id#17693, customer_id#17694, order_status#17695, order_purchase_timestamp#5934, order_approved_at#5943, order_delivered_carrier_date#5952, order_delivered_customer_date#5961, order_estimated_delivery_date#5970, days_to_approval#5979, days_to_carrier#5989, days_to_delivery#6000, datediff(cast(order_delivered_customer_date#5961 as date), cast(order_estimated_delivery_date#5970 as date)) AS days_estimated_vs_actual_delivery#6012]\n",
              "                                                                                                                  :                 +- Project [order_id#17693, customer_id#17694, order_status#17695, order_purchase_timestamp#5934, order_approved_at#5943, order_delivered_carrier_date#5952, order_delivered_customer_date#5961, order_estimated_delivery_date#5970, days_to_approval#5979, days_to_carrier#5989, datediff(cast(order_delivered_customer_date#5961 as date), cast(order_purchase_timestamp#5934 as date)) AS days_to_delivery#6000]\n",
              "                                                                                                                  :                    +- Project [order_id#17693, customer_id#17694, order_status#17695, order_purchase_timestamp#5934, order_approved_at#5943, order_delivered_carrier_date#5952, order_delivered_customer_date#5961, order_estimated_delivery_date#5970, days_to_approval#5979, datediff(cast(order_delivered_carrier_date#5952 as date), cast(order_purchase_timestamp#5934 as date)) AS days_to_carrier#5989]\n",
              "                                                                                                                  :                       +- Project [order_id#17693, customer_id#17694, order_status#17695, order_purchase_timestamp#5934, order_approved_at#5943, order_delivered_carrier_date#5952, order_delivered_customer_date#5961, order_estimated_delivery_date#5970, datediff(cast(order_approved_at#5943 as date), cast(order_purchase_timestamp#5934 as date)) AS days_to_approval#5979]\n",
              "                                                                                                                  :                          +- Project [order_id#17693, customer_id#17694, order_status#17695, order_purchase_timestamp#5934, order_approved_at#5943, order_delivered_carrier_date#5952, order_delivered_customer_date#5961, cast(order_estimated_delivery_date#17700 as timestamp) AS order_estimated_delivery_date#5970]\n",
              "                                                                                                                  :                             +- Project [order_id#17693, customer_id#17694, order_status#17695, order_purchase_timestamp#5934, order_approved_at#5943, order_delivered_carrier_date#5952, cast(order_delivered_customer_date#17699 as timestamp) AS order_delivered_customer_date#5961, order_estimated_delivery_date#17700]\n",
              "                                                                                                                  :                                +- Project [order_id#17693, customer_id#17694, order_status#17695, order_purchase_timestamp#5934, order_approved_at#5943, cast(order_delivered_carrier_date#17698 as timestamp) AS order_delivered_carrier_date#5952, order_delivered_customer_date#17699, order_estimated_delivery_date#17700]\n",
              "                                                                                                                  :                                   +- Project [order_id#17693, customer_id#17694, order_status#17695, order_purchase_timestamp#5934, cast(order_approved_at#17697 as timestamp) AS order_approved_at#5943, order_delivered_carrier_date#17698, order_delivered_customer_date#17699, order_estimated_delivery_date#17700]\n",
              "                                                                                                                  :                                      +- Project [order_id#17693, customer_id#17694, order_status#17695, cast(order_purchase_timestamp#17696 as timestamp) AS order_purchase_timestamp#5934, order_approved_at#17697, order_delivered_carrier_date#17698, order_delivered_customer_date#17699, order_estimated_delivery_date#17700]\n",
              "                                                                                                                  :                                         +- Relation [order_id#17693,customer_id#17694,order_status#17695,order_purchase_timestamp#17696,order_approved_at#17697,order_delivered_carrier_date#17698,order_delivered_customer_date#17699,order_estimated_delivery_date#17700] csv\n",
              "                                                                                                                  +- Project [customer_id#17702]\n",
              "                                                                                                                     +- Filter ((total_value#11081 >= -339.855) AND (total_value#11081 <= 670.6650000000001))\n",
              "                                                                                                                        +- Aggregate [customer_id#17702], [customer_id#17702, sum(payment_value#11149) AS total_value#11081]\n",
              "                                                                                                                           +- Project [order_id#17701, customer_id#17702, order_status#17703, order_purchase_timestamp#5934, order_approved_at#6025, order_delivered_carrier_date#5952, order_delivered_customer_date#5961, order_estimated_delivery_date#5970, days_to_approval#5979, days_to_carrier#5989, days_to_delivery#6000, days_estimated_vs_actual_delivery#6012, approval_group#9868, carrier_group#9882, delivery_group#9897, estimated_vs_actual_group#9913, payment_sequential#11146, payment_type#11147, payment_installments#11148, payment_value#11149]\n",
              "                                                                                                                              +- Join Inner, (order_id#17701 = order_id#11145)\n",
              "                                                                                                                                 :- Project [order_id#17701, customer_id#17702, order_status#17703, order_purchase_timestamp#5934, order_approved_at#6025, order_delivered_carrier_date#5952, order_delivered_customer_date#5961, order_estimated_delivery_date#5970, days_to_approval#5979, days_to_carrier#5989, days_to_delivery#6000, days_estimated_vs_actual_delivery#6012, approval_group#9868, carrier_group#9882, delivery_group#9897, CASE WHEN (days_estimated_vs_actual_delivery#6012 <= 3) THEN até 3 dias WHEN (days_estimated_vs_actual_delivery#6012 <= 5) THEN 3 a 5 dias WHEN (days_estimated_vs_actual_delivery#6012 <= 7) THEN 5 a 7 dias ELSE mais de 7 dias END AS estimated_vs_actual_group#9913]\n",
              "                                                                                                                                 :  +- Project [order_id#17701, customer_id#17702, order_status#17703, order_purchase_timestamp#5934, order_approved_at#6025, order_delivered_carrier_date#5952, order_delivered_customer_date#5961, order_estimated_delivery_date#5970, days_to_approval#5979, days_to_carrier#5989, days_to_delivery#6000, days_estimated_vs_actual_delivery#6012, approval_group#9868, carrier_group#9882, CASE WHEN (days_to_delivery#6000 <= 3) THEN até 3 dias WHEN (days_to_delivery#6000 <= 5) THEN 3 a 5 dias WHEN (days_to_delivery#6000 <= 7) THEN 5 a 7 dias ELSE mais de 7 dias END AS delivery_group#9897]\n",
              "                                                                                                                                 :     +- Project [order_id#17701, customer_id#17702, order_status#17703, order_purchase_timestamp#5934, order_approved_at#6025, order_delivered_carrier_date#5952, order_delivered_customer_date#5961, order_estimated_delivery_date#5970, days_to_approval#5979, days_to_carrier#5989, days_to_delivery#6000, days_estimated_vs_actual_delivery#6012, approval_group#9868, CASE WHEN (days_to_carrier#5989 <= 3) THEN até 3 dias WHEN (days_to_carrier#5989 <= 5) THEN 3 a 5 dias WHEN (days_to_carrier#5989 <= 7) THEN 5 a 7 dias ELSE mais de 7 dias END AS carrier_group#9882]\n",
              "                                                                                                                                 :        +- Project [order_id#17701, customer_id#17702, order_status#17703, order_purchase_timestamp#5934, order_approved_at#6025, order_delivered_carrier_date#5952, order_delivered_customer_date#5961, order_estimated_delivery_date#5970, days_to_approval#5979, days_to_carrier#5989, days_to_delivery#6000, days_estimated_vs_actual_delivery#6012, CASE WHEN (days_to_approval#5979 <= 3) THEN até 3 dias WHEN (days_to_approval#5979 <= 5) THEN 3 a 5 dias WHEN (days_to_approval#5979 <= 7) THEN 5 a 7 dias ELSE mais de 7 dias END AS approval_group#9868]\n",
              "                                                                                                                                 :           +- Project [order_id#17701, customer_id#17702, order_status#17703, order_purchase_timestamp#5934, cast(order_approved_at#5943 as timestamp) AS order_approved_at#6025, order_delivered_carrier_date#5952, order_delivered_customer_date#5961, order_estimated_delivery_date#5970, days_to_approval#5979, days_to_carrier#5989, days_to_delivery#6000, days_estimated_vs_actual_delivery#6012]\n",
              "                                                                                                                                 :              +- Project [order_id#17701, customer_id#17702, order_status#17703, order_purchase_timestamp#5934, order_approved_at#5943, order_delivered_carrier_date#5952, order_delivered_customer_date#5961, order_estimated_delivery_date#5970, days_to_approval#5979, days_to_carrier#5989, days_to_delivery#6000, datediff(cast(order_delivered_customer_date#5961 as date), cast(order_estimated_delivery_date#5970 as date)) AS days_estimated_vs_actual_delivery#6012]\n",
              "                                                                                                                                 :                 +- Project [order_id#17701, customer_id#17702, order_status#17703, order_purchase_timestamp#5934, order_approved_at#5943, order_delivered_carrier_date#5952, order_delivered_customer_date#5961, order_estimated_delivery_date#5970, days_to_approval#5979, days_to_carrier#5989, datediff(cast(order_delivered_customer_date#5961 as date), cast(order_purchase_timestamp#5934 as date)) AS days_to_delivery#6000]\n",
              "                                                                                                                                 :                    +- Project [order_id#17701, customer_id#17702, order_status#17703, order_purchase_timestamp#5934, order_approved_at#5943, order_delivered_carrier_date#5952, order_delivered_customer_date#5961, order_estimated_delivery_date#5970, days_to_approval#5979, datediff(cast(order_delivered_carrier_date#5952 as date), cast(order_purchase_timestamp#5934 as date)) AS days_to_carrier#5989]\n",
              "                                                                                                                                 :                       +- Project [order_id#17701, customer_id#17702, order_status#17703, order_purchase_timestamp#5934, order_approved_at#5943, order_delivered_carrier_date#5952, order_delivered_customer_date#5961, order_estimated_delivery_date#5970, datediff(cast(order_approved_at#5943 as date), cast(order_purchase_timestamp#5934 as date)) AS days_to_approval#5979]\n",
              "                                                                                                                                 :                          +- Project [order_id#17701, customer_id#17702, order_status#17703, order_purchase_timestamp#5934, order_approved_at#5943, order_delivered_carrier_date#5952, order_delivered_customer_date#5961, cast(order_estimated_delivery_date#17708 as timestamp) AS order_estimated_delivery_date#5970]\n",
              "                                                                                                                                 :                             +- Project [order_id#17701, customer_id#17702, order_status#17703, order_purchase_timestamp#5934, order_approved_at#5943, order_delivered_carrier_date#5952, cast(order_delivered_customer_date#17707 as timestamp) AS order_delivered_customer_date#5961, order_estimated_delivery_date#17708]\n",
              "                                                                                                                                 :                                +- Project [order_id#17701, customer_id#17702, order_status#17703, order_purchase_timestamp#5934, order_approved_at#5943, cast(order_delivered_carrier_date#17706 as timestamp) AS order_delivered_carrier_date#5952, order_delivered_customer_date#17707, order_estimated_delivery_date#17708]\n",
              "                                                                                                                                 :                                   +- Project [order_id#17701, customer_id#17702, order_status#17703, order_purchase_timestamp#5934, cast(order_approved_at#17705 as timestamp) AS order_approved_at#5943, order_delivered_carrier_date#17706, order_delivered_customer_date#17707, order_esti ... (truncated)"
            ]
          },
          "metadata": {
            "application/vnd.databricks.v1+output": {
              "arguments": {},
              "data": "\u001b[0;31m---------------------------------------------------------------------------\u001b[0m\n\u001b[0;31mAnalysisException\u001b[0m                         Traceback (most recent call last)\nFile \u001b[0;32m<command-836461528973386>:71\u001b[0m\n\u001b[1;32m     61\u001b[0m clientes_insatisfeitos\u001b[38;5;241m.\u001b[39mshow()\n\u001b[1;32m     63\u001b[0m \u001b[38;5;66;03m# Analisar a quantidade de clientes insatisfeitos em cada estado\u001b[39;00m\n\u001b[1;32m     64\u001b[0m \u001b[38;5;66;03m#clientes_insatisfeitos.groupBy('customer_state_index').count().show()\u001b[39;00m\n\u001b[1;32m     65\u001b[0m \n\u001b[0;32m   (...)\u001b[0m\n\u001b[1;32m     69\u001b[0m \n\u001b[1;32m     70\u001b[0m \u001b[38;5;66;03m# Ajustar o preço baseado na sazonalidade (manter preço inalterado nos meses 5 e 6)\u001b[39;00m\n\u001b[0;32m---> 71\u001b[0m test_df_modificado \u001b[38;5;241m=\u001b[39m test_df_modificado\u001b[38;5;241m.\u001b[39mwithColumn(\u001b[38;5;124m'\u001b[39m\u001b[38;5;124mprice\u001b[39m\u001b[38;5;124m'\u001b[39m, when(col(\u001b[38;5;124m'\u001b[39m\u001b[38;5;124morder_purchase_month\u001b[39m\u001b[38;5;124m'\u001b[39m)\u001b[38;5;241m.\u001b[39misin([\u001b[38;5;241m5\u001b[39m, \u001b[38;5;241m6\u001b[39m]), col(\u001b[38;5;124m'\u001b[39m\u001b[38;5;124mprice\u001b[39m\u001b[38;5;124m'\u001b[39m) \u001b[38;5;241m*\u001b[39m \u001b[38;5;241m1.0\u001b[39m)\u001b[38;5;241m.\u001b[39motherwise(col(\u001b[38;5;124m'\u001b[39m\u001b[38;5;124mprice\u001b[39m\u001b[38;5;124m'\u001b[39m)))\n\u001b[1;32m     73\u001b[0m \u001b[38;5;66;03m# Adicionar informação de rastreamento disponível para aumentar a transparência\u001b[39;00m\n\u001b[1;32m     74\u001b[0m \u001b[38;5;66;03m#test_df_modificado = test_df_modificado.withColumn('tracking_info_available', lit(1))\u001b[39;00m\n\u001b[1;32m     75\u001b[0m \n\u001b[0;32m   (...)\u001b[0m\n\u001b[1;32m     81\u001b[0m \n\u001b[1;32m     82\u001b[0m \u001b[38;5;66;03m# Ajustar o número de parcelas com base nas observações (reduzir parcelas se maior que 6)\u001b[39;00m\n\u001b[1;32m     83\u001b[0m test_df_modificado \u001b[38;5;241m=\u001b[39m test_df_modificado\u001b[38;5;241m.\u001b[39mwithColumn(\u001b[38;5;124m'\u001b[39m\u001b[38;5;124mpayment_installments\u001b[39m\u001b[38;5;124m'\u001b[39m, when(col(\u001b[38;5;124m'\u001b[39m\u001b[38;5;124mpayment_installments\u001b[39m\u001b[38;5;124m'\u001b[39m) \u001b[38;5;241m>\u001b[39m \u001b[38;5;241m6\u001b[39m, col(\u001b[38;5;124m'\u001b[39m\u001b[38;5;124mpayment_installments\u001b[39m\u001b[38;5;124m'\u001b[39m) \u001b[38;5;241m-\u001b[39m \u001b[38;5;241m3\u001b[39m)\u001b[38;5;241m.\u001b[39motherwise(col(\u001b[38;5;124m'\u001b[39m\u001b[38;5;124mpayment_installments\u001b[39m\u001b[38;5;124m'\u001b[39m)))\n\nFile \u001b[0;32m/databricks/spark/python/pyspark/instrumentation_utils.py:48\u001b[0m, in \u001b[0;36m_wrap_function.<locals>.wrapper\u001b[0;34m(*args, **kwargs)\u001b[0m\n\u001b[1;32m     46\u001b[0m start \u001b[38;5;241m=\u001b[39m time\u001b[38;5;241m.\u001b[39mperf_counter()\n\u001b[1;32m     47\u001b[0m \u001b[38;5;28;01mtry\u001b[39;00m:\n\u001b[0;32m---> 48\u001b[0m     res \u001b[38;5;241m=\u001b[39m \u001b[43mfunc\u001b[49m\u001b[43m(\u001b[49m\u001b[38;5;241;43m*\u001b[39;49m\u001b[43margs\u001b[49m\u001b[43m,\u001b[49m\u001b[43m \u001b[49m\u001b[38;5;241;43m*\u001b[39;49m\u001b[38;5;241;43m*\u001b[39;49m\u001b[43mkwargs\u001b[49m\u001b[43m)\u001b[49m\n\u001b[1;32m     49\u001b[0m     logger\u001b[38;5;241m.\u001b[39mlog_success(\n\u001b[1;32m     50\u001b[0m         module_name, class_name, function_name, time\u001b[38;5;241m.\u001b[39mperf_counter() \u001b[38;5;241m-\u001b[39m start, signature\n\u001b[1;32m     51\u001b[0m     )\n\u001b[1;32m     52\u001b[0m     \u001b[38;5;28;01mreturn\u001b[39;00m res\n\nFile \u001b[0;32m/databricks/spark/python/pyspark/sql/dataframe.py:4758\u001b[0m, in \u001b[0;36mDataFrame.withColumn\u001b[0;34m(self, colName, col)\u001b[0m\n\u001b[1;32m   4753\u001b[0m \u001b[38;5;28;01mif\u001b[39;00m \u001b[38;5;129;01mnot\u001b[39;00m \u001b[38;5;28misinstance\u001b[39m(col, Column):\n\u001b[1;32m   4754\u001b[0m     \u001b[38;5;28;01mraise\u001b[39;00m PySparkTypeError(\n\u001b[1;32m   4755\u001b[0m         error_class\u001b[38;5;241m=\u001b[39m\u001b[38;5;124m\"\u001b[39m\u001b[38;5;124mNOT_A_COLUMN\u001b[39m\u001b[38;5;124m\"\u001b[39m,\n\u001b[1;32m   4756\u001b[0m         message_parameters\u001b[38;5;241m=\u001b[39m{\u001b[38;5;124m\"\u001b[39m\u001b[38;5;124marg_name\u001b[39m\u001b[38;5;124m\"\u001b[39m: \u001b[38;5;124m\"\u001b[39m\u001b[38;5;124mcol\u001b[39m\u001b[38;5;124m\"\u001b[39m, \u001b[38;5;124m\"\u001b[39m\u001b[38;5;124marg_type\u001b[39m\u001b[38;5;124m\"\u001b[39m: \u001b[38;5;28mtype\u001b[39m(col)\u001b[38;5;241m.\u001b[39m\u001b[38;5;18m__name__\u001b[39m},\n\u001b[1;32m   4757\u001b[0m     )\n\u001b[0;32m-> 4758\u001b[0m \u001b[38;5;28;01mreturn\u001b[39;00m DataFrame(\u001b[38;5;28;43mself\u001b[39;49m\u001b[38;5;241;43m.\u001b[39;49m\u001b[43m_jdf\u001b[49m\u001b[38;5;241;43m.\u001b[39;49m\u001b[43mwithColumn\u001b[49m\u001b[43m(\u001b[49m\u001b[43mcolName\u001b[49m\u001b[43m,\u001b[49m\u001b[43m \u001b[49m\u001b[43mcol\u001b[49m\u001b[38;5;241;43m.\u001b[39;49m\u001b[43m_jc\u001b[49m\u001b[43m)\u001b[49m, \u001b[38;5;28mself\u001b[39m\u001b[38;5;241m.\u001b[39msparkSession)\n\nFile \u001b[0;32m/databricks/spark/python/lib/py4j-0.10.9.5-src.zip/py4j/java_gateway.py:1321\u001b[0m, in \u001b[0;36mJavaMember.__call__\u001b[0;34m(self, *args)\u001b[0m\n\u001b[1;32m   1315\u001b[0m command \u001b[38;5;241m=\u001b[39m proto\u001b[38;5;241m.\u001b[39mCALL_COMMAND_NAME \u001b[38;5;241m+\u001b[39m\\\n\u001b[1;32m   1316\u001b[0m     \u001b[38;5;28mself\u001b[39m\u001b[38;5;241m.\u001b[39mcommand_header \u001b[38;5;241m+\u001b[39m\\\n\u001b[1;32m   1317\u001b[0m     args_command \u001b[38;5;241m+\u001b[39m\\\n\u001b[1;32m   1318\u001b[0m     proto\u001b[38;5;241m.\u001b[39mEND_COMMAND_PART\n\u001b[1;32m   1320\u001b[0m answer \u001b[38;5;241m=\u001b[39m \u001b[38;5;28mself\u001b[39m\u001b[38;5;241m.\u001b[39mgateway_client\u001b[38;5;241m.\u001b[39msend_command(command)\n\u001b[0;32m-> 1321\u001b[0m return_value \u001b[38;5;241m=\u001b[39m \u001b[43mget_return_value\u001b[49m\u001b[43m(\u001b[49m\n\u001b[1;32m   1322\u001b[0m \u001b[43m    \u001b[49m\u001b[43manswer\u001b[49m\u001b[43m,\u001b[49m\u001b[43m \u001b[49m\u001b[38;5;28;43mself\u001b[39;49m\u001b[38;5;241;43m.\u001b[39;49m\u001b[43mgateway_client\u001b[49m\u001b[43m,\u001b[49m\u001b[43m \u001b[49m\u001b[38;5;28;43mself\u001b[39;49m\u001b[38;5;241;43m.\u001b[39;49m\u001b[43mtarget_id\u001b[49m\u001b[43m,\u001b[49m\u001b[43m \u001b[49m\u001b[38;5;28;43mself\u001b[39;49m\u001b[38;5;241;43m.\u001b[39;49m\u001b[43mname\u001b[49m\u001b[43m)\u001b[49m\n\u001b[1;32m   1324\u001b[0m \u001b[38;5;28;01mfor\u001b[39;00m temp_arg \u001b[38;5;129;01min\u001b[39;00m temp_args:\n\u001b[1;32m   1325\u001b[0m     temp_arg\u001b[38;5;241m.\u001b[39m_detach()\n\nFile \u001b[0;32m/databricks/spark/python/pyspark/errors/exceptions.py:234\u001b[0m, in \u001b[0;36mcapture_sql_exception.<locals>.deco\u001b[0;34m(*a, **kw)\u001b[0m\n\u001b[1;32m    230\u001b[0m converted \u001b[38;5;241m=\u001b[39m convert_exception(e\u001b[38;5;241m.\u001b[39mjava_exception)\n\u001b[1;32m    231\u001b[0m \u001b[38;5;28;01mif\u001b[39;00m \u001b[38;5;129;01mnot\u001b[39;00m \u001b[38;5;28misinstance\u001b[39m(converted, UnknownException):\n\u001b[1;32m    232\u001b[0m     \u001b[38;5;66;03m# Hide where the exception came from that shows a non-Pythonic\u001b[39;00m\n\u001b[1;32m    233\u001b[0m     \u001b[38;5;66;03m# JVM exception message.\u001b[39;00m\n\u001b[0;32m--> 234\u001b[0m     \u001b[38;5;28;01mraise\u001b[39;00m converted \u001b[38;5;28;01mfrom\u001b[39;00m \u001b[38;5;28mNone\u001b[39m\n\u001b[1;32m    235\u001b[0m \u001b[38;5;28;01melse\u001b[39;00m:\n\u001b[1;32m    236\u001b[0m     \u001b[38;5;28;01mraise\u001b[39;00m\n\n\u001b[0;31mAnalysisException\u001b[0m: [UNRESOLVED_COLUMN.WITH_SUGGESTION] A column or function parameter with name `order_purchase_month` cannot be resolved. Did you mean one of the following? [`features`, `target`, `scaled_features`].;\n'Project [target#17544, features#18377, scaled_features#18682, CASE WHEN 'order_purchase_month IN (5,6) THEN ('price * 1.0) ELSE 'price END AS price#34342]\n+- Project [target#17544, features#18377, scaled_features#18682]\n   +- Project [target#17544, order_approved_at#6025, order_delivered_carrier_date#5952, order_delivered_customer_date#5961, order_estimated_delivery_date#5970, features#18377, scaled_features#18682]\n      +- Project [target#17544, order_status_index#17806, order_purchase_month#17836, order_approved_at#6025, order_delivered_carrier_date#5952, order_delivered_customer_date#5961, order_estimated_delivery_date#5970, days_to_approval#17866, days_to_carrier#17896, days_to_delivery#17926, days_estimated_vs_actual_delivery#17956, price#17986, freight_value#18016, segmentacao_necessidade_index#18046, segmentacao_sentimento_index#16858, segmentacao_tipo_index#16928, segmentacao_validade_index#17001, segmentacao_utilizacao_index#17077, segmentacoes_funcionalidade_index#17156, segmentacao_interatividade_index#17238, segmentacoes_impacto_ambiental_index#17323, segmentacoes_interacao_humana_index#17411, seller_city_index#18286, seller_state_index#18316, ... 7 more fields]\n         +- Sample 0.8, 1.0, false, 42\n            +- Sort [target#17544 ASC NULLS FIRST, order_status_index#17806 ASC NULLS FIRST, order_purchase_month#17836 ASC NULLS FIRST, order_approved_at#6025 ASC NULLS FIRST, order_delivered_carrier_date#5952 ASC NULLS FIRST, order_delivered_customer_date#5961 ASC NULLS FIRST, order_estimated_delivery_date#5970 ASC NULLS FIRST, days_to_approval#17866 ASC NULLS FIRST, days_to_carrier#17896 ASC NULLS FIRST, days_to_delivery#17926 ASC NULLS FIRST, days_estimated_vs_actual_delivery#17956 ASC NULLS FIRST, price#17986 ASC NULLS FIRST, freight_value#18016 ASC NULLS FIRST, segmentacao_necessidade_index#18046 ASC NULLS FIRST, segmentacao_sentimento_index#16858 ASC NULLS FIRST, segmentacao_tipo_index#16928 ASC NULLS FIRST, segmentacao_validade_index#17001 ASC NULLS FIRST, segmentacao_utilizacao_index#17077 ASC NULLS FIRST, segmentacoes_funcionalidade_index#17156 ASC NULLS FIRST, segmentacao_interatividade_index#17238 ASC NULLS FIRST, segmentacoes_impacto_ambiental_index#17323 ASC NULLS FIRST, segmentacoes_interacao_humana_index#17411 ASC NULLS FIRST, seller_city_index#18286 ASC NULLS FIRST, seller_state_index#18316 ASC NULLS FIRST, ... 7 more fields], false\n               +- Project [target#17544, order_status_index#17806, order_purchase_month#17836, order_approved_at#6025, order_delivered_carrier_date#5952, order_delivered_customer_date#5961, order_estimated_delivery_date#5970, days_to_approval#17866, days_to_carrier#17896, days_to_delivery#17926, days_estimated_vs_actual_delivery#17956, price#17986, freight_value#18016, segmentacao_necessidade_index#18046, segmentacao_sentimento_index#16858, segmentacao_tipo_index#16928, segmentacao_validade_index#17001, segmentacao_utilizacao_index#17077, segmentacoes_funcionalidade_index#17156, segmentacao_interatividade_index#17238, segmentacoes_impacto_ambiental_index#17323, segmentacoes_interacao_humana_index#17411, seller_city_index#18286, seller_state_index#18316, ... 7 more fields]\n                  +- Project [target#17544, order_status_index#17806, order_purchase_month#17836, order_approved_at#6025, order_delivered_carrier_date#5952, order_delivered_customer_date#5961, order_estimated_delivery_date#5970, days_to_approval#17866, days_to_carrier#17896, days_to_delivery#17926, days_estimated_vs_actual_delivery#17956, price#17986, freight_value#18016, segmentacao_necessidade_index#18046, segmentacao_sentimento_index#16858, segmentacao_tipo_index#16928, segmentacao_validade_index#17001, segmentacao_utilizacao_index#17077, segmentacoes_funcionalidade_index#17156, segmentacao_interatividade_index#17238, segmentacoes_impacto_ambiental_index#17323, segmentacoes_interacao_humana_index#17411, seller_city_index#18286, seller_state_index#18316, ... 6 more fields]\n                     +- Project [target#17544, order_status_index#17806, order_purchase_month#17836, order_approved_at#6025, order_delivered_carrier_date#5952, order_delivered_customer_date#5961, order_estimated_delivery_date#5970, days_to_approval#17866, days_to_carrier#17896, days_to_delivery#17926, days_estimated_vs_actual_delivery#17956, price#17986, freight_value#18016, segmentacao_necessidade_index#18046, segmentacao_sentimento_index#16858, segmentacao_tipo_index#16928, segmentacao_validade_index#17001, segmentacao_utilizacao_index#17077, segmentacoes_funcionalidade_index#17156, segmentacao_interatividade_index#17238, segmentacoes_impacto_ambiental_index#17323, segmentacoes_interacao_humana_index#17411, seller_city_index#18286, seller_state_index#18316, ... 5 more fields]\n                        +- Project [target#17544, order_status_index#17806, order_purchase_month#17836, order_approved_at#6025, order_delivered_carrier_date#5952, order_delivered_customer_date#5961, order_estimated_delivery_date#5970, days_to_approval#17866, days_to_carrier#17896, days_to_delivery#17926, days_estimated_vs_actual_delivery#17956, price#17986, freight_value#18016, segmentacao_necessidade_index#18046, segmentacao_sentimento_index#16858, segmentacao_tipo_index#16928, segmentacao_validade_index#17001, segmentacao_utilizacao_index#17077, segmentacoes_funcionalidade_index#17156, segmentacao_interatividade_index#17238, segmentacoes_impacto_ambiental_index#17323, segmentacoes_interacao_humana_index#17411, seller_city_index#18286, cast(seller_state_index#18106 as double) AS seller_state_index#18316, ... 5 more fields]\n                           +- Project [target#17544, order_status_index#17806, order_purchase_month#17836, order_approved_at#6025, order_delivered_carrier_date#5952, order_delivered_customer_date#5961, order_estimated_delivery_date#5970, days_to_approval#17866, days_to_carrier#17896, days_to_delivery#17926, days_estimated_vs_actual_delivery#17956, price#17986, freight_value#18016, segmentacao_necessidade_index#18046, segmentacao_sentimento_index#16858, segmentacao_tipo_index#16928, segmentacao_validade_index#17001, segmentacao_utilizacao_index#17077, segmentacoes_funcionalidade_index#17156, segmentacao_interatividade_index#17238, segmentacoes_impacto_ambiental_index#17323, segmentacoes_interacao_humana_index#17411, cast(seller_city_index#18076 as double) AS seller_city_index#18286, seller_state_index#18106, ... 5 more fields]\n                              +- Project [target#17544, order_status_index#17806, order_purchase_month#17836, order_approved_at#6025, order_delivered_carrier_date#5952, order_delivered_customer_date#5961, order_estimated_delivery_date#5970, days_to_approval#17866, days_to_carrier#17896, days_to_delivery#17926, days_estimated_vs_actual_delivery#17956, price#17986, freight_value#18016, segmentacao_necessidade_index#18046, segmentacao_sentimento_index#16858, segmentacao_tipo_index#16928, segmentacao_validade_index#17001, segmentacao_utilizacao_index#17077, segmentacoes_funcionalidade_index#17156, segmentacao_interatividade_index#17238, segmentacoes_impacto_ambiental_index#17323, segmentacoes_interacao_humana_index#17411, seller_city_index#18076, seller_state_index#18106, ... 5 more fields]\n                                 +- Project [target#17544, order_status_index#17806, order_purchase_month#17836, order_approved_at#6025, order_delivered_carrier_date#5952, order_delivered_customer_date#5961, order_estimated_delivery_date#5970, days_to_approval#17866, days_to_carrier#17896, days_to_delivery#17926, days_estimated_vs_actual_delivery#17956, price#17986, freight_value#18016, segmentacao_necessidade_index#18046, segmentacao_sentimento_index#16858, segmentacao_tipo_index#16928, segmentacao_validade_index#17001, segmentacao_utilizacao_index#17077, segmentacoes_funcionalidade_index#17156, segmentacao_interatividade_index#17238, segmentacoes_impacto_ambiental_index#17323, segmentacoes_interacao_humana_index#17411, seller_city_index#18076, seller_state_index#18106, ... 5 more fields]\n                                    +- Project [target#17544, order_status_index#17806, order_purchase_month#17836, order_approved_at#6025, order_delivered_carrier_date#5952, order_delivered_customer_date#5961, order_estimated_delivery_date#5970, days_to_approval#17866, days_to_carrier#17896, days_to_delivery#17926, days_estimated_vs_actual_delivery#17956, price#17986, freight_value#18016, segmentacao_necessidade_index#18046, segmentacao_sentimento_index#16858, segmentacao_tipo_index#16928, segmentacao_validade_index#17001, segmentacao_utilizacao_index#17077, segmentacoes_funcionalidade_index#17156, segmentacao_interatividade_index#17238, segmentacoes_impacto_ambiental_index#17323, segmentacoes_interacao_humana_index#17411, seller_city_index#18076, seller_state_index#18106, ... 5 more fields]\n                                       +- Project [target#17544, order_status_index#17806, order_purchase_month#17836, order_approved_at#6025, order_delivered_carrier_date#5952, order_delivered_customer_date#5961, order_estimated_delivery_date#5970, days_to_approval#17866, days_to_carrier#17896, days_to_delivery#17926, days_estimated_vs_actual_delivery#17956, price#17986, freight_value#18016, segmentacao_necessidade_index#18046, segmentacao_sentimento_index#16858, segmentacao_tipo_index#16928, segmentacao_validade_index#17001, segmentacao_utilizacao_index#17077, segmentacoes_funcionalidade_index#17156, segmentacao_interatividade_index#17238, segmentacoes_impacto_ambiental_index#17323, segmentacoes_interacao_humana_index#17411, seller_city_index#18076, seller_state_index#18106, ... 5 more fields]\n                                          +- Project [target#17544, order_status_index#17806, order_purchase_month#17836, order_approved_at#6025, order_delivered_carrier_date#5952, order_delivered_customer_date#5961, order_estimated_delivery_date#5970, days_to_approval#17866, days_to_carrier#17896, days_to_delivery#17926, days_estimated_vs_actual_delivery#17956, price#17986, freight_value#18016, segmentacao_necessidade_index#18046, segmentacao_sentimento_index#16858, segmentacao_tipo_index#16928, segmentacao_validade_index#17001, segmentacao_utilizacao_index#17077, segmentacoes_funcionalidade_index#17156, segmentacao_interatividade_index#17238, segmentacoes_impacto_ambiental_index#17323, segmentacoes_interacao_humana_index#17411, seller_city_index#18076, seller_state_index#18106, ... 5 more fields]\n                                             +- Project [target#17544, order_status_index#17806, order_purchase_month#17836, order_approved_at#6025, order_delivered_carrier_date#5952, order_delivered_customer_date#5961, order_estimated_delivery_date#5970, days_to_approval#17866, days_to_carrier#17896, days_to_delivery#17926, days_estimated_vs_actual_delivery#17956, price#17986, freight_value#18016, segmentacao_necessidade_index#18046, segmentacao_sentimento_index#16858, segmentacao_tipo_index#16928, segmentacao_validade_index#17001, segmentacao_utilizacao_index#17077, segmentacoes_funcionalidade_index#17156, segmentacao_interatividade_index#17238, segmentacoes_impacto_ambiental_index#17323, segmentacoes_interacao_humana_index#17411, seller_city_index#18076, cast(seller_state_index#15200 as double) AS seller_state_index#18106, ... 5 more fields]\n                                                +- Project [target#17544, order_status_index#17806, order_purchase_month#17836, order_approved_at#6025, order_delivered_carrier_date#5952, order_delivered_customer_date#5961, order_estimated_delivery_date#5970, days_to_approval#17866, days_to_carrier#17896, days_to_delivery#17926, days_estimated_vs_actual_delivery#17956, price#17986, freight_value#18016, segmentacao_necessidade_index#18046, segmentacao_sentimento_index#16858, segmentacao_tipo_index#16928, segmentacao_validade_index#17001, segmentacao_utilizacao_index#17077, segmentacoes_funcionalidade_index#17156, segmentacao_interatividade_index#17238, segmentacoes_impacto_ambiental_index#17323, segmentacoes_interacao_humana_index#17411, cast(seller_city_index#15139 as double) AS seller_city_index#18076, seller_state_index#15200, ... 5 more fields]\n                                                   +- Project [target#17544, order_status_index#17806, order_purchase_month#17836, order_approved_at#6025, order_delivered_carrier_date#5952, order_delivered_customer_date#5961, order_estimated_delivery_date#5970, days_to_approval#17866, days_to_carrier#17896, days_to_delivery#17926, days_estimated_vs_actual_delivery#17956, price#17986, freight_value#18016, cast(segmentacao_necessidade_index#16791 as double) AS segmentacao_necessidade_index#18046, segmentacao_sentimento_index#16858, segmentacao_tipo_index#16928, segmentacao_validade_index#17001, segmentacao_utilizacao_index#17077, segmentacoes_funcionalidade_index#17156, segmentacao_interatividade_index#17238, segmentacoes_impacto_ambiental_index#17323, segmentacoes_interacao_humana_index#17411, seller_city_index#15139, seller_state_index#15200, ... 5 more fields]\n                                                      +- Project [target#17544, order_status_index#17806, order_purchase_month#17836, order_approved_at#6025, order_delivered_carrier_date#5952, order_delivered_customer_date#5961, order_estimated_delivery_date#5970, days_to_approval#17866, days_to_carrier#17896, days_to_delivery#17926, days_estimated_vs_actual_delivery#17956, price#17986, cast(freight_value#198 as double) AS freight_value#18016, segmentacao_necessidade_index#16791, segmentacao_sentimento_index#16858, segmentacao_tipo_index#16928, segmentacao_validade_index#17001, segmentacao_utilizacao_index#17077, segmentacoes_funcionalidade_index#17156, segmentacao_interatividade_index#17238, segmentacoes_impacto_ambiental_index#17323, segmentacoes_interacao_humana_index#17411, seller_city_index#15139, seller_state_index#15200, ... 5 more fields]\n                                                         +- Project [target#17544, order_status_index#17806, order_purchase_month#17836, order_approved_at#6025, order_delivered_carrier_date#5952, order_delivered_customer_date#5961, order_estimated_delivery_date#5970, days_to_approval#17866, days_to_carrier#17896, days_to_delivery#17926, days_estimated_vs_actual_delivery#17956, cast(price#197 as double) AS price#17986, freight_value#198, segmentacao_necessidade_index#16791, segmentacao_sentimento_index#16858, segmentacao_tipo_index#16928, segmentacao_validade_index#17001, segmentacao_utilizacao_index#17077, segmentacoes_funcionalidade_index#17156, segmentacao_interatividade_index#17238, segmentacoes_impacto_ambiental_index#17323, segmentacoes_interacao_humana_index#17411, seller_city_index#15139, seller_state_index#15200, ... 5 more fields]\n                                                            +- Project [target#17544, order_status_index#17806, order_purchase_month#17836, order_approved_at#6025, order_delivered_carrier_date#5952, order_delivered_customer_date#5961, order_estimated_delivery_date#5970, days_to_approval#17866, days_to_carrier#17896, days_to_delivery#17926, cast(days_estimated_vs_actual_delivery#6012 as double) AS days_estimated_vs_actual_delivery#17956, price#197, freight_value#198, segmentacao_necessidade_index#16791, segmentacao_sentimento_index#16858, segmentacao_tipo_index#16928, segmentacao_validade_index#17001, segmentacao_utilizacao_index#17077, segmentacoes_funcionalidade_index#17156, segmentacao_interatividade_index#17238, segmentacoes_impacto_ambiental_index#17323, segmentacoes_interacao_humana_index#17411, seller_city_index#15139, seller_state_index#15200, ... 5 more fields]\n                                                               +- Project [target#17544, order_status_index#17806, order_purchase_month#17836, order_approved_at#6025, order_delivered_carrier_date#5952, order_delivered_customer_date#5961, order_estimated_delivery_date#5970, days_to_approval#17866, days_to_carrier#17896, cast(days_to_delivery#6000 as double) AS days_to_delivery#17926, days_estimated_vs_actual_delivery#6012, price#197, freight_value#198, segmentacao_necessidade_index#16791, segmentacao_sentimento_index#16858, segmentacao_tipo_index#16928, segmentacao_validade_index#17001, segmentacao_utilizacao_index#17077, segmentacoes_funcionalidade_index#17156, segmentacao_interatividade_index#17238, segmentacoes_impacto_ambiental_index#17323, segmentacoes_interacao_humana_index#17411, seller_city_index#15139, seller_state_index#15200, ... 5 more fields]\n                                                                  +- Project [target#17544, order_status_index#17806, order_purchase_month#17836, order_approved_at#6025, order_delivered_carrier_date#5952, order_delivered_customer_date#5961, order_estimated_delivery_date#5970, days_to_approval#17866, cast(days_to_carrier#5989 as double) AS days_to_carrier#17896, days_to_delivery#6000, days_estimated_vs_actual_delivery#6012, price#197, freight_value#198, segmentacao_necessidade_index#16791, segmentacao_sentimento_index#16858, segmentacao_tipo_index#16928, segmentacao_validade_index#17001, segmentacao_utilizacao_index#17077, segmentacoes_funcionalidade_index#17156, segmentacao_interatividade_index#17238, segmentacoes_impacto_ambiental_index#17323, segmentacoes_interacao_humana_index#17411, seller_city_index#15139, seller_state_index#15200, ... 5 more fields]\n                                                                     +- Project [target#17544, order_status_index#17806, order_purchase_month#17836, order_approved_at#6025, order_delivered_carrier_date#5952, order_delivered_customer_date#5961, order_estimated_delivery_date#5970, cast(days_to_approval#5979 as double) AS days_to_approval#17866, days_to_carrier#5989, days_to_delivery#6000, days_estimated_vs_actual_delivery#6012, price#197, freight_value#198, segmentacao_necessidade_index#16791, segmentacao_sentimento_index#16858, segmentacao_tipo_index#16928, segmentacao_validade_index#17001, segmentacao_utilizacao_index#17077, segmentacoes_funcionalidade_index#17156, segmentacao_interatividade_index#17238, segmentacoes_impacto_ambiental_index#17323, segmentacoes_interacao_humana_index#17411, seller_city_index#15139, seller_state_index#15200, ... 5 more fields]\n                                                                        +- Project [target#17544, order_status_index#17806, cast(order_purchase_month#15407 as double) AS order_purchase_month#17836, order_approved_at#6025, order_delivered_carrier_date#5952, order_delivered_customer_date#5961, order_estimated_delivery_date#5970, days_to_approval#5979, days_to_carrier#5989, days_to_delivery#6000, days_estimated_vs_actual_delivery#6012, price#197, freight_value#198, segmentacao_necessidade_index#16791, segmentacao_sentimento_index#16858, segmentacao_tipo_index#16928, segmentacao_validade_index#17001, segmentacao_utilizacao_index#17077, segmentacoes_funcionalidade_index#17156, segmentacao_interatividade_index#17238, segmentacoes_impacto_ambiental_index#17323, segmentacoes_interacao_humana_index#17411, seller_city_index#15139, seller_state_index#15200, ... 5 more fields]\n                                                                           +- Project [target#17544, cast(order_status_index#15070 as double) AS order_status_index#17806, order_purchase_month#15407, order_approved_at#6025, order_delivered_carrier_date#5952, order_delivered_customer_date#5961, order_estimated_delivery_date#5970, days_to_approval#5979, days_to_carrier#5989, days_to_delivery#6000, days_estimated_vs_actual_delivery#6012, price#197, freight_value#198, segmentacao_necessidade_index#16791, segmentacao_sentimento_index#16858, segmentacao_tipo_index#16928, segmentacao_validade_index#17001, segmentacao_utilizacao_index#17077, segmentacoes_funcionalidade_index#17156, segmentacao_interatividade_index#17238, segmentacoes_impacto_ambiental_index#17323, segmentacoes_interacao_humana_index#17411, seller_city_index#15139, seller_state_index#15200, ... 5 more fields]\n                                                                              +- Filter atleastnnonnulls(29, target#17544, order_status_index#15070, order_purchase_month#15407, order_approved_at#6025, order_delivered_carrier_date#5952, order_delivered_customer_date#5961, order_estimated_delivery_date#5970, days_to_approval#5979, days_to_carrier#5989, days_to_delivery#6000, days_estimated_vs_actual_delivery#6012, price#197, freight_value#198, segmentacao_necessidade_index#16791, segmentacao_sentimento_index#16858, segmentacao_tipo_index#16928, segmentacao_validade_index#17001, segmentacao_utilizacao_index#17077, segmentacoes_funcionalidade_index#17156, segmentacao_interatividade_index#17238, segmentacoes_impacto_ambiental_index#17323, segmentacoes_interacao_humana_index#17411, seller_city_index#15139, ... 6 more fields)\n                                                                                 +- Filter isnotnull(target#17544)\n                                                                                    +- Project [target#17544, order_status_index#15070, order_purchase_month#15407, order_approved_at#6025, order_delivered_carrier_date#5952, order_delivered_customer_date#5961, order_estimated_delivery_date#5970, days_to_approval#5979, days_to_carrier#5989, days_to_delivery#6000, days_estimated_vs_actual_delivery#6012, price#197, freight_value#198, segmentacao_necessidade_index#16791, segmentacao_sentimento_index#16858, segmentacao_tipo_index#16928, segmentacao_validade_index#17001, segmentacao_utilizacao_index#17077, segmentacoes_funcionalidade_index#17156, segmentacao_interatividade_index#17238, segmentacoes_impacto_ambiental_index#17323, segmentacoes_interacao_humana_index#17411, seller_city_index#15139, seller_state_index#15200, ... 5 more fields]\n                                                                                       +- Project [order_id#21, customer_id#73, seller_id#195, target#17544, order_status_index#15070, order_purchase_month#15407, order_approved_at#6025, order_delivered_carrier_date#5952, order_delivered_customer_date#5961, order_estimated_delivery_date#5970, days_to_approval#5979, days_to_carrier#5989, days_to_delivery#6000, days_estimated_vs_actual_delivery#6012, product_id#194, price#197, freight_value#198, segmentacao_necessidade_index#16791, segmentacao_sentimento_index#16858, segmentacao_tipo_index#16928, segmentacao_validade_index#17001, segmentacao_utilizacao_index#17077, segmentacoes_funcionalidade_index#17156, segmentacao_interatividade_index#17238, ... 9 more fields]\n                                                                                          +- Join Inner, (order_id#21 = order_id#17688)\n                                                                                             :- Project [customer_id#73, seller_id#195, order_id#21, target#17544, order_status_index#15070, order_purchase_month#15407, order_approved_at#6025, order_delivered_carrier_date#5952, order_delivered_customer_date#5961, order_estimated_delivery_date#5970, days_to_approval#5979, days_to_carrier#5989, days_to_delivery#6000, days_estimated_vs_actual_delivery#6012, product_id#194, price#197, freight_value#198, segmentacao_necessidade_index#16791, segmentacao_sentimento_index#16858, segmentacao_tipo_index#16928, segmentacao_validade_index#17001, segmentacao_utilizacao_index#17077, segmentacoes_funcionalidade_index#17156, segmentacao_interatividade_index#17238, ... 5 more fields]\n                                                                                             :  +- Join Inner, (customer_id#73 = customer_id#165)\n                                                                                             :     :- Project [seller_id#195, order_id#21, target#17544, customer_id#73, order_status_index#15070, order_purchase_month#15407, order_approved_at#6025, order_delivered_carrier_date#5952, order_delivered_customer_date#5961, order_estimated_delivery_date#5970, days_to_approval#5979, days_to_carrier#5989, days_to_delivery#6000, days_estimated_vs_actual_delivery#6012, product_id#194, price#197, freight_value#198, segmentacao_necessidade_index#16791, segmentacao_sentimento_index#16858, segmentacao_tipo_index#16928, segmentacao_validade_index#17001, segmentacao_utilizacao_index#17077, segmentacoes_funcionalidade_index#17156, segmentacao_interatividade_index#17238, ... 4 more fields]\n                                                                                             :     :  +- Join Inner, (seller_id#195 = seller_id#105)\n                                                                                             :     :     :- Project [order_id#21, target#17544, customer_id#73, order_status_index#15070, order_purchase_month#15407, order_approved_at#6025, order_delivered_carrier_date#5952, order_delivered_customer_date#5961, order_estimated_delivery_date#5970, days_to_approval#5979, days_to_carrier#5989, days_to_delivery#6000, days_estimated_vs_actual_delivery#6012, product_id#194, price#197, freight_value#198, seller_id#195, segmentacao_necessidade_index#16791, segmentacao_sentimento_index#16858, segmentacao_tipo_index#16928, segmentacao_validade_index#17001, segmentacao_utilizacao_index#17077, segmentacoes_funcionalidade_index#17156, segmentacao_interatividade_index#17238, ... 2 more fields]\n                                                                                             :     :     :  +- Join Inner, (order_id#21 = order_id#192)\n                                                                                             :     :     :     :- Project [order_id#21, target#17544, customer_id#73, order_status_index#15070, order_purchase_month#15407, order_approved_at#6025, order_delivered_carrier_date#5952, order_delivered_customer_date#5961, order_estimated_delivery_date#5970, days_to_approval#5979, days_to_carrier#5989, days_to_delivery#6000, days_estimated_vs_actual_delivery#6012]\n                                                                                             :     :     :     :  +- Join Inner, (order_id#21 = order_id#72)\n                                                                                             :     :     :     :     :- Project [order_id#21, cast(review_score#22 as int) AS target#17544]\n                                                                                             :     :     :     :     :  +- Project [review_id#20, order_id#21, review_score#22, review_comment_title#23, review_comment_message#24, review_creation_date#25, review_answer_timestamp#26, days_to_response#7533, CASE WHEN (isnotnull(review_comment_message#24) OR isnotnull(review_comment_title#23)) THEN 1 ELSE 0 END AS has_review_comment#7634]\n                                                                                             :     :     :     :     :     +- Project [review_id#20, order_id#21, review_score#22, review_comment_title#23, review_comment_message#24, review_creation_date#25, review_answer_timestamp#26, datediff(cast(review_answer_timestamp#26 as date), cast(review_creation_date#25 as date)) AS days_to_response#7533]\n                                                                                             :     :     :     :     :        +- Relation [review_id#20,order_id#21,review_score#22,review_comment_title#23,review_comment_message#24,review_creation_date#25,review_answer_timestamp#26] csv\n                                                                                             :     :     :     :     +- Project [order_id#72, customer_id#73, order_status_index#15070, order_purchase_month#15407, order_approved_at#6025, order_delivered_carrier_date#5952, order_delivered_customer_date#5961, order_estimated_delivery_date#5970, days_to_approval#5979, days_to_carrier#5989, days_to_delivery#6000, days_estimated_vs_actual_delivery#6012]\n                                                                                             :     :     :     :        +- Project [customer_id#73, order_id#72, order_status#74, order_purchase_timestamp#5934, order_approved_at#6025, order_delivered_carrier_date#5952, order_delivered_customer_date#5961, order_estimated_delivery_date#5970, days_to_approval#5979, days_to_carrier#5989, days_to_delivery#6000, days_estimated_vs_actual_delivery#6012, approval_group#9868, carrier_group#9882, delivery_group#9897, estimated_vs_actual_group#9913, order_status_index#15070, month(cast(order_purchase_timestamp#5934 as date)) AS order_purchase_month#15407]\n                                                                                             :     :     :     :           +- Project [customer_id#73, order_id#72, order_status#74, order_purchase_timestamp#5934, order_approved_at#6025, order_delivered_carrier_date#5952, order_delivered_customer_date#5961, order_estimated_delivery_date#5970, days_to_approval#5979, days_to_carrier#5989, days_to_delivery#6000, days_estimated_vs_actual_delivery#6012, approval_group#9868, carrier_group#9882, delivery_group#9897, estimated_vs_actual_group#9913, UDF(cast(order_status#74 as string)) AS order_status_index#15070]\n                                                                                             :     :     :     :              +- Project [customer_id#73, order_id#72, order_status#74, order_purchase_timestamp#5934, order_approved_at#6025, order_delivered_carrier_date#5952, order_delivered_customer_date#5961, order_estimated_delivery_date#5970, days_to_approval#5979, days_to_carrier#5989, days_to_delivery#6000, days_estimated_vs_actual_delivery#6012, approval_group#9868, carrier_group#9882, delivery_group#9897, estimated_vs_actual_group#9913]\n                                                                                             :     :     :     :                 +- Join Inner, (customer_id#73 = customer_id#11120)\n                                                                                             :     :     :     :                    :- Project [order_id#72, customer_id#73, order_status#74, order_purchase_timestamp#5934, order_approved_at#6025, order_delivered_carrier_date#5952, order_delivered_customer_date#5961, order_estimated_delivery_date#5970, days_to_approval#5979, days_to_carrier#5989, days_to_delivery#6000, days_estimated_vs_actual_delivery#6012, approval_group#9868, carrier_group#9882, delivery_group#9897, CASE WHEN (days_estimated_vs_actual_delivery#6012 <= 3) THEN até 3 dias WHEN (days_estimated_vs_actual_delivery#6012 <= 5) THEN 3 a 5 dias WHEN (days_estimated_vs_actual_delivery#6012 <= 7) THEN 5 a 7 dias ELSE mais de 7 dias END AS estimated_vs_actual_group#9913]\n                                                                                             :     :     :     :                    :  +- Project [order_id#72, customer_id#73, order_status#74, order_purchase_timestamp#5934, order_approved_at#6025, order_delivered_carrier_date#5952, order_delivered_customer_date#5961, order_estimated_delivery_date#5970, days_to_approval#5979, days_to_carrier#5989, days_to_delivery#6000, days_estimated_vs_actual_delivery#6012, approval_group#9868, carrier_group#9882, CASE WHEN (days_to_delivery#6000 <= 3) THEN até 3 dias WHEN (days_to_delivery#6000 <= 5) THEN 3 a 5 dias WHEN (days_to_delivery#6000 <= 7) THEN 5 a 7 dias ELSE mais de 7 dias END AS delivery_group#9897]\n                                                                                             :     :     :     :                    :     +- Project [order_id#72, customer_id#73, order_status#74, order_purchase_timestamp#5934, order_approved_at#6025, order_delivered_carrier_date#5952, order_delivered_customer_date#5961, order_estimated_delivery_date#5970, days_to_approval#5979, days_to_carrier#5989, days_to_delivery#6000, days_estimated_vs_actual_delivery#6012, approval_group#9868, CASE WHEN (days_to_carrier#5989 <= 3) THEN até 3 dias WHEN (days_to_carrier#5989 <= 5) THEN 3 a 5 dias WHEN (days_to_carrier#5989 <= 7) THEN 5 a 7 dias ELSE mais de 7 dias END AS carrier_group#9882]\n                                                                                             :     :     :     :                    :        +- Project [order_id#72, customer_id#73, order_status#74, order_purchase_timestamp#5934, order_approved_at#6025, order_delivered_carrier_date#5952, order_delivered_customer_date#5961, order_estimated_delivery_date#5970, days_to_approval#5979, days_to_carrier#5989, days_to_delivery#6000, days_estimated_vs_actual_delivery#6012, CASE WHEN (days_to_approval#5979 <= 3) THEN até 3 dias WHEN (days_to_approval#5979 <= 5) THEN 3 a 5 dias WHEN (days_to_approval#5979 <= 7) THEN 5 a 7 dias ELSE mais de 7 dias END AS approval_group#9868]\n                                                                                             :     :     :     :                    :           +- Project [order_id#72, customer_id#73, order_status#74, order_purchase_timestamp#5934, cast(order_approved_at#5943 as timestamp) AS order_approved_at#6025, order_delivered_carrier_date#5952, order_delivered_customer_date#5961, order_estimated_delivery_date#5970, days_to_approval#5979, days_to_carrier#5989, days_to_delivery#6000, days_estimated_vs_actual_delivery#6012]\n                                                                                             :     :     :     :                    :              +- Project [order_id#72, customer_id#73, order_status#74, order_purchase_timestamp#5934, order_approved_at#5943, order_delivered_carrier_date#5952, order_delivered_customer_date#5961, order_estimated_delivery_date#5970, days_to_approval#5979, days_to_carrier#5989, days_to_delivery#6000, datediff(cast(order_delivered_customer_date#5961 as date), cast(order_estimated_delivery_date#5970 as date)) AS days_estimated_vs_actual_delivery#6012]\n                                                                                             :     :     :     :                    :                 +- Project [order_id#72, customer_id#73, order_status#74, order_purchase_timestamp#5934, order_approved_at#5943, order_delivered_carrier_date#5952, order_delivered_customer_date#5961, order_estimated_delivery_date#5970, days_to_approval#5979, days_to_carrier#5989, datediff(cast(order_delivered_customer_date#5961 as date), cast(order_purchase_timestamp#5934 as date)) AS days_to_delivery#6000]\n                                                                                             :     :     :     :                    :                    +- Project [order_id#72, customer_id#73, order_status#74, order_purchase_timestamp#5934, order_approved_at#5943, order_delivered_carrier_date#5952, order_delivered_customer_date#5961, order_estimated_delivery_date#5970, days_to_approval#5979, datediff(cast(order_delivered_carrier_date#5952 as date), cast(order_purchase_timestamp#5934 as date)) AS days_to_carrier#5989]\n                                                                                             :     :     :     :                    :                       +- Project [order_id#72, customer_id#73, order_status#74, order_purchase_timestamp#5934, order_approved_at#5943, order_delivered_carrier_date#5952, order_delivered_customer_date#5961, order_estimated_delivery_date#5970, datediff(cast(order_approved_at#5943 as date), cast(order_purchase_timestamp#5934 as date)) AS days_to_approval#5979]\n                                                                                             :     :     :     :                    :                          +- Project [order_id#72, customer_id#73, order_status#74, order_purchase_timestamp#5934, order_approved_at#5943, order_delivered_carrier_date#5952, order_delivered_customer_date#5961, cast(order_estimated_delivery_date#79 as timestamp) AS order_estimated_delivery_date#5970]\n                                                                                             :     :     :     :                    :                             +- Project [order_id#72, customer_id#73, order_status#74, order_purchase_timestamp#5934, order_approved_at#5943, order_delivered_carrier_date#5952, cast(order_delivered_customer_date#78 as timestamp) AS order_delivered_customer_date#5961, order_estimated_delivery_date#79]\n                                                                                             :     :     :     :                    :                                +- Project [order_id#72, customer_id#73, order_status#74, order_purchase_timestamp#5934, order_approved_at#5943, cast(order_delivered_carrier_date#77 as timestamp) AS order_delivered_carrier_date#5952, order_delivered_customer_date#78, order_estimated_delivery_date#79]\n                                                                                             :     :     :     :                    :                                   +- Project [order_id#72, customer_id#73, order_status#74, order_purchase_timestamp#5934, cast(order_approved_at#76 as timestamp) AS order_approved_at#5943, order_delivered_carrier_date#77, order_delivered_customer_date#78, order_estimated_delivery_date#79]\n                                                                                             :     :     :     :                    :                                      +- Project [order_id#72, customer_id#73, order_status#74, cast(order_purchase_timestamp#75 as timestamp) AS order_purchase_timestamp#5934, order_approved_at#76, order_delivered_carrier_date#77, order_delivered_customer_date#78, order_estimated_delivery_date#79]\n                                                                                             :     :     :     :                    :                                         +- Relation [order_id#72,customer_id#73,order_status#74,order_purchase_timestamp#75,order_approved_at#76,order_delivered_carrier_date#77,order_delivered_customer_date#78,order_estimated_delivery_date#79] csv\n                                                                                             :     :     :     :                    +- Project [customer_id#11120]\n                                                                                             :     :     :     :                       +- Filter ((total_value#11081 >= -339.855) AND (total_value#11081 <= 670.6650000000001))\n                                                                                             :     :     :     :                          +- Aggregate [customer_id#11120], [customer_id#11120, sum(payment_value#227) AS total_value#11081]\n                                                                                             :     :     :     :                             +- Project [order_id#11119, customer_id#11120, order_status#11121, order_purchase_timestamp#5934, order_approved_at#6025, order_delivered_carrier_date#5952, order_delivered_customer_date#5961, order_estimated_delivery_date#5970, days_to_approval#5979, days_to_carrier#5989, days_to_delivery#6000, days_estimated_vs_actual_delivery#6012, approval_group#9868, carrier_group#9882, delivery_group#9897, estimated_vs_actual_group#9913, payment_sequential#224, payment_type#225, payment_installments#226, payment_value#227]\n                                                                                             :     :     :     :                                +- Join Inner, (order_id#11119 = order_id#223)\n                                                                                             :     :     :     :                                   :- Project [order_id#11119, customer_id#11120, order_status#11121, order_purchase_timestamp#5934, order_approved_at#6025, order_delivered_carrier_date#5952, order_delivered_customer_date#5961, order_estimated_delivery_date#5970, days_to_approval#5979, days_to_carrier#5989, days_to_delivery#6000, days_estimated_vs_actual_delivery#6012, approval_group#9868, carrier_group#9882, delivery_group#9897, CASE WHEN (days_estimated_vs_actual_delivery#6012 <= 3) THEN até 3 dias WHEN (days_estimated_vs_actual_delivery#6012 <= 5) THEN 3 a 5 dias WHEN (days_estimated_vs_actual_delivery#6012 <= 7) THEN 5 a 7 dias ELSE mais de 7 dias END AS estimated_vs_actual_group#9913]\n                                                                                             :     :     :     :                                   :  +- Project [order_id#11119, customer_id#11120, order_status#11121, order_purchase_timestamp#5934, order_approved_at#6025, order_delivered_carrier_date#5952, order_delivered_customer_date#5961, order_estimated_delivery_date#5970, days_to_approval#5979, days_to_carrier#5989, days_to_delivery#6000, days_estimated_vs_actual_delivery#6012, approval_group#9868, carrier_group#9882, CASE WHEN (days_to_delivery#6000 <= 3) THEN até 3 dias WHEN (days_to_delivery#6000 <= 5) THEN 3 a 5 dias WHEN (days_to_delivery#6000 <= 7) THEN 5 a 7 dias ELSE mais de 7 dias END AS delivery_group#9897]\n                                                                                             :     :     :     :                                   :     +- Project [order_id#11119, customer_id#11120, order_status#11121, order_purchase_timestamp#5934, order_approved_at#6025, order_delivered_carrier_date#5952, order_delivered_customer_date#5961, order_estimated_delivery_date#5970, days_to_approval#5979, days_to_carrier#5989, days_to_delivery#6000, days_estimated_vs_actual_delivery#6012, approval_group#9868, CASE WHEN (days_to_carrier#5989 <= 3) THEN até 3 dias WHEN (days_to_carrier#5989 <= 5) THEN 3 a 5 dias WHEN (days_to_carrier#5989 <= 7) THEN 5 a 7 dias ELSE mais de 7 dias END AS carrier_group#9882]\n                                                                                             :     :     :     :                                   :        +- Project [order_id#11119, customer_id#11120, order_status#11121, order_purchase_timestamp#5934, order_approved_at#6025, order_delivered_carrier_date#5952, order_delivered_customer_date#5961, order_estimated_delivery_date#5970, days_to_approval#5979, days_to_carrier#5989, days_to_delivery#6000, days_estimated_vs_actual_delivery#6012, CASE WHEN (days_to_approval#5979 <= 3) THEN até 3 dias WHEN (days_to_approval#5979 <= 5) THEN 3 a 5 dias WHEN (days_to_approval#5979 <= 7) THEN 5 a 7 dias ELSE mais de 7 dias END AS approval_group#9868]\n                                                                                             :     :     :     :                                   :           +- Project [order_id#11119, customer_id#11120, order_status#11121, order_purchase_timestamp#5934, cast(order_approved_at#5943 as timestamp) AS order_approved_at#6025, order_delivered_carrier_date#5952, order_delivered_customer_date#5961, order_estimated_delivery_date#5970, days_to_approval#5979, days_to_carrier#5989, days_to_delivery#6000, days_estimated_vs_actual_delivery#6012]\n                                                                                             :     :     :     :                                   :              +- Project [order_id#11119, customer_id#11120, order_status#11121, order_purchase_timestamp#5934, order_approved_at#5943, order_delivered_carrier_date#5952, order_delivered_customer_date#5961, order_estimated_delivery_date#5970, days_to_approval#5979, days_to_carrier#5989, days_to_delivery#6000, datediff(cast(order_delivered_customer_date#5961 as date), cast(order_estimated_delivery_date#5970 as date)) AS days_estimated_vs_actual_delivery#6012]\n                                                                                             :     :     :     :                                   :                 +- Project [order_id#11119, customer_id#11120, order_status#11121, order_purchase_timestamp#5934, order_approved_at#5943, order_delivered_carrier_date#5952, order_delivered_customer_date#5961, order_estimated_delivery_date#5970, days_to_approval#5979, days_to_carrier#5989, datediff(cast(order_delivered_customer_date#5961 as date), cast(order_purchase_timestamp#5934 as date)) AS days_to_delivery#6000]\n                                                                                             :     :     :     :                                   :                    +- Project [order_id#11119, customer_id#11120, order_status#11121, order_purchase_timestamp#5934, order_approved_at#5943, order_delivered_carrier_date#5952, order_delivered_customer_date#5961, order_estimated_delivery_date#5970, days_to_approval#5979, datediff(cast(order_delivered_carrier_date#5952 as date), cast(order_purchase_timestamp#5934 as date)) AS days_to_carrier#5989]\n                                                                                             :     :     :     :                                   :                       +- Project [order_id#11119, customer_id#11120, order_status#11121, order_purchase_timestamp#5934, order_approved_at#5943, order_delivered_carrier_date#5952, order_delivered_customer_date#5961, order_estimated_delivery_date#5970, datediff(cast(order_approved_at#5943 as date), cast(order_purchase_timestamp#5934 as date)) AS days_to_approval#5979]\n                                                                                             :     :     :     :                                   :                          +- Project [order_id#11119, customer_id#11120, order_status#11121, order_purchase_timestamp#5934, order_approved_at#5943, order_delivered_carrier_date#5952, order_delivered_customer_date#5961, cast(order_estimated_delivery_date#11126 as timestamp) AS order_estimated_delivery_date#5970]\n                                                                                             :     :     :     :                                   :                             +- Project [order_id#11119, customer_id#11120, order_status#11121, order_purchase_timestamp#5934, order_approved_at#5943, order_delivered_carrier_date#5952, cast(order_delivered_customer_date#11125 as timestamp) AS order_delivered_customer_date#5961, order_estimated_delivery_date#11126]\n                                                                                             :     :     :     :                                   :                                +- Project [order_id#11119, customer_id#11120, order_status#11121, order_purchase_timestamp#5934, order_approved_at#5943, cast(order_delivered_carrier_date#11124 as timestamp) AS order_delivered_carrier_date#5952, order_delivered_customer_date#11125, order_estimated_delivery_date#11126]\n                                                                                             :     :     :     :                                   :                                   +- Project [order_id#11119, customer_id#11120, order_status#11121, order_purchase_timestamp#5934, cast(order_approved_at#11123 as timestamp) AS order_approved_at#5943, order_delivered_carrier_date#11124, order_delivered_customer_date#11125, order_estimated_delivery_date#11126]\n                                                                                             :     :     :     :                                   :                                      +- Project [order_id#11119, customer_id#11120, order_status#11121, cast(order_purchase_timestamp#11122 as timestamp) AS order_purchase_timestamp#5934, order_approved_at#11123, order_delivered_carrier_date#11124, order_delivered_customer_date#11125, order_estimated_delivery_date#11126]\n                                                                                             :     :     :     :                                   :                                         +- Relation [order_id#11119,customer_id#11120,order_status#11121,order_purchase_timestamp#11122,order_approved_at#11123,order_delivered_carrier_date#11124,order_delivered_customer_date#11125,order_estimated_delivery_date#11126] csv\n                                                                                             :     :     :     :                                   +- Relation [order_id#223,payment_sequential#224,payment_type#225,payment_installments#226,payment_value#227] csv\n                                                                                             :     :     :     +- Project [order_id#192, product_id#194, price#197, freight_value#198, seller_id#195, segmentacao_necessidade_index#16791, segmentacao_sentimento_index#16858, segmentacao_tipo_index#16928, segmentacao_validade_index#17001, segmentacao_utilizacao_index#17077, segmentacoes_funcionalidade_index#17156, segmentacao_interatividade_index#17238, segmentacoes_impacto_ambiental_index#17323, segmentacoes_interacao_humana_index#17411]\n                                                                                             :     :     :        +- Project [product_id#194, order_id#192, order_item_id#193, seller_id#195, shipping_limit_date#6038, price#197, freight_value#198, days_to_shipping_limit#6064, shipping_group#9732, product_category_name#131, product_name_lenght#132, product_description_lenght#133, product_photos_qty#134, product_weight_g#135, product_length_cm#136, product_height_cm#137, product_width_cm#138, product_volume#9130, segmentacao_necessidade#10816, segmentacao_sentimento#10829, segmentacao_tipo#10843, segmentacao_validade#10858, segmentacao_utilizacao#10874, segmentacoes_funcionalidade#10891, ... 30 more fields]\n                                                                                             :     :     :           +- Join Inner, (product_id#194 = product_id#17443)\n                                                                                             :     :     :              :- Project [product_id#194, order_id#192, order_item_id#193, seller_id#195, shipping_limit_date#6038, price#197, freight_value#198, days_to_shipping_limit#6064, shipping_group#9732, product_category_name#131, product_name_lenght#132, product_description_lenght#133, product_photos_qty#134, product_weight_g#135, product_length_cm#136, product_height_cm#137, product_width_cm#138, product_volume#9130, segmentacao_necessidade#10816, segmentacao_sentimento#10829, segmentacao_tipo#10843, segmentacao_validade#10858, segmentacao_utilizacao#10874, segmentacoes_funcionalidade#10891, ... 3 more fields]\n                                                                                             :     :     :              :  +- Join Inner, (product_id#194 = product_id#130)\n                                                                                             :     :     :              :     :- Project [order_id#192, order_item_id#193, product_id#194, seller_id#195, shipping_limit_date#6038, price#197, freight_value#198, days_to_shipping_limit#6064, CASE WHEN (datediff(cast(shipping_limit_date#6038 as date), cast(shipping_limit_date#6038 as date)) <= 1) THEN até 1 dias WHEN (datediff(cast(shipping_limit_date#6038 as date), cast(shipping_limit_date#6038 as date)) <= 2) THEN até 2 dias WHEN (datediff(cast(shipping_limit_date#6038 as date), cast(shipping_limit_date#6038 as date)) <= 3) THEN até 3 dias ELSE mais de 7 dias END AS shipping_group#9732]\n                                                                                             :     :     :              :     :  +- Project [order_id#192, order_item_id#193, product_id#194, seller_id#195, shipping_limit_date#6038, price#197, freight_value#198, days_to_shipping_limit#6064]\n                                                                                             :     :     :              :     :     +- Project [order_id#192, order_item_id#193, product_id#194, seller_id#195, shipping_limit_date#6038, price#197, freight_value#198, customer_id#17587, order_status#17588, order_purchase_timestamp#5934, order_approved_at#6025, order_delivered_carrier_date#5952, order_delivered_customer_date#5961, order_estimated_delivery_date#5970, days_to_approval#5979, days_to_carrier#5989, days_to_delivery#6000, days_estimated_vs_actual_delivery#6012, datediff(cast(shipping_limit_date#6038 as date), cast(order_approved_at#6025 as date)) AS days_to_shipping_limit#6064]\n                                                                                             :     :     :              :     :        +- Project [order_id#192, order_item_id#193, product_id#194, seller_id#195, shipping_limit_date#6038, price#197, freight_value#198, customer_id#17587, order_status#17588, order_purchase_timestamp#5934, order_approved_at#6025, order_delivered_carrier_date#5952, order_delivered_customer_date#5961, order_estimated_delivery_date#5970, days_to_approval#5979, days_to_carrier#5989, days_to_delivery#6000, days_estimated_vs_actual_delivery#6012]\n                                                                                             :     :     :              :     :           +- Join Inner, (order_id#192 = order_id#17586)\n                                                                                             :     :     :              :     :              :- Project [order_id#192, order_item_id#193, product_id#194, seller_id#195, cast(shipping_limit_date#196 as timestamp) AS shipping_limit_date#6038, price#197, freight_value#198]\n                                                                                             :     :     :              :     :              :  +- Relation [order_id#192,order_item_id#193,product_id#194,seller_id#195,shipping_limit_date#196,price#197,freight_value#198] csv\n                                                                                             :     :     :              :     :              +- Project [order_id#17586, customer_id#17587, order_status#17588, order_purchase_timestamp#5934, cast(order_approved_at#5943 as timestamp) AS order_approved_at#6025, order_delivered_carrier_date#5952, order_delivered_customer_date#5961, order_estimated_delivery_date#5970, days_to_approval#5979, days_to_carrier#5989, days_to_delivery#6000, days_estimated_vs_actual_delivery#6012]\n                                                                                             :     :     :              :     :                 +- Project [order_id#17586, customer_id#17587, order_status#17588, order_purchase_timestamp#5934, order_approved_at#5943, order_delivered_carrier_date#5952, order_delivered_customer_date#5961, order_estimated_delivery_date#5970, days_to_approval#5979, days_to_carrier#5989, days_to_delivery#6000, datediff(cast(order_delivered_customer_date#5961 as date), cast(order_estimated_delivery_date#5970 as date)) AS days_estimated_vs_actual_delivery#6012]\n                                                                                             :     :     :              :     :                    +- Project [order_id#17586, customer_id#17587, order_status#17588, order_purchase_timestamp#5934, order_approved_at#5943, order_delivered_carrier_date#5952, order_delivered_customer_date#5961, order_estimated_delivery_date#5970, days_to_approval#5979, days_to_carrier#5989, datediff(cast(order_delivered_customer_date#5961 as date), cast(order_purchase_timestamp#5934 as date)) AS days_to_delivery#6000]\n                                                                                             :     :     :              :     :                       +- Project [order_id#17586, customer_id#17587, order_status#17588, order_purchase_timestamp#5934, order_approved_at#5943, order_delivered_carrier_date#5952, order_delivered_customer_date#5961, order_estimated_delivery_date#5970, days_to_approval#5979, datediff(cast(order_delivered_carrier_date#5952 as date), cast(order_purchase_timestamp#5934 as date)) AS days_to_carrier#5989]\n                                                                                             :     :     :              :     :                          +- Project [order_id#17586, customer_id#17587, order_status#17588, order_purchase_timestamp#5934, order_approved_at#5943, order_delivered_carrier_date#5952, order_delivered_customer_date#5961, order_estimated_delivery_date#5970, datediff(cast(order_approved_at#5943 as date), cast(order_purchase_timestamp#5934 as date)) AS days_to_approval#5979]\n                                                                                             :     :     :              :     :                             +- Project [order_id#17586, customer_id#17587, order_status#17588, order_purchase_timestamp#5934, order_approved_at#5943, order_delivered_carrier_date#5952, order_delivered_customer_date#5961, cast(order_estimated_delivery_date#17593 as timestamp) AS order_estimated_delivery_date#5970]\n                                                                                             :     :     :              :     :                                +- Project [order_id#17586, customer_id#17587, order_status#17588, order_purchase_timestamp#5934, order_approved_at#5943, order_delivered_carrier_date#5952, cast(order_delivered_customer_date#17592 as timestamp) AS order_delivered_customer_date#5961, order_estimated_delivery_date#17593]\n                                                                                             :     :     :              :     :                                   +- Project [order_id#17586, customer_id#17587, order_status#17588, order_purchase_timestamp#5934, order_approved_at#5943, cast(order_delivered_carrier_date#17591 as timestamp) AS order_delivered_carrier_date#5952, order_delivered_customer_date#17592, order_estimated_delivery_date#17593]\n                                                                                             :     :     :              :     :                                      +- Project [order_id#17586, customer_id#17587, order_status#17588, order_purchase_timestamp#5934, cast(order_approved_at#17590 as timestamp) AS order_approved_at#5943, order_delivered_carrier_date#17591, order_delivered_customer_date#17592, order_estimated_delivery_date#17593]\n                                                                                             :     :     :              :     :                                         +- Project [order_id#17586, customer_id#17587, order_status#17588, cast(order_purchase_timestamp#17589 as timestamp) AS order_purchase_timestamp#5934, order_approved_at#17590, order_delivered_carrier_date#17591, order_delivered_customer_date#17592, order_estimated_delivery_date#17593]\n                                                                                             :     :     :              :     :                                            +- Relation [order_id#17586,customer_id#17587,order_status#17588,order_purchase_timestamp#17589,order_approved_at#17590,order_delivered_carrier_date#17591,order_delivered_customer_date#17592,order_estimated_delivery_date#17593] csv\n                                                                                             :     :     :              :     +- Project [product_id#130, product_category_name#131, product_name_lenght#132, product_description_lenght#133, product_photos_qty#134, product_weight_g#135, product_length_cm#136, product_height_cm#137, product_width_cm#138, product_volume#9130, segmentacao_necessidade#10816, segmentacao_sentimento#10829, segmentacao_tipo#10843, segmentacao_validade#10858, segmentacao_utilizacao#10874, segmentacoes_funcionalidade#10891, segmentacao_interatividade#10909, segmentacoes_impacto_ambiental#10928, segmentacoe_interacao_humana(product_category_name#131)#10947 AS segmentacoes_interacao_humana#10948]\n                                                                                             :     :     :              :        +- Project [product_id#130, product_category_name#131, product_name_lenght#132, product_description_lenght#133, product_photos_qty#134, product_weight_g#135, product_length_cm#136, product_height_cm#137, product_width_cm#138, product_volume#9130, segmentacao_necessidade#10816, segmentacao_sentimento#10829, segmentacao_tipo#10843, segmentacao_validade#10858, segmentacao_utilizacao#10874, segmentacoes_funcionalidade#10891, segmentacao_interatividade#10909, segmentacoe_impacto_ambiental(product_category_name#131)#10927 AS segmentacoes_impacto_ambiental#10928]\n                                                                                             :     :     :              :           +- Project [product_id#130, product_category_name#131, product_name_lenght#132, product_description_lenght#133, product_photos_qty#134, product_weight_g#135, product_length_cm#136, product_height_cm#137, product_width_cm#138, product_volume#9130, segmentacao_necessidade#10816, segmentacao_sentimento#10829, segmentacao_tipo#10843, segmentacao_validade#10858, segmentacao_utilizacao#10874, segmentacoes_funcionalidade#10891, segmentacao_interatividade(product_category_name#131)#10908 AS segmentacao_interatividade#10909]\n                                                                                             :     :     :              :              +- Project [product_id#130, product_category_name#131, product_name_lenght#132, product_description_lenght#133, product_photos_qty#134, product_weight_g#135, product_length_cm#136, product_height_cm#137, product_width_cm#138, product_volume#9130, segmentacao_necessidade#10816, segmentacao_sentimento#10829, segmentacao_tipo#10843, segmentacao_validade#10858, segmentacao_utilizacao#10874, segmentacao_funcionalidade(product_category_name#131)#10890 AS segmentacoes_funcionalidade#10891]\n                                                                                             :     :     :              :                 +- Project [product_id#130, product_category_name#131, product_name_lenght#132, product_description_lenght#133, product_photos_qty#134, product_weight_g#135, product_length_cm#136, product_height_cm#137, product_width_cm#138, product_volume#9130, segmentacao_necessidade#10816, segmentacao_sentimento#10829, segmentacao_tipo#10843, segmentacao_validade#10858, segmentacao_utilizacao(product_category_name#131)#10873 AS segmentacao_utilizacao#10874]\n                                                                                             :     :     :              :                    +- Project [product_id#130, product_category_name#131, product_name_lenght#132, product_description_lenght#133, product_photos_qty#134, product_weight_g#135, product_length_cm#136, product_height_cm#137, product_width_cm#138, product_volume#9130, segmentacao_necessidade#10816, segmentacao_sentimento#10829, segmentacao_tipo#10843, segmentacao_validade(product_category_name#131)#10857 AS segmentacao_validade#10858]\n                                                                                             :     :     :              :                       +- Project [product_id#130, product_category_name#131, product_name_lenght#132, product_description_lenght#133, product_photos_qty#134, product_weight_g#135, product_length_cm#136, product_height_cm#137, product_width_cm#138, product_volume#9130, segmentacao_necessidade#10816, segmentacao_sentimento#10829, segmentacao_tipo(product_category_name#131)#10842 AS segmentacao_tipo#10843]\n                                                                                             :     :     :              :                          +- Project [product_id#130, product_category_name#131, product_name_lenght#132, product_description_lenght#133, product_photos_qty#134, product_weight_g#135, product_length_cm#136, product_height_cm#137, product_width_cm#138, product_volume#9130, segmentacao_necessidade#10816, segmentacao_sentimento(product_category_name#131)#10828 AS segmentacao_sentimento#10829]\n                                                                                             :     :     :              :                             +- Project [product_id#130, product_category_name#131, product_name_lenght#132, product_description_lenght#133, product_photos_qty#134, product_weight_g#135, product_length_cm#136, product_height_cm#137, product_width_cm#138, product_volume#9130, segmentacoe_necessidade(product_category_name#131)#10815 AS segmentacao_necessidade#10816]\n                                                                                             :     :     :              :                                +- Project [product_id#130, product_category_name#131, product_name_lenght#132, product_description_lenght#133, product_photos_qty#134, product_weight_g#135, product_length_cm#136, product_height_cm#137, product_width_cm#138, ((product_length_cm#136 * product_height_cm#137) * product_width_cm#138) AS product_volume#9130]\n                                                                                             :     :     :              :                                   +- Relation [product_id#130,product_category_name#131,product_name_lenght#132,product_description_lenght#133,product_photos_qty#134,product_weight_g#135,product_length_cm#136,product_height_cm#137,product_width_cm#138] csv\n                                                                                             :     :     :              +- Project [product_id#17443, product_category_name#17444, product_name_lenght#17445, product_description_lenght#17446, product_photos_qty#17447, product_weight_g#17448, product_length_cm#17449, product_height_cm#17450, product_width_cm#17451, product_volume#17462, segmentacao_necessidade#17461, segmentacao_sentimento#17460, segmentacao_tipo#17459, segmentacao_validade#17458, segmentacao_utilizacao#17457, segmentacoes_funcionalidade#17456, segmentacao_interatividade#17455, segmentacoes_impacto_ambiental#17454, segmentacoes_interacao_humana#17452, segmentacao_necessidade_index#16791, segmentacao_sentimento_index#16858, segmentacao_tipo_index#16928, segmentacao_validade_index#17001, segmentacao_utilizacao_index#17077, ... 4 more fields]\n                                                                                             :     :     :                 +- Project [product_id#17443, product_category_name#17444, product_name_lenght#17445, product_description_lenght#17446, product_photos_qty#17447, product_weight_g#17448, product_length_cm#17449, product_height_cm#17450, product_width_cm#17451, product_volume#17462, segmentacao_necessidade#17461, segmentacao_sentimento#17460, segmentacao_tipo#17459, segmentacao_validade#17458, segmentacao_utilizacao#17457, segmentacoes_funcionalidade#17456, segmentacao_interatividade#17455, segmentacoes_impacto_ambiental#17454, segmentacoes_interacao_humana#17452, segmentacao_necessidade_index#16791, segmentacao_sentimento_index#16858, segmentacao_tipo_index#16928, segmentacao_validade_index#17001, segmentacao_utilizacao_index#17077, ... 3 more fields]\n                                                                                             :     :     :                    +- Project [product_id#17443, product_category_name#17444, product_name_lenght#17445, product_description_lenght#17446, product_photos_qty#17447, product_weight_g#17448, product_length_cm#17449, product_height_cm#17450, product_width_cm#17451, product_volume#17462, segmentacao_necessidade#17461, segmentacao_sentimento#17460, segmentacao_tipo#17459, segmentacao_validade#17458, segmentacao_utilizacao#17457, segmentacoes_funcionalidade#17456, segmentacao_interatividade#17455, segmentacoes_impacto_ambiental#17454, segmentacoes_interacao_humana#17452, segmentacao_necessidade_index#16791, segmentacao_sentimento_index#16858, segmentacao_tipo_index#16928, segmentacao_validade_index#17001, segmentacao_utilizacao_index#17077, ... 2 more fields]\n                                                                                             :     :     :                       +- Project [product_id#17443, product_category_name#17444, product_name_lenght#17445, product_description_lenght#17446, product_photos_qty#17447, product_weight_g#17448, product_length_cm#17449, product_height_cm#17450, product_width_cm#17451, product_volume#17462, segmentacao_necessidade#17461, segmentacao_sentimento#17460, segmentacao_tipo#17459, segmentacao_validade#17458, segmentacao_utilizacao#17457, segmentacoes_funcionalidade#17456, segmentacao_interatividade#17455, segmentacoes_impacto_ambiental#17454, segmentacoes_interacao_humana#17452, segmentacao_necessidade_index#16791, segmentacao_sentimento_index#16858, segmentacao_tipo_index#16928, segmentacao_validade_index#17001, segmentacao_utilizacao_index#17077, UDF(cast(segmentacoes_funcionalidade#17456 as string)) AS segmentacoes_funcionalidade_index#17156]\n                                                                                             :     :     :                          +- Project [product_id#17443, product_category_name#17444, product_name_lenght#17445, product_description_lenght#17446, product_photos_qty#17447, product_weight_g#17448, product_length_cm#17449, product_height_cm#17450, product_width_cm#17451, product_volume#17462, segmentacao_necessidade#17461, segmentacao_sentimento#17460, segmentacao_tipo#17459, segmentacao_validade#17458, segmentacao_utilizacao#17457, segmentacoes_funcionalidade#17456, segmentacao_interatividade#17455, segmentacoes_impacto_ambiental#17454, segmentacoes_interacao_humana#17452, segmentacao_necessidade_index#16791, segmentacao_sentimento_index#16858, segmentacao_tipo_index#16928, segmentacao_validade_index#17001, UDF(cast(segmentacao_utilizacao#17457 as string)) AS segmentacao_utilizacao_index#17077]\n                                                                                             :     :     :                             +- Project [product_id#17443, product_category_name#17444, product_name_lenght#17445, product_description_lenght#17446, product_photos_qty#17447, product_weight_g#17448, product_length_cm#17449, product_height_cm#17450, product_width_cm#17451, product_volume#17462, segmentacao_necessidade#17461, segmentacao_sentimento#17460, segmentacao_tipo#17459, segmentacao_validade#17458, segmentacao_utilizacao#17457, segmentacoes_funcionalidade#17456, segmentacao_interatividade#17455, segmentacoes_impacto_ambiental#17454, segmentacoes_interacao_humana#17452, segmentacao_necessidade_index#16791, segmentacao_sentimento_index#16858, segmentacao_tipo_index#16928, UDF(cast(segmentacao_validade#17458 as string)) AS segmentacao_validade_index#17001]\n                                                                                             :     :     :                                +- Project [product_id#17443, product_category_name#17444, product_name_lenght#17445, product_description_lenght#17446, product_photos_qty#17447, product_weight_g#17448, product_length_cm#17449, product_height_cm#17450, product_width_cm#17451, product_volume#17462, segmentacao_necessidade#17461, segmentacao_sentimento#17460, segmentacao_tipo#17459, segmentacao_validade#17458, segmentacao_utilizacao#17457, segmentacoes_funcionalidade#17456, segmentacao_interatividade#17455, segmentacoes_impacto_ambiental#17454, segmentacoes_interacao_humana#17452, segmentacao_necessidade_index#16791, segmentacao_sentimento_index#16858, UDF(cast(segmentacao_tipo#17459 as string)) AS segmentacao_tipo_index#16928]\n                                                                                             :     :     :                                   +- Project [product_id#17443, product_category_name#17444, product_name_lenght#17445, product_description_lenght#17446, product_photos_qty#17447, product_weight_g#17448, product_length_cm#17449, product_height_cm#17450, product_width_cm#17451, product_volume#17462, segmentacao_necessidade#17461, segmentacao_sentimento#17460, segmentacao_tipo#17459, segmentacao_validade#17458, segmentacao_utilizacao#17457, segmentacoes_funcionalidade#17456, segmentacao_interatividade#17455, segmentacoes_impacto_ambiental#17454, segmentacoes_interacao_humana#17452, segmentacao_necessidade_index#16791, UDF(cast(segmentacao_sentimento#17460 as string)) AS segmentacao_sentimento_index#16858]\n                                                                                             :     :     :                                      +- Project [product_id#17443, product_category_name#17444, product_name_lenght#17445, product_description_lenght#17446, product_photos_qty#17447, product_weight_g#17448, product_length_cm#17449, product_height_cm#17450, product_width_cm#17451, product_volume#17462, segmentacao_necessidade#17461, segmentacao_sentimento#17460, segmentacao_tipo#17459, segmentacao_validade#17458, segmentacao_utilizacao#17457, segmentacoes_funcionalidade#17456, segmentacao_interatividade#17455, segmentacoes_impacto_ambiental#17454, segmentacoes_interacao_humana#17452, UDF(cast(segmentacao_necessidade#17461 as string)) AS segmentacao_necessidade_index#16791]\n                                                                                             :     :     :                                         +- Project [product_id#17443, product_category_name#17444, product_name_lenght#17445, product_description_lenght#17446, product_photos_qty#17447, product_weight_g#17448, product_length_cm#17449, product_height_cm#17450, product_width_cm#17451, product_volume#17462, segmentacao_necessidade#17461, segmentacao_sentimento#17460, segmentacao_tipo#17459, segmentacao_validade#17458, segmentacao_utilizacao#17457, segmentacoes_funcionalidade#17456, segmentacao_interatividade#17455, segmentacoes_impacto_ambiental#17454, segmentacoe_interacao_humana(product_category_name#17444)#10947 AS segmentacoes_interacao_humana#17452]\n                                                                                             :     :     :                                            +- Project [product_id#17443, product_category_name#17444, product_name_lenght#17445, product_description_lenght#17446, product_photos_qty#17447, product_weight_g#17448, product_length_cm#17449, product_height_cm#17450, product_width_cm#17451, product_volume#17462, segmentacao_necessidade#17461, segmentacao_sentimento#17460, segmentacao_tipo#17459, segmentacao_validade#17458, segmentacao_utilizacao#17457, segmentacoes_funcionalidade#17456, segmentacao_interatividade#17455, segmentacoe_impacto_ambiental(product_category_name#17444)#10927 AS segmentacoes_impacto_ambiental#17454]\n                                                                                             :     :     :                                               +- Project [product_id#17443, product_category_name#17444, product_name_lenght#17445, product_description_lenght#17446, product_photos_qty#17447, product_weight_g#17448, product_length_cm#17449, product_height_cm#17450, product_width_cm#17451, product_volume#17462, segmentacao_necessidade#17461, segmentacao_sentimento#17460, segmentacao_tipo#17459, segmentacao_validade#17458, segmentacao_utilizacao#17457, segmentacoes_funcionalidade#17456, segmentacao_interatividade(product_category_name#17444)#10908 AS segmentacao_interatividade#17455]\n                                                                                             :     :     :                                                  +- Project [product_id#17443, product_category_name#17444, product_name_lenght#17445, product_description_lenght#17446, product_photos_qty#17447, product_weight_g#17448, product_length_cm#17449, product_height_cm#17450, product_width_cm#17451, product_volume#17462, segmentacao_necessidade#17461, segmentacao_sentimento#17460, segmentacao_tipo#17459, segmentacao_validade#17458, segmentacao_utilizacao#17457, segmentacao_funcionalidade(product_category_name#17444)#10890 AS segmentacoes_funcionalidade#17456]\n                                                                                             :     :     :                                                     +- Project [product_id#17443, product_category_name#17444, product_name_lenght#17445, product_description_lenght#17446, product_photos_qty#17447, product_weight_g#17448, product_length_cm#17449, product_height_cm#17450, product_width_cm#17451, product_volume#17462, segmentacao_necessidade#17461, segmentacao_sentimento#17460, segmentacao_tipo#17459, segmentacao_validade#17458, segmentacao_utilizacao(product_category_name#17444)#10873 AS segmentacao_utilizacao#17457]\n                                                                                             :     :     :                                                        +- Project [product_id#17443, product_category_name#17444, product_name_lenght#17445, product_description_lenght#17446, product_photos_qty#17447, product_weight_g#17448, product_length_cm#17449, product_height_cm#17450, product_width_cm#17451, product_volume#17462, segmentacao_necessidade#17461, segmentacao_sentimento#17460, segmentacao_tipo#17459, segmentacao_validade(product_category_name#17444)#10857 AS segmentacao_validade#17458]\n                                                                                             :     :     :                                                           +- Project [product_id#17443, product_category_name#17444, product_name_lenght#17445, product_description_lenght#17446, product_photos_qty#17447, product_weight_g#17448, product_length_cm#17449, product_height_cm#17450, product_width_cm#17451, product_volume#17462, segmentacao_necessidade#17461, segmentacao_sentimento#17460, segmentacao_tipo(product_category_name#17444)#10842 AS segmentacao_tipo#17459]\n                                                                                             :     :     :                                                              +- Project [product_id#17443, product_category_name#17444, product_name_lenght#17445, product_description_lenght#17446, product_photos_qty#17447, product_weight_g#17448, product_length_cm#17449, product_height_cm#17450, product_width_cm#17451, product_volume#17462, segmentacao_necessidade#17461, segmentacao_sentimento(product_category_name#17444)#10828 AS segmentacao_sentimento#17460]\n                                                                                             :     :     :                                                                 +- Project [product_id#17443, product_category_name#17444, product_name_lenght#17445, product_description_lenght#17446, product_photos_qty#17447, product_weight_g#17448, product_length_cm#17449, product_height_cm#17450, product_width_cm#17451, product_volume#17462, segmentacoe_necessidade(product_category_name#17444)#10815 AS segmentacao_necessidade#17461]\n                                                                                             :     :     :                                                                    +- Project [product_id#17443, product_category_name#17444, product_name_lenght#17445, product_description_lenght#17446, product_photos_qty#17447, product_weight_g#17448, product_length_cm#17449, product_height_cm#17450, product_width_cm#17451, ((product_length_cm#17449 * product_height_cm#17450) * product_width_cm#17451) AS product_volume#17462]\n                                                                                             :     :     :                                                                       +- Relation [product_id#17443,product_category_name#17444,product_name_lenght#17445,product_description_lenght#17446,product_photos_qty#17447,product_weight_g#17448,product_length_cm#17449,product_height_cm#17450,product_width_cm#17451] csv\n                                                                                             :     :     +- Project [seller_id#105, seller_city_index#15139, seller_state_index#15200]\n                                                                                             :     :        +- Project [seller_id#105, seller_zip_code_prefix#106, seller_city#107, seller_state#108, seller_city_index#15139, UDF(cast(seller_state#108 as string)) AS seller_state_index#15200]\n                                                                                             :     :           +- Project [seller_id#105, seller_zip_code_prefix#106, seller_city#107, seller_state#108, UDF(cast(seller_city#107 as string)) AS seller_city_index#15139]\n                                                                                             :     :              +- Relation [seller_id#105,seller_zip_code_prefix#106,seller_city#107,seller_state#108] csv\n                                                                                             :     +- Project [customer_id#165, customer_state_index#15270]\n                                                                                             :        +- Project [customer_id#165, customer_unique_id#166, customer_zip_code_prefix#167, customer_city#168, customer_state#169, UDF(cast(customer_state#169 as string)) AS customer_state_index#15270]\n                                                                                             :           +- Relation [customer_id#165,customer_unique_id#166,customer_zip_code_prefix#167,customer_city#168,customer_state#169] csv\n                                                                                             +- Project [order_id#17688, payment_sequential#17689, payment_type_index#15397, payment_installments#17691, payment_value#17692]\n                                                                                                +- Project [order_id#17688, payment_sequential#17689, payment_type#17690, payment_installments#17691, payment_value#17692, UDF(cast(payment_type#17690 as string)) AS payment_type_index#15397]\n                                                                                                   +- Project [order_id#17688, payment_sequential#17689, payment_type#17690, payment_installments#17691, payment_value#17692]\n                                                                                                      +- Join Inner, (order_id#17688 = order_id#17693)\n                                                                                                         :- Relation [order_id#17688,payment_sequential#17689,payment_type#17690,payment_installments#17691,payment_value#17692] csv\n                                                                                                         +- Project [order_id#17693]\n                                                                                                            +- Project [customer_id#17694, order_id#17693, order_status#17695, order_purchase_timestamp#5934, order_approved_at#6025, order_delivered_carrier_date#5952, order_delivered_customer_date#5961, order_estimated_delivery_date#5970, days_to_approval#5979, days_to_carrier#5989, days_to_delivery#6000, days_estimated_vs_actual_delivery#6012, approval_group#9868, carrier_group#9882, delivery_group#9897, estimated_vs_actual_group#9913]\n                                                                                                               +- Join Inner, (customer_id#17694 = customer_id#17702)\n                                                                                                                  :- Project [order_id#17693, customer_id#17694, order_status#17695, order_purchase_timestamp#5934, order_approved_at#6025, order_delivered_carrier_date#5952, order_delivered_customer_date#5961, order_estimated_delivery_date#5970, days_to_approval#5979, days_to_carrier#5989, days_to_delivery#6000, days_estimated_vs_actual_delivery#6012, approval_group#9868, carrier_group#9882, delivery_group#9897, CASE WHEN (days_estimated_vs_actual_delivery#6012 <= 3) THEN até 3 dias WHEN (days_estimated_vs_actual_delivery#6012 <= 5) THEN 3 a 5 dias WHEN (days_estimated_vs_actual_delivery#6012 <= 7) THEN 5 a 7 dias ELSE mais de 7 dias END AS estimated_vs_actual_group#9913]\n                                                                                                                  :  +- Project [order_id#17693, customer_id#17694, order_status#17695, order_purchase_timestamp#5934, order_approved_at#6025, order_delivered_carrier_date#5952, order_delivered_customer_date#5961, order_estimated_delivery_date#5970, days_to_approval#5979, days_to_carrier#5989, days_to_delivery#6000, days_estimated_vs_actual_delivery#6012, approval_group#9868, carrier_group#9882, CASE WHEN (days_to_delivery#6000 <= 3) THEN até 3 dias WHEN (days_to_delivery#6000 <= 5) THEN 3 a 5 dias WHEN (days_to_delivery#6000 <= 7) THEN 5 a 7 dias ELSE mais de 7 dias END AS delivery_group#9897]\n                                                                                                                  :     +- Project [order_id#17693, customer_id#17694, order_status#17695, order_purchase_timestamp#5934, order_approved_at#6025, order_delivered_carrier_date#5952, order_delivered_customer_date#5961, order_estimated_delivery_date#5970, days_to_approval#5979, days_to_carrier#5989, days_to_delivery#6000, days_estimated_vs_actual_delivery#6012, approval_group#9868, CASE WHEN (days_to_carrier#5989 <= 3) THEN até 3 dias WHEN (days_to_carrier#5989 <= 5) THEN 3 a 5 dias WHEN (days_to_carrier#5989 <= 7) THEN 5 a 7 dias ELSE mais de 7 dias END AS carrier_group#9882]\n                                                                                                                  :        +- Project [order_id#17693, customer_id#17694, order_status#17695, order_purchase_timestamp#5934, order_approved_at#6025, order_delivered_carrier_date#5952, order_delivered_customer_date#5961, order_estimated_delivery_date#5970, days_to_approval#5979, days_to_carrier#5989, days_to_delivery#6000, days_estimated_vs_actual_delivery#6012, CASE WHEN (days_to_approval#5979 <= 3) THEN até 3 dias WHEN (days_to_approval#5979 <= 5) THEN 3 a 5 dias WHEN (days_to_approval#5979 <= 7) THEN 5 a 7 dias ELSE mais de 7 dias END AS approval_group#9868]\n                                                                                                                  :           +- Project [order_id#17693, customer_id#17694, order_status#17695, order_purchase_timestamp#5934, cast(order_approved_at#5943 as timestamp) AS order_approved_at#6025, order_delivered_carrier_date#5952, order_delivered_customer_date#5961, order_estimated_delivery_date#5970, days_to_approval#5979, days_to_carrier#5989, days_to_delivery#6000, days_estimated_vs_actual_delivery#6012]\n                                                                                                                  :              +- Project [order_id#17693, customer_id#17694, order_status#17695, order_purchase_timestamp#5934, order_approved_at#5943, order_delivered_carrier_date#5952, order_delivered_customer_date#5961, order_estimated_delivery_date#5970, days_to_approval#5979, days_to_carrier#5989, days_to_delivery#6000, datediff(cast(order_delivered_customer_date#5961 as date), cast(order_estimated_delivery_date#5970 as date)) AS days_estimated_vs_actual_delivery#6012]\n                                                                                                                  :                 +- Project [order_id#17693, customer_id#17694, order_status#17695, order_purchase_timestamp#5934, order_approved_at#5943, order_delivered_carrier_date#5952, order_delivered_customer_date#5961, order_estimated_delivery_date#5970, days_to_approval#5979, days_to_carrier#5989, datediff(cast(order_delivered_customer_date#5961 as date), cast(order_purchase_timestamp#5934 as date)) AS days_to_delivery#6000]\n                                                                                                                  :                    +- Project [order_id#17693, customer_id#17694, order_status#17695, order_purchase_timestamp#5934, order_approved_at#5943, order_delivered_carrier_date#5952, order_delivered_customer_date#5961, order_estimated_delivery_date#5970, days_to_approval#5979, datediff(cast(order_delivered_carrier_date#5952 as date), cast(order_purchase_timestamp#5934 as date)) AS days_to_carrier#5989]\n                                                                                                                  :                       +- Project [order_id#17693, customer_id#17694, order_status#17695, order_purchase_timestamp#5934, order_approved_at#5943, order_delivered_carrier_date#5952, order_delivered_customer_date#5961, order_estimated_delivery_date#5970, datediff(cast(order_approved_at#5943 as date), cast(order_purchase_timestamp#5934 as date)) AS days_to_approval#5979]\n                                                                                                                  :                          +- Project [order_id#17693, customer_id#17694, order_status#17695, order_purchase_timestamp#5934, order_approved_at#5943, order_delivered_carrier_date#5952, order_delivered_customer_date#5961, cast(order_estimated_delivery_date#17700 as timestamp) AS order_estimated_delivery_date#5970]\n                                                                                                                  :                             +- Project [order_id#17693, customer_id#17694, order_status#17695, order_purchase_timestamp#5934, order_approved_at#5943, order_delivered_carrier_date#5952, cast(order_delivered_customer_date#17699 as timestamp) AS order_delivered_customer_date#5961, order_estimated_delivery_date#17700]\n                                                                                                                  :                                +- Project [order_id#17693, customer_id#17694, order_status#17695, order_purchase_timestamp#5934, order_approved_at#5943, cast(order_delivered_carrier_date#17698 as timestamp) AS order_delivered_carrier_date#5952, order_delivered_customer_date#17699, order_estimated_delivery_date#17700]\n                                                                                                                  :                                   +- Project [order_id#17693, customer_id#17694, order_status#17695, order_purchase_timestamp#5934, cast(order_approved_at#17697 as timestamp) AS order_approved_at#5943, order_delivered_carrier_date#17698, order_delivered_customer_date#17699, order_estimated_delivery_date#17700]\n                                                                                                                  :                                      +- Project [order_id#17693, customer_id#17694, order_status#17695, cast(order_purchase_timestamp#17696 as timestamp) AS order_purchase_timestamp#5934, order_approved_at#17697, order_delivered_carrier_date#17698, order_delivered_customer_date#17699, order_estimated_delivery_date#17700]\n                                                                                                                  :                                         +- Relation [order_id#17693,customer_id#17694,order_status#17695,order_purchase_timestamp#17696,order_approved_at#17697,order_delivered_carrier_date#17698,order_delivered_customer_date#17699,order_estimated_delivery_date#17700] csv\n                                                                                                                  +- Project [customer_id#17702]\n                                                                                                                     +- Filter ((total_value#11081 >= -339.855) AND (total_value#11081 <= 670.6650000000001))\n                                                                                                                        +- Aggregate [customer_id#17702], [customer_id#17702, sum(payment_value#11149) AS total_value#11081]\n                                                                                                                           +- Project [order_id#17701, customer_id#17702, order_status#17703, order_purchase_timestamp#5934, order_approved_at#6025, order_delivered_carrier_date#5952, order_delivered_customer_date#5961, order_estimated_delivery_date#5970, days_to_approval#5979, days_to_carrier#5989, days_to_delivery#6000, days_estimated_vs_actual_delivery#6012, approval_group#9868, carrier_group#9882, delivery_group#9897, estimated_vs_actual_group#9913, payment_sequential#11146, payment_type#11147, payment_installments#11148, payment_value#11149]\n                                                                                                                              +- Join Inner, (order_id#17701 = order_id#11145)\n                                                                                                                                 :- Project [order_id#17701, customer_id#17702, order_status#17703, order_purchase_timestamp#5934, order_approved_at#6025, order_delivered_carrier_date#5952, order_delivered_customer_date#5961, order_estimated_delivery_date#5970, days_to_approval#5979, days_to_carrier#5989, days_to_delivery#6000, days_estimated_vs_actual_delivery#6012, approval_group#9868, carrier_group#9882, delivery_group#9897, CASE WHEN (days_estimated_vs_actual_delivery#6012 <= 3) THEN até 3 dias WHEN (days_estimated_vs_actual_delivery#6012 <= 5) THEN 3 a 5 dias WHEN (days_estimated_vs_actual_delivery#6012 <= 7) THEN 5 a 7 dias ELSE mais de 7 dias END AS estimated_vs_actual_group#9913]\n                                                                                                                                 :  +- Project [order_id#17701, customer_id#17702, order_status#17703, order_purchase_timestamp#5934, order_approved_at#6025, order_delivered_carrier_date#5952, order_delivered_customer_date#5961, order_estimated_delivery_date#5970, days_to_approval#5979, days_to_carrier#5989, days_to_delivery#6000, days_estimated_vs_actual_delivery#6012, approval_group#9868, carrier_group#9882, CASE WHEN (days_to_delivery#6000 <= 3) THEN até 3 dias WHEN (days_to_delivery#6000 <= 5) THEN 3 a 5 dias WHEN (days_to_delivery#6000 <= 7) THEN 5 a 7 dias ELSE mais de 7 dias END AS delivery_group#9897]\n                                                                                                                                 :     +- Project [order_id#17701, customer_id#17702, order_status#17703, order_purchase_timestamp#5934, order_approved_at#6025, order_delivered_carrier_date#5952, order_delivered_customer_date#5961, order_estimated_delivery_date#5970, days_to_approval#5979, days_to_carrier#5989, days_to_delivery#6000, days_estimated_vs_actual_delivery#6012, approval_group#9868, CASE WHEN (days_to_carrier#5989 <= 3) THEN até 3 dias WHEN (days_to_carrier#5989 <= 5) THEN 3 a 5 dias WHEN (days_to_carrier#5989 <= 7) THEN 5 a 7 dias ELSE mais de 7 dias END AS carrier_group#9882]\n                                                                                                                                 :        +- Project [order_id#17701, customer_id#17702, order_status#17703, order_purchase_timestamp#5934, order_approved_at#6025, order_delivered_carrier_date#5952, order_delivered_customer_date#5961, order_estimated_delivery_date#5970, days_to_approval#5979, days_to_carrier#5989, days_to_delivery#6000, days_estimated_vs_actual_delivery#6012, CASE WHEN (days_to_approval#5979 <= 3) THEN até 3 dias WHEN (days_to_approval#5979 <= 5) THEN 3 a 5 dias WHEN (days_to_approval#5979 <= 7) THEN 5 a 7 dias ELSE mais de 7 dias END AS approval_group#9868]\n                                                                                                                                 :           +- Project [order_id#17701, customer_id#17702, order_status#17703, order_purchase_timestamp#5934, cast(order_approved_at#5943 as timestamp) AS order_approved_at#6025, order_delivered_carrier_date#5952, order_delivered_customer_date#5961, order_estimated_delivery_date#5970, days_to_approval#5979, days_to_carrier#5989, days_to_delivery#6000, days_estimated_vs_actual_delivery#6012]\n                                                                                                                                 :              +- Project [order_id#17701, customer_id#17702, order_status#17703, order_purchase_timestamp#5934, order_approved_at#5943, order_delivered_carrier_date#5952, order_delivered_customer_date#5961, order_estimated_delivery_date#5970, days_to_approval#5979, days_to_carrier#5989, days_to_delivery#6000, datediff(cast(order_delivered_customer_date#5961 as date), cast(order_estimated_delivery_date#5970 as date)) AS days_estimated_vs_actual_delivery#6012]\n                                                                                                                                 :                 +- Project [order_id#17701, customer_id#17702, order_status#17703, order_purchase_timestamp#5934, order_approved_at#5943, order_delivered_carrier_date#5952, order_delivered_customer_date#5961, order_estimated_delivery_date#5970, days_to_approval#5979, days_to_carrier#5989, datediff(cast(order_delivered_customer_date#5961 as date), cast(order_purchase_timestamp#5934 as date)) AS days_to_delivery#6000]\n                                                                                                                                 :                    +- Project [order_id#17701, customer_id#17702, order_status#17703, order_purchase_timestamp#5934, order_approved_at#5943, order_delivered_carrier_date#5952, order_delivered_customer_date#5961, order_estimated_delivery_date#5970, days_to_approval#5979, datediff(cast(order_delivered_carrier_date#5952 as date), cast(order_purchase_timestamp#5934 as date)) AS days_to_carrier#5989]\n                                                                                                                                 :                       +- Project [order_id#17701, customer_id#17702, order_status#17703, order_purchase_timestamp#5934, order_approved_at#5943, order_delivered_carrier_date#5952, order_delivered_customer_date#5961, order_estimated_delivery_date#5970, datediff(cast(order_approved_at#5943 as date), cast(order_purchase_timestamp#5934 as date)) AS days_to_approval#5979]\n                                                                                                                                 :                          +- Project [order_id#17701, customer_id#17702, order_status#17703, order_purchase_timestamp#5934, order_approved_at#5943, order_delivered_carrier_date#5952, order_delivered_customer_date#5961, cast(order_estimated_delivery_date#17708 as timestamp) AS order_estimated_delivery_date#5970]\n                                                                                                                                 :                             +- Project [order_id#17701, customer_id#17702, order_status#17703, order_purchase_timestamp#5934, order_approved_at#5943, order_delivered_carrier_date#5952, cast(order_delivered_customer_date#17707 as timestamp) AS order_delivered_customer_date#5961, order_estimated_delivery_date#17708]\n                                                                                                                                 :                                +- Project [order_id#17701, customer_id#17702, order_status#17703, order_purchase_timestamp#5934, order_approved_at#5943, cast(order_delivered_carrier_date#17706 as timestamp) AS order_delivered_carrier_date#5952, order_delivered_customer_date#17707, order_estimated_delivery_date#17708]\n                                                                                                                                 :                                   +- Project [order_id#17701, customer_id#17702, order_status#17703, order_purchase_timestamp#5934, cast(order_approved_at#17705 as timestamp) AS order_approved_at#5943, order_delivered_carrier_date#17706, order_delivered_customer_date#17707, order_esti ... (truncated)",
              "errorSummary": "<span class='ansi-red-fg'>AnalysisException</span>: [UNRESOLVED_COLUMN.WITH_SUGGESTION] A column or function parameter with name `order_purchase_month` cannot be resolved. Did you mean one of the following? [`features`, `target`, `scaled_features`].;\n'Project [target#17544, features#18377, scaled_features#18682, CASE WHEN 'order_purchase_month IN (5,6) THEN ('price * 1.0) ELSE 'price END AS price#34342]\n+- Project [target#17544, features#18377, scaled_features#18682]\n   +- Project [target#17544, order_approved_at#6025, order_delivered_carrier_date#5952, order_delivered_customer_date#5961, order_estimated_delivery_date#5970, features#18377, scaled_features#18682]\n      +- Project [target#17544, order_status_index#17806, order_purchase_month#17836, order_approved_at#6025, order_delivered_carrier_date#5952, order_delivered_customer_date#5961, order_estimated_delivery_date#5970, days_to_approval#17866, days_to_carrier#17896, days_to_delivery#17926, days_estimated_vs_actual_delivery#17956, price#17986, freight_value#18016, segmentacao_necessidade_index#18046, segmentacao_sentimento_index#16858, segmentacao_tipo_index#16928, segmentacao_validade_index#17001, segmentacao_utilizacao_index#17077, segmentacoes_funcionalidade_index#17156, segmentacao_interatividade_index#17238, segmentacoes_impacto_ambiental_index#17323, segmentacoes_interacao_humana_index#17411, seller_city_index#18286, seller_state_index#18316, ... 7 more fields]\n         +- Sample 0.8, 1.0, false, 42\n            +- Sort [target#17544 ASC NULLS FIRST, order_status_index#17806 ASC NULLS FIRST, order_purchase_month#17836 ASC NULLS FIRST, order_approved_at#6025 ASC NULLS FIRST, order_delivered_carrier_date#5952 ASC NULLS FIRST, order_delivered_customer_date#5961 ASC NULLS FIRST, order_estimated_delivery_date#5970 ASC NULLS FIRST, days_to_approval#17866 ASC NULLS FIRST, days_to_carrier#17896 ASC NULLS FIRST, days_to_delivery#17926 ASC NULLS FIRST, days_estimated_vs_actual_delivery#17956 ASC NULLS FIRST, price#17986 ASC NULLS FIRST, freight_value#18016 ASC NULLS FIRST, segmentacao_necessidade_index#18046 ASC NULLS FIRST, segmentacao_sentimento_index#16858 ASC NULLS FIRST, segmentacao_tipo_index#16928 ASC NULLS FIRST, segmentacao_validade_index#17001 ASC NULLS FIRST, segmentacao_utilizacao_index#17077 ASC NULLS FIRST, segmentacoes_funcionalidade_index#17156 ASC NULLS FIRST, segmentacao_interatividade_index#17238 ASC NULLS FIRST, segmentacoes_impacto_ambiental_index#17323 ASC NULLS FIRST, segmentacoes_interacao_humana_index#17411 ASC NULLS FIRST, seller_city_index#18286 ASC NULLS FIRST, seller_state_index#18316 ASC NULLS FIRST, ... 7 more fields], false\n               +- Project [target#17544, order_status_index#17806, order_purchase_month#17836, order_approved_at#6025, order_delivered_carrier_date#5952, order_delivered_customer_date#5961, order_estimated_delivery_date#5970, days_to_approval#17866, days_to_carrier#17896, days_to_delivery#17926, days_estimated_vs_actual_delivery#17956, price#17986, freight_value#18016, segmentacao_necessidade_index#18046, segmentacao_sentimento_index#16858, segmentacao_tipo_index#16928, segmentacao_validade_index#17001, segmentacao_utilizacao_index#17077, segmentacoes_funcionalidade_index#17156, segmentacao_interatividade_index#17238, segmentacoes_impacto_ambiental_index#17323, segmentacoes_interacao_humana_index#17411, seller_city_index#18286, seller_state_index#18316, ... 7 more fields]\n                  +- Project [target#17544, order_status_index#17806, order_purchase_month#17836, order_approved_at#6025, order_delivered_carrier_date#5952, order_delivered_customer_date#5961, order_estimated_delivery_date#5970, days_to_approval#17866, days_to_carrier#17896, days_to_delivery#17926, days_estimated_vs_actual_delivery#17956, price#17986, freight_value#18016, segmentacao_necessidade_index#18046, segmentacao_sentimento_index#16858, segmentacao_tipo_index#16928, segmentacao_validade_index#17001, segmentacao_utilizacao_index#17077, segmentacoes_funcionalidade_index#17156, segmentacao_interatividade_index#17238, segmentacoes_impacto_ambiental_index#17323, segmentacoes_interacao_humana_index#17411, seller_city_index#18286, seller_state_index#18316, ... 6 more fields]\n                     +- Project [target#17544, order_status_index#17806, order_purchase_month#17836, order_approved_at#6025, order_delivered_carrier_date#5952, order_delivered_customer_date#5961, order_estimated_delivery_date#5970, days_to_approval#17866, days_to_carrier#17896, days_to_delivery#17926, days_estimated_vs_actual_delivery#17956, price#17986, freight_value#18016, segmentacao_necessidade_index#18046, segmentacao_sentimento_index#16858, segmentacao_tipo_index#16928, segmentacao_validade_index#17001, segmentacao_utilizacao_index#17077, segmentacoes_funcionalidade_index#17156, segmentacao_interatividade_index#17238, segmentacoes_impacto_ambiental_index#17323, segmentacoes_interacao_humana_index#17411, seller_city_index#18286, seller_state_index#18316, ... 5 more fields]\n                        +- Project [target#17544, order_status_index#17806, order_purchase_month#17836, order_approved_at#6025, order_delivered_carrier_date#5952, order_delivered_customer_date#5961, order_estimated_delivery_date#5970, days_to_approval#17866, days_to_carrier#17896, days_to_delivery#17926, days_estimated_vs_actual_delivery#17956, price#17986, freight_value#18016, segmentacao_necessidade_index#18046, segmentacao_sentimento_index#16858, segmentacao_tipo_index#16928, segmentacao_validade_index#17001, segmentacao_utilizacao_index#17077, segmentacoes_funcionalidade_index#17156, segmentacao_interatividade_index#17238, segmentacoes_impacto_ambiental_index#17323, segmentacoes_interacao_humana_index#17411, seller_city_index#18286, cast(seller_state_index#18106 as double) AS seller_state_index#18316, ... 5 more fields]\n                           +- Project [target#17544, order_status_index#17806, order_purchase_month#17836, order_approved_at#6025, order_delivered_carrier_date#5952, order_delivered_customer_date#5961, order_estimated_delivery_date#5970, days_to_approval#17866, days_to_carrier#17896, days_to_delivery#17926, days_estimated_vs_actual_delivery#17956, price#17986, freight_value#18016, segmentacao_necessidade_index#18046, segmentacao_sentimento_index#16858, segmentacao_tipo_index#16928, segmentacao_validade_index#17001, segmentacao_utilizacao_index#17077, segmentacoes_funcionalidade_index#17156, segmentacao_interatividade_index#17238, segmentacoes_impacto_ambiental_index#17323, segmentacoes_interacao_humana_index#17411, cast(seller_city_index#18076 as double) AS seller_city_index#18286, seller_state_index#18106, ... 5 more fields]\n                              +- Project [target#17544, order_status_index#17806, order_purchase_month#17836, order_approved_at#6025, order_delivered_carrier_date#5952, order_delivered_customer_date#5961, order_estimated_delivery_date#5970, days_to_approval#17866, days_to_carrier#17896, days_to_delivery#17926, days_estimated_vs_actual_delivery#17956, price#17986, freight_value#18016, segmentacao_necessidade_index#18046, segmentacao_sentimento_index#16858, segmentacao_tipo_index#16928, segmentacao_validade_index#17001, segmentacao_utilizacao_index#17077, segmentacoes_funcionalidade_index#17156, segmentacao_interatividade_index#17238, segmentacoes_impacto_ambiental_index#17323, segmentacoes_interacao_humana_index#17411, seller_city_index#18076, seller_state_index#18106, ... 5 more fields]\n                                 +- Project [target#17544, order_status_index#17806, order_purchase_month#17836, order_approved_at#6025, order_delivered_carrier_date#5952, order_delivered_customer_date#5961, order_estimated_delivery_date#5970, days_to_approval#17866, days_to_carrier#17896, days_to_delivery#17926, days_estimated_vs_actual_delivery#17956, price#17986, freight_value#18016, segmentacao_necessidade_index#18046, segmentacao_sentimento_index#16858, segmentacao_tipo_index#16928, segmentacao_validade_index#17001, segmentacao_utilizacao_index#17077, segmentacoes_funcionalidade_index#17156, segmentacao_interatividade_index#17238, segmentacoes_impacto_ambiental_index#17323, segmentacoes_interacao_humana_index#17411, seller_city_index#18076, seller_state_index#18106, ... 5 more fields]\n                                    +- Project [target#17544, order_status_index#17806, order_purchase_month#17836, order_approved_at#6025, order_delivered_carrier_date#5952, order_delivered_customer_date#5961, order_estimated_delivery_date#5970, days_to_approval#17866, days_to_carrier#17896, days_to_delivery#17926, days_estimated_vs_actual_delivery#17956, price#17986, freight_value#18016, segmentacao_necessidade_index#18046, segmentacao_sentimento_index#16858, segmentacao_tipo_index#16928, segmentacao_validade_index#17001, segmentacao_utilizacao_index#17077, segmentacoes_funcionalidade_index#17156, segmentacao_interatividade_index#17238, segmentacoes_impacto_ambiental_index#17323, segmentacoes_interacao_humana_index#17411, seller_city_index#18076, seller_state_index#18106, ... 5 more fields]\n                                       +- Project [target#17544, order_status_index#17806, order_purchase_month#17836, order_approved_at#6025, order_delivered_carrier_date#5952, order_delivered_customer_date#5961, order_estimated_delivery_date#5970, days_to_approval#17866, days_to_carrier#17896, days_to_delivery#17926, days_estimated_vs_actual_delivery#17956, price#17986, freight_value#18016, segmentacao_necessidade_index#18046, segmentacao_sentimento_index#16858, segmentacao_tipo_index#16928, segmentacao_validade_index#17001, segmentacao_utilizacao_index#17077, segmentacoes_funcionalidade_index#17156, segmentacao_interatividade_index#17238, segmentacoes_impacto_ambiental_index#17323, segmentacoes_interacao_humana_index#17411, seller_city_index#18076, seller_state_index#18106, ... 5 more fields]\n                                          +- Project [target#17544, order_status_index#17806, order_purchase_month#17836, order_approved_at#6025, order_delivered_carrier_date#5952, order_delivered_customer_date#5961, order_estimated_delivery_date#5970, days_to_approval#17866, days_to_carrier#17896, days_to_delivery#17926, days_estimated_vs_actual_delivery#17956, price#17986, freight_value#18016, segmentacao_necessidade_index#18046, segmentacao_sentimento_index#16858, segmentacao_tipo_index#16928, segmentacao_validade_index#17001, segmentacao_utilizacao_index#17077, segmentacoes_funcionalidade_index#17156, segmentacao_interatividade_index#17238, segmentacoes_impacto_ambiental_index#17323, segmentacoes_interacao_humana_index#17411, seller_city_index#18076, seller_state_index#18106, ... 5 more fields]\n                                             +- Project [target#17544, order_status_index#17806, order_purchase_month#17836, order_approved_at#6025, order_delivered_carrier_date#5952, order_delivered_customer_date#5961, order_estimated_delivery_date#5970, days_to_approval#17866, days_to_carrier#17896, days_to_delivery#17926, days_estimated_vs_actual_delivery#17956, price#17986, freight_value#18016, segmentacao_necessidade_index#18046, segmentacao_sentimento_index#16858, segmentacao_tipo_index#16928, segmentacao_validade_index#17001, segmentacao_utilizacao_index#17077, segmentacoes_funcionalidade_index#17156, segmentacao_interatividade_index#17238, segmentacoes_impacto_ambiental_index#17323, segmentacoes_interacao_humana_index#17411, seller_city_index#18076, cast(seller_state_index#15200 as double) AS seller_state_index#18106, ... 5 more fields]\n                                                +- Project [target#17544, order_status_index#17806, order_purchase_month#17836, order_approved_at#6025, order_delivered_carrier_date#5952, order_delivered_customer_date#5961, order_estimated_delivery_date#5970, days_to_approval#17866, days_to_carrier#17896, days_to_delivery#17926, days_estimated_vs_actual_delivery#17956, price#17986, freight_value#18016, segmentacao_necessidade_index#18046, segmentacao_sentimento_index#16858, segmentacao_tipo_index#16928, segmentacao_validade_index#17001, segmentacao_utilizacao_index#17077, segmentacoes_funcionalidade_index#17156, segmentacao_interatividade_index#17238, segmentacoes_impacto_ambiental_index#17323, segmentacoes_interacao_humana_index#17411, cast(seller_city_index#15139 as double) AS seller_city_index#18076, seller_state_index#15200, ... 5 more fields]\n                                                   +- Project [target#17544, order_status_index#17806, order_purchase_month#17836, order_approved_at#6025, order_delivered_carrier_date#5952, order_delivered_customer_date#5961, order_estimated_delivery_date#5970, days_to_approval#17866, days_to_carrier#17896, days_to_delivery#17926, days_estimated_vs_actual_delivery#17956, price#17986, freight_value#18016, cast(segmentacao_necessidade_index#16791 as double) AS segmentacao_necessidade_index#18046, segmentacao_sentimento_index#16858, segmentacao_tipo_index#16928, segmentacao_validade_index#17001, segmentacao_utilizacao_index#17077, segmentacoes_funcionalidade_index#17156, segmentacao_interatividade_index#17238, segmentacoes_impacto_ambiental_index#17323, segmentacoes_interacao_humana_index#17411, seller_city_index#15139, seller_state_index#15200, ... 5 more fields]\n                                                      +- Project [target#17544, order_status_index#17806, order_purchase_month#17836, order_approved_at#6025, order_delivered_carrier_date#5952, order_delivered_customer_date#5961, order_estimated_delivery_date#5970, days_to_approval#17866, days_to_carrier#17896, days_to_delivery#17926, days_estimated_vs_actual_delivery#17956, price#17986, cast(freight_value#198 as double) AS freight_value#18016, segmentacao_necessidade_index#16791, segmentacao_sentimento_index#16858, segmentacao_tipo_index#16928, segmentacao_validade_index#17001, segmentacao_utilizacao_index#17077, segmentacoes_funcionalidade_index#17156, segmentacao_interatividade_index#17238, segmentacoes_impacto_ambiental_index#17323, segmentacoes_interacao_humana_index#17411, seller_city_index#15139, seller_state_index#15200, ... 5 more fields]\n                                                         +- Project [target#17544, order_status_index#17806, order_purchase_month#17836, order_approved_at#6025, order_delivered_carrier_date#5952, order_delivered_customer_date#5961, order_estimated_delivery_date#5970, days_to_approval#17866, days_to_carrier#17896, days_to_delivery#17926, days_estimated_vs_actual_delivery#17956, cast(price#197 as double) AS price#17986, freight_value#198, segmentacao_necessidade_index#16791, segmentacao_sentimento_index#16858, segmentacao_tipo_index#16928, segmentacao_validade_index#17001, segmentacao_utilizacao_index#17077, segmentacoes_funcionalidade_index#17156, segmentacao_interatividade_index#17238, segmentacoes_impacto_ambiental_index#17323, segmentacoes_interacao_humana_index#17411, seller_city_index#15139, seller_state_index#15200, ... 5 more fields]\n                                                            +- Project [target#17544, order_status_index#17806, order_purchase_month#17836, order_approved_at#6025, order_delivered_carrier_date#5952, order_delivered_customer_date#5961, order_estimated_delivery_date#5970, days_to_approval#17866, days_to_carrier#17896, days_to_delivery#17926, cast(days_estimated_vs_actual_delivery#6012 as double) AS days_estimated_vs_actual_delivery#17956, price#197, freight_value#198, segmentacao_necessidade_index#16791, segmentacao_sentimento_index#16858, segmentacao_tipo_index#16928, segmentacao_validade_index#17001, segmentacao_utilizacao_index#17077, segmentacoes_funcionalidade_index#17156, segmentacao_interatividade_index#17238, segmentacoes_impacto_ambiental_index#17323, segmentacoes_interacao_humana_index#17411, seller_city_index#15139, seller_state_index#15200, ... 5 more fields]\n                                                               +- Project [target#17544, order_status_index#17806, order_purchase_month#17836, order_approved_at#6025, order_delivered_carrier_date#5952, order_delivered_customer_date#5961, order_estimated_delivery_date#5970, days_to_approval#17866, days_to_carrier#17896, cast(days_to_delivery#6000 as double) AS days_to_delivery#17926, days_estimated_vs_actual_delivery#6012, price#197, freight_value#198, segmentacao_necessidade_index#16791, segmentacao_sentimento_index#16858, segmentacao_tipo_index#16928, segmentacao_validade_index#17001, segmentacao_utilizacao_index#17077, segmentacoes_funcionalidade_index#17156, segmentacao_interatividade_index#17238, segmentacoes_impacto_ambiental_index#17323, segmentacoes_interacao_humana_index#17411, seller_city_index#15139, seller_state_index#15200, ... 5 more fields]\n                                                                  +- Project [target#17544, order_status_index#17806, order_purchase_month#17836, order_approved_at#6025, order_delivered_carrier_date#5952, order_delivered_customer_date#5961, order_estimated_delivery_date#5970, days_to_approval#17866, cast(days_to_carrier#5989 as double) AS days_to_carrier#17896, days_to_delivery#6000, days_estimated_vs_actual_delivery#6012, price#197, freight_value#198, segmentacao_necessidade_index#16791, segmentacao_sentimento_index#16858, segmentacao_tipo_index#16928, segmentacao_validade_index#17001, segmentacao_utilizacao_index#17077, segmentacoes_funcionalidade_index#17156, segmentacao_interatividade_index#17238, segmentacoes_impacto_ambiental_index#17323, segmentacoes_interacao_humana_index#17411, seller_city_index#15139, seller_state_index#15200, ... 5 more fields]\n                                                                     +- Project [target#17544, order_status_index#17806, order_purchase_month#17836, order_approved_at#6025, order_delivered_carrier_date#5952, order_delivered_customer_date#5961, order_estimated_delivery_date#5970, cast(days_to_approval#5979 as double) AS days_to_approval#17866, days_to_carrier#5989, days_to_delivery#6000, days_estimated_vs_actual_delivery#6012, price#197, freight_value#198, segmentacao_necessidade_index#16791, segmentacao_sentimento_index#16858, segmentacao_tipo_index#16928, segmentacao_validade_index#17001, segmentacao_utilizacao_index#17077, segmentacoes_funcionalidade_index#17156, segmentacao_interatividade_index#17238, segmentacoes_impacto_ambiental_index#17323, segmentacoes_interacao_humana_index#17411, seller_city_index#15139, seller_state_index#15200, ... 5 more fields]\n                                                                        +- Project [target#17544, order_status_index#17806, cast(order_purchase_month#15407 as double) AS order_purchase_month#17836, order_approved_at#6025, order_delivered_carrier_date#5952, order_delivered_customer_date#5961, order_estimated_delivery_date#5970, days_to_approval#5979, days_to_carrier#5989, days_to_delivery#6000, days_estimated_vs_actual_delivery#6012, price#197, freight_value#198, segmentacao_necessidade_index#16791, segmentacao_sentimento_index#16858, segmentacao_tipo_index#16928, segmentacao_validade_index#17001, segmentacao_utilizacao_index#17077, segmentacoes_funcionalidade_index#17156, segmentacao_interatividade_index#17238, segmentacoes_impacto_ambiental_index#17323, segmentacoes_interacao_humana_index#17411, seller_city_index#15139, seller_state_index#15200, ... 5 more fields]\n                                                                           +- Project [target#17544, cast(order_status_index#15070 as double) AS order_status_index#17806, order_purchase_month#15407, order_approved_at#6025, order_delivered_carrier_date#5952, order_delivered_customer_date#5961, order_estimated_delivery_date#5970, days_to_approval#5979, days_to_carrier#5989, days_to_delivery#6000, days_estimated_vs_actual_delivery#6012, price#197, freight_value#198, segmentacao_necessidade_index#16791, segmentacao_sentimento_index#16858, segmentacao_tipo_index#16928, segmentacao_validade_index#17001, segmentacao_utilizacao_index#17077, segmentacoes_funcionalidade_index#17156, segmentacao_interatividade_index#17238, segmentacoes_impacto_ambiental_index#17323, segmentacoes_interacao_humana_index#17411, seller_city_index#15139, seller_state_index#15200, ... 5 more fields]\n                                                                              +- Filter atleastnnonnulls(29, target#17544, order_status_index#15070, order_purchase_month#15407, order_approved_at#6025, order_delivered_carrier_date#5952, order_delivered_customer_date#5961, order_estimated_delivery_date#5970, days_to_approval#5979, days_to_carrier#5989, days_to_delivery#6000, days_estimated_vs_actual_delivery#6012, price#197, freight_value#198, segmentacao_necessidade_index#16791, segmentacao_sentimento_index#16858, segmentacao_tipo_index#16928, segmentacao_validade_index#17001, segmentacao_utilizacao_index#17077, segmentacoes_funcionalidade_index#17156, segmentacao_interatividade_index#17238, segmentacoes_impacto_ambiental_index#17323, segmentacoes_interacao_humana_index#17411, seller_city_index#15139, ... 6 more fields)\n                                                                                 +- Filter isnotnull(target#17544)\n                                                                                    +- Project [target#17544, order_status_index#15070, order_purchase_month#15407, order_approved_at#6025, order_delivered_carrier_date#5952, order_delivered_customer_date#5961, order_estimated_delivery_date#5970, days_to_approval#5979, days_to_carrier#5989, days_to_delivery#6000, days_estimated_vs_actual_delivery#6012, price#197, freight_value#198, segmentacao_necessidade_index#16791, segmentacao_sentimento_index#16858, segmentacao_tipo_index#16928, segmentacao_validade_index#17001, segmentacao_utilizacao_index#17077, segmentacoes_funcionalidade_index#17156, segmentacao_interatividade_index#17238, segmentacoes_impacto_ambiental_index#17323, segmentacoes_interacao_humana_index#17411, seller_city_index#15139, seller_state_index#15200, ... 5 more fields]\n                                                                                       +- Project [order_id#21, customer_id#73, seller_id#195, target#17544, order_status_index#15070, order_purchase_month#15407, order_approved_at#6025, order_delivered_carrier_date#5952, order_delivered_customer_date#5961, order_estimated_delivery_date#5970, days_to_approval#5979, days_to_carrier#5989, days_to_delivery#6000, days_estimated_vs_actual_delivery#6012, product_id#194, price#197, freight_value#198, segmentacao_necessidade_index#16791, segmentacao_sentimento_index#16858, segmentacao_tipo_index#16928, segmentacao_validade_index#17001, segmentacao_utilizacao_index#17077, segmentacoes_funcionalidade_index#17156, segmentacao_interatividade_index#17238, ... 9 more fields]\n                                                                                          +- Join Inner, (order_id#21 = order_id#17688)\n                                                                                             :- Project [customer_id#73, seller_id#195, order_id#21, target#17544, order_status_index#15070, order_purchase_month#15407, order_approved_at#6025, order_delivered_carrier_date#5952, order_delivered_customer_date#5961, order_estimated_delivery_date#5970, days_to_approval#5979, days_to_carrier#5989, days_to_delivery#6000, days_estimated_vs_actual_delivery#6012, product_id#194, price#197, freight_value#198, segmentacao_necessidade_index#16791, segmentacao_sentimento_index#16858, segmentacao_tipo_index#16928, segmentacao_validade_index#17001, segmentacao_utilizacao_index#17077, segmentacoes_funcionalidade_index#17156, segmentacao_interatividade_index#17238, ... 5 more fields]\n                                                                                             :  +- Join Inner, (customer_id#73 = customer_id#165)\n                                                                                             :     :- Project [seller_id#195, order_id#21, target#17544, customer_id#73, order_status_index#15070, order_purchase_month#15407, order_approved_at#6025, order_delivered_carrier_date#5952, order_delivered_customer_date#5961, order_estimated_delivery_date#5970, days_to_approval#5979, days_to_carrier#5989, days_to_delivery#6000, days_estimated_vs_actual_delivery#6012, product_id#194, price#197, freight_value#198, segmentacao_necessidade_index#16791, segmentacao_sentimento_index#16858, segmentacao_tipo_index#16928, segmentacao_validade_index#17001, segmentacao_utilizacao_index#17077, segmentacoes_funcionalidade_index#17156, segmentacao_interatividade_index#17238, ... 4 more fields]\n                                                                                             :     :  +- Join Inner, (seller_id#195 = seller_id#105)\n                                                                                             :     :     :- Project [order_id#21, target#17544, customer_id#73, order_status_index#15070, order_purchase_month#15407, order_approved_at#6025, order_delivered_carrier_date#5952, order_delivered_customer_date#5961, order_estimated_delivery_date#5970, days_to_approval#5979, days_to_carrier#5989, days_to_delivery#6000, days_estimated_vs_actual_delivery#6012, product_id#194, price#197, freight_value#198, seller_id#195, segmentacao_necessidade_index#16791, segmentacao_sentimento_index#16858, segmentacao_tipo_index#16928, segmentacao_validade_index#17001, segmentacao_utilizacao_index#17077, segmentacoes_funcionalidade_index#17156, segmentacao_interatividade_index#17238, ... 2 more fields]\n                                                                                             :     :     :  +- Join Inner, (order_id#21 = order_id#192)\n                                                                                             :     :     :     :- Project [order_id#21, target#17544, customer_id#73, order_status_index#15070, order_purchase_month#15407, order_approved_at#6025, order_delivered_carrier_date#5952, order_delivered_customer_date#5961, order_estimated_delivery_date#5970, days_to_approval#5979, days_to_carrier#5989, days_to_delivery#6000, days_estimated_vs_actual_delivery#6012]\n                                                                                             :     :     :     :  +- Join Inner, (order_id#21 = order_id#72)\n                                                                                             :     :     :     :     :- Project [order_id#21, cast(review_score#22 as int) AS target#17544]\n                                                                                             :     :     :     :     :  +- Project [review_id#20, order_id#21, review_score#22, review_comment_title#23, review_comment_message#24, review_creation_date#25, review_answer_timestamp#26, days_to_response#7533, CASE WHEN (isnotnull(review_comment_message#24) OR isnotnull(review_comment_title#23)) THEN 1 ELSE 0 END AS has_review_comment#7634]\n                                                                                             :     :     :     :     :     +- Project [review_id#20, order_id#21, review_score#22, review_comment_title#23, review_comment_message#24, review_creation_date#25, review_answer_timestamp#26, datediff(cast(review_answer_timestamp#26 as date), cast(review_creation_date#25 as date)) AS days_to_response#7533]\n                                                                                             :     :     :     :     :        +- Relation [review_id#20,order_id#21,review_score#22,review_comment_title#23,review_comment_message#24,review_creation_date#25,review_answer_timestamp#26] csv\n                                                                                             :     :     :     :     +- Project [order_id#72, customer_id#73, order_status_index#15070, order_purchase_month#15407, order_approved_at#6025, order_delivered_carrier_date#5952, order_delivered_customer_date#5961, order_estimated_delivery_date#5970, days_to_approval#5979, days_to_carrier#5989, days_to_delivery#6000, days_estimated_vs_actual_delivery#6012]\n                                                                                             :     :     :     :        +- Project [customer_id#73, order_id#72, order_status#74, order_purchase_timestamp#5934, order_approved_at#6025, order_delivered_carrier_date#5952, order_delivered_customer_date#5961, order_estimated_delivery_date#5970, days_to_approval#5979, days_to_carrier#5989, days_to_delivery#6000, days_estimated_vs_actual_delivery#6012, approval_group#9868, carrier_group#9882, delivery_group#9897, estimated_vs_actual_group#9913, order_status_index#15070, month(cast(order_purchase_timestamp#5934 as date)) AS order_purchase_month#15407]\n                                                                                             :     :     :     :           +- Project [customer_id#73, order_id#72, order_status#74, order_purchase_timestamp#5934, order_approved_at#6025, order_delivered_carrier_date#5952, order_delivered_customer_date#5961, order_estimated_delivery_date#5970, days_to_approval#5979, days_to_carrier#5989, days_to_delivery#6000, days_estimated_vs_actual_delivery#6012, approval_group#9868, carrier_group#9882, delivery_group#9897, estimated_vs_actual_group#9913, UDF(cast(order_status#74 as string)) AS order_status_index#15070]\n                                                                                             :     :     :     :              +- Project [customer_id#73, order_id#72, order_status#74, order_purchase_timestamp#5934, order_approved_at#6025, order_delivered_carrier_date#5952, order_delivered_customer_date#5961, order_estimated_delivery_date#5970, days_to_approval#5979, days_to_carrier#5989, days_to_delivery#6000, days_estimated_vs_actual_delivery#6012, approval_group#9868, carrier_group#9882, delivery_group#9897, estimated_vs_actual_group#9913]\n                                                                                             :     :     :     :                 +- Join Inner, (customer_id#73 = customer_id#11120)\n                                                                                             :     :     :     :                    :- Project [order_id#72, customer_id#73, order_status#74, order_purchase_timestamp#5934, order_approved_at#6025, order_delivered_carrier_date#5952, order_delivered_customer_date#5961, order_estimated_delivery_date#5970, days_to_approval#5979, days_to_carrier#5989, days_to_delivery#6000, days_estimated_vs_actual_delivery#6012, approval_group#9868, carrier_group#9882, delivery_group#9897, CASE WHEN (days_estimated_vs_actual_delivery#6012 <= 3) THEN até 3 dias WHEN (days_estimated_vs_actual_delivery#6012 <= 5) THEN 3 a 5 dias WHEN (days_estimated_vs_actual_delivery#6012 <= 7) THEN 5 a 7 dias ELSE mais de 7 dias END AS estimated_vs_actual_group#9913]\n                                                                                             :     :     :     :                    :  +- Project [order_id#72, customer_id#73, order_status#74, order_purchase_timestamp#5934, order_approved_at#6025, order_delivered_carrier_date#5952, order_delivered_customer_date#5961, order_estimated_delivery_date#5970, days_to_approval#5979, days_to_carrier#5989, days_to_delivery#6000, days_estimated_vs_actual_delivery#6012, approval_group#9868, carrier_group#9882, CASE WHEN (days_to_delivery#6000 <= 3) THEN até 3 dias WHEN (days_to_delivery#6000 <= 5) THEN 3 a 5 dias WHEN (days_to_delivery#6000 <= 7) THEN 5 a 7 dias ELSE mais de 7 dias END AS delivery_group#9897]\n                                                                                             :     :     :     :                    :     +- Project [order_id#72, customer_id#73, order_status#74, order_purchase_timestamp#5934, order_approved_at#6025, order_delivered_carrier_date#5952, order_delivered_customer_date#5961, order_estimated_delivery_date#5970, days_to_approval#5979, days_to_carrier#5989, days_to_delivery#6000, days_estimated_vs_actual_delivery#6012, approval_group#9868, CASE WHEN (days_to_carrier#5989 <= 3) THEN até 3 dias WHEN (days_to_carrier#5989 <= 5) THEN 3 a 5 dias WHEN (days_to_carrier#5989 <= 7) THEN 5 a 7 dias ELSE mais de 7 dias END AS carrier_group#9882]\n                                                                                             :     :     :     :                    :        +- Project [order_id#72, customer_id#73, order_status#74, order_purchase_timestamp#5934, order_approved_at#6025, order_delivered_carrier_date#5952, order_delivered_customer_date#5961, order_estimated_delivery_date#5970, days_to_approval#5979, days_to_carrier#5989, days_to_delivery#6000, days_estimated_vs_actual_delivery#6012, CASE WHEN (days_to_approval#5979 <= 3) THEN até 3 dias WHEN (days_to_approval#5979 <= 5) THEN 3 a 5 dias WHEN (days_to_approval#5979 <= 7) THEN 5 a 7 dias ELSE mais de 7 dias END AS approval_group#9868]\n                                                                                             :     :     :     :                    :           +- Project [order_id#72, customer_id#73, order_status#74, order_purchase_timestamp#5934, cast(order_approved_at#5943 as timestamp) AS order_approved_at#6025, order_delivered_carrier_date#5952, order_delivered_customer_date#5961, order_estimated_delivery_date#5970, days_to_approval#5979, days_to_carrier#5989, days_to_delivery#6000, days_estimated_vs_actual_delivery#6012]\n                                                                                             :     :     :     :                    :              +- Project [order_id#72, customer_id#73, order_status#74, order_purchase_timestamp#5934, order_approved_at#5943, order_delivered_carrier_date#5952, order_delivered_customer_date#5961, order_estimated_delivery_date#5970, days_to_approval#5979, days_to_carrier#5989, days_to_delivery#6000, datediff(cast(order_delivered_customer_date#5961 as date), cast(order_estimated_delivery_date#5970 as date)) AS days_estimated_vs_actual_delivery#6012]\n                                                                                             :     :     :     :                    :                 +- Project [order_id#72, customer_id#73, order_status#74, order_purchase_timestamp#5934, order_approved_at#5943, order_delivered_carrier_date#5952, order_delivered_customer_date#5961, order_estimated_delivery_date#5970, days_to_approval#5979, days_to_carrier#5989, datediff(cast(order_delivered_customer_date#5961 as date), cast(order_purchase_timestamp#5934 as date)) AS days_to_delivery#6000]\n                                                                                             :     :     :     :                    :                    +- Project [order_id#72, customer_id#73, order_status#74, order_purchase_timestamp#5934, order_approved_at#5943, order_delivered_carrier_date#5952, order_delivered_customer_date#5961, order_estimated_delivery_date#5970, days_to_approval#5979, datediff(cast(order_delivered_carrier_date#5952 as date), cast(order_purchase_timestamp#5934 as date)) AS days_to_carrier#5989]\n                                                                                             :     :     :     :                    :                       +- Project [order_id#72, customer_id#73, order_status#74, order_purchase_timestamp#5934, order_approved_at#5943, order_delivered_carrier_date#5952, order_delivered_customer_date#5961, order_estimated_delivery_date#5970, datediff(cast(order_approved_at#5943 as date), cast(order_purchase_timestamp#5934 as date)) AS days_to_approval#5979]\n                                                                                             :     :     :     :                    :                          +- Project [order_id#72, customer_id#73, order_status#74, order_purchase_timestamp#5934, order_approved_at#5943, order_delivered_carrier_date#5952, order_delivered_customer_date#5961, cast(order_estimated_delivery_date#79 as timestamp) AS order_estimated_delivery_date#5970]\n                                                                                             :     :     :     :                    :                             +- Project [order_id#72, customer_id#73, order_status#74, order_purchase_timestamp#5934, order_approved_at#5943, order_delivered_carrier_date#5952, cast(order_delivered_customer_date#78 as timestamp) AS order_delivered_customer_date#5961, order_estimated_delivery_date#79]\n                                                                                             :     :     :     :                    :                                +- Project [order_id#72, customer_id#73, order_status#74, order_purchase_timestamp#5934, order_approved_at#5943, cast(order_delivered_carrier_date#77 as timestamp) AS order_delivered_carrier_date#5952, order_delivered_customer_date#78, order_estimated_delivery_date#79]\n                                                                                             :     :     :     :                    :                                   +- Project [order_id#72, customer_id#73, order_status#74, order_purchase_timestamp#5934, cast(order_approved_at#76 as timestamp) AS order_approved_at#5943, order_delivered_carrier_date#77, order_delivered_customer_date#78, order_estimated_delivery_date#79]\n                                                                                             :     :     :     :                    :                                      +- Project [order_id#72, customer_id#73, order_status#74, cast(order_purchase_timestamp#75 as timestamp) AS order_purchase_timestamp#5934, order_approved_at#76, order_delivered_carrier_date#77, order_delivered_customer_date#78, order_estimated_delivery_date#79]\n                                                                                             :     :     :     :                    :                                         +- Relation [order_id#72,customer_id#73,order_status#74,order_purchase_timestamp#75,order_approved_at#76,order_delivered_carrier_date#77,order_delivered_customer_date#78,order_estimated_delivery_date#79] csv\n                                                                                             :     :     :     :                    +- Project [customer_id#11120]\n                                                                                             :     :     :     :                       +- Filter ((total_value#11081 >= -339.855) AND (total_value#11081 <= 670.6650000000001))\n                                                                                             :     :     :     :                          +- Aggregate [customer_id#11120], [customer_id#11120, sum(payment_value#227) AS total_value#11081]\n                                                                                             :     :     :     :                             +- Project [order_id#11119, customer_id#11120, order_status#11121, order_purchase_timestamp#5934, order_approved_at#6025, order_delivered_carrier_date#5952, order_delivered_customer_date#5961, order_estimated_delivery_date#5970, days_to_approval#5979, days_to_carrier#5989, days_to_delivery#6000, days_estimated_vs_actual_delivery#6012, approval_group#9868, carrier_group#9882, delivery_group#9897, estimated_vs_actual_group#9913, payment_sequential#224, payment_type#225, payment_installments#226, payment_value#227]\n                                                                                             :     :     :     :                                +- Join Inner, (order_id#11119 = order_id#223)\n                                                                                             :     :     :     :                                   :- Project [order_id#11119, customer_id#11120, order_status#11121, order_purchase_timestamp#5934, order_approved_at#6025, order_delivered_carrier_date#5952, order_delivered_customer_date#5961, order_estimated_delivery_date#5970, days_to_approval#5979, days_to_carrier#5989, days_to_delivery#6000, days_estimated_vs_actual_delivery#6012, approval_group#9868, carrier_group#9882, delivery_group#9897, CASE WHEN (days_estimated_vs_actual_delivery#6012 <= 3) THEN até 3 dias WHEN (days_estimated_vs_actual_delivery#6012 <= 5) THEN 3 a 5 dias WHEN (days_estimated_vs_actual_delivery#6012 <= 7) THEN 5 a 7 dias ELSE mais de 7 dias END AS estimated_vs_actual_group#9913]\n                                                                                             :     :     :     :                                   :  +- Project [order_id#11119, customer_id#11120, order_status#11121, order_purchase_timestamp#5934, order_approved_at#6025, order_delivered_carrier_date#5952, order_delivered_customer_date#5961, order_estimated_delivery_date#5970, days_to_approval#5979, days_to_carrier#5989, days_to_delivery#6000, days_estimated_vs_actual_delivery#6012, approval_group#9868, carrier_group#9882, CASE WHEN (days_to_delivery#6000 <= 3) THEN até 3 dias WHEN (days_to_delivery#6000 <= 5) THEN 3 a 5 dias WHEN (days_to_delivery#6000 <= 7) THEN 5 a 7 dias ELSE mais de 7 dias END AS delivery_group#9897]\n                                                                                             :     :     :     :                                   :     +- Project [order_id#11119, customer_id#11120, order_status#11121, order_purchase_timestamp#5934, order_approved_at#6025, order_delivered_carrier_date#5952, order_delivered_customer_date#5961, order_estimated_delivery_date#5970, days_to_approval#5979, days_to_carrier#5989, days_to_delivery#6000, days_estimated_vs_actual_delivery#6012, approval_group#9868, CASE WHEN (days_to_carrier#5989 <= 3) THEN até 3 dias WHEN (days_to_carrier#5989 <= 5) THEN 3 a 5 dias WHEN (days_to_carrier#5989 <= 7) THEN 5 a 7 dias ELSE mais de 7 dias END AS carrier_group#9882]\n                                                                                             :     :     :     :                                   :        +- Project [order_id#11119, customer_id#11120, order_status#11121, order_purchase_timestamp#5934, order_approved_at#6025, order_delivered_carrier_date#5952, order_delivered_customer_date#5961, order_estimated_delivery_date#5970, days_to_approval#5979, days_to_carrier#5989, days_to_delivery#6000, days_estimated_vs_actual_delivery#6012, CASE WHEN (days_to_approval#5979 <= 3) THEN até 3 dias WHEN (days_to_approval#5979 <= 5) THEN 3 a 5 dias WHEN (days_to_approval#5979 <= 7) THEN 5 a 7 dias ELSE mais de 7 dias END AS approval_group#9868]\n                                                                                             :     :     :     :                                   :           +- Project [order_id#11119, customer_id#11120, order_status#11121, order_purchase_timestamp#5934, cast(order_approved_at#5943 as timestamp) AS order_approved_at#6025, order_delivered_carrier_date#5952, order_delivered_customer_date#5961, order_estimated_delivery_date#5970, days_to_approval#5979, days_to_carrier#5989, days_to_delivery#6000, days_estimated_vs_actual_delivery#6012]\n                                                                                             :     :     :     :                                   :              +- Project [order_id#11119, customer_id#11120, order_status#11121, order_purchase_timestamp#5934, order_approved_at#5943, order_delivered_carrier_date#5952, order_delivered_customer_date#5961, order_estimated_delivery_date#5970, days_to_approval#5979, days_to_carrier#5989, days_to_delivery#6000, datediff(cast(order_delivered_customer_date#5961 as date), cast(order_estimated_delivery_date#5970 as date)) AS days_estimated_vs_actual_delivery#6012]\n                                                                                             :     :     :     :                                   :                 +- Project [order_id#11119, customer_id#11120, order_status#11121, order_purchase_timestamp#5934, order_approved_at#5943, order_delivered_carrier_date#5952, order_delivered_customer_date#5961, order_estimated_delivery_date#5970, days_to_approval#5979, days_to_carrier#5989, datediff(cast(order_delivered_customer_date#5961 as date), cast(order_purchase_timestamp#5934 as date)) AS days_to_delivery#6000]\n                                                                                             :     :     :     :                                   :                    +- Project [order_id#11119, customer_id#11120, order_status#11121, order_purchase_timestamp#5934, order_approved_at#5943, order_delivered_carrier_date#5952, order_delivered_customer_date#5961, order_estimated_delivery_date#5970, days_to_approval#5979, datediff(cast(order_delivered_carrier_date#5952 as date), cast(order_purchase_timestamp#5934 as date)) AS days_to_carrier#5989]\n                                                                                             :     :     :     :                                   :                       +- Project [order_id#11119, customer_id#11120, order_status#11121, order_purchase_timestamp#5934, order_approved_at#5943, order_delivered_carrier_date#5952, order_delivered_customer_date#5961, order_estimated_delivery_date#5970, datediff(cast(order_approved_at#5943 as date), cast(order_purchase_timestamp#5934 as date)) AS days_to_approval#5979]\n                                                                                             :     :     :     :                                   :                          +- Project [order_id#11119, customer_id#11120, order_status#11121, order_purchase_timestamp#5934, order_approved_at#5943, order_delivered_carrier_date#5952, order_delivered_customer_date#5961, cast(order_estimated_delivery_date#11126 as timestamp) AS order_estimated_delivery_date#5970]\n                                                                                             :     :     :     :                                   :                             +- Project [order_id#11119, customer_id#11120, order_status#11121, order_purchase_timestamp#5934, order_approved_at#5943, order_delivered_carrier_date#5952, cast(order_delivered_customer_date#11125 as timestamp) AS order_delivered_customer_date#5961, order_estimated_delivery_date#11126]\n                                                                                             :     :     :     :                                   :                                +- Project [order_id#11119, customer_id#11120, order_status#11121, order_purchase_timestamp#5934, order_approved_at#5943, cast(order_delivered_carrier_date#11124 as timestamp) AS order_delivered_carrier_date#5952, order_delivered_customer_date#11125, order_estimated_delivery_date#11126]\n                                                                                             :     :     :     :                                   :                                   +- Project [order_id#11119, customer_id#11120, order_status#11121, order_purchase_timestamp#5934, cast(order_approved_at#11123 as timestamp) AS order_approved_at#5943, order_delivered_carrier_date#11124, order_delivered_customer_date#11125, order_estimated_delivery_date#11126]\n                                                                                             :     :     :     :                                   :                                      +- Project [order_id#11119, customer_id#11120, order_status#11121, cast(order_purchase_timestamp#11122 as timestamp) AS order_purchase_timestamp#5934, order_approved_at#11123, order_delivered_carrier_date#11124, order_delivered_customer_date#11125, order_estimated_delivery_date#11126]\n                                                                                             :     :     :     :                                   :                                         +- Relation [order_id#11119,customer_id#11120,order_status#11121,order_purchase_timestamp#11122,order_approved_at#11123,order_delivered_carrier_date#11124,order_delivered_customer_date#11125,order_estimated_delivery_date#11126] csv\n                                                                                             :     :     :     :                                   +- Relation [order_id#223,payment_sequential#224,payment_type#225,payment_installments#226,payment_value#227] csv\n                                                                                             :     :     :     +- Project [order_id#192, product_id#194, price#197, freight_value#198, seller_id#195, segmentacao_necessidade_index#16791, segmentacao_sentimento_index#16858, segmentacao_tipo_index#16928, segmentacao_validade_index#17001, segmentacao_utilizacao_index#17077, segmentacoes_funcionalidade_index#17156, segmentacao_interatividade_index#17238, segmentacoes_impacto_ambiental_index#17323, segmentacoes_interacao_humana_index#17411]\n                                                                                             :     :     :        +- Project [product_id#194, order_id#192, order_item_id#193, seller_id#195, shipping_limit_date#6038, price#197, freight_value#198, days_to_shipping_limit#6064, shipping_group#9732, product_category_name#131, product_name_lenght#132, product_description_lenght#133, product_photos_qty#134, product_weight_g#135, product_length_cm#136, product_height_cm#137, product_width_cm#138, product_volume#9130, segmentacao_necessidade#10816, segmentacao_sentimento#10829, segmentacao_tipo#10843, segmentacao_validade#10858, segmentacao_utilizacao#10874, segmentacoes_funcionalidade#10891, ... 30 more fields]\n                                                                                             :     :     :           +- Join Inner, (product_id#194 = product_id#17443)\n                                                                                             :     :     :              :- Project [product_id#194, order_id#192, order_item_id#193, seller_id#195, shipping_limit_date#6038, price#197, freight_value#198, days_to_shipping_limit#6064, shipping_group#9732, product_category_name#131, product_name_lenght#132, product_description_lenght#133, product_photos_qty#134, product_weight_g#135, product_length_cm#136, product_height_cm#137, product_width_cm#138, product_volume#9130, segmentacao_necessidade#10816, segmentacao_sentimento#10829, segmentacao_tipo#10843, segmentacao_validade#10858, segmentacao_utilizacao#10874, segmentacoes_funcionalidade#10891, ... 3 more fields]\n                                                                                             :     :     :              :  +- Join Inner, (product_id#194 = product_id#130)\n                                                                                             :     :     :              :     :- Project [order_id#192, order_item_id#193, product_id#194, seller_id#195, shipping_limit_date#6038, price#197, freight_value#198, days_to_shipping_limit#6064, CASE WHEN (datediff(cast(shipping_limit_date#6038 as date), cast(shipping_limit_date#6038 as date)) <= 1) THEN até 1 dias WHEN (datediff(cast(shipping_limit_date#6038 as date), cast(shipping_limit_date#6038 as date)) <= 2) THEN até 2 dias WHEN (datediff(cast(shipping_limit_date#6038 as date), cast(shipping_limit_date#6038 as date)) <= 3) THEN até 3 dias ELSE mais de 7 dias END AS shipping_group#9732]\n                                                                                             :     :     :              :     :  +- Project [order_id#192, order_item_id#193, product_id#194, seller_id#195, shipping_limit_date#6038, price#197, freight_value#198, days_to_shipping_limit#6064]\n                                                                                             :     :     :              :     :     +- Project [order_id#192, order_item_id#193, product_id#194, seller_id#195, shipping_limit_date#6038, price#197, freight_value#198, customer_id#17587, order_status#17588, order_purchase_timestamp#5934, order_approved_at#6025, order_delivered_carrier_date#5952, order_delivered_customer_date#5961, order_estimated_delivery_date#5970, days_to_approval#5979, days_to_carrier#5989, days_to_delivery#6000, days_estimated_vs_actual_delivery#6012, datediff(cast(shipping_limit_date#6038 as date), cast(order_approved_at#6025 as date)) AS days_to_shipping_limit#6064]\n                                                                                             :     :     :              :     :        +- Project [order_id#192, order_item_id#193, product_id#194, seller_id#195, shipping_limit_date#6038, price#197, freight_value#198, customer_id#17587, order_status#17588, order_purchase_timestamp#5934, order_approved_at#6025, order_delivered_carrier_date#5952, order_delivered_customer_date#5961, order_estimated_delivery_date#5970, days_to_approval#5979, days_to_carrier#5989, days_to_delivery#6000, days_estimated_vs_actual_delivery#6012]\n                                                                                             :     :     :              :     :           +- Join Inner, (order_id#192 = order_id#17586)\n                                                                                             :     :     :              :     :              :- Project [order_id#192, order_item_id#193, product_id#194, seller_id#195, cast(shipping_limit_date#196 as timestamp) AS shipping_limit_date#6038, price#197, freight_value#198]\n                                                                                             :     :     :              :     :              :  +- Relation [order_id#192,order_item_id#193,product_id#194,seller_id#195,shipping_limit_date#196,price#197,freight_value#198] csv\n                                                                                             :     :     :              :     :              +- Project [order_id#17586, customer_id#17587, order_status#17588, order_purchase_timestamp#5934, cast(order_approved_at#5943 as timestamp) AS order_approved_at#6025, order_delivered_carrier_date#5952, order_delivered_customer_date#5961, order_estimated_delivery_date#5970, days_to_approval#5979, days_to_carrier#5989, days_to_delivery#6000, days_estimated_vs_actual_delivery#6012]\n                                                                                             :     :     :              :     :                 +- Project [order_id#17586, customer_id#17587, order_status#17588, order_purchase_timestamp#5934, order_approved_at#5943, order_delivered_carrier_date#5952, order_delivered_customer_date#5961, order_estimated_delivery_date#5970, days_to_approval#5979, days_to_carrier#5989, days_to_delivery#6000, datediff(cast(order_delivered_customer_date#5961 as date), cast(order_estimated_delivery_date#5970 as date)) AS days_estimated_vs_actual_delivery#6012]\n                                                                                             :     :     :              :     :                    +- Project [order_id#17586, customer_id#17587, order_status#17588, order_purchase_timestamp#5934, order_approved_at#5943, order_delivered_carrier_date#5952, order_delivered_customer_date#5961, order_estimated_delivery_date#5970, days_to_approval#5979, days_to_carrier#5989, datediff(cast(order_delivered_customer_date#5961 as date), cast(order_purchase_timestamp#5934 as date)) AS days_to_delivery#6000]\n                                                                                             :     :     :              :     :                       +- Project [order_id#17586, customer_id#17587, order_status#17588, order_purchase_timestamp#5934, order_approved_at#5943, order_delivered_carrier_date#5952, order_delivered_customer_date#5961, order_estimated_delivery_date#5970, days_to_approval#5979, datediff(cast(order_delivered_carrier_date#5952 as date), cast(order_purchase_timestamp#5934 as date)) AS days_to_carrier#5989]\n                                                                                             :     :     :              :     :                          +- Project [order_id#17586, customer_id#17587, order_status#17588, order_purchase_timestamp#5934, order_approved_at#5943, order_delivered_carrier_date#5952, order_delivered_customer_date#5961, order_estimated_delivery_date#5970, datediff(cast(order_approved_at#5943 as date), cast(order_purchase_timestamp#5934 as date)) AS days_to_approval#5979]\n                                                                                             :     :     :              :     :                             +- Project [order_id#17586, customer_id#17587, order_status#17588, order_purchase_timestamp#5934, order_approved_at#5943, order_delivered_carrier_date#5952, order_delivered_customer_date#5961, cast(order_estimated_delivery_date#17593 as timestamp) AS order_estimated_delivery_date#5970]\n                                                                                             :     :     :              :     :                                +- Project [order_id#17586, customer_id#17587, order_status#17588, order_purchase_timestamp#5934, order_approved_at#5943, order_delivered_carrier_date#5952, cast(order_delivered_customer_date#17592 as timestamp) AS order_delivered_customer_date#5961, order_estimated_delivery_date#17593]\n                                                                                             :     :     :              :     :                                   +- Project [order_id#17586, customer_id#17587, order_status#17588, order_purchase_timestamp#5934, order_approved_at#5943, cast(order_delivered_carrier_date#17591 as timestamp) AS order_delivered_carrier_date#5952, order_delivered_customer_date#17592, order_estimated_delivery_date#17593]\n                                                                                             :     :     :              :     :                                      +- Project [order_id#17586, customer_id#17587, order_status#17588, order_purchase_timestamp#5934, cast(order_approved_at#17590 as timestamp) AS order_approved_at#5943, order_delivered_carrier_date#17591, order_delivered_customer_date#17592, order_estimated_delivery_date#17593]\n                                                                                             :     :     :              :     :                                         +- Project [order_id#17586, customer_id#17587, order_status#17588, cast(order_purchase_timestamp#17589 as timestamp) AS order_purchase_timestamp#5934, order_approved_at#17590, order_delivered_carrier_date#17591, order_delivered_customer_date#17592, order_estimated_delivery_date#17593]\n                                                                                             :     :     :              :     :                                            +- Relation [order_id#17586,customer_id#17587,order_status#17588,order_purchase_timestamp#17589,order_approved_at#17590,order_delivered_carrier_date#17591,order_delivered_customer_date#17592,order_estimated_delivery_date#17593] csv\n                                                                                             :     :     :              :     +- Project [product_id#130, product_category_name#131, product_name_lenght#132, product_description_lenght#133, product_photos_qty#134, product_weight_g#135, product_length_cm#136, product_height_cm#137, product_width_cm#138, product_volume#9130, segmentacao_necessidade#10816, segmentacao_sentimento#10829, segmentacao_tipo#10843, segmentacao_validade#10858, segmentacao_utilizacao#10874, segmentacoes_funcionalidade#10891, segmentacao_interatividade#10909, segmentacoes_impacto_ambiental#10928, segmentacoe_interacao_humana(product_category_name#131)#10947 AS segmentacoes_interacao_humana#10948]\n                                                                                             :     :     :              :        +- Project [product_id#130, product_category_name#131, product_name_lenght#132, product_description_lenght#133, product_photos_qty#134, product_weight_g#135, product_length_cm#136, product_height_cm#137, product_width_cm#138, product_volume#9130, segmentacao_necessidade#10816, segmentacao_sentimento#10829, segmentacao_tipo#10843, segmentacao_validade#10858, segmentacao_utilizacao#10874, segmentacoes_funcionalidade#10891, segmentacao_interatividade#10909, segmentacoe_impacto_ambiental(product_category_name#131)#10927 AS segmentacoes_impacto_ambiental#10928]\n                                                                                             :     :     :              :           +- Project [product_id#130, product_category_name#131, product_name_lenght#132, product_description_lenght#133, product_photos_qty#134, product_weight_g#135, product_length_cm#136, product_height_cm#137, product_width_cm#138, product_volume#9130, segmentacao_necessidade#10816, segmentacao_sentimento#10829, segmentacao_tipo#10843, segmentacao_validade#10858, segmentacao_utilizacao#10874, segmentacoes_funcionalidade#10891, segmentacao_interatividade(product_category_name#131)#10908 AS segmentacao_interatividade#10909]\n                                                                                             :     :     :              :              +- Project [product_id#130, product_category_name#131, product_name_lenght#132, product_description_lenght#133, product_photos_qty#134, product_weight_g#135, product_length_cm#136, product_height_cm#137, product_width_cm#138, product_volume#9130, segmentacao_necessidade#10816, segmentacao_sentimento#10829, segmentacao_tipo#10843, segmentacao_validade#10858, segmentacao_utilizacao#10874, segmentacao_funcionalidade(product_category_name#131)#10890 AS segmentacoes_funcionalidade#10891]\n                                                                                             :     :     :              :                 +- Project [product_id#130, product_category_name#131, product_name_lenght#132, product_description_lenght#133, product_photos_qty#134, product_weight_g#135, product_length_cm#136, product_height_cm#137, product_width_cm#138, product_volume#9130, segmentacao_necessidade#10816, segmentacao_sentimento#10829, segmentacao_tipo#10843, segmentacao_validade#10858, segmentacao_utilizacao(product_category_name#131)#10873 AS segmentacao_utilizacao#10874]\n                                                                                             :     :     :              :                    +- Project [product_id#130, product_category_name#131, product_name_lenght#132, product_description_lenght#133, product_photos_qty#134, product_weight_g#135, product_length_cm#136, product_height_cm#137, product_width_cm#138, product_volume#9130, segmentacao_necessidade#10816, segmentacao_sentimento#10829, segmentacao_tipo#10843, segmentacao_validade(product_category_name#131)#10857 AS segmentacao_validade#10858]\n                                                                                             :     :     :              :                       +- Project [product_id#130, product_category_name#131, product_name_lenght#132, product_description_lenght#133, product_photos_qty#134, product_weight_g#135, product_length_cm#136, product_height_cm#137, product_width_cm#138, product_volume#9130, segmentacao_necessidade#10816, segmentacao_sentimento#10829, segmentacao_tipo(product_category_name#131)#10842 AS segmentacao_tipo#10843]\n                                                                                             :     :     :              :                          +- Project [product_id#130, product_category_name#131, product_name_lenght#132, product_description_lenght#133, product_photos_qty#134, product_weight_g#135, product_length_cm#136, product_height_cm#137, product_width_cm#138, product_volume#9130, segmentacao_necessidade#10816, segmentacao_sentimento(product_category_name#131)#10828 AS segmentacao_sentimento#10829]\n                                                                                             :     :     :              :                             +- Project [product_id#130, product_category_name#131, product_name_lenght#132, product_description_lenght#133, product_photos_qty#134, product_weight_g#135, product_length_cm#136, product_height_cm#137, product_width_cm#138, product_volume#9130, segmentacoe_necessidade(product_category_name#131)#10815 AS segmentacao_necessidade#10816]\n                                                                                             :     :     :              :                                +- Project [product_id#130, product_category_name#131, product_name_lenght#132, product_description_lenght#133, product_photos_qty#134, product_weight_g#135, product_length_cm#136, product_height_cm#137, product_width_cm#138, ((product_length_cm#136 * product_height_cm#137) * product_width_cm#138) AS product_volume#9130]\n                                                                                             :     :     :              :                                   +- Relation [product_id#130,product_category_name#131,product_name_lenght#132,product_description_lenght#133,product_photos_qty#134,product_weight_g#135,product_length_cm#136,product_height_cm#137,product_width_cm#138] csv\n                                                                                             :     :     :              +- Project [product_id#17443, product_category_name#17444, product_name_lenght#17445, product_description_lenght#17446, product_photos_qty#17447, product_weight_g#17448, product_length_cm#17449, product_height_cm#17450, product_width_cm#17451, product_volume#17462, segmentacao_necessidade#17461, segmentacao_sentimento#17460, segmentacao_tipo#17459, segmentacao_validade#17458, segmentacao_utilizacao#17457, segmentacoes_funcionalidade#17456, segmentacao_interatividade#17455, segmentacoes_impacto_ambiental#17454, segmentacoes_interacao_humana#17452, segmentacao_necessidade_index#16791, segmentacao_sentimento_index#16858, segmentacao_tipo_index#16928, segmentacao_validade_index#17001, segmentacao_utilizacao_index#17077, ... 4 more fields]\n                                                                                             :     :     :                 +- Project [product_id#17443, product_category_name#17444, product_name_lenght#17445, product_description_lenght#17446, product_photos_qty#17447, product_weight_g#17448, product_length_cm#17449, product_height_cm#17450, product_width_cm#17451, product_volume#17462, segmentacao_necessidade#17461, segmentacao_sentimento#17460, segmentacao_tipo#17459, segmentacao_validade#17458, segmentacao_utilizacao#17457, segmentacoes_funcionalidade#17456, segmentacao_interatividade#17455, segmentacoes_impacto_ambiental#17454, segmentacoes_interacao_humana#17452, segmentacao_necessidade_index#16791, segmentacao_sentimento_index#16858, segmentacao_tipo_index#16928, segmentacao_validade_index#17001, segmentacao_utilizacao_index#17077, ... 3 more fields]\n                                                                                             :     :     :                    +- Project [product_id#17443, product_category_name#17444, product_name_lenght#17445, product_description_lenght#17446, product_photos_qty#17447, product_weight_g#17448, product_length_cm#17449, product_height_cm#17450, product_width_cm#17451, product_volume#17462, segmentacao_necessidade#17461, segmentacao_sentimento#17460, segmentacao_tipo#17459, segmentacao_validade#17458, segmentacao_utilizacao#17457, segmentacoes_funcionalidade#17456, segmentacao_interatividade#17455, segmentacoes_impacto_ambiental#17454, segmentacoes_interacao_humana#17452, segmentacao_necessidade_index#16791, segmentacao_sentimento_index#16858, segmentacao_tipo_index#16928, segmentacao_validade_index#17001, segmentacao_utilizacao_index#17077, ... 2 more fields]\n                                                                                             :     :     :                       +- Project [product_id#17443, product_category_name#17444, product_name_lenght#17445, product_description_lenght#17446, product_photos_qty#17447, product_weight_g#17448, product_length_cm#17449, product_height_cm#17450, product_width_cm#17451, product_volume#17462, segmentacao_necessidade#17461, segmentacao_sentimento#17460, segmentacao_tipo#17459, segmentacao_validade#17458, segmentacao_utilizacao#17457, segmentacoes_funcionalidade#17456, segmentacao_interatividade#17455, segmentacoes_impacto_ambiental#17454, segmentacoes_interacao_humana#17452, segmentacao_necessidade_index#16791, segmentacao_sentimento_index#16858, segmentacao_tipo_index#16928, segmentacao_validade_index#17001, segmentacao_utilizacao_index#17077, UDF(cast(segmentacoes_funcionalidade#17456 as string)) AS segmentacoes_funcionalidade_index#17156]\n                                                                                             :     :     :                          +- Project [product_id#17443, product_category_name#17444, product_name_lenght#17445, product_description_lenght#17446, product_photos_qty#17447, product_weight_g#17448, product_length_cm#17449, product_height_cm#17450, product_width_cm#17451, product_volume#17462, segmentacao_necessidade#17461, segmentacao_sentimento#17460, segmentacao_tipo#17459, segmentacao_validade#17458, segmentacao_utilizacao#17457, segmentacoes_funcionalidade#17456, segmentacao_interatividade#17455, segmentacoes_impacto_ambiental#17454, segmentacoes_interacao_humana#17452, segmentacao_necessidade_index#16791, segmentacao_sentimento_index#16858, segmentacao_tipo_index#16928, segmentacao_validade_index#17001, UDF(cast(segmentacao_utilizacao#17457 as string)) AS segmentacao_utilizacao_index#17077]\n                                                                                             :     :     :                             +- Project [product_id#17443, product_category_name#17444, product_name_lenght#17445, product_description_lenght#17446, product_photos_qty#17447, product_weight_g#17448, product_length_cm#17449, product_height_cm#17450, product_width_cm#17451, product_volume#17462, segmentacao_necessidade#17461, segmentacao_sentimento#17460, segmentacao_tipo#17459, segmentacao_validade#17458, segmentacao_utilizacao#17457, segmentacoes_funcionalidade#17456, segmentacao_interatividade#17455, segmentacoes_impacto_ambiental#17454, segmentacoes_interacao_humana#17452, segmentacao_necessidade_index#16791, segmentacao_sentimento_index#16858, segmentacao_tipo_index#16928, UDF(cast(segmentacao_validade#17458 as string)) AS segmentacao_validade_index#17001]\n                                                                                             :     :     :                                +- Project [product_id#17443, product_category_name#17444, product_name_lenght#17445, product_description_lenght#17446, product_photos_qty#17447, product_weight_g#17448, product_length_cm#17449, product_height_cm#17450, product_width_cm#17451, product_volume#17462, segmentacao_necessidade#17461, segmentacao_sentimento#17460, segmentacao_tipo#17459, segmentacao_validade#17458, segmentacao_utilizacao#17457, segmentacoes_funcionalidade#17456, segmentacao_interatividade#17455, segmentacoes_impacto_ambiental#17454, segmentacoes_interacao_humana#17452, segmentacao_necessidade_index#16791, segmentacao_sentimento_index#16858, UDF(cast(segmentacao_tipo#17459 as string)) AS segmentacao_tipo_index#16928]\n                                                                                             :     :     :                                   +- Project [product_id#17443, product_category_name#17444, product_name_lenght#17445, product_description_lenght#17446, product_photos_qty#17447, product_weight_g#17448, product_length_cm#17449, product_height_cm#17450, product_width_cm#17451, product_volume#17462, segmentacao_necessidade#17461, segmentacao_sentimento#17460, segmentacao_tipo#17459, segmentacao_validade#17458, segmentacao_utilizacao#17457, segmentacoes_funcionalidade#17456, segmentacao_interatividade#17455, segmentacoes_impacto_ambiental#17454, segmentacoes_interacao_humana#17452, segmentacao_necessidade_index#16791, UDF(cast(segmentacao_sentimento#17460 as string)) AS segmentacao_sentimento_index#16858]\n                                                                                             :     :     :                                      +- Project [product_id#17443, product_category_name#17444, product_name_lenght#17445, product_description_lenght#17446, product_photos_qty#17447, product_weight_g#17448, product_length_cm#17449, product_height_cm#17450, product_width_cm#17451, product_volume#17462, segmentacao_necessidade#17461, segmentacao_sentimento#17460, segmentacao_tipo#17459, segmentacao_validade#17458, segmentacao_utilizacao#17457, segmentacoes_funcionalidade#17456, segmentacao_interatividade#17455, segmentacoes_impacto_ambiental#17454, segmentacoes_interacao_humana#17452, UDF(cast(segmentacao_necessidade#17461 as string)) AS segmentacao_necessidade_index#16791]\n                                                                                             :     :     :                                         +- Project [product_id#17443, product_category_name#17444, product_name_lenght#17445, product_description_lenght#17446, product_photos_qty#17447, product_weight_g#17448, product_length_cm#17449, product_height_cm#17450, product_width_cm#17451, product_volume#17462, segmentacao_necessidade#17461, segmentacao_sentimento#17460, segmentacao_tipo#17459, segmentacao_validade#17458, segmentacao_utilizacao#17457, segmentacoes_funcionalidade#17456, segmentacao_interatividade#17455, segmentacoes_impacto_ambiental#17454, segmentacoe_interacao_humana(product_category_name#17444)#10947 AS segmentacoes_interacao_humana#17452]\n                                                                                             :     :     :                                            +- Project [product_id#17443, product_category_name#17444, product_name_lenght#17445, product_description_lenght#17446, product_photos_qty#17447, product_weight_g#17448, product_length_cm#17449, product_height_cm#17450, product_width_cm#17451, product_volume#17462, segmentacao_necessidade#17461, segmentacao_sentimento#17460, segmentacao_tipo#17459, segmentacao_validade#17458, segmentacao_utilizacao#17457, segmentacoes_funcionalidade#17456, segmentacao_interatividade#17455, segmentacoe_impacto_ambiental(product_category_name#17444)#10927 AS segmentacoes_impacto_ambiental#17454]\n                                                                                             :     :     :                                               +- Project [product_id#17443, product_category_name#17444, product_name_lenght#17445, product_description_lenght#17446, product_photos_qty#17447, product_weight_g#17448, product_length_cm#17449, product_height_cm#17450, product_width_cm#17451, product_volume#17462, segmentacao_necessidade#17461, segmentacao_sentimento#17460, segmentacao_tipo#17459, segmentacao_validade#17458, segmentacao_utilizacao#17457, segmentacoes_funcionalidade#17456, segmentacao_interatividade(product_category_name#17444)#10908 AS segmentacao_interatividade#17455]\n                                                                                             :     :     :                                                  +- Project [product_id#17443, product_category_name#17444, product_name_lenght#17445, product_description_lenght#17446, product_photos_qty#17447, product_weight_g#17448, product_length_cm#17449, product_height_cm#17450, product_width_cm#17451, product_volume#17462, segmentacao_necessidade#17461, segmentacao_sentimento#17460, segmentacao_tipo#17459, segmentacao_validade#17458, segmentacao_utilizacao#17457, segmentacao_funcionalidade(product_category_name#17444)#10890 AS segmentacoes_funcionalidade#17456]\n                                                                                             :     :     :                                                     +- Project [product_id#17443, product_category_name#17444, product_name_lenght#17445, product_description_lenght#17446, product_photos_qty#17447, product_weight_g#17448, product_length_cm#17449, product_height_cm#17450, product_width_cm#17451, product_volume#17462, segmentacao_necessidade#17461, segmentacao_sentimento#17460, segmentacao_tipo#17459, segmentacao_validade#17458, segmentacao_utilizacao(product_category_name#17444)#10873 AS segmentacao_utilizacao#17457]\n                                                                                             :     :     :                                                        +- Project [product_id#17443, product_category_name#17444, product_name_lenght#17445, product_description_lenght#17446, product_photos_qty#17447, product_weight_g#17448, product_length_cm#17449, product_height_cm#17450, product_width_cm#17451, product_volume#17462, segmentacao_necessidade#17461, segmentacao_sentimento#17460, segmentacao_tipo#17459, segmentacao_validade(product_category_name#17444)#10857 AS segmentacao_validade#17458]\n                                                                                             :     :     :                                                           +- Project [product_id#17443, product_category_name#17444, product_name_lenght#17445, product_description_lenght#17446, product_photos_qty#17447, product_weight_g#17448, product_length_cm#17449, product_height_cm#17450, product_width_cm#17451, product_volume#17462, segmentacao_necessidade#17461, segmentacao_sentimento#17460, segmentacao_tipo(product_category_name#17444)#10842 AS segmentacao_tipo#17459]\n                                                                                             :     :     :                                                              +- Project [product_id#17443, product_category_name#17444, product_name_lenght#17445, product_description_lenght#17446, product_photos_qty#17447, product_weight_g#17448, product_length_cm#17449, product_height_cm#17450, product_width_cm#17451, product_volume#17462, segmentacao_necessidade#17461, segmentacao_sentimento(product_category_name#17444)#10828 AS segmentacao_sentimento#17460]\n                                                                                             :     :     :                                                                 +- Project [product_id#17443, product_category_name#17444, product_name_lenght#17445, product_description_lenght#17446, product_photos_qty#17447, product_weight_g#17448, product_length_cm#17449, product_height_cm#17450, product_width_cm#17451, product_volume#17462, segmentacoe_necessidade(product_category_name#17444)#10815 AS segmentacao_necessidade#17461]\n                                                                                             :     :     :                                                                    +- Project [product_id#17443, product_category_name#17444, product_name_lenght#17445, product_description_lenght#17446, product_photos_qty#17447, product_weight_g#17448, product_length_cm#17449, product_height_cm#17450, product_width_cm#17451, ((product_length_cm#17449 * product_height_cm#17450) * product_width_cm#17451) AS product_volume#17462]\n                                                                                             :     :     :                                                                       +- Relation [product_id#17443,product_category_name#17444,product_name_lenght#17445,product_description_lenght#17446,product_photos_qty#17447,product_weight_g#17448,product_length_cm#17449,product_height_cm#17450,product_width_cm#17451] csv\n                                                                                             :     :     +- Project [seller_id#105, seller_city_index#15139, seller_state_index#15200]\n                                                                                             :     :        +- Project [seller_id#105, seller_zip_code_prefix#106, seller_city#107, seller_state#108, seller_city_index#15139, UDF(cast(seller_state#108 as string)) AS seller_state_index#15200]\n                                                                                             :     :           +- Project [seller_id#105, seller_zip_code_prefix#106, seller_city#107, seller_state#108, UDF(cast(seller_city#107 as string)) AS seller_city_index#15139]\n                                                                                             :     :              +- Relation [seller_id#105,seller_zip_code_prefix#106,seller_city#107,seller_state#108] csv\n                                                                                             :     +- Project [customer_id#165, customer_state_index#15270]\n                                                                                             :        +- Project [customer_id#165, customer_unique_id#166, customer_zip_code_prefix#167, customer_city#168, customer_state#169, UDF(cast(customer_state#169 as string)) AS customer_state_index#15270]\n                                                                                             :           +- Relation [customer_id#165,customer_unique_id#166,customer_zip_code_prefix#167,customer_city#168,customer_state#169] csv\n                                                                                             +- Project [order_id#17688, payment_sequential#17689, payment_type_index#15397, payment_installments#17691, payment_value#17692]\n                                                                                                +- Project [order_id#17688, payment_sequential#17689, payment_type#17690, payment_installments#17691, payment_value#17692, UDF(cast(payment_type#17690 as string)) AS payment_type_index#15397]\n                                                                                                   +- Project [order_id#17688, payment_sequential#17689, payment_type#17690, payment_installments#17691, payment_value#17692]\n                                                                                                      +- Join Inner, (order_id#17688 = order_id#17693)\n                                                                                                         :- Relation [order_id#17688,payment_sequential#17689,payment_type#17690,payment_installments#17691,payment_value#17692] csv\n                                                                                                         +- Project [order_id#17693]\n                                                                                                            +- Project [customer_id#17694, order_id#17693, order_status#17695, order_purchase_timestamp#5934, order_approved_at#6025, order_delivered_carrier_date#5952, order_delivered_customer_date#5961, order_estimated_delivery_date#5970, days_to_approval#5979, days_to_carrier#5989, days_to_delivery#6000, days_estimated_vs_actual_delivery#6012, approval_group#9868, carrier_group#9882, delivery_group#9897, estimated_vs_actual_group#9913]\n                                                                                                               +- Join Inner, (customer_id#17694 = customer_id#17702)\n                                                                                                                  :- Project [order_id#17693, customer_id#17694, order_status#17695, order_purchase_timestamp#5934, order_approved_at#6025, order_delivered_carrier_date#5952, order_delivered_customer_date#5961, order_estimated_delivery_date#5970, days_to_approval#5979, days_to_carrier#5989, days_to_delivery#6000, days_estimated_vs_actual_delivery#6012, approval_group#9868, carrier_group#9882, delivery_group#9897, CASE WHEN (days_estimated_vs_actual_delivery#6012 <= 3) THEN até 3 dias WHEN (days_estimated_vs_actual_delivery#6012 <= 5) THEN 3 a 5 dias WHEN (days_estimated_vs_actual_delivery#6012 <= 7) THEN 5 a 7 dias ELSE mais de 7 dias END AS estimated_vs_actual_group#9913]\n                                                                                                                  :  +- Project [order_id#17693, customer_id#17694, order_status#17695, order_purchase_timestamp#5934, order_approved_at#6025, order_delivered_carrier_date#5952, order_delivered_customer_date#5961, order_estimated_delivery_date#5970, days_to_approval#5979, days_to_carrier#5989, days_to_delivery#6000, days_estimated_vs_actual_delivery#6012, approval_group#9868, carrier_group#9882, CASE WHEN (days_to_delivery#6000 <= 3) THEN até 3 dias WHEN (days_to_delivery#6000 <= 5) THEN 3 a 5 dias WHEN (days_to_delivery#6000 <= 7) THEN 5 a 7 dias ELSE mais de 7 dias END AS delivery_group#9897]\n                                                                                                                  :     +- Project [order_id#17693, customer_id#17694, order_status#17695, order_purchase_timestamp#5934, order_approved_at#6025, order_delivered_carrier_date#5952, order_delivered_customer_date#5961, order_estimated_delivery_date#5970, days_to_approval#5979, days_to_carrier#5989, days_to_delivery#6000, days_estimated_vs_actual_delivery#6012, approval_group#9868, CASE WHEN (days_to_carrier#5989 <= 3) THEN até 3 dias WHEN (days_to_carrier#5989 <= 5) THEN 3 a 5 dias WHEN (days_to_carrier#5989 <= 7) THEN 5 a 7 dias ELSE mais de 7 dias END AS carrier_group#9882]\n                                                                                                                  :        +- Project [order_id#17693, customer_id#17694, order_status#17695, order_purchase_timestamp#5934, order_approved_at#6025, order_delivered_carrier_date#5952, order_delivered_customer_date#5961, order_estimated_delivery_date#5970, days_to_approval#5979, days_to_carrier#5989, days_to_delivery#6000, days_estimated_vs_actual_delivery#6012, CASE WHEN (days_to_approval#5979 <= 3) THEN até 3 dias WHEN (days_to_approval#5979 <= 5) THEN 3 a 5 dias WHEN (days_to_approval#5979 <= 7) THEN 5 a 7 dias ELSE mais de 7 dias END AS approval_group#9868]\n                                                                                                                  :           +- Project [order_id#17693, customer_id#17694, order_status#17695, order_purchase_timestamp#5934, cast(order_approved_at#5943 as timestamp) AS order_approved_at#6025, order_delivered_carrier_date#5952, order_delivered_customer_date#5961, order_estimated_delivery_date#5970, days_to_approval#5979, days_to_carrier#5989, days_to_delivery#6000, days_estimated_vs_actual_delivery#6012]\n                                                                                                                  :              +- Project [order_id#17693, customer_id#17694, order_status#17695, order_purchase_timestamp#5934, order_approved_at#5943, order_delivered_carrier_date#5952, order_delivered_customer_date#5961, order_estimated_delivery_date#5970, days_to_approval#5979, days_to_carrier#5989, days_to_delivery#6000, datediff(cast(order_delivered_customer_date#5961 as date), cast(order_estimated_delivery_date#5970 as date)) AS days_estimated_vs_actual_delivery#6012]\n                                                                                                                  :                 +- Project [order_id#17693, customer_id#17694, order_status#17695, order_purchase_timestamp#5934, order_approved_at#5943, order_delivered_carrier_date#5952, order_delivered_customer_date#5961, order_estimated_delivery_date#5970, days_to_approval#5979, days_to_carrier#5989, datediff(cast(order_delivered_customer_date#5961 as date), cast(order_purchase_timestamp#5934 as date)) AS days_to_delivery#6000]\n                                                                                                                  :                    +- Project [order_id#17693, customer_id#17694, order_status#17695, order_purchase_timestamp#5934, order_approved_at#5943, order_delivered_carrier_date#5952, order_delivered_customer_date#5961, order_estimated_delivery_date#5970, days_to_approval#5979, datediff(cast(order_delivered_carrier_date#5952 as date), cast(order_purchase_timestamp#5934 as date)) AS days_to_carrier#5989]\n                                                                                                                  :                       +- Project [order_id#17693, customer_id#17694, order_status#17695, order_purchase_timestamp#5934, order_approved_at#5943, order_delivered_carrier_date#5952, order_delivered_customer_date#5961, order_estimated_delivery_date#5970, datediff(cast(order_approved_at#5943 as date), cast(order_purchase_timestamp#5934 as date)) AS days_to_approval#5979]\n                                                                                                                  :                          +- Project [order_id#17693, customer_id#17694, order_status#17695, order_purchase_timestamp#5934, order_approved_at#5943, order_delivered_carrier_date#5952, order_delivered_customer_date#5961, cast(order_estimated_delivery_date#17700 as timestamp) AS order_estimated_delivery_date#5970]\n                                                                                                                  :                             +- Project [order_id#17693, customer_id#17694, order_status#17695, order_purchase_timestamp#5934, order_approved_at#5943, order_delivered_carrier_date#5952, cast(order_delivered_customer_date#17699 as timestamp) AS order_delivered_customer_date#5961, order_estimated_delivery_date#17700]\n                                                                                                                  :                                +- Project [order_id#17693, customer_id#17694, order_status#17695, order_purchase_timestamp#5934, order_approved_at#5943, cast(order_delivered_carrier_date#17698 as timestamp) AS order_delivered_carrier_date#5952, order_delivered_customer_date#17699, order_estimated_delivery_date#17700]\n                                                                                                                  :                                   +- Project [order_id#17693, customer_id#17694, order_status#17695, order_purchase_timestamp#5934, cast(order_approved_at#17697 as timestamp) AS order_approved_at#5943, order_delivered_carrier_date#17698, order_delivered_customer_date#17699, order_estimated_delivery_date#17700]\n                                                                                                                  :                                      +- Project [order_id#17693, customer_id#17694, order_status#17695, cast(order_purchase_timestamp#17696 as timestamp) AS order_purchase_timestamp#5934, order_approved_at#17697, order_delivered_carrier_date#17698, order_delivered_customer_date#17699, order_estimated_delivery_date#17700]\n                                                                                                                  :                                         +- Relation [order_id#17693,customer_id#17694,order_status#17695,order_purchase_timestamp#17696,order_approved_at#17697,order_delivered_carrier_date#17698,order_delivered_customer_date#17699,order_estimated_delivery_date#17700] csv\n                                                                                                                  +- Project [customer_id#17702]\n                                                                                                                     +- Filter ((total_value#11081 >= -339.855) AND (total_value#11081 <= 670.6650000000001))\n                                                                                                                        +- Aggregate [customer_id#17702], [customer_id#17702, sum(payment_value#11149) AS total_value#11081]\n                                                                                                                           +- Project [order_id#17701, customer_id#17702, order_status#17703, order_purchase_timestamp#5934, order_approved_at#6025, order_delivered_carrier_date#5952, order_delivered_customer_date#5961, order_estimated_delivery_date#5970, days_to_approval#5979, days_to_carrier#5989, days_to_delivery#6000, days_estimated_vs_actual_delivery#6012, approval_group#9868, carrier_group#9882, delivery_group#9897, estimated_vs_actual_group#9913, payment_sequential#11146, payment_type#11147, payment_installments#11148, payment_value#11149]\n                                                                                                                              +- Join Inner, (order_id#17701 = order_id#11145)\n                                                                                                                                 :- Project [order_id#17701, customer_id#17702, order_status#17703, order_purchase_timestamp#5934, order_approved_at#6025, order_delivered_carrier_date#5952, order_delivered_customer_date#5961, order_estimated_delivery_date#5970, days_to_approval#5979, days_to_carrier#5989, days_to_delivery#6000, days_estimated_vs_actual_delivery#6012, approval_group#9868, carrier_group#9882, delivery_group#9897, CASE WHEN (days_estimated_vs_actual_delivery#6012 <= 3) THEN até 3 dias WHEN (days_estimated_vs_actual_delivery#6012 <= 5) THEN 3 a 5 dias WHEN (days_estimated_vs_actual_delivery#6012 <= 7) THEN 5 a 7 dias ELSE mais de 7 dias END AS estimated_vs_actual_group#9913]\n                                                                                                                                 :  +- Project [order_id#17701, customer_id#17702, order_status#17703, order_purchase_timestamp#5934, order_approved_at#6025, order_delivered_carrier_date#5952, order_delivered_customer_date#5961, order_estimated_delivery_date#5970, days_to_approval#5979, days_to_carrier#5989, days_to_delivery#6000, days_estimated_vs_actual_delivery#6012, approval_group#9868, carrier_group#9882, CASE WHEN (days_to_delivery#6000 <= 3) THEN até 3 dias WHEN (days_to_delivery#6000 <= 5) THEN 3 a 5 dias WHEN (days_to_delivery#6000 <= 7) THEN 5 a 7 dias ELSE mais de 7 dias END AS delivery_group#9897]\n                                                                                                                                 :     +- Project [order_id#17701, customer_id#17702, order_status#17703, order_purchase_timestamp#5934, order_approved_at#6025, order_delivered_carrier_date#5952, order_delivered_customer_date#5961, order_estimated_delivery_date#5970, days_to_approval#5979, days_to_carrier#5989, days_to_delivery#6000, days_estimated_vs_actual_delivery#6012, approval_group#9868, CASE WHEN (days_to_carrier#5989 <= 3) THEN até 3 dias WHEN (days_to_carrier#5989 <= 5) THEN 3 a 5 dias WHEN (days_to_carrier#5989 <= 7) THEN 5 a 7 dias ELSE mais de 7 dias END AS carrier_group#9882]\n                                                                                                                                 :        +- Project [order_id#17701, customer_id#17702, order_status#17703, order_purchase_timestamp#5934, order_approved_at#6025, order_delivered_carrier_date#5952, order_delivered_customer_date#5961, order_estimated_delivery_date#5970, days_to_approval#5979, days_to_carrier#5989, days_to_delivery#6000, days_estimated_vs_actual_delivery#6012, CASE WHEN (days_to_approval#5979 <= 3) THEN até 3 dias WHEN (days_to_approval#5979 <= 5) THEN 3 a 5 dias WHEN (days_to_approval#5979 <= 7) THEN 5 a 7 dias ELSE mais de 7 dias END AS approval_group#9868]\n                                                                                                                                 :           +- Project [order_id#17701, customer_id#17702, order_status#17703, order_purchase_timestamp#5934, cast(order_approved_at#5943 as timestamp) AS order_approved_at#6025, order_delivered_carrier_date#5952, order_delivered_customer_date#5961, order_estimated_delivery_date#5970, days_to_approval#5979, days_to_carrier#5989, days_to_delivery#6000, days_estimated_vs_actual_delivery#6012]\n                                                                                                                                 :              +- Project [order_id#17701, customer_id#17702, order_status#17703, order_purchase_timestamp#5934, order_approved_at#5943, order_delivered_carrier_date#5952, order_delivered_customer_date#5961, order_estimated_delivery_date#5970, days_to_approval#5979, days_to_carrier#5989, days_to_delivery#6000, datediff(cast(order_delivered_customer_date#5961 as date), cast(order_estimated_delivery_date#5970 as date)) AS days_estimated_vs_actual_delivery#6012]\n                                                                                                                                 :                 +- Project [order_id#17701, customer_id#17702, order_status#17703, order_purchase_timestamp#5934, order_approved_at#5943, order_delivered_carrier_date#5952, order_delivered_customer_date#5961, order_estimated_delivery_date#5970, days_to_approval#5979, days_to_carrier#5989, datediff(cast(order_delivered_customer_date#5961 as date), cast(order_purchase_timestamp#5934 as date)) AS days_to_delivery#6000]\n                                                                                                                                 :                    +- Project [order_id#17701, customer_id#17702, order_status#17703, order_purchase_timestamp#5934, order_approved_at#5943, order_delivered_carrier_date#5952, order_delivered_customer_date#5961, order_estimated_delivery_date#5970, days_to_approval#5979, datediff(cast(order_delivered_carrier_date#5952 as date), cast(order_purchase_timestamp#5934 as date)) AS days_to_carrier#5989]\n                                                                                                                                 :                       +- Project [order_id#17701, customer_id#17702, order_status#17703, order_purchase_timestamp#5934, order_approved_at#5943, order_delivered_carrier_date#5952, order_delivered_customer_date#5961, order_estimated_delivery_date#5970, datediff(cast(order_approved_at#5943 as date), cast(order_purchase_timestamp#5934 as date)) AS days_to_approval#5979]\n                                                                                                                                 :                          +- Project [order_id#17701, customer_id#17702, order_status#17703, order_purchase_timestamp#5934, order_approved_at#5943, order_delivered_carrier_date#5952, order_delivered_customer_date#5961, cast(order_estimated_delivery_date#17708 as timestamp) AS order_estimated_delivery_date#5970]\n                                                                                                                                 :                             +- Project [order_id#17701, customer_id#17702, order_status#17703, order_purchase_timestamp#5934, order_approved_at#5943, order_delivered_carrier_date#5952, cast(order_delivered_customer_date#17707 as timestamp) AS order_delivered_customer_date#5961, order_estimated_delivery_date#17708]\n                                                                                                                                 :                                +- Project [order_id#17701, customer_id#17702, order_status#17703, order_purchase_timestamp#5934, order_approved_at#5943, cast(order_delivered_carrier_date#17706 as timestamp) AS order_delivered_carrier_date#5952, order_delivered_customer_date#17707, order_estimated_delivery_date#17708]\n                                                                                                                                 :                                   +- Project [order_id#17701, customer_id#17702, order_status#17703, order_purchase_timestamp#5934, cast(order_approved_at#17705 as timestamp) AS order_approved_at#5943, order_delivered_carrier_date#17706, order_delivered_customer_date#17707, order_esti ... (truncated)",
              "errorTraceType": "ansi",
              "metadata": {},
              "type": "ipynbError"
            }
          }
        }
      ],
      "source": [
        "\n",
        "# Calcular a média dos review_scores antes das modificações\n",
        "media_antes = test_df.select(avg('target')).first()[0]\n",
        "print(f'Média dos review_scores antes das modificações: {media_antes}')\n",
        "\n",
        "\n",
        "\n",
        "# Oferecer garantia estendida gratuita para aumentar a confiança do cliente\n",
        "#clientes_insatisfeitos_modificado = clientes_insatisfeitos_modificado.withColumn('extended_warranty', lit(1))\n",
        "\n",
        "# Adicionar mensagens personalizadas para campanhas em SP e RJ\n",
        "#clientes_insatisfeitos_modificado = clientes_insatisfeitos_modificado.withColumn('campaign_message',\n",
        "#    when(col('customer_state_index') == indice_sp, lit(\"Ofertas exclusivas em São Paulo! Aproveite 20% de desconto e garantia estendida gratuita.\"))\n",
        "#    .when(col('customer_state_index') == indice_rj, lit(\"Ofertas exclusivas no Rio de Janeiro! Aproveite 20% de desconto e garantia estendida gratuita.\"))\n",
        "#    .otherwise(lit(\"Ofertas exclusivas! Aproveite 20% de desconto e garantia estendida gratuita.\")))\n",
        "\n",
        "# Implementar uma coluna de feedback para monitorar a eficácia das campanhas\n",
        "#clientes_modificado = clientes_insatisfeitos_modificado.withColumn('feedback_provided', lit(0))\n",
        "\n",
        "# Visualizar os dados finais para campanhas direcionadas\n",
        "#clientes_modificado.select('customer_state_index', 'price', 'extended_warranty', 'campaign_message', 'feedback_provided').show()\n",
        "\n",
        "\n",
        "\n",
        "\n",
        "\n",
        "# Reduzir o valor do pagamento em 5% para proporcionar economia ao cliente\n",
        "test_df_modificado = test_df.withColumn('payment_value', col('payment_value') * 0.85)\n",
        "\n",
        "# Lista de colunas individuais a serem removidas\n",
        "cols_to_remove = [\n",
        "    'order_status_index', 'order_purchase_month', 'days_to_approval', 'days_to_carrier',\n",
        "    'days_to_delivery', 'days_estimated_vs_actual_delivery', 'price', 'freight_value',\n",
        "    'segmentacao_necessidade_index', 'segmentacao_sentimento_index', 'segmentacao_tipo_index',\n",
        "    'segmentacao_validade_index', 'segmentacao_utilizacao_index', 'segmentacoes_funcionalidade_index',\n",
        "    'segmentacao_interatividade_index', 'segmentacoes_impacto_ambiental_index',\n",
        "    'segmentacoes_interacao_humana_index', 'seller_city_index', 'seller_state_index',\n",
        "    'customer_state_index', 'payment_sequential', 'payment_type_index', 'payment_installments',\n",
        "    'payment_value'\n",
        "]\n",
        "\n",
        "# Remover colunas redundantes do DataFrame\n",
        "test_df_modificado = test_df_modificado.drop(*cols_to_remove)\n",
        "\n",
        "# Remover as variáveis redundantes\n",
        "test_df_modificado = test_df_modificado.drop('order_approved_at', 'order_delivered_carrier_date', 'order_delivered_customer_date', 'order_estimated_delivery_date')\n",
        "# Exibir estrutura de uma linha das features para análise\n",
        "test_df_modificado.select('features').show(1, truncate=False)\n",
        "\n",
        "# Exibir estrutura de uma linha das scaled_features para análise\n",
        "test_df_modificado.select('scaled_features').show(1, truncate=False)\n",
        "\n",
        "\n",
        "# Definindo os índices correspondentes para SP e RJ\n",
        "indice_sp = 1\n",
        "indice_rj = 2\n",
        "\n",
        "# Filtrar dados para clientes de São Paulo (SP) e Rio de Janeiro (RJ)\n",
        "clientes_sp_rj = test_df_modificado.filter(col('customer_state_index').isin([indice_sp, indice_rj]))\n",
        "# Filtrar clientes com review_scores baixos (indicando insatisfação)\n",
        "clientes_insatisfeitos = clientes_sp_rj.filter(col('target') < 3)\n",
        "clientes_insatisfeitos.show()\n",
        "\n",
        "# Analisar a quantidade de clientes insatisfeitos em cada estado\n",
        "#clientes_insatisfeitos.groupBy('customer_state_index').count().show()\n",
        "\n",
        "# Adicionar desconto especial para clientes insatisfeitos de SP e RJ\n",
        "#clientes_insatisfeitos_modificado = clientes_insatisfeitos.withColumn('price', col('price') * 0.80)  # 20% de desconto\n",
        "\n",
        "\n",
        "# Ajustar o preço baseado na sazonalidade (manter preço inalterado nos meses 5 e 6)\n",
        "test_df_modificado = test_df_modificado.withColumn('price', when(col('order_purchase_month').isin([5, 6]), col('price') * 1.0).otherwise(col('price')))\n",
        "\n",
        "# Adicionar informação de rastreamento disponível para aumentar a transparência\n",
        "#test_df_modificado = test_df_modificado.withColumn('tracking_info_available', lit(1))\n",
        "\n",
        "# Incluir clientes em estados específicos no programa de fidelidade\n",
        "#test_df_modificado = test_df_modificado.withColumn('loyalty_program', when(col('customer_state_index').isin([1, 2]), 1).otherwise(0))\n",
        "\n",
        "# Oferecer garantia estendida para aumentar a confiança do cliente\n",
        "#test_df_modificado = test_df_modificado.withColumn('extended_warranty', lit(1))\n",
        "\n",
        "# Ajustar o número de parcelas com base nas observações (reduzir parcelas se maior que 6)\n",
        "test_df_modificado = test_df_modificado.withColumn('payment_installments', when(col('payment_installments') > 6, col('payment_installments') - 3).otherwise(col('payment_installments')))\n",
        "\n",
        "# Adicionar ajustes baseados nas segmentações\n",
        "\n",
        "# Aumentar o preço em 10% se segmentação de necessidade for 1\n",
        "test_df_modificado = test_df_modificado.withColumn('price', when(col('segmentacao_necessidade_index') == 1, col('price') * 1.10).otherwise(col('price')))\n",
        "\n",
        "# Reduzir o preço em 10% se segmentação de sentimento for 2\n",
        "test_df_modificado = test_df_modificado.withColumn('price', when(col('segmentacao_sentimento_index') == 2, col('price') * 0.90).otherwise(col('price')))\n",
        "\n",
        "# Aumentar o preço em 15% se segmentação de tipo for 3\n",
        "test_df_modificado = test_df_modificado.withColumn('price', when(col('segmentacao_tipo_index') == 3, col('price') * 1.15).otherwise(col('price')))\n",
        "\n",
        "# Reduzir o preço em 5% se segmentação de validade for 4\n",
        "test_df_modificado = test_df_modificado.withColumn('price', when(col('segmentacao_validade_index') == 4, col('price') * 0.95).otherwise(col('price')))\n",
        "\n",
        "# Fazer previsões com o modelo ajustado\n",
        "previsoes_modificado = melhor_modelo.transform(test_df_modificado)\n",
        "\n",
        "# Calcular a média dos review_scores depois das modificações\n",
        "media_depois = previsoes_modificado.select(avg('prediction')).first()[0]\n",
        "print(f'Média dos review_scores depois das modificações: {media_depois}')\n"
      ]
    },
    {
      "cell_type": "code",
      "execution_count": null,
      "metadata": {
        "application/vnd.databricks.v1+cell": {
          "cellMetadata": {
            "byteLimit": 2048000,
            "rowLimit": 10000
          },
          "inputWidgets": {},
          "nuid": "784a3385-2ed7-45c0-b693-aa28f596c0b2",
          "showTitle": false,
          "tableResultSettingsMap": {},
          "title": ""
        },
        "id": "xC3vWyA0Ed44",
        "outputId": "3aecd794-7dae-4902-c3af-ac7e1f42f5c5"
      },
      "outputs": [
        {
          "output_type": "display_data",
          "data": {
            "text/plain": [
              ""
            ]
          },
          "metadata": {
            "application/vnd.databricks.v1+output": {
              "arguments": {},
              "data": "",
              "errorSummary": "Command skipped",
              "errorTraceType": "ansi",
              "metadata": {},
              "type": "ipynbError"
            }
          }
        }
      ],
      "source": [
        "# Exibir algumas amostras após as modificações para verificar se foram aplicadas corretamente\n",
        "test_df_modificado.show(5)\n"
      ]
    },
    {
      "cell_type": "code",
      "execution_count": null,
      "metadata": {
        "application/vnd.databricks.v1+cell": {
          "cellMetadata": {
            "byteLimit": 2048000,
            "rowLimit": 10000
          },
          "inputWidgets": {},
          "nuid": "fdb2fda9-2cda-4a44-bfd3-5af87d0701f0",
          "showTitle": false,
          "tableResultSettingsMap": {},
          "title": ""
        },
        "id": "dkjaCDSlEd44",
        "outputId": "7839adc1-39f3-4441-fa49-f0836c4b3493"
      },
      "outputs": [
        {
          "output_type": "display_data",
          "data": {
            "text/plain": [
              ""
            ]
          },
          "metadata": {
            "application/vnd.databricks.v1+output": {
              "arguments": {},
              "data": "",
              "errorSummary": "Command skipped",
              "errorTraceType": "ansi",
              "metadata": {},
              "type": "ipynbError"
            }
          }
        }
      ],
      "source": [
        "# Verificar as colunas contidas na coluna 'features'\n",
        "test_df_modificado.select('features').show(1, truncate=False)\n",
        "\n",
        "# Verificar as colunas contidas na coluna 'scaled_features'\n",
        "test_df_modificado.select('scaled_features').show(1, truncate=False)\n"
      ]
    },
    {
      "cell_type": "code",
      "execution_count": null,
      "metadata": {
        "application/vnd.databricks.v1+cell": {
          "cellMetadata": {
            "byteLimit": 2048000,
            "rowLimit": 10000
          },
          "inputWidgets": {},
          "nuid": "2634be52-f7db-4e00-93bb-28c83729c3fa",
          "showTitle": false,
          "tableResultSettingsMap": {},
          "title": ""
        },
        "id": "BsBiakSHEd44",
        "outputId": "98e2b3c8-78a2-4357-cbc6-5b5be6d2ebfa"
      },
      "outputs": [
        {
          "output_type": "display_data",
          "data": {
            "text/plain": [
              ""
            ]
          },
          "metadata": {
            "application/vnd.databricks.v1+output": {
              "arguments": {},
              "data": "",
              "errorSummary": "Command skipped",
              "errorTraceType": "ansi",
              "metadata": {},
              "type": "ipynbError"
            }
          }
        }
      ],
      "source": [
        "# Selecionar e exibir os estados únicos na coluna 'customer_state' no DataFrame 'customers'\n",
        "customers.select('customer_state').distinct().show()\n"
      ]
    },
    {
      "cell_type": "code",
      "execution_count": null,
      "metadata": {
        "application/vnd.databricks.v1+cell": {
          "cellMetadata": {
            "byteLimit": 2048000,
            "rowLimit": 10000
          },
          "inputWidgets": {},
          "nuid": "904f5a15-7f77-4442-b8e7-db38ad55094b",
          "showTitle": false,
          "tableResultSettingsMap": {},
          "title": ""
        },
        "id": "pBZ8CeH9Ed45",
        "outputId": "6b9c9788-cc67-4599-bd73-8eef1a637006"
      },
      "outputs": [
        {
          "output_type": "display_data",
          "data": {
            "text/plain": [
              ""
            ]
          },
          "metadata": {
            "application/vnd.databricks.v1+output": {
              "arguments": {},
              "data": "",
              "errorSummary": "Command skipped",
              "errorTraceType": "ansi",
              "metadata": {},
              "type": "ipynbError"
            }
          }
        }
      ],
      "source": [
        "# Verificar os índices únicos na coluna 'customer_state_index'\n",
        "estado_indices = test_df_modificado.select('customer_state_index').distinct().collect()\n",
        "\n",
        "# Exibir os índices únicos\n",
        "print(\"Índices únicos na coluna 'customer_state_index':\")\n",
        "for row in estado_indices:\n",
        "    print(row['customer_state_index'])"
      ]
    },
    {
      "cell_type": "code",
      "execution_count": null,
      "metadata": {
        "application/vnd.databricks.v1+cell": {
          "cellMetadata": {
            "byteLimit": 2048000,
            "rowLimit": 10000
          },
          "inputWidgets": {},
          "nuid": "ec7dc717-c09a-467d-ac65-44eee59de5df",
          "showTitle": false,
          "tableResultSettingsMap": {},
          "title": ""
        },
        "id": "AiRWrAXxEd45",
        "outputId": "47a95da9-91bb-46d1-b265-4b7e2808be32"
      },
      "outputs": [
        {
          "output_type": "display_data",
          "data": {
            "text/plain": [
              ""
            ]
          },
          "metadata": {
            "application/vnd.databricks.v1+output": {
              "arguments": {},
              "data": "",
              "errorSummary": "Command skipped",
              "errorTraceType": "ansi",
              "metadata": {},
              "type": "ipynbError"
            }
          }
        }
      ],
      "source": [
        "# Mostrar o esquema do DataFrame test_df_modificado\n",
        "test_df_modificado.printSchema()\n",
        "\n"
      ]
    },
    {
      "cell_type": "code",
      "execution_count": null,
      "metadata": {
        "application/vnd.databricks.v1+cell": {
          "cellMetadata": {
            "byteLimit": 2048000,
            "rowLimit": 10000
          },
          "inputWidgets": {},
          "nuid": "7b3f3220-4159-48ec-b77c-8e78597a5ef8",
          "showTitle": false,
          "tableResultSettingsMap": {},
          "title": ""
        },
        "id": "tnkh1eg2Ed45",
        "outputId": "0dada7a1-3116-4ba6-ea3a-862ae2f8a780"
      },
      "outputs": [
        {
          "output_type": "display_data",
          "data": {
            "text/plain": [
              ""
            ]
          },
          "metadata": {
            "application/vnd.databricks.v1+output": {
              "arguments": {},
              "data": "",
              "errorSummary": "Command skipped",
              "errorTraceType": "ansi",
              "metadata": {},
              "type": "ipynbError"
            }
          }
        }
      ],
      "source": [
        "# Ajustar o StringIndexer na coluna 'customer_state'\n",
        "indexer = StringIndexer(inputCol=\"customer_state\", outputCol=\"customer_state_index\")\n",
        "model = indexer.fit(test_df_modificado)\n",
        "\n",
        "# Transformar o DataFrame para adicionar a coluna 'customer_state_index'\n",
        "df_original_indexed = model.transform(test_df_modificado)\n",
        "\n",
        "# Exibir os mapeamentos de estados para índices\n",
        "df_original_indexed.show()\n",
        "\n",
        "# Criar o mapeamento de estados para índices\n",
        "mapping = dict(zip(model.labels, range(len(model.labels))))\n",
        "print(mapping)\n",
        "\n",
        "# Consultar os índices correspondentes para BA e RJ\n",
        "indice_ba = mapping.get('BA')\n",
        "indice_rj = mapping.get('RJ')\n",
        "print(f'Índice para BA: {indice_ba}')\n",
        "print(f'Índice para RJ: {indice_rj}')\n"
      ]
    },
    {
      "cell_type": "code",
      "execution_count": null,
      "metadata": {
        "application/vnd.databricks.v1+cell": {
          "cellMetadata": {
            "byteLimit": 2048000,
            "rowLimit": 10000
          },
          "inputWidgets": {},
          "nuid": "1e40c0da-5266-4f29-85ee-519f30486006",
          "showTitle": false,
          "tableResultSettingsMap": {},
          "title": ""
        },
        "id": "pgbt1vvxEd45",
        "outputId": "620e6e4b-8e89-4611-f371-f750a6dcb51b"
      },
      "outputs": [
        {
          "output_type": "display_data",
          "data": {
            "text/plain": [
              ""
            ]
          },
          "metadata": {
            "application/vnd.databricks.v1+output": {
              "arguments": {},
              "data": "",
              "errorSummary": "Command skipped",
              "errorTraceType": "ansi",
              "metadata": {},
              "type": "ipynbError"
            }
          }
        }
      ],
      "source": [
        "from pyspark.sql.functions import lit, when\n",
        "\n",
        "# Calcular a média dos review_scores antes das modificações\n",
        "media_antes = test_df.select(avg('target')).first()[0]aaaaaaaaaaaaaaaaaaaaaaaaaa\n",
        "print(f'Média dos review_scores antes das modificações: {media_antes}')\n",
        "\n",
        "# Aplicar novas modificações sugeridas\n",
        "test_df_modificado = test_df_modificado.withColumn('payment_installments', col('payment_installments') + 2)\n",
        "test_df_modificado = test_df_modificado.withColumn('payment_value', col('payment_value') * 0.95)\n",
        "test_df_modificado = test_df_modificado.withColumn('price', when(col('order_purchase_month').isin([5, 6]), col('price') * 1.0).otherwise(col('price')))\n",
        "test_df_modificado = test_df_modificado.withColumn('tracking_info_available', lit(1))\n",
        "test_df_modificado = test_df_modificado.withColumn('loyalty_program', when(col('customer_state_index') < 4, 1).otherwise(0))\n",
        "test_df_modificado = test_df_modificado.withColumn('extended_warranty', lit(1))\n",
        "test_df_modificado = test_df_modificado.withColumn('easy_return', lit(1))\n",
        "\n",
        "# Fazer previsões com o modelo ajustado\n",
        "previsoes_modificado = melhor_modelo.transform(test_df_modificado)\n",
        "\n",
        "# Calcular a média dos review_scores depois das modificações\n",
        "media_depois = previsoes_modificado.select(avg('prediction')).first()[0]\n",
        "print(f'Média dos review_scores depois das modificações: {media_depois}')\n"
      ]
    },
    {
      "cell_type": "code",
      "execution_count": null,
      "metadata": {
        "application/vnd.databricks.v1+cell": {
          "cellMetadata": {
            "byteLimit": 2048000,
            "rowLimit": 10000
          },
          "inputWidgets": {},
          "nuid": "3a7b3acb-0135-4822-a2f3-81faceefb5d3",
          "showTitle": false,
          "tableResultSettingsMap": {},
          "title": ""
        },
        "id": "VQhwDdfHEd45",
        "outputId": "1389a57b-d430-4cdc-c243-e7280ff43b20"
      },
      "outputs": [
        {
          "output_type": "display_data",
          "data": {
            "text/plain": [
              ""
            ]
          },
          "metadata": {
            "application/vnd.databricks.v1+output": {
              "arguments": {},
              "data": "",
              "errorSummary": "Command skipped",
              "errorTraceType": "ansi",
              "metadata": {},
              "type": "ipynbError"
            }
          }
        }
      ],
      "source": [
        "from pyspark.sql.functions import col, lit, when, avg\n",
        "\n",
        "# Calcular a média dos review_scores antes das modificações\n",
        "media_antes = test_df.select(avg('target')).first()[0]aaaaaaaaaaaaaa\n",
        "print(f'Média dos review_scores antes das modificações: {media_antes}')\n",
        "\n",
        "# Aplicar novas modificações sugeridas\n",
        "test_df_modificado = test_df.withColumn('payment_value', col('payment_value') * 0.95)\n",
        "test_df_modificado = test_df_modificado.withColumn('price', when(col('order_purchase_month').isin([5, 6]), col('price') * 1.0).otherwise(col('price')))\n",
        "test_df_modificado = test_df_modificado.withColumn('tracking_info_available', lit(1))\n",
        "test_df_modificado = test_df_modificado.withColumn('loyalty_program', when(col('customer_state_index').isin([1, 2]), 1).otherwise(0))\n",
        "test_df_modificado = test_df_modificado.withColumn('extended_warranty', lit(1))\n",
        "# test_df_modificado = test_df_modificado.withColumn('easy_return', lit(1))\n",
        "\n",
        "# Ajustar o número de parcelas com base nas observações\n",
        "test_df_modificado = test_df_modificado.withColumn('payment_installments', when(col('payment_installments') > 6, col('payment_installments') - 2).otherwise(col('payment_installments')))\n",
        "\n",
        "# Adicionar ajustes baseados nas segmentações\n",
        "test_df_modificado = test_df_modificado.withColumn('price', when(col('segmentacao_necessidade_index') == 1, col('price') * 1.10).otherwise(col('price')))\n",
        "test_df_modificado = test_df_modificado.withColumn('price', when(col('segmentacao_sentimento_index') == 2, col('price') * 0.90).otherwise(col('price')))\n",
        "test_df_modificado = test_df_modificado.withColumn('price', when(col('segmentacao_tipo_index') == 3, col('price') * 1.15).otherwise(col('price')))\n",
        "test_df_modificado = test_df_modificado.withColumn('price', when(col('segmentacao_validade_index') == 4, col('price') * 0.95).otherwise(col('price')))\n",
        "\n",
        "# Fazer previsões com o modelo ajustado\n",
        "previsoes_modificado = melhor_modelo.transform(test_df_modificado)\n",
        "\n",
        "# Calcular a média dos review_scores depois das modificações\n",
        "media_depois = previsoes_modificado.select(avg('prediction')).first()[0]\n",
        "print(f'Média dos review_scores depois das modificações: {media_depois}')\n"
      ]
    }
  ],
  "metadata": {
    "application/vnd.databricks.v1+notebook": {
      "computePreferences": null,
      "dashboards": [
        {
          "elements": [
            {
              "dashboardResultIndex": 0,
              "elementNUID": "cca727c0-a751-47d6-b895-aece4d65089a",
              "elementType": "command",
              "guid": "7766391e-537f-46ed-bc26-d2d29d07b8f4",
              "options": null,
              "position": {
                "height": 6,
                "width": 22,
                "x": 0,
                "y": 5,
                "z": null
              },
              "resultIndex": null
            },
            {
              "dashboardResultIndex": 0,
              "elementNUID": "89f35aed-c7b0-47eb-bdc9-e703c41fd35f",
              "elementType": "command",
              "guid": "9150fac0-97d0-44a1-8c5a-7d4459c4c368",
              "options": null,
              "position": {
                "height": 5,
                "width": 17,
                "x": 0,
                "y": 0,
                "z": null
              },
              "resultIndex": null
            }
          ],
          "globalVars": {},
          "guid": "",
          "layoutOption": {
            "grid": true,
            "stack": true
          },
          "nuid": "2d7c5df8-75a8-4c8b-81bd-256ffb0c0956",
          "origId": 3336233383555769,
          "title": "E-commerce",
          "version": "DashboardViewV1",
          "width": 1024
        },
        {
          "elements": [
            {
              "dashboardResultIndex": 0,
              "elementNUID": "89f35aed-c7b0-47eb-bdc9-e703c41fd35f",
              "elementType": "command",
              "guid": "19bc9156-8865-4af3-991d-4704bf7aaaf9",
              "options": null,
              "position": {
                "height": 6,
                "width": 12,
                "x": 0,
                "y": 54,
                "z": null
              },
              "resultIndex": null
            }
          ],
          "globalVars": {},
          "guid": "",
          "layoutOption": {
            "grid": true,
            "stack": true
          },
          "nuid": "ae309597-f2e2-45ca-93ae-80b4ceb64182",
          "origId": 4313604493999701,
          "title": "Untitled",
          "version": "DashboardViewV1",
          "width": 1024
        }
      ],
      "environmentMetadata": null,
      "language": "python",
      "notebookMetadata": {
        "mostRecentlyExecutedCommandWithImplicitDF": {
          "commandId": -1,
          "dataframes": [
            "_sqldf"
          ]
        },
        "pythonIndentUnit": 4
      },
      "notebookName": "AnaliseAnalise 2024-12-15 22:25:59",
      "widgets": {}
    },
    "colab": {
      "provenance": [],
      "include_colab_link": true
    }
  },
  "nbformat": 4,
  "nbformat_minor": 0
}