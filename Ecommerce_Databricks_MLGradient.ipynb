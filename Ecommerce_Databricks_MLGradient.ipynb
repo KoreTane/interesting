{
  "cells": [
    {
      "cell_type": "markdown",
      "metadata": {
        "id": "view-in-github",
        "colab_type": "text"
      },
      "source": [
        "<a href=\"https://colab.research.google.com/github/KoreTane/interesting/blob/main/Ecommerce_Databricks_MLGradient.ipynb\" target=\"_parent\"><img src=\"https://colab.research.google.com/assets/colab-badge.svg\" alt=\"Open In Colab\"/></a>"
      ]
    },
    {
      "cell_type": "code",
      "source": [
        "!pip install pyspark"
      ],
      "metadata": {
        "id": "djNr6IrbWclL"
      },
      "execution_count": null,
      "outputs": []
    },
    {
      "cell_type": "code",
      "execution_count": null,
      "metadata": {
        "application/vnd.databricks.v1+cell": {
          "cellMetadata": {
            "byteLimit": 2048000,
            "rowLimit": 10000
          },
          "inputWidgets": {},
          "nuid": "f2bba273-bc53-4e42-a2d8-1ecf3193bc3e",
          "showTitle": false,
          "tableResultSettingsMap": {},
          "title": ""
        },
        "id": "JWbwNp5KcGjT"
      },
      "outputs": [],
      "source": [
        "from pyspark.sql.functions import *\n",
        "from pyspark.sql.types import *\n",
        "import matplotlib.pyplot as plt\n",
        "from pyspark.sql import functions as F\n",
        "import seaborn as sns\n",
        "import pyspark.pandas as ps\n",
        "import os\n",
        "from pyspark.sql import SparkSession\n",
        "from pyspark.ml.feature import OneHotEncoder, StringIndexer\n",
        "from pyspark.ml import Pipeline\n",
        "from pyspark.ml.feature import StringIndexer, VectorAssembler, MinMaxScaler, StandardScaler\n",
        "from pyspark.ml.stat import Correlation\n",
        "from pyspark.ml.regression import LinearRegression, DecisionTreeRegressor, RandomForestRegressor, GBTRegressor\n",
        "from pyspark.ml.evaluation import RegressionEvaluator\n",
        "from pyspark.ml.tuning import ParamGridBuilder, CrossValidator\n",
        "\n",
        "order_reviews = spark.read.option(\"header\", \"true\").csv(\"order_reviews.csv\")\n",
        "product_category_name_translation = spark.read.option(\"header\", \"true\").csv(\"product_category_name_translation.csv\")\n",
        "orders = spark.read.option(\"header\", \"true\").csv(\"orders.csv\")\n",
        "sellers = spark.read.option(\"header\", \"true\").csv(\"sellers.csv\")\n",
        "products = spark.read.option(\"header\", \"true\").csv(\"products.csv\")\n",
        "customers = spark.read.option(\"header\", \"true\").csv(\"customers.csv\")\n",
        "order_items = spark.read.option(\"header\", \"true\").csv(\"order_items.csv\")\n",
        "order_payments = spark.read.option(\"header\", \"true\").csv(\"order_payments.csv\")\n",
        "geolocation = spark.read.option(\"header\", \"true\").csv(\"geolocation.csv\")\n",
        "\n",
        "#display(order_reviews)\n",
        "#display(product_category_name_translation)\n",
        "#display(orders)\n",
        "#display(sellers)\n",
        "#display(products)\n",
        "#display(customers)\n",
        "#display(order_items)\n",
        "#display(order_payments)\n",
        "#display(geolocation)\n",
        "# Definir o esquema do DataFrame para orders"
      ]
    },
    {
      "cell_type": "code",
      "execution_count": null,
      "metadata": {
        "application/vnd.databricks.v1+cell": {
          "cellMetadata": {
            "byteLimit": 2048000,
            "rowLimit": 10000
          },
          "inputWidgets": {},
          "nuid": "399061fd-ae4a-4375-9df6-b627946fa55a",
          "showTitle": false,
          "tableResultSettingsMap": {},
          "title": ""
        },
        "id": "Fqbt2y9zcGjY",
        "outputId": "63e28076-c00e-4685-9894-31aa348d8cb1"
      },
      "outputs": [
        {
          "output_type": "stream",
          "name": "stdout",
          "text": [
            "root\n |-- review_id: string (nullable = true)\n |-- order_id: string (nullable = true)\n |-- review_score: string (nullable = true)\n |-- review_comment_title: string (nullable = true)\n |-- review_comment_message: string (nullable = true)\n |-- review_creation_date: string (nullable = true)\n |-- review_answer_timestamp: string (nullable = true)\n\nroot\n |-- product_category_name: string (nullable = true)\n |-- product_category_name_english: string (nullable = true)\n\nroot\n |-- order_id: string (nullable = true)\n |-- customer_id: string (nullable = true)\n |-- order_status: string (nullable = true)\n |-- order_purchase_timestamp: timestamp (nullable = true)\n |-- order_approved_at: timestamp (nullable = true)\n |-- order_delivered_carrier_date: timestamp (nullable = true)\n |-- order_delivered_customer_date: timestamp (nullable = true)\n |-- order_estimated_delivery_date: timestamp (nullable = true)\n\nroot\n |-- seller_id: string (nullable = true)\n |-- seller_zip_code_prefix: integer (nullable = true)\n |-- seller_city: string (nullable = true)\n |-- seller_state: string (nullable = true)\n\nroot\n |-- product_id: string (nullable = true)\n |-- product_category_name: string (nullable = true)\n |-- product_name_lenght: integer (nullable = true)\n |-- product_description_lenght: integer (nullable = true)\n |-- product_photos_qty: integer (nullable = true)\n |-- product_weight_g: integer (nullable = true)\n |-- product_length_cm: integer (nullable = true)\n |-- product_height_cm: integer (nullable = true)\n |-- product_width_cm: integer (nullable = true)\n\nroot\n |-- customer_id: string (nullable = true)\n |-- customer_unique_id: string (nullable = true)\n |-- customer_zip_code_prefix: integer (nullable = true)\n |-- customer_city: string (nullable = true)\n |-- customer_state: string (nullable = true)\n\nroot\n |-- order_id: string (nullable = true)\n |-- order_item_id: integer (nullable = true)\n |-- product_id: string (nullable = true)\n |-- seller_id: string (nullable = true)\n |-- shipping_limit_date: timestamp (nullable = true)\n |-- price: double (nullable = true)\n |-- freight_value: double (nullable = true)\n\nroot\n |-- order_id: string (nullable = true)\n |-- payment_sequential: integer (nullable = true)\n |-- payment_type: string (nullable = true)\n |-- payment_installments: integer (nullable = true)\n |-- payment_value: double (nullable = true)\n\nroot\n |-- geolocation_zip_code_prefix: integer (nullable = true)\n |-- geolocation_lat: double (nullable = true)\n |-- geolocation_lng: double (nullable = true)\n |-- geolocation_city: string (nullable = true)\n |-- geolocation_state: string (nullable = true)\n\n"
          ]
        }
      ],
      "source": [
        "order_reviews.printSchema()\n",
        "product_category_name_translation.printSchema()\n",
        "orders.printSchema()\n",
        "sellers.printSchema()\n",
        "products.printSchema()\n",
        "customers.printSchema()\n",
        "order_items.printSchema()\n",
        "order_payments.printSchema()\n",
        "geolocation.printSchema()"
      ]
    },
    {
      "cell_type": "code",
      "execution_count": null,
      "metadata": {
        "application/vnd.databricks.v1+cell": {
          "cellMetadata": {
            "byteLimit": 2048000,
            "rowLimit": 10000
          },
          "inputWidgets": {},
          "nuid": "f82df5d4-c39e-4cbe-97f6-fe6ad2233132",
          "showTitle": false,
          "tableResultSettingsMap": {},
          "title": ""
        },
        "id": "nVCRbpJCcGjY",
        "outputId": "876b8787-7842-4597-9621-494c4ae3f395"
      },
      "outputs": [
        {
          "output_type": "stream",
          "name": "stdout",
          "text": [
            "Descriptive Statistics for Order Reviews:\n+-------+------------------+-----------------------------------------+---------------------+--------------------+----------------------+------------------------------------------------------------------+-----------------------------------------------+\n|summary|review_id         |order_id                                 |review_score         |review_comment_title|review_comment_message|review_creation_date                                              |review_answer_timestamp                        |\n+-------+------------------+-----------------------------------------+---------------------+--------------------+----------------------+------------------------------------------------------------------+-----------------------------------------------+\n|count  |104161            |101926                                   |101782               |12005               |41083                 |95398                                                             |95377                                          |\n|mean   |4.5               |0.0                                      |4.087204087597126    |3.165434995880696E10|8.172413793103448     |null                                                              |null                                           |\n|stddev |0.7071067811865476|0.0                                      |1.3750046423971858   |5.625434750908947E11|3.1175650470615843    |null                                                              |null                                           |\n|min    | \"                |                                         | \"                   |                    |\\n                    | FOI A MINHA PRIMEIRA COMPRA E NÃO RECOMENDO                      | POIS NÃO CUMPREM PARA DE ENTREGA ESTABELECIDO.|\n|max    |🤙🏼👏🏼👏🏼\"     |visando sempre o melhor para os clientes!|seria mais coerente.\"|🔟                  |😡😡😡😡😡👎👎👎👎👎\\n|veio bem embalada oque indica que foi embalada ja quebrada.triste\"|70 + R$15                                      |\n+-------+------------------+-----------------------------------------+---------------------+--------------------+----------------------+------------------------------------------------------------------+-----------------------------------------------+\n\nDescriptive Statistics for Product Category Name Translation:\n+-------+-------------------------+-----------------------------+\n|summary|product_category_name    |product_category_name_english|\n+-------+-------------------------+-----------------------------+\n|count  |71                       |71                           |\n|mean   |null                     |null                         |\n|stddev |null                     |null                         |\n|min    |agro_industria_e_comercio|agro_industry_and_commerce   |\n|max    |utilidades_domesticas    |watches_gifts                |\n+-------+-------------------------+-----------------------------+\n\nDescriptive Statistics for Orders:\n+-------+--------------------------------+--------------------------------+------------+\n|summary|order_id                        |customer_id                     |order_status|\n+-------+--------------------------------+--------------------------------+------------+\n|count  |99441                           |99441                           |99441       |\n|mean   |null                            |null                            |null        |\n|stddev |null                            |null                            |null        |\n|min    |00010242fe8c5a6d1ba2dd792cb16214|00012a2ce6f8dcda20d059ce98491703|approved    |\n|max    |fffe41c64501cc87c801fd61db3f6244|ffffe8b65bbe3087b653a978c870db99|unavailable |\n+-------+--------------------------------+--------------------------------+------------+\n\nDescriptive Statistics for Sellers:\n+-------+--------------------------------+----------------------+-----------+------------+\n|summary|seller_id                       |seller_zip_code_prefix|seller_city|seller_state|\n+-------+--------------------------------+----------------------+-----------+------------+\n|count  |3095                            |3095                  |3095       |3095        |\n|mean   |null                            |32291.059450726978    |4482255.0  |null        |\n|stddev |null                            |32713.45382950901     |null       |null        |\n|min    |0015a82c2db000af6aaaf3ae2ecb0532|1001                  |04482255   |AC          |\n|max    |ffff564a4f9085cd26170f4732393726|99730                 |xaxim      |SP          |\n+-------+--------------------------------+----------------------+-----------+------------+\n\nDescriptive Statistics for Products:\n+-------+--------------------------------+-------------------------+-------------------+--------------------------+------------------+------------------+------------------+------------------+------------------+\n|summary|product_id                      |product_category_name    |product_name_lenght|product_description_lenght|product_photos_qty|product_weight_g  |product_length_cm |product_height_cm |product_width_cm  |\n+-------+--------------------------------+-------------------------+-------------------+--------------------------+------------------+------------------+------------------+------------------+------------------+\n|count  |32951                           |32341                    |32341              |32341                     |32341             |32949             |32949             |32949             |32949             |\n|mean   |null                            |null                     |48.47694876472589  |771.4952846232337         |2.1889861166939797|2276.4724877841513|30.81507784758263 |16.937661234028347|23.196728277034204|\n|stddev |null                            |null                     |10.245740725237287 |635.1152246349538         |1.7367656379315435|4282.038730977024 |16.914458054065953|13.637554061749569|12.079047453227794|\n|min    |00066f42aeeb9f3007548bb9d3f33c38|agro_industria_e_comercio|5                  |4                         |1                 |0                 |7                 |2                 |6                 |\n|max    |fffe9eeff12fcbd74a2f2b007dde0c58|utilidades_domesticas    |76                 |3992                      |20                |40425             |105               |105               |118               |\n+-------+--------------------------------+-------------------------+-------------------+--------------------------+------------------+------------------+------------------+------------------+------------------+\n\nDescriptive Statistics for Customers:\n+-------+--------------------------------+--------------------------------+------------------------+-------------------+--------------+\n|summary|customer_id                     |customer_unique_id              |customer_zip_code_prefix|customer_city      |customer_state|\n+-------+--------------------------------+--------------------------------+------------------------+-------------------+--------------+\n|count  |99441                           |99441                           |99441                   |99441              |99441         |\n|mean   |null                            |null                            |35137.47458291851       |null               |null          |\n|stddev |null                            |null                            |29797.93899620613       |null               |null          |\n|min    |00012a2ce6f8dcda20d059ce98491703|0000366f3b9a7992bf8c76cfdf3221e2|1003                    |abadia dos dourados|AC            |\n|max    |ffffe8b65bbe3087b653a978c870db99|ffffd2657e2aad2907e67c3e9daecbeb|99990                   |zortea             |TO            |\n+-------+--------------------------------+--------------------------------+------------------------+-------------------+--------------+\n\nDescriptive Statistics for Order Items:\n+-------+--------------------------------+------------------+--------------------------------+--------------------------------+------------------+------------------+\n|summary|order_id                        |order_item_id     |product_id                      |seller_id                       |price             |freight_value     |\n+-------+--------------------------------+------------------+--------------------------------+--------------------------------+------------------+------------------+\n|count  |112650                          |112650            |112650                          |112650                          |112650            |112650            |\n|mean   |null                            |1.1978339991122948|null                            |null                            |120.65373901464174|19.990319928982977|\n|stddev |null                            |0.7051240313951721|null                            |null                            |183.6339280502595 |15.806405412297098|\n|min    |00010242fe8c5a6d1ba2dd792cb16214|1                 |00066f42aeeb9f3007548bb9d3f33c38|0015a82c2db000af6aaaf3ae2ecb0532|0.85              |0.0               |\n|max    |fffe41c64501cc87c801fd61db3f6244|21                |fffe9eeff12fcbd74a2f2b007dde0c58|ffff564a4f9085cd26170f4732393726|6735.0            |409.68            |\n+-------+--------------------------------+------------------+--------------------------------+--------------------------------+------------------+------------------+\n\nDescriptive Statistics for Order Payments:\n+-------+--------------------------------+------------------+------------+--------------------+------------------+\n|summary|order_id                        |payment_sequential|payment_type|payment_installments|payment_value     |\n+-------+--------------------------------+------------------+------------+--------------------+------------------+\n|count  |103886                          |103886            |103886      |103886              |103886            |\n|mean   |null                            |1.0926785129853878|null        |2.853348863176944   |154.10038041698792|\n|stddev |null                            |0.7065837791949958|null        |2.687050673856492   |217.494063864724  |\n|min    |00010242fe8c5a6d1ba2dd792cb16214|1                 |boleto      |0                   |0.0               |\n|max    |fffe41c64501cc87c801fd61db3f6244|29                |voucher     |24                  |13664.08          |\n+-------+--------------------------------+------------------+------------+--------------------+------------------+\n\nDescriptive Statistics for Geolocation:\n+-------+---------------------------+-------------------+-------------------+----------------+-----------------+\n|summary|geolocation_zip_code_prefix|geolocation_lat    |geolocation_lng    |geolocation_city|geolocation_state|\n+-------+---------------------------+-------------------+-------------------+----------------+-----------------+\n|count  |1000163                    |1000163            |1000163            |1000163         |1000163          |\n|mean   |36574.16646586607          |-21.176152910383912|-46.39054132093581 |null            |null             |\n|stddev |30549.335710319807         |5.715866308822884  |4.269748306619736  |null            |null             |\n|min    |1001                       |-36.6053744107061  |-101.46676644931476|* cidade        |AC               |\n|max    |99990                      |45.06593318269697  |121.10539381057764 |óleo            |TO               |\n+-------+---------------------------+-------------------+-------------------+----------------+-----------------+\n\n"
          ]
        }
      ],
      "source": [
        "dataframes = {\n",
        "    \"Order Reviews\": order_reviews,\n",
        "    \"Product Category Name Translation\": product_category_name_translation,\n",
        "    \"Orders\": orders,\n",
        "    \"Sellers\": sellers,\n",
        "    \"Products\": products,\n",
        "    \"Customers\": customers,\n",
        "    \"Order Items\": order_items,\n",
        "    \"Order Payments\": order_payments,\n",
        "    \"Geolocation\": geolocation\n",
        "}\n",
        "\n",
        "for name, df3 in dataframes.items():\n",
        "    print(f\"Descriptive Statistics for {name}:\")\n",
        "    df3.describe().show(truncate=False)"
      ]
    },
    {
      "cell_type": "code",
      "execution_count": null,
      "metadata": {
        "application/vnd.databricks.v1+cell": {
          "cellMetadata": {
            "byteLimit": 2048000,
            "rowLimit": 10000
          },
          "inputWidgets": {},
          "nuid": "d1d966ee-23c2-4a31-9223-7b68b23ed7a4",
          "showTitle": false,
          "tableResultSettingsMap": {},
          "title": ""
        },
        "id": "CkC00F08cGjZ"
      },
      "outputs": [],
      "source": [
        "# engenharia de recursos em orders\n",
        "\n",
        "orders = orders.withColumn('order_purchase_timestamp', col('order_purchase_timestamp').cast('timestamp'))\n",
        "orders = orders.withColumn('order_approved_at', col('order_approved_at').cast('timestamp'))\n",
        "orders = orders.withColumn('order_delivered_carrier_date', col('order_delivered_carrier_date').cast('timestamp'))\n",
        "orders = orders.withColumn('order_delivered_customer_date', col('order_delivered_customer_date').cast('timestamp'))\n",
        "orders = orders.withColumn('order_estimated_delivery_date', col('order_estimated_delivery_date').cast('timestamp'))\n",
        "\n",
        "# Calcular durações e criar novas colunas\n",
        "orders = orders.withColumn('days_to_approval', datediff(col('order_approved_at'), col('order_purchase_timestamp')))\n",
        "orders = orders.withColumn('days_to_carrier', datediff(col('order_delivered_carrier_date'), col('order_purchase_timestamp')))\n",
        "orders = orders.withColumn('days_to_delivery', datediff(col('order_delivered_customer_date'), col('order_purchase_timestamp')))\n",
        "orders = orders.withColumn('days_estimated_vs_actual_delivery', datediff(col('order_delivered_customer_date'), col('order_estimated_delivery_date')))\n",
        "\n",
        "orders = orders.withColumn('order_approved_at', col('order_approved_at').cast('timestamp'))\n",
        "order_items = order_items.withColumn('shipping_limit_date', col('shipping_limit_date').cast('timestamp'))\n",
        "\n",
        "joined_df2 = order_items.join(orders, on='order_id')\n",
        "\n",
        "# Calcular a diferença em dias entre shipping_limit_date e order_approved_at\n",
        "joined_df2 = joined_df2.withColumn('days_to_shipping_limit', datediff(col('shipping_limit_date'), col('order_approved_at')))\n",
        "\n",
        "order_items = joined_df2.select('order_id', 'order_item_id', 'product_id', 'seller_id',\n",
        "                                        'shipping_limit_date', 'price', 'freight_value',\n",
        "                                        'days_to_shipping_limit')\n"
      ]
    },
    {
      "cell_type": "code",
      "execution_count": null,
      "metadata": {
        "application/vnd.databricks.v1+cell": {
          "cellMetadata": {
            "byteLimit": 2048000,
            "rowLimit": 10000
          },
          "inputWidgets": {},
          "nuid": "5796d666-5bd2-411e-8cb5-0e9b67c2d6a5",
          "showTitle": false,
          "tableResultSettingsMap": {},
          "title": ""
        },
        "id": "L-VpEx0ccGjZ",
        "outputId": "8cb74a44-970a-4b0a-ece2-f9731f2f7b1c"
      },
      "outputs": [
        {
          "output_type": "stream",
          "name": "stdout",
          "text": [
            "Out[6]: DataFrame[summary: string, product_id: string, product_category_name: string, product_name_lenght: string, product_description_lenght: string, product_photos_qty: string, product_weight_g: string, product_length_cm: string, product_height_cm: string, product_width_cm: string]"
          ]
        }
      ],
      "source": [
        "products.describe()"
      ]
    },
    {
      "cell_type": "code",
      "execution_count": null,
      "metadata": {
        "application/vnd.databricks.v1+cell": {
          "cellMetadata": {
            "byteLimit": 2048000,
            "rowLimit": 10000
          },
          "inputWidgets": {},
          "nuid": "719fdf94-fb86-45ae-bbbd-37484e3cdf33",
          "showTitle": false,
          "tableResultSettingsMap": {},
          "title": ""
        },
        "id": "wyKW1rSVcGjZ",
        "outputId": "3deca61d-f821-4eeb-8797-d9176f2762fe"
      },
      "outputs": [
        {
          "output_type": "stream",
          "name": "stdout",
          "text": [
            "Análise da tabela: Order Reviews\nAnálise da tabela: Product Category Name Translation\nAnálise da tabela: Orders\nAnálise da tabela: Sellers\nAnálise da tabela: Products\nAnálise da tabela: Customers\nAnálise da tabela: Order Items\nAnálise da tabela: Order Payments\nAnálise da tabela: Geolocation\n"
          ]
        }
      ],
      "source": [
        "# Iterando sobre cada DataFrame para contar valores nulos e duplicados\n",
        "for table_name, df in dataframes.items():\n",
        "    print(f\"Análise da tabela: {table_name}\")\n",
        "\n",
        "\n",
        "    null_counts = {column: df.filter(col(column).isNull()).count() for column in df.columns}\n",
        "\n",
        "\n",
        "    duplicate_count = df.count() - df.distinct().count()\n",
        "\n"
      ]
    },
    {
      "cell_type": "code",
      "execution_count": null,
      "metadata": {
        "application/vnd.databricks.v1+cell": {
          "cellMetadata": {
            "byteLimit": 2048000,
            "implicitDf": true,
            "rowLimit": 10000
          },
          "inputWidgets": {},
          "nuid": "89f35aed-c7b0-47eb-bdc9-e703c41fd35f",
          "showTitle": false,
          "tableResultSettingsMap": {},
          "title": ""
        },
        "id": "G-ca_Ya1cGja",
        "outputId": "2df3dd69-9799-4df7-cc80-14dabb3cdf89"
      },
      "outputs": [
        {
          "output_type": "stream",
          "name": "stdout",
          "text": [
            "+------------+-------------+--------------+--------------------+\n|review_score|total_reviews|total_comments|total_comment_titles|\n+------------+-------------+--------------+--------------------+\n|           1|        11424|          8745|                1873|\n|           2|         3151|          2145|                 478|\n|           3|         8179|          3557|                 824|\n|           4|        19142|          5976|                1735|\n|           5|        57328|         20554|                6658|\n+------------+-------------+--------------+--------------------+\n\n"
          ]
        }
      ],
      "source": [
        "# Realizando a junção entre os Dfs orders e order_review e depois plotar quantas avaliações e comentarios em orders reviews\n",
        "result_df = order_reviews.alias(\"r\").join(\n",
        "    orders.alias(\"o\"),\n",
        "    on=\"order_id\",\n",
        "    how=\"inner\"\n",
        ").groupBy(\n",
        "    \"r.review_score\"\n",
        ").agg(\n",
        "    F.count(\"r.review_id\").alias(\"total_reviews\"),\n",
        "    F.count(\"r.review_comment_message\").alias(\"total_comments\"),\n",
        "    F.count(\"r.review_comment_title\").alias(\"total_comment_titles\")\n",
        ").orderBy(\n",
        "    \"r.review_score\"\n",
        ")\n",
        "\n",
        "result_df.show()"
      ]
    },
    {
      "cell_type": "code",
      "execution_count": null,
      "metadata": {
        "application/vnd.databricks.v1+cell": {
          "cellMetadata": {
            "byteLimit": 2048000,
            "rowLimit": 10000
          },
          "inputWidgets": {},
          "nuid": "71dd59c2-c7bf-4a64-b32e-49b8a584fd1e",
          "showTitle": false,
          "tableResultSettingsMap": {},
          "title": ""
        },
        "id": "stnvI6V0cGja"
      },
      "outputs": [],
      "source": [
        "# Definição da segmentação por Necessidade do Consumidor\n",
        "segmentacoes_necessidade = { \"beleza_saude\": \"Higiene Pessoal\", \"informatica_acessorios\": \"Tecnologia e Acessórios\", \"automotivo\": \"Automóveis e Ferramentas\", \"cama_mesa_banho\": \"Casa e Decoração\", \"moveis_decoracao\": \"Casa e Decoração\", \"esporte_lazer\": \"Esporte e Lazer\", \"perfumaria\": \"Higiene Pessoal\", \"utilidades_domesticas\": \"Casa e Decoração\", \"telefonia\": \"Tecnologia e Acessórios\", \"relogios_presentes\": \"Moda e Acessórios\", \"alimentos_bebidas\": \"Alimentação e Bebidas\", \"bebes\": \"Infantil\", \"papelaria\": \"Trabalho e Estudo\", \"tablets_impressao_imagem\": \"Tecnologia e Acessórios\", \"brinquedos\": \"Infantil\", \"telefonia_fixa\": \"Tecnologia e Acessórios\", \"ferramentas_jardim\": \"Automóveis e Ferramentas\", \"fashion_bolsas_e_acessorios\": \"Moda e Acessórios\", \"eletroportateis\": \"Casa e Decoração\", \"consoles_games\": \"Entretenimento\", \"audio\": \"Entretenimento\", \"fashion_calcados\": \"Moda e Acessórios\", \"cool_stuff\": \"Entretenimento\", \"malas_acessorios\": \"Moda e Acessórios\", \"climatizacao\": \"Casa e Decoração\", \"construcao_ferramentas_construcao\": \"Automóveis e Ferramentas\", \"moveis_cozinha_area_de_servico_jantar_e_jardim\": \"Casa e Decoração\", \"construcao_ferramentas_jardim\": \"Automóveis e Ferramentas\", \"fashion_roupa_masculina\": \"Moda e Acessórios\", \"pet_shop\": \"Animais de Estimação\", \"moveis_escritorio\": \"Casa e Decoração\", \"market_place\": \"Serviços e Outros\", \"eletronicos\": \"Tecnologia e Acessórios\", \"eletrodomesticos\": \"Casa e Decoração\", \"artigos_de_festas\": \"Entretenimento\", \"casa_conforto\": \"Casa e Decoração\", \"construcao_ferramentas_ferramentas\": \"Automóveis e Ferramentas\", \"agro_industria_e_comercio\": \"Automóveis e Ferramentas\", \"moveis_colchao_e_estofado\": \"Casa e Decoração\", \"livros_tecnicos\": \"Trabalho e Estudo\", \"casa_construcao\": \"Automóveis e Ferramentas\", \"instrumentos_musicais\": \"Entretenimento\", \"moveis_sala\": \"Casa e Decoração\", \"construcao_ferramentas_iluminacao\": \"Automóveis e Ferramentas\", \"industria_comercio_e_negocios\": \"Trabalho e Estudo\", \"alimentos\": \"Alimentação e Bebidas\", \"artes\": \"Entretenimento\", \"moveis_quarto\": \"Casa e Decoração\", \"livros_interesse_geral\": \"Entretenimento\", \"construcao_ferramentas_seguranca\": \"Automóveis e Ferramentas\", \"fashion_underwear_e_moda_praia\": \"Moda e Acessórios\", \"fashion_esporte\": \"Moda e Acessórios\", \"sinalizacao_e_seguranca\": \"Automóveis e Ferramentas\", \"pcs\": \"Tecnologia e Acessórios\", \"artigos_de_natal\": \"Entretenimento\", \"fashion_roupa_feminina\": \"Moda e Acessórios\", \"eletrodomesticos_2\": \"Casa e Decoração\", \"livros_importados\": \"Entretenimento\", \"bebidas\": \"Alimentação e Bebidas\", \"cine_foto\": \"Entretenimento\", \"la_cuisine\": \"Casa e Decoração\", \"musica\": \"Entretenimento\", \"casa_conforto_2\": \"Casa e Decoração\", \"portateis_casa_forno_e_cafe\": \"Casa e Decoração\", \"cds_dvds_musicais\": \"Entretenimento\", \"dvds_blu_ray\": \"Entretenimento\", \"flores\": \"Moda e Acessórios\", \"artes_e_artesanato\": \"Entretenimento\", \"fraldas_higiene\": \"Infantil\", \"fashion_roupa_infanto_juvenil\": \"Infantil\", \"seguros_e_servicos\": \"Serviços e Outros\" }\n",
        "\n",
        "# Criação de uma função UDF para mapear as segmentações\n",
        "def segmentacoe_necessidade(categoria):\n",
        "    return segmentacoes_necessidade.get(categoria, \"Necessidades\")\n",
        "\n",
        "segmentacoe_necessidade_udf = udf(segmentacoe_necessidade, StringType())\n",
        "\n",
        "# Adição da coluna de segmentação de sentimento ao DataFrame\n",
        "products = products.withColumn(\n",
        "    \"segmentacao_necessidade\",\n",
        "    segmentacoe_necessidade_udf(col(\"product_category_name\"))\n",
        ")"
      ]
    },
    {
      "cell_type": "code",
      "execution_count": null,
      "metadata": {
        "application/vnd.databricks.v1+cell": {
          "cellMetadata": {
            "byteLimit": 2048000,
            "rowLimit": 10000
          },
          "inputWidgets": {},
          "nuid": "3a12caf0-1ac7-47cb-a407-4bf57d78d8f1",
          "showTitle": false,
          "tableResultSettingsMap": {},
          "title": ""
        },
        "id": "zrVQvkB4cGjb"
      },
      "outputs": [],
      "source": [
        "# Definição da segmentação de sentimento\n",
        "segmentacoes = {\n",
        "    \"beleza_saude\": \"Satisfação Alta\",\n",
        "    \"informatica_acessorios\": \"Misto\",\n",
        "    \"automotivo\": \"Satisfação Alta\",\n",
        "    \"cama_mesa_banho\": \"Neutro\",\n",
        "    \"moveis_decoracao\": \"Satisfação Alta\",\n",
        "    \"esporte_lazer\": \"Satisfação Alta\",\n",
        "    \"perfumaria\": \"Satisfação Alta\",\n",
        "    \"utilidades_domesticas\": \"Neutro\",\n",
        "    \"telefonia\": \"Misto\",\n",
        "    \"relogios_presentes\": \"Satisfação Alta\",\n",
        "    \"alimentos_bebidas\": \"Satisfação Alta\",\n",
        "    \"bebes\": \"Satisfação Alta\",\n",
        "    \"papelaria\": \"Neutro\",\n",
        "    \"tablets_impressao_imagem\": \"Misto\",\n",
        "    \"brinquedos\": \"Satisfação Alta\",\n",
        "    \"telefonia_fixa\": \"Neutro\",\n",
        "    \"ferramentas_jardim\": \"Satisfação Alta\",\n",
        "    \"fashion_bolsas_e_acessorios\": \"Satisfação Alta\",\n",
        "    \"eletroportateis\": \"Neutro\",\n",
        "    \"consoles_games\": \"Satisfação Alta\",\n",
        "    \"audio\": \"Satisfação Alta\",\n",
        "    \"fashion_calcados\": \"Misto\",\n",
        "    \"cool_stuff\": \"Satisfação Alta\",\n",
        "    \"malas_acessorios\": \"Satisfação Alta\",\n",
        "    \"climatizacao\": \"Neutro\",\n",
        "    \"construcao_ferramentas_construcao\": \"Satisfação Alta\",\n",
        "    \"moveis_cozinha_area_de_servico_jantar_e_jardim\": \"Satisfação Alta\",\n",
        "    \"construcao_ferramentas_jardim\": \"Satisfação Alta\",\n",
        "    \"fashion_roupa_masculina\": \"Misto\",\n",
        "    \"pet_shop\": \"Satisfação Alta\",\n",
        "    \"moveis_escritorio\": \"Satisfação Alta\",\n",
        "    \"market_place\": \"Neutro\",\n",
        "    \"eletronicos\": \"Misto\",\n",
        "    \"eletrodomesticos\": \"Neutro\",\n",
        "    \"artigos_de_festas\": \"Satisfação Alta\",\n",
        "    \"casa_conforto\": \"Satisfação Alta\",\n",
        "    \"construcao_ferramentas_ferramentas\": \"Satisfação Alta\",\n",
        "    \"agro_industria_e_comercio\": \"Satisfação Alta\",\n",
        "    \"moveis_colchao_e_estofado\": \"Satisfação Alta\",\n",
        "    \"livros_tecnicos\": \"Misto\",\n",
        "    \"casa_construcao\": \"Satisfação Alta\",\n",
        "    \"instrumentos_musicais\": \"Satisfação Alta\",\n",
        "    \"moveis_sala\": \"Satisfação Alta\",\n",
        "    \"construcao_ferramentas_iluminacao\": \"Satisfação Alta\",\n",
        "    \"industria_comercio_e_negocios\": \"Satisfação Alta\",\n",
        "    \"alimentos\": \"Satisfação Alta\",\n",
        "    \"artes\": \"Satisfação Alta\",\n",
        "    \"moveis_quarto\": \"Satisfação Alta\",\n",
        "    \"livros_interesse_geral\": \"Misto\",\n",
        "    \"construcao_ferramentas_seguranca\": \"Satisfação Alta\",\n",
        "    \"fashion_underwear_e_moda_praia\": \"Satisfação Alta\",\n",
        "    \"fashion_esporte\": \"Satisfação Alta\",\n",
        "    \"sinalizacao_e_seguranca\": \"Neutro\",\n",
        "    \"pcs\": \"Neutro\",\n",
        "    \"artigos_de_natal\": \"Satisfação Alta\",\n",
        "    \"fashion_roupa_feminina\": \"Misto\",\n",
        "    \"eletrodomesticos_2\": \"Neutro\",\n",
        "    \"livros_importados\": \"Misto\",\n",
        "    \"bebidas\": \"Satisfação Alta\",\n",
        "    \"cine_foto\": \"Satisfação Alta\",\n",
        "    \"la_cuisine\": \"Satisfação Alta\",\n",
        "    \"musica\": \"Satisfação Alta\",\n",
        "    \"casa_conforto_2\": \"Satisfação Alta\",\n",
        "    \"portateis_casa_forno_e_cafe\": \"Satisfação Alta\",\n",
        "    \"cds_dvds_musicais\": \"Satisfação Alta\",\n",
        "    \"dvds_blu_ray\": \"Satisfação Alta\",\n",
        "    \"flores\": \"Satisfação Alta\",\n",
        "    \"artes_e_artesanato\": \"Satisfação Alta\",\n",
        "    \"fraldas_higiene\": \"Satisfação Alta\",\n",
        "    \"fashion_roupa_infanto_juvenil\": \"Satisfação Alta\",\n",
        "    \"seguros_e_servicos\": \"Neutro\"\n",
        "}\n",
        "\n",
        "# Criação de uma função UDF para mapear as segmentações\n",
        "def segmentacao_sentimento(categoria):\n",
        "    return segmentacoes.get(categoria, \"Neutro\")\n",
        "\n",
        "segmentacao_udf = udf(segmentacao_sentimento, StringType())\n",
        "\n",
        "# Adição da coluna de segmentação de sentimento ao DataFrame\n",
        "products = products.withColumn(\n",
        "    \"segmentacao_sentimento\",\n",
        "    segmentacao_udf(col(\"product_category_name\"))\n",
        ")\n"
      ]
    },
    {
      "cell_type": "code",
      "execution_count": null,
      "metadata": {
        "application/vnd.databricks.v1+cell": {
          "cellMetadata": {
            "byteLimit": 2048000,
            "rowLimit": 10000
          },
          "inputWidgets": {},
          "nuid": "3cb8af6b-9000-4803-b211-0aac3953997a",
          "showTitle": false,
          "tableResultSettingsMap": {},
          "title": ""
        },
        "id": "CrpDvnV4cGjb"
      },
      "outputs": [],
      "source": [
        "# Definição da segmentação por tipo\n",
        "# Definição da segmentação por tipo\n",
        "segmentacoes_tipo = { \"beleza_saude\": \"Uso Pessoal\",\n",
        "                     \"informatica_acessorios\": \"Reposição\",\n",
        "                     \"automotivo\": \"Reposição\",\n",
        "                     \"cama_mesa_banho\": \"Uso Pessoal\",\n",
        "                     \"moveis_decoracao\": \"Decorativo\",\n",
        "                     \"esporte_lazer\": \"Esportivo\",\n",
        "                     \"perfumaria\": \"Uso Pessoal\",\n",
        "                     \"utilidades_domesticas\": \"Reposição\",\n",
        "                     \"telefonia\": \"Reposição\",\n",
        "                     \"relogios_presentes\": \"Presente\",\n",
        "                     \"alimentos_bebidas\": \"Reposição\",\n",
        "                     \"bebes\": \"Uso Pessoal\",\n",
        "                     \"papelaria\": \"Educacional\",\n",
        "                     \"tablets_impressao_imagem\": \"Reposição\",\n",
        "                     \"brinquedos\": \"Presente\",\n",
        "                     \"telefonia_fixa\": \"Reposição\",\n",
        "                     \"ferramentas_jardim\": \"Reposição\",\n",
        "                     \"fashion_bolsas_e_acessorios\": \"Presente\",\n",
        "                     \"eletroportateis\": \"Reposição\",\n",
        "                     \"consoles_games\": \"Presente\",\n",
        "                     \"audio\": \"Uso Pessoal\",\n",
        "                     \"fashion_calcados\": \"Uso Pessoal\",\n",
        "                     \"cool_stuff\": \"Presente\",\n",
        "                     \"malas_acessorios\": \"Presente\",\n",
        "                     \"climatizacao\": \"Reposição\",\n",
        "                     \"construcao_ferramentas_construcao\": \"Reposição\",\n",
        "                     \"moveis_cozinha_area_de_servico_jantar_e_jardim\": \"Decorativo\",\n",
        "                     \"construcao_ferramentas_jardim\": \"Reposição\",\n",
        "                     \"fashion_roupa_masculina\": \"Uso Pessoal\",\n",
        "                     \"pet_shop\": \"Reposição\",\n",
        "                     \"moveis_escritorio\": \"Reposição\",\n",
        "                     \"market_place\": \"Uso Pessoal\",\n",
        "                     \"eletronicos\": \"Reposição\",\n",
        "                     \"eletrodomesticos\": \"Reposição\",\n",
        "                     \"artigos_de_festas\": \"Presente\",\n",
        "                     \"casa_conforto\": \"Decorativo\",\n",
        "                     \"construcao_ferramentas_ferramentas\": \"Reposição\",\n",
        "                     \"agro_industria_e_comercio\": \"Reposição\",\n",
        "                     \"moveis_colchao_e_estofado\": \"Decorativo\",\n",
        "                     \"livros_tecnicos\": \"Educacional\",\n",
        "                     \"casa_construcao\": \"Reposição\",\n",
        "                     \"instrumentos_musicais\": \"Uso Pessoal\",\n",
        "                     \"moveis_sala\": \"Decorativo\",\n",
        "                     \"construcao_ferramentas_iluminacao\": \"Reposição\",\n",
        "                     \"industria_comercio_e_negocios\": \"Reposição\",\n",
        "                     \"alimentos\": \"Reposição\",\n",
        "                     \"artes\": \"Uso Pessoal\",\n",
        "                     \"moveis_quarto\": \"Decorativo\",\n",
        "                     \"livros_interesse_geral\": \"Educacional\",\n",
        "                     \"construcao_ferramentas_seguranca\": \"Reposição\",\n",
        "                     \"fashion_underwear_e_moda_praia\": \"Uso Pessoal\",\n",
        "                     \"fashion_esporte\": \"Uso Pessoal\",\n",
        "                     \"sinalizacao_e_seguranca\": \"Reposição\",\n",
        "                     \"pcs\": \"Reposição\",\n",
        "                     \"artigos_de_natal\": \"Presente\",\n",
        "                     \"fashion_roupa_feminina\": \"Uso Pessoal\",\n",
        "                     \"eletrodomesticos_2\": \"Reposição\",\n",
        "                     \"livros_importados\": \"Educacional\",\n",
        "                     \"bebidas\": \"Reposição\",\n",
        "                     \"cine_foto\": \"Uso Pessoal\",\n",
        "                     \"la_cuisine\": \"Decorativo\",\n",
        "                     \"musica\": \"Uso Pessoal\",\n",
        "                     \"casa_conforto_2\": \"Decorativo\",\n",
        "                     \"portateis_casa_forno_e_cafe\": \"Reposição\",\n",
        "                     \"cds_dvds_musicais\": \"Uso Pessoal\",\n",
        "                     \"dvds_blu_ray\": \"Uso Pessoal\",\n",
        "                     \"flores\": \"Presente\",\n",
        "                     \"artes_e_artesanato\": \"Uso Pessoal\",\n",
        "                     \"fraldas_higiene\": \"Reposição\",\n",
        "                     \"fashion_roupa_infanto_juvenil\": \"Uso Pessoal\",\n",
        "                     \"seguros_e_servicos\": \"Uso Pessoal\" }\n",
        "\n",
        "# Criação de uma função UDF para mapear as segmentações de tipo\n",
        "def segmentacao_tipo(categoria):\n",
        "    return segmentacoes_tipo.get(categoria, \"Uso Pessoal\")\n",
        "\n",
        "segmentacao_tipo_udf = udf(segmentacao_tipo, StringType())\n",
        "\n",
        "# Adição da coluna de segmentação de tipo ao DataFrame\n",
        "products = products.withColumn(\n",
        "    \"segmentacao_tipo\",\n",
        "    segmentacao_tipo_udf(col(\"product_category_name\"))\n",
        ")"
      ]
    },
    {
      "cell_type": "code",
      "execution_count": null,
      "metadata": {
        "application/vnd.databricks.v1+cell": {
          "cellMetadata": {
            "byteLimit": 2048000,
            "rowLimit": 10000
          },
          "inputWidgets": {},
          "nuid": "09de410d-43c3-4c2d-b060-fb3e7332a78a",
          "showTitle": false,
          "tableResultSettingsMap": {},
          "title": ""
        },
        "id": "eEyuTimfcGjb"
      },
      "outputs": [],
      "source": [
        "# Definição da segmentação por validade\n",
        "segmentacoes_validade = {\n",
        "    \"beleza_saude\": \"Média Duração\",\n",
        "    \"informatica_acessorios\": \"Longa Duração\",\n",
        "    \"automotivo\": \"Longa Duração\",\n",
        "    \"cama_mesa_banho\": \"Média Duração\",\n",
        "    \"moveis_decoracao\": \"Longa Duração\",\n",
        "    \"esporte_lazer\": \"Média Duração\",\n",
        "    \"perfumaria\": \"Longa Duração\",\n",
        "    \"utilidades_domesticas\": \"Longa Duração\",\n",
        "    \"telefonia\": \"Longa Duração\",\n",
        "    \"relogios_presentes\": \"Longa Duração\",\n",
        "    \"alimentos_bebidas\": \"Curta Duração\",\n",
        "    \"bebes\": \"Curta Duração\",\n",
        "    \"papelaria\": \"Média Duração\",\n",
        "    \"tablets_impressao_imagem\": \"Longa Duração\",\n",
        "    \"brinquedos\": \"Média Duração\",\n",
        "    \"telefonia_fixa\": \"Longa Duração\",\n",
        "    \"ferramentas_jardim\": \"Longa Duração\",\n",
        "    \"fashion_bolsas_e_acessorios\": \"Longa Duração\",\n",
        "    \"eletroportateis\": \"Média Duração\",\n",
        "    \"consoles_games\": \"Longa Duração\",\n",
        "    \"audio\": \"Longa Duração\",\n",
        "    \"fashion_calcados\": \"Média Duração\",\n",
        "    \"cool_stuff\": \"Longa Duração\",\n",
        "    \"malas_acessorios\": \"Longa Duração\",\n",
        "    \"climatizacao\": \"Longa Duração\",\n",
        "    \"construcao_ferramentas_construcao\": \"Longa Duração\",\n",
        "    \"moveis_cozinha_area_de_servico_jantar_e_jardim\": \"Longa Duração\",\n",
        "    \"construcao_ferramentas_jardim\": \"Longa Duração\",\n",
        "    \"fashion_roupa_masculina\": \"Média Duração\",\n",
        "    \"pet_shop\": \"Média Duração\",\n",
        "    \"moveis_escritorio\": \"Longa Duração\",\n",
        "    \"market_place\": \"Não Perecíveis\",\n",
        "    \"eletronicos\": \"Longa Duração\",\n",
        "    \"eletrodomesticos\": \"Longa Duração\",\n",
        "    \"artigos_de_festas\": \"Média Duração\",\n",
        "    \"casa_conforto\": \"Longa Duração\",\n",
        "    \"construcao_ferramentas_ferramentas\": \"Longa Duração\",\n",
        "    \"agro_industria_e_comercio\": \"Longa Duração\",\n",
        "    \"moveis_colchao_e_estofado\": \"Longa Duração\",\n",
        "    \"livros_tecnicos\": \"Não Perecíveis\",\n",
        "    \"casa_construcao\": \"Longa Duração\",\n",
        "    \"instrumentos_musicais\": \"Não Perecíveis\",\n",
        "    \"moveis_sala\": \"Longa Duração\",\n",
        "    \"construcao_ferramentas_iluminacao\": \"Longa Duração\",\n",
        "    \"industria_comercio_e_negocios\": \"Longa Duração\",\n",
        "    \"alimentos\": \"Curta Duração\",\n",
        "    \"artes\": \"Não Perecíveis\",\n",
        "    \"moveis_quarto\": \"Longa Duração\",\n",
        "    \"livros_interesse_geral\": \"Não Perecíveis\",\n",
        "    \"construcao_ferramentas_seguranca\": \"Longa Duração\",\n",
        "    \"fashion_underwear_e_moda_praia\": \"Média Duração\",\n",
        "    \"fashion_esporte\": \"Média Duração\",\n",
        "    \"sinalizacao_e_seguranca\": \"Longa Duração\",\n",
        "    \"pcs\": \"Longa Duração\",\n",
        "    \"artigos_de_natal\": \"Média Duração\",\n",
        "    \"fashion_roupa_feminina\": \"Média Duração\",\n",
        "    \"eletrodomesticos_2\": \"Longa Duração\",\n",
        "    \"livros_importados\": \"Não Perecíveis\",\n",
        "    \"bebidas\": \"Curta Duração\",\n",
        "    \"cine_foto\": \"Longa Duração\",\n",
        "    \"la_cuisine\": \"Longa Duração\",\n",
        "    \"musica\": \"Longa Duração\",\n",
        "    \"casa_conforto_2\": \"Longa Duração\",\n",
        "    \"portateis_casa_forno_e_cafe\": \"Longa Duração\",\n",
        "    \"cds_dvds_musicais\": \"Longa Duração\",\n",
        "    \"dvds_blu_ray\": \"Longa Duração\",\n",
        "    \"flores\": \"Curta Duração\",\n",
        "    \"artes_e_artesanato\": \"Não Perecíveis\",\n",
        "    \"fraldas_higiene\": \"Curta Duração\",\n",
        "    \"fashion_roupa_infanto_juvenil\": \"Média Duração\",\n",
        "    \"seguros_e_servicos\": \"Não Perecíveis\"\n",
        "}\n",
        "\n",
        "# Criação de uma função UDF para mapear as segmentações de validade\n",
        "def segmentacao_validade(categoria):\n",
        "    return segmentacoes_validade.get(categoria, \"Não Perecíveis\")\n",
        "\n",
        "segmentacao_validade_udf = udf(segmentacao_validade, StringType())\n",
        "\n",
        "# Adição da coluna de segmentação de validade ao DataFrame\n",
        "products = products.withColumn(\n",
        "    \"segmentacao_validade\",\n",
        "    segmentacao_validade_udf(col(\"product_category_name\"))\n",
        ")\n"
      ]
    },
    {
      "cell_type": "code",
      "execution_count": null,
      "metadata": {
        "application/vnd.databricks.v1+cell": {
          "cellMetadata": {
            "byteLimit": 2048000,
            "rowLimit": 10000
          },
          "inputWidgets": {},
          "nuid": "9df7e5e4-6c9c-462b-a01a-e0a4cc019c02",
          "showTitle": false,
          "tableResultSettingsMap": {},
          "title": ""
        },
        "id": "mScIO0PtcGjc"
      },
      "outputs": [],
      "source": [
        "# Definição da segmentação por Utilização Principal\n",
        "segmentacoes_utilizacao = {\n",
        "    \"beleza_saude\": \"Uso Diário\",\n",
        "    \"informatica_acessorios\": \"Trabalho\",\n",
        "    \"automotivo\": \"Trabalho\",\n",
        "    \"cama_mesa_banho\": \"Uso Diário\",\n",
        "    \"moveis_decoracao\": \"Lazer\",\n",
        "    \"esporte_lazer\": \"Lazer\",\n",
        "    \"perfumaria\": \"Uso Diário\",\n",
        "    \"utilidades_domesticas\": \"Uso Diário\",\n",
        "    \"telefonia\": \"Trabalho\",\n",
        "    \"relogios_presentes\": \"Presente\",\n",
        "    \"alimentos_bebidas\": \"Uso Diário\",\n",
        "    \"bebes\": \"Uso Diário\",\n",
        "    \"papelaria\": \"Trabalho\",\n",
        "    \"tablets_impressao_imagem\": \"Trabalho\",\n",
        "    \"brinquedos\": \"Lazer\",\n",
        "    \"telefonia_fixa\": \"Trabalho\",\n",
        "    \"ferramentas_jardim\": \"Trabalho\",\n",
        "    \"fashion_bolsas_e_acessorios\": \"Uso Diário\",\n",
        "    \"eletroportateis\": \"Uso Diário\",\n",
        "    \"consoles_games\": \"Lazer\",\n",
        "    \"audio\": \"Lazer\",\n",
        "    \"fashion_calcados\": \"Uso Diário\",\n",
        "    \"cool_stuff\": \"Lazer\",\n",
        "    \"malas_acessorios\": \"Viagem\",\n",
        "    \"climatizacao\": \"Uso Diário\",\n",
        "    \"construcao_ferramentas_construcao\": \"Trabalho\",\n",
        "    \"moveis_cozinha_area_de_servico_jantar_e_jardim\": \"Uso Diário\",\n",
        "    \"construcao_ferramentas_jardim\": \"Trabalho\",\n",
        "    \"fashion_roupa_masculina\": \"Uso Diário\",\n",
        "    \"pet_shop\": \"Uso Diário\",\n",
        "    \"moveis_escritorio\": \"Trabalho\",\n",
        "    \"market_place\": \"Trabalho\",\n",
        "    \"eletronicos\": \"Trabalho\",\n",
        "    \"eletrodomesticos\": \"Uso Diário\",\n",
        "    \"artigos_de_festas\": \"Lazer\",\n",
        "    \"casa_conforto\": \"Uso Diário\",\n",
        "    \"construcao_ferramentas_ferramentas\": \"Trabalho\",\n",
        "    \"agro_industria_e_comercio\": \"Trabalho\",\n",
        "    \"moveis_colchao_e_estofado\": \"Uso Diário\",\n",
        "    \"livros_tecnicos\": \"Educação\",\n",
        "    \"casa_construcao\": \"Trabalho\",\n",
        "    \"instrumentos_musicais\": \"Lazer\",\n",
        "    \"moveis_sala\": \"Uso Diário\",\n",
        "    \"construcao_ferramentas_iluminacao\": \"Trabalho\",\n",
        "    \"industria_comercio_e_negocios\": \"Trabalho\",\n",
        "    \"alimentos\": \"Uso Diário\",\n",
        "    \"artes\": \"Lazer\",\n",
        "    \"moveis_quarto\": \"Uso Diário\",\n",
        "    \"livros_interesse_geral\": \"Educação\",\n",
        "    \"construcao_ferramentas_seguranca\": \"Trabalho\",\n",
        "    \"fashion_underwear_e_moda_praia\": \"Uso Diário\",\n",
        "    \"fashion_esporte\": \"Lazer\",\n",
        "    \"sinalizacao_e_seguranca\": \"Trabalho\",\n",
        "    \"pcs\": \"Trabalho\",\n",
        "    \"artigos_de_natal\": \"Lazer\",\n",
        "    \"fashion_roupa_feminina\": \"Uso Diário\",\n",
        "    \"eletrodomesticos_2\": \"Uso Diário\",\n",
        "    \"livros_importados\": \"Educação\",\n",
        "    \"bebidas\": \"Uso Diário\",\n",
        "    \"cine_foto\": \"Lazer\",\n",
        "    \"la_cuisine\": \"Uso Diário\",\n",
        "    \"musica\": \"Lazer\",\n",
        "    \"casa_conforto_2\": \"Uso Diário\",\n",
        "    \"portateis_casa_forno_e_cafe\": \"Uso Diário\",\n",
        "    \"cds_dvds_musicais\": \"Lazer\",\n",
        "    \"dvds_blu_ray\": \"Lazer\",\n",
        "    \"flores\": \"Presente\",\n",
        "    \"artes_e_artesanato\": \"Lazer\",\n",
        "    \"fraldas_higiene\": \"Uso Diário\",\n",
        "    \"fashion_roupa_infanto_juvenil\": \"Uso Diário\",\n",
        "    \"seguros_e_servicos\": \"Trabalho\"\n",
        "}\n",
        "\n",
        "# Criação de uma função UDF para mapear as segmentações de utilização principal\n",
        "def segmentacao_utilizacao(categoria):\n",
        "    return segmentacoes_utilizacao.get(categoria, \"Uso Diário\")\n",
        "\n",
        "segmentacao_utilizacao_udf = udf(segmentacao_utilizacao, StringType())\n",
        "\n",
        "# Adição da coluna de segmentação de utilização principal ao DataFrame\n",
        "products = products.withColumn(\n",
        "    \"segmentacao_utilizacao\",\n",
        "    segmentacao_utilizacao_udf(col(\"product_category_name\"))\n",
        ")\n"
      ]
    },
    {
      "cell_type": "code",
      "execution_count": null,
      "metadata": {
        "application/vnd.databricks.v1+cell": {
          "cellMetadata": {
            "byteLimit": 2048000,
            "rowLimit": 10000
          },
          "inputWidgets": {},
          "nuid": "e952f34e-49a0-42e0-bdbc-c8629a917a52",
          "showTitle": false,
          "tableResultSettingsMap": {},
          "title": ""
        },
        "id": "cXm7qVW6cGjc"
      },
      "outputs": [],
      "source": [
        "# Definição da segmentação por Funcionalidade Principal\n",
        "segmentacoes_funcionalidade = {\n",
        "    \"beleza_saude\": \"Conforto\",\n",
        "    \"informatica_acessorios\": \"Trabalho\",\n",
        "    \"automotivo\": \"Especializado\",\n",
        "    \"cama_mesa_banho\": \"Essencial\",\n",
        "    \"moveis_decoracao\": \"Conforto\",\n",
        "    \"esporte_lazer\": \"Entretenimento\",\n",
        "    \"perfumaria\": \"Conforto\",\n",
        "    \"utilidades_domesticas\": \"Essencial\",\n",
        "    \"telefonia\": \"Trabalho\",\n",
        "    \"relogios_presentes\": \"Conforto\",\n",
        "    \"alimentos_bebidas\": \"Essencial\",\n",
        "    \"bebes\": \"Essencial\",\n",
        "    \"papelaria\": \"Trabalho\",\n",
        "    \"tablets_impressao_imagem\": \"Trabalho\",\n",
        "    \"brinquedos\": \"Entretenimento\",\n",
        "    \"telefonia_fixa\": \"Trabalho\",\n",
        "    \"ferramentas_jardim\": \"Especializado\",\n",
        "    \"fashion_bolsas_e_acessorios\": \"Conforto\",\n",
        "    \"eletroportateis\": \"Essencial\",\n",
        "    \"consoles_games\": \"Entretenimento\",\n",
        "    \"audio\": \"Entretenimento\",\n",
        "    \"fashion_calcados\": \"Conforto\",\n",
        "    \"cool_stuff\": \"Entretenimento\",\n",
        "    \"malas_acessorios\": \"Conforto\",\n",
        "    \"climatizacao\": \"Essencial\",\n",
        "    \"construcao_ferramentas_construcao\": \"Especializado\",\n",
        "    \"moveis_cozinha_area_de_servico_jantar_e_jardim\": \"Essencial\",\n",
        "    \"construcao_ferramentas_jardim\": \"Especializado\",\n",
        "    \"fashion_roupa_masculina\": \"Conforto\",\n",
        "    \"pet_shop\": \"Essencial\",\n",
        "    \"moveis_escritorio\": \"Trabalho\",\n",
        "    \"market_place\": \"Trabalho\",\n",
        "    \"eletronicos\": \"Trabalho\",\n",
        "    \"eletrodomesticos\": \"Essencial\",\n",
        "    \"artigos_de_festas\": \"Entretenimento\",\n",
        "    \"casa_conforto\": \"Conforto\",\n",
        "    \"construcao_ferramentas_ferramentas\": \"Especializado\",\n",
        "    \"agro_industria_e_comercio\": \"Especializado\",\n",
        "    \"moveis_colchao_e_estofado\": \"Conforto\",\n",
        "    \"livros_tecnicos\": \"Trabalho\",\n",
        "    \"casa_construcao\": \"Especializado\",\n",
        "    \"instrumentos_musicais\": \"Entretenimento\",\n",
        "    \"moveis_sala\": \"Conforto\",\n",
        "    \"construcao_ferramentas_iluminacao\": \"Especializado\",\n",
        "    \"industria_comercio_e_negocios\": \"Especializado\",\n",
        "    \"alimentos\": \"Essencial\",\n",
        "    \"artes\": \"Entretenimento\",\n",
        "    \"moveis_quarto\": \"Conforto\",\n",
        "    \"livros_interesse_geral\": \"Entretenimento\",\n",
        "    \"construcao_ferramentas_seguranca\": \"Especializado\",\n",
        "    \"fashion_underwear_e_moda_praia\": \"Conforto\",\n",
        "    \"fashion_esporte\": \"Conforto\",\n",
        "    \"sinalizacao_e_seguranca\": \"Especializado\",\n",
        "    \"pcs\": \"Trabalho\",\n",
        "    \"artigos_de_natal\": \"Entretenimento\",\n",
        "    \"fashion_roupa_feminina\": \"Conforto\",\n",
        "    \"eletrodomesticos_2\": \"Essencial\",\n",
        "    \"livros_importados\": \"Entretenimento\",\n",
        "    \"bebidas\": \"Essencial\",\n",
        "    \"cine_foto\": \"Entretenimento\",\n",
        "    \"la_cuisine\": \"Essencial\",\n",
        "    \"musica\": \"Entretenimento\",\n",
        "    \"casa_conforto_2\": \"Conforto\",\n",
        "    \"portateis_casa_forno_e_cafe\": \"Essencial\",\n",
        "    \"cds_dvds_musicais\": \"Entretenimento\",\n",
        "    \"dvds_blu_ray\": \"Entretenimento\",\n",
        "    \"flores\": \"Conforto\",\n",
        "    \"artes_e_artesanato\": \"Entretenimento\",\n",
        "    \"fraldas_higiene\": \"Essencial\",\n",
        "    \"fashion_roupa_infanto_juvenil\": \"Conforto\",\n",
        "    \"seguros_e_servicos\": \"Especializado\"\n",
        "}\n",
        "\n",
        "# Criação de uma função UDF para mapear as segmentações de funcionalidade principal\n",
        "def segmentacao_funcionalidade(categoria):\n",
        "    return segmentacoes_funcionalidade.get(categoria, \"Essencial\")\n",
        "\n",
        "# Registro da UDF\n",
        "segmentacao_funcionalidade_udf = udf(segmentacao_funcionalidade, StringType())\n",
        "\n",
        "# Adição da coluna de segmentação de validade ao DataFrame\n",
        "products = products.withColumn(\n",
        "    \"segmentacoes_funcionalidade\",\n",
        "    segmentacao_funcionalidade_udf(col(\"product_category_name\"))\n",
        ")"
      ]
    },
    {
      "cell_type": "code",
      "execution_count": null,
      "metadata": {
        "application/vnd.databricks.v1+cell": {
          "cellMetadata": {
            "byteLimit": 2048000,
            "rowLimit": 10000
          },
          "inputWidgets": {},
          "nuid": "5d6dba09-feb4-4e81-b2b5-9d6cdb08c0f1",
          "showTitle": false,
          "tableResultSettingsMap": {},
          "title": ""
        },
        "id": "xeTpVDkPcGjd"
      },
      "outputs": [],
      "source": [
        "# Definição da segmentação por Nível de Interatividade\n",
        "segmentacoes_interatividade = {\n",
        "    \"beleza_saude\": \"Média Interatividade\",\n",
        "    \"informatica_acessorios\": \"Alta Interatividade\",\n",
        "    \"automotivo\": \"Média Interatividade\",\n",
        "    \"cama_mesa_banho\": \"Baixa Interatividade\",\n",
        "    \"moveis_decoracao\": \"Baixa Interatividade\",\n",
        "    \"esporte_lazer\": \"Alta Interatividade\",\n",
        "    \"perfumaria\": \"Média Interatividade\",\n",
        "    \"utilidades_domesticas\": \"Média Interatividade\",\n",
        "    \"telefonia\": \"Alta Interatividade\",\n",
        "    \"relogios_presentes\": \"Baixa Interatividade\",\n",
        "    \"alimentos_bebidas\": \"Baixa Interatividade\",\n",
        "    \"bebes\": \"Média Interatividade\",\n",
        "    \"papelaria\": \"Média Interatividade\",\n",
        "    \"tablets_impressao_imagem\": \"Alta Interatividade\",\n",
        "    \"brinquedos\": \"Alta Interatividade\",\n",
        "    \"telefonia_fixa\": \"Alta Interatividade\",\n",
        "    \"ferramentas_jardim\": \"Média Interatividade\",\n",
        "    \"fashion_bolsas_e_acessorios\": \"Baixa Interatividade\",\n",
        "    \"eletroportateis\": \"Média Interatividade\",\n",
        "    \"consoles_games\": \"Alta Interatividade\",\n",
        "    \"audio\": \"Alta Interatividade\",\n",
        "    \"fashion_calcados\": \"Baixa Interatividade\",\n",
        "    \"cool_stuff\": \"Alta Interatividade\",\n",
        "    \"malas_acessorios\": \"Baixa Interatividade\",\n",
        "    \"climatizacao\": \"Média Interatividade\",\n",
        "    \"construcao_ferramentas_construcao\": \"Média Interatividade\",\n",
        "    \"moveis_cozinha_area_de_servico_jantar_e_jardim\": \"Baixa Interatividade\",\n",
        "    \"construcao_ferramentas_jardim\": \"Média Interatividade\",\n",
        "    \"fashion_roupa_masculina\": \"Baixa Interatividade\",\n",
        "    \"pet_shop\": \"Média Interatividade\",\n",
        "    \"moveis_escritorio\": \"Baixa Interatividade\",\n",
        "    \"market_place\": \"Média Interatividade\",\n",
        "    \"eletronicos\": \"Alta Interatividade\",\n",
        "    \"eletrodomesticos\": \"Média Interatividade\",\n",
        "    \"artigos_de_festas\": \"Média Interatividade\",\n",
        "    \"casa_conforto\": \"Baixa Interatividade\",\n",
        "    \"construcao_ferramentas_ferramentas\": \"Média Interatividade\",\n",
        "    \"agro_industria_e_comercio\": \"Média Interatividade\",\n",
        "    \"moveis_colchao_e_estofado\": \"Baixa Interatividade\",\n",
        "    \"livros_tecnicos\": \"Média Interatividade\",\n",
        "    \"casa_construcao\": \"Média Interatividade\",\n",
        "    \"instrumentos_musicais\": \"Alta Interatividade\",\n",
        "    \"moveis_sala\": \"Baixa Interatividade\",\n",
        "    \"construcao_ferramentas_iluminacao\": \"Média Interatividade\",\n",
        "    \"industria_comercio_e_negocios\": \"Média Interatividade\",\n",
        "    \"alimentos\": \"Baixa Interatividade\",\n",
        "    \"artes\": \"Alta Interatividade\",\n",
        "    \"moveis_quarto\": \"Baixa Interatividade\",\n",
        "    \"livros_interesse_geral\": \"Baixa Interatividade\",\n",
        "    \"construcao_ferramentas_seguranca\": \"Média Interatividade\",\n",
        "    \"fashion_underwear_e_moda_praia\": \"Baixa Interatividade\",\n",
        "    \"fashion_esporte\": \"Alta Interatividade\",\n",
        "    \"sinalizacao_e_seguranca\": \"Média Interatividade\",\n",
        "    \"pcs\": \"Alta Interatividade\",\n",
        "    \"artigos_de_natal\": \"Média Interatividade\",\n",
        "    \"fashion_roupa_feminina\": \"Baixa Interatividade\",\n",
        "    \"eletrodomesticos_2\": \"Média Interatividade\",\n",
        "    \"livros_importados\": \"Baixa Interatividade\",\n",
        "    \"bebidas\": \"Baixa Interatividade\",\n",
        "    \"cine_foto\": \"Alta Interatividade\",\n",
        "    \"la_cuisine\": \"Média Interatividade\",\n",
        "    \"musica\": \"Alta Interatividade\",\n",
        "    \"casa_conforto_2\": \"Baixa Interatividade\",\n",
        "    \"portateis_casa_forno_e_cafe\": \"Média Interatividade\",\n",
        "    \"cds_dvds_musicais\": \"Alta Interatividade\",\n",
        "    \"dvds_blu_ray\": \"Alta Interatividade\",\n",
        "    \"flores\": \"Baixa Interatividade\",\n",
        "    \"artes_e_artesanato\": \"Alta Interatividade\",\n",
        "    \"fraldas_higiene\": \"Média Interatividade\",\n",
        "    \"fashion_roupa_infanto_juvenil\": \"Baixa Interatividade\",\n",
        "    \"seguros_e_servicos\": \"Média Interatividade\"\n",
        "}\n",
        "# Criação de uma função UDF para mapear as segmentações de funcionalidade principal\n",
        "def segmentacao_interatividade(categoria):\n",
        "    return segmentacoes_interatividade.get(categoria, \"Média Interatividade\")\n",
        "\n",
        "# Registro da UDF\n",
        "segmentacao_interatividade_udf = udf(segmentacao_interatividade, StringType())\n",
        "\n",
        "# Adição da coluna de segmentação de validade ao DataFrame\n",
        "products = products.withColumn(\n",
        "    \"segmentacao_interatividade\",\n",
        "    segmentacao_interatividade_udf(col(\"product_category_name\"))\n",
        ")\n"
      ]
    },
    {
      "cell_type": "code",
      "execution_count": null,
      "metadata": {
        "application/vnd.databricks.v1+cell": {
          "cellMetadata": {
            "byteLimit": 2048000,
            "rowLimit": 10000
          },
          "inputWidgets": {},
          "nuid": "ea8abebb-6583-4cd3-ab70-3a90cf908ce4",
          "showTitle": false,
          "tableResultSettingsMap": {},
          "title": ""
        },
        "id": "EE7nWVjFcGjd"
      },
      "outputs": [],
      "source": [
        "# Definição da segmentação por Impacto Ambiental\n",
        "segmentacoes_impacto_ambiental = {\n",
        "    \"beleza_saude\": \"Médio\",\n",
        "    \"informatica_acessorios\": \"Alto\",\n",
        "    \"automotivo\": \"Alto\",\n",
        "    \"cama_mesa_banho\": \"Baixo\",\n",
        "    \"moveis_decoracao\": \"Médio\",\n",
        "    \"esporte_lazer\": \"Médio\",\n",
        "    \"perfumaria\": \"Médio\",\n",
        "    \"utilidades_domesticas\": \"Médio\",\n",
        "    \"telefonia\": \"Alto\",\n",
        "    \"relogios_presentes\": \"Baixo\",\n",
        "    \"alimentos_bebidas\": \"Baixo\",\n",
        "    \"bebes\": \"Baixo\",\n",
        "    \"papelaria\": \"Baixo\",\n",
        "    \"tablets_impressao_imagem\": \"Alto\",\n",
        "    \"brinquedos\": \"Médio\",\n",
        "    \"telefonia_fixa\": \"Alto\",\n",
        "    \"ferramentas_jardim\": \"Médio\",\n",
        "    \"fashion_bolsas_e_acessorios\": \"Médio\",\n",
        "    \"eletroportateis\": \"Alto\",\n",
        "    \"consoles_games\": \"Alto\",\n",
        "    \"audio\": \"Alto\",\n",
        "    \"fashion_calcados\": \"Médio\",\n",
        "    \"cool_stuff\": \"Alto\",\n",
        "    \"malas_acessorios\": \"Médio\",\n",
        "    \"climatizacao\": \"Alto\",\n",
        "    \"construcao_ferramentas_construcao\": \"Alto\",\n",
        "    \"moveis_cozinha_area_de_servico_jantar_e_jardim\": \"Baixo\",\n",
        "    \"construcao_ferramentas_jardim\": \"Alto\",\n",
        "    \"fashion_roupa_masculina\": \"Baixo\",\n",
        "    \"pet_shop\": \"Baixo\",\n",
        "    \"moveis_escritorio\": \"Médio\",\n",
        "    \"market_place\": \"Médio\",\n",
        "    \"eletronicos\": \"Alto\",\n",
        "    \"eletrodomesticos\": \"Alto\",\n",
        "    \"artigos_de_festas\": \"Baixo\",\n",
        "    \"casa_conforto\": \"Baixo\",\n",
        "    \"construcao_ferramentas_ferramentas\": \"Alto\",\n",
        "    \"agro_industria_e_comercio\": \"Alto\",\n",
        "    \"moveis_colchao_e_estofado\": \"Médio\",\n",
        "    \"livros_tecnicos\": \"Baixo\",\n",
        "    \"casa_construcao\": \"Alto\",\n",
        "    \"instrumentos_musicais\": \"Médio\",\n",
        "    \"moveis_sala\": \"Médio\",\n",
        "    \"construcao_ferramentas_iluminacao\": \"Alto\",\n",
        "    \"industria_comercio_e_negocios\": \"Alto\",\n",
        "    \"alimentos\": \"Baixo\",\n",
        "    \"artes\": \"Baixo\",\n",
        "    \"moveis_quarto\": \"Médio\",\n",
        "    \"livros_interesse_geral\": \"Baixo\",\n",
        "    \"construcao_ferramentas_seguranca\": \"Alto\",\n",
        "    \"fashion_underwear_e_moda_praia\": \"Baixo\",\n",
        "    \"fashion_esporte\": \"Baixo\",\n",
        "    \"sinalizacao_e_seguranca\": \"Alto\",\n",
        "    \"pcs\": \"Alto\",\n",
        "    \"artigos_de_natal\": \"Baixo\",\n",
        "    \"fashion_roupa_feminina\": \"Baixo\",\n",
        "    \"eletrodomesticos_2\": \"Alto\",\n",
        "    \"livros_importados\": \"Baixo\",\n",
        "    \"bebidas\": \"Baixo\",\n",
        "    \"cine_foto\": \"Alto\",\n",
        "    \"la_cuisine\": \"Baixo\",\n",
        "    \"musica\": \"Baixo\",\n",
        "    \"casa_conforto_2\": \"Baixo\",\n",
        "    \"portateis_casa_forno_e_cafe\": \"Baixo\",\n",
        "    \"cds_dvds_musicais\": \"Baixo\",\n",
        "    \"dvds_blu_ray\": \"Baixo\",\n",
        "    \"flores\": \"Baixo\",\n",
        "    \"artes_e_artesanato\": \"Baixo\",\n",
        "    \"fraldas_higiene\": \"Baixo\",\n",
        "    \"fashion_roupa_infanto_juvenil\": \"Baixo\",\n",
        "    \"seguros_e_servicos\": \"Baixo\"\n",
        "}\n",
        "\n",
        "# Criação de uma função UDF para mapear as segmentações de funcionalidade principal\n",
        "def segmentacoe_impacto_ambiental(categoria):\n",
        "    return segmentacoes_impacto_ambiental.get(categoria, \"Média Ambiental\")\n",
        "\n",
        "# Registro da UDF\n",
        "segmentacoe_impacto_ambiental_udf = udf(segmentacoe_impacto_ambiental, StringType())\n",
        "\n",
        "# Adição da coluna de segmentação de validade ao DataFrame\n",
        "products = products.withColumn(\n",
        "    \"segmentacoes_impacto_ambiental\",\n",
        "    segmentacoe_impacto_ambiental_udf(col(\"product_category_name\"))\n",
        ")\n"
      ]
    },
    {
      "cell_type": "code",
      "execution_count": null,
      "metadata": {
        "application/vnd.databricks.v1+cell": {
          "cellMetadata": {
            "byteLimit": 2048000,
            "rowLimit": 10000
          },
          "inputWidgets": {},
          "nuid": "e70ca0ab-ed4f-45d9-95ad-24d72ca3fdf9",
          "showTitle": false,
          "tableResultSettingsMap": {},
          "title": ""
        },
        "id": "UIpaUc0UcGje"
      },
      "outputs": [],
      "source": [
        "# Definição da segmentação por Interação Humana Necessária\n",
        "segmentacoes_interacao_humana = {\n",
        "    \"beleza_saude\": \"Manual\",\n",
        "    \"informatica_acessorios\": \"Assistido\",\n",
        "    \"automotivo\": \"Assistido\",\n",
        "    \"cama_mesa_banho\": \"Manual\",\n",
        "    \"moveis_decoracao\": \"Manual\",\n",
        "    \"esporte_lazer\": \"Manual\",\n",
        "    \"perfumaria\": \"Manual\",\n",
        "    \"utilidades_domesticas\": \"Assistido\",\n",
        "    \"telefonia\": \"Assistido\",\n",
        "    \"relogios_presentes\": \"Manual\",\n",
        "    \"alimentos_bebidas\": \"Manual\",\n",
        "    \"bebes\": \"Manual\",\n",
        "    \"papelaria\": \"Manual\",\n",
        "    \"tablets_impressao_imagem\": \"Assistido\",\n",
        "    \"brinquedos\": \"Manual\",\n",
        "    \"telefonia_fixa\": \"Assistido\",\n",
        "    \"ferramentas_jardim\": \"Manual\",\n",
        "    \"fashion_bolsas_e_acessorios\": \"Manual\",\n",
        "    \"eletroportateis\": \"Assistido\",\n",
        "    \"consoles_games\": \"Assistido\",\n",
        "    \"audio\": \"Assistido\",\n",
        "    \"fashion_calcados\": \"Manual\",\n",
        "    \"cool_stuff\": \"Assistido\",\n",
        "    \"malas_acessorios\": \"Manual\",\n",
        "    \"climatizacao\": \"Assistido\",\n",
        "    \"construcao_ferramentas_construcao\": \"Manual\",\n",
        "    \"moveis_cozinha_area_de_servico_jantar_e_jardim\": \"Manual\",\n",
        "    \"construcao_ferramentas_jardim\": \"Manual\",\n",
        "    \"fashion_roupa_masculina\": \"Manual\",\n",
        "    \"pet_shop\": \"Manual\",\n",
        "    \"moveis_escritorio\": \"Manual\",\n",
        "    \"market_place\": \"Assistido\",\n",
        "    \"eletronicos\": \"Assistido\",\n",
        "    \"eletrodomesticos\": \"Assistido\",\n",
        "    \"artigos_de_festas\": \"Manual\",\n",
        "    \"casa_conforto\": \"Manual\",\n",
        "    \"construcao_ferramentas_ferramentas\": \"Manual\",\n",
        "    \"agro_industria_e_comercio\": \"Assistido\",\n",
        "    \"moveis_colchao_e_estofado\": \"Manual\",\n",
        "    \"livros_tecnicos\": \"Manual\",\n",
        "    \"casa_construcao\": \"Manual\",\n",
        "    \"instrumentos_musicais\": \"Manual\",\n",
        "    \"moveis_sala\": \"Manual\",\n",
        "    \"construcao_ferramentas_iluminacao\": \"Manual\",\n",
        "    \"industria_comercio_e_negocios\": \"Assistido\",\n",
        "    \"alimentos\": \"Manual\",\n",
        "    \"artes\": \"Manual\",\n",
        "    \"moveis_quarto\": \"Manual\",\n",
        "    \"livros_interesse_geral\": \"Manual\",\n",
        "    \"construcao_ferramentas_seguranca\": \"Assistido\",\n",
        "    \"fashion_underwear_e_moda_praia\": \"Manual\",\n",
        "    \"fashion_esporte\": \"Manual\",\n",
        "    \"sinalizacao_e_seguranca\": \"Assistido\",\n",
        "    \"pcs\": \"Assistido\",\n",
        "    \"artigos_de_natal\": \"Manual\",\n",
        "    \"fashion_roupa_feminina\": \"Manual\",\n",
        "    \"eletrodomesticos_2\": \"Assistido\",\n",
        "    \"livros_importados\": \"Manual\",\n",
        "    \"bebidas\": \"Manual\",\n",
        "    \"cine_foto\": \"Assistido\",\n",
        "    \"la_cuisine\": \"Manual\",\n",
        "    \"musica\": \"Manual\",\n",
        "    \"casa_conforto_2\": \"Manual\",\n",
        "    \"portateis_casa_forno_e_cafe\": \"Assistido\",\n",
        "    \"cds_dvds_musicais\": \"Manual\",\n",
        "    \"dvds_blu_ray\": \"Manual\",\n",
        "    \"flores\": \"Manual\",\n",
        "    \"artes_e_artesanato\": \"Manual\",\n",
        "    \"fraldas_higiene\": \"Manual\",\n",
        "    \"fashion_roupa_infanto_juvenil\": \"Manual\",\n",
        "    \"seguros_e_servicos\": \"Assistido\"\n",
        "}\n",
        "\n",
        "# Criação de uma função UDF para mapear as segmentações de funcionalidade principal\n",
        "def segmentacoe_interacao_humana(categoria):\n",
        "    return segmentacoes_interacao_humana.get(categoria, \"Interação Humana\")\n",
        "\n",
        "# Registro da UDF\n",
        "segmentacoe_interacao_humana_udf = udf(segmentacoe_interacao_humana, StringType())\n",
        "\n",
        "# Adição da coluna de segmentação de validade ao DataFrame\n",
        "products = products.withColumn(\n",
        "    \"segmentacoes_interacao_humana\",\n",
        "    segmentacoe_interacao_humana_udf(col(\"product_category_name\"))\n",
        ")"
      ]
    },
    {
      "cell_type": "code",
      "execution_count": null,
      "metadata": {
        "application/vnd.databricks.v1+cell": {
          "cellMetadata": {
            "byteLimit": 2048000,
            "rowLimit": 10000
          },
          "inputWidgets": {},
          "nuid": "a7ae27cb-b14f-43c5-bc9c-6b1a87187a82",
          "showTitle": false,
          "tableResultSettingsMap": {},
          "title": ""
        },
        "id": "n1dpwKUqcGje",
        "outputId": "bd3c3155-d829-4f95-c525-f27a2624c6b5"
      },
      "outputs": [
        {
          "output_type": "stream",
          "name": "stdout",
          "text": [
            "Out[18]: DataFrame[summary: string, product_category_name: string, product_category_name_english: string]"
          ]
        }
      ],
      "source": [
        "product_category_name_translation.describe()"
      ]
    },
    {
      "cell_type": "code",
      "execution_count": null,
      "metadata": {
        "application/vnd.databricks.v1+cell": {
          "cellMetadata": {
            "byteLimit": 2048000,
            "rowLimit": 10000
          },
          "inputWidgets": {},
          "nuid": "cca727c0-a751-47d6-b895-aece4d65089a",
          "showTitle": false,
          "tableResultSettingsMap": {},
          "title": ""
        },
        "id": "4nNzL7hwcGje",
        "outputId": "60ea9821-b87d-4c73-aecf-939543c62be6"
      },
      "outputs": [
        {
          "output_type": "stream",
          "name": "stdout",
          "text": [
            "Número de pedidos removidos: 2595\nNúmero de pagamentos removidos: 2742\n"
          ]
        }
      ],
      "source": [
        "# Aplicaremos analise de quartis para eliminar os outliers\n",
        "merged_data = orders.join(order_payments, on='order_id', how='inner')\n",
        "\n",
        "# Calcular o valor total por consumidor\n",
        "total_per_consumer = merged_data.groupBy('customer_id').agg(F.sum('payment_value').alias('total_value'))\n",
        "\n",
        "# Calcular Q1, Q3 e IQR\n",
        "Q1 = total_per_consumer.approxQuantile('total_value', [0.10], 0.01)[0]\n",
        "Q3 = total_per_consumer.approxQuantile('total_value', [0.90], 0.01)[0]\n",
        "IQR = Q3 - Q1\n",
        "\n",
        "# Definir limites inferior e superior\n",
        "lower_bound = Q1 - 1.5 * IQR\n",
        "upper_bound = Q3 + 1.5 * IQR\n",
        "\n",
        "# Filtrar os consumidores que estão dentro dos limites\n",
        "valid_customers = total_per_consumer.filter((F.col('total_value') >= lower_bound) & (F.col('total_value') <= upper_bound)).select('customer_id')\n",
        "\n",
        "# Filtrar as tabelas orders e order_payments para remover os outliers\n",
        "filtered_orders = orders.join(valid_customers, on='customer_id', how='inner')\n",
        "filtered_order_payments = order_payments.join(filtered_orders.select('order_id'), on='order_id', how='inner')\n",
        "\n",
        "# Exibir o número de registros removidos\n",
        "removed_orders_count = orders.count() - filtered_orders.count()\n",
        "removed_payments_count = order_payments.count() - filtered_order_payments.count()\n",
        "\n",
        "print(f\"Número de pedidos removidos: {removed_orders_count}\")\n",
        "print(f\"Número de pagamentos removidos: {removed_payments_count}\")\n",
        "\n",
        "orders = filtered_orders\n",
        "order_payments = filtered_order_payments"
      ]
    },
    {
      "cell_type": "code",
      "execution_count": null,
      "metadata": {
        "application/vnd.databricks.v1+cell": {
          "cellMetadata": {
            "byteLimit": 2048000,
            "rowLimit": 10000
          },
          "inputWidgets": {},
          "nuid": "ed62a65f-5a97-4dfd-8a09-26b58dcba49a",
          "showTitle": false,
          "tableResultSettingsMap": {},
          "title": ""
        },
        "id": "4ibJMh9NcGje",
        "outputId": "563130ca-cfb2-435f-95ea-e4d92c256919"
      },
      "outputs": [
        {
          "output_type": "stream",
          "name": "stdout",
          "text": [
            "Número de consumidores que compraram mais de um product_id: 3114\n"
          ]
        }
      ],
      "source": [
        "# Unir as tabelas orders e order_items com base no order_id\n",
        "merged_data = orders.join(order_items, on='order_id', how='inner')\n",
        "\n",
        "# Agrupar por customer_id e contar o número de produtos distintos (product_id) comprados por cada consumidor\n",
        "product_count_per_customer = merged_data.groupBy('customer_id').agg(\n",
        "    F.countDistinct('product_id').alias('distinct_product_count')  # Contar produtos distintos\n",
        ")\n",
        "\n",
        "# Filtrar consumidores que compraram mais de um produto\n",
        "customers_with_multiple_products = product_count_per_customer.filter(\n",
        "    F.col('distinct_product_count') > 1\n",
        ")\n",
        "\n",
        "# Contar quantos consumidores compraram mais de um produto\n",
        "number_of_customers = customers_with_multiple_products.count()\n",
        "\n",
        "print(f\"Número de consumidores que compraram mais de um product_id: {number_of_customers}\")"
      ]
    },
    {
      "cell_type": "code",
      "execution_count": null,
      "metadata": {
        "application/vnd.databricks.v1+cell": {
          "cellMetadata": {
            "byteLimit": 2048000,
            "rowLimit": 10000
          },
          "inputWidgets": {},
          "nuid": "e9ec69d2-8cb6-48bb-9a45-69a8a73b63a6",
          "showTitle": false,
          "tableResultSettingsMap": {},
          "title": ""
        },
        "id": "vf57zK_9cGjf",
        "outputId": "57fbb202-2e83-440f-d608-451e64ed4b07"
      },
      "outputs": [
        {
          "output_type": "stream",
          "name": "stdout",
          "text": [
            "Columns in final_order_items after join: ['product_id', 'order_id', 'order_item_id', 'seller_id', 'shipping_limit_date', 'price', 'freight_value', 'days_to_shipping_limit', 'product_category_name', 'product_name_lenght', 'product_description_lenght', 'product_photos_qty', 'product_weight_g', 'product_length_cm', 'product_height_cm', 'product_width_cm', 'segmentacao_necessidade', 'segmentacao_sentimento', 'segmentacao_tipo', 'segmentacao_validade', 'segmentacao_utilizacao', 'segmentacoes_funcionalidade', 'segmentacao_interatividade', 'segmentacoes_impacto_ambiental', 'segmentacoes_interacao_humana']\n"
          ]
        }
      ],
      "source": [
        "# Join entre order_items e products para obter todas as informações necessárias\n",
        "final_order_items = order_items.join(products, on='product_id')\n",
        "\n",
        "# Aplicar StringIndexer nas colunas de segmentação\n",
        "categorical_cols = [\n",
        "    'segmentacao_necessidade', 'segmentacao_sentimento',\n",
        "    'segmentacao_tipo', 'segmentacao_validade',\n",
        "    'segmentacao_utilizacao', 'segmentacoes_funcionalidade',\n",
        "    'segmentacao_interatividade', 'segmentacoes_impacto_ambiental',\n",
        "    'segmentacoes_interacao_humana'\n",
        "]\n",
        "\n",
        "final_order_items_cols = final_order_items.columns\n",
        "print(\"Columns in final_order_items after join:\", final_order_items_cols)\n",
        "\n",
        "categorical_cols = [col for col in categorical_cols if col in final_order_items_cols]\n",
        "\n",
        "indexers = [StringIndexer(inputCol=col, outputCol=col + \"_index\") for col in categorical_cols]\n",
        "\n",
        "pipeline = Pipeline(stages=indexers)\n",
        "\n"
      ]
    },
    {
      "cell_type": "code",
      "execution_count": null,
      "metadata": {
        "application/vnd.databricks.v1+cell": {
          "cellMetadata": {
            "byteLimit": 2048000,
            "rowLimit": 10000
          },
          "inputWidgets": {},
          "nuid": "52ea6813-35dd-42f5-a35b-45cabeca37bc",
          "showTitle": false,
          "tableResultSettingsMap": {},
          "title": ""
        },
        "id": "fSjwj_FvcGjf",
        "outputId": "28786e65-debc-4aeb-edfa-e581baecc595"
      },
      "outputs": [
        {
          "output_type": "stream",
          "name": "stdout",
          "text": [
            "+--------------------+-------------+--------------------+--------------------+-------------------+------+-------------+----------------------+-----------------------------+----------------------------+----------------------+--------------------------+----------------------------+---------------------------------+--------------------------------+------------------------------------+-----------------------------------+\n|            order_id|order_item_id|          product_id|           seller_id|shipping_limit_date| price|freight_value|days_to_shipping_limit|segmentacao_necessidade_index|segmentacao_sentimento_index|segmentacao_tipo_index|segmentacao_validade_index|segmentacao_utilizacao_index|segmentacoes_funcionalidade_index|segmentacao_interatividade_index|segmentacoes_impacto_ambiental_index|segmentacoes_interacao_humana_index|\n+--------------------+-------------+--------------------+--------------------+-------------------+------+-------------+----------------------+-----------------------------+----------------------------+----------------------+--------------------------+----------------------------+---------------------------------+--------------------------------+------------------------------------+-----------------------------------+\n|00010242fe8c5a6d1...|            1|4244733e06e7ecb49...|48436dade18ac8b2b...|2017-09-19 09:45:35|  58.9|        13.29|                     6|                          7.0|                         0.0|                   2.0|                       0.0|                         2.0|                              3.0|                             1.0|                                 1.0|                                1.0|\n|00018f77f2f0320c5...|            1|e5f2d52b802189ee6...|dd7ddc04e1b6c2c61...|2017-05-03 11:05:13| 239.9|        19.93|                     7|                          9.0|                         0.0|                   0.0|                       1.0|                         0.0|                              1.0|                             0.0|                                 2.0|                                0.0|\n|000229ec398224ef6...|            1|c777355d18b72b67a...|5b51032eddd242adc...|2018-01-18 14:48:30| 199.0|        17.87|                     4|                          0.0|                         0.0|                   3.0|                       0.0|                         2.0|                              0.0|                             2.0|                                 0.0|                                0.0|\n|00024acbcdf0a6daa...|            1|7634da152a4610f15...|9d7a1d34a50524090...|2018-08-15 10:10:18| 12.99|        12.79|                     7|                          2.0|                         0.0|                   1.0|                       0.0|                         0.0|                              0.0|                             0.0|                                 0.0|                                0.0|\n|00042b26cf59d7ce6...|            1|ac6c3623068f30de0...|df560393f3a51e745...|2017-02-13 13:57:51| 199.9|        18.14|                     9|                          3.0|                         0.0|                   0.0|                       0.0|                         1.0|                              4.0|                             0.0|                                 0.0|                                0.0|\n|00048cc3ae777c65d...|            1|ef92defde845ab845...|6426d21aca402a131...|2017-05-23 03:55:27|  21.9|        12.69|                     6|                          0.0|                         1.0|                   0.0|                       0.0|                         0.0|                              1.0|                             0.0|                                 0.0|                                1.0|\n|00054e8431b9d7675...|            1|8d4f2bb7e93e6710a...|7040e82f899a04d1b...|2017-12-14 12:10:31|  19.9|        11.85|                     4|                          1.0|                         2.0|                   0.0|                       0.0|                         1.0|                              2.0|                             1.0|                                 1.0|                                1.0|\n|000576fe39319847c...|            1|557d850972a7d6f79...|5996cddab893a4652...|2018-07-10 12:30:45| 810.0|        70.75|                     5|                          3.0|                         0.0|                   0.0|                       0.0|                         1.0|                              4.0|                             0.0|                                 0.0|                                0.0|\n|0005a1a1728c9d785...|            1|310ae3c140ff94b03...|a416b6a846a117243...|2018-03-26 18:31:29|145.95|        11.65|                     6|                          2.0|                         0.0|                   1.0|                       1.0|                         0.0|                              0.0|                             0.0|                                 0.0|                                0.0|\n|0005f50442cb953dc...|            1|4535b0e1091c278df...|ba143b05f0110f0dc...|2018-07-06 14:10:56| 53.99|         11.4|                     4|                          8.0|                         2.0|                   5.0|                       3.0|                         5.0|                              2.0|                             0.0|                                 2.0|                                0.0|\n|00061f2a7bc09da83...|            1|d63c1011f49d98b97...|cc419e0650a3c5ba7...|2018-03-29 22:28:09| 59.99|         8.88|                     5|                          2.0|                         0.0|                   1.0|                       1.0|                         0.0|                              0.0|                             0.0|                                 0.0|                                0.0|\n|00063b381e2406b52...|            1|f177554ea93259a5b...|8602a61d680a10a82...|2018-07-31 17:30:39|  45.0|        12.98|                     4|                          4.0|                         0.0|                   2.0|                       0.0|                         0.0|                              0.0|                             2.0|                                 0.0|                                0.0|\n|0006ec9db01a64e59...|            1|99a4788cb24856965...|4a3ca9315b744ce9f...|2018-07-26 17:24:20|  74.0|        23.32|                     2|                          0.0|                         1.0|                   1.0|                       1.0|                         0.0|                              1.0|                             2.0|                                 2.0|                                0.0|\n|0008288aa423d2a3f...|            1|368c6c730842d7801...|1f50f920176fa81da...|2018-02-21 02:55:52|  49.9|        13.37|                     6|                          3.0|                         0.0|                   0.0|                       0.0|                         1.0|                              4.0|                             0.0|                                 0.0|                                0.0|\n|0008288aa423d2a3f...|            2|368c6c730842d7801...|1f50f920176fa81da...|2018-02-21 02:55:52|  49.9|        13.37|                     6|                          3.0|                         0.0|                   0.0|                       0.0|                         1.0|                              4.0|                             0.0|                                 0.0|                                0.0|\n|0009792311464db53...|            1|8cab8abac59158715...|530ec6109d11eaaf8...|2018-08-17 12:15:10|  99.9|        27.65|                     2|                          5.0|                         0.0|                   4.0|                       1.0|                         2.0|                              3.0|                             1.0|                                 0.0|                                0.0|\n|0009c9a17f916a706...|            1|3f27ac8e699df3d30...|fcb5ace8bcc92f757...|2018-05-02 09:31:53| 639.0|        11.34|                     7|                          7.0|                         0.0|                   2.0|                       0.0|                         2.0|                              3.0|                             1.0|                                 1.0|                                1.0|\n|000aed2e25dbad2f9...|            1|4fa33915031a8cde0...|fe2032dab1a61af87...|2018-05-16 20:57:03| 144.0|         8.77|                     5|                          2.0|                         0.0|                   1.0|                       0.0|                         0.0|                              0.0|                             0.0|                                 0.0|                                0.0|\n|000c3e6612759851c...|            1|b50c950aba0dcead2...|218d46b86c1881d02...|2017-08-21 03:33:13|  99.0|        13.71|                     6|                          5.0|                         0.0|                   4.0|                       1.0|                         2.0|                              3.0|                             1.0|                                 0.0|                                0.0|\n|000e562887b1f2006...|            1|5ed9eaf534f6936b5...|8cbac7e12637ed9cf...|2018-02-28 12:08:37|  25.0|        16.11|                     6|                          7.0|                         0.0|                   2.0|                       0.0|                         2.0|                              3.0|                             1.0|                                 1.0|                                1.0|\n+--------------------+-------------+--------------------+--------------------+-------------------+------+-------------+----------------------+-----------------------------+----------------------------+----------------------+--------------------------+----------------------------+---------------------------------+--------------------------------+------------------------------------+-----------------------------------+\nonly showing top 20 rows\n\n"
          ]
        }
      ],
      "source": [
        "# Ajustar e transformar os dados\n",
        "try:\n",
        "    final_order_items = pipeline.fit(final_order_items).transform(final_order_items)\n",
        "except Exception as e:\n",
        "    print(f\"Ocorreu um erro ao aplicar o pipeline: {e}\")\n",
        "\n",
        "# Selecionar as colunas finais\n",
        "selected_cols = ['order_id', 'order_item_id', 'product_id', 'seller_id', 'shipping_limit_date',\n",
        "                 'price', 'freight_value', 'days_to_shipping_limit'] + [col + \"_index\" for col in categorical_cols]\n",
        "\n",
        "final_order_items = final_order_items.select(selected_cols)\n",
        "\n",
        "final_order_items.show()"
      ]
    },
    {
      "cell_type": "code",
      "execution_count": null,
      "metadata": {
        "application/vnd.databricks.v1+cell": {
          "cellMetadata": {
            "byteLimit": 2048000,
            "rowLimit": 10000
          },
          "inputWidgets": {},
          "nuid": "33bf7867-3f59-44ad-b63b-b74e0a060172",
          "showTitle": false,
          "tableResultSettingsMap": {},
          "title": ""
        },
        "id": "b8Vl5_skcGjf",
        "outputId": "a4e4c1d3-dadb-43de-e418-caffbe3e2ace"
      },
      "outputs": [
        {
          "output_type": "stream",
          "name": "stdout",
          "text": [
            "Out[23]: DataFrame[summary: string, order_id: string, customer_id: string, order_status: string, days_to_approval: string, days_to_carrier: string, days_to_delivery: string, days_estimated_vs_actual_delivery: string, order_item_id: string, product_id: string, seller_id: string, price: string, freight_value: string, days_to_shipping_limit: string]"
          ]
        }
      ],
      "source": [
        "merged_data.describe()"
      ]
    },
    {
      "cell_type": "code",
      "execution_count": null,
      "metadata": {
        "application/vnd.databricks.v1+cell": {
          "cellMetadata": {
            "byteLimit": 2048000,
            "rowLimit": 10000
          },
          "inputWidgets": {},
          "nuid": "88d48e2a-b000-446c-a5d1-e4a935f219ab",
          "showTitle": false,
          "tableResultSettingsMap": {},
          "title": ""
        },
        "id": "Ps4JNc5ccGjf"
      },
      "outputs": [],
      "source": [
        "# Definir os indexers para os DataFrames corretos\n",
        "indexers_orders = [\n",
        "    StringIndexer(inputCol=\"order_status\", outputCol=\"order_status_index\"),\n",
        "]\n",
        "\n",
        "indexers_sellers = [\n",
        "    StringIndexer(inputCol=\"seller_city\", outputCol=\"seller_city_index\"),\n",
        "    StringIndexer(inputCol=\"seller_state\", outputCol=\"seller_state_index\"),\n",
        "]\n",
        "\n",
        "indexers_customers = [\n",
        "    StringIndexer(inputCol=\"customer_state\", outputCol=\"customer_state_index\"),\n",
        "]\n",
        "\n",
        "indexers_payments = [\n",
        "    StringIndexer(inputCol=\"payment_type\", outputCol=\"payment_type_index\"),\n",
        "]\n",
        "\n",
        "# Aplicar os indexers para orders\n",
        "for indexer in indexers_orders:\n",
        "    output_col = indexer.getOutputCol()\n",
        "    if output_col in orders.columns:\n",
        "        orders = orders.drop(output_col)\n",
        "    orders = indexer.fit(orders).transform(orders)\n",
        "\n",
        "# Aplicar os indexers para sellers\n",
        "for indexer in indexers_sellers:\n",
        "    output_col = indexer.getOutputCol()\n",
        "    if output_col in sellers.columns:\n",
        "        sellers = sellers.drop(output_col)\n",
        "    sellers = indexer.fit(sellers).transform(sellers)\n",
        "\n",
        "# Aplicar os indexers para customers\n",
        "for indexer in indexers_customers:\n",
        "    output_col = indexer.getOutputCol()\n",
        "    if output_col in customers.columns:\n",
        "        customers = customers.drop(output_col)\n",
        "    customers = indexer.fit(customers).transform(customers)\n",
        "\n",
        "# Aplicar os indexers para order_payments\n",
        "for indexer in indexers_payments:\n",
        "    output_col = indexer.getOutputCol()\n",
        "    if output_col in order_payments.columns:\n",
        "        order_payments = order_payments.drop(output_col)\n",
        "    order_payments = indexer.fit(order_payments).transform(order_payments)\n",
        "\n",
        "# Selecionar mês da order_purchase_timestamp\n",
        "orders = orders.withColumn('order_purchase_month', month(col('order_purchase_timestamp')))\n",
        "\n",
        "# Join entre order_items e products para obter as categorias dos produtos\n",
        "order_items = order_items.join(products, on='product_id', how='inner')\n",
        "\n",
        "# Transformar colunas categóricas de produtos\n",
        "categorical_cols_products = [\n",
        "    'segmentacao_necessidade', 'segmentacao_sentimento',\n",
        "    'segmentacao_tipo', 'segmentacao_validade',\n",
        "    'segmentacao_utilizacao', 'segmentacoes_funcionalidade',\n",
        "    'segmentacao_interatividade', 'segmentacoes_impacto_ambiental',\n",
        "    'segmentacoes_interacao_humana'\n",
        "]\n",
        "\n",
        "indexers_products = [StringIndexer(inputCol=col, outputCol=col + \"_index\") for col in categorical_cols_products]\n",
        "pipeline_products = Pipeline(stages=indexers_products)\n",
        "products = pipeline_products.fit(products).transform(products)\n",
        "\n",
        "# Join entre order_items e products com colunas transformadas\n",
        "order_items = order_items.join(products, on='product_id', how='inner')\n",
        "\n",
        "# Consolidar todas as features selecionadas com inner joins\n",
        "df = order_reviews.select('order_id', col('review_score').cast('int').alias('target')) \\\n",
        "    .join(orders.select('order_id', 'customer_id', 'order_status_index', 'order_purchase_month',\n",
        "                        'days_to_approval', 'days_to_carrier',\n",
        "                        'days_to_delivery', 'days_estimated_vs_actual_delivery'),\n",
        "          on='order_id', how='inner') \\\n",
        "    .join(order_items.select('order_id', 'product_id', 'price', 'freight_value', 'seller_id',\n",
        "                             *[col + \"_index\" for col in categorical_cols_products]), on='order_id', how='inner') \\\n",
        "    .join(sellers.select('seller_id', 'seller_city_index', 'seller_state_index'), on='seller_id', how='inner') \\\n",
        "    .join(customers.select('customer_id', 'customer_state_index'), on='customer_id', how='inner') \\\n",
        "    .join(order_payments.select('order_id', 'payment_sequential', 'payment_type_index',\n",
        "                                 'payment_installments', 'payment_value'), on='order_id', how='inner')\n",
        "\n",
        "# Selecionar apenas as colunas necessárias para o modelo, incluindo novas colunas de duração\n",
        "df = df.select('target', 'order_status_index', 'order_purchase_month',\n",
        "               'days_to_approval', 'days_to_carrier',\n",
        "               'days_to_delivery', 'days_estimated_vs_actual_delivery',\n",
        "               'price', 'freight_value',\n",
        "               'segmentacao_necessidade_index',\n",
        "               'segmentacao_sentimento_index',\n",
        "               'segmentacao_tipo_index',\n",
        "               'segmentacao_validade_index',\n",
        "               'segmentacao_utilizacao_index',\n",
        "               'segmentacoes_funcionalidade_index',\n",
        "               'segmentacao_interatividade_index',\n",
        "               'segmentacoes_impacto_ambiental_index',\n",
        "               'segmentacoes_interacao_humana_index',\n",
        "               'seller_city_index',\n",
        "               'seller_state_index',\n",
        "               'customer_state_index',\n",
        "               'payment_sequential',\n",
        "               'payment_type_index',\n",
        "               'payment_installments',\n",
        "               'payment_value')\n",
        "\n",
        "# Filtrar apenas linhas onde a coluna target (review_score) não é nula\n",
        "df = df.filter(df.target.isNotNull())\n",
        "\n",
        "# Tratar valores nulos (se necessário)\n",
        "df = df.na.drop()  # Remove linhas com qualquer valor nulo (se ainda houver)\n",
        "\n",
        "\n",
        "\n",
        "# Visualizar o DataFrame consolidado\n",
        "#df.show()\n",
        "\n",
        "# Contar o número de linhas no DataFrame filtrado\n",
        "#num_linhas_df = df.count()\n",
        "#print(f\"Número de linhas no DataFrame filtrado: {num_linhas_df}\")"
      ]
    },
    {
      "cell_type": "code",
      "execution_count": null,
      "metadata": {
        "application/vnd.databricks.v1+cell": {
          "cellMetadata": {
            "byteLimit": 2048000,
            "rowLimit": 10000
          },
          "inputWidgets": {},
          "nuid": "de24d721-9d25-4da1-a2a6-3689bbe08816",
          "showTitle": false,
          "tableResultSettingsMap": {},
          "title": ""
        },
        "id": "OEaP38fAcGjg"
      },
      "outputs": [],
      "source": [
        "# Converter colunas para os tipos adequados\n",
        "df = df.withColumn(\"order_status_index\", col(\"order_status_index\").cast(\"double\"))\n",
        "df = df.withColumn(\"order_purchase_month\", col(\"order_purchase_month\").cast(\"double\"))\n",
        "df = df.withColumn(\"days_to_approval\", col(\"days_to_approval\").cast(\"double\"))\n",
        "df = df.withColumn(\"days_to_carrier\", col(\"days_to_carrier\").cast(\"double\"))\n",
        "df = df.withColumn(\"days_to_delivery\", col(\"days_to_delivery\").cast(\"double\"))\n",
        "df = df.withColumn(\"days_estimated_vs_actual_delivery\", col(\"days_estimated_vs_actual_delivery\").cast(\"double\"))\n",
        "df = df.withColumn(\"price\", col(\"price\").cast(\"double\"))\n",
        "df = df.withColumn(\"freight_value\", col(\"freight_value\").cast(\"double\"))\n",
        "df = df.withColumn(\"segmentacao_necessidade_index\", col(\"segmentacao_necessidade_index\").cast(\"double\"))\n",
        "df = df.withColumn(\"seller_city_index\", col(\"seller_city_index\").cast(\"double\"))\n",
        "df = df.withColumn(\"seller_state_index\", col(\"seller_state_index\").cast(\"double\"))\n",
        "df = df.withColumn(\"customer_state_index\", col(\"customer_state_index\").cast(\"double\"))\n",
        "df = df.withColumn(\"payment_sequential\", col(\"payment_sequential\").cast(\"double\"))\n",
        "df = df.withColumn(\"payment_type_index\", col(\"payment_type_index\").cast(\"double\"))\n",
        "df = df.withColumn(\"payment_installments\", col(\"payment_installments\").cast(\"double\"))\n",
        "df = df.withColumn(\"payment_value\", col(\"payment_value\").cast(\"double\"))\n"
      ]
    },
    {
      "cell_type": "code",
      "execution_count": null,
      "metadata": {
        "application/vnd.databricks.v1+cell": {
          "cellMetadata": {
            "byteLimit": 2048000,
            "rowLimit": 10000
          },
          "inputWidgets": {},
          "nuid": "981e137b-421e-4793-a3cb-a38f2f83cce6",
          "showTitle": false,
          "tableResultSettingsMap": {},
          "title": ""
        },
        "id": "ac3EEKdEcGjg"
      },
      "outputs": [],
      "source": [
        "#### Selecionar as colunas que queremos normalizar\n",
        "\n",
        "\n",
        "numeric_cols = ['order_status_index', 'order_purchase_month', 'days_to_approval', 'days_to_carrier',\n",
        "                'days_to_delivery', 'days_estimated_vs_actual_delivery', 'price', 'freight_value',\n",
        "                'segmentacao_necessidade_index', 'seller_city_index', 'seller_state_index',\n",
        "                'customer_state_index', 'payment_sequential', 'payment_type_index',\n",
        "                'payment_installments', 'payment_value']\n",
        "\n",
        "assembler = VectorAssembler(inputCols=numeric_cols, outputCol=\"features\")\n",
        "\n",
        "df_assembled = assembler.transform(df)\n",
        "\n",
        "scaler = StandardScaler(inputCol=\"features\", outputCol=\"scaled_features\", withMean=True, withStd=True)\n",
        "\n",
        "scaler_model = scaler.fit(df_assembled)\n",
        "df_scaled = scaler_model.transform(df_assembled)"
      ]
    },
    {
      "cell_type": "code",
      "execution_count": null,
      "metadata": {
        "application/vnd.databricks.v1+cell": {
          "cellMetadata": {
            "byteLimit": 2048000,
            "rowLimit": 10000
          },
          "inputWidgets": {},
          "nuid": "8b643cf9-a8ab-4af0-b0f6-0699d070bd4e",
          "showTitle": false,
          "tableResultSettingsMap": {},
          "title": ""
        },
        "id": "iY2DkuHycGjg",
        "outputId": "f1ff6a40-b835-4d86-f704-51c2d6ce81f7"
      },
      "outputs": [
        {
          "output_type": "display_data",
          "data": {
            "application/vnd.databricks.v1+bamboolib_hint": "{\"pd.DataFrames\": [], \"version\": \"0.0.1\"}",
            "text/plain": []
          },
          "metadata": {}
        },
        {
          "output_type": "stream",
          "name": "stdout",
          "text": [
            "Regressão Linear - RMSE: 1.2440524857122701\nÁrvore de Decisão - RMSE: 1.2076171697618379\nRandom Forest - RMSE: 1.2072475876042539\nGradient Boosting - RMSE: 1.1841223929544948\n              Modelo      RMSE\n0   Regressão Linear  1.244052\n1  Árvore de Decisão  1.207617\n2      Random Forest  1.207248\n3  Gradient Boosting  1.184122\nMelhor modelo: Gradient Boosting\n+--------------------+------+------------------+\n|     scaled_features|target|        prediction|\n+--------------------+------+------------------+\n|[-0.0079415832780...|     1|1.8959411191306237|\n|[-0.0079415832780...|     1| 3.875742020211218|\n|[-0.0079415832780...|     1|4.2117642606060794|\n|[-0.0079415832780...|     1|1.6584289320475418|\n|[-0.0079415832780...|     1| 4.336953706518051|\n+--------------------+------+------------------+\nonly showing top 5 rows\n\n"
          ]
        }
      ],
      "source": [
        "# Dividir o DataFrame em treino e teste\n",
        "train_df, test_df = df_scaled.randomSplit([0.8, 0.2], seed=42)\n",
        "\n",
        "# Definir o alvo (target)\n",
        "label_col = 'target'\n",
        "\n",
        "# Modelos a serem treinados\n",
        "modelos = {\n",
        "    'Regressão Linear': LinearRegression(featuresCol='scaled_features', labelCol=label_col),\n",
        "    'Árvore de Decisão': DecisionTreeRegressor(featuresCol='scaled_features', labelCol=label_col),\n",
        "    'Random Forest': RandomForestRegressor(featuresCol='scaled_features', labelCol=label_col),\n",
        "    'Gradient Boosting': GBTRegressor(featuresCol='scaled_features', labelCol=label_col)\n",
        "}\n",
        "\n",
        "# Avaliador\n",
        "avaliador = RegressionEvaluator(labelCol=label_col, predictionCol='prediction', metricName='rmse')\n",
        "\n",
        "# Treinamento e avaliação dos modelos\n",
        "resultados = []\n",
        "\n",
        "for nome, modelo in modelos.items():\n",
        "    # Treinar o modelo\n",
        "    modelo_treinado = modelo.fit(train_df)\n",
        "\n",
        "    # Fazer previsões no conjunto de teste\n",
        "    previsoes = modelo_treinado.transform(test_df)\n",
        "\n",
        "    # Avaliar o modelo\n",
        "    rmse = avaliador.evaluate(previsoes)\n",
        "\n",
        "    # Armazenar os resultados\n",
        "    resultados.append((nome, rmse))\n",
        "    print(f'{nome} - RMSE: {rmse}')\n",
        "\n",
        "### Converter os resultados para DataFrame Pandas para visualização\n",
        "resultados_df = pd.DataFrame(resultados, columns=['Modelo', 'RMSE'])\n",
        "print(resultados_df)\n",
        "\n",
        "# Escolher o melhor modelo baseado no RMSE\n",
        "melhor_modelo_nome = resultados_df.loc[resultados_df['RMSE'].idxmin(), 'Modelo']\n",
        "print(f'Melhor modelo: {melhor_modelo_nome}')\n",
        "\n",
        "# Treinar o melhor modelo com todo o dataset\n",
        "melhor_modelo = modelos[melhor_modelo_nome].fit(df_scaled)\n",
        "\n",
        "# Fazer previsões com o melhor modelo (por exemplo, no conjunto de teste)\n",
        "previsoes_finais = melhor_modelo.transform(test_df)\n",
        "previsoes_finais.select('scaled_features', 'target', 'prediction').show(5)\n"
      ]
    },
    {
      "cell_type": "code",
      "execution_count": null,
      "metadata": {
        "application/vnd.databricks.v1+cell": {
          "cellMetadata": {
            "byteLimit": 2048000,
            "rowLimit": 10000
          },
          "inputWidgets": {},
          "nuid": "d684a9de-456e-4d24-aa41-1fc2c9f2938a",
          "showTitle": false,
          "tableResultSettingsMap": {},
          "title": ""
        },
        "id": "QDCFfuKXcGjg",
        "outputId": "bdec98f7-4595-4375-83f4-a83ada87d22b"
      },
      "outputs": [
        {
          "output_type": "stream",
          "name": "stdout",
          "text": [
            "Tamanho do conjunto de treino: 44808\nTamanho do conjunto de teste: 10902\n"
          ]
        }
      ],
      "source": [
        "# Selecionar uma amostra de 50% dos dados\n",
        "df_sampled = df_scaled.sample(withReplacement=False, fraction=0.5, seed=42)\n",
        "\n",
        "# Dividir o DataFrame em treino e teste a partir da amostra\n",
        "train_df, test_df = df_sampled.randomSplit([0.8, 0.2], seed=42)\n",
        "\n",
        "# Verificar a contagem de registros nos conjuntos de treino e teste\n",
        "print(f'Tamanho do conjunto de treino: {train_df.count()}')\n",
        "print(f'Tamanho do conjunto de teste: {test_df.count()}')\n",
        "\n",
        "label_col = 'target'\n",
        "\n",
        "# Definir o modelo de Gradient Boosting\n",
        "gbt = GBTRegressor(featuresCol='scaled_features', labelCol=label_col)\n",
        "\n",
        "# Definir o avaliador\n",
        "avaliador = RegressionEvaluator(labelCol=label_col, predictionCol='prediction', metricName='rmse')\n",
        "\n",
        "# Definir Grid de Hiperparâmetros para Gradient Boosting\n",
        "paramGrid = (ParamGridBuilder()\n",
        "             .addGrid(gbt.maxIter, [10, 20])\n",
        "             .addGrid(gbt.maxDepth, [5, 10])\n",
        "             .addGrid(gbt.stepSize, [0.01, 0.1])\n",
        "             .build())\n",
        "\n",
        "# Configurar o CrossValidator com 3 folds\n",
        "crossval = CrossValidator(estimator=gbt,\n",
        "                          estimatorParamMaps=paramGrid,\n",
        "                          evaluator=avaliador,\n",
        "                          numFolds=3)\n",
        "\n",
        "# Treinar o modelo com Grid Search\n",
        "modelo_treinado = crossval.fit(train_df)\n",
        "\n",
        "melhor_modelo = modelo_treinado.bestModel\n",
        "\n",
        "\n",
        "previsoes = melhor_modelo.transform(test_df)\n",
        "\n",
        "rmse = avaliador.evaluate(previsoes)\n",
        "print(f'Melhor RMSE: {rmse}')\n",
        "print(f'Melhores Hiperparâmetros: {melhor_modelo.extractParamMap()}')\n",
        "\n",
        "previsoes.select('scaled_features', 'target', 'prediction').show(5)\n"
      ]
    },
    {
      "cell_type": "code",
      "execution_count": null,
      "metadata": {
        "application/vnd.databricks.v1+cell": {
          "cellMetadata": {
            "byteLimit": 2048000,
            "rowLimit": 10000
          },
          "inputWidgets": {},
          "nuid": "e4d68fad-4b17-4796-a257-69b03d8619f6",
          "showTitle": false,
          "tableResultSettingsMap": {},
          "title": ""
        },
        "id": "si4lNlCEcGjg",
        "outputId": "f385c08f-8054-4cb5-96b8-3a95ceaf5569"
      },
      "outputs": [
        {
          "output_type": "stream",
          "name": "stdout",
          "text": [
            "Feature: order_status_index, Importance: 0.000763625481510014\nFeature: order_purchase_month, Importance: 0.03775620810318513\nFeature: days_to_approval, Importance: 0.009728609025385023\nFeature: days_to_carrier, Importance: 0.034594138554760547\nFeature: days_to_delivery, Importance: 0.0705470893679567\nFeature: days_estimated_vs_actual_delivery, Importance: 0.2623837681065271\nFeature: price, Importance: 0.19256102122548102\nFeature: freight_value, Importance: 0.04907376201349866\nFeature: segmentacao_necessidade_index, Importance: 0.03205260153761093\nFeature: seller_city_index, Importance: 0.051270396343339346\nFeature: seller_state_index, Importance: 0.012065482628675284\nFeature: customer_state_index, Importance: 0.027319647422264042\nFeature: payment_sequential, Importance: 0.030219491374424493\nFeature: payment_type_index, Importance: 0.00760760365804144\nFeature: payment_installments, Importance: 0.016349992838224796\nFeature: payment_value, Importance: 0.16570656231911537\n"
          ]
        }
      ],
      "source": [
        "### verificar a importância que cada feature tem em realão ao nosso target\n",
        "importances = melhor_modelo.featureImportances\n",
        "for feature, importance in zip(numeric_cols, importances):\n",
        "    print(f'Feature: {feature}, Importance: {importance}')"
      ]
    },
    {
      "cell_type": "code",
      "execution_count": null,
      "metadata": {
        "application/vnd.databricks.v1+cell": {
          "cellMetadata": {
            "byteLimit": 2048000,
            "rowLimit": 10000
          },
          "inputWidgets": {},
          "nuid": "1e40c0da-5266-4f29-85ee-519f30486006",
          "showTitle": false,
          "tableResultSettingsMap": {},
          "title": ""
        },
        "id": "MXC_uE6zcGjh",
        "outputId": "cd5278a9-43e8-4fff-e1ce-2d066284dc08"
      },
      "outputs": [
        {
          "output_type": "stream",
          "name": "stdout",
          "text": [
            "Média dos review_scores antes das modificações: 4.105435524221059\nMédia dos review_scores depois das modificações: 4.0949566178792915\n"
          ]
        }
      ],
      "source": [
        "# Calcular a média dos review_scores antes das modificações\n",
        "media_antes = test_df.select(avg('target')).first()[0]\n",
        "print(f'Média dos review_scores antes das modificações: {media_antes}')\n",
        "\n",
        "# Aplicar novas modificações sugeridas\n",
        "test_df_modificado = test_df.withColumn('order_status_index', col('order_status_index') + 1)\n",
        "test_df_modificado = test_df_modificado.withColumn('payment_installments', col('payment_installments') + 1)\n",
        "test_df_modificado = test_df_modificado.withColumn('payment_value', col('payment_value') * 0.95)\n",
        "test_df_modificado = test_df_modificado.withColumn('price', when(col('order_purchase_month').isin([11, 12]), col('price') * 0.8).otherwise(col('price')))\n",
        "\n",
        "# Fazer previsões com o modelo ajustado\n",
        "previsoes_modificado = melhor_modelo.transform(test_df_modificado)\n",
        "\n",
        "# Calcular a média dos review_scores depois das modificações\n",
        "media_depois = previsoes_modificado.select(avg('prediction')).first()[0]\n",
        "print(f'Média dos review_scores depois das modificações: {media_depois}')\n"
      ]
    }
  ],
  "metadata": {
    "application/vnd.databricks.v1+notebook": {
      "dashboards": [
        {
          "elements": [
            {
              "dashboardResultIndex": 0,
              "elementNUID": "cca727c0-a751-47d6-b895-aece4d65089a",
              "elementType": "command",
              "guid": "7766391e-537f-46ed-bc26-d2d29d07b8f4",
              "options": null,
              "position": {
                "height": 6,
                "width": 22,
                "x": 0,
                "y": 5,
                "z": null
              },
              "resultIndex": null
            },
            {
              "dashboardResultIndex": 0,
              "elementNUID": "89f35aed-c7b0-47eb-bdc9-e703c41fd35f",
              "elementType": "command",
              "guid": "9150fac0-97d0-44a1-8c5a-7d4459c4c368",
              "options": null,
              "position": {
                "height": 5,
                "width": 17,
                "x": 0,
                "y": 0,
                "z": null
              },
              "resultIndex": null
            }
          ],
          "globalVars": {},
          "guid": "",
          "layoutOption": {
            "grid": true,
            "stack": true
          },
          "nuid": "2d7c5df8-75a8-4c8b-81bd-256ffb0c0956",
          "origId": 3336233383555769,
          "title": "E-commerce",
          "version": "DashboardViewV1",
          "width": 1024
        },
        {
          "elements": [
            {
              "dashboardResultIndex": 0,
              "elementNUID": "89f35aed-c7b0-47eb-bdc9-e703c41fd35f",
              "elementType": "command",
              "guid": "19bc9156-8865-4af3-991d-4704bf7aaaf9",
              "options": null,
              "position": {
                "height": 6,
                "width": 12,
                "x": 0,
                "y": 54,
                "z": null
              },
              "resultIndex": null
            }
          ],
          "globalVars": {},
          "guid": "",
          "layoutOption": {
            "grid": true,
            "stack": true
          },
          "nuid": "ae309597-f2e2-45ca-93ae-80b4ceb64182",
          "origId": 4313604493999701,
          "title": "Untitled",
          "version": "DashboardViewV1",
          "width": 1024
        }
      ],
      "environmentMetadata": null,
      "language": "python",
      "notebookMetadata": {
        "mostRecentlyExecutedCommandWithImplicitDF": {
          "commandId": -1,
          "dataframes": [
            "_sqldf"
          ]
        },
        "pythonIndentUnit": 4
      },
      "notebookName": "AnaliseAnalise... 2024-11-04 13:40:59",
      "widgets": {}
    },
    "colab": {
      "provenance": [],
      "include_colab_link": true
    }
  },
  "nbformat": 4,
  "nbformat_minor": 0
}