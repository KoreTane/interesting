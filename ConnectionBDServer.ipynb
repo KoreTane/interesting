{
 "cells": [
  {
   "cell_type": "code",
   "execution_count": 12,
   "id": "cf1045b2",
   "metadata": {},
   "outputs": [],
   "source": [
    "import pyodbc\n",
    "\n",
    "# Dados de conexão com o banco de dados\n",
    "server = 'localhost\\\\SQLEXPRESS'  \n",
    "database = 'Concentrix'  \n",
    "username = 'kkk'  \n",
    "password = '123'  \n",
    "\n",
    "# String de conexão\n",
    "conn_str = (\n",
    "    'DRIVER={ODBC Driver 18 for SQL Server};'\n",
    "    f'SERVER={server};'\n",
    "    f'DATABASE={database};'\n",
    "    f'UID={username};'\n",
    "    f'PWD={password};'\n",
    "    'TrustServerCertificate=yes;'\n",
    "    'Encrypt=yes;'\n",
    ")\n",
    "\n",
    "# Função para estabelecer a conexão com o banco de dados\n",
    "def connect_to_db():\n",
    "    try:\n",
    "        # Estabelecendo a conexão com o banco de dados\n",
    "        conn = pyodbc.connect(conn_str)\n",
    "        print(\"Conexão estabelecida com sucesso!\")\n",
    "        return conn\n",
    "    except pyodbc.Error as ex:\n",
    "        # Tratar erros\n",
    "        print(f'Erro ao conectar ao banco de dados: {ex}')\n",
    "        return None\n"
   ]
  },
  {
   "cell_type": "code",
   "execution_count": 14,
   "id": "62a67068",
   "metadata": {},
   "outputs": [
    {
     "name": "stdout",
     "output_type": "stream",
     "text": [
      "Conexão estabelecida com sucesso!\n",
      "Digite o primeiro nome do vendedor: Ivone\n",
      "Digite o sobrenome do vendedor: Pediatr\n",
      "Digite o email do vendedor: ivoneped@gmail.com\n",
      "Digite o telefone do vendedor: 5515326598\n",
      "Digite a taxa de comissão do vendedor: 5\n",
      "Vendedor inserido com sucesso!\n"
     ]
    }
   ],
   "source": [
    "# Função para inserir um novo vendedor\n",
    "def insert_seller(conn, firstName, lastName, email, phone, commissionRate):\n",
    "    try:\n",
    "        cursor = conn.cursor()\n",
    "        # Chamar a stored procedure\n",
    "        cursor.execute(\n",
    "            'EXEC dbo.InsertSeller @FirstName=?, @LastName=?, @Email=?, @Phone=?, @CommissionRate=?',\n",
    "            (firstName, lastName, email, phone, commissionRate)\n",
    "        )\n",
    "        # Confirmar as alterações\n",
    "        conn.commit()\n",
    "        print(\"Vendedor inserido com sucesso!\")\n",
    "    except pyodbc.Error as ex:\n",
    "        # Tratar erros\n",
    "        print(f'Erro ao inserir vendedor: {ex}')\n",
    "    finally:\n",
    "        # Fechar o cursor\n",
    "        if 'cursor' in locals():\n",
    "            cursor.close()\n",
    "\n",
    "# Solicitar dados do usuário\n",
    "def get_seller_data():\n",
    "    firstName = input(\"Digite o primeiro nome do vendedor: \")\n",
    "    lastName = input(\"Digite o sobrenome do vendedor: \")\n",
    "    email = input(\"Digite o email do vendedor: \")\n",
    "    phone = input(\"Digite o telefone do vendedor: \")\n",
    "    commissionRate = float(input(\"Digite a taxa de comissão do vendedor: \"))\n",
    "    return firstName, lastName, email, phone, commissionRate\n",
    "\n",
    "# Estabelecer conexão\n",
    "conn = connect_to_db()\n",
    "if conn:\n",
    "    # Obter dados do vendedor\n",
    "    firstName, lastName, email, phone, commissionRate = get_seller_data()\n",
    "    # Inserir vendedor\n",
    "    insert_seller(conn, firstName, lastName, email, phone, commissionRate)\n",
    "    # Fechar a conexão\n",
    "    conn.close()"
   ]
  },
  {
   "cell_type": "code",
   "execution_count": null,
   "id": "83dd531e",
   "metadata": {},
   "outputs": [],
   "source": []
  }
 ],
 "metadata": {
  "kernelspec": {
   "display_name": "Python 3 (ipykernel)",
   "language": "python",
   "name": "python3"
  },
  "language_info": {
   "codemirror_mode": {
    "name": "ipython",
    "version": 3
   },
   "file_extension": ".py",
   "mimetype": "text/x-python",
   "name": "python",
   "nbconvert_exporter": "python",
   "pygments_lexer": "ipython3",
   "version": "3.10.9"
  }
 },
 "nbformat": 4,
 "nbformat_minor": 5
}
