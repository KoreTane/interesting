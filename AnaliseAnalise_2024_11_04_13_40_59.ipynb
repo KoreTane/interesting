{
  "cells": [
    {
      "cell_type": "markdown",
      "metadata": {
        "id": "view-in-github",
        "colab_type": "text"
      },
      "source": [
        "<a href=\"https://colab.research.google.com/github/KoreTane/interesting/blob/main/AnaliseAnalise_2024_11_04_13_40_59.ipynb\" target=\"_parent\"><img src=\"https://colab.research.google.com/assets/colab-badge.svg\" alt=\"Open In Colab\"/></a>"
      ]
    },
    {
      "cell_type": "code",
      "source": [
        "!pip install pyspark"
      ],
      "metadata": {
        "id": "fKY7qrMF3fvr"
      },
      "execution_count": null,
      "outputs": []
    },
    {
      "cell_type": "code",
      "execution_count": null,
      "metadata": {
        "application/vnd.databricks.v1+cell": {
          "cellMetadata": {
            "byteLimit": 2048000,
            "rowLimit": 10000
          },
          "inputWidgets": {},
          "nuid": "f2bba273-bc53-4e42-a2d8-1ecf3193bc3e",
          "showTitle": false,
          "tableResultSettingsMap": {},
          "title": ""
        },
        "id": "OhJzuQaeL4E2",
        "colab": {
          "base_uri": "https://localhost:8080/"
        },
        "outputId": "550332a3-87cf-4a2a-d89e-e18233f878da"
      },
      "outputs": [
        {
          "output_type": "stream",
          "name": "stderr",
          "text": [
            "/usr/local/lib/python3.10/dist-packages/pyspark/pandas/__init__.py:50: UserWarning: 'PYARROW_IGNORE_TIMEZONE' environment variable was not set. It is required to set this environment variable to '1' in both driver and executor sides if you use pyarrow>=2.0.0. pandas-on-Spark will set it for you but it does not work if there is a Spark context already launched.\n",
            "  warnings.warn(\n"
          ]
        }
      ],
      "source": [
        "from pyspark.sql.functions import *\n",
        "from pyspark.sql.types import *\n",
        "import matplotlib.pyplot as plt\n",
        "from pyspark.sql import functions as F\n",
        "import seaborn as sns\n",
        "import pyspark.pandas as ps\n",
        "from pyspark.sql import SparkSession\n",
        "from pyspark.ml.feature import OneHotEncoder, StringIndexer\n",
        "from pyspark.ml import Pipeline\n",
        "from pyspark.ml.feature import StringIndexer, VectorAssembler, MinMaxScaler\n",
        "from pyspark.ml.stat import Correlation\n",
        "\n",
        "\n",
        "spark = SparkSession.builder \\\n",
        "    .appName(\"Olist Data Analysis\") \\\n",
        "    .getOrCreate()\n",
        "\n",
        "\n",
        "# Ler cada arquivo CSV diretamente\n",
        "order_reviews = spark.read.option(\"header\", \"true\").csv(\"order_reviews.csv\")\n",
        "product_category_name_translation = spark.read.option(\"header\", \"true\").csv(\"product_category_name_translation.csv\")\n",
        "orders = spark.read.option(\"header\", \"true\").csv(\"orders.csv\")\n",
        "sellers = spark.read.option(\"header\", \"true\").csv(\"sellers.csv\")\n",
        "products = spark.read.option(\"header\", \"true\").csv(\"products.csv\")\n",
        "customers = spark.read.option(\"header\", \"true\").csv(\"customers.csv\")\n",
        "order_items = spark.read.option(\"header\", \"true\").csv(\"order_items.csv\")\n",
        "order_payments = spark.read.option(\"header\", \"true\").csv(\"order_payments.csv\")\n",
        "geolocation = spark.read.option(\"header\", \"true\").csv(\"geolocation.csv\")\n",
        "\n",
        "# Exibindo os DataFrames\n",
        "#display(order_reviews)\n",
        "#display(product_category_name_translation)\n",
        "#display(orders)\n",
        "#display(sellers)\n",
        "#display(products)\n",
        "#display(customers)\n",
        "#display(order_items)\n",
        "#display(order_payments)\n",
        "#display(geolocation)\n",
        "# Definir o esquema do DataFrame para orders"
      ]
    },
    {
      "cell_type": "code",
      "execution_count": null,
      "metadata": {
        "application/vnd.databricks.v1+cell": {
          "cellMetadata": {
            "byteLimit": 2048000,
            "rowLimit": 10000
          },
          "inputWidgets": {},
          "nuid": "a92b1d9f-9169-4978-a7b0-4ce5536381db",
          "showTitle": false,
          "tableResultSettingsMap": {},
          "title": ""
        },
        "id": "dgwSsVxPL4E5",
        "outputId": "53ae84a3-bad4-415b-e148-c4650e322f2d",
        "colab": {
          "base_uri": "https://localhost:8080/",
          "height": 52
        }
      },
      "outputs": [
        {
          "output_type": "display_data",
          "data": {
            "text/plain": [
              "DataFrame[order_id: string, order_item_id: string, product_id: string, seller_id: string, shipping_limit_date: string, price: string, freight_value: string]"
            ]
          },
          "metadata": {}
        }
      ],
      "source": [
        "display(order_items)"
      ]
    },
    {
      "cell_type": "code",
      "execution_count": null,
      "metadata": {
        "application/vnd.databricks.v1+cell": {
          "cellMetadata": {
            "byteLimit": 2048000,
            "rowLimit": 10000
          },
          "inputWidgets": {},
          "nuid": "399061fd-ae4a-4375-9df6-b627946fa55a",
          "showTitle": false,
          "tableResultSettingsMap": {},
          "title": ""
        },
        "id": "C2lE9GM7L4E6",
        "outputId": "ae22b902-1fa7-4469-b54e-3d0332c9754f",
        "colab": {
          "base_uri": "https://localhost:8080/"
        }
      },
      "outputs": [
        {
          "output_type": "stream",
          "name": "stdout",
          "text": [
            "root\n",
            " |-- review_id: string (nullable = true)\n",
            " |-- order_id: string (nullable = true)\n",
            " |-- review_score: string (nullable = true)\n",
            " |-- review_comment_title: string (nullable = true)\n",
            " |-- review_comment_message: string (nullable = true)\n",
            " |-- review_creation_date: string (nullable = true)\n",
            " |-- review_answer_timestamp: string (nullable = true)\n",
            "\n",
            "root\n",
            " |-- product_category_name: string (nullable = true)\n",
            " |-- product_category_name_english: string (nullable = true)\n",
            "\n",
            "root\n",
            " |-- order_id: string (nullable = true)\n",
            " |-- customer_id: string (nullable = true)\n",
            " |-- order_status: string (nullable = true)\n",
            " |-- order_purchase_timestamp: string (nullable = true)\n",
            " |-- order_approved_at: string (nullable = true)\n",
            " |-- order_delivered_carrier_date: string (nullable = true)\n",
            " |-- order_delivered_customer_date: string (nullable = true)\n",
            " |-- order_estimated_delivery_date: string (nullable = true)\n",
            "\n",
            "root\n",
            " |-- seller_id: string (nullable = true)\n",
            " |-- seller_zip_code_prefix: string (nullable = true)\n",
            " |-- seller_city: string (nullable = true)\n",
            " |-- seller_state: string (nullable = true)\n",
            "\n",
            "root\n",
            " |-- product_id: string (nullable = true)\n",
            " |-- product_category_name: string (nullable = true)\n",
            " |-- product_name_lenght: string (nullable = true)\n",
            " |-- product_description_lenght: string (nullable = true)\n",
            " |-- product_photos_qty: string (nullable = true)\n",
            " |-- product_weight_g: string (nullable = true)\n",
            " |-- product_length_cm: string (nullable = true)\n",
            " |-- product_height_cm: string (nullable = true)\n",
            " |-- product_width_cm: string (nullable = true)\n",
            "\n",
            "root\n",
            " |-- customer_id: string (nullable = true)\n",
            " |-- customer_unique_id: string (nullable = true)\n",
            " |-- customer_zip_code_prefix: string (nullable = true)\n",
            " |-- customer_city: string (nullable = true)\n",
            " |-- customer_state: string (nullable = true)\n",
            "\n",
            "root\n",
            " |-- order_id: string (nullable = true)\n",
            " |-- order_item_id: string (nullable = true)\n",
            " |-- product_id: string (nullable = true)\n",
            " |-- seller_id: string (nullable = true)\n",
            " |-- shipping_limit_date: string (nullable = true)\n",
            " |-- price: string (nullable = true)\n",
            " |-- freight_value: string (nullable = true)\n",
            "\n",
            "root\n",
            " |-- order_id: string (nullable = true)\n",
            " |-- payment_sequential: string (nullable = true)\n",
            " |-- payment_type: string (nullable = true)\n",
            " |-- payment_installments: string (nullable = true)\n",
            " |-- payment_value: string (nullable = true)\n",
            "\n",
            "root\n",
            " |-- geolocation_zip_code_prefix: string (nullable = true)\n",
            " |-- geolocation_lat: string (nullable = true)\n",
            " |-- geolocation_lng: string (nullable = true)\n",
            " |-- geolocation_city: string (nullable = true)\n",
            " |-- geolocation_state: string (nullable = true)\n",
            "\n"
          ]
        }
      ],
      "source": [
        "# Exibir as colunas de filtered_order_items\n",
        "order_reviews.printSchema()\n",
        "product_category_name_translation.printSchema()\n",
        "orders.printSchema()\n",
        "sellers.printSchema()\n",
        "products.printSchema()\n",
        "customers.printSchema()\n",
        "order_items.printSchema()\n",
        "order_payments.printSchema()\n",
        "geolocation.printSchema()"
      ]
    },
    {
      "cell_type": "code",
      "execution_count": null,
      "metadata": {
        "application/vnd.databricks.v1+cell": {
          "cellMetadata": {
            "byteLimit": 2048000,
            "rowLimit": 10000
          },
          "inputWidgets": {},
          "nuid": "f82df5d4-c39e-4cbe-97f6-fe6ad2233132",
          "showTitle": false,
          "tableResultSettingsMap": {},
          "title": ""
        },
        "id": "neNxZQLmL4E7",
        "outputId": "0f68e6f4-1d4a-4b59-fd6b-37295d760cda",
        "colab": {
          "base_uri": "https://localhost:8080/"
        }
      },
      "outputs": [
        {
          "output_type": "stream",
          "name": "stdout",
          "text": [
            "Descriptive Statistics for Order Reviews:\n",
            "+-------+------------------+-----------------------------------------+---------------------+--------------------+----------------------+------------------------------------------------------------------+-----------------------------------------------+\n",
            "|summary|review_id         |order_id                                 |review_score         |review_comment_title|review_comment_message|review_creation_date                                              |review_answer_timestamp                        |\n",
            "+-------+------------------+-----------------------------------------+---------------------+--------------------+----------------------+------------------------------------------------------------------+-----------------------------------------------+\n",
            "|count  |104161            |101926                                   |101782               |12005               |41083                 |95398                                                             |95377                                          |\n",
            "|mean   |4.5               |0.0                                      |4.087204087597126    |3.165434995880696E10|8.172413793103448     |NULL                                                              |NULL                                           |\n",
            "|stddev |0.7071067811865476|0.0                                      |1.3750046423971867   |5.625434750908945E11|3.1175650470615843    |NULL                                                              |NULL                                           |\n",
            "|min    | \"                |                                         | \"                   |                    |                      | FOI A MINHA PRIMEIRA COMPRA E NÃO RECOMENDO                      | POIS NÃO CUMPREM PARA DE ENTREGA ESTABELECIDO.|\n",
            "|max    |🤙🏼👏🏼👏🏼\"     |visando sempre o melhor para os clientes!|seria mais coerente.\"|🔟                  |😡😡😡😡😡👎👎👎👎👎  |veio bem embalada oque indica que foi embalada ja quebrada.triste\"|70 + R$15                                      |\n",
            "+-------+------------------+-----------------------------------------+---------------------+--------------------+----------------------+------------------------------------------------------------------+-----------------------------------------------+\n",
            "\n",
            "Descriptive Statistics for Product Category Name Translation:\n",
            "+-------+-------------------------+-----------------------------+\n",
            "|summary|product_category_name    |product_category_name_english|\n",
            "+-------+-------------------------+-----------------------------+\n",
            "|count  |71                       |71                           |\n",
            "|mean   |NULL                     |NULL                         |\n",
            "|stddev |NULL                     |NULL                         |\n",
            "|min    |agro_industria_e_comercio|agro_industry_and_commerce   |\n",
            "|max    |utilidades_domesticas    |watches_gifts                |\n",
            "+-------+-------------------------+-----------------------------+\n",
            "\n",
            "Descriptive Statistics for Orders:\n",
            "+-------+--------------------------------+--------------------------------+------------+------------------------+-------------------+----------------------------+-----------------------------+-----------------------------+\n",
            "|summary|order_id                        |customer_id                     |order_status|order_purchase_timestamp|order_approved_at  |order_delivered_carrier_date|order_delivered_customer_date|order_estimated_delivery_date|\n",
            "+-------+--------------------------------+--------------------------------+------------+------------------------+-------------------+----------------------------+-----------------------------+-----------------------------+\n",
            "|count  |99441                           |99441                           |99441       |99441                   |99281              |97658                       |96476                        |99441                        |\n",
            "|mean   |NULL                            |NULL                            |NULL        |NULL                    |NULL               |NULL                        |NULL                         |NULL                         |\n",
            "|stddev |NULL                            |NULL                            |NULL        |NULL                    |NULL               |NULL                        |NULL                         |NULL                         |\n",
            "|min    |00010242fe8c5a6d1ba2dd792cb16214|00012a2ce6f8dcda20d059ce98491703|approved    |2016-09-04 21:15:19     |2016-09-15 12:16:38|2016-10-08 10:34:01         |2016-10-11 13:46:32          |2016-09-30 00:00:00          |\n",
            "|max    |fffe41c64501cc87c801fd61db3f6244|ffffe8b65bbe3087b653a978c870db99|unavailable |2018-10-17 17:30:18     |2018-09-03 17:40:06|2018-09-11 19:48:28         |2018-10-17 13:22:46          |2018-11-12 00:00:00          |\n",
            "+-------+--------------------------------+--------------------------------+------------+------------------------+-------------------+----------------------------+-----------------------------+-----------------------------+\n",
            "\n",
            "Descriptive Statistics for Sellers:\n",
            "+-------+--------------------------------+----------------------+-----------+------------+\n",
            "|summary|seller_id                       |seller_zip_code_prefix|seller_city|seller_state|\n",
            "+-------+--------------------------------+----------------------+-----------+------------+\n",
            "|count  |3095                            |3095                  |3095       |3095        |\n",
            "|mean   |NULL                            |32291.059450726978    |4482255.0  |NULL        |\n",
            "|stddev |NULL                            |32713.45382950901     |NULL       |NULL        |\n",
            "|min    |0015a82c2db000af6aaaf3ae2ecb0532|01001                 |04482255   |AC          |\n",
            "|max    |ffff564a4f9085cd26170f4732393726|99730                 |xaxim      |SP          |\n",
            "+-------+--------------------------------+----------------------+-----------+------------+\n",
            "\n",
            "Descriptive Statistics for Products:\n",
            "+-------+--------------------------------+-------------------------+-------------------+--------------------------+------------------+------------------+------------------+------------------+------------------+\n",
            "|summary|product_id                      |product_category_name    |product_name_lenght|product_description_lenght|product_photos_qty|product_weight_g  |product_length_cm |product_height_cm |product_width_cm  |\n",
            "+-------+--------------------------------+-------------------------+-------------------+--------------------------+------------------+------------------+------------------+------------------+------------------+\n",
            "|count  |32951                           |32341                    |32341              |32341                     |32341             |32949             |32949             |32949             |32949             |\n",
            "|mean   |NULL                            |NULL                     |48.47694876472589  |771.4952846232337         |2.1889861166939797|2276.4724877841513|30.81507784758263 |16.937661234028347|23.196728277034204|\n",
            "|stddev |NULL                            |NULL                     |10.245740725237287 |635.1152246349538         |1.7367656379315435|4282.038730977024 |16.914458054065953|13.637554061749569|12.079047453227794|\n",
            "|min    |00066f42aeeb9f3007548bb9d3f33c38|agro_industria_e_comercio|10                 |100                       |1                 |0                 |10                |10                |10                |\n",
            "|max    |fffe9eeff12fcbd74a2f2b007dde0c58|utilidades_domesticas    |9                  |999                       |9                 |998               |99                |99                |98                |\n",
            "+-------+--------------------------------+-------------------------+-------------------+--------------------------+------------------+------------------+------------------+------------------+------------------+\n",
            "\n",
            "Descriptive Statistics for Customers:\n",
            "+-------+--------------------------------+--------------------------------+------------------------+-------------------+--------------+\n",
            "|summary|customer_id                     |customer_unique_id              |customer_zip_code_prefix|customer_city      |customer_state|\n",
            "+-------+--------------------------------+--------------------------------+------------------------+-------------------+--------------+\n",
            "|count  |99441                           |99441                           |99441                   |99441              |99441         |\n",
            "|mean   |NULL                            |NULL                            |35137.47458291851       |NULL               |NULL          |\n",
            "|stddev |NULL                            |NULL                            |29797.938996206158      |NULL               |NULL          |\n",
            "|min    |00012a2ce6f8dcda20d059ce98491703|0000366f3b9a7992bf8c76cfdf3221e2|01003                   |abadia dos dourados|AC            |\n",
            "|max    |ffffe8b65bbe3087b653a978c870db99|ffffd2657e2aad2907e67c3e9daecbeb|99990                   |zortea             |TO            |\n",
            "+-------+--------------------------------+--------------------------------+------------------------+-------------------+--------------+\n",
            "\n",
            "Descriptive Statistics for Order Items:\n",
            "+-------+--------------------------------+------------------+--------------------------------+--------------------------------+-------------------+------------------+------------------+\n",
            "|summary|order_id                        |order_item_id     |product_id                      |seller_id                       |shipping_limit_date|price             |freight_value     |\n",
            "+-------+--------------------------------+------------------+--------------------------------+--------------------------------+-------------------+------------------+------------------+\n",
            "|count  |112650                          |112650            |112650                          |112650                          |112650             |112650            |112650            |\n",
            "|mean   |NULL                            |1.1978339991122948|NULL                            |NULL                            |NULL               |120.65373901471354|19.99031992898364 |\n",
            "|stddev |NULL                            |0.7051240313951722|NULL                            |NULL                            |NULL               |183.63392805026012|15.806405412297071|\n",
            "|min    |00010242fe8c5a6d1ba2dd792cb16214|1                 |00066f42aeeb9f3007548bb9d3f33c38|0015a82c2db000af6aaaf3ae2ecb0532|2016-09-19 00:15:34|0.85              |0.00              |\n",
            "|max    |fffe41c64501cc87c801fd61db3f6244|9                 |fffe9eeff12fcbd74a2f2b007dde0c58|ffff564a4f9085cd26170f4732393726|2020-04-09 22:35:08|999.99            |99.97             |\n",
            "+-------+--------------------------------+------------------+--------------------------------+--------------------------------+-------------------+------------------+------------------+\n",
            "\n",
            "Descriptive Statistics for Order Payments:\n",
            "+-------+--------------------------------+------------------+------------+--------------------+------------------+\n",
            "|summary|order_id                        |payment_sequential|payment_type|payment_installments|payment_value     |\n",
            "+-------+--------------------------------+------------------+------------+--------------------+------------------+\n",
            "|count  |103886                          |103886            |103886      |103886              |103886            |\n",
            "|mean   |NULL                            |1.0926785129853878|NULL        |2.853348863176944   |154.10038041698587|\n",
            "|stddev |NULL                            |0.7065837791949938|NULL        |2.6870506738564925  |217.49406386472404|\n",
            "|min    |00010242fe8c5a6d1ba2dd792cb16214|1                 |boleto      |0                   |0.00              |\n",
            "|max    |fffe41c64501cc87c801fd61db3f6244|9                 |voucher     |9                   |999.68            |\n",
            "+-------+--------------------------------+------------------+------------+--------------------+------------------+\n",
            "\n",
            "Descriptive Statistics for Geolocation:\n",
            "+-------+---------------------------+-----------------------+-------------------+----------------+-----------------+\n",
            "|summary|geolocation_zip_code_prefix|geolocation_lat        |geolocation_lng    |geolocation_city|geolocation_state|\n",
            "+-------+---------------------------+-----------------------+-------------------+----------------+-----------------+\n",
            "|count  |1000163                    |1000163                |1000163            |1000163         |1000163          |\n",
            "|mean   |36574.16646586607          |-21.176152910383045    |-46.3905413209364  |NULL            |NULL             |\n",
            "|stddev |30549.335710319552         |5.715866308823013      |4.26974830661959   |NULL            |NULL             |\n",
            "|min    |01001                      |-0.00004367379244740171|-101.46676644931476|* cidade        |AC               |\n",
            "|max    |99990                      |45.06593318269697      |9.341527629906514  |óleo            |TO               |\n",
            "+-------+---------------------------+-----------------------+-------------------+----------------+-----------------+\n",
            "\n"
          ]
        }
      ],
      "source": [
        "# Aplicando describe() em cada DataFrame\n",
        "dataframes = {\n",
        "    \"Order Reviews\": order_reviews,\n",
        "    \"Product Category Name Translation\": product_category_name_translation,\n",
        "    \"Orders\": orders,\n",
        "    \"Sellers\": sellers,\n",
        "    \"Products\": products,\n",
        "    \"Customers\": customers,\n",
        "    \"Order Items\": order_items,\n",
        "    \"Order Payments\": order_payments,\n",
        "    \"Geolocation\": geolocation\n",
        "}\n",
        "\n",
        "# Exibindo o resultado do describe() para cada DataFrame\n",
        "for name, df3 in dataframes.items():\n",
        "    print(f\"Descriptive Statistics for {name}:\")\n",
        "    df3.describe().show(truncate=False)"
      ]
    },
    {
      "cell_type": "code",
      "execution_count": null,
      "metadata": {
        "application/vnd.databricks.v1+cell": {
          "cellMetadata": {
            "byteLimit": 2048000,
            "rowLimit": 10000
          },
          "inputWidgets": {},
          "nuid": "d1d966ee-23c2-4a31-9223-7b68b23ed7a4",
          "showTitle": false,
          "tableResultSettingsMap": {},
          "title": ""
        },
        "id": "aVbl4QJqL4E8",
        "outputId": "6308ba0e-1e8e-400c-f3a1-ef1fba469cfe",
        "colab": {
          "base_uri": "https://localhost:8080/"
        }
      },
      "outputs": [
        {
          "output_type": "stream",
          "name": "stdout",
          "text": [
            "+----------------+---------------+----------------+---------------------------------+\n",
            "|days_to_approval|days_to_carrier|days_to_delivery|days_estimated_vs_actual_delivery|\n",
            "+----------------+---------------+----------------+---------------------------------+\n",
            "|               0|              2|               8|                               -8|\n",
            "|               2|              2|              14|                               -6|\n",
            "|               0|              0|               9|                              -18|\n",
            "|               0|              4|              14|                              -13|\n",
            "|               0|              1|               3|                              -10|\n",
            "|               0|              2|              17|                               -6|\n",
            "|               2|           NULL|            NULL|                             NULL|\n",
            "|               0|              6|              10|                              -12|\n",
            "|               2|              3|              10|                              -32|\n",
            "|               0|             12|              18|                               -7|\n",
            "|               0|              2|              13|                               -9|\n",
            "|               0|              1|               6|                              -20|\n",
            "|               2|              4|              12|                              -29|\n",
            "|               0|              1|               5|                               -9|\n",
            "|               0|              1|              11|                               -9|\n",
            "|               5|              4|              14|                              -13|\n",
            "|               0|              1|              18|                              -17|\n",
            "|               0|              2|              13|                              -21|\n",
            "|               0|              2|               6|                              -14|\n",
            "|               0|              0|              13|                              -15|\n",
            "+----------------+---------------+----------------+---------------------------------+\n",
            "only showing top 20 rows\n",
            "\n"
          ]
        }
      ],
      "source": [
        "# features engine de orders\n",
        "# Converter colunas para o tipo date\n",
        "orders = orders.withColumn('order_purchase_timestamp', col('order_purchase_timestamp').cast('timestamp'))\n",
        "orders = orders.withColumn('order_approved_at', col('order_approved_at').cast('timestamp'))\n",
        "orders = orders.withColumn('order_delivered_carrier_date', col('order_delivered_carrier_date').cast('timestamp'))\n",
        "orders = orders.withColumn('order_delivered_customer_date', col('order_delivered_customer_date').cast('timestamp'))\n",
        "orders = orders.withColumn('order_estimated_delivery_date', col('order_estimated_delivery_date').cast('timestamp'))\n",
        "\n",
        "# Calcular durações e criar novas colunas\n",
        "orders = orders.withColumn('days_to_approval', datediff(col('order_approved_at'), col('order_purchase_timestamp')))\n",
        "orders = orders.withColumn('days_to_carrier', datediff(col('order_delivered_carrier_date'), col('order_purchase_timestamp')))\n",
        "orders = orders.withColumn('days_to_delivery', datediff(col('order_delivered_customer_date'), col('order_purchase_timestamp')))\n",
        "orders = orders.withColumn('days_estimated_vs_actual_delivery', datediff(col('order_delivered_customer_date'), col('order_estimated_delivery_date')))\n",
        "\n",
        "# Mostrar as novas colunas\n",
        "orders.select('days_to_approval', 'days_to_carrier', 'days_to_delivery', 'days_estimated_vs_actual_delivery').show()\n"
      ]
    },
    {
      "cell_type": "code",
      "execution_count": null,
      "metadata": {
        "application/vnd.databricks.v1+cell": {
          "cellMetadata": {
            "byteLimit": 2048000,
            "rowLimit": 10000
          },
          "inputWidgets": {},
          "nuid": "7aaca33a-514a-4143-ae69-d0eae7c75103",
          "showTitle": false,
          "tableResultSettingsMap": {},
          "title": ""
        },
        "id": "-VsQW6UTL4E8",
        "outputId": "807b1b03-ca55-4398-ef8b-c3af967a1563",
        "colab": {
          "base_uri": "https://localhost:8080/"
        }
      },
      "outputs": [
        {
          "output_type": "stream",
          "name": "stdout",
          "text": [
            "+--------------------+-------------+--------------------+--------------------+-------------------+------+-------------+----------------------+\n",
            "|            order_id|order_item_id|          product_id|           seller_id|shipping_limit_date| price|freight_value|days_to_shipping_limit|\n",
            "+--------------------+-------------+--------------------+--------------------+-------------------+------+-------------+----------------------+\n",
            "|00010242fe8c5a6d1...|            1|4244733e06e7ecb49...|48436dade18ac8b2b...|2017-09-19 09:45:35| 58.90|        13.29|                     6|\n",
            "|00018f77f2f0320c5...|            1|e5f2d52b802189ee6...|dd7ddc04e1b6c2c61...|2017-05-03 11:05:13|239.90|        19.93|                     7|\n",
            "|000229ec398224ef6...|            1|c777355d18b72b67a...|5b51032eddd242adc...|2018-01-18 14:48:30|199.00|        17.87|                     4|\n",
            "|00024acbcdf0a6daa...|            1|7634da152a4610f15...|9d7a1d34a50524090...|2018-08-15 10:10:18| 12.99|        12.79|                     7|\n",
            "|00042b26cf59d7ce6...|            1|ac6c3623068f30de0...|df560393f3a51e745...|2017-02-13 13:57:51|199.90|        18.14|                     9|\n",
            "|00048cc3ae777c65d...|            1|ef92defde845ab845...|6426d21aca402a131...|2017-05-23 03:55:27| 21.90|        12.69|                     6|\n",
            "|00054e8431b9d7675...|            1|8d4f2bb7e93e6710a...|7040e82f899a04d1b...|2017-12-14 12:10:31| 19.90|        11.85|                     4|\n",
            "|000576fe39319847c...|            1|557d850972a7d6f79...|5996cddab893a4652...|2018-07-10 12:30:45|810.00|        70.75|                     5|\n",
            "|0005a1a1728c9d785...|            1|310ae3c140ff94b03...|a416b6a846a117243...|2018-03-26 18:31:29|145.95|        11.65|                     6|\n",
            "|0005f50442cb953dc...|            1|4535b0e1091c278df...|ba143b05f0110f0dc...|2018-07-06 14:10:56| 53.99|        11.40|                     4|\n",
            "|00061f2a7bc09da83...|            1|d63c1011f49d98b97...|cc419e0650a3c5ba7...|2018-03-29 22:28:09| 59.99|         8.88|                     5|\n",
            "|00063b381e2406b52...|            1|f177554ea93259a5b...|8602a61d680a10a82...|2018-07-31 17:30:39| 45.00|        12.98|                     4|\n",
            "|0006ec9db01a64e59...|            1|99a4788cb24856965...|4a3ca9315b744ce9f...|2018-07-26 17:24:20| 74.00|        23.32|                     2|\n",
            "|0008288aa423d2a3f...|            1|368c6c730842d7801...|1f50f920176fa81da...|2018-02-21 02:55:52| 49.90|        13.37|                     6|\n",
            "|0008288aa423d2a3f...|            2|368c6c730842d7801...|1f50f920176fa81da...|2018-02-21 02:55:52| 49.90|        13.37|                     6|\n",
            "|0009792311464db53...|            1|8cab8abac59158715...|530ec6109d11eaaf8...|2018-08-17 12:15:10| 99.90|        27.65|                     2|\n",
            "|0009c9a17f916a706...|            1|3f27ac8e699df3d30...|fcb5ace8bcc92f757...|2018-05-02 09:31:53|639.00|        11.34|                     7|\n",
            "|000aed2e25dbad2f9...|            1|4fa33915031a8cde0...|fe2032dab1a61af87...|2018-05-16 20:57:03|144.00|         8.77|                     5|\n",
            "|000c3e6612759851c...|            1|b50c950aba0dcead2...|218d46b86c1881d02...|2017-08-21 03:33:13| 99.00|        13.71|                     6|\n",
            "|000e562887b1f2006...|            1|5ed9eaf534f6936b5...|8cbac7e12637ed9cf...|2018-02-28 12:08:37| 25.00|        16.11|                     6|\n",
            "+--------------------+-------------+--------------------+--------------------+-------------------+------+-------------+----------------------+\n",
            "only showing top 20 rows\n",
            "\n"
          ]
        }
      ],
      "source": [
        "    # Converter colunas para o tipo timestamp\n",
        "    orders = orders.withColumn('order_approved_at', col('order_approved_at').cast('timestamp'))\n",
        "    order_items = order_items.withColumn('shipping_limit_date', col('shipping_limit_date').cast('timestamp'))\n",
        "\n",
        "    # Fazer o join entre as tabelas orders e order_items\n",
        "    joined_df2 = order_items.join(orders, on='order_id')\n",
        "\n",
        "    # Calcular a diferença em dias entre shipping_limit_date e order_approved_at\n",
        "    joined_df2 = joined_df2.withColumn('days_to_shipping_limit', datediff(col('shipping_limit_date'), col('order_approved_at')))\n",
        "\n",
        "    # Selecionar todas as colunas de order_items mais a coluna criada\n",
        "    order_items = joined_df2.select('order_id', 'order_item_id', 'product_id', 'seller_id',\n",
        "                                        'shipping_limit_date', 'price', 'freight_value',\n",
        "                                        'days_to_shipping_limit')\n",
        "\n",
        "    # Mostrar as novas colunas para verificar\n",
        "    order_items.show()\n"
      ]
    },
    {
      "cell_type": "code",
      "execution_count": null,
      "metadata": {
        "application/vnd.databricks.v1+cell": {
          "cellMetadata": {
            "byteLimit": 2048000,
            "rowLimit": 10000
          },
          "inputWidgets": {},
          "nuid": "719fdf94-fb86-45ae-bbbd-37484e3cdf33",
          "showTitle": false,
          "tableResultSettingsMap": {},
          "title": ""
        },
        "id": "dq7m0y93L4E9",
        "outputId": "bbb2384f-4abe-43b3-88cc-8884a69ade88",
        "colab": {
          "base_uri": "https://localhost:8080/"
        }
      },
      "outputs": [
        {
          "output_type": "stream",
          "name": "stdout",
          "text": [
            "Análise da tabela: Order Reviews\n",
            "Contagem de valores nulos por coluna:\n",
            "  review_id: 1 nulos\n",
            "  order_id: 2236 nulos\n",
            "  review_score: 2380 nulos\n",
            "  review_comment_title: 92157 nulos\n",
            "  review_comment_message: 63079 nulos\n",
            "  review_creation_date: 8764 nulos\n",
            "  review_answer_timestamp: 8785 nulos\n",
            "Total de registros duplicados: 85\n",
            "\n",
            "Análise da tabela: Product Category Name Translation\n",
            "Contagem de valores nulos por coluna:\n",
            "  product_category_name: 0 nulos\n",
            "  product_category_name_english: 0 nulos\n",
            "Total de registros duplicados: 0\n",
            "\n",
            "Análise da tabela: Orders\n",
            "Contagem de valores nulos por coluna:\n",
            "  order_id: 0 nulos\n",
            "  customer_id: 0 nulos\n",
            "  order_status: 0 nulos\n",
            "  order_purchase_timestamp: 0 nulos\n",
            "  order_approved_at: 160 nulos\n",
            "  order_delivered_carrier_date: 1783 nulos\n",
            "  order_delivered_customer_date: 2965 nulos\n",
            "  order_estimated_delivery_date: 0 nulos\n",
            "Total de registros duplicados: 0\n",
            "\n",
            "Análise da tabela: Sellers\n",
            "Contagem de valores nulos por coluna:\n",
            "  seller_id: 0 nulos\n",
            "  seller_zip_code_prefix: 0 nulos\n",
            "  seller_city: 0 nulos\n",
            "  seller_state: 0 nulos\n",
            "Total de registros duplicados: 0\n",
            "\n",
            "Análise da tabela: Products\n",
            "Contagem de valores nulos por coluna:\n",
            "  product_id: 0 nulos\n",
            "  product_category_name: 610 nulos\n",
            "  product_name_lenght: 610 nulos\n",
            "  product_description_lenght: 610 nulos\n",
            "  product_photos_qty: 610 nulos\n",
            "  product_weight_g: 2 nulos\n",
            "  product_length_cm: 2 nulos\n",
            "  product_height_cm: 2 nulos\n",
            "  product_width_cm: 2 nulos\n",
            "Total de registros duplicados: 0\n",
            "\n",
            "Análise da tabela: Customers\n",
            "Contagem de valores nulos por coluna:\n",
            "  customer_id: 0 nulos\n",
            "  customer_unique_id: 0 nulos\n",
            "  customer_zip_code_prefix: 0 nulos\n",
            "  customer_city: 0 nulos\n",
            "  customer_state: 0 nulos\n",
            "Total de registros duplicados: 0\n",
            "\n",
            "Análise da tabela: Order Items\n",
            "Contagem de valores nulos por coluna:\n",
            "  order_id: 0 nulos\n",
            "  order_item_id: 0 nulos\n",
            "  product_id: 0 nulos\n",
            "  seller_id: 0 nulos\n",
            "  shipping_limit_date: 0 nulos\n",
            "  price: 0 nulos\n",
            "  freight_value: 0 nulos\n",
            "Total de registros duplicados: 0\n",
            "\n",
            "Análise da tabela: Order Payments\n",
            "Contagem de valores nulos por coluna:\n",
            "  order_id: 0 nulos\n",
            "  payment_sequential: 0 nulos\n",
            "  payment_type: 0 nulos\n",
            "  payment_installments: 0 nulos\n",
            "  payment_value: 0 nulos\n",
            "Total de registros duplicados: 0\n",
            "\n",
            "Análise da tabela: Geolocation\n",
            "Contagem de valores nulos por coluna:\n",
            "  geolocation_zip_code_prefix: 0 nulos\n",
            "  geolocation_lat: 0 nulos\n",
            "  geolocation_lng: 0 nulos\n",
            "  geolocation_city: 0 nulos\n",
            "  geolocation_state: 0 nulos\n",
            "Total de registros duplicados: 261831\n",
            "\n"
          ]
        }
      ],
      "source": [
        "# Iterando sobre cada DataFrame para contar valores nulos e duplicados\n",
        "for table_name, df in dataframes.items():\n",
        "    print(f\"Análise da tabela: {table_name}\")\n",
        "\n",
        "    # Contar valores nulos em cada coluna\n",
        "    null_counts = {column: df.filter(col(column).isNull()).count() for column in df.columns}\n",
        "\n",
        "    # Contar duplicados\n",
        "    duplicate_count = df.count() - df.distinct().count()\n",
        "\n",
        "    # Exibir resultados\n",
        "    print(\"Contagem de valores nulos por coluna:\")\n",
        "    for column, count in null_counts.items():\n",
        "        print(f\"  {column}: {count} nulos\")\n",
        "\n",
        "    print(f\"Total de registros duplicados: {duplicate_count}\\n\")"
      ]
    },
    {
      "cell_type": "code",
      "execution_count": null,
      "metadata": {
        "application/vnd.databricks.v1+cell": {
          "cellMetadata": {
            "byteLimit": 2048000,
            "implicitDf": true,
            "rowLimit": 10000
          },
          "inputWidgets": {},
          "nuid": "89f35aed-c7b0-47eb-bdc9-e703c41fd35f",
          "showTitle": false,
          "tableResultSettingsMap": {},
          "title": ""
        },
        "id": "7TZGhALEL4FA",
        "outputId": "4170448f-02b9-4f36-d32e-1128e1acbced",
        "colab": {
          "base_uri": "https://localhost:8080/"
        }
      },
      "outputs": [
        {
          "output_type": "stream",
          "name": "stdout",
          "text": [
            "+------------+-------------+--------------+--------------------+\n",
            "|review_score|total_reviews|total_comments|total_comment_titles|\n",
            "+------------+-------------+--------------+--------------------+\n",
            "|           1|        11424|          8745|                1873|\n",
            "|           2|         3151|          2145|                 478|\n",
            "|           3|         8179|          3557|                 824|\n",
            "|           4|        19142|          5976|                1735|\n",
            "|           5|        57328|         20554|                6658|\n",
            "+------------+-------------+--------------+--------------------+\n",
            "\n"
          ]
        }
      ],
      "source": [
        "# Realizando a junção entre os DataFrames\n",
        "result_df = order_reviews.alias(\"r\").join(\n",
        "    orders.alias(\"o\"),\n",
        "    on=\"order_id\",  # Junção com base na coluna order_id\n",
        "    how=\"inner\"     # Tipo de junção (inner join)\n",
        ").groupBy(\n",
        "    \"r.review_score\"  # Agrupando pelo review_score\n",
        ").agg(\n",
        "    F.count(\"r.review_id\").alias(\"total_reviews\"),            # Contando o número total de reviews\n",
        "    F.count(\"r.review_comment_message\").alias(\"total_comments\"),  # Contando o número total de comentários\n",
        "    F.count(\"r.review_comment_title\").alias(\"total_comment_titles\")  # Contando o número total de títulos de comentários\n",
        ").orderBy(\n",
        "    \"r.review_score\"  # Ordenando pelo review_score\n",
        ")\n",
        "\n",
        "# Exibindo o resultado\n",
        "result_df.show()"
      ]
    },
    {
      "cell_type": "code",
      "execution_count": null,
      "metadata": {
        "application/vnd.databricks.v1+cell": {
          "cellMetadata": {
            "byteLimit": 2048000,
            "rowLimit": 10000
          },
          "inputWidgets": {},
          "nuid": "71dd59c2-c7bf-4a64-b32e-49b8a584fd1e",
          "showTitle": false,
          "tableResultSettingsMap": {},
          "title": ""
        },
        "id": "3FgALP06L4FB"
      },
      "outputs": [],
      "source": [
        "# Definição da segmentação por Necessidade do Consumidor\n",
        "segmentacoes_necessidade = { \"beleza_saude\": \"Higiene Pessoal\", \"informatica_acessorios\": \"Tecnologia e Acessórios\", \"automotivo\": \"Automóveis e Ferramentas\", \"cama_mesa_banho\": \"Casa e Decoração\", \"moveis_decoracao\": \"Casa e Decoração\", \"esporte_lazer\": \"Esporte e Lazer\", \"perfumaria\": \"Higiene Pessoal\", \"utilidades_domesticas\": \"Casa e Decoração\", \"telefonia\": \"Tecnologia e Acessórios\", \"relogios_presentes\": \"Moda e Acessórios\", \"alimentos_bebidas\": \"Alimentação e Bebidas\", \"bebes\": \"Infantil\", \"papelaria\": \"Trabalho e Estudo\", \"tablets_impressao_imagem\": \"Tecnologia e Acessórios\", \"brinquedos\": \"Infantil\", \"telefonia_fixa\": \"Tecnologia e Acessórios\", \"ferramentas_jardim\": \"Automóveis e Ferramentas\", \"fashion_bolsas_e_acessorios\": \"Moda e Acessórios\", \"eletroportateis\": \"Casa e Decoração\", \"consoles_games\": \"Entretenimento\", \"audio\": \"Entretenimento\", \"fashion_calcados\": \"Moda e Acessórios\", \"cool_stuff\": \"Entretenimento\", \"malas_acessorios\": \"Moda e Acessórios\", \"climatizacao\": \"Casa e Decoração\", \"construcao_ferramentas_construcao\": \"Automóveis e Ferramentas\", \"moveis_cozinha_area_de_servico_jantar_e_jardim\": \"Casa e Decoração\", \"construcao_ferramentas_jardim\": \"Automóveis e Ferramentas\", \"fashion_roupa_masculina\": \"Moda e Acessórios\", \"pet_shop\": \"Animais de Estimação\", \"moveis_escritorio\": \"Casa e Decoração\", \"market_place\": \"Serviços e Outros\", \"eletronicos\": \"Tecnologia e Acessórios\", \"eletrodomesticos\": \"Casa e Decoração\", \"artigos_de_festas\": \"Entretenimento\", \"casa_conforto\": \"Casa e Decoração\", \"construcao_ferramentas_ferramentas\": \"Automóveis e Ferramentas\", \"agro_industria_e_comercio\": \"Automóveis e Ferramentas\", \"moveis_colchao_e_estofado\": \"Casa e Decoração\", \"livros_tecnicos\": \"Trabalho e Estudo\", \"casa_construcao\": \"Automóveis e Ferramentas\", \"instrumentos_musicais\": \"Entretenimento\", \"moveis_sala\": \"Casa e Decoração\", \"construcao_ferramentas_iluminacao\": \"Automóveis e Ferramentas\", \"industria_comercio_e_negocios\": \"Trabalho e Estudo\", \"alimentos\": \"Alimentação e Bebidas\", \"artes\": \"Entretenimento\", \"moveis_quarto\": \"Casa e Decoração\", \"livros_interesse_geral\": \"Entretenimento\", \"construcao_ferramentas_seguranca\": \"Automóveis e Ferramentas\", \"fashion_underwear_e_moda_praia\": \"Moda e Acessórios\", \"fashion_esporte\": \"Moda e Acessórios\", \"sinalizacao_e_seguranca\": \"Automóveis e Ferramentas\", \"pcs\": \"Tecnologia e Acessórios\", \"artigos_de_natal\": \"Entretenimento\", \"fashion_roupa_feminina\": \"Moda e Acessórios\", \"eletrodomesticos_2\": \"Casa e Decoração\", \"livros_importados\": \"Entretenimento\", \"bebidas\": \"Alimentação e Bebidas\", \"cine_foto\": \"Entretenimento\", \"la_cuisine\": \"Casa e Decoração\", \"musica\": \"Entretenimento\", \"casa_conforto_2\": \"Casa e Decoração\", \"portateis_casa_forno_e_cafe\": \"Casa e Decoração\", \"cds_dvds_musicais\": \"Entretenimento\", \"dvds_blu_ray\": \"Entretenimento\", \"flores\": \"Moda e Acessórios\", \"artes_e_artesanato\": \"Entretenimento\", \"fraldas_higiene\": \"Infantil\", \"fashion_roupa_infanto_juvenil\": \"Infantil\", \"seguros_e_servicos\": \"Serviços e Outros\" }\n",
        "\n",
        "# Criação de uma função UDF para mapear as segmentações\n",
        "def segmentacoe_necessidade(categoria):\n",
        "    return segmentacoes_necessidade.get(categoria, \"Necessidades\")\n",
        "\n",
        "segmentacoe_necessidade_udf = udf(segmentacoe_necessidade, StringType())\n",
        "\n",
        "# Adição da coluna de segmentação de sentimento ao DataFrame\n",
        "products = products.withColumn(\n",
        "    \"segmentacao_necessidade\",\n",
        "    segmentacoe_necessidade_udf(col(\"product_category_name\"))\n",
        ")"
      ]
    },
    {
      "cell_type": "code",
      "execution_count": null,
      "metadata": {
        "application/vnd.databricks.v1+cell": {
          "cellMetadata": {
            "byteLimit": 2048000,
            "rowLimit": 10000
          },
          "inputWidgets": {},
          "nuid": "3a12caf0-1ac7-47cb-a407-4bf57d78d8f1",
          "showTitle": false,
          "tableResultSettingsMap": {},
          "title": ""
        },
        "id": "MIN-mkx_L4FB"
      },
      "outputs": [],
      "source": [
        "# Definição da segmentação de sentimento\n",
        "segmentacoes = {\n",
        "    \"beleza_saude\": \"Satisfação Alta\",\n",
        "    \"informatica_acessorios\": \"Misto\",\n",
        "    \"automotivo\": \"Satisfação Alta\",\n",
        "    \"cama_mesa_banho\": \"Neutro\",\n",
        "    \"moveis_decoracao\": \"Satisfação Alta\",\n",
        "    \"esporte_lazer\": \"Satisfação Alta\",\n",
        "    \"perfumaria\": \"Satisfação Alta\",\n",
        "    \"utilidades_domesticas\": \"Neutro\",\n",
        "    \"telefonia\": \"Misto\",\n",
        "    \"relogios_presentes\": \"Satisfação Alta\",\n",
        "    \"alimentos_bebidas\": \"Satisfação Alta\",\n",
        "    \"bebes\": \"Satisfação Alta\",\n",
        "    \"papelaria\": \"Neutro\",\n",
        "    \"tablets_impressao_imagem\": \"Misto\",\n",
        "    \"brinquedos\": \"Satisfação Alta\",\n",
        "    \"telefonia_fixa\": \"Neutro\",\n",
        "    \"ferramentas_jardim\": \"Satisfação Alta\",\n",
        "    \"fashion_bolsas_e_acessorios\": \"Satisfação Alta\",\n",
        "    \"eletroportateis\": \"Neutro\",\n",
        "    \"consoles_games\": \"Satisfação Alta\",\n",
        "    \"audio\": \"Satisfação Alta\",\n",
        "    \"fashion_calcados\": \"Misto\",\n",
        "    \"cool_stuff\": \"Satisfação Alta\",\n",
        "    \"malas_acessorios\": \"Satisfação Alta\",\n",
        "    \"climatizacao\": \"Neutro\",\n",
        "    \"construcao_ferramentas_construcao\": \"Satisfação Alta\",\n",
        "    \"moveis_cozinha_area_de_servico_jantar_e_jardim\": \"Satisfação Alta\",\n",
        "    \"construcao_ferramentas_jardim\": \"Satisfação Alta\",\n",
        "    \"fashion_roupa_masculina\": \"Misto\",\n",
        "    \"pet_shop\": \"Satisfação Alta\",\n",
        "    \"moveis_escritorio\": \"Satisfação Alta\",\n",
        "    \"market_place\": \"Neutro\",\n",
        "    \"eletronicos\": \"Misto\",\n",
        "    \"eletrodomesticos\": \"Neutro\",\n",
        "    \"artigos_de_festas\": \"Satisfação Alta\",\n",
        "    \"casa_conforto\": \"Satisfação Alta\",\n",
        "    \"construcao_ferramentas_ferramentas\": \"Satisfação Alta\",\n",
        "    \"agro_industria_e_comercio\": \"Satisfação Alta\",\n",
        "    \"moveis_colchao_e_estofado\": \"Satisfação Alta\",\n",
        "    \"livros_tecnicos\": \"Misto\",\n",
        "    \"casa_construcao\": \"Satisfação Alta\",\n",
        "    \"instrumentos_musicais\": \"Satisfação Alta\",\n",
        "    \"moveis_sala\": \"Satisfação Alta\",\n",
        "    \"construcao_ferramentas_iluminacao\": \"Satisfação Alta\",\n",
        "    \"industria_comercio_e_negocios\": \"Satisfação Alta\",\n",
        "    \"alimentos\": \"Satisfação Alta\",\n",
        "    \"artes\": \"Satisfação Alta\",\n",
        "    \"moveis_quarto\": \"Satisfação Alta\",\n",
        "    \"livros_interesse_geral\": \"Misto\",\n",
        "    \"construcao_ferramentas_seguranca\": \"Satisfação Alta\",\n",
        "    \"fashion_underwear_e_moda_praia\": \"Satisfação Alta\",\n",
        "    \"fashion_esporte\": \"Satisfação Alta\",\n",
        "    \"sinalizacao_e_seguranca\": \"Neutro\",\n",
        "    \"pcs\": \"Neutro\",\n",
        "    \"artigos_de_natal\": \"Satisfação Alta\",\n",
        "    \"fashion_roupa_feminina\": \"Misto\",\n",
        "    \"eletrodomesticos_2\": \"Neutro\",\n",
        "    \"livros_importados\": \"Misto\",\n",
        "    \"bebidas\": \"Satisfação Alta\",\n",
        "    \"cine_foto\": \"Satisfação Alta\",\n",
        "    \"la_cuisine\": \"Satisfação Alta\",\n",
        "    \"musica\": \"Satisfação Alta\",\n",
        "    \"casa_conforto_2\": \"Satisfação Alta\",\n",
        "    \"portateis_casa_forno_e_cafe\": \"Satisfação Alta\",\n",
        "    \"cds_dvds_musicais\": \"Satisfação Alta\",\n",
        "    \"dvds_blu_ray\": \"Satisfação Alta\",\n",
        "    \"flores\": \"Satisfação Alta\",\n",
        "    \"artes_e_artesanato\": \"Satisfação Alta\",\n",
        "    \"fraldas_higiene\": \"Satisfação Alta\",\n",
        "    \"fashion_roupa_infanto_juvenil\": \"Satisfação Alta\",\n",
        "    \"seguros_e_servicos\": \"Neutro\"\n",
        "}\n",
        "\n",
        "# Criação de uma função UDF para mapear as segmentações\n",
        "def segmentacao_sentimento(categoria):\n",
        "    return segmentacoes.get(categoria, \"Neutro\")\n",
        "\n",
        "segmentacao_udf = udf(segmentacao_sentimento, StringType())\n",
        "\n",
        "# Adição da coluna de segmentação de sentimento ao DataFrame\n",
        "products = products.withColumn(\n",
        "    \"segmentacao_sentimento\",\n",
        "    segmentacao_udf(col(\"product_category_name\"))\n",
        ")\n"
      ]
    },
    {
      "cell_type": "code",
      "execution_count": null,
      "metadata": {
        "application/vnd.databricks.v1+cell": {
          "cellMetadata": {
            "byteLimit": 2048000,
            "rowLimit": 10000
          },
          "inputWidgets": {},
          "nuid": "3cb8af6b-9000-4803-b211-0aac3953997a",
          "showTitle": false,
          "tableResultSettingsMap": {},
          "title": ""
        },
        "id": "nT3NCRXSL4FB"
      },
      "outputs": [],
      "source": [
        "# Definição da segmentação por tipo\n",
        "# Definição da segmentação por tipo\n",
        "segmentacoes_tipo = { \"beleza_saude\": \"Uso Pessoal\",\n",
        "                     \"informatica_acessorios\": \"Reposição\",\n",
        "                     \"automotivo\": \"Reposição\",\n",
        "                     \"cama_mesa_banho\": \"Uso Pessoal\",\n",
        "                     \"moveis_decoracao\": \"Decorativo\",\n",
        "                     \"esporte_lazer\": \"Esportivo\",\n",
        "                     \"perfumaria\": \"Uso Pessoal\",\n",
        "                     \"utilidades_domesticas\": \"Reposição\",\n",
        "                     \"telefonia\": \"Reposição\",\n",
        "                     \"relogios_presentes\": \"Presente\",\n",
        "                     \"alimentos_bebidas\": \"Reposição\",\n",
        "                     \"bebes\": \"Uso Pessoal\",\n",
        "                     \"papelaria\": \"Educacional\",\n",
        "                     \"tablets_impressao_imagem\": \"Reposição\",\n",
        "                     \"brinquedos\": \"Presente\",\n",
        "                     \"telefonia_fixa\": \"Reposição\",\n",
        "                     \"ferramentas_jardim\": \"Reposição\",\n",
        "                     \"fashion_bolsas_e_acessorios\": \"Presente\",\n",
        "                     \"eletroportateis\": \"Reposição\",\n",
        "                     \"consoles_games\": \"Presente\",\n",
        "                     \"audio\": \"Uso Pessoal\",\n",
        "                     \"fashion_calcados\": \"Uso Pessoal\",\n",
        "                     \"cool_stuff\": \"Presente\",\n",
        "                     \"malas_acessorios\": \"Presente\",\n",
        "                     \"climatizacao\": \"Reposição\",\n",
        "                     \"construcao_ferramentas_construcao\": \"Reposição\",\n",
        "                     \"moveis_cozinha_area_de_servico_jantar_e_jardim\": \"Decorativo\",\n",
        "                     \"construcao_ferramentas_jardim\": \"Reposição\",\n",
        "                     \"fashion_roupa_masculina\": \"Uso Pessoal\",\n",
        "                     \"pet_shop\": \"Reposição\",\n",
        "                     \"moveis_escritorio\": \"Reposição\",\n",
        "                     \"market_place\": \"Uso Pessoal\",\n",
        "                     \"eletronicos\": \"Reposição\",\n",
        "                     \"eletrodomesticos\": \"Reposição\",\n",
        "                     \"artigos_de_festas\": \"Presente\",\n",
        "                     \"casa_conforto\": \"Decorativo\",\n",
        "                     \"construcao_ferramentas_ferramentas\": \"Reposição\",\n",
        "                     \"agro_industria_e_comercio\": \"Reposição\",\n",
        "                     \"moveis_colchao_e_estofado\": \"Decorativo\",\n",
        "                     \"livros_tecnicos\": \"Educacional\",\n",
        "                     \"casa_construcao\": \"Reposição\",\n",
        "                     \"instrumentos_musicais\": \"Uso Pessoal\",\n",
        "                     \"moveis_sala\": \"Decorativo\",\n",
        "                     \"construcao_ferramentas_iluminacao\": \"Reposição\",\n",
        "                     \"industria_comercio_e_negocios\": \"Reposição\",\n",
        "                     \"alimentos\": \"Reposição\",\n",
        "                     \"artes\": \"Uso Pessoal\",\n",
        "                     \"moveis_quarto\": \"Decorativo\",\n",
        "                     \"livros_interesse_geral\": \"Educacional\",\n",
        "                     \"construcao_ferramentas_seguranca\": \"Reposição\",\n",
        "                     \"fashion_underwear_e_moda_praia\": \"Uso Pessoal\",\n",
        "                     \"fashion_esporte\": \"Uso Pessoal\",\n",
        "                     \"sinalizacao_e_seguranca\": \"Reposição\",\n",
        "                     \"pcs\": \"Reposição\",\n",
        "                     \"artigos_de_natal\": \"Presente\",\n",
        "                     \"fashion_roupa_feminina\": \"Uso Pessoal\",\n",
        "                     \"eletrodomesticos_2\": \"Reposição\",\n",
        "                     \"livros_importados\": \"Educacional\",\n",
        "                     \"bebidas\": \"Reposição\",\n",
        "                     \"cine_foto\": \"Uso Pessoal\",\n",
        "                     \"la_cuisine\": \"Decorativo\",\n",
        "                     \"musica\": \"Uso Pessoal\",\n",
        "                     \"casa_conforto_2\": \"Decorativo\",\n",
        "                     \"portateis_casa_forno_e_cafe\": \"Reposição\",\n",
        "                     \"cds_dvds_musicais\": \"Uso Pessoal\",\n",
        "                     \"dvds_blu_ray\": \"Uso Pessoal\",\n",
        "                     \"flores\": \"Presente\",\n",
        "                     \"artes_e_artesanato\": \"Uso Pessoal\",\n",
        "                     \"fraldas_higiene\": \"Reposição\",\n",
        "                     \"fashion_roupa_infanto_juvenil\": \"Uso Pessoal\",\n",
        "                     \"seguros_e_servicos\": \"Uso Pessoal\" }\n",
        "\n",
        "# Criação de uma função UDF para mapear as segmentações de tipo\n",
        "def segmentacao_tipo(categoria):\n",
        "    return segmentacoes_tipo.get(categoria, \"Uso Pessoal\")\n",
        "\n",
        "segmentacao_tipo_udf = udf(segmentacao_tipo, StringType())\n",
        "\n",
        "# Adição da coluna de segmentação de tipo ao DataFrame\n",
        "products = products.withColumn(\n",
        "    \"segmentacao_tipo\",\n",
        "    segmentacao_tipo_udf(col(\"product_category_name\"))\n",
        ")"
      ]
    },
    {
      "cell_type": "code",
      "execution_count": null,
      "metadata": {
        "application/vnd.databricks.v1+cell": {
          "cellMetadata": {
            "byteLimit": 2048000,
            "rowLimit": 10000
          },
          "inputWidgets": {},
          "nuid": "09de410d-43c3-4c2d-b060-fb3e7332a78a",
          "showTitle": false,
          "tableResultSettingsMap": {},
          "title": ""
        },
        "id": "XzrF6TqJL4FC"
      },
      "outputs": [],
      "source": [
        "# Definição da segmentação por validade\n",
        "segmentacoes_validade = {\n",
        "    \"beleza_saude\": \"Média Duração\",\n",
        "    \"informatica_acessorios\": \"Longa Duração\",\n",
        "    \"automotivo\": \"Longa Duração\",\n",
        "    \"cama_mesa_banho\": \"Média Duração\",\n",
        "    \"moveis_decoracao\": \"Longa Duração\",\n",
        "    \"esporte_lazer\": \"Média Duração\",\n",
        "    \"perfumaria\": \"Longa Duração\",\n",
        "    \"utilidades_domesticas\": \"Longa Duração\",\n",
        "    \"telefonia\": \"Longa Duração\",\n",
        "    \"relogios_presentes\": \"Longa Duração\",\n",
        "    \"alimentos_bebidas\": \"Curta Duração\",\n",
        "    \"bebes\": \"Curta Duração\",\n",
        "    \"papelaria\": \"Média Duração\",\n",
        "    \"tablets_impressao_imagem\": \"Longa Duração\",\n",
        "    \"brinquedos\": \"Média Duração\",\n",
        "    \"telefonia_fixa\": \"Longa Duração\",\n",
        "    \"ferramentas_jardim\": \"Longa Duração\",\n",
        "    \"fashion_bolsas_e_acessorios\": \"Longa Duração\",\n",
        "    \"eletroportateis\": \"Média Duração\",\n",
        "    \"consoles_games\": \"Longa Duração\",\n",
        "    \"audio\": \"Longa Duração\",\n",
        "    \"fashion_calcados\": \"Média Duração\",\n",
        "    \"cool_stuff\": \"Longa Duração\",\n",
        "    \"malas_acessorios\": \"Longa Duração\",\n",
        "    \"climatizacao\": \"Longa Duração\",\n",
        "    \"construcao_ferramentas_construcao\": \"Longa Duração\",\n",
        "    \"moveis_cozinha_area_de_servico_jantar_e_jardim\": \"Longa Duração\",\n",
        "    \"construcao_ferramentas_jardim\": \"Longa Duração\",\n",
        "    \"fashion_roupa_masculina\": \"Média Duração\",\n",
        "    \"pet_shop\": \"Média Duração\",\n",
        "    \"moveis_escritorio\": \"Longa Duração\",\n",
        "    \"market_place\": \"Não Perecíveis\",\n",
        "    \"eletronicos\": \"Longa Duração\",\n",
        "    \"eletrodomesticos\": \"Longa Duração\",\n",
        "    \"artigos_de_festas\": \"Média Duração\",\n",
        "    \"casa_conforto\": \"Longa Duração\",\n",
        "    \"construcao_ferramentas_ferramentas\": \"Longa Duração\",\n",
        "    \"agro_industria_e_comercio\": \"Longa Duração\",\n",
        "    \"moveis_colchao_e_estofado\": \"Longa Duração\",\n",
        "    \"livros_tecnicos\": \"Não Perecíveis\",\n",
        "    \"casa_construcao\": \"Longa Duração\",\n",
        "    \"instrumentos_musicais\": \"Não Perecíveis\",\n",
        "    \"moveis_sala\": \"Longa Duração\",\n",
        "    \"construcao_ferramentas_iluminacao\": \"Longa Duração\",\n",
        "    \"industria_comercio_e_negocios\": \"Longa Duração\",\n",
        "    \"alimentos\": \"Curta Duração\",\n",
        "    \"artes\": \"Não Perecíveis\",\n",
        "    \"moveis_quarto\": \"Longa Duração\",\n",
        "    \"livros_interesse_geral\": \"Não Perecíveis\",\n",
        "    \"construcao_ferramentas_seguranca\": \"Longa Duração\",\n",
        "    \"fashion_underwear_e_moda_praia\": \"Média Duração\",\n",
        "    \"fashion_esporte\": \"Média Duração\",\n",
        "    \"sinalizacao_e_seguranca\": \"Longa Duração\",\n",
        "    \"pcs\": \"Longa Duração\",\n",
        "    \"artigos_de_natal\": \"Média Duração\",\n",
        "    \"fashion_roupa_feminina\": \"Média Duração\",\n",
        "    \"eletrodomesticos_2\": \"Longa Duração\",\n",
        "    \"livros_importados\": \"Não Perecíveis\",\n",
        "    \"bebidas\": \"Curta Duração\",\n",
        "    \"cine_foto\": \"Longa Duração\",\n",
        "    \"la_cuisine\": \"Longa Duração\",\n",
        "    \"musica\": \"Longa Duração\",\n",
        "    \"casa_conforto_2\": \"Longa Duração\",\n",
        "    \"portateis_casa_forno_e_cafe\": \"Longa Duração\",\n",
        "    \"cds_dvds_musicais\": \"Longa Duração\",\n",
        "    \"dvds_blu_ray\": \"Longa Duração\",\n",
        "    \"flores\": \"Curta Duração\",\n",
        "    \"artes_e_artesanato\": \"Não Perecíveis\",\n",
        "    \"fraldas_higiene\": \"Curta Duração\",\n",
        "    \"fashion_roupa_infanto_juvenil\": \"Média Duração\",\n",
        "    \"seguros_e_servicos\": \"Não Perecíveis\"\n",
        "}\n",
        "\n",
        "# Criação de uma função UDF para mapear as segmentações de validade\n",
        "def segmentacao_validade(categoria):\n",
        "    return segmentacoes_validade.get(categoria, \"Não Perecíveis\")\n",
        "\n",
        "segmentacao_validade_udf = udf(segmentacao_validade, StringType())\n",
        "\n",
        "# Adição da coluna de segmentação de validade ao DataFrame\n",
        "products = products.withColumn(\n",
        "    \"segmentacao_validade\",\n",
        "    segmentacao_validade_udf(col(\"product_category_name\"))\n",
        ")\n"
      ]
    },
    {
      "cell_type": "code",
      "execution_count": null,
      "metadata": {
        "application/vnd.databricks.v1+cell": {
          "cellMetadata": {
            "byteLimit": 2048000,
            "rowLimit": 10000
          },
          "inputWidgets": {},
          "nuid": "9df7e5e4-6c9c-462b-a01a-e0a4cc019c02",
          "showTitle": false,
          "tableResultSettingsMap": {},
          "title": ""
        },
        "id": "2RKbzZRqL4FC"
      },
      "outputs": [],
      "source": [
        "# Definição da segmentação por Utilização Principal\n",
        "segmentacoes_utilizacao = {\n",
        "    \"beleza_saude\": \"Uso Diário\",\n",
        "    \"informatica_acessorios\": \"Trabalho\",\n",
        "    \"automotivo\": \"Trabalho\",\n",
        "    \"cama_mesa_banho\": \"Uso Diário\",\n",
        "    \"moveis_decoracao\": \"Lazer\",\n",
        "    \"esporte_lazer\": \"Lazer\",\n",
        "    \"perfumaria\": \"Uso Diário\",\n",
        "    \"utilidades_domesticas\": \"Uso Diário\",\n",
        "    \"telefonia\": \"Trabalho\",\n",
        "    \"relogios_presentes\": \"Presente\",\n",
        "    \"alimentos_bebidas\": \"Uso Diário\",\n",
        "    \"bebes\": \"Uso Diário\",\n",
        "    \"papelaria\": \"Trabalho\",\n",
        "    \"tablets_impressao_imagem\": \"Trabalho\",\n",
        "    \"brinquedos\": \"Lazer\",\n",
        "    \"telefonia_fixa\": \"Trabalho\",\n",
        "    \"ferramentas_jardim\": \"Trabalho\",\n",
        "    \"fashion_bolsas_e_acessorios\": \"Uso Diário\",\n",
        "    \"eletroportateis\": \"Uso Diário\",\n",
        "    \"consoles_games\": \"Lazer\",\n",
        "    \"audio\": \"Lazer\",\n",
        "    \"fashion_calcados\": \"Uso Diário\",\n",
        "    \"cool_stuff\": \"Lazer\",\n",
        "    \"malas_acessorios\": \"Viagem\",\n",
        "    \"climatizacao\": \"Uso Diário\",\n",
        "    \"construcao_ferramentas_construcao\": \"Trabalho\",\n",
        "    \"moveis_cozinha_area_de_servico_jantar_e_jardim\": \"Uso Diário\",\n",
        "    \"construcao_ferramentas_jardim\": \"Trabalho\",\n",
        "    \"fashion_roupa_masculina\": \"Uso Diário\",\n",
        "    \"pet_shop\": \"Uso Diário\",\n",
        "    \"moveis_escritorio\": \"Trabalho\",\n",
        "    \"market_place\": \"Trabalho\",\n",
        "    \"eletronicos\": \"Trabalho\",\n",
        "    \"eletrodomesticos\": \"Uso Diário\",\n",
        "    \"artigos_de_festas\": \"Lazer\",\n",
        "    \"casa_conforto\": \"Uso Diário\",\n",
        "    \"construcao_ferramentas_ferramentas\": \"Trabalho\",\n",
        "    \"agro_industria_e_comercio\": \"Trabalho\",\n",
        "    \"moveis_colchao_e_estofado\": \"Uso Diário\",\n",
        "    \"livros_tecnicos\": \"Educação\",\n",
        "    \"casa_construcao\": \"Trabalho\",\n",
        "    \"instrumentos_musicais\": \"Lazer\",\n",
        "    \"moveis_sala\": \"Uso Diário\",\n",
        "    \"construcao_ferramentas_iluminacao\": \"Trabalho\",\n",
        "    \"industria_comercio_e_negocios\": \"Trabalho\",\n",
        "    \"alimentos\": \"Uso Diário\",\n",
        "    \"artes\": \"Lazer\",\n",
        "    \"moveis_quarto\": \"Uso Diário\",\n",
        "    \"livros_interesse_geral\": \"Educação\",\n",
        "    \"construcao_ferramentas_seguranca\": \"Trabalho\",\n",
        "    \"fashion_underwear_e_moda_praia\": \"Uso Diário\",\n",
        "    \"fashion_esporte\": \"Lazer\",\n",
        "    \"sinalizacao_e_seguranca\": \"Trabalho\",\n",
        "    \"pcs\": \"Trabalho\",\n",
        "    \"artigos_de_natal\": \"Lazer\",\n",
        "    \"fashion_roupa_feminina\": \"Uso Diário\",\n",
        "    \"eletrodomesticos_2\": \"Uso Diário\",\n",
        "    \"livros_importados\": \"Educação\",\n",
        "    \"bebidas\": \"Uso Diário\",\n",
        "    \"cine_foto\": \"Lazer\",\n",
        "    \"la_cuisine\": \"Uso Diário\",\n",
        "    \"musica\": \"Lazer\",\n",
        "    \"casa_conforto_2\": \"Uso Diário\",\n",
        "    \"portateis_casa_forno_e_cafe\": \"Uso Diário\",\n",
        "    \"cds_dvds_musicais\": \"Lazer\",\n",
        "    \"dvds_blu_ray\": \"Lazer\",\n",
        "    \"flores\": \"Presente\",\n",
        "    \"artes_e_artesanato\": \"Lazer\",\n",
        "    \"fraldas_higiene\": \"Uso Diário\",\n",
        "    \"fashion_roupa_infanto_juvenil\": \"Uso Diário\",\n",
        "    \"seguros_e_servicos\": \"Trabalho\"\n",
        "}\n",
        "\n",
        "# Criação de uma função UDF para mapear as segmentações de utilização principal\n",
        "def segmentacao_utilizacao(categoria):\n",
        "    return segmentacoes_utilizacao.get(categoria, \"Uso Diário\")\n",
        "\n",
        "segmentacao_utilizacao_udf = udf(segmentacao_utilizacao, StringType())\n",
        "\n",
        "# Adição da coluna de segmentação de utilização principal ao DataFrame\n",
        "products = products.withColumn(\n",
        "    \"segmentacao_utilizacao\",\n",
        "    segmentacao_utilizacao_udf(col(\"product_category_name\"))\n",
        ")\n"
      ]
    },
    {
      "cell_type": "code",
      "execution_count": null,
      "metadata": {
        "application/vnd.databricks.v1+cell": {
          "cellMetadata": {
            "byteLimit": 2048000,
            "rowLimit": 10000
          },
          "inputWidgets": {},
          "nuid": "e952f34e-49a0-42e0-bdbc-c8629a917a52",
          "showTitle": false,
          "tableResultSettingsMap": {},
          "title": ""
        },
        "id": "WJ3E9z6AL4FC"
      },
      "outputs": [],
      "source": [
        "# Definição da segmentação por Funcionalidade Principal\n",
        "segmentacoes_funcionalidade = {\n",
        "    \"beleza_saude\": \"Conforto\",\n",
        "    \"informatica_acessorios\": \"Trabalho\",\n",
        "    \"automotivo\": \"Especializado\",\n",
        "    \"cama_mesa_banho\": \"Essencial\",\n",
        "    \"moveis_decoracao\": \"Conforto\",\n",
        "    \"esporte_lazer\": \"Entretenimento\",\n",
        "    \"perfumaria\": \"Conforto\",\n",
        "    \"utilidades_domesticas\": \"Essencial\",\n",
        "    \"telefonia\": \"Trabalho\",\n",
        "    \"relogios_presentes\": \"Conforto\",\n",
        "    \"alimentos_bebidas\": \"Essencial\",\n",
        "    \"bebes\": \"Essencial\",\n",
        "    \"papelaria\": \"Trabalho\",\n",
        "    \"tablets_impressao_imagem\": \"Trabalho\",\n",
        "    \"brinquedos\": \"Entretenimento\",\n",
        "    \"telefonia_fixa\": \"Trabalho\",\n",
        "    \"ferramentas_jardim\": \"Especializado\",\n",
        "    \"fashion_bolsas_e_acessorios\": \"Conforto\",\n",
        "    \"eletroportateis\": \"Essencial\",\n",
        "    \"consoles_games\": \"Entretenimento\",\n",
        "    \"audio\": \"Entretenimento\",\n",
        "    \"fashion_calcados\": \"Conforto\",\n",
        "    \"cool_stuff\": \"Entretenimento\",\n",
        "    \"malas_acessorios\": \"Conforto\",\n",
        "    \"climatizacao\": \"Essencial\",\n",
        "    \"construcao_ferramentas_construcao\": \"Especializado\",\n",
        "    \"moveis_cozinha_area_de_servico_jantar_e_jardim\": \"Essencial\",\n",
        "    \"construcao_ferramentas_jardim\": \"Especializado\",\n",
        "    \"fashion_roupa_masculina\": \"Conforto\",\n",
        "    \"pet_shop\": \"Essencial\",\n",
        "    \"moveis_escritorio\": \"Trabalho\",\n",
        "    \"market_place\": \"Trabalho\",\n",
        "    \"eletronicos\": \"Trabalho\",\n",
        "    \"eletrodomesticos\": \"Essencial\",\n",
        "    \"artigos_de_festas\": \"Entretenimento\",\n",
        "    \"casa_conforto\": \"Conforto\",\n",
        "    \"construcao_ferramentas_ferramentas\": \"Especializado\",\n",
        "    \"agro_industria_e_comercio\": \"Especializado\",\n",
        "    \"moveis_colchao_e_estofado\": \"Conforto\",\n",
        "    \"livros_tecnicos\": \"Trabalho\",\n",
        "    \"casa_construcao\": \"Especializado\",\n",
        "    \"instrumentos_musicais\": \"Entretenimento\",\n",
        "    \"moveis_sala\": \"Conforto\",\n",
        "    \"construcao_ferramentas_iluminacao\": \"Especializado\",\n",
        "    \"industria_comercio_e_negocios\": \"Especializado\",\n",
        "    \"alimentos\": \"Essencial\",\n",
        "    \"artes\": \"Entretenimento\",\n",
        "    \"moveis_quarto\": \"Conforto\",\n",
        "    \"livros_interesse_geral\": \"Entretenimento\",\n",
        "    \"construcao_ferramentas_seguranca\": \"Especializado\",\n",
        "    \"fashion_underwear_e_moda_praia\": \"Conforto\",\n",
        "    \"fashion_esporte\": \"Conforto\",\n",
        "    \"sinalizacao_e_seguranca\": \"Especializado\",\n",
        "    \"pcs\": \"Trabalho\",\n",
        "    \"artigos_de_natal\": \"Entretenimento\",\n",
        "    \"fashion_roupa_feminina\": \"Conforto\",\n",
        "    \"eletrodomesticos_2\": \"Essencial\",\n",
        "    \"livros_importados\": \"Entretenimento\",\n",
        "    \"bebidas\": \"Essencial\",\n",
        "    \"cine_foto\": \"Entretenimento\",\n",
        "    \"la_cuisine\": \"Essencial\",\n",
        "    \"musica\": \"Entretenimento\",\n",
        "    \"casa_conforto_2\": \"Conforto\",\n",
        "    \"portateis_casa_forno_e_cafe\": \"Essencial\",\n",
        "    \"cds_dvds_musicais\": \"Entretenimento\",\n",
        "    \"dvds_blu_ray\": \"Entretenimento\",\n",
        "    \"flores\": \"Conforto\",\n",
        "    \"artes_e_artesanato\": \"Entretenimento\",\n",
        "    \"fraldas_higiene\": \"Essencial\",\n",
        "    \"fashion_roupa_infanto_juvenil\": \"Conforto\",\n",
        "    \"seguros_e_servicos\": \"Especializado\"\n",
        "}\n",
        "\n",
        "# Criação de uma função UDF para mapear as segmentações de funcionalidade principal\n",
        "def segmentacao_funcionalidade(categoria):\n",
        "    return segmentacoes_funcionalidade.get(categoria, \"Essencial\")\n",
        "\n",
        "# Registro da UDF\n",
        "segmentacao_funcionalidade_udf = udf(segmentacao_funcionalidade, StringType())\n",
        "\n",
        "# Adição da coluna de segmentação de validade ao DataFrame\n",
        "products = products.withColumn(\n",
        "    \"segmentacoes_funcionalidade\",\n",
        "    segmentacao_funcionalidade_udf(col(\"product_category_name\"))\n",
        ")"
      ]
    },
    {
      "cell_type": "code",
      "execution_count": null,
      "metadata": {
        "application/vnd.databricks.v1+cell": {
          "cellMetadata": {
            "byteLimit": 2048000,
            "rowLimit": 10000
          },
          "inputWidgets": {},
          "nuid": "5d6dba09-feb4-4e81-b2b5-9d6cdb08c0f1",
          "showTitle": false,
          "tableResultSettingsMap": {},
          "title": ""
        },
        "id": "xsZ7Grm5L4FD"
      },
      "outputs": [],
      "source": [
        "# Definição da segmentação por Nível de Interatividade\n",
        "segmentacoes_interatividade = {\n",
        "    \"beleza_saude\": \"Média Interatividade\",\n",
        "    \"informatica_acessorios\": \"Alta Interatividade\",\n",
        "    \"automotivo\": \"Média Interatividade\",\n",
        "    \"cama_mesa_banho\": \"Baixa Interatividade\",\n",
        "    \"moveis_decoracao\": \"Baixa Interatividade\",\n",
        "    \"esporte_lazer\": \"Alta Interatividade\",\n",
        "    \"perfumaria\": \"Média Interatividade\",\n",
        "    \"utilidades_domesticas\": \"Média Interatividade\",\n",
        "    \"telefonia\": \"Alta Interatividade\",\n",
        "    \"relogios_presentes\": \"Baixa Interatividade\",\n",
        "    \"alimentos_bebidas\": \"Baixa Interatividade\",\n",
        "    \"bebes\": \"Média Interatividade\",\n",
        "    \"papelaria\": \"Média Interatividade\",\n",
        "    \"tablets_impressao_imagem\": \"Alta Interatividade\",\n",
        "    \"brinquedos\": \"Alta Interatividade\",\n",
        "    \"telefonia_fixa\": \"Alta Interatividade\",\n",
        "    \"ferramentas_jardim\": \"Média Interatividade\",\n",
        "    \"fashion_bolsas_e_acessorios\": \"Baixa Interatividade\",\n",
        "    \"eletroportateis\": \"Média Interatividade\",\n",
        "    \"consoles_games\": \"Alta Interatividade\",\n",
        "    \"audio\": \"Alta Interatividade\",\n",
        "    \"fashion_calcados\": \"Baixa Interatividade\",\n",
        "    \"cool_stuff\": \"Alta Interatividade\",\n",
        "    \"malas_acessorios\": \"Baixa Interatividade\",\n",
        "    \"climatizacao\": \"Média Interatividade\",\n",
        "    \"construcao_ferramentas_construcao\": \"Média Interatividade\",\n",
        "    \"moveis_cozinha_area_de_servico_jantar_e_jardim\": \"Baixa Interatividade\",\n",
        "    \"construcao_ferramentas_jardim\": \"Média Interatividade\",\n",
        "    \"fashion_roupa_masculina\": \"Baixa Interatividade\",\n",
        "    \"pet_shop\": \"Média Interatividade\",\n",
        "    \"moveis_escritorio\": \"Baixa Interatividade\",\n",
        "    \"market_place\": \"Média Interatividade\",\n",
        "    \"eletronicos\": \"Alta Interatividade\",\n",
        "    \"eletrodomesticos\": \"Média Interatividade\",\n",
        "    \"artigos_de_festas\": \"Média Interatividade\",\n",
        "    \"casa_conforto\": \"Baixa Interatividade\",\n",
        "    \"construcao_ferramentas_ferramentas\": \"Média Interatividade\",\n",
        "    \"agro_industria_e_comercio\": \"Média Interatividade\",\n",
        "    \"moveis_colchao_e_estofado\": \"Baixa Interatividade\",\n",
        "    \"livros_tecnicos\": \"Média Interatividade\",\n",
        "    \"casa_construcao\": \"Média Interatividade\",\n",
        "    \"instrumentos_musicais\": \"Alta Interatividade\",\n",
        "    \"moveis_sala\": \"Baixa Interatividade\",\n",
        "    \"construcao_ferramentas_iluminacao\": \"Média Interatividade\",\n",
        "    \"industria_comercio_e_negocios\": \"Média Interatividade\",\n",
        "    \"alimentos\": \"Baixa Interatividade\",\n",
        "    \"artes\": \"Alta Interatividade\",\n",
        "    \"moveis_quarto\": \"Baixa Interatividade\",\n",
        "    \"livros_interesse_geral\": \"Baixa Interatividade\",\n",
        "    \"construcao_ferramentas_seguranca\": \"Média Interatividade\",\n",
        "    \"fashion_underwear_e_moda_praia\": \"Baixa Interatividade\",\n",
        "    \"fashion_esporte\": \"Alta Interatividade\",\n",
        "    \"sinalizacao_e_seguranca\": \"Média Interatividade\",\n",
        "    \"pcs\": \"Alta Interatividade\",\n",
        "    \"artigos_de_natal\": \"Média Interatividade\",\n",
        "    \"fashion_roupa_feminina\": \"Baixa Interatividade\",\n",
        "    \"eletrodomesticos_2\": \"Média Interatividade\",\n",
        "    \"livros_importados\": \"Baixa Interatividade\",\n",
        "    \"bebidas\": \"Baixa Interatividade\",\n",
        "    \"cine_foto\": \"Alta Interatividade\",\n",
        "    \"la_cuisine\": \"Média Interatividade\",\n",
        "    \"musica\": \"Alta Interatividade\",\n",
        "    \"casa_conforto_2\": \"Baixa Interatividade\",\n",
        "    \"portateis_casa_forno_e_cafe\": \"Média Interatividade\",\n",
        "    \"cds_dvds_musicais\": \"Alta Interatividade\",\n",
        "    \"dvds_blu_ray\": \"Alta Interatividade\",\n",
        "    \"flores\": \"Baixa Interatividade\",\n",
        "    \"artes_e_artesanato\": \"Alta Interatividade\",\n",
        "    \"fraldas_higiene\": \"Média Interatividade\",\n",
        "    \"fashion_roupa_infanto_juvenil\": \"Baixa Interatividade\",\n",
        "    \"seguros_e_servicos\": \"Média Interatividade\"\n",
        "}\n",
        "# Criação de uma função UDF para mapear as segmentações de funcionalidade principal\n",
        "def segmentacao_interatividade(categoria):\n",
        "    return segmentacoes_interatividade.get(categoria, \"Média Interatividade\")\n",
        "\n",
        "# Registro da UDF\n",
        "segmentacao_interatividade_udf = udf(segmentacao_interatividade, StringType())\n",
        "\n",
        "# Adição da coluna de segmentação de validade ao DataFrame\n",
        "products = products.withColumn(\n",
        "    \"segmentacao_interatividade\",\n",
        "    segmentacao_interatividade_udf(col(\"product_category_name\"))\n",
        ")\n"
      ]
    },
    {
      "cell_type": "code",
      "execution_count": null,
      "metadata": {
        "application/vnd.databricks.v1+cell": {
          "cellMetadata": {
            "byteLimit": 2048000,
            "rowLimit": 10000
          },
          "inputWidgets": {},
          "nuid": "ea8abebb-6583-4cd3-ab70-3a90cf908ce4",
          "showTitle": false,
          "tableResultSettingsMap": {},
          "title": ""
        },
        "id": "yDIcvB5bL4FD"
      },
      "outputs": [],
      "source": [
        "# Definição da segmentação por Impacto Ambiental\n",
        "segmentacoes_impacto_ambiental = {\n",
        "    \"beleza_saude\": \"Médio\",\n",
        "    \"informatica_acessorios\": \"Alto\",\n",
        "    \"automotivo\": \"Alto\",\n",
        "    \"cama_mesa_banho\": \"Baixo\",\n",
        "    \"moveis_decoracao\": \"Médio\",\n",
        "    \"esporte_lazer\": \"Médio\",\n",
        "    \"perfumaria\": \"Médio\",\n",
        "    \"utilidades_domesticas\": \"Médio\",\n",
        "    \"telefonia\": \"Alto\",\n",
        "    \"relogios_presentes\": \"Baixo\",\n",
        "    \"alimentos_bebidas\": \"Baixo\",\n",
        "    \"bebes\": \"Baixo\",\n",
        "    \"papelaria\": \"Baixo\",\n",
        "    \"tablets_impressao_imagem\": \"Alto\",\n",
        "    \"brinquedos\": \"Médio\",\n",
        "    \"telefonia_fixa\": \"Alto\",\n",
        "    \"ferramentas_jardim\": \"Médio\",\n",
        "    \"fashion_bolsas_e_acessorios\": \"Médio\",\n",
        "    \"eletroportateis\": \"Alto\",\n",
        "    \"consoles_games\": \"Alto\",\n",
        "    \"audio\": \"Alto\",\n",
        "    \"fashion_calcados\": \"Médio\",\n",
        "    \"cool_stuff\": \"Alto\",\n",
        "    \"malas_acessorios\": \"Médio\",\n",
        "    \"climatizacao\": \"Alto\",\n",
        "    \"construcao_ferramentas_construcao\": \"Alto\",\n",
        "    \"moveis_cozinha_area_de_servico_jantar_e_jardim\": \"Baixo\",\n",
        "    \"construcao_ferramentas_jardim\": \"Alto\",\n",
        "    \"fashion_roupa_masculina\": \"Baixo\",\n",
        "    \"pet_shop\": \"Baixo\",\n",
        "    \"moveis_escritorio\": \"Médio\",\n",
        "    \"market_place\": \"Médio\",\n",
        "    \"eletronicos\": \"Alto\",\n",
        "    \"eletrodomesticos\": \"Alto\",\n",
        "    \"artigos_de_festas\": \"Baixo\",\n",
        "    \"casa_conforto\": \"Baixo\",\n",
        "    \"construcao_ferramentas_ferramentas\": \"Alto\",\n",
        "    \"agro_industria_e_comercio\": \"Alto\",\n",
        "    \"moveis_colchao_e_estofado\": \"Médio\",\n",
        "    \"livros_tecnicos\": \"Baixo\",\n",
        "    \"casa_construcao\": \"Alto\",\n",
        "    \"instrumentos_musicais\": \"Médio\",\n",
        "    \"moveis_sala\": \"Médio\",\n",
        "    \"construcao_ferramentas_iluminacao\": \"Alto\",\n",
        "    \"industria_comercio_e_negocios\": \"Alto\",\n",
        "    \"alimentos\": \"Baixo\",\n",
        "    \"artes\": \"Baixo\",\n",
        "    \"moveis_quarto\": \"Médio\",\n",
        "    \"livros_interesse_geral\": \"Baixo\",\n",
        "    \"construcao_ferramentas_seguranca\": \"Alto\",\n",
        "    \"fashion_underwear_e_moda_praia\": \"Baixo\",\n",
        "    \"fashion_esporte\": \"Baixo\",\n",
        "    \"sinalizacao_e_seguranca\": \"Alto\",\n",
        "    \"pcs\": \"Alto\",\n",
        "    \"artigos_de_natal\": \"Baixo\",\n",
        "    \"fashion_roupa_feminina\": \"Baixo\",\n",
        "    \"eletrodomesticos_2\": \"Alto\",\n",
        "    \"livros_importados\": \"Baixo\",\n",
        "    \"bebidas\": \"Baixo\",\n",
        "    \"cine_foto\": \"Alto\",\n",
        "    \"la_cuisine\": \"Baixo\",\n",
        "    \"musica\": \"Baixo\",\n",
        "    \"casa_conforto_2\": \"Baixo\",\n",
        "    \"portateis_casa_forno_e_cafe\": \"Baixo\",\n",
        "    \"cds_dvds_musicais\": \"Baixo\",\n",
        "    \"dvds_blu_ray\": \"Baixo\",\n",
        "    \"flores\": \"Baixo\",\n",
        "    \"artes_e_artesanato\": \"Baixo\",\n",
        "    \"fraldas_higiene\": \"Baixo\",\n",
        "    \"fashion_roupa_infanto_juvenil\": \"Baixo\",\n",
        "    \"seguros_e_servicos\": \"Baixo\"\n",
        "}\n",
        "\n",
        "# Criação de uma função UDF para mapear as segmentações de funcionalidade principal\n",
        "def segmentacoe_impacto_ambiental(categoria):\n",
        "    return segmentacoes_impacto_ambiental.get(categoria, \"Média Ambiental\")\n",
        "\n",
        "# Registro da UDF\n",
        "segmentacoe_impacto_ambiental_udf = udf(segmentacoe_impacto_ambiental, StringType())\n",
        "\n",
        "# Adição da coluna de segmentação de validade ao DataFrame\n",
        "products = products.withColumn(\n",
        "    \"segmentacoes_impacto_ambiental\",\n",
        "    segmentacoe_impacto_ambiental_udf(col(\"product_category_name\"))\n",
        ")\n"
      ]
    },
    {
      "cell_type": "code",
      "execution_count": null,
      "metadata": {
        "application/vnd.databricks.v1+cell": {
          "cellMetadata": {
            "byteLimit": 2048000,
            "rowLimit": 10000
          },
          "inputWidgets": {},
          "nuid": "e70ca0ab-ed4f-45d9-95ad-24d72ca3fdf9",
          "showTitle": false,
          "tableResultSettingsMap": {},
          "title": ""
        },
        "id": "W2CZ4E8iL4FD"
      },
      "outputs": [],
      "source": [
        "# Definição da segmentação por Interação Humana Necessária\n",
        "segmentacoes_interacao_humana = {\n",
        "    \"beleza_saude\": \"Manual\",\n",
        "    \"informatica_acessorios\": \"Assistido\",\n",
        "    \"automotivo\": \"Assistido\",\n",
        "    \"cama_mesa_banho\": \"Manual\",\n",
        "    \"moveis_decoracao\": \"Manual\",\n",
        "    \"esporte_lazer\": \"Manual\",\n",
        "    \"perfumaria\": \"Manual\",\n",
        "    \"utilidades_domesticas\": \"Assistido\",\n",
        "    \"telefonia\": \"Assistido\",\n",
        "    \"relogios_presentes\": \"Manual\",\n",
        "    \"alimentos_bebidas\": \"Manual\",\n",
        "    \"bebes\": \"Manual\",\n",
        "    \"papelaria\": \"Manual\",\n",
        "    \"tablets_impressao_imagem\": \"Assistido\",\n",
        "    \"brinquedos\": \"Manual\",\n",
        "    \"telefonia_fixa\": \"Assistido\",\n",
        "    \"ferramentas_jardim\": \"Manual\",\n",
        "    \"fashion_bolsas_e_acessorios\": \"Manual\",\n",
        "    \"eletroportateis\": \"Assistido\",\n",
        "    \"consoles_games\": \"Assistido\",\n",
        "    \"audio\": \"Assistido\",\n",
        "    \"fashion_calcados\": \"Manual\",\n",
        "    \"cool_stuff\": \"Assistido\",\n",
        "    \"malas_acessorios\": \"Manual\",\n",
        "    \"climatizacao\": \"Assistido\",\n",
        "    \"construcao_ferramentas_construcao\": \"Manual\",\n",
        "    \"moveis_cozinha_area_de_servico_jantar_e_jardim\": \"Manual\",\n",
        "    \"construcao_ferramentas_jardim\": \"Manual\",\n",
        "    \"fashion_roupa_masculina\": \"Manual\",\n",
        "    \"pet_shop\": \"Manual\",\n",
        "    \"moveis_escritorio\": \"Manual\",\n",
        "    \"market_place\": \"Assistido\",\n",
        "    \"eletronicos\": \"Assistido\",\n",
        "    \"eletrodomesticos\": \"Assistido\",\n",
        "    \"artigos_de_festas\": \"Manual\",\n",
        "    \"casa_conforto\": \"Manual\",\n",
        "    \"construcao_ferramentas_ferramentas\": \"Manual\",\n",
        "    \"agro_industria_e_comercio\": \"Assistido\",\n",
        "    \"moveis_colchao_e_estofado\": \"Manual\",\n",
        "    \"livros_tecnicos\": \"Manual\",\n",
        "    \"casa_construcao\": \"Manual\",\n",
        "    \"instrumentos_musicais\": \"Manual\",\n",
        "    \"moveis_sala\": \"Manual\",\n",
        "    \"construcao_ferramentas_iluminacao\": \"Manual\",\n",
        "    \"industria_comercio_e_negocios\": \"Assistido\",\n",
        "    \"alimentos\": \"Manual\",\n",
        "    \"artes\": \"Manual\",\n",
        "    \"moveis_quarto\": \"Manual\",\n",
        "    \"livros_interesse_geral\": \"Manual\",\n",
        "    \"construcao_ferramentas_seguranca\": \"Assistido\",\n",
        "    \"fashion_underwear_e_moda_praia\": \"Manual\",\n",
        "    \"fashion_esporte\": \"Manual\",\n",
        "    \"sinalizacao_e_seguranca\": \"Assistido\",\n",
        "    \"pcs\": \"Assistido\",\n",
        "    \"artigos_de_natal\": \"Manual\",\n",
        "    \"fashion_roupa_feminina\": \"Manual\",\n",
        "    \"eletrodomesticos_2\": \"Assistido\",\n",
        "    \"livros_importados\": \"Manual\",\n",
        "    \"bebidas\": \"Manual\",\n",
        "    \"cine_foto\": \"Assistido\",\n",
        "    \"la_cuisine\": \"Manual\",\n",
        "    \"musica\": \"Manual\",\n",
        "    \"casa_conforto_2\": \"Manual\",\n",
        "    \"portateis_casa_forno_e_cafe\": \"Assistido\",\n",
        "    \"cds_dvds_musicais\": \"Manual\",\n",
        "    \"dvds_blu_ray\": \"Manual\",\n",
        "    \"flores\": \"Manual\",\n",
        "    \"artes_e_artesanato\": \"Manual\",\n",
        "    \"fraldas_higiene\": \"Manual\",\n",
        "    \"fashion_roupa_infanto_juvenil\": \"Manual\",\n",
        "    \"seguros_e_servicos\": \"Assistido\"\n",
        "}\n",
        "\n",
        "# Criação de uma função UDF para mapear as segmentações de funcionalidade principal\n",
        "def segmentacoe_interacao_humana(categoria):\n",
        "    return segmentacoes_interacao_humana.get(categoria, \"Interação Humana\")\n",
        "\n",
        "# Registro da UDF\n",
        "segmentacoe_interacao_humana_udf = udf(segmentacoe_interacao_humana, StringType())\n",
        "\n",
        "# Adição da coluna de segmentação de validade ao DataFrame\n",
        "products = products.withColumn(\n",
        "    \"segmentacoes_interacao_humana\",\n",
        "    segmentacoe_interacao_humana_udf(col(\"product_category_name\"))\n",
        ")"
      ]
    },
    {
      "cell_type": "code",
      "execution_count": null,
      "metadata": {
        "application/vnd.databricks.v1+cell": {
          "cellMetadata": {
            "byteLimit": 2048000,
            "rowLimit": 10000
          },
          "inputWidgets": {},
          "nuid": "a7ae27cb-b14f-43c5-bc9c-6b1a87187a82",
          "showTitle": false,
          "tableResultSettingsMap": {},
          "title": ""
        },
        "id": "M7fOK52YL4FD",
        "outputId": "f691438c-d540-49bf-8ab5-407adc7d91fa",
        "colab": {
          "base_uri": "https://localhost:8080/"
        }
      },
      "outputs": [
        {
          "output_type": "execute_result",
          "data": {
            "text/plain": [
              "DataFrame[summary: string, product_category_name: string, product_category_name_english: string]"
            ]
          },
          "metadata": {},
          "execution_count": 18
        }
      ],
      "source": [
        "product_category_name_translation.describe()"
      ]
    },
    {
      "cell_type": "code",
      "execution_count": null,
      "metadata": {
        "application/vnd.databricks.v1+cell": {
          "cellMetadata": {
            "byteLimit": 2048000,
            "rowLimit": 10000
          },
          "inputWidgets": {},
          "nuid": "cca727c0-a751-47d6-b895-aece4d65089a",
          "showTitle": false,
          "tableResultSettingsMap": {},
          "title": ""
        },
        "id": "JY4S4DdLL4FE",
        "outputId": "a709804d-9f58-4d77-e08f-79e7bd407898",
        "colab": {
          "base_uri": "https://localhost:8080/"
        }
      },
      "outputs": [
        {
          "output_type": "stream",
          "name": "stdout",
          "text": [
            "Número de pedidos removidos: 2572\n",
            "Número de pagamentos removidos: 2719\n"
          ]
        }
      ],
      "source": [
        "# Unir as tabelas com base no order_id usando PySpark\n",
        "merged_data = orders.join(order_payments, on='order_id', how='inner')\n",
        "\n",
        "# Calcular o valor total por consumidor\n",
        "total_per_consumer = merged_data.groupBy('customer_id').agg(F.sum('payment_value').alias('total_value'))\n",
        "\n",
        "# Calcular Q1, Q3 e IQR\n",
        "Q1 = total_per_consumer.approxQuantile('total_value', [0.10], 0.01)[0]\n",
        "Q3 = total_per_consumer.approxQuantile('total_value', [0.90], 0.01)[0]\n",
        "IQR = Q3 - Q1\n",
        "\n",
        "# Definir limites inferior e superior\n",
        "lower_bound = Q1 - 1.5 * IQR\n",
        "upper_bound = Q3 + 1.5 * IQR\n",
        "\n",
        "# Filtrar os consumidores que estão dentro dos limites\n",
        "valid_customers = total_per_consumer.filter((F.col('total_value') >= lower_bound) & (F.col('total_value') <= upper_bound)).select('customer_id')\n",
        "\n",
        "# Filtrar as tabelas orders e order_payments para remover os outliers\n",
        "filtered_orders = orders.join(valid_customers, on='customer_id', how='inner')\n",
        "filtered_order_payments = order_payments.join(filtered_orders.select('order_id'), on='order_id', how='inner')\n",
        "\n",
        "# Exibir o número de registros removidos\n",
        "removed_orders_count = orders.count() - filtered_orders.count()\n",
        "removed_payments_count = order_payments.count() - filtered_order_payments.count()\n",
        "\n",
        "print(f\"Número de pedidos removidos: {removed_orders_count}\")\n",
        "print(f\"Número de pagamentos removidos: {removed_payments_count}\")\n",
        "\n",
        "# Se necessário, você pode sobrescrever os DataFrames originais com os filtrados\n",
        "orders = filtered_orders\n",
        "order_payments = filtered_order_payments"
      ]
    },
    {
      "cell_type": "code",
      "execution_count": null,
      "metadata": {
        "application/vnd.databricks.v1+cell": {
          "cellMetadata": {
            "byteLimit": 2048000,
            "rowLimit": 10000
          },
          "inputWidgets": {},
          "nuid": "ed62a65f-5a97-4dfd-8a09-26b58dcba49a",
          "showTitle": false,
          "tableResultSettingsMap": {},
          "title": ""
        },
        "id": "ajbKKCNyL4FE",
        "outputId": "e731d88d-6aa8-4bdb-bdd2-0595e7cc5c1f",
        "colab": {
          "base_uri": "https://localhost:8080/"
        }
      },
      "outputs": [
        {
          "output_type": "stream",
          "name": "stdout",
          "text": [
            "Número de consumidores que compraram mais de um product_id: 3115\n"
          ]
        }
      ],
      "source": [
        "# 1. Unir as tabelas orders e order_items com base no order_id\n",
        "merged_data = orders.join(order_items, on='order_id', how='inner')\n",
        "\n",
        "# 2. Agrupar por customer_id e contar o número de produtos distintos (product_id) comprados por cada consumidor\n",
        "product_count_per_customer = merged_data.groupBy('customer_id').agg(\n",
        "    F.countDistinct('product_id').alias('distinct_product_count')  # Contar produtos distintos\n",
        ")\n",
        "\n",
        "# 3. Filtrar consumidores que compraram mais de um produto\n",
        "customers_with_multiple_products = product_count_per_customer.filter(\n",
        "    F.col('distinct_product_count') > 1\n",
        ")\n",
        "\n",
        "# 4. Contar quantos consumidores compraram mais de um produto\n",
        "number_of_customers = customers_with_multiple_products.count()\n",
        "\n",
        "print(f\"Número de consumidores que compraram mais de um product_id: {number_of_customers}\")"
      ]
    },
    {
      "cell_type": "code",
      "execution_count": null,
      "metadata": {
        "application/vnd.databricks.v1+cell": {
          "cellMetadata": {
            "byteLimit": 2048000,
            "rowLimit": 10000
          },
          "inputWidgets": {},
          "nuid": "e9ec69d2-8cb6-48bb-9a45-69a8a73b63a6",
          "showTitle": false,
          "tableResultSettingsMap": {},
          "title": ""
        },
        "id": "10rZccPpL4FE",
        "outputId": "731eaf93-0ad0-4184-cb60-8e3d70ac9094",
        "colab": {
          "base_uri": "https://localhost:8080/"
        }
      },
      "outputs": [
        {
          "output_type": "stream",
          "name": "stdout",
          "text": [
            "Columns in final_order_items after join: ['product_id', 'order_id', 'order_item_id', 'seller_id', 'shipping_limit_date', 'price', 'freight_value', 'days_to_shipping_limit', 'product_category_name', 'product_name_lenght', 'product_description_lenght', 'product_photos_qty', 'product_weight_g', 'product_length_cm', 'product_height_cm', 'product_width_cm', 'segmentacao_necessidade', 'segmentacao_sentimento', 'segmentacao_tipo', 'segmentacao_validade', 'segmentacao_utilizacao', 'segmentacoes_funcionalidade', 'segmentacao_interatividade', 'segmentacoes_impacto_ambiental', 'segmentacoes_interacao_humana']\n",
            "+--------------------+-------------+--------------------+--------------------+-------------------+------+-------------+----------------------+-----------------------------+----------------------------+----------------------+--------------------------+----------------------------+---------------------------------+--------------------------------+------------------------------------+-----------------------------------+\n",
            "|            order_id|order_item_id|          product_id|           seller_id|shipping_limit_date| price|freight_value|days_to_shipping_limit|segmentacao_necessidade_index|segmentacao_sentimento_index|segmentacao_tipo_index|segmentacao_validade_index|segmentacao_utilizacao_index|segmentacoes_funcionalidade_index|segmentacao_interatividade_index|segmentacoes_impacto_ambiental_index|segmentacoes_interacao_humana_index|\n",
            "+--------------------+-------------+--------------------+--------------------+-------------------+------+-------------+----------------------+-----------------------------+----------------------------+----------------------+--------------------------+----------------------------+---------------------------------+--------------------------------+------------------------------------+-----------------------------------+\n",
            "|00010242fe8c5a6d1...|            1|4244733e06e7ecb49...|48436dade18ac8b2b...|2017-09-19 09:45:35| 58.90|        13.29|                     6|                          7.0|                         0.0|                   2.0|                       0.0|                         2.0|                              3.0|                             1.0|                                 1.0|                                1.0|\n",
            "|00018f77f2f0320c5...|            1|e5f2d52b802189ee6...|dd7ddc04e1b6c2c61...|2017-05-03 11:05:13|239.90|        19.93|                     7|                          9.0|                         0.0|                   0.0|                       1.0|                         0.0|                              1.0|                             0.0|                                 2.0|                                0.0|\n",
            "|000229ec398224ef6...|            1|c777355d18b72b67a...|5b51032eddd242adc...|2018-01-18 14:48:30|199.00|        17.87|                     4|                          0.0|                         0.0|                   3.0|                       0.0|                         2.0|                              0.0|                             2.0|                                 0.0|                                0.0|\n",
            "|00024acbcdf0a6daa...|            1|7634da152a4610f15...|9d7a1d34a50524090...|2018-08-15 10:10:18| 12.99|        12.79|                     7|                          2.0|                         0.0|                   1.0|                       0.0|                         0.0|                              0.0|                             0.0|                                 0.0|                                0.0|\n",
            "|00042b26cf59d7ce6...|            1|ac6c3623068f30de0...|df560393f3a51e745...|2017-02-13 13:57:51|199.90|        18.14|                     9|                          3.0|                         0.0|                   0.0|                       0.0|                         1.0|                              4.0|                             0.0|                                 0.0|                                0.0|\n",
            "|00048cc3ae777c65d...|            1|ef92defde845ab845...|6426d21aca402a131...|2017-05-23 03:55:27| 21.90|        12.69|                     6|                          0.0|                         1.0|                   0.0|                       0.0|                         0.0|                              1.0|                             0.0|                                 0.0|                                1.0|\n",
            "|00054e8431b9d7675...|            1|8d4f2bb7e93e6710a...|7040e82f899a04d1b...|2017-12-14 12:10:31| 19.90|        11.85|                     4|                          1.0|                         2.0|                   0.0|                       0.0|                         1.0|                              2.0|                             1.0|                                 1.0|                                1.0|\n",
            "|000576fe39319847c...|            1|557d850972a7d6f79...|5996cddab893a4652...|2018-07-10 12:30:45|810.00|        70.75|                     5|                          3.0|                         0.0|                   0.0|                       0.0|                         1.0|                              4.0|                             0.0|                                 0.0|                                0.0|\n",
            "|0005a1a1728c9d785...|            1|310ae3c140ff94b03...|a416b6a846a117243...|2018-03-26 18:31:29|145.95|        11.65|                     6|                          2.0|                         0.0|                   1.0|                       1.0|                         0.0|                              0.0|                             0.0|                                 0.0|                                0.0|\n",
            "|0005f50442cb953dc...|            1|4535b0e1091c278df...|ba143b05f0110f0dc...|2018-07-06 14:10:56| 53.99|        11.40|                     4|                          8.0|                         2.0|                   5.0|                       3.0|                         5.0|                              2.0|                             0.0|                                 2.0|                                0.0|\n",
            "|00061f2a7bc09da83...|            1|d63c1011f49d98b97...|cc419e0650a3c5ba7...|2018-03-29 22:28:09| 59.99|         8.88|                     5|                          2.0|                         0.0|                   1.0|                       1.0|                         0.0|                              0.0|                             0.0|                                 0.0|                                0.0|\n",
            "|00063b381e2406b52...|            1|f177554ea93259a5b...|8602a61d680a10a82...|2018-07-31 17:30:39| 45.00|        12.98|                     4|                          4.0|                         0.0|                   2.0|                       0.0|                         0.0|                              0.0|                             2.0|                                 0.0|                                0.0|\n",
            "|0006ec9db01a64e59...|            1|99a4788cb24856965...|4a3ca9315b744ce9f...|2018-07-26 17:24:20| 74.00|        23.32|                     2|                          0.0|                         1.0|                   1.0|                       1.0|                         0.0|                              1.0|                             2.0|                                 2.0|                                0.0|\n",
            "|0008288aa423d2a3f...|            1|368c6c730842d7801...|1f50f920176fa81da...|2018-02-21 02:55:52| 49.90|        13.37|                     6|                          3.0|                         0.0|                   0.0|                       0.0|                         1.0|                              4.0|                             0.0|                                 0.0|                                0.0|\n",
            "|0008288aa423d2a3f...|            2|368c6c730842d7801...|1f50f920176fa81da...|2018-02-21 02:55:52| 49.90|        13.37|                     6|                          3.0|                         0.0|                   0.0|                       0.0|                         1.0|                              4.0|                             0.0|                                 0.0|                                0.0|\n",
            "|0009792311464db53...|            1|8cab8abac59158715...|530ec6109d11eaaf8...|2018-08-17 12:15:10| 99.90|        27.65|                     2|                          5.0|                         0.0|                   4.0|                       1.0|                         2.0|                              3.0|                             1.0|                                 0.0|                                0.0|\n",
            "|0009c9a17f916a706...|            1|3f27ac8e699df3d30...|fcb5ace8bcc92f757...|2018-05-02 09:31:53|639.00|        11.34|                     7|                          7.0|                         0.0|                   2.0|                       0.0|                         2.0|                              3.0|                             1.0|                                 1.0|                                1.0|\n",
            "|000aed2e25dbad2f9...|            1|4fa33915031a8cde0...|fe2032dab1a61af87...|2018-05-16 20:57:03|144.00|         8.77|                     5|                          2.0|                         0.0|                   1.0|                       0.0|                         0.0|                              0.0|                             0.0|                                 0.0|                                0.0|\n",
            "|000c3e6612759851c...|            1|b50c950aba0dcead2...|218d46b86c1881d02...|2017-08-21 03:33:13| 99.00|        13.71|                     6|                          5.0|                         0.0|                   4.0|                       1.0|                         2.0|                              3.0|                             1.0|                                 0.0|                                0.0|\n",
            "|000e562887b1f2006...|            1|5ed9eaf534f6936b5...|8cbac7e12637ed9cf...|2018-02-28 12:08:37| 25.00|        16.11|                     6|                          7.0|                         0.0|                   2.0|                       0.0|                         2.0|                              3.0|                             1.0|                                 1.0|                                1.0|\n",
            "+--------------------+-------------+--------------------+--------------------+-------------------+------+-------------+----------------------+-----------------------------+----------------------------+----------------------+--------------------------+----------------------------+---------------------------------+--------------------------------+------------------------------------+-----------------------------------+\n",
            "only showing top 20 rows\n",
            "\n"
          ]
        }
      ],
      "source": [
        "\n",
        "# Join entre order_items e products para obter todas as informações necessárias\n",
        "final_order_items = order_items.join(products, on='product_id')\n",
        "\n",
        "# Aplicar StringIndexer nas colunas de segmentação\n",
        "categorical_cols = [\n",
        "    'segmentacao_necessidade', 'segmentacao_sentimento',\n",
        "    'segmentacao_tipo', 'segmentacao_validade',\n",
        "    'segmentacao_utilizacao', 'segmentacoes_funcionalidade',\n",
        "    'segmentacao_interatividade', 'segmentacoes_impacto_ambiental',\n",
        "    'segmentacoes_interacao_humana'\n",
        "]\n",
        "\n",
        "# Verificar se as colunas existem após o join\n",
        "final_order_items_cols = final_order_items.columns\n",
        "print(\"Columns in final_order_items after join:\", final_order_items_cols)\n",
        "\n",
        "# Filtrar apenas as colunas de segmentação que existem no DataFrame final_order_items\n",
        "categorical_cols = [col for col in categorical_cols if col in final_order_items_cols]\n",
        "\n",
        "# Índice de String\n",
        "indexers = [StringIndexer(inputCol=col, outputCol=col + \"_index\") for col in categorical_cols]\n",
        "\n",
        "# Construir o pipeline\n",
        "pipeline = Pipeline(stages=indexers)\n",
        "\n",
        "# Ajustar e transformar os dados\n",
        "final_order_items = pipeline.fit(final_order_items).transform(final_order_items)\n",
        "\n",
        "# Selecionar as colunas finais\n",
        "selected_cols = ['order_id', 'order_item_id', 'product_id', 'seller_id', 'shipping_limit_date',\n",
        "                 'price', 'freight_value', 'days_to_shipping_limit'] + [col + \"_index\" for col in categorical_cols]\n",
        "\n",
        "final_order_items = final_order_items.select(selected_cols)\n",
        "\n",
        "# Visualizar o DataFrame atualizado\n",
        "final_order_items.show()\n"
      ]
    },
    {
      "cell_type": "code",
      "execution_count": null,
      "metadata": {
        "application/vnd.databricks.v1+cell": {
          "cellMetadata": {
            "byteLimit": 2048000,
            "rowLimit": 10000
          },
          "inputWidgets": {},
          "nuid": "33bf7867-3f59-44ad-b63b-b74e0a060172",
          "showTitle": false,
          "tableResultSettingsMap": {},
          "title": ""
        },
        "id": "PNtoZSx4L4FE",
        "outputId": "588d9213-1eb6-4bf0-abec-220ae12f26bb",
        "colab": {
          "base_uri": "https://localhost:8080/"
        }
      },
      "outputs": [
        {
          "output_type": "execute_result",
          "data": {
            "text/plain": [
              "DataFrame[summary: string, order_id: string, customer_id: string, order_status: string, days_to_approval: string, days_to_carrier: string, days_to_delivery: string, days_estimated_vs_actual_delivery: string, order_item_id: string, product_id: string, seller_id: string, price: string, freight_value: string, days_to_shipping_limit: string]"
            ]
          },
          "metadata": {},
          "execution_count": 22
        }
      ],
      "source": [
        "merged_data.describe()"
      ]
    },
    {
      "cell_type": "code",
      "execution_count": null,
      "metadata": {
        "application/vnd.databricks.v1+cell": {
          "cellMetadata": {
            "byteLimit": 2048000,
            "rowLimit": 10000
          },
          "inputWidgets": {},
          "nuid": "88d48e2a-b000-446c-a5d1-e4a935f219ab",
          "showTitle": false,
          "tableResultSettingsMap": {},
          "title": ""
        },
        "id": "sHNFOTTmL4FF",
        "outputId": "4583587d-34f8-47d9-b969-c344e5fc1451",
        "colab": {
          "base_uri": "https://localhost:8080/"
        }
      },
      "outputs": [
        {
          "output_type": "stream",
          "name": "stdout",
          "text": [
            "+------+------------------+--------------------+----------------+---------------+----------------+---------------------------------+------+-------------+-----------------------------+----------------------------+----------------------+--------------------------+----------------------------+---------------------------------+--------------------------------+------------------------------------+-----------------------------------+-----------------+------------------+--------------------+------------------+------------------+--------------------+-------------+\n",
            "|target|order_status_index|order_purchase_month|days_to_approval|days_to_carrier|days_to_delivery|days_estimated_vs_actual_delivery| price|freight_value|segmentacao_necessidade_index|segmentacao_sentimento_index|segmentacao_tipo_index|segmentacao_validade_index|segmentacao_utilizacao_index|segmentacoes_funcionalidade_index|segmentacao_interatividade_index|segmentacoes_impacto_ambiental_index|segmentacoes_interacao_humana_index|seller_city_index|seller_state_index|customer_state_index|payment_sequential|payment_type_index|payment_installments|payment_value|\n",
            "+------+------------------+--------------------+----------------+---------------+----------------+---------------------------------+------+-------------+-----------------------------+----------------------------+----------------------+--------------------------+----------------------------+---------------------------------+--------------------------------+------------------------------------+-----------------------------------+-----------------+------------------+--------------------+------------------+------------------+--------------------+-------------+\n",
            "|     4|               0.0|                   4|               0|              8|              16|                               -3|239.90|        19.93|                          9.0|                         0.0|                   0.0|                       1.0|                         0.0|                              1.0|                             0.0|                                 2.0|                                0.0|              0.0|               0.0|                 0.0|                 1|               0.0|                   3|       259.83|\n",
            "|     5|               0.0|                   1|               0|              2|               8|                              -14|199.00|        17.87|                          0.0|                         0.0|                   3.0|                       0.0|                         1.0|                              0.0|                             1.0|                                 0.0|                                0.0|            107.0|               2.0|                 2.0|                 1|               0.0|                   5|       216.87|\n",
            "|     4|               0.0|                   8|               0|              2|               6|                               -6| 12.99|        12.79|                          3.0|                         0.0|                   1.0|                       0.0|                         0.0|                              0.0|                             0.0|                                 0.0|                                0.0|             20.0|               0.0|                 0.0|                 1|               0.0|                   2|        25.78|\n",
            "|     5|               0.0|                   2|               0|             12|              25|                              -16|199.90|        18.14|                          1.0|                         0.0|                   0.0|                       0.0|                         2.0|                              4.0|                             0.0|                                 0.0|                                0.0|            155.0|               1.0|                 0.0|                 1|               0.0|                   3|       218.04|\n",
            "|     4|               0.0|                  12|               0|              2|               8|                              -17| 19.90|        11.85|                          2.0|                         2.0|                   0.0|                       0.0|                         2.0|                              3.0|                             2.0|                                 1.0|                                1.0|              0.0|               0.0|                 0.0|                 1|               0.0|                   1|        31.75|\n",
            "|     1|               0.0|                   3|               1|              9|              10|                                0|145.95|        11.65|                          3.0|                         0.0|                   1.0|                       1.0|                         0.0|                              0.0|                             0.0|                                 0.0|                                0.0|              0.0|               0.0|                 0.0|                 1|               0.0|                   3|       157.60|\n",
            "|     4|               0.0|                   7|               0|              1|               2|                              -19| 53.99|        11.40|                          8.0|                         2.0|                   5.0|                       2.0|                         4.0|                              3.0|                             0.0|                                 2.0|                                0.0|              0.0|               0.0|                 0.0|                 1|               0.0|                   1|        65.39|\n",
            "|     5|               0.0|                   7|               0|              3|              11|                                0| 45.00|        12.98|                          4.0|                         0.0|                   2.0|                       0.0|                         0.0|                              0.0|                             1.0|                                 0.0|                                0.0|              0.0|               0.0|                 0.0|                 1|               0.0|                   5|        57.98|\n",
            "|     5|               0.0|                   7|               0|              1|               7|                              -22| 74.00|        23.32|                          0.0|                         1.0|                   1.0|                       1.0|                         0.0|                              1.0|                             1.0|                                 2.0|                                0.0|              6.0|               0.0|                 1.0|                 1|               0.0|                   4|        97.32|\n",
            "|     5|               0.0|                   2|               2|              7|              13|                               -8| 49.90|        13.37|                          1.0|                         0.0|                   0.0|                       0.0|                         2.0|                              4.0|                             0.0|                                 0.0|                                0.0|             10.0|               0.0|                 0.0|                 1|               1.0|                   1|       126.54|\n",
            "|     5|               0.0|                   2|               2|              7|              13|                               -8| 49.90|        13.37|                          1.0|                         0.0|                   0.0|                       0.0|                         2.0|                              4.0|                             0.0|                                 0.0|                                0.0|             10.0|               0.0|                 0.0|                 1|               1.0|                   1|       126.54|\n",
            "|     5|               0.0|                   8|               1|              1|               8|                               -6| 99.90|        27.65|                          5.0|                         0.0|                   4.0|                       1.0|                         1.0|                              2.0|                             2.0|                                 0.0|                                0.0|             30.0|               1.0|                 2.0|                 1|               1.0|                   1|       127.55|\n",
            "|     1|               0.0|                   5|               0|              5|               7|                               -4|144.00|         8.77|                          3.0|                         0.0|                   1.0|                       0.0|                         0.0|                              0.0|                             0.0|                                 0.0|                                0.0|              8.0|               0.0|                 0.0|                 1|               0.0|                   1|       152.77|\n",
            "|     5|               0.0|                   8|               3|              3|               7|                              -13| 99.00|        13.71|                          5.0|                         0.0|                   4.0|                       1.0|                         1.0|                              2.0|                             2.0|                                 0.0|                                0.0|              4.0|               0.0|                 0.0|                 1|               1.0|                   1|       112.71|\n",
            "|     3|               0.0|                  11|               0|              1|              18|                                2| 21.99|        11.85|                          2.0|                         2.0|                   0.0|                       0.0|                         2.0|                              3.0|                             2.0|                                 1.0|                                1.0|              0.0|               0.0|                 0.0|                 1|               0.0|                   3|        33.84|\n",
            "|     4|               0.0|                   3|               0|              9|              15|                              -20|119.99|        44.40|                          0.0|                         0.0|                   0.0|                       0.0|                         2.0|                              3.0|                             1.0|                                 0.0|                                0.0|             56.0|               0.0|                 1.0|                 1|               0.0|                   1|       164.39|\n",
            "|     4|               0.0|                   1|               0|              7|              10|                              -20|289.00|        26.33|                          4.0|                         0.0|                   2.0|                       0.0|                         5.0|                              0.0|                             1.0|                                 0.0|                                0.0|            174.0|               0.0|                 0.0|                 1|               0.0|                   2|       315.33|\n",
            "|     5|               0.0|                   5|               1|              7|              16|                               -6| 16.50|        14.10|                          2.0|                         2.0|                   0.0|                       0.0|                         2.0|                              3.0|                             2.0|                                 1.0|                                1.0|              0.0|               0.0|                 4.0|                 1|               1.0|                   1|        30.60|\n",
            "|     5|               0.0|                   1|               0|              3|              18|                              -14| 21.90|        15.10|                          2.0|                         2.0|                   0.0|                       0.0|                         2.0|                              3.0|                             2.0|                                 1.0|                                1.0|              0.0|               0.0|                 4.0|                 1|               0.0|                   1|        37.00|\n",
            "|     5|               0.0|                   2|               1|              2|               9|                              -15| 99.99|        13.72|                          7.0|                         0.0|                   2.0|                       0.0|                         1.0|                              2.0|                             2.0|                                 1.0|                                1.0|              0.0|               0.0|                 0.0|                 1|               0.0|                   2|       113.71|\n",
            "+------+------------------+--------------------+----------------+---------------+----------------+---------------------------------+------+-------------+-----------------------------+----------------------------+----------------------+--------------------------+----------------------------+---------------------------------+--------------------------------+------------------------------------+-----------------------------------+-----------------+------------------+--------------------+------------------+------------------+--------------------+-------------+\n",
            "only showing top 20 rows\n",
            "\n",
            "Número de linhas no DataFrame filtrado: 111021\n"
          ]
        }
      ],
      "source": [
        "# Definir os indexers para os DataFrames corretos\n",
        "indexers_orders = [\n",
        "    StringIndexer(inputCol=\"order_status\", outputCol=\"order_status_index\"),\n",
        "]\n",
        "\n",
        "indexers_sellers = [\n",
        "    StringIndexer(inputCol=\"seller_city\", outputCol=\"seller_city_index\"),\n",
        "    StringIndexer(inputCol=\"seller_state\", outputCol=\"seller_state_index\"),\n",
        "]\n",
        "\n",
        "indexers_customers = [\n",
        "    StringIndexer(inputCol=\"customer_state\", outputCol=\"customer_state_index\"),\n",
        "]\n",
        "\n",
        "indexers_payments = [\n",
        "    StringIndexer(inputCol=\"payment_type\", outputCol=\"payment_type_index\"),\n",
        "]\n",
        "\n",
        "# Aplicar os indexers para orders\n",
        "for indexer in indexers_orders:\n",
        "    output_col = indexer.getOutputCol()\n",
        "    if output_col in orders.columns:\n",
        "        orders = orders.drop(output_col)\n",
        "    orders = indexer.fit(orders).transform(orders)\n",
        "\n",
        "# Aplicar os indexers para sellers\n",
        "for indexer in indexers_sellers:\n",
        "    output_col = indexer.getOutputCol()\n",
        "    if output_col in sellers.columns:\n",
        "        sellers = sellers.drop(output_col)\n",
        "    sellers = indexer.fit(sellers).transform(sellers)\n",
        "\n",
        "# Aplicar os indexers para customers\n",
        "for indexer in indexers_customers:\n",
        "    output_col = indexer.getOutputCol()\n",
        "    if output_col in customers.columns:\n",
        "        customers = customers.drop(output_col)\n",
        "    customers = indexer.fit(customers).transform(customers)\n",
        "\n",
        "# Aplicar os indexers para order_payments\n",
        "for indexer in indexers_payments:\n",
        "    output_col = indexer.getOutputCol()\n",
        "    if output_col in order_payments.columns:\n",
        "        order_payments = order_payments.drop(output_col)\n",
        "    order_payments = indexer.fit(order_payments).transform(order_payments)\n",
        "\n",
        "# Selecionar mês da order_purchase_timestamp\n",
        "orders = orders.withColumn('order_purchase_month', month(col('order_purchase_timestamp')))\n",
        "\n",
        "# Join entre order_items e products para obter as categorias dos produtos\n",
        "order_items = order_items.join(products, on='product_id', how='inner')\n",
        "\n",
        "# Transformar colunas categóricas de produtos\n",
        "categorical_cols_products = [\n",
        "    'segmentacao_necessidade', 'segmentacao_sentimento',\n",
        "    'segmentacao_tipo', 'segmentacao_validade',\n",
        "    'segmentacao_utilizacao', 'segmentacoes_funcionalidade',\n",
        "    'segmentacao_interatividade', 'segmentacoes_impacto_ambiental',\n",
        "    'segmentacoes_interacao_humana'\n",
        "]\n",
        "\n",
        "indexers_products = [StringIndexer(inputCol=col, outputCol=col + \"_index\") for col in categorical_cols_products]\n",
        "pipeline_products = Pipeline(stages=indexers_products)\n",
        "products = pipeline_products.fit(products).transform(products)\n",
        "\n",
        "# Join entre order_items e products com colunas transformadas\n",
        "order_items = order_items.join(products, on='product_id', how='inner')\n",
        "\n",
        "# Consolidar todas as features selecionadas com inner joins\n",
        "df = order_reviews.select('order_id', col('review_score').cast('int').alias('target')) \\\n",
        "    .join(orders.select('order_id', 'customer_id', 'order_status_index', 'order_purchase_month',\n",
        "                        'days_to_approval', 'days_to_carrier',\n",
        "                        'days_to_delivery', 'days_estimated_vs_actual_delivery'),\n",
        "          on='order_id', how='inner') \\\n",
        "    .join(order_items.select('order_id', 'product_id', 'price', 'freight_value', 'seller_id',\n",
        "                             *[col + \"_index\" for col in categorical_cols_products]), on='order_id', how='inner') \\\n",
        "    .join(sellers.select('seller_id', 'seller_city_index', 'seller_state_index'), on='seller_id', how='inner') \\\n",
        "    .join(customers.select('customer_id', 'customer_state_index'), on='customer_id', how='inner') \\\n",
        "    .join(order_payments.select('order_id', 'payment_sequential', 'payment_type_index',\n",
        "                                 'payment_installments', 'payment_value'), on='order_id', how='inner')\n",
        "\n",
        "# Selecionar apenas as colunas necessárias para o modelo, incluindo novas colunas de duração\n",
        "df = df.select('target', 'order_status_index', 'order_purchase_month',\n",
        "               'days_to_approval', 'days_to_carrier',\n",
        "               'days_to_delivery', 'days_estimated_vs_actual_delivery',\n",
        "               'price', 'freight_value',\n",
        "               'segmentacao_necessidade_index',\n",
        "               'segmentacao_sentimento_index',\n",
        "               'segmentacao_tipo_index',\n",
        "               'segmentacao_validade_index',\n",
        "               'segmentacao_utilizacao_index',\n",
        "               'segmentacoes_funcionalidade_index',\n",
        "               'segmentacao_interatividade_index',\n",
        "               'segmentacoes_impacto_ambiental_index',\n",
        "               'segmentacoes_interacao_humana_index',\n",
        "               'seller_city_index',\n",
        "               'seller_state_index',\n",
        "               'customer_state_index',\n",
        "               'payment_sequential',\n",
        "               'payment_type_index',\n",
        "               'payment_installments',\n",
        "               'payment_value')\n",
        "\n",
        "# Filtrar apenas linhas onde a coluna target (review_score) não é nula\n",
        "df = df.filter(df.target.isNotNull())\n",
        "\n",
        "# Tratar valores nulos (se necessário)\n",
        "df = df.na.drop()  # Remove linhas com qualquer valor nulo (se ainda houver)\n",
        "\n",
        "# Visualizar o DataFrame consolidado\n",
        "df.show()\n",
        "\n",
        "# Contar o número de linhas no DataFrame filtrado\n",
        "num_linhas_df = df.count()\n",
        "print(f\"Número de linhas no DataFrame filtrado: {num_linhas_df}\")"
      ]
    },
    {
      "cell_type": "code",
      "source": [
        "# Converter colunas para os tipos corretos\n",
        "#df = df.withColumn(\"price\", col(\"price\").cast(\"double\"))\n",
        "#df = df.withColumn(\"freight_value\", col(\"freight_value\").cast(\"double\"))\n",
        "#df = df.withColumn(\"payment_sequential\", col(\"payment_sequential\").cast(\"integer\"))\n",
        "#df = df.withColumn(\"payment_installments\", col(\"payment_installments\").cast(\"integer\"))\n",
        "#df = df.withColumn(\"payment_value\", col(\"payment_value\").cast(\"double\")) # Mostrar o esquema atualizado\n",
        "#df.printSchema()"
      ],
      "metadata": {
        "id": "jhjsEMM9twZ5"
      },
      "execution_count": null,
      "outputs": []
    },
    {
      "cell_type": "code",
      "source": [
        "# Converter colunas para os tipos corretos\n",
        "df = df.withColumn(\"order_status_index\", col(\"order_status_index\").cast(\"double\"))\n",
        "df = df.withColumn(\"order_purchase_month\", col(\"order_purchase_month\").cast(\"double\"))\n",
        "df = df.withColumn(\"days_to_approval\", col(\"days_to_approval\").cast(\"double\"))\n",
        "df = df.withColumn(\"days_to_carrier\", col(\"days_to_carrier\").cast(\"double\"))\n",
        "df = df.withColumn(\"days_to_delivery\", col(\"days_to_delivery\").cast(\"double\"))\n",
        "df = df.withColumn(\"days_estimated_vs_actual_delivery\", col(\"days_estimated_vs_actual_delivery\").cast(\"double\"))\n",
        "df = df.withColumn(\"price\", col(\"price\").cast(\"double\"))\n",
        "df = df.withColumn(\"freight_value\", col(\"freight_value\").cast(\"double\"))\n",
        "df = df.withColumn(\"segmentacao_necessidade_index\", col(\"segmentacao_necessidade_index\").cast(\"double\"))\n",
        "df = df.withColumn(\"seller_city_index\", col(\"seller_city_index\").cast(\"double\"))\n",
        "df = df.withColumn(\"seller_state_index\", col(\"seller_state_index\").cast(\"double\"))\n",
        "df = df.withColumn(\"customer_state_index\", col(\"customer_state_index\").cast(\"double\"))\n",
        "df = df.withColumn(\"payment_sequential\", col(\"payment_sequential\").cast(\"double\"))\n",
        "df = df.withColumn(\"payment_type_index\", col(\"payment_type_index\").cast(\"double\"))\n",
        "df = df.withColumn(\"payment_installments\", col(\"payment_installments\").cast(\"double\"))\n",
        "df = df.withColumn(\"payment_value\", col(\"payment_value\").cast(\"double\"))\n"
      ],
      "metadata": {
        "id": "NjKkTtjQpN2N"
      },
      "execution_count": null,
      "outputs": []
    },
    {
      "cell_type": "code",
      "source": [
        "df.printSchema()"
      ],
      "metadata": {
        "id": "c_ZHRf6tBAdE",
        "outputId": "8f1e4486-5f82-4e31-d8d8-620c58157bd4",
        "colab": {
          "base_uri": "https://localhost:8080/"
        }
      },
      "execution_count": null,
      "outputs": [
        {
          "output_type": "stream",
          "name": "stdout",
          "text": [
            "root\n",
            " |-- target: integer (nullable = true)\n",
            " |-- order_status_index: double (nullable = false)\n",
            " |-- order_purchase_month: double (nullable = true)\n",
            " |-- days_to_approval: double (nullable = true)\n",
            " |-- days_to_carrier: double (nullable = true)\n",
            " |-- days_to_delivery: double (nullable = true)\n",
            " |-- days_estimated_vs_actual_delivery: double (nullable = true)\n",
            " |-- price: double (nullable = true)\n",
            " |-- freight_value: double (nullable = true)\n",
            " |-- segmentacao_necessidade_index: double (nullable = false)\n",
            " |-- segmentacao_sentimento_index: double (nullable = false)\n",
            " |-- segmentacao_tipo_index: double (nullable = false)\n",
            " |-- segmentacao_validade_index: double (nullable = false)\n",
            " |-- segmentacao_utilizacao_index: double (nullable = false)\n",
            " |-- segmentacoes_funcionalidade_index: double (nullable = false)\n",
            " |-- segmentacao_interatividade_index: double (nullable = false)\n",
            " |-- segmentacoes_impacto_ambiental_index: double (nullable = false)\n",
            " |-- segmentacoes_interacao_humana_index: double (nullable = false)\n",
            " |-- seller_city_index: double (nullable = false)\n",
            " |-- seller_state_index: double (nullable = false)\n",
            " |-- customer_state_index: double (nullable = false)\n",
            " |-- payment_sequential: double (nullable = true)\n",
            " |-- payment_type_index: double (nullable = false)\n",
            " |-- payment_installments: double (nullable = true)\n",
            " |-- payment_value: double (nullable = true)\n",
            "\n"
          ]
        }
      ]
    },
    {
      "cell_type": "code",
      "source": [
        "# Selecionar as colunas que queremos normalizar\n",
        "numeric_cols = ['order_status_index', 'order_purchase_month', 'days_to_approval', 'days_to_carrier',\n",
        "                'days_to_delivery', 'days_estimated_vs_actual_delivery', 'price', 'freight_value',\n",
        "                'segmentacao_necessidade_index', 'seller_city_index', 'seller_state_index',\n",
        "                'customer_state_index', 'payment_sequential', 'payment_type_index',\n",
        "                'payment_installments', 'payment_value']\n",
        "\n",
        "# Montar o VectorAssembler para combinar todas as colunas numéricas em uma única coluna \"features\"\n",
        "assembler = VectorAssembler(inputCols=numeric_cols, outputCol=\"features\")\n",
        "\n",
        "# Aplicar o assembler ao DataFrame\n",
        "df_assembled = assembler.transform(df)\n",
        "\n",
        "# Inicializar o MinMaxScaler\n",
        "scaler = MinMaxScaler(inputCol=\"features\", outputCol=\"scaled_features\")\n",
        "\n",
        "# Ajustar o scaler ao DataFrame e transformar os dados\n",
        "scaler_model = scaler.fit(df_assembled)\n",
        "df_scaled = scaler_model.transform(df_assembled)\n",
        "\n",
        "# Separar as colunas normalizadas e expandidas\n",
        "scaled_df = df_scaled.select(\"scaled_features\").rdd.map(lambda row: row.scaled_features.toArray().tolist()).toDF(numeric_cols)\n",
        "\n",
        "# Adicionar a coluna target de volta ao DataFrame\n",
        "final_df = df_scaled.select(\"target\").join(scaled_df)\n",
        "\n",
        "# Arredondar as colunas normalizadas para 3 casas decimais\n",
        "final_df = final_df.select([round(col(c), 3).alias(c) if c != \"target\" else col(c) for c in final_df.columns])"
      ],
      "metadata": {
        "id": "Pv83W9gX7SbC"
      },
      "execution_count": null,
      "outputs": []
    },
    {
      "cell_type": "code",
      "source": [
        "final_df.show()"
      ],
      "metadata": {
        "id": "WQpdCDD0C-oD",
        "outputId": "fef47f5b-84ba-4f09-ccaf-d139bfeb8b98",
        "colab": {
          "base_uri": "https://localhost:8080/"
        }
      },
      "execution_count": null,
      "outputs": [
        {
          "output_type": "stream",
          "name": "stdout",
          "text": [
            "+------+------------------+--------------------+----------------+---------------+----------------+---------------------------------+-----+-------------+-----------------------------+-----------------+------------------+--------------------+------------------+------------------+--------------------+-------------+\n",
            "|target|order_status_index|order_purchase_month|days_to_approval|days_to_carrier|days_to_delivery|days_estimated_vs_actual_delivery|price|freight_value|segmentacao_necessidade_index|seller_city_index|seller_state_index|customer_state_index|payment_sequential|payment_type_index|payment_installments|payment_value|\n",
            "+------+------------------+--------------------+----------------+---------------+----------------+---------------------------------+-----+-------------+-----------------------------+-----------------+------------------+--------------------+------------------+------------------+--------------------+-------------+\n",
            "|     4|               0.0|               0.273|             0.0|          0.651|           0.077|                             0.43|0.363|        0.079|                         0.75|              0.0|               0.0|                 0.0|               0.0|               0.0|               0.125|        0.386|\n",
            "|     4|               0.0|                 0.0|             0.0|          0.629|           0.038|                            0.397|0.301|        0.071|                          0.0|            0.175|             0.091|               0.077|               0.0|               0.0|               0.208|        0.323|\n",
            "|     4|               0.0|               0.636|             0.0|          0.629|           0.029|                            0.421|0.018|        0.051|                         0.25|            0.033|               0.0|                 0.0|               0.0|               0.0|               0.083|        0.038|\n",
            "|     4|               0.0|               0.091|             0.0|          0.665|            0.12|                            0.391|0.302|        0.072|                        0.083|            0.254|             0.045|                 0.0|               0.0|               0.0|               0.125|        0.324|\n",
            "|     4|               0.0|                 1.0|             0.0|          0.629|           0.038|                            0.388|0.029|        0.047|                        0.167|              0.0|               0.0|                 0.0|               0.0|               0.0|               0.042|        0.047|\n",
            "|     4|               0.0|               0.182|           0.032|          0.655|           0.048|                            0.439| 0.22|        0.046|                         0.25|              0.0|               0.0|                 0.0|               0.0|               0.0|               0.125|        0.234|\n",
            "|     4|               0.0|               0.545|             0.0|          0.625|            0.01|                            0.382|0.081|        0.045|                        0.667|              0.0|               0.0|                 0.0|               0.0|               0.0|               0.042|        0.097|\n",
            "|     4|               0.0|               0.545|             0.0|          0.633|           0.053|                            0.439|0.067|        0.052|                        0.333|              0.0|               0.0|                 0.0|               0.0|               0.0|               0.208|        0.086|\n",
            "|     4|               0.0|               0.545|             0.0|          0.625|           0.034|                            0.373|0.111|        0.093|                          0.0|             0.01|               0.0|               0.038|               0.0|               0.0|               0.167|        0.145|\n",
            "|     4|               0.0|               0.091|           0.065|          0.647|           0.063|                            0.415|0.074|        0.053|                        0.083|            0.016|               0.0|                 0.0|               0.0|             0.333|               0.042|        0.188|\n",
            "|     4|               0.0|               0.091|           0.065|          0.647|           0.063|                            0.415|0.074|        0.053|                        0.083|            0.016|               0.0|                 0.0|               0.0|             0.333|               0.042|        0.188|\n",
            "|     4|               0.0|               0.636|           0.032|          0.625|           0.038|                            0.421| 0.15|         0.11|                        0.417|            0.049|             0.045|               0.077|               0.0|             0.333|               0.042|         0.19|\n",
            "|     4|               0.0|               0.364|             0.0|           0.64|           0.034|                            0.427|0.217|        0.035|                         0.25|            0.013|               0.0|                 0.0|               0.0|               0.0|               0.042|        0.227|\n",
            "|     4|               0.0|               0.636|           0.097|          0.633|           0.034|                              0.4|0.149|        0.055|                        0.417|            0.007|               0.0|                 0.0|               0.0|             0.333|               0.042|        0.168|\n",
            "|     4|               0.0|               0.909|             0.0|          0.625|           0.087|                            0.445|0.032|        0.047|                        0.167|              0.0|               0.0|                 0.0|               0.0|               0.0|               0.125|         0.05|\n",
            "|     4|               0.0|               0.182|             0.0|          0.655|           0.072|                            0.379|0.181|        0.177|                          0.0|            0.092|               0.0|               0.038|               0.0|               0.0|               0.042|        0.244|\n",
            "|     4|               0.0|                 0.0|             0.0|          0.647|           0.048|                            0.379|0.437|        0.105|                        0.333|            0.285|               0.0|                 0.0|               0.0|               0.0|               0.083|        0.469|\n",
            "|     4|               0.0|               0.364|           0.032|          0.647|           0.077|                            0.421|0.024|        0.056|                        0.167|              0.0|               0.0|               0.154|               0.0|             0.333|               0.042|        0.046|\n",
            "|     4|               0.0|                 0.0|             0.0|          0.633|           0.087|                            0.397|0.032|         0.06|                        0.167|              0.0|               0.0|               0.154|               0.0|               0.0|               0.042|        0.055|\n",
            "|     4|               0.0|               0.091|           0.032|          0.629|           0.043|                            0.394|0.151|        0.055|                        0.583|              0.0|               0.0|                 0.0|               0.0|               0.0|               0.083|        0.169|\n",
            "+------+------------------+--------------------+----------------+---------------+----------------+---------------------------------+-----+-------------+-----------------------------+-----------------+------------------+--------------------+------------------+------------------+--------------------+-------------+\n",
            "only showing top 20 rows\n",
            "\n"
          ]
        }
      ]
    },
    {
      "cell_type": "code",
      "source": [
        "# Converter o DataFrame Spark para Pandas para visualização\n",
        "df_pandas = final_df.toPandas()\n",
        "\n",
        "# Calcular a matriz de correlação\n",
        "correlation_matrix = df_pandas.corr()\n",
        "\n",
        "# Configurar o tamanho da figura\n",
        "plt.figure(figsize=(15, 10))\n",
        "\n",
        "# Plotar a matriz de correlação usando seaborn\n",
        "sns.heatmap(correlation_matrix, annot=True, fmt=\".2f\", cmap='coolwarm', square=True)\n",
        "\n",
        "# Título do gráfico\n",
        "plt.title('Matriz de Correlação (Dados Normalizados)')\n",
        "\n",
        "# Exibir o gráfico\n",
        "plt.show()"
      ],
      "metadata": {
        "colab": {
          "base_uri": "https://localhost:8080/",
          "height": 1000
        },
        "id": "siLE-_8932gO",
        "outputId": "52e31a32-57fa-4562-c8c3-515cd222e96a"
      },
      "execution_count": null,
      "outputs": [
        {
          "output_type": "error",
          "ename": "Py4JJavaError",
          "evalue": "An error occurred while calling o2064.collectToPython.\n: org.apache.spark.SparkException: Job aborted due to stage failure: Task 0 in stage 554.0 failed 1 times, most recent failure: Lost task 0.0 in stage 554.0 (TID 542) (6d7fe4ac1292 executor driver): java.lang.OutOfMemoryError: Java heap space\n\tat java.base/java.nio.HeapByteBuffer.<init>(HeapByteBuffer.java:61)\n\tat java.base/java.nio.ByteBuffer.allocate(ByteBuffer.java:348)\n\tat org.apache.spark.sql.execution.SparkPlan.$anonfun$getByteArrayRdd$2(SparkPlan.scala:368)\n\tat org.apache.spark.sql.execution.SparkPlan.$anonfun$getByteArrayRdd$2$adapted(SparkPlan.scala:368)\n\tat org.apache.spark.sql.execution.SparkPlan$$Lambda$2789/0x000000084120a040.apply(Unknown Source)\n\tat org.apache.spark.util.io.ChunkedByteBufferOutputStream.allocateNewChunkIfNeeded(ChunkedByteBufferOutputStream.scala:87)\n\tat org.apache.spark.util.io.ChunkedByteBufferOutputStream.write(ChunkedByteBufferOutputStream.scala:75)\n\tat net.jpountz.lz4.LZ4BlockOutputStream.flushBufferedData(LZ4BlockOutputStream.java:225)\n\tat net.jpountz.lz4.LZ4BlockOutputStream.write(LZ4BlockOutputStream.java:178)\n\tat java.base/java.io.DataOutputStream.write(DataOutputStream.java:107)\n\tat org.apache.spark.sql.catalyst.expressions.UnsafeRow.writeToStream(UnsafeRow.java:519)\n\tat org.apache.spark.sql.execution.SparkPlan.$anonfun$getByteArrayRdd$1(SparkPlan.scala:391)\n\tat org.apache.spark.sql.execution.SparkPlan$$Lambda$2781/0x00000008411fa840.apply(Unknown Source)\n\tat org.apache.spark.rdd.RDD.$anonfun$mapPartitionsInternal$2(RDD.scala:893)\n\tat org.apache.spark.rdd.RDD.$anonfun$mapPartitionsInternal$2$adapted(RDD.scala:893)\n\tat org.apache.spark.rdd.RDD$$Lambda$2776/0x00000008411e7c40.apply(Unknown Source)\n\tat org.apache.spark.rdd.MapPartitionsRDD.compute(MapPartitionsRDD.scala:52)\n\tat org.apache.spark.rdd.RDD.computeOrReadCheckpoint(RDD.scala:367)\n\tat org.apache.spark.rdd.RDD.iterator(RDD.scala:331)\n\tat org.apache.spark.scheduler.ResultTask.runTask(ResultTask.scala:93)\n\tat org.apache.spark.TaskContext.runTaskWithListeners(TaskContext.scala:166)\n\tat org.apache.spark.scheduler.Task.run(Task.scala:141)\n\tat org.apache.spark.executor.Executor$TaskRunner.$anonfun$run$4(Executor.scala:620)\n\tat org.apache.spark.executor.Executor$TaskRunner$$Lambda$2731/0x00000008411b3c40.apply(Unknown Source)\n\tat org.apache.spark.util.SparkErrorUtils.tryWithSafeFinally(SparkErrorUtils.scala:64)\n\tat org.apache.spark.util.SparkErrorUtils.tryWithSafeFinally$(SparkErrorUtils.scala:61)\n\tat org.apache.spark.util.Utils$.tryWithSafeFinally(Utils.scala:94)\n\tat org.apache.spark.executor.Executor$TaskRunner.run(Executor.scala:623)\n\tat java.base/java.util.concurrent.ThreadPoolExecutor.runWorker(ThreadPoolExecutor.java:1128)\n\tat java.base/java.util.concurrent.ThreadPoolExecutor$Worker.run(ThreadPoolExecutor.java:628)\n\tat java.base/java.lang.Thread.run(Thread.java:829)\n\nDriver stacktrace:\n\tat org.apache.spark.scheduler.DAGScheduler.failJobAndIndependentStages(DAGScheduler.scala:2856)\n\tat org.apache.spark.scheduler.DAGScheduler.$anonfun$abortStage$2(DAGScheduler.scala:2792)\n\tat org.apache.spark.scheduler.DAGScheduler.$anonfun$abortStage$2$adapted(DAGScheduler.scala:2791)\n\tat scala.collection.mutable.ResizableArray.foreach(ResizableArray.scala:62)\n\tat scala.collection.mutable.ResizableArray.foreach$(ResizableArray.scala:55)\n\tat scala.collection.mutable.ArrayBuffer.foreach(ArrayBuffer.scala:49)\n\tat org.apache.spark.scheduler.DAGScheduler.abortStage(DAGScheduler.scala:2791)\n\tat org.apache.spark.scheduler.DAGScheduler.$anonfun$handleTaskSetFailed$1(DAGScheduler.scala:1247)\n\tat org.apache.spark.scheduler.DAGScheduler.$anonfun$handleTaskSetFailed$1$adapted(DAGScheduler.scala:1247)\n\tat scala.Option.foreach(Option.scala:407)\n\tat org.apache.spark.scheduler.DAGScheduler.handleTaskSetFailed(DAGScheduler.scala:1247)\n\tat org.apache.spark.scheduler.DAGSchedulerEventProcessLoop.doOnReceive(DAGScheduler.scala:3060)\n\tat org.apache.spark.scheduler.DAGSchedulerEventProcessLoop.onReceive(DAGScheduler.scala:2994)\n\tat org.apache.spark.scheduler.DAGSchedulerEventProcessLoop.onReceive(DAGScheduler.scala:2983)\n\tat org.apache.spark.util.EventLoop$$anon$1.run(EventLoop.scala:49)\n\tat org.apache.spark.scheduler.DAGScheduler.runJob(DAGScheduler.scala:989)\n\tat org.apache.spark.SparkContext.runJob(SparkContext.scala:2393)\n\tat org.apache.spark.SparkContext.runJob(SparkContext.scala:2414)\n\tat org.apache.spark.SparkContext.runJob(SparkContext.scala:2433)\n\tat org.apache.spark.SparkContext.runJob(SparkContext.scala:2458)\n\tat org.apache.spark.rdd.RDD.$anonfun$collect$1(RDD.scala:1049)\n\tat org.apache.spark.rdd.RDDOperationScope$.withScope(RDDOperationScope.scala:151)\n\tat org.apache.spark.rdd.RDDOperationScope$.withScope(RDDOperationScope.scala:112)\n\tat org.apache.spark.rdd.RDD.withScope(RDD.scala:410)\n\tat org.apache.spark.rdd.RDD.collect(RDD.scala:1048)\n\tat org.apache.spark.sql.execution.SparkPlan.executeCollect(SparkPlan.scala:448)\n\tat org.apache.spark.sql.execution.adaptive.AdaptiveSparkPlanExec.$anonfun$executeCollect$1(AdaptiveSparkPlanExec.scala:390)\n\tat org.apache.spark.sql.execution.adaptive.AdaptiveSparkPlanExec.withFinalPlanUpdate(AdaptiveSparkPlanExec.scala:418)\n\tat org.apache.spark.sql.execution.adaptive.AdaptiveSparkPlanExec.executeCollect(AdaptiveSparkPlanExec.scala:390)\n\tat org.apache.spark.sql.Dataset.$anonfun$collectToPython$1(Dataset.scala:4149)\n\tat org.apache.spark.sql.Dataset.$anonfun$withAction$2(Dataset.scala:4323)\n\tat org.apache.spark.sql.execution.QueryExecution$.withInternalError(QueryExecution.scala:546)\n\tat org.apache.spark.sql.Dataset.$anonfun$withAction$1(Dataset.scala:4321)\n\tat org.apache.spark.sql.execution.SQLExecution$.$anonfun$withNewExecutionId$6(SQLExecution.scala:125)\n\tat org.apache.spark.sql.execution.SQLExecution$.withSQLConfPropagated(SQLExecution.scala:201)\n\tat org.apache.spark.sql.execution.SQLExecution$.$anonfun$withNewExecutionId$1(SQLExecution.scala:108)\n\tat org.apache.spark.sql.SparkSession.withActive(SparkSession.scala:900)\n\tat org.apache.spark.sql.execution.SQLExecution$.withNewExecutionId(SQLExecution.scala:66)\n\tat org.apache.spark.sql.Dataset.withAction(Dataset.scala:4321)\n\tat org.apache.spark.sql.Dataset.collectToPython(Dataset.scala:4146)\n\tat java.base/jdk.internal.reflect.NativeMethodAccessorImpl.invoke0(Native Method)\n\tat java.base/jdk.internal.reflect.NativeMethodAccessorImpl.invoke(NativeMethodAccessorImpl.java:62)\n\tat java.base/jdk.internal.reflect.DelegatingMethodAccessorImpl.invoke(DelegatingMethodAccessorImpl.java:43)\n\tat java.base/java.lang.reflect.Method.invoke(Method.java:566)\n\tat py4j.reflection.MethodInvoker.invoke(MethodInvoker.java:244)\n\tat py4j.reflection.ReflectionEngine.invoke(ReflectionEngine.java:374)\n\tat py4j.Gateway.invoke(Gateway.java:282)\n\tat py4j.commands.AbstractCommand.invokeMethod(AbstractCommand.java:132)\n\tat py4j.commands.CallCommand.execute(CallCommand.java:79)\n\tat py4j.ClientServerConnection.waitForCommands(ClientServerConnection.java:182)\n\tat py4j.ClientServerConnection.run(ClientServerConnection.java:106)\n\tat java.base/java.lang.Thread.run(Thread.java:829)\nCaused by: java.lang.OutOfMemoryError: Java heap space\n\tat java.base/java.nio.HeapByteBuffer.<init>(HeapByteBuffer.java:61)\n\tat java.base/java.nio.ByteBuffer.allocate(ByteBuffer.java:348)\n\tat org.apache.spark.sql.execution.SparkPlan.$anonfun$getByteArrayRdd$2(SparkPlan.scala:368)\n\tat org.apache.spark.sql.execution.SparkPlan.$anonfun$getByteArrayRdd$2$adapted(SparkPlan.scala:368)\n\tat org.apache.spark.sql.execution.SparkPlan$$Lambda$2789/0x000000084120a040.apply(Unknown Source)\n\tat org.apache.spark.util.io.ChunkedByteBufferOutputStream.allocateNewChunkIfNeeded(ChunkedByteBufferOutputStream.scala:87)\n\tat org.apache.spark.util.io.ChunkedByteBufferOutputStream.write(ChunkedByteBufferOutputStream.scala:75)\n\tat net.jpountz.lz4.LZ4BlockOutputStream.flushBufferedData(LZ4BlockOutputStream.java:225)\n\tat net.jpountz.lz4.LZ4BlockOutputStream.write(LZ4BlockOutputStream.java:178)\n\tat java.base/java.io.DataOutputStream.write(DataOutputStream.java:107)\n\tat org.apache.spark.sql.catalyst.expressions.UnsafeRow.writeToStream(UnsafeRow.java:519)\n\tat org.apache.spark.sql.execution.SparkPlan.$anonfun$getByteArrayRdd$1(SparkPlan.scala:391)\n\tat org.apache.spark.sql.execution.SparkPlan$$Lambda$2781/0x00000008411fa840.apply(Unknown Source)\n\tat org.apache.spark.rdd.RDD.$anonfun$mapPartitionsInternal$2(RDD.scala:893)\n\tat org.apache.spark.rdd.RDD.$anonfun$mapPartitionsInternal$2$adapted(RDD.scala:893)\n\tat org.apache.spark.rdd.RDD$$Lambda$2776/0x00000008411e7c40.apply(Unknown Source)\n\tat org.apache.spark.rdd.MapPartitionsRDD.compute(MapPartitionsRDD.scala:52)\n\tat org.apache.spark.rdd.RDD.computeOrReadCheckpoint(RDD.scala:367)\n\tat org.apache.spark.rdd.RDD.iterator(RDD.scala:331)\n\tat org.apache.spark.scheduler.ResultTask.runTask(ResultTask.scala:93)\n\tat org.apache.spark.TaskContext.runTaskWithListeners(TaskContext.scala:166)\n\tat org.apache.spark.scheduler.Task.run(Task.scala:141)\n\tat org.apache.spark.executor.Executor$TaskRunner.$anonfun$run$4(Executor.scala:620)\n\tat org.apache.spark.executor.Executor$TaskRunner$$Lambda$2731/0x00000008411b3c40.apply(Unknown Source)\n\tat org.apache.spark.util.SparkErrorUtils.tryWithSafeFinally(SparkErrorUtils.scala:64)\n\tat org.apache.spark.util.SparkErrorUtils.tryWithSafeFinally$(SparkErrorUtils.scala:61)\n\tat org.apache.spark.util.Utils$.tryWithSafeFinally(Utils.scala:94)\n\tat org.apache.spark.executor.Executor$TaskRunner.run(Executor.scala:623)\n\tat java.base/java.util.concurrent.ThreadPoolExecutor.runWorker(ThreadPoolExecutor.java:1128)\n\tat java.base/java.util.concurrent.ThreadPoolExecutor$Worker.run(ThreadPoolExecutor.java:628)\n\t... 1 more\n",
          "traceback": [
            "\u001b[0;31m---------------------------------------------------------------------------\u001b[0m",
            "\u001b[0;31mPy4JJavaError\u001b[0m                             Traceback (most recent call last)",
            "\u001b[0;32m<ipython-input-31-fc95039a9287>\u001b[0m in \u001b[0;36m<cell line: 2>\u001b[0;34m()\u001b[0m\n\u001b[1;32m      1\u001b[0m \u001b[0;31m# Converter o DataFrame Spark para Pandas para visualização\u001b[0m\u001b[0;34m\u001b[0m\u001b[0;34m\u001b[0m\u001b[0m\n\u001b[0;32m----> 2\u001b[0;31m \u001b[0mdf_pandas\u001b[0m \u001b[0;34m=\u001b[0m \u001b[0mfinal_df\u001b[0m\u001b[0;34m.\u001b[0m\u001b[0mtoPandas\u001b[0m\u001b[0;34m(\u001b[0m\u001b[0;34m)\u001b[0m\u001b[0;34m\u001b[0m\u001b[0;34m\u001b[0m\u001b[0m\n\u001b[0m\u001b[1;32m      3\u001b[0m \u001b[0;34m\u001b[0m\u001b[0m\n\u001b[1;32m      4\u001b[0m \u001b[0;31m# Calcular a matriz de correlação\u001b[0m\u001b[0;34m\u001b[0m\u001b[0;34m\u001b[0m\u001b[0m\n\u001b[1;32m      5\u001b[0m \u001b[0mcorrelation_matrix\u001b[0m \u001b[0;34m=\u001b[0m \u001b[0mdf_pandas\u001b[0m\u001b[0;34m.\u001b[0m\u001b[0mcorr\u001b[0m\u001b[0;34m(\u001b[0m\u001b[0;34m)\u001b[0m\u001b[0;34m\u001b[0m\u001b[0;34m\u001b[0m\u001b[0m\n",
            "\u001b[0;32m/usr/local/lib/python3.10/dist-packages/pyspark/sql/pandas/conversion.py\u001b[0m in \u001b[0;36mtoPandas\u001b[0;34m(self)\u001b[0m\n\u001b[1;32m    200\u001b[0m \u001b[0;34m\u001b[0m\u001b[0m\n\u001b[1;32m    201\u001b[0m         \u001b[0;31m# Below is toPandas without Arrow optimization.\u001b[0m\u001b[0;34m\u001b[0m\u001b[0;34m\u001b[0m\u001b[0m\n\u001b[0;32m--> 202\u001b[0;31m         \u001b[0mrows\u001b[0m \u001b[0;34m=\u001b[0m \u001b[0mself\u001b[0m\u001b[0;34m.\u001b[0m\u001b[0mcollect\u001b[0m\u001b[0;34m(\u001b[0m\u001b[0;34m)\u001b[0m\u001b[0;34m\u001b[0m\u001b[0;34m\u001b[0m\u001b[0m\n\u001b[0m\u001b[1;32m    203\u001b[0m         \u001b[0;32mif\u001b[0m \u001b[0mlen\u001b[0m\u001b[0;34m(\u001b[0m\u001b[0mrows\u001b[0m\u001b[0;34m)\u001b[0m \u001b[0;34m>\u001b[0m \u001b[0;36m0\u001b[0m\u001b[0;34m:\u001b[0m\u001b[0;34m\u001b[0m\u001b[0;34m\u001b[0m\u001b[0m\n\u001b[1;32m    204\u001b[0m             pdf = pd.DataFrame.from_records(\n",
            "\u001b[0;32m/usr/local/lib/python3.10/dist-packages/pyspark/sql/dataframe.py\u001b[0m in \u001b[0;36mcollect\u001b[0;34m(self)\u001b[0m\n\u001b[1;32m   1261\u001b[0m         \"\"\"\n\u001b[1;32m   1262\u001b[0m         \u001b[0;32mwith\u001b[0m \u001b[0mSCCallSiteSync\u001b[0m\u001b[0;34m(\u001b[0m\u001b[0mself\u001b[0m\u001b[0;34m.\u001b[0m\u001b[0m_sc\u001b[0m\u001b[0;34m)\u001b[0m\u001b[0;34m:\u001b[0m\u001b[0;34m\u001b[0m\u001b[0;34m\u001b[0m\u001b[0m\n\u001b[0;32m-> 1263\u001b[0;31m             \u001b[0msock_info\u001b[0m \u001b[0;34m=\u001b[0m \u001b[0mself\u001b[0m\u001b[0;34m.\u001b[0m\u001b[0m_jdf\u001b[0m\u001b[0;34m.\u001b[0m\u001b[0mcollectToPython\u001b[0m\u001b[0;34m(\u001b[0m\u001b[0;34m)\u001b[0m\u001b[0;34m\u001b[0m\u001b[0;34m\u001b[0m\u001b[0m\n\u001b[0m\u001b[1;32m   1264\u001b[0m         \u001b[0;32mreturn\u001b[0m \u001b[0mlist\u001b[0m\u001b[0;34m(\u001b[0m\u001b[0m_load_from_socket\u001b[0m\u001b[0;34m(\u001b[0m\u001b[0msock_info\u001b[0m\u001b[0;34m,\u001b[0m \u001b[0mBatchedSerializer\u001b[0m\u001b[0;34m(\u001b[0m\u001b[0mCPickleSerializer\u001b[0m\u001b[0;34m(\u001b[0m\u001b[0;34m)\u001b[0m\u001b[0;34m)\u001b[0m\u001b[0;34m)\u001b[0m\u001b[0;34m)\u001b[0m\u001b[0;34m\u001b[0m\u001b[0;34m\u001b[0m\u001b[0m\n\u001b[1;32m   1265\u001b[0m \u001b[0;34m\u001b[0m\u001b[0m\n",
            "\u001b[0;32m/usr/local/lib/python3.10/dist-packages/py4j/java_gateway.py\u001b[0m in \u001b[0;36m__call__\u001b[0;34m(self, *args)\u001b[0m\n\u001b[1;32m   1320\u001b[0m \u001b[0;34m\u001b[0m\u001b[0m\n\u001b[1;32m   1321\u001b[0m         \u001b[0manswer\u001b[0m \u001b[0;34m=\u001b[0m \u001b[0mself\u001b[0m\u001b[0;34m.\u001b[0m\u001b[0mgateway_client\u001b[0m\u001b[0;34m.\u001b[0m\u001b[0msend_command\u001b[0m\u001b[0;34m(\u001b[0m\u001b[0mcommand\u001b[0m\u001b[0;34m)\u001b[0m\u001b[0;34m\u001b[0m\u001b[0;34m\u001b[0m\u001b[0m\n\u001b[0;32m-> 1322\u001b[0;31m         return_value = get_return_value(\n\u001b[0m\u001b[1;32m   1323\u001b[0m             answer, self.gateway_client, self.target_id, self.name)\n\u001b[1;32m   1324\u001b[0m \u001b[0;34m\u001b[0m\u001b[0m\n",
            "\u001b[0;32m/usr/local/lib/python3.10/dist-packages/pyspark/errors/exceptions/captured.py\u001b[0m in \u001b[0;36mdeco\u001b[0;34m(*a, **kw)\u001b[0m\n\u001b[1;32m    177\u001b[0m     \u001b[0;32mdef\u001b[0m \u001b[0mdeco\u001b[0m\u001b[0;34m(\u001b[0m\u001b[0;34m*\u001b[0m\u001b[0ma\u001b[0m\u001b[0;34m:\u001b[0m \u001b[0mAny\u001b[0m\u001b[0;34m,\u001b[0m \u001b[0;34m**\u001b[0m\u001b[0mkw\u001b[0m\u001b[0;34m:\u001b[0m \u001b[0mAny\u001b[0m\u001b[0;34m)\u001b[0m \u001b[0;34m->\u001b[0m \u001b[0mAny\u001b[0m\u001b[0;34m:\u001b[0m\u001b[0;34m\u001b[0m\u001b[0;34m\u001b[0m\u001b[0m\n\u001b[1;32m    178\u001b[0m         \u001b[0;32mtry\u001b[0m\u001b[0;34m:\u001b[0m\u001b[0;34m\u001b[0m\u001b[0;34m\u001b[0m\u001b[0m\n\u001b[0;32m--> 179\u001b[0;31m             \u001b[0;32mreturn\u001b[0m \u001b[0mf\u001b[0m\u001b[0;34m(\u001b[0m\u001b[0;34m*\u001b[0m\u001b[0ma\u001b[0m\u001b[0;34m,\u001b[0m \u001b[0;34m**\u001b[0m\u001b[0mkw\u001b[0m\u001b[0;34m)\u001b[0m\u001b[0;34m\u001b[0m\u001b[0;34m\u001b[0m\u001b[0m\n\u001b[0m\u001b[1;32m    180\u001b[0m         \u001b[0;32mexcept\u001b[0m \u001b[0mPy4JJavaError\u001b[0m \u001b[0;32mas\u001b[0m \u001b[0me\u001b[0m\u001b[0;34m:\u001b[0m\u001b[0;34m\u001b[0m\u001b[0;34m\u001b[0m\u001b[0m\n\u001b[1;32m    181\u001b[0m             \u001b[0mconverted\u001b[0m \u001b[0;34m=\u001b[0m \u001b[0mconvert_exception\u001b[0m\u001b[0;34m(\u001b[0m\u001b[0me\u001b[0m\u001b[0;34m.\u001b[0m\u001b[0mjava_exception\u001b[0m\u001b[0;34m)\u001b[0m\u001b[0;34m\u001b[0m\u001b[0;34m\u001b[0m\u001b[0m\n",
            "\u001b[0;32m/usr/local/lib/python3.10/dist-packages/py4j/protocol.py\u001b[0m in \u001b[0;36mget_return_value\u001b[0;34m(answer, gateway_client, target_id, name)\u001b[0m\n\u001b[1;32m    324\u001b[0m             \u001b[0mvalue\u001b[0m \u001b[0;34m=\u001b[0m \u001b[0mOUTPUT_CONVERTER\u001b[0m\u001b[0;34m[\u001b[0m\u001b[0mtype\u001b[0m\u001b[0;34m]\u001b[0m\u001b[0;34m(\u001b[0m\u001b[0manswer\u001b[0m\u001b[0;34m[\u001b[0m\u001b[0;36m2\u001b[0m\u001b[0;34m:\u001b[0m\u001b[0;34m]\u001b[0m\u001b[0;34m,\u001b[0m \u001b[0mgateway_client\u001b[0m\u001b[0;34m)\u001b[0m\u001b[0;34m\u001b[0m\u001b[0;34m\u001b[0m\u001b[0m\n\u001b[1;32m    325\u001b[0m             \u001b[0;32mif\u001b[0m \u001b[0manswer\u001b[0m\u001b[0;34m[\u001b[0m\u001b[0;36m1\u001b[0m\u001b[0;34m]\u001b[0m \u001b[0;34m==\u001b[0m \u001b[0mREFERENCE_TYPE\u001b[0m\u001b[0;34m:\u001b[0m\u001b[0;34m\u001b[0m\u001b[0;34m\u001b[0m\u001b[0m\n\u001b[0;32m--> 326\u001b[0;31m                 raise Py4JJavaError(\n\u001b[0m\u001b[1;32m    327\u001b[0m                     \u001b[0;34m\"An error occurred while calling {0}{1}{2}.\\n\"\u001b[0m\u001b[0;34m.\u001b[0m\u001b[0;34m\u001b[0m\u001b[0;34m\u001b[0m\u001b[0m\n\u001b[1;32m    328\u001b[0m                     format(target_id, \".\", name), value)\n",
            "\u001b[0;31mPy4JJavaError\u001b[0m: An error occurred while calling o2064.collectToPython.\n: org.apache.spark.SparkException: Job aborted due to stage failure: Task 0 in stage 554.0 failed 1 times, most recent failure: Lost task 0.0 in stage 554.0 (TID 542) (6d7fe4ac1292 executor driver): java.lang.OutOfMemoryError: Java heap space\n\tat java.base/java.nio.HeapByteBuffer.<init>(HeapByteBuffer.java:61)\n\tat java.base/java.nio.ByteBuffer.allocate(ByteBuffer.java:348)\n\tat org.apache.spark.sql.execution.SparkPlan.$anonfun$getByteArrayRdd$2(SparkPlan.scala:368)\n\tat org.apache.spark.sql.execution.SparkPlan.$anonfun$getByteArrayRdd$2$adapted(SparkPlan.scala:368)\n\tat org.apache.spark.sql.execution.SparkPlan$$Lambda$2789/0x000000084120a040.apply(Unknown Source)\n\tat org.apache.spark.util.io.ChunkedByteBufferOutputStream.allocateNewChunkIfNeeded(ChunkedByteBufferOutputStream.scala:87)\n\tat org.apache.spark.util.io.ChunkedByteBufferOutputStream.write(ChunkedByteBufferOutputStream.scala:75)\n\tat net.jpountz.lz4.LZ4BlockOutputStream.flushBufferedData(LZ4BlockOutputStream.java:225)\n\tat net.jpountz.lz4.LZ4BlockOutputStream.write(LZ4BlockOutputStream.java:178)\n\tat java.base/java.io.DataOutputStream.write(DataOutputStream.java:107)\n\tat org.apache.spark.sql.catalyst.expressions.UnsafeRow.writeToStream(UnsafeRow.java:519)\n\tat org.apache.spark.sql.execution.SparkPlan.$anonfun$getByteArrayRdd$1(SparkPlan.scala:391)\n\tat org.apache.spark.sql.execution.SparkPlan$$Lambda$2781/0x00000008411fa840.apply(Unknown Source)\n\tat org.apache.spark.rdd.RDD.$anonfun$mapPartitionsInternal$2(RDD.scala:893)\n\tat org.apache.spark.rdd.RDD.$anonfun$mapPartitionsInternal$2$adapted(RDD.scala:893)\n\tat org.apache.spark.rdd.RDD$$Lambda$2776/0x00000008411e7c40.apply(Unknown Source)\n\tat org.apache.spark.rdd.MapPartitionsRDD.compute(MapPartitionsRDD.scala:52)\n\tat org.apache.spark.rdd.RDD.computeOrReadCheckpoint(RDD.scala:367)\n\tat org.apache.spark.rdd.RDD.iterator(RDD.scala:331)\n\tat org.apache.spark.scheduler.ResultTask.runTask(ResultTask.scala:93)\n\tat org.apache.spark.TaskContext.runTaskWithListeners(TaskContext.scala:166)\n\tat org.apache.spark.scheduler.Task.run(Task.scala:141)\n\tat org.apache.spark.executor.Executor$TaskRunner.$anonfun$run$4(Executor.scala:620)\n\tat org.apache.spark.executor.Executor$TaskRunner$$Lambda$2731/0x00000008411b3c40.apply(Unknown Source)\n\tat org.apache.spark.util.SparkErrorUtils.tryWithSafeFinally(SparkErrorUtils.scala:64)\n\tat org.apache.spark.util.SparkErrorUtils.tryWithSafeFinally$(SparkErrorUtils.scala:61)\n\tat org.apache.spark.util.Utils$.tryWithSafeFinally(Utils.scala:94)\n\tat org.apache.spark.executor.Executor$TaskRunner.run(Executor.scala:623)\n\tat java.base/java.util.concurrent.ThreadPoolExecutor.runWorker(ThreadPoolExecutor.java:1128)\n\tat java.base/java.util.concurrent.ThreadPoolExecutor$Worker.run(ThreadPoolExecutor.java:628)\n\tat java.base/java.lang.Thread.run(Thread.java:829)\n\nDriver stacktrace:\n\tat org.apache.spark.scheduler.DAGScheduler.failJobAndIndependentStages(DAGScheduler.scala:2856)\n\tat org.apache.spark.scheduler.DAGScheduler.$anonfun$abortStage$2(DAGScheduler.scala:2792)\n\tat org.apache.spark.scheduler.DAGScheduler.$anonfun$abortStage$2$adapted(DAGScheduler.scala:2791)\n\tat scala.collection.mutable.ResizableArray.foreach(ResizableArray.scala:62)\n\tat scala.collection.mutable.ResizableArray.foreach$(ResizableArray.scala:55)\n\tat scala.collection.mutable.ArrayBuffer.foreach(ArrayBuffer.scala:49)\n\tat org.apache.spark.scheduler.DAGScheduler.abortStage(DAGScheduler.scala:2791)\n\tat org.apache.spark.scheduler.DAGScheduler.$anonfun$handleTaskSetFailed$1(DAGScheduler.scala:1247)\n\tat org.apache.spark.scheduler.DAGScheduler.$anonfun$handleTaskSetFailed$1$adapted(DAGScheduler.scala:1247)\n\tat scala.Option.foreach(Option.scala:407)\n\tat org.apache.spark.scheduler.DAGScheduler.handleTaskSetFailed(DAGScheduler.scala:1247)\n\tat org.apache.spark.scheduler.DAGSchedulerEventProcessLoop.doOnReceive(DAGScheduler.scala:3060)\n\tat org.apache.spark.scheduler.DAGSchedulerEventProcessLoop.onReceive(DAGScheduler.scala:2994)\n\tat org.apache.spark.scheduler.DAGSchedulerEventProcessLoop.onReceive(DAGScheduler.scala:2983)\n\tat org.apache.spark.util.EventLoop$$anon$1.run(EventLoop.scala:49)\n\tat org.apache.spark.scheduler.DAGScheduler.runJob(DAGScheduler.scala:989)\n\tat org.apache.spark.SparkContext.runJob(SparkContext.scala:2393)\n\tat org.apache.spark.SparkContext.runJob(SparkContext.scala:2414)\n\tat org.apache.spark.SparkContext.runJob(SparkContext.scala:2433)\n\tat org.apache.spark.SparkContext.runJob(SparkContext.scala:2458)\n\tat org.apache.spark.rdd.RDD.$anonfun$collect$1(RDD.scala:1049)\n\tat org.apache.spark.rdd.RDDOperationScope$.withScope(RDDOperationScope.scala:151)\n\tat org.apache.spark.rdd.RDDOperationScope$.withScope(RDDOperationScope.scala:112)\n\tat org.apache.spark.rdd.RDD.withScope(RDD.scala:410)\n\tat org.apache.spark.rdd.RDD.collect(RDD.scala:1048)\n\tat org.apache.spark.sql.execution.SparkPlan.executeCollect(SparkPlan.scala:448)\n\tat org.apache.spark.sql.execution.adaptive.AdaptiveSparkPlanExec.$anonfun$executeCollect$1(AdaptiveSparkPlanExec.scala:390)\n\tat org.apache.spark.sql.execution.adaptive.AdaptiveSparkPlanExec.withFinalPlanUpdate(AdaptiveSparkPlanExec.scala:418)\n\tat org.apache.spark.sql.execution.adaptive.AdaptiveSparkPlanExec.executeCollect(AdaptiveSparkPlanExec.scala:390)\n\tat org.apache.spark.sql.Dataset.$anonfun$collectToPython$1(Dataset.scala:4149)\n\tat org.apache.spark.sql.Dataset.$anonfun$withAction$2(Dataset.scala:4323)\n\tat org.apache.spark.sql.execution.QueryExecution$.withInternalError(QueryExecution.scala:546)\n\tat org.apache.spark.sql.Dataset.$anonfun$withAction$1(Dataset.scala:4321)\n\tat org.apache.spark.sql.execution.SQLExecution$.$anonfun$withNewExecutionId$6(SQLExecution.scala:125)\n\tat org.apache.spark.sql.execution.SQLExecution$.withSQLConfPropagated(SQLExecution.scala:201)\n\tat org.apache.spark.sql.execution.SQLExecution$.$anonfun$withNewExecutionId$1(SQLExecution.scala:108)\n\tat org.apache.spark.sql.SparkSession.withActive(SparkSession.scala:900)\n\tat org.apache.spark.sql.execution.SQLExecution$.withNewExecutionId(SQLExecution.scala:66)\n\tat org.apache.spark.sql.Dataset.withAction(Dataset.scala:4321)\n\tat org.apache.spark.sql.Dataset.collectToPython(Dataset.scala:4146)\n\tat java.base/jdk.internal.reflect.NativeMethodAccessorImpl.invoke0(Native Method)\n\tat java.base/jdk.internal.reflect.NativeMethodAccessorImpl.invoke(NativeMethodAccessorImpl.java:62)\n\tat java.base/jdk.internal.reflect.DelegatingMethodAccessorImpl.invoke(DelegatingMethodAccessorImpl.java:43)\n\tat java.base/java.lang.reflect.Method.invoke(Method.java:566)\n\tat py4j.reflection.MethodInvoker.invoke(MethodInvoker.java:244)\n\tat py4j.reflection.ReflectionEngine.invoke(ReflectionEngine.java:374)\n\tat py4j.Gateway.invoke(Gateway.java:282)\n\tat py4j.commands.AbstractCommand.invokeMethod(AbstractCommand.java:132)\n\tat py4j.commands.CallCommand.execute(CallCommand.java:79)\n\tat py4j.ClientServerConnection.waitForCommands(ClientServerConnection.java:182)\n\tat py4j.ClientServerConnection.run(ClientServerConnection.java:106)\n\tat java.base/java.lang.Thread.run(Thread.java:829)\nCaused by: java.lang.OutOfMemoryError: Java heap space\n\tat java.base/java.nio.HeapByteBuffer.<init>(HeapByteBuffer.java:61)\n\tat java.base/java.nio.ByteBuffer.allocate(ByteBuffer.java:348)\n\tat org.apache.spark.sql.execution.SparkPlan.$anonfun$getByteArrayRdd$2(SparkPlan.scala:368)\n\tat org.apache.spark.sql.execution.SparkPlan.$anonfun$getByteArrayRdd$2$adapted(SparkPlan.scala:368)\n\tat org.apache.spark.sql.execution.SparkPlan$$Lambda$2789/0x000000084120a040.apply(Unknown Source)\n\tat org.apache.spark.util.io.ChunkedByteBufferOutputStream.allocateNewChunkIfNeeded(ChunkedByteBufferOutputStream.scala:87)\n\tat org.apache.spark.util.io.ChunkedByteBufferOutputStream.write(ChunkedByteBufferOutputStream.scala:75)\n\tat net.jpountz.lz4.LZ4BlockOutputStream.flushBufferedData(LZ4BlockOutputStream.java:225)\n\tat net.jpountz.lz4.LZ4BlockOutputStream.write(LZ4BlockOutputStream.java:178)\n\tat java.base/java.io.DataOutputStream.write(DataOutputStream.java:107)\n\tat org.apache.spark.sql.catalyst.expressions.UnsafeRow.writeToStream(UnsafeRow.java:519)\n\tat org.apache.spark.sql.execution.SparkPlan.$anonfun$getByteArrayRdd$1(SparkPlan.scala:391)\n\tat org.apache.spark.sql.execution.SparkPlan$$Lambda$2781/0x00000008411fa840.apply(Unknown Source)\n\tat org.apache.spark.rdd.RDD.$anonfun$mapPartitionsInternal$2(RDD.scala:893)\n\tat org.apache.spark.rdd.RDD.$anonfun$mapPartitionsInternal$2$adapted(RDD.scala:893)\n\tat org.apache.spark.rdd.RDD$$Lambda$2776/0x00000008411e7c40.apply(Unknown Source)\n\tat org.apache.spark.rdd.MapPartitionsRDD.compute(MapPartitionsRDD.scala:52)\n\tat org.apache.spark.rdd.RDD.computeOrReadCheckpoint(RDD.scala:367)\n\tat org.apache.spark.rdd.RDD.iterator(RDD.scala:331)\n\tat org.apache.spark.scheduler.ResultTask.runTask(ResultTask.scala:93)\n\tat org.apache.spark.TaskContext.runTaskWithListeners(TaskContext.scala:166)\n\tat org.apache.spark.scheduler.Task.run(Task.scala:141)\n\tat org.apache.spark.executor.Executor$TaskRunner.$anonfun$run$4(Executor.scala:620)\n\tat org.apache.spark.executor.Executor$TaskRunner$$Lambda$2731/0x00000008411b3c40.apply(Unknown Source)\n\tat org.apache.spark.util.SparkErrorUtils.tryWithSafeFinally(SparkErrorUtils.scala:64)\n\tat org.apache.spark.util.SparkErrorUtils.tryWithSafeFinally$(SparkErrorUtils.scala:61)\n\tat org.apache.spark.util.Utils$.tryWithSafeFinally(Utils.scala:94)\n\tat org.apache.spark.executor.Executor$TaskRunner.run(Executor.scala:623)\n\tat java.base/java.util.concurrent.ThreadPoolExecutor.runWorker(ThreadPoolExecutor.java:1128)\n\tat java.base/java.util.concurrent.ThreadPoolExecutor$Worker.run(ThreadPoolExecutor.java:628)\n\t... 1 more\n"
          ]
        }
      ]
    },
    {
      "cell_type": "code",
      "execution_count": null,
      "metadata": {
        "application/vnd.databricks.v1+cell": {
          "cellMetadata": {
            "byteLimit": 2048000,
            "rowLimit": 10000
          },
          "inputWidgets": {},
          "nuid": "15249ff9-4780-437c-81ca-540a69f1e4df",
          "showTitle": false,
          "tableResultSettingsMap": {},
          "title": ""
        },
        "id": "Rg0NbH8YL4FF"
      },
      "outputs": [],
      "source": [
        "# Calcular a matriz de correlação\n",
        "correlation_matrix = df_pandas.corr()\n",
        "\n",
        "# Configurar o tamanho da figura\n",
        "plt.figure(figsize=(15, 10))\n",
        "\n",
        "# Plotar a matriz de correlação usando seaborn\n",
        "sns.heatmap(correlation_matrix, annot=True, fmt=\".2f\", cmap='coolwarm', square=True)\n",
        "\n",
        "# Título do gráfico\n",
        "plt.title('Matriz de Correlação')\n",
        "\n",
        "# Exibir o gráfico\n",
        "plt.show()\n"
      ]
    },
    {
      "cell_type": "code",
      "execution_count": null,
      "metadata": {
        "application/vnd.databricks.v1+cell": {
          "cellMetadata": {
            "byteLimit": 2048000,
            "rowLimit": 10000
          },
          "inputWidgets": {},
          "nuid": "981e137b-421e-4793-a3cb-a38f2f83cce6",
          "showTitle": false,
          "tableResultSettingsMap": {},
          "title": ""
        },
        "id": "HyYglt39L4FF"
      },
      "outputs": [],
      "source": [
        "\n",
        "# Verificar valores nulos em cada coluna\n",
        "null_values = df.select([col(c).isNull().cast(\"int\").alias(c) for c in df.columns]).groupBy().sum()\n",
        "null_values.show()\n",
        "\n",
        "# Verificar número de linhas duplicadas\n",
        "duplicate_count = df.count() - df.dropDuplicates().count()\n",
        "print(f\"Número de linhas duplicadas: {duplicate_count}\")\n"
      ]
    },
    {
      "cell_type": "code",
      "execution_count": null,
      "metadata": {
        "application/vnd.databricks.v1+cell": {
          "cellMetadata": {
            "byteLimit": 2048000,
            "rowLimit": 10000
          },
          "inputWidgets": {},
          "nuid": "8b643cf9-a8ab-4af0-b0f6-0699d070bd4e",
          "showTitle": false,
          "tableResultSettingsMap": {},
          "title": ""
        },
        "id": "U8JFkZPSL4FF"
      },
      "outputs": [],
      "source": [
        "from pyspark.sql import SparkSession\n",
        "from pyspark.sql import functions as F\n",
        "import pandas as pd\n",
        "import plotly.express as px\n",
        "\n",
        "\n",
        "# 1. Filtrar pedidos realizados entre setembro de 2016 e setembro de 2018\n",
        "filtered_orders = orders.filter((F.col(\"order_purchase_timestamp\") >= \"2016-09-04\") &\n",
        "                                 (F.col(\"order_purchase_timestamp\") <= \"2018-09-03\"))\n",
        "\n",
        "# Filtrar pagamentos correspondentes aos pedidos filtrados\n",
        "filtered_order_payments = order_payments.join(filtered_orders, on=\"order_id\", how=\"inner\")\n",
        "\n",
        "# Filtrar avaliações correspondentes aos pedidos filtrados\n",
        "filtered_order_reviews = order_reviews.join(filtered_orders, on=\"order_id\", how=\"inner\")\n",
        "\n",
        "# Filtrar itens correspondentes aos pedidos filtrados\n",
        "filtered_order_items = order_items.join(filtered_orders, on=\"order_id\", how=\"inner\")\n",
        "\n",
        "filtered_orders = filtered_orders.withColumn(\"AnoMes\", F.date_format(\"order_purchase_timestamp\", \"yyyy-MM\"))\n",
        "\n",
        "monthly_data = (\n",
        "    filtered_order_payments.join(filtered_orders, on=\"order_id\", how=\"inner\")\n",
        "    .join(filtered_order_reviews, on=\"order_id\", how=\"inner\")\n",
        "    .join(filtered_order_items, on=\"order_id\", how=\"inner\")\n",
        "    .join(products, on=\"product_id\", how=\"inner\")  # Juntando com a tabela products\n",
        "    .join(product_category_name_translation,\n",
        "          products.product_category_name == product_category_name_translation.product_category_name,\n",
        "          how=\"inner\")\n",
        "    .groupBy(\"AnoMes\", \"product_category_name\")\n",
        "    .agg(F.sum(\"payment_value\").alias(\"total_revenue\"),\n",
        "         F.countDistinct(\"order_id\").alias(\"total_orders\"),\n",
        "         F.avg(\"review_score\").alias(\"media_review_score\"))\n",
        "    .withColumn(\"ticket_medio\", F.col(\"total_revenue\") / F.col(\"total_orders\"))\n",
        "    .select(\"AnoMes\", \"product_category_name\", \"ticket_medio\", \"total_orders\", \"media_review_score\")\n",
        ")\n",
        "\n",
        "# Coletar os dados em um DataFrame do Pandas\n",
        "df_monthly_data = monthly_data.toPandas()\n",
        "\n",
        "# 3. Calcular a variação percentual do ticket médio e da quantidade de pedidos\n",
        "df_monthly_data['var_ticket_medio_percent'] = df_monthly_data['ticket_medio'].pct_change() * 100\n",
        "df_monthly_data['var_total_orders_percent'] = df_monthly_data['total_orders'].pct_change() * 100\n",
        "\n",
        "# Função para adicionar setas indicativas e formatação de variação percentual\n",
        "def add_arrows_and_percent(data):\n",
        "    arrow_data = data.copy()\n",
        "    for i in range(1, data.shape[1]):\n",
        "        for j in range(data.shape[0]):\n",
        "            if data.iloc[j, i] > data.iloc[j, i-1]:\n",
        "                arrow_data.iloc[j, i] = f\"↑ {data.iloc[j, i]:.2f}%\"\n",
        "            elif data.iloc[j, i] < data.iloc[j, i-1]:\n",
        "                arrow_data.iloc[j, i] = f\"↓ {data.iloc[j, i]:.2f}%\"\n",
        "            else:\n",
        "                arrow_data.iloc[j, i] = f\"→ {data.iloc[j, i]:.2f}%\"\n",
        "    return arrow_data\n",
        "\n",
        "# 4. Criar a matriz para a variação percentual do ticket médio\n",
        "df_ticket_pivot = df_monthly_data.pivot(index='product_category_name', columns='AnoMes', values='var_ticket_medio_percent')\n",
        "arrows_ticket = add_arrows_and_percent(df_ticket_pivot)\n",
        "\n",
        "# Criar o gráfico interativo como um mapa de calor para o ticket médio\n",
        "fig_ticket_heatmap = px.imshow(df_ticket_pivot, color_continuous_scale='RdBu_r', aspect='auto')\n",
        "\n",
        "# Adicionar anotações com setas para a variação do ticket médio\n",
        "annotations_ticket = []\n",
        "for i in range(len(df_ticket_pivot.index)):\n",
        "    for j in range(len(df_ticket_pivot.columns)):\n",
        "        value_text = arrows_ticket.iat[i, j]\n",
        "        annotations_ticket.append(dict(\n",
        "            x=df_ticket_pivot.columns[j],\n",
        "            y=df_ticket_pivot.index[i],\n",
        "            text=value_text,\n",
        "            showarrow=False,\n",
        "            font=dict(size=12)\n",
        "        ))\n",
        "\n",
        "fig_ticket_heatmap.update_layout(annotations=annotations_ticket)\n",
        "fig_ticket_heatmap.update_layout(\n",
        "    title=dict(text=\"Variação Percentual do Ticket Médio por Categoria de Produto\", font=dict(size=20)),\n",
        "    xaxis_title='Ano-Mês',\n",
        "    yaxis_title='Categoria do Produto'\n",
        ")\n",
        "\n",
        "fig_ticket_heatmap.show()\n",
        "\n",
        "# 5. Criar a matriz para a variação percentual da quantidade de pedidos\n",
        "df_orders_pivot = df_monthly_data.pivot(index='product_category_name', columns='AnoMes', values='var_total_orders_percent')\n",
        "arrows_orders = add_arrows_and_percent(df_orders_pivot)\n",
        "\n",
        "# Criar o gráfico interativo como um mapa de calor para a quantidade de pedidos\n",
        "fig_orders_heatmap = px.imshow(df_orders_pivot, color_continuous_scale='RdBu_r', aspect='auto')\n",
        "\n",
        "# Adicionar anotações com setas para a variação da quantidade de pedidos\n",
        "annotations_orders = []\n",
        "for i in range(len(df_orders_pivot.index)):\n",
        "    for j in range(len(df_orders_pivot.columns)):\n",
        "        value_text = arrows_orders.iat[i, j]\n",
        "        annotations_orders.append(dict(\n",
        "            x=df_orders_pivot.columns[j],\n",
        "            y=df_orders_pivot.index[i],\n",
        "            text=value_text,\n",
        "            showarrow=False,\n",
        "            font=dict(size=12)\n",
        "        ))\n",
        "\n",
        "fig_orders_heatmap.update_layout(annotations=annotations_orders)\n",
        "fig_orders_heatmap.update_layout(\n",
        "    title=dict(text=\"Variação Percentual da Quantidade de Pedidos por Categoria de Produto\", font=dict(size=20)),\n",
        "    xaxis_title='Ano-Mês',\n",
        "    yaxis_title='Categoria do Produto'\n",
        ")\n",
        "\n",
        "fig_orders_heatmap.show()"
      ]
    },
    {
      "cell_type": "code",
      "execution_count": null,
      "metadata": {
        "application/vnd.databricks.v1+cell": {
          "cellMetadata": {
            "byteLimit": 2048000,
            "rowLimit": 10000
          },
          "inputWidgets": {},
          "nuid": "f7a32944-7be2-4780-9803-ddf5889277b3",
          "showTitle": false,
          "tableResultSettingsMap": {},
          "title": ""
        },
        "id": "pRBjj6upL4FG"
      },
      "outputs": [],
      "source": [
        "from pyspark.sql import functions as F\n",
        "import matplotlib.pyplot as plt\n",
        "\n",
        "# Supondo que o DataFrame de pedidos se chama df_orders\n",
        "# Agrupando por data e contando as vendas\n",
        "vendas_por_data = orders.groupBy(F.to_date(\"order_purchase_timestamp\").alias(\"data\")) \\\n",
        "                            .agg(F.count(\"order_id\").alias(\"quantidade_vendas\")) \\\n",
        "                            .filter((F.to_date(\"data\") >= \"2016-09-04\") & (F.to_date(\"data\") <= \"2018-09-03\")) \\\n",
        "                            .orderBy(\"data\")\n",
        "\n",
        "# Convertendo para Pandas para plotagem\n",
        "vendas_por_data_pd = vendas_por_data.toPandas()\n",
        "\n",
        "# Criando o gráfico de linha\n",
        "plt.figure(figsize=(18, 6))\n",
        "plt.plot(vendas_por_data_pd['data'], vendas_por_data_pd['quantidade_vendas'], marker='o')\n",
        "plt.title('Quantidade de Vendas por Data (2016-09-04 a 2018-09-03)')\n",
        "plt.xlabel('Data')\n",
        "plt.ylabel('Quantidade de Vendas')\n",
        "plt.xticks(rotation=45)\n",
        "plt.grid()\n",
        "plt.tight_layout()\n",
        "plt.show()"
      ]
    },
    {
      "cell_type": "code",
      "execution_count": null,
      "metadata": {
        "application/vnd.databricks.v1+cell": {
          "cellMetadata": {
            "byteLimit": 2048000,
            "rowLimit": 10000
          },
          "inputWidgets": {},
          "nuid": "c6a030b9-4cca-4ce3-8976-4536ccd0b297",
          "showTitle": false,
          "tableResultSettingsMap": {},
          "title": ""
        },
        "id": "thNLkjUEL4FG"
      },
      "outputs": [],
      "source": [
        "# Realizando um join entre os pedidos e os itens do pedido\n",
        "df_joined = orders.join(order_items, on=\"order_id\", how=\"inner\")\n",
        "\n",
        "# Agrupando por data e somando o faturamento\n",
        "faturamento_por_data = df_joined.groupBy(F.to_date(\"order_purchase_timestamp\").alias(\"data\")) \\\n",
        "                                 .agg(F.sum(\"price\").alias(\"faturamento_total\")) \\\n",
        "                                 .filter((F.to_date(\"data\") >= \"2016-09-04\") & (F.to_date(\"data\") <= \"2018-09-03\")) \\\n",
        "                                 .orderBy(\"data\")\n",
        "\n",
        "# Convertendo para Pandas para plotagem\n",
        "faturamento_por_data_pd = faturamento_por_data.toPandas()\n",
        "\n",
        "# Criando o gráfico de linha\n",
        "plt.figure(figsize=(18, 6))\n",
        "plt.plot(faturamento_por_data_pd['data'], faturamento_por_data_pd['faturamento_total'], color='orange', marker='o')\n",
        "plt.title('Faturamento Total por Data (2016-09-04 a 2018-09-03)')\n",
        "plt.xlabel('Data')\n",
        "plt.ylabel('Faturamento Total (R$)')\n",
        "plt.xticks(rotation=45)\n",
        "plt.grid()\n",
        "plt.tight_layout()\n",
        "plt.show()"
      ]
    },
    {
      "cell_type": "code",
      "execution_count": null,
      "metadata": {
        "application/vnd.databricks.v1+cell": {
          "cellMetadata": {
            "byteLimit": 2048000,
            "rowLimit": 10000
          },
          "inputWidgets": {},
          "nuid": "5122ef30-7b60-480f-9a8a-255dba8ed6dc",
          "showTitle": false,
          "tableResultSettingsMap": {},
          "title": ""
        },
        "id": "FdG1ue5PL4FG"
      },
      "outputs": [],
      "source": [
        "# Importando bibliotecas necessárias\n",
        "from pyspark.sql import functions as F\n",
        "import matplotlib.pyplot as plt\n",
        "import seaborn as sns\n",
        "import pyspark.pandas as ps\n",
        "\n",
        "# Juntando as tabelas necessárias\n",
        "merged_df = (order_reviews\n",
        "              .join(orders, \"order_id\")  # Juntando order_reviews com orders\n",
        "              .join(order_items, \"order_id\")  # Juntando com order_items\n",
        "              .join(products, \"product_id\")  # Juntando com products\n",
        "              .join(product_category_name_translation,\n",
        "                     products.product_category_name == product_category_name_translation.product_category_name,\n",
        "                     \"inner\")  # Juntando com product_category_name_translation usando a coluna de categoria\n",
        ")\n",
        "\n",
        "# Convertendo a coluna de data para datetime e extraindo o trimestre\n",
        "merged_df = merged_df.withColumn(\"order_purchase_timestamp\", merged_df[\"order_purchase_timestamp\"].cast(\"timestamp\")) \\\n",
        "                      .withColumn(\"quarter\", (F.month(merged_df[\"order_purchase_timestamp\"]) - 1) / 3 + 1)\n",
        "\n",
        "# Agrupando por categoria e trimestre para calcular a média de satisfação\n",
        "performance_matrix = merged_df.groupBy(\"product_category_name_english\", \"quarter\") \\\n",
        "    .agg(F.avg(\"review_score\").alias(\"average_review_score\"))\n",
        "\n",
        "# Transformando os dados em formato matricial\n",
        "performance_matrix_pivot = performance_matrix.groupBy(\"product_category_name_english\") \\\n",
        "    .pivot(\"quarter\") \\\n",
        "    .agg(F.first(\"average_review_score\")) \\\n",
        "    .na.fill(0)  # Preenchendo valores nulos com zero\n",
        "\n",
        "# Convertendo para Pandas DataFrame para visualização\n",
        "performance_matrix_pd = performance_matrix_pivot.toPandas()\n",
        "\n",
        "# Criar uma matriz intercalada para visualização\n",
        "performance_matrix_intercalated = []\n",
        "for index, row in performance_matrix_pd.iterrows():\n",
        "    intercalated_row = [index]  # Começa com o nome da categoria\n",
        "    for quarter in range(1, 5):\n",
        "        intercalated_row.append(row.get(quarter, 0))  # Adiciona a média ou zero se não existir\n",
        "    performance_matrix_intercalated.append(intercalated_row)\n",
        "\n",
        "# Criar um DataFrame do Pandas para visualização final\n",
        "intercalated_df = pd.DataFrame(performance_matrix_intercalated, columns=[\"Categoria\", \"Q1\", \"Q2\", \"Q3\", \"Q4\"])\n",
        "\n",
        "# Exibindo a matriz intercalada\n",
        "print(intercalated_df)\n",
        "\n",
        "# Plotando a matriz\n",
        "plt.figure(figsize=(12, 6))\n",
        "intercalated_df.set_index('Categoria').plot(kind='bar', ax=plt.gca())\n",
        "plt.title('Média de Satisfação por Categoria ao Longo dos Trimestres')\n",
        "plt.xlabel('Categoria de Produto')\n",
        "plt.ylabel('Média de Satisfação')\n",
        "plt.xticks(rotation=45)\n",
        "plt.legend(title='Trimestre')\n",
        "plt.tight_layout()\n",
        "plt.show()"
      ]
    },
    {
      "cell_type": "code",
      "execution_count": null,
      "metadata": {
        "application/vnd.databricks.v1+cell": {
          "cellMetadata": {
            "byteLimit": 2048000,
            "rowLimit": 10000
          },
          "inputWidgets": {},
          "nuid": "ffdfcdbe-9a1c-4305-adbe-bef8fb9610fc",
          "showTitle": false,
          "tableResultSettingsMap": {},
          "title": ""
        },
        "id": "1GQl4765L4FH"
      },
      "outputs": [],
      "source": [
        "# Verificar valores nulos em cada coluna\n",
        "null_values = df.select([col(c).isNull().cast(\"int\").alias(c) for c in df.columns]).groupBy().sum()\n",
        "\n",
        "# Mostrar os valores nulos de forma mais clara\n",
        "null_values_df = null_values.toPandas().transpose().reset_index()\n",
        "null_values_df.columns = ['Column', 'Null Values']\n",
        "print(null_values_df)\n",
        "\n",
        "# Visualizar os valores nulos\n",
        "import matplotlib.pyplot as plt\n",
        "import seaborn as sns\n",
        "\n",
        "# Configurar o tamanho da figura\n",
        "plt.figure(figsize=(15, 10))\n",
        "\n",
        "# Plotar os valores nulos usando seaborn\n",
        "sns.barplot(x='Null Values', y='Column', data=null_values_df)\n",
        "plt.title('Valores Nulos por Coluna')\n",
        "plt.show()\n"
      ]
    },
    {
      "cell_type": "code",
      "execution_count": null,
      "metadata": {
        "application/vnd.databricks.v1+cell": {
          "cellMetadata": {
            "byteLimit": 2048000,
            "rowLimit": 10000
          },
          "inputWidgets": {},
          "nuid": "72e8c588-4fe7-4521-b6e7-1b666358e06a",
          "showTitle": false,
          "tableResultSettingsMap": {},
          "title": ""
        },
        "id": "X-xUlfLZL4FH"
      },
      "outputs": [],
      "source": [
        "# Definir o caminho do arquivo CSV no Databricks File System (DBFS)\n",
        "output_path = \"/dbfs/tmp/df_output.csv\"\n",
        "\n",
        "# Exportar o DataFrame para CSV\n",
        "df.write.csv(output_path, header=True)\n",
        "\n",
        "print(f\"DataFrame exportado com sucesso para {output_path}\")\n"
      ]
    },
    {
      "cell_type": "code",
      "execution_count": null,
      "metadata": {
        "application/vnd.databricks.v1+cell": {
          "cellMetadata": {
            "byteLimit": 2048000,
            "rowLimit": 10000
          },
          "inputWidgets": {},
          "nuid": "f4c63b50-61ed-4aa9-af2c-6a3dea0c520f",
          "showTitle": false,
          "tableResultSettingsMap": {},
          "title": ""
        },
        "id": "Add1mI5gL4FH"
      },
      "outputs": [],
      "source": [
        "\n",
        "# Salva o DataFrame atualizado em um novo caminho com o mesmo nome ou um novo nome\n",
        "product_category_name_translation.write.mode('overwrite').csv('dbfs:/FileStore/tables/ecommerce/product_category_name_translation_atualizado.csv', header=True)\n",
        "\n",
        "# Verifica o novo arquivo criado\n",
        "display(dbutils.fs.ls('dbfs:/FileStore/tables/ecommerce/'))\n"
      ]
    },
    {
      "cell_type": "code",
      "execution_count": null,
      "metadata": {
        "application/vnd.databricks.v1+cell": {
          "cellMetadata": {
            "byteLimit": 2048000,
            "rowLimit": 10000
          },
          "inputWidgets": {},
          "nuid": "e196232b-3cc2-4c01-ae6d-e31760aa166f",
          "showTitle": false,
          "tableResultSettingsMap": {},
          "title": ""
        },
        "id": "JjEymRUYL4FI"
      },
      "outputs": [],
      "source": [
        "display(dbutils.fs.ls(\"dbfs:/FileStore/tables/ecommerce/\"))"
      ]
    },
    {
      "cell_type": "code",
      "execution_count": null,
      "metadata": {
        "application/vnd.databricks.v1+cell": {
          "cellMetadata": {
            "byteLimit": 2048000,
            "rowLimit": 10000
          },
          "inputWidgets": {},
          "nuid": "bbfbb3bf-f40f-4294-9f84-d365f9beff66",
          "showTitle": false,
          "tableResultSettingsMap": {},
          "title": ""
        },
        "id": "YP0-bW_nL4FI"
      },
      "outputs": [],
      "source": [
        "# Carregar o arquivo CSV atualizado\n",
        "product_category_name_translation_atualizado = spark.read.csv('dbfs:/FileStore/tables/ecommerce/product_category_name_translation_atualizado.csv', header=True, inferSchema=True)\n",
        "# Exibir as primeiras linhas do DataFrame atualizado\n",
        "product_category_name_translation_atualizado.show()\n"
      ]
    },
    {
      "cell_type": "code",
      "execution_count": null,
      "metadata": {
        "application/vnd.databricks.v1+cell": {
          "cellMetadata": {
            "byteLimit": 2048000,
            "rowLimit": 10000
          },
          "inputWidgets": {},
          "nuid": "3121078e-8256-4435-85f7-c41f40cb7363",
          "showTitle": false,
          "tableResultSettingsMap": {},
          "title": ""
        },
        "id": "LcGsirMaL4FI"
      },
      "outputs": [],
      "source": [
        "# Salva o DataFrame atualizado em um novo diretório no DBFS\n",
        "product_category_name_translation.write.mode('overwrite').option('header', True).csv('dbfs:/FileStore/shared_uploads/product_category_name_translation_atualizado')\n",
        "\n",
        "# Gerar link de download para o primeiro arquivo CSV particionado\n",
        "files = dbutils.fs.ls('dbfs:/FileStore/shared_uploads/product_category_name_translation_atualizado')\n",
        "for file in files:\n",
        "    if file.path.endswith(\".csv\"):\n",
        "        download_link = file.path.replace('dbfs:/', '/files/')\n",
        "        break\n",
        "displayHTML(f\"<a href='{download_link}' download>Baixar Arquivo Atualizado</a>\")\n"
      ]
    },
    {
      "cell_type": "code",
      "execution_count": null,
      "metadata": {
        "application/vnd.databricks.v1+cell": {
          "cellMetadata": {
            "byteLimit": 2048000,
            "rowLimit": 10000
          },
          "inputWidgets": {},
          "nuid": "7364907d-41ef-4c2c-91fc-c85639cd9656",
          "showTitle": false,
          "tableResultSettingsMap": {},
          "title": ""
        },
        "id": "QQkwMxxeL4FJ"
      },
      "outputs": [],
      "source": [
        "print(\"Arquivos gerados:\")\n",
        "display(dbutils.fs.ls(\"dbfs:/FileStore/tables/ecommerce/\"))"
      ]
    },
    {
      "cell_type": "code",
      "execution_count": null,
      "metadata": {
        "application/vnd.databricks.v1+cell": {
          "cellMetadata": {
            "byteLimit": 2048000,
            "rowLimit": 10000
          },
          "inputWidgets": {},
          "nuid": "536a0229-c669-4e6c-b7a5-c2724b797c8e",
          "showTitle": false,
          "tableResultSettingsMap": {},
          "title": ""
        },
        "id": "aiGcQ8W4L4FJ"
      },
      "outputs": [],
      "source": [
        "print(\"Arquivos gerados:\")\n",
        "display(dbutils.fs.ls(\"dbfs:/FileStore/tables/ecommerce/\"))"
      ]
    }
  ],
  "metadata": {
    "application/vnd.databricks.v1+notebook": {
      "dashboards": [
        {
          "elements": [
            {
              "dashboardResultIndex": 0,
              "elementNUID": "cca727c0-a751-47d6-b895-aece4d65089a",
              "elementType": "command",
              "guid": "7766391e-537f-46ed-bc26-d2d29d07b8f4",
              "options": null,
              "position": {
                "height": 6,
                "width": 22,
                "x": 0,
                "y": 5,
                "z": null
              },
              "resultIndex": null
            },
            {
              "dashboardResultIndex": 0,
              "elementNUID": "89f35aed-c7b0-47eb-bdc9-e703c41fd35f",
              "elementType": "command",
              "guid": "9150fac0-97d0-44a1-8c5a-7d4459c4c368",
              "options": null,
              "position": {
                "height": 5,
                "width": 17,
                "x": 0,
                "y": 0,
                "z": null
              },
              "resultIndex": null
            }
          ],
          "globalVars": {},
          "guid": "",
          "layoutOption": {
            "grid": true,
            "stack": true
          },
          "nuid": "2d7c5df8-75a8-4c8b-81bd-256ffb0c0956",
          "origId": 3336233383555769,
          "title": "E-commerce",
          "version": "DashboardViewV1",
          "width": 1024
        },
        {
          "elements": [
            {
              "dashboardResultIndex": 0,
              "elementNUID": "89f35aed-c7b0-47eb-bdc9-e703c41fd35f",
              "elementType": "command",
              "guid": "19bc9156-8865-4af3-991d-4704bf7aaaf9",
              "options": null,
              "position": {
                "height": 6,
                "width": 12,
                "x": 0,
                "y": 54,
                "z": null
              },
              "resultIndex": null
            }
          ],
          "globalVars": {},
          "guid": "",
          "layoutOption": {
            "grid": true,
            "stack": true
          },
          "nuid": "ae309597-f2e2-45ca-93ae-80b4ceb64182",
          "origId": 4313604493999701,
          "title": "Untitled",
          "version": "DashboardViewV1",
          "width": 1024
        }
      ],
      "environmentMetadata": null,
      "language": "python",
      "notebookMetadata": {
        "mostRecentlyExecutedCommandWithImplicitDF": {
          "commandId": -1,
          "dataframes": [
            "_sqldf"
          ]
        },
        "pythonIndentUnit": 4
      },
      "notebookName": "AnaliseAnalise... 2024-11-04 13:40:59",
      "widgets": {}
    },
    "colab": {
      "provenance": [],
      "include_colab_link": true
    },
    "language_info": {
      "name": "python"
    },
    "kernelspec": {
      "name": "python3",
      "display_name": "Python 3"
    }
  },
  "nbformat": 4,
  "nbformat_minor": 0
}