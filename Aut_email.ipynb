{
  "nbformat": 4,
  "nbformat_minor": 0,
  "metadata": {
    "colab": {
      "provenance": [],
      "authorship_tag": "ABX9TyP6cOF0yD532mtPH4uQ9+KY",
      "include_colab_link": true
    },
    "kernelspec": {
      "name": "python3",
      "display_name": "Python 3"
    },
    "language_info": {
      "name": "python"
    }
  },
  "cells": [
    {
      "cell_type": "markdown",
      "metadata": {
        "id": "view-in-github",
        "colab_type": "text"
      },
      "source": [
        "<a href=\"https://colab.research.google.com/github/KoreTane/interesting/blob/main/Aut_email.ipynb\" target=\"_parent\"><img src=\"https://colab.research.google.com/assets/colab-badge.svg\" alt=\"Open In Colab\"/></a>"
      ]
    },
    {
      "cell_type": "code",
      "execution_count": null,
      "metadata": {
        "id": "rn_patziCwFL"
      },
      "outputs": [],
      "source": [
        "import os\n",
        "import PyPDF2\n",
        "import win32com.client as win32\n",
        "\n",
        "### Função para enviar o e-mail\n",
        "def enviar_email(arquivo):\n",
        "    outlook = win32.Dispatch('outlook.application')\n",
        "    mail = outlook.CreateItem(0)\n",
        "\n",
        "    mail.To = \"koretane@gmail.com\"  # Substitua pelo e-mail do destinatário\n",
        "    mail.Subject = \"Aviso de PDF Pronto\"\n",
        "    mail.Body = f\"O arquivo '{arquivo}' está pronto.\"\n",
        "\n",
        "    try:\n",
        "        mail.Send()\n",
        "        print(f\"E-mail enviado sobre o arquivo '{arquivo}' com sucesso.\")\n",
        "    except Exception as e:\n",
        "        print(f\"Ocorreu um erro ao enviar o e-mail: {e}\")\n",
        "\n",
        "# Caminho do diretório onde os PDFs estão armazenados\n",
        "diretorio_pdf = r\"C:\\Users\\Public\\PDF\"  # Ajuste conforme necessário\n",
        "\n",
        "try:\n",
        "    for arquivo in os.listdir(diretorio_pdf):\n",
        "        if arquivo.endswith(\".pdf\"):\n",
        "            caminho_pdf = os.path.join(diretorio_pdf, arquivo)\n",
        "            print(f\"Lendo o arquivo: {arquivo}\")\n",
        "            try:\n",
        "                with open(caminho_pdf, 'rb') as file:\n",
        "                    reader = PyPDF2.PdfReader(file)\n",
        "                    encontrado = False\n",
        "                    for pagina in reader.pages:\n",
        "                        texto = pagina.extract_text()\n",
        "                        if texto and 'pronto' in texto.lower():\n",
        "                            print(f\"O arquivo '{arquivo}' está pronto.\")\n",
        "                            enviar_email(arquivo)  # Envia o e-mail se encontrado\n",
        "                            encontrado = True\n",
        "                            break\n",
        "\n",
        "                    if not encontrado:\n",
        "                        print(f\"A palavra 'Pronto' não foi encontrada no arquivo '{arquivo}'.\")\n",
        "\n",
        "            except Exception as e:\n",
        "                print(f\"Erro ao ler o PDF '{arquivo}': {e}\")\n",
        "except FileNotFoundError:\n",
        "    print(f\"Erro: O diretório '{diretorio_pdf}' não foi encontrado.\")\n",
        "except Exception as e:\n",
        "    print(f\"Ocorreu um erro: {e}\")"
      ]
    }
  ]
}