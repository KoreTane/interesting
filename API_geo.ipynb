<!DOCTYPE html>
<html lang="pt-BR">
<head>
    <meta charset="UTF-8">
    <meta name="viewport" content="width=device-width, initial-scale=1.0">
    <title>Geocodificação com OpenStreetMap API</title>
    <style>
        body {
            font-family: -apple-system, BlinkMacSystemFont, "Segoe UI", Roboto, Helvetica, Arial, sans-serif;
            line-height: 1.6;
            color: #24292e;
            max-width: 800px;
            margin: 0 auto;
            padding: 20px;
        }
        h1, h2 {
            border-bottom: 1px solid #eaecef;
            padding-bottom: 0.3em;
        }
        code {
            background-color: rgba(27, 31, 35, 0.05);
            border-radius: 3px;
            padding: 0.2em 0.4em;
            font-family: SFMono-Regular, Consolas, "Liberation Mono", Menlo, monospace;
        }
        pre {
            background-color: #f6f8fa;
            border-radius: 3px;
            padding: 16px;
            overflow: auto;
        }
        .highlight {
            background-color: #fff8c5;
            padding: 0.2em;
        }
    </style>
</head>
<body>
    <h1>Geocodificação com OpenStreetMap API</h1>
    
    <p>Script Python para conversão de endereços em coordenadas geográficas (latitude/longitude) utilizando a API Nominatim do OpenStreetMap.</p>

    <h2>Requisitos</h2>
    <ul>
        <li>Python 3.6+</li>
        <li>Bibliotecas: <code>pandas</code>, <code>requests</code></li>
        <li>Arquivo CSV com coluna <code>endereco_completo</code> no formato "Rua, Número, Cidade, UF"</li>
    </ul>

    <h2>Instalação</h2>
    <pre><code>pip install pandas requests</code></pre>

    <h2>Funcionamento</h2>
    <ol>
        <li>Leitura do arquivo CSV contendo os endereços</li>
        <li>Consulta à API Nominatim em lotes (15 partes)</li>
        <li>Processamento em duas etapas:
            <ul>
                <li>Busca do OSM Type e OSM ID</li>
                <li>Obtenção das coordenadas geográficas</li>
            </ul>
        </li>
        <li>Geração de arquivos Excel com os resultados</li>
    </ol>

    <h2>Configuração Importante</h2>
    <p class="highlight">Substitua <code>koretane@gmail.com</code> por um User-Agent válido no código fonte.</p>

    <h2>Limitações</h2>
    <ul>
        <li>Respeitar os limites de requisições da API Nominatim</li>
        <li>Não fazer requisições em alta frequência</li>
        <li>Processamento pode demorar para grandes volumes de dados</li>
    </ul>

    <h2>Saída</h2>
    <p>Arquivos Excel separados contendo:
    <code>logradouro, numero, cidade, uf, latitude, longitude</code></p>

    <h2>Observações</h2>
    <p>Para uso em produção, considere implementar:</p>
    <ul>
        <li>Tratamento de erros mais robusto</li>
        <li>Cache das consultas</li>
        <li>Limitação automática de requisições</li>
    </ul>
</body>
</html>

{
 "cells": [
  {
   "cell_type": "code",
   "execution_count": null,
   "id": "bcb2eff5-0b8d-462a-80ce-bcc4caf66420",
   "metadata": {},
   "outputs": [
    {
     "name": "stdout",
     "output_type": "stream",
     "text": [
      "Arquivo C:\\Users\\Public\\clientes_geocoded_part_1.xlsx já existe. Pulando para a próxima parte.\n",
      "Arquivo C:\\Users\\Public\\clientes_geocoded_part_2.xlsx já existe. Pulando para a próxima parte.\n",
      "Arquivo C:\\Users\\Public\\clientes_geocoded_part_3.xlsx já existe. Pulando para a próxima parte.\n",
      "Arquivo C:\\Users\\Public\\clientes_geocoded_part_4.xlsx já existe. Pulando para a próxima parte.\n"
     ]
    }
   ],
   "source": [
    "import pandas as pd\n",
    "import requests\n",
    "import os\n",
    "\n",
    "# Função para buscar o tipo e ID do OSM\n",
    "def search_address(address):\n",
    "    base_url = \"https://nominatim.openstreetmap.org/search\"\n",
    "    params = {\n",
    "        \"q\": address,\n",
    "        \"format\": \"json\",\n",
    "        \"limit\": 1\n",
    "    }\n",
    "    headers = {\n",
    "        \"User-Agent\": \"MyGeocodeApp/1.0 (koretane@gmail.com)\"  # Substitua pelo seu email ou informações de contato\n",
    "    }\n",
    "    response = requests.get(base_url, params=params, headers=headers)\n",
    "    if response.status_code == 200:\n",
    "        data = response.json()\n",
    "        if data:\n",
    "            location = data[0]\n",
    "            return location.get('osm_type'), location.get('osm_id')\n",
    "        else:\n",
    "            return None, None\n",
    "    else:\n",
    "        return None, None\n",
    "\n",
    "# Função para obter os detalhes do OSM\n",
    "def get_details(osm_type, osm_id):\n",
    "    details_url = f\"https://nominatim.openstreetmap.org/details.php?osmtype={osm_type[0].upper()}&osmid={osm_id}&format=json\"\n",
    "    headers = {\n",
    "        \"User-Agent\": \"MyGeocodeApp/1.0 (koretane@gmail.com)\"  # Substitua pelo seu email ou informações de contato\n",
    "    }\n",
    "    response = requests.get(details_url, headers=headers)\n",
    "    if response.status_code == 200:\n",
    "        details_data = response.json()\n",
    "        centre_point = details_data.get('centroid', {}).get('coordinates', [None, None])\n",
    "        return centre_point[1], centre_point[0]  # Invertendo para lat, lon\n",
    "    else:\n",
    "        return None, None\n",
    "\n",
    "# Caminho do arquivo CSV\n",
    "file_path = r'C:\\Users\\Public\\clientes.csv'\n",
    "\n",
    "# Ler o arquivo CSV\n",
    "df = pd.read_csv(file_path, sep=';')\n",
    "\n",
    "# Lista de endereços\n",
    "addresses = df['endereco_completo'].tolist()\n",
    "\n",
    "# Dividir a lista de endereços em 15 partes\n",
    "chunks = [addresses[i::15] for i in range(15)]\n",
    "\n",
    "# Processar cada parte e salvar em arquivos Excel separados\n",
    "for i, chunk in enumerate(chunks):\n",
    "    output_file_path = os.path.join(r'C:\\Users\\Public', f'clientes_geocoded_part_{i+1}.xlsx')\n",
    "    \n",
    "    # Verificar se o arquivo já existe e pular se existir\n",
    "    if os.path.exists(output_file_path):\n",
    "        print(f\"Arquivo {output_file_path} já existe. Pulando para a próxima parte.\")\n",
    "        continue\n",
    "    \n",
    "    results = []\n",
    "    for address in chunk:\n",
    "        osm_type, osm_id = search_address(address)\n",
    "        if osm_type and osm_id:\n",
    "            latitude, longitude = get_details(osm_type, osm_id)\n",
    "            results.append((address, latitude, longitude))\n",
    "        else:\n",
    "            results.append((address, None, None))\n",
    "\n",
    "    # Criar DataFrame com os resultados\n",
    "    df_results = pd.DataFrame(results, columns=['endereco_completo', 'latitude', 'longitude'])\n",
    "\n",
    "    # Separar as colunas de endereço completo em logradouro, número, cidade e uf\n",
    "    df_results[['logradouro', 'numero', 'cidade', 'uf']] = df_results['endereco_completo'].str.split(',', expand=True, n=3)\n",
    "\n",
    "    # Reordenar as colunas\n",
    "    df_results = df_results[['logradouro', 'numero', 'cidade', 'uf', 'latitude', 'longitude']]\n",
    "\n",
    "    # Salvar o DataFrame em um arquivo Excel formatado\n",
    "    df_results.to_excel(output_file_path, index=False)\n",
    "\n",
    "print(\"Arquivos Excel salvos com sucesso.\")"
   ]
  },
  {
   "cell_type": "code",
   "execution_count": null,
   "id": "53cb6800-7a9f-4a26-b429-caffc6283157",
   "metadata": {},
   "outputs": [],
   "source": []
  }
 ],
 "metadata": {
  "kernelspec": {
   "display_name": "Python 3 (ipykernel)",
   "language": "python",
   "name": "python3"
  },
  "language_info": {
   "codemirror_mode": {
    "name": "ipython",
    "version": 3
   },
   "file_extension": ".py",
   "mimetype": "text/x-python",
   "name": "python",
   "nbconvert_exporter": "python",
   "pygments_lexer": "ipython3",
   "version": "3.12.4"
  }
 },
 "nbformat": 4,
 "nbformat_minor": 5
}
