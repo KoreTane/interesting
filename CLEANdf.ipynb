{
  "nbformat": 4,
  "nbformat_minor": 0,
  "metadata": {
    "colab": {
      "provenance": [],
      "authorship_tag": "ABX9TyNT2RfSDAiQPx45Rmltalli",
      "include_colab_link": true
    },
    "kernelspec": {
      "name": "python3",
      "display_name": "Python 3"
    },
    "language_info": {
      "name": "python"
    }
  },
  "cells": [
    {
      "cell_type": "markdown",
      "metadata": {
        "id": "view-in-github",
        "colab_type": "text"
      },
      "source": [
        "<a href=\"https://colab.research.google.com/github/KoreTane/interesting/blob/main/CLEANdf.ipynb\" target=\"_parent\"><img src=\"https://colab.research.google.com/assets/colab-badge.svg\" alt=\"Open In Colab\"/></a>"
      ]
    },
    {
      "cell_type": "code",
      "execution_count": null,
      "metadata": {
        "id": "7KSGsa4wwc73"
      },
      "outputs": [],
      "source": [
        "import pandas as pd\n",
        "import random\n",
        "import string\n",
        "\n",
        "# Passo 1: Carregar o arquivo CSV\n",
        "df = pd.read_csv('orderreviews.csv')\n",
        "\n",
        "# Passo 2: Definir uma função para gerar uma sequência aleatória de 5 caracteres\n",
        "def gerar_sequencia_aleatoria():\n",
        "    return ''.join(random.choices(string.ascii_letters + string.digits, k=5))\n",
        "\n",
        "# Passo 3: Aplicar a função à coluna 'review_comment_message'\n",
        "df['review_comment_message'] = df['review_comment_message'].apply(lambda x: gerar_sequencia_aleatoria() if pd.notnull(x) and x != '' else '')\n",
        "\n",
        "df.to_csv('orderreviews_limpo.csv', index=False)"
      ]
    }
  ]
}